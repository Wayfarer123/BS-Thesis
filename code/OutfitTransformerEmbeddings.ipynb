{
 "cells": [
  {
   "cell_type": "code",
   "execution_count": 1,
   "id": "22188e6a-cc89-4df3-986b-ccd49cb7f036",
   "metadata": {},
   "outputs": [],
   "source": [
    "import torch\n",
    "from PIL import Image\n",
    "from tqdm.auto import tqdm\n",
    "import numpy as np\n",
    "import os\n",
    "from matplotlib import pyplot as plt\n",
    "import seaborn as sns\n",
    "sns.set_style(\"darkgrid\")\n",
    "device = \"cuda\" if torch.cuda.is_available() else \"cpu\""
   ]
  },
  {
   "cell_type": "code",
   "execution_count": 2,
   "id": "42bbc119-d0ab-4133-94bd-085317b1823a",
   "metadata": {},
   "outputs": [],
   "source": [
    "import json\n",
    "\n",
    "data_dir = \"data/polyvore/\"\n",
    "out_dir = \"data/Re-PolyVore/all_together/\"\n",
    "with open(f\"{data_dir}train_no_dup.json\", \"r\", encoding=\"utf-8\") as f:\n",
    "    outfits = json.load(f)"
   ]
  },
  {
   "cell_type": "code",
   "execution_count": 3,
   "id": "feebc2b1-010f-4d3d-bddb-d4366b587901",
   "metadata": {},
   "outputs": [
    {
     "data": {
      "application/vnd.jupyter.widget-view+json": {
       "model_id": "dbcf6b35922348a686be4e78dd7acf3f",
       "version_major": 2,
       "version_minor": 0
      },
      "text/plain": [
       "  0%|          | 0/126928 [00:00<?, ?it/s]"
      ]
     },
     "metadata": {},
     "output_type": "display_data"
    }
   ],
   "source": [
    "outfits_dict = {}\n",
    "for i in range(len(outfits)):\n",
    "    outfits_dict.update({outfits[i][\"set_id\"]: {\"ind\": i}})\n",
    "\n",
    "\n",
    "for item in tqdm(os.listdir(out_dir)):\n",
    "    try:\n",
    "        outfit, suff = item.split(\"_\", 1)\n",
    "        num = int(suff.split(\".\")[0])\n",
    "        if outfits_dict.get(outfit) is not None:\n",
    "            item_dict = outfits[outfits_dict[outfit][\"ind\"]][\"items\"][num-1]\n",
    "            if outfits_dict[outfit].get(\"items\") is None:\n",
    "                outfits_dict[outfit].update({\"items\": [item_dict | {\"path\": out_dir+item}]})\n",
    "            else:\n",
    "                outfits_dict[outfit][\"items\"].append(item_dict | {\"path\": out_dir+item})\n",
    "    except: continue"
   ]
  },
  {
   "cell_type": "code",
   "execution_count": 4,
   "id": "85dfd5b5-355d-47bc-9595-ebeab4dbb0b1",
   "metadata": {},
   "outputs": [],
   "source": [
    "# with open(\"data/Re-PolyVore_encoded_with_OutfitTransformer.json\", \"w\", encoding=\"utf-8\") as f:\n",
    "#     json.dump(outfits_dict, f, indent=4)"
   ]
  },
  {
   "cell_type": "code",
   "execution_count": 5,
   "id": "4633d1c1-8d9c-4632-af3d-49f87c23e96d",
   "metadata": {},
   "outputs": [],
   "source": [
    "weights_path = \"OutfitTransformer/checkpoints/2_0.923.pth\"\n",
    "outfit_transformer_weights = torch.load(weights_path)"
   ]
  },
  {
   "cell_type": "code",
   "execution_count": 6,
   "id": "b1742015-620b-4995-95dd-42e063bcc831",
   "metadata": {},
   "outputs": [
    {
     "name": "stderr",
     "output_type": "stream",
     "text": [
      "C:\\Users\\Nikita\\anaconda3\\envs\\DL\\lib\\site-packages\\torchvision\\models\\_utils.py:208: UserWarning: The parameter 'pretrained' is deprecated since 0.13 and may be removed in the future, please use 'weights' instead.\n",
      "  warnings.warn(\n",
      "C:\\Users\\Nikita\\anaconda3\\envs\\DL\\lib\\site-packages\\torchvision\\models\\_utils.py:223: UserWarning: Arguments other than a weight enum or `None` for 'weights' are deprecated since 0.13 and may be removed in the future. The current behavior is equivalent to passing `weights=ResNet18_Weights.IMAGENET1K_V1`. You can also use `weights=ResNet18_Weights.DEFAULT` to get the most up-to-date weights.\n",
      "  warnings.warn(msg)\n"
     ]
    }
   ],
   "source": [
    "from OutfitTransformer.model.encoder import ItemEncoder\n",
    "from OutfitTransformer.model.model import OutfitTransformer\n",
    "from transformers import AutoTokenizer\n",
    "\n",
    "model = ItemEncoder(embedding_dim=128).to(device)\n",
    "model.load_state_dict(outfit_transformer_weights['encoder_state_dict'])\n",
    "tokenizer = AutoTokenizer.from_pretrained('sentence-transformers/paraphrase-albert-small-v2')"
   ]
  },
  {
   "cell_type": "code",
   "execution_count": 7,
   "id": "b9502880-be49-4b68-820b-3e340a76b2af",
   "metadata": {},
   "outputs": [],
   "source": [
    "with open(\"data/Re-PolyVore_encoded_with_OutfitTransformer.json\", \"r\", encoding=\"utf-8\") as f:\n",
    "    outfits_dict = json.load(f)"
   ]
  },
  {
   "cell_type": "code",
   "execution_count": 8,
   "id": "89868887-da72-47eb-bd9b-53d87a87a346",
   "metadata": {},
   "outputs": [
    {
     "data": {
      "application/vnd.jupyter.widget-view+json": {
       "model_id": "fb6e8052ea03423186318131575b2c91",
       "version_major": 2,
       "version_minor": 0
      },
      "text/plain": [
       "  0%|          | 0/17316 [00:00<?, ?it/s]"
      ]
     },
     "metadata": {},
     "output_type": "display_data"
    }
   ],
   "source": [
    "import albumentations as A\n",
    "from albumentations.pytorch import ToTensorV2\n",
    "import cv2\n",
    "img_size = 224\n",
    "\n",
    "def load_img(path):\n",
    "    transform = A.Compose([A.Resize(img_size, img_size),\n",
    "                           A.Normalize(),\n",
    "                           ToTensorV2()])\n",
    "    \n",
    "    img = cv2.imread(path)\n",
    "    img = cv2.cvtColor(img, cv2.COLOR_BGR2RGB)\n",
    "    img = transform(image=img)['image']\n",
    "    return img\n",
    "\n",
    "\n",
    "model.eval()\n",
    "with torch.no_grad(): \n",
    "    \n",
    "    # with open(\"data/Re-PolyVore_encoded_with_OutfitTransformer.json\", \"r\", encoding=\"utf-8\") as f:\n",
    "    #     outfits_dict = json.load(f)\n",
    "        \n",
    "    for ind, (id, outfit) in enumerate(tqdm(outfits_dict.items())):\n",
    "        if outfit.get(\"processed\") is None:\n",
    "            if outfit.get(\"items\") is not None:\n",
    "                batch_size = len(outfit[\"items\"])\n",
    "                \n",
    "                img_paths = [item[\"path\"] for item in outfit[\"items\"]]\n",
    "                images = torch.stack([load_img(path) for path in img_paths], 0)\n",
    "\n",
    "                input_ids, _, attention_mask, *_ = tokenizer([item['name'] for item in outfit[\"items\"]], \n",
    "                                      max_length=16, \n",
    "                                      padding='max_length', \n",
    "                                      truncation=True, \n",
    "                                      return_tensors='pt').values()\n",
    "                embeds = model(images.to(device), input_ids.to(device), attention_mask.to(device))\n",
    "                \n",
    "                for item, e in zip(outfit[\"items\"], embeds):\n",
    "                    item[\"embedding\"] = e.cpu().tolist()\n",
    "                    \n",
    "                outfit[\"processed\"] = \"True\"\n",
    "                \n",
    "        if (ind + 1) % 500 == 0:  \n",
    "            with open(\"data/Re-PolyVore_encoded_with_OutfitTransformer.json\", \"w\", encoding=\"utf-8\") as f:\n",
    "                json.dump(outfits_dict, f, indent=4)\n",
    "                \n",
    "    with open(\"data/Re-PolyVore_encoded_with_OutfitTransformer.json\", \"w\", encoding=\"utf-8\") as f:\n",
    "        json.dump(outfits_dict, f, indent=4)"
   ]
  },
  {
   "cell_type": "code",
   "execution_count": null,
   "id": "973f75ca-c8cd-4999-b344-ab3e19062d73",
   "metadata": {},
   "outputs": [],
   "source": []
  }
 ],
 "metadata": {
  "kernelspec": {
   "display_name": "Python 3 (ipykernel)",
   "language": "python",
   "name": "python3"
  },
  "language_info": {
   "codemirror_mode": {
    "name": "ipython",
    "version": 3
   },
   "file_extension": ".py",
   "mimetype": "text/x-python",
   "name": "python",
   "nbconvert_exporter": "python",
   "pygments_lexer": "ipython3",
   "version": "3.10.13"
  },
  "widgets": {
   "application/vnd.jupyter.widget-state+json": {
    "state": {
     "106e155030ae4179a3067dc51858b1b5": {
      "model_module": "@jupyter-widgets/base",
      "model_module_version": "2.0.0",
      "model_name": "LayoutModel",
      "state": {}
     },
     "11f0556b4f94458b81100987a01e1c82": {
      "model_module": "@jupyter-widgets/base",
      "model_module_version": "2.0.0",
      "model_name": "LayoutModel",
      "state": {}
     },
     "1eca3c0deb114319b1ef18cc008a782a": {
      "model_module": "@jupyter-widgets/base",
      "model_module_version": "2.0.0",
      "model_name": "LayoutModel",
      "state": {}
     },
     "20977322fa6f4dd0a8c792e77a168c80": {
      "model_module": "@jupyter-widgets/controls",
      "model_module_version": "2.0.0",
      "model_name": "HTMLModel",
      "state": {
       "layout": "IPY_MODEL_ed671b395c5d4d2a93466b495a134499",
       "style": "IPY_MODEL_e731047ea09c46e4aa5f2bc5d0800cf0",
       "value": " 17316/17316 [10:44&lt;00:00, 26.44it/s]"
      }
     },
     "35f14cdcc3c1497b8b3d989b5f3cf5f5": {
      "model_module": "@jupyter-widgets/controls",
      "model_module_version": "2.0.0",
      "model_name": "HTMLStyleModel",
      "state": {
       "description_width": "",
       "font_size": null,
       "text_color": null
      }
     },
     "3f1438ee648d4faf9af65c526e602d14": {
      "model_module": "@jupyter-widgets/base",
      "model_module_version": "2.0.0",
      "model_name": "LayoutModel",
      "state": {}
     },
     "41f4db3f28b542af9f60941c99c25013": {
      "model_module": "@jupyter-widgets/base",
      "model_module_version": "2.0.0",
      "model_name": "LayoutModel",
      "state": {}
     },
     "45cd261c3fbc4fc4b7f88536d6b70e82": {
      "model_module": "@jupyter-widgets/controls",
      "model_module_version": "2.0.0",
      "model_name": "ProgressStyleModel",
      "state": {
       "description_width": ""
      }
     },
     "488541bd834d4c1786b2da163f181fb2": {
      "model_module": "@jupyter-widgets/controls",
      "model_module_version": "2.0.0",
      "model_name": "FloatProgressModel",
      "state": {
       "bar_style": "success",
       "layout": "IPY_MODEL_106e155030ae4179a3067dc51858b1b5",
       "max": 17316,
       "style": "IPY_MODEL_45cd261c3fbc4fc4b7f88536d6b70e82",
       "value": 17316
      }
     },
     "66fbd537311d4b2bab70c2d2ae579ef2": {
      "model_module": "@jupyter-widgets/controls",
      "model_module_version": "2.0.0",
      "model_name": "HTMLModel",
      "state": {
       "layout": "IPY_MODEL_abdd0587f2ef41c8a3c8f287e0247546",
       "style": "IPY_MODEL_35f14cdcc3c1497b8b3d989b5f3cf5f5",
       "value": "100%"
      }
     },
     "7593d8ffc71d47b2aa6f62ca8171e6bb": {
      "model_module": "@jupyter-widgets/controls",
      "model_module_version": "2.0.0",
      "model_name": "HTMLModel",
      "state": {
       "layout": "IPY_MODEL_41f4db3f28b542af9f60941c99c25013",
       "style": "IPY_MODEL_ead10e9a41234015a4fe9ad4410e8908",
       "value": " 126928/126928 [00:00&lt;00:00, 401084.12it/s]"
      }
     },
     "abdd0587f2ef41c8a3c8f287e0247546": {
      "model_module": "@jupyter-widgets/base",
      "model_module_version": "2.0.0",
      "model_name": "LayoutModel",
      "state": {}
     },
     "ad810eaadda84de8b6a9d6c899dc505d": {
      "model_module": "@jupyter-widgets/controls",
      "model_module_version": "2.0.0",
      "model_name": "ProgressStyleModel",
      "state": {
       "description_width": ""
      }
     },
     "b9a08ea501b04fae9997eac2b9c2bf4b": {
      "model_module": "@jupyter-widgets/controls",
      "model_module_version": "2.0.0",
      "model_name": "HTMLModel",
      "state": {
       "layout": "IPY_MODEL_1eca3c0deb114319b1ef18cc008a782a",
       "style": "IPY_MODEL_fa43dba5dfac4c039bf9fc57303de46b",
       "value": "100%"
      }
     },
     "d6d7e2f2e23f4fe1801d3bf1365b26e6": {
      "model_module": "@jupyter-widgets/base",
      "model_module_version": "2.0.0",
      "model_name": "LayoutModel",
      "state": {}
     },
     "d9c3d966e9de47a4baa196db906be33b": {
      "model_module": "@jupyter-widgets/controls",
      "model_module_version": "2.0.0",
      "model_name": "FloatProgressModel",
      "state": {
       "bar_style": "success",
       "layout": "IPY_MODEL_d6d7e2f2e23f4fe1801d3bf1365b26e6",
       "max": 126928,
       "style": "IPY_MODEL_ad810eaadda84de8b6a9d6c899dc505d",
       "value": 126928
      }
     },
     "dbcf6b35922348a686be4e78dd7acf3f": {
      "model_module": "@jupyter-widgets/controls",
      "model_module_version": "2.0.0",
      "model_name": "HBoxModel",
      "state": {
       "children": [
        "IPY_MODEL_66fbd537311d4b2bab70c2d2ae579ef2",
        "IPY_MODEL_d9c3d966e9de47a4baa196db906be33b",
        "IPY_MODEL_7593d8ffc71d47b2aa6f62ca8171e6bb"
       ],
       "layout": "IPY_MODEL_11f0556b4f94458b81100987a01e1c82"
      }
     },
     "e731047ea09c46e4aa5f2bc5d0800cf0": {
      "model_module": "@jupyter-widgets/controls",
      "model_module_version": "2.0.0",
      "model_name": "HTMLStyleModel",
      "state": {
       "description_width": "",
       "font_size": null,
       "text_color": null
      }
     },
     "ead10e9a41234015a4fe9ad4410e8908": {
      "model_module": "@jupyter-widgets/controls",
      "model_module_version": "2.0.0",
      "model_name": "HTMLStyleModel",
      "state": {
       "description_width": "",
       "font_size": null,
       "text_color": null
      }
     },
     "ed671b395c5d4d2a93466b495a134499": {
      "model_module": "@jupyter-widgets/base",
      "model_module_version": "2.0.0",
      "model_name": "LayoutModel",
      "state": {}
     },
     "fa43dba5dfac4c039bf9fc57303de46b": {
      "model_module": "@jupyter-widgets/controls",
      "model_module_version": "2.0.0",
      "model_name": "HTMLStyleModel",
      "state": {
       "description_width": "",
       "font_size": null,
       "text_color": null
      }
     },
     "fb6e8052ea03423186318131575b2c91": {
      "model_module": "@jupyter-widgets/controls",
      "model_module_version": "2.0.0",
      "model_name": "HBoxModel",
      "state": {
       "children": [
        "IPY_MODEL_b9a08ea501b04fae9997eac2b9c2bf4b",
        "IPY_MODEL_488541bd834d4c1786b2da163f181fb2",
        "IPY_MODEL_20977322fa6f4dd0a8c792e77a168c80"
       ],
       "layout": "IPY_MODEL_3f1438ee648d4faf9af65c526e602d14"
      }
     }
    },
    "version_major": 2,
    "version_minor": 0
   }
  }
 },
 "nbformat": 4,
 "nbformat_minor": 5
}
