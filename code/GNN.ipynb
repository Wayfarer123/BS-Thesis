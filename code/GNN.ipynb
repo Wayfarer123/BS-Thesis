{
 "cells": [
  {
   "cell_type": "code",
   "execution_count": 1,
   "id": "551c2a4c-6a02-408a-97e3-a95412c2dfd6",
   "metadata": {},
   "outputs": [],
   "source": [
    "import torch\n",
    "from tqdm.auto import tqdm\n",
    "import numpy as np\n",
    "import os\n",
    "from matplotlib import pyplot as plt\n",
    "import seaborn as sns\n",
    "import json\n",
    "import random\n",
    "from torch import nn\n",
    "from torcheval.metrics import MeanSquaredError\n",
    "import itertools\n",
    "from torch.nn import functional as F\n",
    "from torch.utils.data import Dataset, DataLoader\n",
    "from IPython.display import clear_output\n",
    "\n",
    "random.seed(42)\n",
    "sns.set_style(\"darkgrid\")\n",
    "\n",
    "# device = \"cuda\" if torch.cuda.is_available() else \"cpu\"\n",
    "device = \"cpu\""
   ]
  },
  {
   "cell_type": "code",
   "execution_count": 2,
   "id": "51061327-0b25-4ac3-a536-a6a2d696e8d0",
   "metadata": {},
   "outputs": [
    {
     "name": "stdout",
     "output_type": "stream",
     "text": [
      "\n"
     ]
    }
   ],
   "source": [
    "from OutfitTransformer.model.encoder import ItemEncoder\n",
    "from OutfitTransformer.model.model import OutfitTransformer\n",
    "from transformers import AutoTokenizer\n",
    "\n",
    "weights_path = \"OutfitTransformer/checkpoints/2_0.923.pth\"\n",
    "outfit_transformer_weights = torch.load(weights_path)\n",
    "\n",
    "\n",
    "model = OutfitTransformer(embedding_dim=128).to(\"cuda\")\n",
    "model.load_state_dict(outfit_transformer_weights['model_state_dict'], strict=False)\n",
    "model.eval()\n",
    "print()"
   ]
  },
  {
   "cell_type": "code",
   "execution_count": 3,
   "id": "a02b8863-5c89-48b4-aec9-74024c00f28c",
   "metadata": {},
   "outputs": [
    {
     "data": {
      "text/plain": [
       "(63359, 8)"
      ]
     },
     "execution_count": 3,
     "metadata": {},
     "output_type": "execute_result"
    }
   ],
   "source": [
    "with open(\"data/Re-PolyVore_encoded_with_OutfitTransformer.json\", \"r\", encoding=\"utf-8\") as f:\n",
    "    outfits_dict = json.load(f)\n",
    "\n",
    "outfits_at_least_3 = {}\n",
    "for key, val in outfits_dict.items():\n",
    "    if val.get(\"items\") is not None:\n",
    "        if len(val[\"items\"]) > 2:\n",
    "            outfits_at_least_3.update({key: val})\n",
    "    else: pass\n",
    "\n",
    "outfits_at_least_4 = {}\n",
    "for key, val in outfits_dict.items():\n",
    "    if val.get(\"items\") is not None:\n",
    "        if len(val[\"items\"]) > 3:\n",
    "            outfits_at_least_4.update({key: val})\n",
    "    else: pass\n",
    "\n",
    "outfits_at_least_5 = {}\n",
    "for key, val in outfits_dict.items():\n",
    "    if val.get(\"items\") is not None:\n",
    "        if len(val[\"items\"]) > 4:\n",
    "            outfits_at_least_5.update({key: val})\n",
    "    else: pass\n",
    "\n",
    "outfits_at_least_6 = {}\n",
    "for key, val in outfits_dict.items():\n",
    "    if val.get(\"items\") is not None:\n",
    "        if len(val[\"items\"]) > 5:\n",
    "            outfits_at_least_6.update({key: val})\n",
    "    else: pass\n",
    "\n",
    "outfits_at_least_7 = {}\n",
    "for key, val in outfits_dict.items():\n",
    "    if val.get(\"items\") is not None:\n",
    "        if len(val[\"items\"]) > 6:\n",
    "            outfits_at_least_7.update({key: val})\n",
    "    else: pass\n",
    "\n",
    "outfits_at_least_8 = {}\n",
    "for key, val in outfits_dict.items():\n",
    "    if val.get(\"items\") is not None:\n",
    "        if len(val[\"items\"]) > 7:\n",
    "            outfits_at_least_8.update({key: val})\n",
    "    else: pass\n",
    "len(outfits_at_least_3.keys()), len(outfits_at_least_4.keys()), len(outfits_at_least_5.keys()), len(outfits_at_least_6.keys()), len(outfits_at_least_7.keys()), len(outfits_at_least_8.keys())\n",
    "\n",
    "max_set_len = 0\n",
    "for key, outfit in outfits_dict.items():\n",
    "    if outfit.get(\"items\") is not None:\n",
    "        max_set_len = max(max_set_len, len(outfit[\"items\"]))\n",
    "\n",
    "all_items = []\n",
    "for key, val in outfits_dict.items():\n",
    "    if val.get(\"items\") is not None:\n",
    "        all_items.extend(val[\"items\"])\n",
    "    else: pass\n",
    "len(all_items), max_set_len"
   ]
  },
  {
   "cell_type": "code",
   "execution_count": 4,
   "id": "68b4cfdd-9178-4329-9c95-5a5d9b3b175a",
   "metadata": {},
   "outputs": [],
   "source": [
    "def get_outfit_score(outfit_items, model=model):\n",
    "    set_mask = torch.zeros(len(outfit_items)).to(device)\n",
    "    inp = torch.Tensor([elem[\"embdedding\"] for elem in outfit_items]).to(device)\n",
    "    return model(\"cp\", inp.unsqueeze(0), set_mask.unsqueeze(0).to(device)).item()\n",
    "\n",
    "\n",
    "def CosineSim(inps, target):\n",
    "    if len(inps.shape) < len(target.shape):\n",
    "        inps = inps.unsqueeze(0)\n",
    "    return torch.sum(inps * target, dim=-1) / (torch.norm(inps, dim=-1) + 1e-12) / (torch.norm(target, dim=-1) + 1e-12)\n",
    "    \n",
    "\n",
    "class Get_closest_item:\n",
    "    def __init__(self, all_items):\n",
    "        self.all_items_emb = torch.tensor([elem['embdedding'] for elem in all_items])\n",
    "        \n",
    "    def __call__(self, emb, all_items, similarity):\n",
    "        sims = similarity(emb, self.all_items_emb)\n",
    "        closest_item_ind = torch.argmax(sims)\n",
    "        return all_items[closest_item_ind]\n",
    "    \n",
    "get_closest_item = Get_closest_item(all_items)\n",
    "\n",
    "\n",
    "# class Mean_Lp_Error:\n",
    "#     def __init__(self, p):\n",
    "#         self.p = p\n",
    "#     def update(self, val, target):\n",
    "#         self.res = (torch.abs(val - target)**self.p).mean(dim=-1)\n",
    "#     def compute(self):\n",
    "#         return self.res\n",
    "#     def reset(self):\n",
    "#         self.res = None\n",
    "\n",
    "\n",
    "def aggregate_and_retrieve(items_to_complete, all_items, aggregation, similarity, k=2, **kwargs):\n",
    "    embeds_for_retrieval = aggregation.generate_embeddings(items_to_complete, k, **kwargs)\n",
    "    \n",
    "    best_items = [get_closest_item(emb, all_items, similarity) for emb in embeds_for_retrieval]\n",
    "\n",
    "    final_outfit = items_to_complete + best_items\n",
    "    final_score = get_outfit_score(final_outfit)\n",
    "    \n",
    "    return {f\"{aggregation.__name__}\": final_score,\n",
    "            f\"{aggregation.__name__}_complementary_items\": best_items}            "
   ]
  },
  {
   "cell_type": "code",
   "execution_count": null,
   "id": "ad6397fa-6c2a-49f9-9a76-62880d64fe92",
   "metadata": {},
   "outputs": [],
   "source": []
  },
  {
   "cell_type": "code",
   "execution_count": null,
   "id": "d59545ba-437a-40e4-806f-d229f627035c",
   "metadata": {},
   "outputs": [],
   "source": []
  },
  {
   "cell_type": "code",
   "execution_count": 5,
   "id": "294df361-1cbb-478a-9d96-6efcd492ad48",
   "metadata": {},
   "outputs": [],
   "source": [
    "with open(\"data/Re-PolyVore_greedy_results_min5_k2_subset1000.json\", \"r\", encoding=\"utf-8\") as f:\n",
    "    results_min5_k2_subset1000 = json.load(f)"
   ]
  },
  {
   "cell_type": "code",
   "execution_count": 6,
   "id": "b1967473-c42a-409d-9b0b-4e2beb355bdb",
   "metadata": {},
   "outputs": [],
   "source": [
    "# k = 2\n",
    "# loss = nn.MSELoss()\n",
    "# similarity = MeanSquaredError(multioutput=\"raw_values\")\n",
    "\n",
    "# class Mean_agg:\n",
    "#     def __init__(self):\n",
    "#         pass\n",
    "#     def generate_embeddings(items_to_complete, k):\n",
    "#         return [torch.tensor([item[\"embdedding\"] for item in items_to_complete]).mean(dim=0)] * k\n",
    "\n",
    "# aggregation = Mean_agg\n",
    "# aggregation.__name__ = \"mean_aggregation\"\n",
    "\n",
    "# for key, outfit in tqdm(list(outfits_at_least_5.items())[:1000]):\n",
    "\n",
    "#     if results_min5_k2_subset1000[key].get(f\"{aggregation.__name__}\") is None:\n",
    "\n",
    "#         items_to_complete_ind = results_min5_k2_subset1000[key]['items_to_complete_ind']\n",
    "#         items_to_complete = [outfit[\"items\"][ind] for ind in items_to_complete_ind]\n",
    "\n",
    "#         res_dict = aggregate_and_retrieve(items_to_complete, all_items, aggregation, similarity, k=k)\n",
    "#         results_min5_k2_subset1000[key].update({f\"{aggregation.__name__}\": res_dict[f\"{aggregation.__name__}\"]})"
   ]
  },
  {
   "cell_type": "code",
   "execution_count": 7,
   "id": "174db7ed-74b4-4056-9cf4-7f2a383783ca",
   "metadata": {},
   "outputs": [],
   "source": [
    "# with open(\"data/Re-PolyVore_greedy_results_min5_k2_subset1000.json\", \"w\", encoding=\"utf-8\") as f:\n",
    "#     json.dump(results_min5_k2_subset1000, f, indent=4)"
   ]
  },
  {
   "cell_type": "code",
   "execution_count": 6,
   "id": "0d6b3ac3-ca96-408c-be4f-af79ea304910",
   "metadata": {},
   "outputs": [],
   "source": [
    "class GraphDateset(Dataset):\n",
    "    def __init__(self, outfits_to_complete, previous_results):\n",
    "        \n",
    "        self.items_to_complete = []\n",
    "        self.greedy_items = []\n",
    "        self.outfits_idx = list(outfits_to_complete.keys())\n",
    "        \n",
    "        for key in outfits_to_complete.keys():\n",
    "            self.greedy_items.append(previous_results[key]['greedy_multistep_complementary_items'])\n",
    "            idx = previous_results[key]['items_to_complete_ind']\n",
    "            self.items_to_complete.append([outfits_to_complete[key][\"items\"][ind] for ind in idx])\n",
    "            \n",
    "        \n",
    "    def __len__(self):\n",
    "        return len(self.items_to_complete)\n",
    "        \n",
    "    def __getitem__(self, ind):\n",
    "        outfit_ind = self.outfits_idx[ind]\n",
    "        outfit_items = [item for item in self.items_to_complete[ind]]\n",
    "        ground_truth_items = [item for item in self.greedy_items[ind]]\n",
    "\n",
    "        negative_items = [random.choice(items) for items in random.sample(self.greedy_items, k=len(ground_truth_items))]       \n",
    "        \n",
    "        combs = itertools.combinations(range(len(outfit_items) + len(ground_truth_items)), 2)\n",
    "        edge_index = [(el[0], el[1]) for el in combs] + [(el[1], el[0]) for el in combs]\n",
    "        \n",
    "        return outfit_ind, outfit_items, ground_truth_items, negative_items, edge_index"
   ]
  },
  {
   "cell_type": "code",
   "execution_count": 7,
   "id": "d70c4440-a5f8-4d6a-b74f-0fe16bab6582",
   "metadata": {},
   "outputs": [],
   "source": [
    "from torch_geometric.nn import MessagePassing\n",
    "\n",
    "class MessagePassingMeanAggr(MessagePassing):\n",
    "    def __init__(self, in_channels, out_channels):\n",
    "        super().__init__(aggr='mean')  \n",
    "        self.lin_l = nn.Linear(in_channels, out_channels)\n",
    "        self.lin_r = nn.Linear(in_channels, out_channels)\n",
    "        \n",
    "        self.reset_parameters()\n",
    "\n",
    "    def reset_parameters(self):\n",
    "        self.lin_l.reset_parameters()\n",
    "        self.lin_r.reset_parameters()\n",
    "\n",
    "    def forward(self, x, edge_index):        \n",
    "        prop = self.propagate(edge_index, x=(x,x))\n",
    "        out = self.lin_l(x) + self.lin_r(prop)\n",
    "\n",
    "        return out\n",
    "\n",
    "    def message(self, x_j):\n",
    "        out = x_j\n",
    "        return out\n",
    "\n",
    "\n",
    "class GNN_model(nn.Module):\n",
    "    def __init__(self, input_dim, hidden_dim, n_layers=2):\n",
    "        super().__init__()\n",
    "        self.n_layers = n_layers\n",
    "        \n",
    "        self.mps = nn.ModuleList()\n",
    "        if n_layers > 1:\n",
    "            self.mps.append(MessagePassingMeanAggr(input_dim, hidden_dim))\n",
    "        else:\n",
    "            self.mps.append(MessagePassingMeanAggr(input_dim, input_dim))\n",
    "        for i in range(n_layers-1):\n",
    "            self.mps.append(MessagePassingMeanAggr(hidden_dim, hidden_dim))\n",
    "\n",
    "        self.out = nn.Linear(hidden_dim, input_dim)        \n",
    "\n",
    "    def forward(self, x, edge_index):\n",
    "\n",
    "        for i in range(self.n_layers):\n",
    "            x = self.mps[i](x, edge_index)\n",
    "            x = F.relu(x)\n",
    "\n",
    "        return self.out(x)\n",
    "\n",
    "    def generate_embeddings(self, items_to_complete_with_k_random_emb, edge_index, k=2):\n",
    "        with torch.no_grad():\n",
    "            all_embs = self.forward(items_to_complete_with_k_random_emb, edge_index)\n",
    "            return all_embs[-k:]"
   ]
  },
  {
   "cell_type": "code",
   "execution_count": null,
   "id": "1aa24848-303f-4029-999f-85f2f3f945d4",
   "metadata": {},
   "outputs": [],
   "source": []
  },
  {
   "cell_type": "code",
   "execution_count": null,
   "id": "ad00baeb-66c5-4947-86d6-048714617bee",
   "metadata": {},
   "outputs": [],
   "source": []
  },
  {
   "cell_type": "code",
   "execution_count": 9,
   "id": "bacb7362-bfcf-48ef-a329-5832f9677319",
   "metadata": {},
   "outputs": [
    {
     "data": {
      "image/png": "[encoded data removed]",
      "text/plain": [
       "<Figure size 1000x700 with 1 Axes>"
      ]
     },
     "metadata": {},
     "output_type": "display_data"
    }
   ],
   "source": [
    "original_scores = []\n",
    "greedy_singlestep_scores = []\n",
    "greedy_multistep_scores = []\n",
    "\n",
    "for key, res_dict in results_min5_k2_subset1000.items():\n",
    "    original_scores.append(res_dict[\"original\"])\n",
    "    greedy_singlestep_scores.append(res_dict[\"greedy_singlestep\"])\n",
    "    greedy_multistep_scores.append(res_dict[\"greedy_multistep\"])\n",
    "\n",
    "original_scores, greedy_singlestep_scores, greedy_multistep_scores = \\\n",
    "    np.array(original_scores), np.array(greedy_singlestep_scores), np.array(greedy_multistep_scores)\n",
    "\n",
    "\n",
    "plt.figure(figsize=(10, 7))\n",
    "\n",
    "plt.hist(original_scores, bins=15, alpha=0.5, label=\"original\")\n",
    "plt.hist(greedy_singlestep_scores, bins=15, alpha=0.5, label=\"greedy_singlestep\")\n",
    "plt.hist(greedy_multistep_scores, bins=15, alpha=0.5, label=\"greedy_multistep\")\n",
    "\n",
    "plt.title(\"Outfit scores distibution\", fontsize=18)\n",
    "plt.xlabel(\"score\", fontsize=18)\n",
    "plt.ylabel(\"n_outfits\", fontsize=18)\n",
    "plt.xticks(fontsize=16)\n",
    "plt.yticks(fontsize=16)\n",
    "\n",
    "plt.legend(fontsize=16, shadow=True)\n",
    "plt.show()"
   ]
  },
  {
   "cell_type": "code",
   "execution_count": 21,
   "id": "f9338038-f9fc-4d41-9d47-7f5853032b75",
   "metadata": {},
   "outputs": [
    {
     "data": {
      "image/png": "[encoded data removed]",
      "text/plain": [
       "<Figure size 1000x700 with 1 Axes>"
      ]
     },
     "metadata": {},
     "output_type": "display_data"
    }
   ],
   "source": [
    "original_scores = []\n",
    "greedy_singlestep_scores = []\n",
    "greedy_multistep_scores = []\n",
    "backprop_scores = []\n",
    "backprop_scores_L1 = []\n",
    "backprop_scores_L10 = []\n",
    "backprop_scores_cos = []\n",
    "\n",
    "for key, res_dict in results_min5_k2_subset1000.items():\n",
    "    original_scores.append(res_dict[\"original\"])\n",
    "    greedy_singlestep_scores.append(res_dict[\"greedy_singlestep\"])\n",
    "    greedy_multistep_scores.append(res_dict[\"greedy_multistep\"])\n",
    "    backprop_scores.append(res_dict[\"backprop\"])\n",
    "    backprop_scores_L1.append(res_dict[\"backprop_L1\"])\n",
    "    backprop_scores_L10.append(res_dict[\"backprop_L10\"])\n",
    "    backprop_scores_cos.append(res_dict[\"backprop_cos\"])\n",
    "\n",
    "original_scores, greedy_singlestep_scores, greedy_multistep_scores, backprop_scores, backprop_scores_L1, backprop_scores_L10, backprop_scores_cos = \\\n",
    "    np.array(original_scores), np.array(greedy_singlestep_scores), \\\n",
    "    np.array(greedy_multistep_scores), np.array(backprop_scores), \\\n",
    "    np.array(backprop_scores_L1), np.array(backprop_scores_L10), np.array(backprop_scores_cos)\n",
    "\n",
    "\n",
    "plt.figure(figsize=(10, 7))\n",
    "\n",
    "plt.hist(original_scores, bins=15, alpha=0.5, label=\"original\")\n",
    "plt.hist(backprop_scores_L1, bins=15, alpha=0.5, label=\"backprop_L1\")\n",
    "plt.hist(backprop_scores, bins=15, alpha=0.5, label=\"backprop_L2\")\n",
    "plt.hist(backprop_scores_L10, bins=15, alpha=0.5, label=\"backprop_L10\")\n",
    "plt.hist(backprop_scores_cos, bins=15, alpha=0.5, label=\"backprop_cos\")\n",
    "\n",
    "plt.title(\"Outfit scores distibution\", fontsize=18)\n",
    "plt.xlabel(\"score\", fontsize=18)\n",
    "plt.ylabel(\"n_outfits\", fontsize=18)\n",
    "plt.xticks(fontsize=16)\n",
    "plt.yticks(fontsize=16)\n",
    "\n",
    "plt.legend(fontsize=16, shadow=True,loc=\"upper left\")\n",
    "\n",
    "plt.show()"
   ]
  },
  {
   "cell_type": "code",
   "execution_count": null,
   "id": "bce8c58a-13bd-44b1-97af-91d3c8c9ebc2",
   "metadata": {},
   "outputs": [],
   "source": []
  },
  {
   "cell_type": "code",
   "execution_count": null,
   "id": "fbfde93f-2ad4-4b20-aa53-c9b5c41cfe3d",
   "metadata": {},
   "outputs": [],
   "source": []
  },
  {
   "cell_type": "code",
   "execution_count": null,
   "id": "612d009e-619b-4428-835d-e9aa05c13118",
   "metadata": {},
   "outputs": [],
   "source": []
  },
  {
   "cell_type": "code",
   "execution_count": 14,
   "id": "59932094-539c-4ce3-94c3-067c95da7c2e",
   "metadata": {},
   "outputs": [],
   "source": [
    "outfits_at_least_5_subset1000 = {key: value for key, value in list(outfits_at_least_5.items())[:1000]}\n",
    "dataset = GraphDateset(outfits_at_least_5_subset1000, results_min5_k2_subset1000)\n",
    "input_dim = len(dataset[0][1][0][\"embdedding\"])"
   ]
  },
  {
   "cell_type": "code",
   "execution_count": 15,
   "id": "79afcda3-4492-4914-8ee1-caf4293031d5",
   "metadata": {},
   "outputs": [
    {
     "data": {
      "image/png": "[encoded data removed]",
      "text/plain": [
       "<Figure size 640x480 with 1 Axes>"
      ]
     },
     "metadata": {},
     "output_type": "display_data"
    }
   ],
   "source": [
    "loss_function = lambda x, y: 1 - CosineSim(x, y)\n",
    "opt_kwargs = {\"lr\": 1e-3, \"weight_decay\": 1e-6, \"betas\": (0.88, 0.99)}\n",
    "\n",
    "\n",
    "gnn_model = GNN_model(input_dim=input_dim, hidden_dim=input_dim, n_layers=4)\n",
    "optimizer = torch.optim.Adam(gnn_model.parameters(), **opt_kwargs)\n",
    "\n",
    "\n",
    "grad_step = 100\n",
    "n_epochs = 50\n",
    "\n",
    "n_step = 0\n",
    "\n",
    "loss_history = []\n",
    "\n",
    "indices = list(range(len(dataset)))\n",
    "\n",
    "\n",
    "for n_epoch in tqdm(range(n_epochs), colour=\"#333388\"):\n",
    "    random.shuffle(indices)\n",
    "    optimizer.zero_grad()\n",
    "    \n",
    "    for i in tqdm(indices, leave=False):\n",
    "        _, outfit_items, ground_truth_items, negative_items, edge_index = dataset[i]\n",
    "        n_step += 1\n",
    "        loss_accum = []\n",
    "        outfit_items_emb = torch.tensor([elem['embdedding'] for elem in outfit_items] + np.random.randn(len(ground_truth_items), input_dim).tolist())\n",
    "\n",
    "        embeds_pred = gnn_model(outfit_items_emb, torch.tensor(edge_index).type(torch.long).t())[-len(ground_truth_items):]\n",
    "        \n",
    "        negative_embeds = torch.tensor([elem['embdedding'] for elem in negative_items])\n",
    "        \n",
    "        ground_truth_items_emb = torch.tensor([elem[\"embdedding\"] for elem in ground_truth_items])\n",
    "        loss = (loss_function(embeds_pred, ground_truth_items_emb) - \\\n",
    "                loss_function(embeds_pred, negative_embeds)).mean()\n",
    "        loss.backward()\n",
    "\n",
    "        loss_accum.append(loss.detach().item())\n",
    "        \n",
    "        if n_step % grad_step == 0:\n",
    "            optimizer.step()\n",
    "            optimizer.zero_grad()\n",
    "            \n",
    "            loss_history.append(np.mean(loss_accum))\n",
    "            loss_accum = []\n",
    "            clear_output(wait=True)\n",
    "            \n",
    "            plt.plot(loss_history)\n",
    "            plt.show()"
   ]
  },
  {
   "cell_type": "code",
   "execution_count": 16,
   "id": "891440ac-996f-4558-96bd-58da99832011",
   "metadata": {},
   "outputs": [
    {
     "data": {
      "application/vnd.jupyter.widget-view+json": {
       "model_id": "523e78fe19f447adb0363805250728e9",
       "version_major": 2,
       "version_minor": 0
      },
      "text/plain": [
       "  0%|          | 0/1000 [00:00<?, ?it/s]"
      ]
     },
     "metadata": {},
     "output_type": "display_data"
    }
   ],
   "source": [
    "similarity = CosineSim\n",
    "\n",
    "\n",
    "for outfit_key, outfit_items, ground_truth_items, negative_items, edge_index in tqdm(dataset):\n",
    "\n",
    "    if results_min5_k2_subset1000[outfit_key].get(\"GNN\") is None:\n",
    "        \n",
    "        outfit_items_emb = torch.tensor([elem['embdedding'] for elem in outfit_items] + np.random.randn(len(ground_truth_items), input_dim).tolist())\n",
    "    \n",
    "        embeds_pred = gnn_model(outfit_items_emb, torch.tensor(edge_index).type(torch.long).t())[-len(ground_truth_items):]\n",
    "        \n",
    "        negative_embeds = torch.tensor([elem['embdedding'] for elem in negative_items])\n",
    "        \n",
    "        ground_truth_items_emb = torch.tensor([elem[\"embdedding\"] for elem in ground_truth_items])\n",
    "        \n",
    "        complementary_items = []\n",
    "        for emb in embeds_pred:\n",
    "            complementary_items.append(get_closest_item(emb, all_items, similarity))\n",
    "        \n",
    "    \n",
    "        final_outfit_emb = torch.tensor([elem[\"embdedding\"] for elem in outfit_items] + \\\n",
    "                                        [elem[\"embdedding\"] for elem in complementary_items]).to(\"cuda\")\n",
    "    \n",
    "        set_mask = torch.zeros(len(final_outfit_emb)).to(\"cuda\")\n",
    "        \n",
    "        final_score = model(\"cp\", final_outfit_emb.unsqueeze(0), \n",
    "                            set_mask.unsqueeze(0).to(\"cuda\")).item()\n",
    "        \n",
    "        results_min5_k2_subset1000[outfit_key].update({\"GNN\": final_score,\n",
    "                                                       \"GNN_complementary_items\": complementary_items})"
   ]
  },
  {
   "cell_type": "code",
   "execution_count": 20,
   "id": "1d09380e-dca4-4dd1-9342-328579658c17",
   "metadata": {},
   "outputs": [
    {
     "data": {
      "image/png": "[encoded data removed]",
      "text/plain": [
       "<Figure size 1000x700 with 1 Axes>"
      ]
     },
     "metadata": {},
     "output_type": "display_data"
    }
   ],
   "source": [
    "original_scores = []\n",
    "greedy_singlestep_scores = []\n",
    "greedy_multistep_scores = []\n",
    "backprop_scores = []\n",
    "backprop_scores_L1 = []\n",
    "backprop_scores_L10 = []\n",
    "backprop_scores_cos = []\n",
    "GNN_scores = []\n",
    "\n",
    "for key, res_dict in results_min5_k2_subset1000.items():\n",
    "    original_scores.append(res_dict[\"original\"])\n",
    "    greedy_singlestep_scores.append(res_dict[\"greedy_singlestep\"])\n",
    "    greedy_multistep_scores.append(res_dict[\"greedy_multistep\"])\n",
    "    backprop_scores.append(res_dict[\"backprop\"])\n",
    "    backprop_scores_L1.append(res_dict[\"backprop_L1\"])\n",
    "    backprop_scores_L10.append(res_dict[\"backprop_L10\"])\n",
    "    backprop_scores_cos.append(res_dict[\"backprop_cos\"])\n",
    "\n",
    "    GNN_scores.append(res_dict[\"GNN\"])\n",
    "\n",
    "original_scores, greedy_singlestep_scores, greedy_multistep_scores, backprop_scores, backprop_scores_L1, backprop_scores_L10, backprop_scores_cos = \\\n",
    "    np.array(original_scores), np.array(greedy_singlestep_scores), \\\n",
    "    np.array(greedy_multistep_scores), np.array(backprop_scores), \\\n",
    "    np.array(backprop_scores_L1), np.array(backprop_scores_L10), np.array(backprop_scores_cos)\n",
    "\n",
    "\n",
    "plt.figure(figsize=(10, 7))\n",
    "\n",
    "\n",
    "plt.hist(GNN_scores, bins=15, alpha=0.5, label=\"GNN\")\n",
    "plt.hist(original_scores, bins=15, alpha=0.5, label=\"original\")\n",
    "# plt.hist(backprop_scores_L1, bins=15, alpha=0.5, label=\"backprop_scores_L1\")\n",
    "# plt.hist(backprop_scores, bins=15, alpha=0.5, label=\"backprop_scores_L2\")\n",
    "# plt.hist(backprop_scores_L10, bins=15, alpha=0.5, label=\"backprop_scores_L10\")\n",
    "# plt.hist(backprop_scores_cos, bins=15, alpha=0.5, label=\"backprop_scores_cos\")\n",
    "plt.hist(greedy_singlestep_scores, bins=15, alpha=0.5, label=\"greedy_singlestep\")\n",
    "# plt.hist(greedy_multistep_scores, bins=15, alpha=0.5, label=\"greedy_multistep_scores\")\n",
    "\n",
    "plt.title(\"Outfit scores distibution on train set\", fontsize=18)\n",
    "plt.xlabel(\"score\", fontsize=18)\n",
    "plt.ylabel(\"n_outfits\", fontsize=18)\n",
    "plt.xticks(fontsize=16)\n",
    "plt.yticks(fontsize=16)\n",
    "\n",
    "plt.legend(fontsize=16, shadow=True,loc=\"upper left\")\n",
    "\n",
    "plt.show()"
   ]
  },
  {
   "cell_type": "code",
   "execution_count": 22,
   "id": "98f71c8c-e308-458c-9e84-437ad24bdab6",
   "metadata": {},
   "outputs": [],
   "source": [
    "with open(\"data/Re-PolyVore_greedy_results_min5_k2_subset1000.json\", \"w\", encoding=\"utf-8\") as f:\n",
    "    json.dump(results_min5_k2_subset1000, f, indent=4)"
   ]
  },
  {
   "cell_type": "code",
   "execution_count": null,
   "id": "8e0b6a5c-2b26-49af-a3c7-033b9fb43937",
   "metadata": {},
   "outputs": [],
   "source": []
  },
  {
   "cell_type": "code",
   "execution_count": 23,
   "id": "1c4ad6aa-e8d6-4295-83f4-929acb777d2f",
   "metadata": {},
   "outputs": [],
   "source": [
    "with open(\"data/Re-PolyVore_greedy_results_min5_k2_test_set_1000.json\", \"r\", encoding=\"utf-8\") as f:\n",
    "    results_min5_k2_test_set_1000 = json.load(f)"
   ]
  },
  {
   "cell_type": "code",
   "execution_count": 24,
   "id": "29a537de-21ed-482f-873e-7e09f31247c4",
   "metadata": {},
   "outputs": [],
   "source": [
    "outfits_at_least_5_test_set_1000 = {key: value for key, value in list(outfits_at_least_5.items())[1000:2000]}\n",
    "test_dataset = GraphDateset(outfits_at_least_5_test_set_1000, results_min5_k2_test_set_1000)\n",
    "input_dim = len(test_dataset[0][1][0][\"embdedding\"])"
   ]
  },
  {
   "cell_type": "code",
   "execution_count": 25,
   "id": "baa1c3d6-d2c1-43c4-a6df-ca1a6d4664ba",
   "metadata": {},
   "outputs": [
    {
     "data": {
      "application/vnd.jupyter.widget-view+json": {
       "model_id": "fb28bdf0cb824b28881df9836f2051e3",
       "version_major": 2,
       "version_minor": 0
      },
      "text/plain": [
       "  0%|          | 0/1000 [00:00<?, ?it/s]"
      ]
     },
     "metadata": {},
     "output_type": "display_data"
    }
   ],
   "source": [
    "similarity = CosineSim\n",
    "\n",
    "\n",
    "for outfit_key, outfit_items, ground_truth_items, negative_items, edge_index in tqdm(test_dataset):\n",
    "\n",
    "    if results_min5_k2_test_set_1000[outfit_key].get(\"GNN\") is None:\n",
    "        \n",
    "        outfit_items_emb = torch.tensor([elem['embdedding'] for elem in outfit_items] + np.random.randn(len(ground_truth_items), input_dim).tolist())\n",
    "    \n",
    "        embeds_pred = gnn_model(outfit_items_emb, torch.tensor(edge_index).type(torch.long).t())[-len(ground_truth_items):]\n",
    "        \n",
    "        negative_embeds = torch.tensor([elem['embdedding'] for elem in negative_items])\n",
    "        \n",
    "        ground_truth_items_emb = torch.tensor([elem[\"embdedding\"] for elem in ground_truth_items])\n",
    "        \n",
    "        complementary_items = []\n",
    "        for emb in embeds_pred:\n",
    "            complementary_items.append(get_closest_item(emb, all_items, similarity))\n",
    "        \n",
    "    \n",
    "        final_outfit_emb = torch.tensor([elem[\"embdedding\"] for elem in outfit_items] + \\\n",
    "                                        [elem[\"embdedding\"] for elem in complementary_items]).to(\"cuda\")\n",
    "    \n",
    "        set_mask = torch.zeros(len(final_outfit_emb)).to(\"cuda\")\n",
    "        \n",
    "        final_score = model(\"cp\", final_outfit_emb.unsqueeze(0), \n",
    "                            set_mask.unsqueeze(0).to(\"cuda\")).item()\n",
    "        \n",
    "        results_min5_k2_test_set_1000[outfit_key].update({\"GNN\": final_score,\n",
    "                                                       \"GNN_complementary_items\": complementary_items})"
   ]
  },
  {
   "cell_type": "code",
   "execution_count": 27,
   "id": "a575233c-664c-4aee-98a2-fa6aae74b3b9",
   "metadata": {},
   "outputs": [
    {
     "data": {
      "image/png": "[encoded data removed]",
      "text/plain": [
       "<Figure size 1000x700 with 1 Axes>"
      ]
     },
     "metadata": {},
     "output_type": "display_data"
    }
   ],
   "source": [
    "original_scores = []\n",
    "greedy_singlestep_scores = []\n",
    "greedy_multistep_scores = []\n",
    "backprop_scores = []\n",
    "backprop_scores_L1 = []\n",
    "backprop_scores_L10 = []\n",
    "backprop_scores_cos = []\n",
    "GNN_scores = []\n",
    "\n",
    "for key, res_dict in results_min5_k2_test_set_1000.items():\n",
    "    original_scores.append(res_dict[\"original\"])\n",
    "    greedy_singlestep_scores.append(res_dict[\"greedy_singlestep\"])\n",
    "    greedy_multistep_scores.append(res_dict[\"greedy_multistep\"])\n",
    "    GNN_scores.append(res_dict[\"GNN\"])\n",
    "\n",
    "original_scores, greedy_singlestep_scores, greedy_multistep_scores = \\\n",
    "    np.array(original_scores), np.array(greedy_singlestep_scores), np.array(greedy_multistep_scores)\n",
    "\n",
    "\n",
    "plt.figure(figsize=(10, 7))\n",
    "\n",
    "\n",
    "plt.hist(GNN_scores, bins=15, alpha=0.5, label=\"GNN\")\n",
    "plt.hist(original_scores, bins=15, alpha=0.5, label=\"original\")\n",
    "plt.hist(greedy_singlestep_scores, bins=15, alpha=0.5, label=\"greedy_singlestep_scores\")\n",
    "# plt.hist(greedy_multistep_scores, bins=15, alpha=0.5, label=\"greedy_multistep_scores\")\n",
    "\n",
    "plt.title(\"Outfit scores distibution on test set\", fontsize=18)\n",
    "plt.xlabel(\"score\", fontsize=18)\n",
    "plt.ylabel(\"n_outfits\", fontsize=18)\n",
    "plt.xticks(fontsize=16)\n",
    "plt.yticks(fontsize=16)\n",
    "\n",
    "plt.legend(fontsize=16, shadow=True,loc=\"upper left\")\n",
    "\n",
    "plt.show()"
   ]
  },
  {
   "cell_type": "code",
   "execution_count": 28,
   "id": "1f738edf-2ddd-408f-add2-8acb392d7399",
   "metadata": {},
   "outputs": [],
   "source": [
    "with open(\"data/Re-PolyVore_greedy_results_min5_k2_test_set_1000.json\", \"w\", encoding=\"utf-8\") as f:\n",
    "    json.dump(results_min5_k2_test_set_1000, f, indent=4)"
   ]
  },
  {
   "cell_type": "code",
   "execution_count": null,
   "id": "43f7c9d4-913a-42a6-bb49-52e6e8c7ec01",
   "metadata": {},
   "outputs": [],
   "source": []
  }
 ],
 "metadata": {
  "kernelspec": {
   "display_name": "Python 3 (ipykernel)",
   "language": "python",
   "name": "python3"
  },
  "language_info": {
   "codemirror_mode": {
    "name": "ipython",
    "version": 3
   },
   "file_extension": ".py",
   "mimetype": "text/x-python",
   "name": "python",
   "nbconvert_exporter": "python",
   "pygments_lexer": "ipython3",
   "version": "3.10.13"
  },
  "widgets": {
   "application/vnd.jupyter.widget-state+json": {
    "state": {
     "00a8224574d844369530d25331135e4b": {
      "model_module": "@jupyter-widgets/base",
      "model_module_version": "2.0.0",
      "model_name": "LayoutModel",
      "state": {}
     },
     "00c2e96c98404f37abb8b3540697162b": {
      "model_module": "@jupyter-widgets/base",
      "model_module_version": "2.0.0",
      "model_name": "LayoutModel",
      "state": {}
     },
     "00fb27942bab4b11adc763f74a0b68f1": {
      "model_module": "@jupyter-widgets/controls",
      "model_module_version": "2.0.0",
      "model_name": "FloatProgressModel",
      "state": {
       "layout": "IPY_MODEL_328fd4f3a3734441bbf1135fe7d8e21a",
       "max": 1000,
       "style": "IPY_MODEL_22e627da639c4775a8d2e2e12b619504",
       "value": 1000
      }
     },
     "015c77d892a04766bd91fecf8f5cf8b5": {
      "model_module": "@jupyter-widgets/controls",
      "model_module_version": "2.0.0",
      "model_name": "ProgressStyleModel",
      "state": {
       "description_width": ""
      }
     },
     "01b4c5e77606469fa0dedee28cbf53c9": {
      "model_module": "@jupyter-widgets/controls",
      "model_module_version": "2.0.0",
      "model_name": "HTMLModel",
      "state": {
       "layout": "IPY_MODEL_35c444792c4b4377ba8b4a83a2807947",
       "style": "IPY_MODEL_c0b26c10130b42d6a4689e7c8e11cae1",
       "value": " 991/1000 [00:04&lt;00:00, 234.59it/s]"
      }
     },
     "01b7f9061c114413bdc9a9d8b97b2627": {
      "model_module": "@jupyter-widgets/controls",
      "model_module_version": "2.0.0",
      "model_name": "HTMLStyleModel",
      "state": {
       "description_width": "",
       "font_size": null,
       "text_color": null
      }
     },
     "01c558bafa7e400194f7a185e373b86c": {
      "model_module": "@jupyter-widgets/controls",
      "model_module_version": "2.0.0",
      "model_name": "HTMLStyleModel",
      "state": {
       "description_width": "",
       "font_size": null,
       "text_color": null
      }
     },
     "01c7b17809854532bfb264917f6e51c4": {
      "model_module": "@jupyter-widgets/controls",
      "model_module_version": "2.0.0",
      "model_name": "HTMLModel",
      "state": {
       "layout": "IPY_MODEL_9522a77f6f004327a37a3130522c73a6",
       "style": "IPY_MODEL_230d0ac306c341e5979a0bdaeef92dae",
       "value": " 987/1000 [00:04&lt;00:00, 234.05it/s]"
      }
     },
     "023dfbfcf11a447c91e5d742956fc914": {
      "model_module": "@jupyter-widgets/base",
      "model_module_version": "2.0.0",
      "model_name": "LayoutModel",
      "state": {}
     },
     "02cea16e78c643998c3b9054a6b3325e": {
      "model_module": "@jupyter-widgets/controls",
      "model_module_version": "2.0.0",
      "model_name": "HTMLStyleModel",
      "state": {
       "description_width": "",
       "font_size": null,
       "text_color": null
      }
     },
     "02fd1abbb96d4fdab4e57ebf7d38c829": {
      "model_module": "@jupyter-widgets/base",
      "model_module_version": "2.0.0",
      "model_name": "LayoutModel",
      "state": {}
     },
     "030941208c0c4170b9363bef28c2b147": {
      "model_module": "@jupyter-widgets/controls",
      "model_module_version": "2.0.0",
      "model_name": "HTMLStyleModel",
      "state": {
       "description_width": "",
       "font_size": null,
       "text_color": null
      }
     },
     "039eae8eb4a44880806d2bd4ba5c2322": {
      "model_module": "@jupyter-widgets/controls",
      "model_module_version": "2.0.0",
      "model_name": "HTMLModel",
      "state": {
       "layout": "IPY_MODEL_aa418803437f40dbbb33dd9046b27ad9",
       "style": "IPY_MODEL_74472bdb298e478ca0f747b2f154c4b2",
       "value": " 98%"
      }
     },
     "03c4d4cb3a344e918c63ff8950fb2899": {
      "model_module": "@jupyter-widgets/controls",
      "model_module_version": "2.0.0",
      "model_name": "HTMLModel",
      "state": {
       "layout": "IPY_MODEL_33d2521da690472bac4f48f91c33791e",
       "style": "IPY_MODEL_5c3d3e47ee2040f393acb665e4398ff5",
       "value": " 97%"
      }
     },
     "03fd8e4802cb4ef0aa301910421f5fe5": {
      "model_module": "@jupyter-widgets/base",
      "model_module_version": "2.0.0",
      "model_name": "LayoutModel",
      "state": {
       "visibility": "hidden"
      }
     },
     "047b62f8549241e790336d435aab3141": {
      "model_module": "@jupyter-widgets/base",
      "model_module_version": "2.0.0",
      "model_name": "LayoutModel",
      "state": {}
     },
     "04e18dd4334b4046ba1949556ce84fbb": {
      "model_module": "@jupyter-widgets/base",
      "model_module_version": "2.0.0",
      "model_name": "LayoutModel",
      "state": {}
     },
     "056e2374628f4798925428d14da56581": {
      "model_module": "@jupyter-widgets/controls",
      "model_module_version": "2.0.0",
      "model_name": "ProgressStyleModel",
      "state": {
       "description_width": ""
      }
     },
     "05754d58e30e49d5855d1323b5b82fa9": {
      "model_module": "@jupyter-widgets/controls",
      "model_module_version": "2.0.0",
      "model_name": "HTMLStyleModel",
      "state": {
       "description_width": "",
       "font_size": null,
       "text_color": null
      }
     },
     "059c3346a81b4b1cbf0e17a3ef17fd73": {
      "model_module": "@jupyter-widgets/controls",
      "model_module_version": "2.0.0",
      "model_name": "HTMLStyleModel",
      "state": {
       "description_width": "",
       "font_size": null,
       "text_color": null
      }
     },
     "05a0a8088ef34ea6a60234121cc91594": {
      "model_module": "@jupyter-widgets/controls",
      "model_module_version": "2.0.0",
      "model_name": "HTMLModel",
      "state": {
       "layout": "IPY_MODEL_e6cf02e66d014f62a14659d7dc15c37a",
       "style": "IPY_MODEL_8c22a95f739c47c7bfa06496c82d14ae",
       "value": " 984/1000 [00:04&lt;00:00, 242.55it/s]"
      }
     },
     "06562511cbd847caa66a9da3da73ec75": {
      "model_module": "@jupyter-widgets/controls",
      "model_module_version": "2.0.0",
      "model_name": "HTMLStyleModel",
      "state": {
       "description_width": "",
       "font_size": null,
       "text_color": null
      }
     },
     "06a4ec5effad44faaf9e6a77b1efb6a5": {
      "model_module": "@jupyter-widgets/controls",
      "model_module_version": "2.0.0",
      "model_name": "HTMLStyleModel",
      "state": {
       "description_width": "",
       "font_size": null,
       "text_color": null
      }
     },
     "0715852627f2446fafd8c82303885b9b": {
      "model_module": "@jupyter-widgets/controls",
      "model_module_version": "2.0.0",
      "model_name": "HTMLStyleModel",
      "state": {
       "description_width": "",
       "font_size": null,
       "text_color": null
      }
     },
     "07b9f01a2a6e4e5ebf486ed1e82df9a5": {
      "model_module": "@jupyter-widgets/controls",
      "model_module_version": "2.0.0",
      "model_name": "FloatProgressModel",
      "state": {
       "layout": "IPY_MODEL_d64e32dd56d24a05af26cb33210bc6fe",
       "max": 1000,
       "style": "IPY_MODEL_739097cfecf34350a56af8e2049a1111",
       "value": 1000
      }
     },
     "080d1e5870e54bb3a4cb40bd0fc19c72": {
      "model_module": "@jupyter-widgets/controls",
      "model_module_version": "2.0.0",
      "model_name": "FloatProgressModel",
      "state": {
       "layout": "IPY_MODEL_8498b2bb0bbc42fcb6b2ec50ea008a5a",
       "max": 1000,
       "style": "IPY_MODEL_bdc426d3855c4ca1ad771fbab02ce9fa",
       "value": 1000
      }
     },
     "08252e6ff1b14202bda7e54a60c4ab4f": {
      "model_module": "@jupyter-widgets/controls",
      "model_module_version": "2.0.0",
      "model_name": "HTMLStyleModel",
      "state": {
       "description_width": "",
       "font_size": null,
       "text_color": null
      }
     },
     "0927aaa6f4504c229b558011f9e2833b": {
      "model_module": "@jupyter-widgets/base",
      "model_module_version": "2.0.0",
      "model_name": "LayoutModel",
      "state": {}
     },
     "0bd4c72bbf80403082cb4c664dbf37d6": {
      "model_module": "@jupyter-widgets/controls",
      "model_module_version": "2.0.0",
      "model_name": "FloatProgressModel",
      "state": {
       "layout": "IPY_MODEL_4a988dee20e84923be1d64c6851a3726",
       "max": 1000,
       "style": "IPY_MODEL_84df54736edd47028c02a033419308c7",
       "value": 1000
      }
     },
     "0c0f5821ec9249439aab96da6dd9cb5f": {
      "model_module": "@jupyter-widgets/base",
      "model_module_version": "2.0.0",
      "model_name": "LayoutModel",
      "state": {}
     },
     "0f15ad91400e48189489c1ce1a500aff": {
      "model_module": "@jupyter-widgets/controls",
      "model_module_version": "2.0.0",
      "model_name": "HTMLStyleModel",
      "state": {
       "description_width": "",
       "font_size": null,
       "text_color": null
      }
     },
     "0fc2b13e2d8d41c2816b0733da6ba318": {
      "model_module": "@jupyter-widgets/controls",
      "model_module_version": "2.0.0",
      "model_name": "HTMLModel",
      "state": {
       "layout": "IPY_MODEL_2ee24715def040b9945b224aacbb4bc3",
       "style": "IPY_MODEL_8b48746ef6ac473cb904e82244618654",
       "value": " 977/1000 [00:04&lt;00:00, 259.87it/s]"
      }
     },
     "1033195895f7488b8a1aa1ce64765a46": {
      "model_module": "@jupyter-widgets/controls",
      "model_module_version": "2.0.0",
      "model_name": "FloatProgressModel",
      "state": {
       "layout": "IPY_MODEL_157fcd79a6cc448cb9d57f9a54e5776b",
       "max": 1000,
       "style": "IPY_MODEL_3e3cf65aa6f54b03809a113e38291ae5",
       "value": 1000
      }
     },
     "103aa87c82d34cb6ba3a910ea8fb1522": {
      "model_module": "@jupyter-widgets/base",
      "model_module_version": "2.0.0",
      "model_name": "LayoutModel",
      "state": {}
     },
     "10f247bdce20418e99870fda12fdb383": {
      "model_module": "@jupyter-widgets/controls",
      "model_module_version": "2.0.0",
      "model_name": "FloatProgressModel",
      "state": {
       "layout": "IPY_MODEL_bb415ad608594f7d9e29ff737c09941d",
       "max": 1000,
       "style": "IPY_MODEL_015c77d892a04766bd91fecf8f5cf8b5",
       "value": 1000
      }
     },
     "111744f5f52c4e8b800adc3c9922bcac": {
      "model_module": "@jupyter-widgets/controls",
      "model_module_version": "2.0.0",
      "model_name": "HTMLModel",
      "state": {
       "layout": "IPY_MODEL_44aab0062d4d436b8dec4eba547e0c46",
       "style": "IPY_MODEL_d68ad9624ce84440a30617d303b9d453",
       "value": " 97%"
      }
     },
     "113458ad0a734bac8f6d71998d1a7f4a": {
      "model_module": "@jupyter-widgets/base",
      "model_module_version": "2.0.0",
      "model_name": "LayoutModel",
      "state": {}
     },
     "11828cd4d6ce4c64ab397d63047b9e57": {
      "model_module": "@jupyter-widgets/controls",
      "model_module_version": "2.0.0",
      "model_name": "HTMLModel",
      "state": {
       "layout": "IPY_MODEL_40c47a83cff544de82ad886682d67b78",
       "style": "IPY_MODEL_1c53c76850b14aa4a246e1e100db09d9",
       "value": " 997/1000 [00:04&lt;00:00, 249.98it/s]"
      }
     },
     "11926d582ed34385ad15b3212f14d1c0": {
      "model_module": "@jupyter-widgets/controls",
      "model_module_version": "2.0.0",
      "model_name": "HTMLModel",
      "state": {
       "layout": "IPY_MODEL_02fd1abbb96d4fdab4e57ebf7d38c829",
       "style": "IPY_MODEL_36e6db2573804d779a34bdd1930c22f4",
       "value": " 991/1000 [00:04&lt;00:00, 229.40it/s]"
      }
     },
     "12be795042d44ad799172cbb9fb81bb8": {
      "model_module": "@jupyter-widgets/controls",
      "model_module_version": "2.0.0",
      "model_name": "HTMLModel",
      "state": {
       "layout": "IPY_MODEL_38a2d97bf671449eb114c44f6e4950be",
       "style": "IPY_MODEL_80441bd94cac48ac9b580f4f9ac37d3e",
       "value": " 978/1000 [00:04&lt;00:00, 240.21it/s]"
      }
     },
     "12cb238d96124fdf8ce80b4270864823": {
      "model_module": "@jupyter-widgets/controls",
      "model_module_version": "2.0.0",
      "model_name": "HTMLStyleModel",
      "state": {
       "description_width": "",
       "font_size": null,
       "text_color": null
      }
     },
     "14f4ab0d7a3d45ee94b4fa31db26d62e": {
      "model_module": "@jupyter-widgets/controls",
      "model_module_version": "2.0.0",
      "model_name": "ProgressStyleModel",
      "state": {
       "description_width": ""
      }
     },
     "151b8bbf029f453a96399023f0c11ec0": {
      "model_module": "@jupyter-widgets/controls",
      "model_module_version": "2.0.0",
      "model_name": "HTMLStyleModel",
      "state": {
       "description_width": "",
       "font_size": null,
       "text_color": null
      }
     },
     "15526615ef714334b529db2750713ba0": {
      "model_module": "@jupyter-widgets/controls",
      "model_module_version": "2.0.0",
      "model_name": "HTMLModel",
      "state": {
       "layout": "IPY_MODEL_5a3ef38334a848de836e965005ff8b52",
       "style": "IPY_MODEL_57d5a232811a460483867c5620635d6b",
       "value": " 972/1000 [00:04&lt;00:00, 247.40it/s]"
      }
     },
     "1574b690ca96437d87180312b1bd9176": {
      "model_module": "@jupyter-widgets/base",
      "model_module_version": "2.0.0",
      "model_name": "LayoutModel",
      "state": {}
     },
     "157fcd79a6cc448cb9d57f9a54e5776b": {
      "model_module": "@jupyter-widgets/base",
      "model_module_version": "2.0.0",
      "model_name": "LayoutModel",
      "state": {}
     },
     "15c7ea39c9f740a095cdd32b61ad51b1": {
      "model_module": "@jupyter-widgets/controls",
      "model_module_version": "2.0.0",
      "model_name": "ProgressStyleModel",
      "state": {
       "description_width": ""
      }
     },
     "166c61ee764249b3808dcbd06470f2e8": {
      "model_module": "@jupyter-widgets/base",
      "model_module_version": "2.0.0",
      "model_name": "LayoutModel",
      "state": {}
     },
     "16777b58cb2b441f9cac8066854445a1": {
      "model_module": "@jupyter-widgets/base",
      "model_module_version": "2.0.0",
      "model_name": "LayoutModel",
      "state": {}
     },
     "16afcf299587412da680891048ac82b3": {
      "model_module": "@jupyter-widgets/base",
      "model_module_version": "2.0.0",
      "model_name": "LayoutModel",
      "state": {}
     },
     "16f2e928210049798b1dfa2ca067fc28": {
      "model_module": "@jupyter-widgets/controls",
      "model_module_version": "2.0.0",
      "model_name": "HTMLStyleModel",
      "state": {
       "description_width": "",
       "font_size": null,
       "text_color": null
      }
     },
     "1734b1801d98434d947845d2dcf6d589": {
      "model_module": "@jupyter-widgets/controls",
      "model_module_version": "2.0.0",
      "model_name": "HTMLModel",
      "state": {
       "layout": "IPY_MODEL_b19bb522a8ec485a947012e5e99f5821",
       "style": "IPY_MODEL_de6e8989842e4a3cb5c0100d6154a648",
       "value": " 987/1000 [00:04&lt;00:00, 246.46it/s]"
      }
     },
     "17d2db51968c4611967c3da6da9227a9": {
      "model_module": "@jupyter-widgets/base",
      "model_module_version": "2.0.0",
      "model_name": "LayoutModel",
      "state": {}
     },
     "183232fb057b49279cbf6b3855363aaf": {
      "model_module": "@jupyter-widgets/controls",
      "model_module_version": "2.0.0",
      "model_name": "HTMLModel",
      "state": {
       "layout": "IPY_MODEL_00c2e96c98404f37abb8b3540697162b",
       "style": "IPY_MODEL_6bbd4b67efbf40b78e7eafa2f8578c47",
       "value": " 986/1000 [00:04&lt;00:00, 238.22it/s]"
      }
     },
     "18447c9cc70e4cacbf3a0ae5d5ebcc8f": {
      "model_module": "@jupyter-widgets/controls",
      "model_module_version": "2.0.0",
      "model_name": "HTMLModel",
      "state": {
       "layout": "IPY_MODEL_103aa87c82d34cb6ba3a910ea8fb1522",
       "style": "IPY_MODEL_587c2e0de1ea409bb4cc9406e5e28e39",
       "value": " 976/1000 [00:04&lt;00:00, 226.66it/s]"
      }
     },
     "19a15f64a2b84a3fbe0f962c649d113d": {
      "model_module": "@jupyter-widgets/base",
      "model_module_version": "2.0.0",
      "model_name": "LayoutModel",
      "state": {}
     },
     "19e5549e709b493485787954f790eca9": {
      "model_module": "@jupyter-widgets/controls",
      "model_module_version": "2.0.0",
      "model_name": "HTMLModel",
      "state": {
       "layout": "IPY_MODEL_00a8224574d844369530d25331135e4b",
       "style": "IPY_MODEL_b4c4972698a04a8b9fefaded4d44e135",
       "value": " 98%"
      }
     },
     "1a19c15fc3b74ed8bb066f32a8de136f": {
      "model_module": "@jupyter-widgets/base",
      "model_module_version": "2.0.0",
      "model_name": "LayoutModel",
      "state": {
       "visibility": "hidden"
      }
     },
     "1a4547ae1f9e438fa704dffccd59869d": {
      "model_module": "@jupyter-widgets/controls",
      "model_module_version": "2.0.0",
      "model_name": "HTMLStyleModel",
      "state": {
       "description_width": "",
       "font_size": null,
       "text_color": null
      }
     },
     "1a803cc8b4b34b69ad7cc1224c59f90a": {
      "model_module": "@jupyter-widgets/base",
      "model_module_version": "2.0.0",
      "model_name": "LayoutModel",
      "state": {
       "visibility": "hidden"
      }
     },
     "1b48db4856c94145a5c2391287182835": {
      "model_module": "@jupyter-widgets/base",
      "model_module_version": "2.0.0",
      "model_name": "LayoutModel",
      "state": {}
     },
     "1b74cd074aab4838857d629397e0d5de": {
      "model_module": "@jupyter-widgets/controls",
      "model_module_version": "2.0.0",
      "model_name": "HTMLModel",
      "state": {
       "layout": "IPY_MODEL_606d896de1e545b5b8467fcb8ae3f483",
       "style": "IPY_MODEL_d906fc105c334f63ad3b6aca73273de2",
       "value": " 98%"
      }
     },
     "1b7651b48f2b4b26aaf530094ce66430": {
      "model_module": "@jupyter-widgets/controls",
      "model_module_version": "2.0.0",
      "model_name": "ProgressStyleModel",
      "state": {
       "description_width": ""
      }
     },
     "1c0213e5128d46c399b2dbb8a0273d64": {
      "model_module": "@jupyter-widgets/controls",
      "model_module_version": "2.0.0",
      "model_name": "HTMLStyleModel",
      "state": {
       "description_width": "",
       "font_size": null,
       "text_color": null
      }
     },
     "1c53c76850b14aa4a246e1e100db09d9": {
      "model_module": "@jupyter-widgets/controls",
      "model_module_version": "2.0.0",
      "model_name": "HTMLStyleModel",
      "state": {
       "description_width": "",
       "font_size": null,
       "text_color": null
      }
     },
     "1cb0dda22e4645b49fc7dc15338876a4": {
      "model_module": "@jupyter-widgets/controls",
      "model_module_version": "2.0.0",
      "model_name": "ProgressStyleModel",
      "state": {
       "description_width": ""
      }
     },
     "1cda0232d5a640f8b62f404961e08b45": {
      "model_module": "@jupyter-widgets/base",
      "model_module_version": "2.0.0",
      "model_name": "LayoutModel",
      "state": {
       "visibility": "hidden"
      }
     },
     "1cfe08b15b6c43a48e7587a0e677218e": {
      "model_module": "@jupyter-widgets/controls",
      "model_module_version": "2.0.0",
      "model_name": "ProgressStyleModel",
      "state": {
       "description_width": ""
      }
     },
     "1d27189433af4fcba444a34b45c20063": {
      "model_module": "@jupyter-widgets/base",
      "model_module_version": "2.0.0",
      "model_name": "LayoutModel",
      "state": {
       "visibility": "hidden"
      }
     },
     "1d5150d091d3453dac4388c88a7201df": {
      "model_module": "@jupyter-widgets/controls",
      "model_module_version": "2.0.0",
      "model_name": "HTMLModel",
      "state": {
       "layout": "IPY_MODEL_a12b23608a594589a834710e980a67ff",
       "style": "IPY_MODEL_f1139b9433fa407d8ce5ef9050ce1932",
       "value": " 974/1000 [00:04&lt;00:00, 242.58it/s]"
      }
     },
     "1e28fc99c42a4022bef70f57f05b1dec": {
      "model_module": "@jupyter-widgets/base",
      "model_module_version": "2.0.0",
      "model_name": "LayoutModel",
      "state": {}
     },
     "1f62293b78154be7a82e0fe36df639d9": {
      "model_module": "@jupyter-widgets/controls",
      "model_module_version": "2.0.0",
      "model_name": "HTMLModel",
      "state": {
       "layout": "IPY_MODEL_ebac65a9223e47b3aee56a97cee3607c",
       "style": "IPY_MODEL_a3816dcde7cc4ff688983237fdbdf09e",
       "value": " 973/1000 [00:04&lt;00:00, 252.27it/s]"
      }
     },
     "1ff967b8859c4d9b80cfa126de11e68c": {
      "model_module": "@jupyter-widgets/base",
      "model_module_version": "2.0.0",
      "model_name": "LayoutModel",
      "state": {}
     },
     "20f7986782154dcd8506312263cebaf5": {
      "model_module": "@jupyter-widgets/controls",
      "model_module_version": "2.0.0",
      "model_name": "HTMLModel",
      "state": {
       "layout": "IPY_MODEL_0c0f5821ec9249439aab96da6dd9cb5f",
       "style": "IPY_MODEL_1c0213e5128d46c399b2dbb8a0273d64",
       "value": " 985/1000 [00:04&lt;00:00, 245.28it/s]"
      }
     },
     "20fcff9bd2d84b058634c735d1439240": {
      "model_module": "@jupyter-widgets/controls",
      "model_module_version": "2.0.0",
      "model_name": "FloatProgressModel",
      "state": {
       "bar_style": "success",
       "layout": "IPY_MODEL_50a0e75fb7f04fcc89b0a0a5887f0952",
       "max": 1000,
       "style": "IPY_MODEL_83b60c1aa4254c93a0767758106915c9",
       "value": 1000
      }
     },
     "2108e86265aa419b8fa816cb41244eec": {
      "model_module": "@jupyter-widgets/controls",
      "model_module_version": "2.0.0",
      "model_name": "ProgressStyleModel",
      "state": {
       "description_width": ""
      }
     },
     "210d6faa8b6740fdb95ec96575ad7a6f": {
      "model_module": "@jupyter-widgets/base",
      "model_module_version": "2.0.0",
      "model_name": "LayoutModel",
      "state": {}
     },
     "21cf9465d63245ff92635cbe194212f3": {
      "model_module": "@jupyter-widgets/base",
      "model_module_version": "2.0.0",
      "model_name": "LayoutModel",
      "state": {
       "visibility": "hidden"
      }
     },
     "21e7c9b48ece4d66a5d7b8640e7fd11a": {
      "model_module": "@jupyter-widgets/base",
      "model_module_version": "2.0.0",
      "model_name": "LayoutModel",
      "state": {}
     },
     "2292dc673eb84c348e8ec34a08831740": {
      "model_module": "@jupyter-widgets/controls",
      "model_module_version": "2.0.0",
      "model_name": "FloatProgressModel",
      "state": {
       "layout": "IPY_MODEL_c4f6b0c28f0c46019912a5b45133e6ea",
       "max": 1000,
       "style": "IPY_MODEL_e29d5cf6c2d343a0b37e92485e65536a",
       "value": 1000
      }
     },
     "22e627da639c4775a8d2e2e12b619504": {
      "model_module": "@jupyter-widgets/controls",
      "model_module_version": "2.0.0",
      "model_name": "ProgressStyleModel",
      "state": {
       "description_width": ""
      }
     },
     "230d0ac306c341e5979a0bdaeef92dae": {
      "model_module": "@jupyter-widgets/controls",
      "model_module_version": "2.0.0",
      "model_name": "HTMLStyleModel",
      "state": {
       "description_width": "",
       "font_size": null,
       "text_color": null
      }
     },
     "24b140658a9f4f0ebc9f9b2b7e02284e": {
      "model_module": "@jupyter-widgets/base",
      "model_module_version": "2.0.0",
      "model_name": "LayoutModel",
      "state": {}
     },
     "250151d4f7cc4b988615ef38c5f9598e": {
      "model_module": "@jupyter-widgets/base",
      "model_module_version": "2.0.0",
      "model_name": "LayoutModel",
      "state": {
       "visibility": "hidden"
      }
     },
     "2540c720080d4bb4961ef69362f1df7f": {
      "model_module": "@jupyter-widgets/controls",
      "model_module_version": "2.0.0",
      "model_name": "HTMLModel",
      "state": {
       "layout": "IPY_MODEL_f44451d81b414029b0084fd637c91b40",
       "style": "IPY_MODEL_059c3346a81b4b1cbf0e17a3ef17fd73",
       "value": " 985/1000 [00:04&lt;00:00, 246.37it/s]"
      }
     },
     "2586f92216a24ff9943fd54a27d6ab6a": {
      "model_module": "@jupyter-widgets/controls",
      "model_module_version": "2.0.0",
      "model_name": "HTMLStyleModel",
      "state": {
       "description_width": "",
       "font_size": null,
       "text_color": null
      }
     },
     "25cf08cf40db42a49c85f7b7fb327bc6": {
      "model_module": "@jupyter-widgets/base",
      "model_module_version": "2.0.0",
      "model_name": "LayoutModel",
      "state": {
       "visibility": "hidden"
      }
     },
     "25edbea99e8f476a901704d3dd7e1fb4": {
      "model_module": "@jupyter-widgets/base",
      "model_module_version": "2.0.0",
      "model_name": "LayoutModel",
      "state": {
       "visibility": "hidden"
      }
     },
     "2613517386df4854ad5551e57639b387": {
      "model_module": "@jupyter-widgets/base",
      "model_module_version": "2.0.0",
      "model_name": "LayoutModel",
      "state": {}
     },
     "2711b633db0c42b19eacb0544d8750d7": {
      "model_module": "@jupyter-widgets/base",
      "model_module_version": "2.0.0",
      "model_name": "LayoutModel",
      "state": {}
     },
     "274cf103b0cc43c6b3f31aab619109d9": {
      "model_module": "@jupyter-widgets/base",
      "model_module_version": "2.0.0",
      "model_name": "LayoutModel",
      "state": {}
     },
     "27a95b7faf78485498073324d58e301b": {
      "model_module": "@jupyter-widgets/controls",
      "model_module_version": "2.0.0",
      "model_name": "HTMLStyleModel",
      "state": {
       "description_width": "",
       "font_size": null,
       "text_color": null
      }
     },
     "284ec82333d143a48fc92a7c150dfc3a": {
      "model_module": "@jupyter-widgets/base",
      "model_module_version": "2.0.0",
      "model_name": "LayoutModel",
      "state": {}
     },
     "28b8ab8af778493686769960f604d1d2": {
      "model_module": "@jupyter-widgets/controls",
      "model_module_version": "2.0.0",
      "model_name": "FloatProgressModel",
      "state": {
       "layout": "IPY_MODEL_4d9bb444540e4608ae4e69baeb7fcdc5",
       "max": 1000,
       "style": "IPY_MODEL_f7c47cc0881a45ca8384fe780d7d53fd",
       "value": 1000
      }
     },
     "28bd31d42b7346318121093ec500e54c": {
      "model_module": "@jupyter-widgets/base",
      "model_module_version": "2.0.0",
      "model_name": "LayoutModel",
      "state": {}
     },
     "2a642ef906434a99805e3b10e5b1eac0": {
      "model_module": "@jupyter-widgets/controls",
      "model_module_version": "2.0.0",
      "model_name": "HTMLModel",
      "state": {
       "layout": "IPY_MODEL_b2b2b3b24f5a4aa680f2317a69a566d8",
       "style": "IPY_MODEL_7e81cdca9fe2424496d18e1b5754e8c2",
       "value": "100%"
      }
     },
     "2badc884da694a78a4cb69f01b2b5761": {
      "model_module": "@jupyter-widgets/controls",
      "model_module_version": "2.0.0",
      "model_name": "HTMLStyleModel",
      "state": {
       "description_width": "",
       "font_size": null,
       "text_color": null
      }
     },
     "2baf058cfbf848efbf1d5fc5336a1c4f": {
      "model_module": "@jupyter-widgets/controls",
      "model_module_version": "2.0.0",
      "model_name": "ProgressStyleModel",
      "state": {
       "description_width": ""
      }
     },
     "2bba3ac27ed448bb9e95f3bce981b230": {
      "model_module": "@jupyter-widgets/controls",
      "model_module_version": "2.0.0",
      "model_name": "FloatProgressModel",
      "state": {
       "bar_style": "success",
       "layout": "IPY_MODEL_2711b633db0c42b19eacb0544d8750d7",
       "max": 50,
       "style": "IPY_MODEL_5faf024ca03c4e298c7895e38578d857",
       "value": 50
      }
     },
     "2be4daa785344b6294531de314e2cfe9": {
      "model_module": "@jupyter-widgets/base",
      "model_module_version": "2.0.0",
      "model_name": "LayoutModel",
      "state": {
       "visibility": "hidden"
      }
     },
     "2d945f5d9ea24f65b7ec0c239fa308f5": {
      "model_module": "@jupyter-widgets/controls",
      "model_module_version": "2.0.0",
      "model_name": "ProgressStyleModel",
      "state": {
       "description_width": ""
      }
     },
     "2e37476aeb0a454eadc8b7701fdb09f6": {
      "model_module": "@jupyter-widgets/controls",
      "model_module_version": "2.0.0",
      "model_name": "FloatProgressModel",
      "state": {
       "layout": "IPY_MODEL_64d123b66d3b4e7cb2c7bb4efa65d004",
       "max": 1000,
       "style": "IPY_MODEL_5824ce866c6046aba7613ba1b39f80dc",
       "value": 1000
      }
     },
     "2e4de96b233944afa998b77f2317f83f": {
      "model_module": "@jupyter-widgets/base",
      "model_module_version": "2.0.0",
      "model_name": "LayoutModel",
      "state": {}
     },
     "2e7db65ea34c48dd923733352ecc1fd9": {
      "model_module": "@jupyter-widgets/controls",
      "model_module_version": "2.0.0",
      "model_name": "HTMLModel",
      "state": {
       "layout": "IPY_MODEL_d29a455758c14541abbef50523a69e1e",
       "style": "IPY_MODEL_da542032ba864427aa6726efe4545f7b",
       "value": " 975/1000 [00:04&lt;00:00, 230.01it/s]"
      }
     },
     "2ec6ad48bc034e2991bc30c27a212076": {
      "model_module": "@jupyter-widgets/base",
      "model_module_version": "2.0.0",
      "model_name": "LayoutModel",
      "state": {}
     },
     "2ee24715def040b9945b224aacbb4bc3": {
      "model_module": "@jupyter-widgets/base",
      "model_module_version": "2.0.0",
      "model_name": "LayoutModel",
      "state": {}
     },
     "2f3117b989b843b2bf017ff3fd957ce6": {
      "model_module": "@jupyter-widgets/base",
      "model_module_version": "2.0.0",
      "model_name": "LayoutModel",
      "state": {}
     },
     "314d232430a845a8914e86e646a9d1be": {
      "model_module": "@jupyter-widgets/controls",
      "model_module_version": "2.0.0",
      "model_name": "ProgressStyleModel",
      "state": {
       "description_width": ""
      }
     },
     "318b6b8c3743475791b39fc032e322de": {
      "model_module": "@jupyter-widgets/controls",
      "model_module_version": "2.0.0",
      "model_name": "FloatProgressModel",
      "state": {
       "layout": "IPY_MODEL_df908234a7434f72ae088af010729170",
       "max": 1000,
       "style": "IPY_MODEL_ddcd3457771b4fb5ad5d9c5d706ab46b",
       "value": 1000
      }
     },
     "32181e0428bb45b4ae421a3e7361baec": {
      "model_module": "@jupyter-widgets/controls",
      "model_module_version": "2.0.0",
      "model_name": "HTMLModel",
      "state": {
       "layout": "IPY_MODEL_f9e337de4d6c44d0a0cee3cf00e675e8",
       "style": "IPY_MODEL_4ca4c42ae42d4c46b51b35b0e579e94b",
       "value": " 999/1000 [00:04&lt;00:00, 242.17it/s]"
      }
     },
     "328fd4f3a3734441bbf1135fe7d8e21a": {
      "model_module": "@jupyter-widgets/base",
      "model_module_version": "2.0.0",
      "model_name": "LayoutModel",
      "state": {}
     },
     "32e2d88f181b41ebaaec9b6c453292ec": {
      "model_module": "@jupyter-widgets/base",
      "model_module_version": "2.0.0",
      "model_name": "LayoutModel",
      "state": {}
     },
     "337b8cdeadb942e5b69aa279aba84311": {
      "model_module": "@jupyter-widgets/controls",
      "model_module_version": "2.0.0",
      "model_name": "HTMLModel",
      "state": {
       "layout": "IPY_MODEL_ceef8ca2150b445b8f02716c72e2893b",
       "style": "IPY_MODEL_0715852627f2446fafd8c82303885b9b",
       "value": " 97%"
      }
     },
     "33841d9f298042e99e34dab2eab118f6": {
      "model_module": "@jupyter-widgets/controls",
      "model_module_version": "2.0.0",
      "model_name": "FloatProgressModel",
      "state": {
       "layout": "IPY_MODEL_b5e75ae64ffd420b9190dc3535a054a7",
       "max": 1000,
       "style": "IPY_MODEL_1cb0dda22e4645b49fc7dc15338876a4",
       "value": 1000
      }
     },
     "33bdcd59687d436f95c68128668f91a4": {
      "model_module": "@jupyter-widgets/controls",
      "model_module_version": "2.0.0",
      "model_name": "FloatProgressModel",
      "state": {
       "layout": "IPY_MODEL_606bdf188f8b4d38be5e6445913c4009",
       "max": 1000,
       "style": "IPY_MODEL_82f5fc3431514e48af70080584df6ec7",
       "value": 1000
      }
     },
     "33d2521da690472bac4f48f91c33791e": {
      "model_module": "@jupyter-widgets/base",
      "model_module_version": "2.0.0",
      "model_name": "LayoutModel",
      "state": {}
     },
     "341539420b19453bb3b9dc8791957d26": {
      "model_module": "@jupyter-widgets/controls",
      "model_module_version": "2.0.0",
      "model_name": "HTMLModel",
      "state": {
       "layout": "IPY_MODEL_e2bfe5f4f1b84b3498673f126f51ddae",
       "style": "IPY_MODEL_b62673ff05274add8486a04e4a7733cb",
       "value": "100%"
      }
     },
     "34b967abdd1d415193e3224560002763": {
      "model_module": "@jupyter-widgets/controls",
      "model_module_version": "2.0.0",
      "model_name": "FloatProgressModel",
      "state": {
       "layout": "IPY_MODEL_6c74e4021dfb4d318b683f6c9d7c195e",
       "max": 1000,
       "style": "IPY_MODEL_d1478bfc7090479c92a209671bdb51a5",
       "value": 1000
      }
     },
     "34e7f86b09f2474fa0ba2f4c0797f480": {
      "model_module": "@jupyter-widgets/controls",
      "model_module_version": "2.0.0",
      "model_name": "HTMLStyleModel",
      "state": {
       "description_width": "",
       "font_size": null,
       "text_color": null
      }
     },
     "34f1695149764c0785663bf7ad06d1d0": {
      "model_module": "@jupyter-widgets/controls",
      "model_module_version": "2.0.0",
      "model_name": "HTMLModel",
      "state": {
       "layout": "IPY_MODEL_32e2d88f181b41ebaaec9b6c453292ec",
       "style": "IPY_MODEL_01c558bafa7e400194f7a185e373b86c",
       "value": " 1000/1000 [00:26&lt;00:00, 38.32it/s]"
      }
     },
     "354e7df317214ece8f1cdf6c2aa5d274": {
      "model_module": "@jupyter-widgets/base",
      "model_module_version": "2.0.0",
      "model_name": "LayoutModel",
      "state": {}
     },
     "356c611653124077a797428e6c347aab": {
      "model_module": "@jupyter-widgets/controls",
      "model_module_version": "2.0.0",
      "model_name": "HTMLModel",
      "state": {
       "layout": "IPY_MODEL_c1bc4d312ca14aca97bc7997a69f403d",
       "style": "IPY_MODEL_7e609536ac4344c28bcf8876a903b312",
       "value": " 1000/1000 [00:04&lt;00:00, 187.93it/s]"
      }
     },
     "3599b4aff1104eac86fe748693272446": {
      "model_module": "@jupyter-widgets/controls",
      "model_module_version": "2.0.0",
      "model_name": "HTMLModel",
      "state": {
       "layout": "IPY_MODEL_47b8c02b32914e6dbeb693b4bec1ccc9",
       "style": "IPY_MODEL_b8f343f113dc46bfaf2278e1cf85e71e",
       "value": " 989/1000 [00:04&lt;00:00, 241.19it/s]"
      }
     },
     "35c444792c4b4377ba8b4a83a2807947": {
      "model_module": "@jupyter-widgets/base",
      "model_module_version": "2.0.0",
      "model_name": "LayoutModel",
      "state": {}
     },
     "35f3120821034fbfa1b82d5e29cb2882": {
      "model_module": "@jupyter-widgets/controls",
      "model_module_version": "2.0.0",
      "model_name": "HTMLModel",
      "state": {
       "layout": "IPY_MODEL_a5a5a51e74374c4cb7322888bb9b0b72",
       "style": "IPY_MODEL_fba6b7af69db4d339dab7104d01e1f11",
       "value": "100%"
      }
     },
     "36056c55cec4452fb26eb1452fac6043": {
      "model_module": "@jupyter-widgets/controls",
      "model_module_version": "2.0.0",
      "model_name": "HTMLModel",
      "state": {
       "layout": "IPY_MODEL_a9dede43f76c4eb2ac3b09e7a72a6d56",
       "style": "IPY_MODEL_71ebe595f9b143a99ace330849cc5ce0",
       "value": " 1000/1000 [00:05&lt;00:00, 172.92it/s]"
      }
     },
     "36290f5b4a8e4822a13ed6e1d43f8a2a": {
      "model_module": "@jupyter-widgets/controls",
      "model_module_version": "2.0.0",
      "model_name": "FloatProgressModel",
      "state": {
       "layout": "IPY_MODEL_dc4dfcd189bf4a1f886fd5e9cc3c8181",
       "max": 1000,
       "style": "IPY_MODEL_c1289c8b45574627b9b2397ccd7f0f73",
       "value": 1000
      }
     },
     "368cc550cc28469b9a14235314a1c666": {
      "model_module": "@jupyter-widgets/base",
      "model_module_version": "2.0.0",
      "model_name": "LayoutModel",
      "state": {
       "visibility": "hidden"
      }
     },
     "36afff0a5d264ee89f0a94624153ad5a": {
      "model_module": "@jupyter-widgets/controls",
      "model_module_version": "2.0.0",
      "model_name": "HTMLModel",
      "state": {
       "layout": "IPY_MODEL_657e96907d8048dc8e0a80a2f6257d1d",
       "style": "IPY_MODEL_bc85f8bfa6824dfbae88febe5e7db1f8",
       "value": "100%"
      }
     },
     "36d008eabaa2415abbfffc24f98bc7ae": {
      "model_module": "@jupyter-widgets/controls",
      "model_module_version": "2.0.0",
      "model_name": "HTMLModel",
      "state": {
       "layout": "IPY_MODEL_ba96a94023a14d7ab16fe30f3d852e9d",
       "style": "IPY_MODEL_7bf7076d4f3a4143a122d424fe1c9605",
       "value": " 1000/1000 [00:04&lt;00:00, 190.82it/s]"
      }
     },
     "36e6db2573804d779a34bdd1930c22f4": {
      "model_module": "@jupyter-widgets/controls",
      "model_module_version": "2.0.0",
      "model_name": "HTMLStyleModel",
      "state": {
       "description_width": "",
       "font_size": null,
       "text_color": null
      }
     },
     "374f8af94faf4f548a0b5417dd65e4c7": {
      "model_module": "@jupyter-widgets/controls",
      "model_module_version": "2.0.0",
      "model_name": "FloatProgressModel",
      "state": {
       "layout": "IPY_MODEL_951a654bbba84c3093717f52b9cdc0c1",
       "max": 1000,
       "style": "IPY_MODEL_3b494032d3004163a7e3c99b015a9c0b",
       "value": 1000
      }
     },
     "3767b5bf439343caa81f15d8d26d5fbc": {
      "model_module": "@jupyter-widgets/controls",
      "model_module_version": "2.0.0",
      "model_name": "FloatProgressModel",
      "state": {
       "layout": "IPY_MODEL_16afcf299587412da680891048ac82b3",
       "max": 1000,
       "style": "IPY_MODEL_1cfe08b15b6c43a48e7587a0e677218e",
       "value": 1000
      }
     },
     "380384faa7e14f72a976bfa039c16b8b": {
      "model_module": "@jupyter-widgets/controls",
      "model_module_version": "2.0.0",
      "model_name": "HTMLModel",
      "state": {
       "layout": "IPY_MODEL_2613517386df4854ad5551e57639b387",
       "style": "IPY_MODEL_46e44da4c66f44488d74ab3a4e0440be",
       "value": " 99%"
      }
     },
     "385aab8381124c4cb93e1a48e002a553": {
      "model_module": "@jupyter-widgets/base",
      "model_module_version": "2.0.0",
      "model_name": "LayoutModel",
      "state": {}
     },
     "3884c902628d4ef2b82526bd29346e03": {
      "model_module": "@jupyter-widgets/base",
      "model_module_version": "2.0.0",
      "model_name": "LayoutModel",
      "state": {}
     },
     "38a2d97bf671449eb114c44f6e4950be": {
      "model_module": "@jupyter-widgets/base",
      "model_module_version": "2.0.0",
      "model_name": "LayoutModel",
      "state": {}
     },
     "38f92974ec0e4f02b85d1ebac834735c": {
      "model_module": "@jupyter-widgets/controls",
      "model_module_version": "2.0.0",
      "model_name": "HTMLModel",
      "state": {
       "layout": "IPY_MODEL_9e65553f969e4f2abeda770b42e34a5e",
       "style": "IPY_MODEL_16f2e928210049798b1dfa2ca067fc28",
       "value": " 995/1000 [00:04&lt;00:00, 244.21it/s]"
      }
     },
     "398c542b300f4005a58299c26dcce661": {
      "model_module": "@jupyter-widgets/controls",
      "model_module_version": "2.0.0",
      "model_name": "HTMLStyleModel",
      "state": {
       "description_width": "",
       "font_size": null,
       "text_color": null
      }
     },
     "39b4cf98b7284d0d978921ffbb8dbf53": {
      "model_module": "@jupyter-widgets/base",
      "model_module_version": "2.0.0",
      "model_name": "LayoutModel",
      "state": {}
     },
     "3a3c46d857c94defafad469fbe63aaca": {
      "model_module": "@jupyter-widgets/controls",
      "model_module_version": "2.0.0",
      "model_name": "HTMLStyleModel",
      "state": {
       "description_width": "",
       "font_size": null,
       "text_color": null
      }
     },
     "3a43f4b0a51b4ea4b156dd2941bc71fa": {
      "model_module": "@jupyter-widgets/base",
      "model_module_version": "2.0.0",
      "model_name": "LayoutModel",
      "state": {
       "visibility": "hidden"
      }
     },
     "3b494032d3004163a7e3c99b015a9c0b": {
      "model_module": "@jupyter-widgets/controls",
      "model_module_version": "2.0.0",
      "model_name": "ProgressStyleModel",
      "state": {
       "description_width": ""
      }
     },
     "3b55935109d3496683bf9fcdd1208627": {
      "model_module": "@jupyter-widgets/controls",
      "model_module_version": "2.0.0",
      "model_name": "HTMLStyleModel",
      "state": {
       "description_width": "",
       "font_size": null,
       "text_color": null
      }
     },
     "3b75227446ce40c8b65bfde8f8bc4501": {
      "model_module": "@jupyter-widgets/base",
      "model_module_version": "2.0.0",
      "model_name": "LayoutModel",
      "state": {}
     },
     "3bf18feee66848c0af7d25a3875155a0": {
      "model_module": "@jupyter-widgets/base",
      "model_module_version": "2.0.0",
      "model_name": "LayoutModel",
      "state": {
       "visibility": "hidden"
      }
     },
     "3c8f4225ef2b495e9cb066d8697b488f": {
      "model_module": "@jupyter-widgets/controls",
      "model_module_version": "2.0.0",
      "model_name": "HTMLModel",
      "state": {
       "layout": "IPY_MODEL_977bc14176eb4ef99ce428d92239d3f1",
       "style": "IPY_MODEL_af0dfbc7996c481390e1d669c3524e6b",
       "value": " 982/1000 [00:04&lt;00:00, 239.73it/s]"
      }
     },
     "3ccdf692177746b39f16d4505da2f249": {
      "model_module": "@jupyter-widgets/controls",
      "model_module_version": "2.0.0",
      "model_name": "ProgressStyleModel",
      "state": {
       "description_width": ""
      }
     },
     "3d76f185df704358b7fdf8d101289a02": {
      "model_module": "@jupyter-widgets/base",
      "model_module_version": "2.0.0",
      "model_name": "LayoutModel",
      "state": {}
     },
     "3dbc4959ad7c47388d6f0736867f2868": {
      "model_module": "@jupyter-widgets/controls",
      "model_module_version": "2.0.0",
      "model_name": "HTMLModel",
      "state": {
       "layout": "IPY_MODEL_fe1560205e88441097f0cea1d66b7ae8",
       "style": "IPY_MODEL_708502ad4b6e410bba411c5e05cf5afa",
       "value": " 999/1000 [00:04&lt;00:00, 262.76it/s]"
      }
     },
     "3e3cf65aa6f54b03809a113e38291ae5": {
      "model_module": "@jupyter-widgets/controls",
      "model_module_version": "2.0.0",
      "model_name": "ProgressStyleModel",
      "state": {
       "description_width": ""
      }
     },
     "3e53254e4e1248f3b4170600cae07f95": {
      "model_module": "@jupyter-widgets/base",
      "model_module_version": "2.0.0",
      "model_name": "LayoutModel",
      "state": {
       "visibility": "hidden"
      }
     },
     "3ea84434544e4d588c4efe4ed437e193": {
      "model_module": "@jupyter-widgets/controls",
      "model_module_version": "2.0.0",
      "model_name": "HTMLModel",
      "state": {
       "layout": "IPY_MODEL_f0ebcb7eb25740cea2341a30b859dc8e",
       "style": "IPY_MODEL_bf94a2ca646a47d291fca5437492c7fe",
       "value": " 1000/1000 [00:28&lt;00:00, 38.02it/s]"
      }
     },
     "3fea792d81c14ef6906a57830d30373a": {
      "model_module": "@jupyter-widgets/base",
      "model_module_version": "2.0.0",
      "model_name": "LayoutModel",
      "state": {}
     },
     "40c47a83cff544de82ad886682d67b78": {
      "model_module": "@jupyter-widgets/base",
      "model_module_version": "2.0.0",
      "model_name": "LayoutModel",
      "state": {}
     },
     "411ba03a2bab488fa1c8704788221dd3": {
      "model_module": "@jupyter-widgets/base",
      "model_module_version": "2.0.0",
      "model_name": "LayoutModel",
      "state": {}
     },
     "414c795aec41488a99da85377969f7c1": {
      "model_module": "@jupyter-widgets/base",
      "model_module_version": "2.0.0",
      "model_name": "LayoutModel",
      "state": {}
     },
     "41f66dff6d1049cbbe731dc8ab3bff86": {
      "model_module": "@jupyter-widgets/controls",
      "model_module_version": "2.0.0",
      "model_name": "ProgressStyleModel",
      "state": {
       "description_width": ""
      }
     },
     "431b9a92b597415a8c50dc29974dbccb": {
      "model_module": "@jupyter-widgets/controls",
      "model_module_version": "2.0.0",
      "model_name": "ProgressStyleModel",
      "state": {
       "description_width": ""
      }
     },
     "44aab0062d4d436b8dec4eba547e0c46": {
      "model_module": "@jupyter-widgets/base",
      "model_module_version": "2.0.0",
      "model_name": "LayoutModel",
      "state": {}
     },
     "44c7923e38914c3daba74b2efe8f9533": {
      "model_module": "@jupyter-widgets/controls",
      "model_module_version": "2.0.0",
      "model_name": "HTMLStyleModel",
      "state": {
       "description_width": "",
       "font_size": null,
       "text_color": null
      }
     },
     "44dbacaf2cb6447a8f4678e65c74ae23": {
      "model_module": "@jupyter-widgets/base",
      "model_module_version": "2.0.0",
      "model_name": "LayoutModel",
      "state": {
       "visibility": "hidden"
      }
     },
     "452dd7d34f36474fa90a43e481397016": {
      "model_module": "@jupyter-widgets/base",
      "model_module_version": "2.0.0",
      "model_name": "LayoutModel",
      "state": {}
     },
     "4596d5dbcf914796a661054bf83c05f3": {
      "model_module": "@jupyter-widgets/controls",
      "model_module_version": "2.0.0",
      "model_name": "FloatProgressModel",
      "state": {
       "layout": "IPY_MODEL_c2b78f94582a450a9e66b99bf44aa81f",
       "max": 1000,
       "style": "IPY_MODEL_a2f1e8eff3374902aa23bf23177c62c7",
       "value": 1000
      }
     },
     "46e44da4c66f44488d74ab3a4e0440be": {
      "model_module": "@jupyter-widgets/controls",
      "model_module_version": "2.0.0",
      "model_name": "HTMLStyleModel",
      "state": {
       "description_width": "",
       "font_size": null,
       "text_color": null
      }
     },
     "470b673a4f00460d89c4129d23741744": {
      "model_module": "@jupyter-widgets/controls",
      "model_module_version": "2.0.0",
      "model_name": "HTMLModel",
      "state": {
       "layout": "IPY_MODEL_75cd9319758e4997bfae419a66b09cfa",
       "style": "IPY_MODEL_e46c6dd8e335486f9b45aff576d69451",
       "value": " 99%"
      }
     },
     "474a277701104357a25bf9e2f5868964": {
      "model_module": "@jupyter-widgets/base",
      "model_module_version": "2.0.0",
      "model_name": "LayoutModel",
      "state": {}
     },
     "47b8c02b32914e6dbeb693b4bec1ccc9": {
      "model_module": "@jupyter-widgets/base",
      "model_module_version": "2.0.0",
      "model_name": "LayoutModel",
      "state": {}
     },
     "47e9c091f6604b199212eccaca38dfe1": {
      "model_module": "@jupyter-widgets/base",
      "model_module_version": "2.0.0",
      "model_name": "LayoutModel",
      "state": {
       "visibility": "hidden"
      }
     },
     "489db61c996b4999847ba5792ba674d8": {
      "model_module": "@jupyter-widgets/controls",
      "model_module_version": "2.0.0",
      "model_name": "HTMLModel",
      "state": {
       "layout": "IPY_MODEL_8a23d2af20774a2ab3acb5c59547867b",
       "style": "IPY_MODEL_cd9b5daa50774084b08e202ac0267ec9",
       "value": "100%"
      }
     },
     "4945075cf7b1422a9e4e25864943db1c": {
      "model_module": "@jupyter-widgets/base",
      "model_module_version": "2.0.0",
      "model_name": "LayoutModel",
      "state": {
       "visibility": "hidden"
      }
     },
     "4963c9cda960447995ed2032f4377b9e": {
      "model_module": "@jupyter-widgets/base",
      "model_module_version": "2.0.0",
      "model_name": "LayoutModel",
      "state": {
       "visibility": "hidden"
      }
     },
     "4a988dee20e84923be1d64c6851a3726": {
      "model_module": "@jupyter-widgets/base",
      "model_module_version": "2.0.0",
      "model_name": "LayoutModel",
      "state": {}
     },
     "4bafe59cc65d47368351b43f3a58f2da": {
      "model_module": "@jupyter-widgets/controls",
      "model_module_version": "2.0.0",
      "model_name": "HTMLModel",
      "state": {
       "layout": "IPY_MODEL_16777b58cb2b441f9cac8066854445a1",
       "style": "IPY_MODEL_5b11945cce0e4a75a62fb976be73bd76",
       "value": " 97%"
      }
     },
     "4c3a12c119974077891bf20850e289d9": {
      "model_module": "@jupyter-widgets/controls",
      "model_module_version": "2.0.0",
      "model_name": "FloatProgressModel",
      "state": {
       "layout": "IPY_MODEL_24b140658a9f4f0ebc9f9b2b7e02284e",
       "max": 1000,
       "style": "IPY_MODEL_14f4ab0d7a3d45ee94b4fa31db26d62e",
       "value": 1000
      }
     },
     "4ca4c42ae42d4c46b51b35b0e579e94b": {
      "model_module": "@jupyter-widgets/controls",
      "model_module_version": "2.0.0",
      "model_name": "HTMLStyleModel",
      "state": {
       "description_width": "",
       "font_size": null,
       "text_color": null
      }
     },
     "4d9bb444540e4608ae4e69baeb7fcdc5": {
      "model_module": "@jupyter-widgets/base",
      "model_module_version": "2.0.0",
      "model_name": "LayoutModel",
      "state": {}
     },
     "4f6af733b1a04814887e1a9214b9f4a7": {
      "model_module": "@jupyter-widgets/controls",
      "model_module_version": "2.0.0",
      "model_name": "FloatProgressModel",
      "state": {
       "layout": "IPY_MODEL_5aef3678c395432ba9f4aa29ea70fd0f",
       "max": 1000,
       "style": "IPY_MODEL_dc8123c7a627452287b1067e5853a99d",
       "value": 1000
      }
     },
     "4fc1a516a7c24aa88a3d242508fc5bd1": {
      "model_module": "@jupyter-widgets/controls",
      "model_module_version": "2.0.0",
      "model_name": "FloatProgressModel",
      "state": {
       "layout": "IPY_MODEL_411ba03a2bab488fa1c8704788221dd3",
       "max": 1000,
       "style": "IPY_MODEL_e41ef064227845bc9be6fd97823edcfa",
       "value": 1000
      }
     },
     "50a0e75fb7f04fcc89b0a0a5887f0952": {
      "model_module": "@jupyter-widgets/base",
      "model_module_version": "2.0.0",
      "model_name": "LayoutModel",
      "state": {}
     },
     "5118605d1fce4c17a14ce93c611fd424": {
      "model_module": "@jupyter-widgets/base",
      "model_module_version": "2.0.0",
      "model_name": "LayoutModel",
      "state": {
       "visibility": "hidden"
      }
     },
     "51c727fef8fb4302881217420f09f7f9": {
      "model_module": "@jupyter-widgets/controls",
      "model_module_version": "2.0.0",
      "model_name": "FloatProgressModel",
      "state": {
       "bar_style": "success",
       "layout": "IPY_MODEL_e5cfb3120adc46a9884a1e214ae43067",
       "max": 1000,
       "style": "IPY_MODEL_3ccdf692177746b39f16d4505da2f249",
       "value": 1000
      }
     },
     "523a442369cf40119dca5a920ea72a4d": {
      "model_module": "@jupyter-widgets/controls",
      "model_module_version": "2.0.0",
      "model_name": "HTMLModel",
      "state": {
       "layout": "IPY_MODEL_023dfbfcf11a447c91e5d742956fc914",
       "style": "IPY_MODEL_d6c7e2fd23f243ab893e11eff150e0ff",
       "value": "100%"
      }
     },
     "523e78fe19f447adb0363805250728e9": {
      "model_module": "@jupyter-widgets/controls",
      "model_module_version": "2.0.0",
      "model_name": "HBoxModel",
      "state": {
       "children": [
        "IPY_MODEL_73431040354c4bcca6bcfc1fa98df26e",
        "IPY_MODEL_20fcff9bd2d84b058634c735d1439240",
        "IPY_MODEL_3ea84434544e4d588c4efe4ed437e193"
       ],
       "layout": "IPY_MODEL_6a877f896a9745788b1f8f5fddea816f"
      }
     },
     "531a8ab2b630425eb0558c16da8fa598": {
      "model_module": "@jupyter-widgets/controls",
      "model_module_version": "2.0.0",
      "model_name": "HTMLModel",
      "state": {
       "layout": "IPY_MODEL_2ec6ad48bc034e2991bc30c27a212076",
       "style": "IPY_MODEL_a833399f880b46bebeb2be510ab45f0c",
       "value": " 988/1000 [00:04&lt;00:00, 231.29it/s]"
      }
     },
     "549040f06bd649c68e92fd1e6e8a8057": {
      "model_module": "@jupyter-widgets/controls",
      "model_module_version": "2.0.0",
      "model_name": "ProgressStyleModel",
      "state": {
       "description_width": ""
      }
     },
     "54990883cff94137a81cd4314fc326a5": {
      "model_module": "@jupyter-widgets/controls",
      "model_module_version": "2.0.0",
      "model_name": "HTMLStyleModel",
      "state": {
       "description_width": "",
       "font_size": null,
       "text_color": null
      }
     },
     "557570f49df24a77a8e653a9d04e7932": {
      "model_module": "@jupyter-widgets/controls",
      "model_module_version": "2.0.0",
      "model_name": "HTMLModel",
      "state": {
       "layout": "IPY_MODEL_bacdb49bb5544fd684ddd54e414536a3",
       "style": "IPY_MODEL_54990883cff94137a81cd4314fc326a5",
       "value": " 983/1000 [00:04&lt;00:00, 245.57it/s]"
      }
     },
     "55e39c76c9d942f0a1746673b4de8401": {
      "model_module": "@jupyter-widgets/controls",
      "model_module_version": "2.0.0",
      "model_name": "HTMLStyleModel",
      "state": {
       "description_width": "",
       "font_size": null,
       "text_color": null
      }
     },
     "569ca804f6c24b22804c604a0f7b10b4": {
      "model_module": "@jupyter-widgets/controls",
      "model_module_version": "2.0.0",
      "model_name": "ProgressStyleModel",
      "state": {
       "description_width": ""
      }
     },
     "56c658c0c4cb4389ac01efd7f3e2aeca": {
      "model_module": "@jupyter-widgets/base",
      "model_module_version": "2.0.0",
      "model_name": "LayoutModel",
      "state": {
       "visibility": "hidden"
      }
     },
     "5780960c303a409c9629abdd736179cb": {
      "model_module": "@jupyter-widgets/controls",
      "model_module_version": "2.0.0",
      "model_name": "HTMLStyleModel",
      "state": {
       "description_width": "",
       "font_size": null,
       "text_color": null
      }
     },
     "57d5a232811a460483867c5620635d6b": {
      "model_module": "@jupyter-widgets/controls",
      "model_module_version": "2.0.0",
      "model_name": "HTMLStyleModel",
      "state": {
       "description_width": "",
       "font_size": null,
       "text_color": null
      }
     },
     "5824ce866c6046aba7613ba1b39f80dc": {
      "model_module": "@jupyter-widgets/controls",
      "model_module_version": "2.0.0",
      "model_name": "ProgressStyleModel",
      "state": {
       "description_width": ""
      }
     },
     "586a0570cbba4c0386af51b5382bc905": {
      "model_module": "@jupyter-widgets/controls",
      "model_module_version": "2.0.0",
      "model_name": "HTMLModel",
      "state": {
       "layout": "IPY_MODEL_452dd7d34f36474fa90a43e481397016",
       "style": "IPY_MODEL_9ae1571dc03945caa87b9b0932025e5e",
       "value": "100%"
      }
     },
     "587c2e0de1ea409bb4cc9406e5e28e39": {
      "model_module": "@jupyter-widgets/controls",
      "model_module_version": "2.0.0",
      "model_name": "HTMLStyleModel",
      "state": {
       "description_width": "",
       "font_size": null,
       "text_color": null
      }
     },
     "5982445068704d9ab87bf10e90544543": {
      "model_module": "@jupyter-widgets/controls",
      "model_module_version": "2.0.0",
      "model_name": "ProgressStyleModel",
      "state": {
       "description_width": ""
      }
     },
     "5a3ef38334a848de836e965005ff8b52": {
      "model_module": "@jupyter-widgets/base",
      "model_module_version": "2.0.0",
      "model_name": "LayoutModel",
      "state": {}
     },
     "5a541f56345b4d46b9f8e97fc7cb7980": {
      "model_module": "@jupyter-widgets/controls",
      "model_module_version": "2.0.0",
      "model_name": "ProgressStyleModel",
      "state": {
       "description_width": ""
      }
     },
     "5aef3678c395432ba9f4aa29ea70fd0f": {
      "model_module": "@jupyter-widgets/base",
      "model_module_version": "2.0.0",
      "model_name": "LayoutModel",
      "state": {}
     },
     "5b11945cce0e4a75a62fb976be73bd76": {
      "model_module": "@jupyter-widgets/controls",
      "model_module_version": "2.0.0",
      "model_name": "HTMLStyleModel",
      "state": {
       "description_width": "",
       "font_size": null,
       "text_color": null
      }
     },
     "5be6cae166734651b11b9a0a219a74cf": {
      "model_module": "@jupyter-widgets/base",
      "model_module_version": "2.0.0",
      "model_name": "LayoutModel",
      "state": {}
     },
     "5c3d3e47ee2040f393acb665e4398ff5": {
      "model_module": "@jupyter-widgets/controls",
      "model_module_version": "2.0.0",
      "model_name": "HTMLStyleModel",
      "state": {
       "description_width": "",
       "font_size": null,
       "text_color": null
      }
     },
     "5c87ca5961a0486ea61c64c85ab78a5d": {
      "model_module": "@jupyter-widgets/base",
      "model_module_version": "2.0.0",
      "model_name": "LayoutModel",
      "state": {}
     },
     "5cb1bd2668224b70be42d0b098918142": {
      "model_module": "@jupyter-widgets/base",
      "model_module_version": "2.0.0",
      "model_name": "LayoutModel",
      "state": {
       "visibility": "hidden"
      }
     },
     "5f8e40b4d330466c8382f0786501e201": {
      "model_module": "@jupyter-widgets/base",
      "model_module_version": "2.0.0",
      "model_name": "LayoutModel",
      "state": {
       "visibility": "hidden"
      }
     },
     "5faf024ca03c4e298c7895e38578d857": {
      "model_module": "@jupyter-widgets/controls",
      "model_module_version": "2.0.0",
      "model_name": "ProgressStyleModel",
      "state": {
       "bar_color": "#333388",
       "description_width": ""
      }
     },
     "5fcdafc18e2c448381be8a7be24d5bf5": {
      "model_module": "@jupyter-widgets/controls",
      "model_module_version": "2.0.0",
      "model_name": "HTMLModel",
      "state": {
       "layout": "IPY_MODEL_fb824ffe90ce46a7a5aaa42846ea795b",
       "style": "IPY_MODEL_61e8bfdbd0c74fdb888eb0b1a4cf4e91",
       "value": " 99%"
      }
     },
     "606bdf188f8b4d38be5e6445913c4009": {
      "model_module": "@jupyter-widgets/base",
      "model_module_version": "2.0.0",
      "model_name": "LayoutModel",
      "state": {}
     },
     "606d896de1e545b5b8467fcb8ae3f483": {
      "model_module": "@jupyter-widgets/base",
      "model_module_version": "2.0.0",
      "model_name": "LayoutModel",
      "state": {}
     },
     "6085dabe0ce04e41b6903acc4fb42dc9": {
      "model_module": "@jupyter-widgets/controls",
      "model_module_version": "2.0.0",
      "model_name": "HTMLStyleModel",
      "state": {
       "description_width": "",
       "font_size": null,
       "text_color": null
      }
     },
     "618d1be3e30a4fedb9b3f51efdc93c59": {
      "model_module": "@jupyter-widgets/controls",
      "model_module_version": "2.0.0",
      "model_name": "ProgressStyleModel",
      "state": {
       "description_width": ""
      }
     },
     "61e8bfdbd0c74fdb888eb0b1a4cf4e91": {
      "model_module": "@jupyter-widgets/controls",
      "model_module_version": "2.0.0",
      "model_name": "HTMLStyleModel",
      "state": {
       "description_width": "",
       "font_size": null,
       "text_color": null
      }
     },
     "629845faa6c14a8eae53f73428f3a5fb": {
      "model_module": "@jupyter-widgets/controls",
      "model_module_version": "2.0.0",
      "model_name": "FloatProgressModel",
      "state": {
       "layout": "IPY_MODEL_f4bdbf381c104445ad269dc7ce66cd06",
       "max": 1000,
       "style": "IPY_MODEL_c4a39e4f5bc644418dc0b6e67ad4a73b",
       "value": 1000
      }
     },
     "62aebc26e3424e399544909a42f31c25": {
      "model_module": "@jupyter-widgets/base",
      "model_module_version": "2.0.0",
      "model_name": "LayoutModel",
      "state": {}
     },
     "62b9fd67200f43adad63663d5fb90707": {
      "model_module": "@jupyter-widgets/controls",
      "model_module_version": "2.0.0",
      "model_name": "HTMLStyleModel",
      "state": {
       "description_width": "",
       "font_size": null,
       "text_color": null
      }
     },
     "63b853fdb2254a908d93c90ff36bc622": {
      "model_module": "@jupyter-widgets/base",
      "model_module_version": "2.0.0",
      "model_name": "LayoutModel",
      "state": {
       "visibility": "hidden"
      }
     },
     "6417c57c1a364b78becc7d4327993e25": {
      "model_module": "@jupyter-widgets/base",
      "model_module_version": "2.0.0",
      "model_name": "LayoutModel",
      "state": {
       "visibility": "hidden"
      }
     },
     "64cea15b3fc746588c22c277246ff4de": {
      "model_module": "@jupyter-widgets/base",
      "model_module_version": "2.0.0",
      "model_name": "LayoutModel",
      "state": {}
     },
     "64d123b66d3b4e7cb2c7bb4efa65d004": {
      "model_module": "@jupyter-widgets/base",
      "model_module_version": "2.0.0",
      "model_name": "LayoutModel",
      "state": {}
     },
     "651362c67be24634b1748e553d4fd014": {
      "model_module": "@jupyter-widgets/controls",
      "model_module_version": "2.0.0",
      "model_name": "HBoxModel",
      "state": {
       "children": [
        "IPY_MODEL_489db61c996b4999847ba5792ba674d8",
        "IPY_MODEL_2bba3ac27ed448bb9e95f3bce981b230",
        "IPY_MODEL_f9df21b81a98415b9f75b24988d2797c"
       ],
       "layout": "IPY_MODEL_7c1d10969cc44ecfb6a062b8dd27c6d0"
      }
     },
     "657e96907d8048dc8e0a80a2f6257d1d": {
      "model_module": "@jupyter-widgets/base",
      "model_module_version": "2.0.0",
      "model_name": "LayoutModel",
      "state": {}
     },
     "65b45724c8b84580bb30be14ae2a48db": {
      "model_module": "@jupyter-widgets/controls",
      "model_module_version": "2.0.0",
      "model_name": "HTMLModel",
      "state": {
       "layout": "IPY_MODEL_f00fed5aff004ed4bf94e774af78ce83",
       "style": "IPY_MODEL_3a3c46d857c94defafad469fbe63aaca",
       "value": " 98%"
      }
     },
     "66cb4196338d4a88902b5d11c00ef405": {
      "model_module": "@jupyter-widgets/controls",
      "model_module_version": "2.0.0",
      "model_name": "FloatProgressModel",
      "state": {
       "layout": "IPY_MODEL_a25e633c39274972afb95a17cd13786b",
       "max": 1000,
       "style": "IPY_MODEL_2d945f5d9ea24f65b7ec0c239fa308f5",
       "value": 1000
      }
     },
     "66fb0e64ba4d476cb81c55261eb6d450": {
      "model_module": "@jupyter-widgets/controls",
      "model_module_version": "2.0.0",
      "model_name": "HTMLModel",
      "state": {
       "layout": "IPY_MODEL_28bd31d42b7346318121093ec500e54c",
       "style": "IPY_MODEL_151b8bbf029f453a96399023f0c11ec0",
       "value": " 992/1000 [00:04&lt;00:00, 237.43it/s]"
      }
     },
     "684c8c983bc44becae2b184a5124ce94": {
      "model_module": "@jupyter-widgets/controls",
      "model_module_version": "2.0.0",
      "model_name": "FloatProgressModel",
      "state": {
       "layout": "IPY_MODEL_9df679d3233f411f825f709aa91169e6",
       "max": 1000,
       "style": "IPY_MODEL_d1562e6298e145d88038a3c6f4c859ad",
       "value": 1000
      }
     },
     "69343d6efc4e49ecab554956ec2d45bf": {
      "model_module": "@jupyter-widgets/base",
      "model_module_version": "2.0.0",
      "model_name": "LayoutModel",
      "state": {}
     },
     "6a1427a858c549d5b51e4f1242769d3d": {
      "model_module": "@jupyter-widgets/base",
      "model_module_version": "2.0.0",
      "model_name": "LayoutModel",
      "state": {}
     },
     "6a877f896a9745788b1f8f5fddea816f": {
      "model_module": "@jupyter-widgets/base",
      "model_module_version": "2.0.0",
      "model_name": "LayoutModel",
      "state": {}
     },
     "6b2e8f9da40b4f68b6cbcd9ac1ffc818": {
      "model_module": "@jupyter-widgets/controls",
      "model_module_version": "2.0.0",
      "model_name": "HTMLModel",
      "state": {
       "layout": "IPY_MODEL_166c61ee764249b3808dcbd06470f2e8",
       "style": "IPY_MODEL_77bb35239b014d18979e13560466ff02",
       "value": " 98%"
      }
     },
     "6bbd4b67efbf40b78e7eafa2f8578c47": {
      "model_module": "@jupyter-widgets/controls",
      "model_module_version": "2.0.0",
      "model_name": "HTMLStyleModel",
      "state": {
       "description_width": "",
       "font_size": null,
       "text_color": null
      }
     },
     "6c265f32257f4fd692080f8df2dd832c": {
      "model_module": "@jupyter-widgets/base",
      "model_module_version": "2.0.0",
      "model_name": "LayoutModel",
      "state": {}
     },
     "6c74e4021dfb4d318b683f6c9d7c195e": {
      "model_module": "@jupyter-widgets/base",
      "model_module_version": "2.0.0",
      "model_name": "LayoutModel",
      "state": {}
     },
     "6d01e50f51bd44ac80eab02c2703562f": {
      "model_module": "@jupyter-widgets/base",
      "model_module_version": "2.0.0",
      "model_name": "LayoutModel",
      "state": {}
     },
     "6d993d7f433f496fb90b854dc087f19f": {
      "model_module": "@jupyter-widgets/base",
      "model_module_version": "2.0.0",
      "model_name": "LayoutModel",
      "state": {}
     },
     "6e753524bb2c4f0381953204e5621cfa": {
      "model_module": "@jupyter-widgets/controls",
      "model_module_version": "2.0.0",
      "model_name": "HTMLStyleModel",
      "state": {
       "description_width": "",
       "font_size": null,
       "text_color": null
      }
     },
     "6fec6b70494f4359834cccdf9ac977a5": {
      "model_module": "@jupyter-widgets/controls",
      "model_module_version": "2.0.0",
      "model_name": "HTMLModel",
      "state": {
       "layout": "IPY_MODEL_69343d6efc4e49ecab554956ec2d45bf",
       "style": "IPY_MODEL_70d2b785f8e64c04978c27f1acdc41c1",
       "value": " 99%"
      }
     },
     "7059bc19d28e49f592e545be1551f76f": {
      "model_module": "@jupyter-widgets/base",
      "model_module_version": "2.0.0",
      "model_name": "LayoutModel",
      "state": {
       "visibility": "hidden"
      }
     },
     "708502ad4b6e410bba411c5e05cf5afa": {
      "model_module": "@jupyter-widgets/controls",
      "model_module_version": "2.0.0",
      "model_name": "HTMLStyleModel",
      "state": {
       "description_width": "",
       "font_size": null,
       "text_color": null
      }
     },
     "70d2b785f8e64c04978c27f1acdc41c1": {
      "model_module": "@jupyter-widgets/controls",
      "model_module_version": "2.0.0",
      "model_name": "HTMLStyleModel",
      "state": {
       "description_width": "",
       "font_size": null,
       "text_color": null
      }
     },
     "713a588339484f5c84835919fab200e6": {
      "model_module": "@jupyter-widgets/controls",
      "model_module_version": "2.0.0",
      "model_name": "HTMLModel",
      "state": {
       "layout": "IPY_MODEL_a65611b1546143f3baa8db58f2f1f09e",
       "style": "IPY_MODEL_06a4ec5effad44faaf9e6a77b1efb6a5",
       "value": " 99%"
      }
     },
     "71ebe595f9b143a99ace330849cc5ce0": {
      "model_module": "@jupyter-widgets/controls",
      "model_module_version": "2.0.0",
      "model_name": "HTMLStyleModel",
      "state": {
       "description_width": "",
       "font_size": null,
       "text_color": null
      }
     },
     "7217fd2963d14f86833236ec85bf790e": {
      "model_module": "@jupyter-widgets/controls",
      "model_module_version": "2.0.0",
      "model_name": "HTMLModel",
      "state": {
       "layout": "IPY_MODEL_ab2a37af830444829c449d222b934002",
       "style": "IPY_MODEL_e1b711793b2142e1a128ba4da7d57962",
       "value": " 99%"
      }
     },
     "72c8b998958543a2a0050ebf44f529d3": {
      "model_module": "@jupyter-widgets/controls",
      "model_module_version": "2.0.0",
      "model_name": "HTMLStyleModel",
      "state": {
       "description_width": "",
       "font_size": null,
       "text_color": null
      }
     },
     "73431040354c4bcca6bcfc1fa98df26e": {
      "model_module": "@jupyter-widgets/controls",
      "model_module_version": "2.0.0",
      "model_name": "HTMLModel",
      "state": {
       "layout": "IPY_MODEL_d81f35605b464454b46e32889091b33d",
       "style": "IPY_MODEL_ad0b3349b40e4d67901b210c2c29c661",
       "value": "100%"
      }
     },
     "739097cfecf34350a56af8e2049a1111": {
      "model_module": "@jupyter-widgets/controls",
      "model_module_version": "2.0.0",
      "model_name": "ProgressStyleModel",
      "state": {
       "description_width": ""
      }
     },
     "742c6477477f49aca539fa75615d4849": {
      "model_module": "@jupyter-widgets/controls",
      "model_module_version": "2.0.0",
      "model_name": "HTMLModel",
      "state": {
       "layout": "IPY_MODEL_3d76f185df704358b7fdf8d101289a02",
       "style": "IPY_MODEL_0f15ad91400e48189489c1ce1a500aff",
       "value": " 993/1000 [00:04&lt;00:00, 239.33it/s]"
      }
     },
     "74350a8aa5f448f5ac44b168572f6b42": {
      "model_module": "@jupyter-widgets/controls",
      "model_module_version": "2.0.0",
      "model_name": "ProgressStyleModel",
      "state": {
       "description_width": ""
      }
     },
     "74472bdb298e478ca0f747b2f154c4b2": {
      "model_module": "@jupyter-widgets/controls",
      "model_module_version": "2.0.0",
      "model_name": "HTMLStyleModel",
      "state": {
       "description_width": "",
       "font_size": null,
       "text_color": null
      }
     },
     "75c47395c0754a8c8378f30427c63989": {
      "model_module": "@jupyter-widgets/controls",
      "model_module_version": "2.0.0",
      "model_name": "FloatProgressModel",
      "state": {
       "layout": "IPY_MODEL_ef3ad8bc468b45b1a86d5120fe42eed8",
       "max": 1000,
       "style": "IPY_MODEL_549040f06bd649c68e92fd1e6e8a8057",
       "value": 1000
      }
     },
     "75cd9319758e4997bfae419a66b09cfa": {
      "model_module": "@jupyter-widgets/base",
      "model_module_version": "2.0.0",
      "model_name": "LayoutModel",
      "state": {}
     },
     "7647347d09024bea8277114415c43d97": {
      "model_module": "@jupyter-widgets/controls",
      "model_module_version": "2.0.0",
      "model_name": "HTMLModel",
      "state": {
       "layout": "IPY_MODEL_8349f609217b4a579c62463992ab3b9b",
       "style": "IPY_MODEL_82575a08d2744edbabff03f7ef46f497",
       "value": " 99%"
      }
     },
     "77bb35239b014d18979e13560466ff02": {
      "model_module": "@jupyter-widgets/controls",
      "model_module_version": "2.0.0",
      "model_name": "HTMLStyleModel",
      "state": {
       "description_width": "",
       "font_size": null,
       "text_color": null
      }
     },
     "79650cf0cc31424ba244ef6c9a8a0565": {
      "model_module": "@jupyter-widgets/base",
      "model_module_version": "2.0.0",
      "model_name": "LayoutModel",
      "state": {}
     },
     "796b2f57a7214883b70404d7194e8399": {
      "model_module": "@jupyter-widgets/controls",
      "model_module_version": "2.0.0",
      "model_name": "HTMLModel",
      "state": {
       "layout": "IPY_MODEL_f37e35e56e1f435096cfac78fb9e8778",
       "style": "IPY_MODEL_f4581676deea4c4b88fbd9ebcaa8b5fd",
       "value": " 1000/1000 [00:04&lt;00:00, 168.05it/s]"
      }
     },
     "799f81ca944145e296123c7fd0442b7d": {
      "model_module": "@jupyter-widgets/base",
      "model_module_version": "2.0.0",
      "model_name": "LayoutModel",
      "state": {
       "visibility": "hidden"
      }
     },
     "799fa91185944651a123e87c35bee6fc": {
      "model_module": "@jupyter-widgets/controls",
      "model_module_version": "2.0.0",
      "model_name": "HTMLStyleModel",
      "state": {
       "description_width": "",
       "font_size": null,
       "text_color": null
      }
     },
     "79f3b8ce5e65426594ffaa39f868c76b": {
      "model_module": "@jupyter-widgets/base",
      "model_module_version": "2.0.0",
      "model_name": "LayoutModel",
      "state": {}
     },
     "7a1892a0d556447b9f247b466fd27a0f": {
      "model_module": "@jupyter-widgets/base",
      "model_module_version": "2.0.0",
      "model_name": "LayoutModel",
      "state": {
       "visibility": "hidden"
      }
     },
     "7a68341dc70c4da6ba7b8bdca7bb7a93": {
      "model_module": "@jupyter-widgets/base",
      "model_module_version": "2.0.0",
      "model_name": "LayoutModel",
      "state": {}
     },
     "7a7c4b6476794c95b5a7bcc126be985a": {
      "model_module": "@jupyter-widgets/controls",
      "model_module_version": "2.0.0",
      "model_name": "FloatProgressModel",
      "state": {
       "layout": "IPY_MODEL_047b62f8549241e790336d435aab3141",
       "max": 1000,
       "style": "IPY_MODEL_cafd6e04ded74346a020a8ea97892c65",
       "value": 1000
      }
     },
     "7a8d6d055d2a4d958b8392220748f82a": {
      "model_module": "@jupyter-widgets/base",
      "model_module_version": "2.0.0",
      "model_name": "LayoutModel",
      "state": {}
     },
     "7a94a8fd9da74dbfa83048cbd4a20831": {
      "model_module": "@jupyter-widgets/controls",
      "model_module_version": "2.0.0",
      "model_name": "HTMLModel",
      "state": {
       "layout": "IPY_MODEL_c417dfee2ba3413c8491bdea55ce9118",
       "style": "IPY_MODEL_3b55935109d3496683bf9fcdd1208627",
       "value": " 98%"
      }
     },
     "7bf7076d4f3a4143a122d424fe1c9605": {
      "model_module": "@jupyter-widgets/controls",
      "model_module_version": "2.0.0",
      "model_name": "HTMLStyleModel",
      "state": {
       "description_width": "",
       "font_size": null,
       "text_color": null
      }
     },
     "7c1d10969cc44ecfb6a062b8dd27c6d0": {
      "model_module": "@jupyter-widgets/base",
      "model_module_version": "2.0.0",
      "model_name": "LayoutModel",
      "state": {}
     },
     "7d49946858124ff99041c40e41a03424": {
      "model_module": "@jupyter-widgets/controls",
      "model_module_version": "2.0.0",
      "model_name": "HTMLModel",
      "state": {
       "layout": "IPY_MODEL_9f8f4f389fe6458f8331ef7b0a0c7fdf",
       "style": "IPY_MODEL_86f4f5ced09345d59eb8e6cd2d2e432c",
       "value": " 97%"
      }
     },
     "7e609536ac4344c28bcf8876a903b312": {
      "model_module": "@jupyter-widgets/controls",
      "model_module_version": "2.0.0",
      "model_name": "HTMLStyleModel",
      "state": {
       "description_width": "",
       "font_size": null,
       "text_color": null
      }
     },
     "7e81cdca9fe2424496d18e1b5754e8c2": {
      "model_module": "@jupyter-widgets/controls",
      "model_module_version": "2.0.0",
      "model_name": "HTMLStyleModel",
      "state": {
       "description_width": "",
       "font_size": null,
       "text_color": null
      }
     },
     "7e9121c123a5447a8a9215e5eebc353d": {
      "model_module": "@jupyter-widgets/controls",
      "model_module_version": "2.0.0",
      "model_name": "HTMLModel",
      "state": {
       "layout": "IPY_MODEL_17d2db51968c4611967c3da6da9227a9",
       "style": "IPY_MODEL_6e753524bb2c4f0381953204e5621cfa",
       "value": " 981/1000 [00:04&lt;00:00, 237.49it/s]"
      }
     },
     "7f819bb35c264bf3bbc102c4ae71e357": {
      "model_module": "@jupyter-widgets/base",
      "model_module_version": "2.0.0",
      "model_name": "LayoutModel",
      "state": {}
     },
     "80441bd94cac48ac9b580f4f9ac37d3e": {
      "model_module": "@jupyter-widgets/controls",
      "model_module_version": "2.0.0",
      "model_name": "HTMLStyleModel",
      "state": {
       "description_width": "",
       "font_size": null,
       "text_color": null
      }
     },
     "81a163dbd39c4c2989923cf0347c5ecf": {
      "model_module": "@jupyter-widgets/base",
      "model_module_version": "2.0.0",
      "model_name": "LayoutModel",
      "state": {}
     },
     "82575a08d2744edbabff03f7ef46f497": {
      "model_module": "@jupyter-widgets/controls",
      "model_module_version": "2.0.0",
      "model_name": "HTMLStyleModel",
      "state": {
       "description_width": "",
       "font_size": null,
       "text_color": null
      }
     },
     "82ae310dccca42c8814ba52193097722": {
      "model_module": "@jupyter-widgets/controls",
      "model_module_version": "2.0.0",
      "model_name": "HTMLStyleModel",
      "state": {
       "description_width": "",
       "font_size": null,
       "text_color": null
      }
     },
     "82f5fc3431514e48af70080584df6ec7": {
      "model_module": "@jupyter-widgets/controls",
      "model_module_version": "2.0.0",
      "model_name": "ProgressStyleModel",
      "state": {
       "description_width": ""
      }
     },
     "8349f609217b4a579c62463992ab3b9b": {
      "model_module": "@jupyter-widgets/base",
      "model_module_version": "2.0.0",
      "model_name": "LayoutModel",
      "state": {}
     },
     "83539a6317a14628811034fb0fc41ca2": {
      "model_module": "@jupyter-widgets/controls",
      "model_module_version": "2.0.0",
      "model_name": "ProgressStyleModel",
      "state": {
       "description_width": ""
      }
     },
     "83b60c1aa4254c93a0767758106915c9": {
      "model_module": "@jupyter-widgets/controls",
      "model_module_version": "2.0.0",
      "model_name": "ProgressStyleModel",
      "state": {
       "description_width": ""
      }
     },
     "83eba4b6c2e5454487d17e94ee637b53": {
      "model_module": "@jupyter-widgets/controls",
      "model_module_version": "2.0.0",
      "model_name": "HTMLModel",
      "state": {
       "layout": "IPY_MODEL_113458ad0a734bac8f6d71998d1a7f4a",
       "style": "IPY_MODEL_df049f6a0c6b46da8824637421bc1783",
       "value": "100%"
      }
     },
     "83fb3dc845134033ad71aee6ae27e0de": {
      "model_module": "@jupyter-widgets/controls",
      "model_module_version": "2.0.0",
      "model_name": "FloatProgressModel",
      "state": {
       "layout": "IPY_MODEL_04e18dd4334b4046ba1949556ce84fbb",
       "max": 1000,
       "style": "IPY_MODEL_2108e86265aa419b8fa816cb41244eec",
       "value": 1000
      }
     },
     "8498b2bb0bbc42fcb6b2ec50ea008a5a": {
      "model_module": "@jupyter-widgets/base",
      "model_module_version": "2.0.0",
      "model_name": "LayoutModel",
      "state": {}
     },
     "84df54736edd47028c02a033419308c7": {
      "model_module": "@jupyter-widgets/controls",
      "model_module_version": "2.0.0",
      "model_name": "ProgressStyleModel",
      "state": {
       "description_width": ""
      }
     },
     "854f5da7dca74e2490740302ddbfbc91": {
      "model_module": "@jupyter-widgets/controls",
      "model_module_version": "2.0.0",
      "model_name": "HTMLModel",
      "state": {
       "layout": "IPY_MODEL_89eca24b4496436a9b7844d47da55829",
       "style": "IPY_MODEL_b86b7d60165f4386a303360b74704189",
       "value": " 973/1000 [00:04&lt;00:00, 230.26it/s]"
      }
     },
     "8617022558664e2da2da6a56e67fd81d": {
      "model_module": "@jupyter-widgets/controls",
      "model_module_version": "2.0.0",
      "model_name": "HTMLStyleModel",
      "state": {
       "description_width": "",
       "font_size": null,
       "text_color": null
      }
     },
     "86281f8d224c423995cbdc00859e244b": {
      "model_module": "@jupyter-widgets/controls",
      "model_module_version": "2.0.0",
      "model_name": "HTMLModel",
      "state": {
       "layout": "IPY_MODEL_79650cf0cc31424ba244ef6c9a8a0565",
       "style": "IPY_MODEL_1a4547ae1f9e438fa704dffccd59869d",
       "value": " 1000/1000 [00:04&lt;00:00, 190.57it/s]"
      }
     },
     "86f4f5ced09345d59eb8e6cd2d2e432c": {
      "model_module": "@jupyter-widgets/controls",
      "model_module_version": "2.0.0",
      "model_name": "HTMLStyleModel",
      "state": {
       "description_width": "",
       "font_size": null,
       "text_color": null
      }
     },
     "88783cbf48794c85a316cdf874851d98": {
      "model_module": "@jupyter-widgets/controls",
      "model_module_version": "2.0.0",
      "model_name": "FloatProgressModel",
      "state": {
       "layout": "IPY_MODEL_d7f0761318d346c48951dc83f0711d19",
       "max": 1000,
       "style": "IPY_MODEL_056e2374628f4798925428d14da56581",
       "value": 1000
      }
     },
     "8912eac309684d6cb31f0b4079573ae5": {
      "model_module": "@jupyter-widgets/base",
      "model_module_version": "2.0.0",
      "model_name": "LayoutModel",
      "state": {}
     },
     "897d4c01e37d4903922a619c732cd04b": {
      "model_module": "@jupyter-widgets/base",
      "model_module_version": "2.0.0",
      "model_name": "LayoutModel",
      "state": {
       "visibility": "hidden"
      }
     },
     "89eca24b4496436a9b7844d47da55829": {
      "model_module": "@jupyter-widgets/base",
      "model_module_version": "2.0.0",
      "model_name": "LayoutModel",
      "state": {}
     },
     "8a23d2af20774a2ab3acb5c59547867b": {
      "model_module": "@jupyter-widgets/base",
      "model_module_version": "2.0.0",
      "model_name": "LayoutModel",
      "state": {}
     },
     "8a36207d7a0247a69b53d2fef948530c": {
      "model_module": "@jupyter-widgets/base",
      "model_module_version": "2.0.0",
      "model_name": "LayoutModel",
      "state": {
       "visibility": "hidden"
      }
     },
     "8a83d52fcad24fe889992f42ed36d01c": {
      "model_module": "@jupyter-widgets/controls",
      "model_module_version": "2.0.0",
      "model_name": "HTMLModel",
      "state": {
       "layout": "IPY_MODEL_19a15f64a2b84a3fbe0f962c649d113d",
       "style": "IPY_MODEL_edc7725ee8bb43d9a3e33c1a371612f8",
       "value": " 99%"
      }
     },
     "8b3bcb0eaafc4a26b10af759bc5c3b2f": {
      "model_module": "@jupyter-widgets/base",
      "model_module_version": "2.0.0",
      "model_name": "LayoutModel",
      "state": {
       "visibility": "hidden"
      }
     },
     "8b48746ef6ac473cb904e82244618654": {
      "model_module": "@jupyter-widgets/controls",
      "model_module_version": "2.0.0",
      "model_name": "HTMLStyleModel",
      "state": {
       "description_width": "",
       "font_size": null,
       "text_color": null
      }
     },
     "8bc8dd5f5574477a83b4b9d2aed4099a": {
      "model_module": "@jupyter-widgets/base",
      "model_module_version": "2.0.0",
      "model_name": "LayoutModel",
      "state": {
       "visibility": "hidden"
      }
     },
     "8c22a95f739c47c7bfa06496c82d14ae": {
      "model_module": "@jupyter-widgets/controls",
      "model_module_version": "2.0.0",
      "model_name": "HTMLStyleModel",
      "state": {
       "description_width": "",
       "font_size": null,
       "text_color": null
      }
     },
     "8d83babbabe144c283d3e67224a931cd": {
      "model_module": "@jupyter-widgets/controls",
      "model_module_version": "2.0.0",
      "model_name": "FloatProgressModel",
      "state": {
       "layout": "IPY_MODEL_f72a79279a854719aff8153c41d71626",
       "max": 1000,
       "style": "IPY_MODEL_5982445068704d9ab87bf10e90544543",
       "value": 1000
      }
     },
     "8f3e0b93a6ab465eadf30c4b3b9f06fd": {
      "model_module": "@jupyter-widgets/base",
      "model_module_version": "2.0.0",
      "model_name": "LayoutModel",
      "state": {}
     },
     "8f614445f3344ee4bcc8df97c5bf61bd": {
      "model_module": "@jupyter-widgets/controls",
      "model_module_version": "2.0.0",
      "model_name": "FloatProgressModel",
      "state": {
       "layout": "IPY_MODEL_7f819bb35c264bf3bbc102c4ae71e357",
       "max": 1000,
       "style": "IPY_MODEL_431b9a92b597415a8c50dc29974dbccb",
       "value": 1000
      }
     },
     "8f920499f54e43d09af0341c44b7de91": {
      "model_module": "@jupyter-widgets/controls",
      "model_module_version": "2.0.0",
      "model_name": "HTMLModel",
      "state": {
       "layout": "IPY_MODEL_b86489d120a64c25876f820df2f82a84",
       "style": "IPY_MODEL_44c7923e38914c3daba74b2efe8f9533",
       "value": "100%"
      }
     },
     "904316be99284d88b00d8f31e0b832cd": {
      "model_module": "@jupyter-widgets/base",
      "model_module_version": "2.0.0",
      "model_name": "LayoutModel",
      "state": {}
     },
     "90be8dd085f341aab5d33da35abed0d5": {
      "model_module": "@jupyter-widgets/base",
      "model_module_version": "2.0.0",
      "model_name": "LayoutModel",
      "state": {}
     },
     "91416d78be754a7995450c00025d3d53": {
      "model_module": "@jupyter-widgets/controls",
      "model_module_version": "2.0.0",
      "model_name": "ProgressStyleModel",
      "state": {
       "description_width": ""
      }
     },
     "91bc1219815c42bea1ceded5c026cb52": {
      "model_module": "@jupyter-widgets/controls",
      "model_module_version": "2.0.0",
      "model_name": "HTMLModel",
      "state": {
       "layout": "IPY_MODEL_7a68341dc70c4da6ba7b8bdca7bb7a93",
       "style": "IPY_MODEL_02cea16e78c643998c3b9054a6b3325e",
       "value": " 994/1000 [00:04&lt;00:00, 234.01it/s]"
      }
     },
     "93b630c25b3c40b1bfb7d7f99074258b": {
      "model_module": "@jupyter-widgets/controls",
      "model_module_version": "2.0.0",
      "model_name": "FloatProgressModel",
      "state": {
       "layout": "IPY_MODEL_b24f5f08ff6a4ac29abdce09011c6c7e",
       "max": 1000,
       "style": "IPY_MODEL_5a541f56345b4d46b9f8e97fc7cb7980",
       "value": 1000
      }
     },
     "93c5d3ee073c430f84ef966f8cc18441": {
      "model_module": "@jupyter-widgets/controls",
      "model_module_version": "2.0.0",
      "model_name": "FloatProgressModel",
      "state": {
       "layout": "IPY_MODEL_8912eac309684d6cb31f0b4079573ae5",
       "max": 1000,
       "style": "IPY_MODEL_9e0806380f5f4abd87eeb744d2d08d0d",
       "value": 1000
      }
     },
     "95114a16d91242f29261979751dbcd1c": {
      "model_module": "@jupyter-widgets/controls",
      "model_module_version": "2.0.0",
      "model_name": "HTMLModel",
      "state": {
       "layout": "IPY_MODEL_385aab8381124c4cb93e1a48e002a553",
       "style": "IPY_MODEL_a62a403ff25347b597fcd44d5841c133",
       "value": "100%"
      }
     },
     "951a654bbba84c3093717f52b9cdc0c1": {
      "model_module": "@jupyter-widgets/base",
      "model_module_version": "2.0.0",
      "model_name": "LayoutModel",
      "state": {}
     },
     "9522a77f6f004327a37a3130522c73a6": {
      "model_module": "@jupyter-widgets/base",
      "model_module_version": "2.0.0",
      "model_name": "LayoutModel",
      "state": {}
     },
     "9643dac73225486387fe9fa54e1fb7f7": {
      "model_module": "@jupyter-widgets/base",
      "model_module_version": "2.0.0",
      "model_name": "LayoutModel",
      "state": {
       "visibility": "hidden"
      }
     },
     "9691f49af9d545a294420e08b6f8c5ac": {
      "model_module": "@jupyter-widgets/controls",
      "model_module_version": "2.0.0",
      "model_name": "HTMLStyleModel",
      "state": {
       "description_width": "",
       "font_size": null,
       "text_color": null
      }
     },
     "96f0a7027af84dfbbec39b597a28ff90": {
      "model_module": "@jupyter-widgets/controls",
      "model_module_version": "2.0.0",
      "model_name": "ProgressStyleModel",
      "state": {
       "description_width": ""
      }
     },
     "976193c4ed2e490c9251c46af378acd5": {
      "model_module": "@jupyter-widgets/controls",
      "model_module_version": "2.0.0",
      "model_name": "HTMLModel",
      "state": {
       "layout": "IPY_MODEL_79f3b8ce5e65426594ffaa39f868c76b",
       "style": "IPY_MODEL_a11908b4314a49c3ad7e037611366b2c",
       "value": " 986/1000 [00:04&lt;00:00, 256.75it/s]"
      }
     },
     "977bc14176eb4ef99ce428d92239d3f1": {
      "model_module": "@jupyter-widgets/base",
      "model_module_version": "2.0.0",
      "model_name": "LayoutModel",
      "state": {}
     },
     "978c50707b754120949722589591eddc": {
      "model_module": "@jupyter-widgets/controls",
      "model_module_version": "2.0.0",
      "model_name": "HTMLModel",
      "state": {
       "layout": "IPY_MODEL_6c265f32257f4fd692080f8df2dd832c",
       "style": "IPY_MODEL_799fa91185944651a123e87c35bee6fc",
       "value": " 986/1000 [00:04&lt;00:00, 232.23it/s]"
      }
     },
     "9969c7bec0cd44bea097e83e5a7f20d6": {
      "model_module": "@jupyter-widgets/base",
      "model_module_version": "2.0.0",
      "model_name": "LayoutModel",
      "state": {
       "visibility": "hidden"
      }
     },
     "9ae1571dc03945caa87b9b0932025e5e": {
      "model_module": "@jupyter-widgets/controls",
      "model_module_version": "2.0.0",
      "model_name": "HTMLStyleModel",
      "state": {
       "description_width": "",
       "font_size": null,
       "text_color": null
      }
     },
     "9b083ea87cc14e2d8fc3ba87697f0e92": {
      "model_module": "@jupyter-widgets/controls",
      "model_module_version": "2.0.0",
      "model_name": "HTMLModel",
      "state": {
       "layout": "IPY_MODEL_e2c04598c7c7496cba385ef8f53c6714",
       "style": "IPY_MODEL_cd7deeef26bc4997b6877b3c14761adf",
       "value": " 99%"
      }
     },
     "9b738d82500645578a728379c179022c": {
      "model_module": "@jupyter-widgets/base",
      "model_module_version": "2.0.0",
      "model_name": "LayoutModel",
      "state": {
       "visibility": "hidden"
      }
     },
     "9b8a3f1abcad41eca99f2cefdeb77df5": {
      "model_module": "@jupyter-widgets/controls",
      "model_module_version": "2.0.0",
      "model_name": "FloatProgressModel",
      "state": {
       "layout": "IPY_MODEL_414c795aec41488a99da85377969f7c1",
       "max": 1000,
       "style": "IPY_MODEL_83539a6317a14628811034fb0fc41ca2",
       "value": 1000
      }
     },
     "9bb98f7570ea4afa860ba72c9ac123ab": {
      "model_module": "@jupyter-widgets/controls",
      "model_module_version": "2.0.0",
      "model_name": "HTMLModel",
      "state": {
       "layout": "IPY_MODEL_1ff967b8859c4d9b80cfa126de11e68c",
       "style": "IPY_MODEL_eb43d5ae1b1640bab2c9e0fbc9a80c73",
       "value": " 99%"
      }
     },
     "9ce762bd64ae4c6ead0ad6687dbe4292": {
      "model_module": "@jupyter-widgets/base",
      "model_module_version": "2.0.0",
      "model_name": "LayoutModel",
      "state": {}
     },
     "9d4c1f848c27429eb98ef85e7fb80a1d": {
      "model_module": "@jupyter-widgets/controls",
      "model_module_version": "2.0.0",
      "model_name": "HTMLModel",
      "state": {
       "layout": "IPY_MODEL_0927aaa6f4504c229b558011f9e2833b",
       "style": "IPY_MODEL_9e6aab25e8df4997ad14eac371499080",
       "value": " 980/1000 [00:04&lt;00:00, 222.09it/s]"
      }
     },
     "9dde4d0dd1974ec1b991fb9414cd814f": {
      "model_module": "@jupyter-widgets/base",
      "model_module_version": "2.0.0",
      "model_name": "LayoutModel",
      "state": {}
     },
     "9df679d3233f411f825f709aa91169e6": {
      "model_module": "@jupyter-widgets/base",
      "model_module_version": "2.0.0",
      "model_name": "LayoutModel",
      "state": {}
     },
     "9e0806380f5f4abd87eeb744d2d08d0d": {
      "model_module": "@jupyter-widgets/controls",
      "model_module_version": "2.0.0",
      "model_name": "ProgressStyleModel",
      "state": {
       "description_width": ""
      }
     },
     "9e65553f969e4f2abeda770b42e34a5e": {
      "model_module": "@jupyter-widgets/base",
      "model_module_version": "2.0.0",
      "model_name": "LayoutModel",
      "state": {}
     },
     "9e6aab25e8df4997ad14eac371499080": {
      "model_module": "@jupyter-widgets/controls",
      "model_module_version": "2.0.0",
      "model_name": "HTMLStyleModel",
      "state": {
       "description_width": "",
       "font_size": null,
       "text_color": null
      }
     },
     "9ecb5de67bd64b138f4e0f0be68ce0fa": {
      "model_module": "@jupyter-widgets/controls",
      "model_module_version": "2.0.0",
      "model_name": "FloatProgressModel",
      "state": {
       "layout": "IPY_MODEL_a35b67f66503490c94d48d82cb73d0f7",
       "max": 1000,
       "style": "IPY_MODEL_a04df4a3fe34416e96383fb0547b84b5",
       "value": 1000
      }
     },
     "9f8f4f389fe6458f8331ef7b0a0c7fdf": {
      "model_module": "@jupyter-widgets/base",
      "model_module_version": "2.0.0",
      "model_name": "LayoutModel",
      "state": {}
     },
     "a008527b5c1d46d1939eb8a0f1730773": {
      "model_module": "@jupyter-widgets/base",
      "model_module_version": "2.0.0",
      "model_name": "LayoutModel",
      "state": {}
     },
     "a04df4a3fe34416e96383fb0547b84b5": {
      "model_module": "@jupyter-widgets/controls",
      "model_module_version": "2.0.0",
      "model_name": "ProgressStyleModel",
      "state": {
       "description_width": ""
      }
     },
     "a09a31b67a4e4c679ba73d8393ba6878": {
      "model_module": "@jupyter-widgets/controls",
      "model_module_version": "2.0.0",
      "model_name": "HTMLStyleModel",
      "state": {
       "description_width": "",
       "font_size": null,
       "text_color": null
      }
     },
     "a11908b4314a49c3ad7e037611366b2c": {
      "model_module": "@jupyter-widgets/controls",
      "model_module_version": "2.0.0",
      "model_name": "HTMLStyleModel",
      "state": {
       "description_width": "",
       "font_size": null,
       "text_color": null
      }
     },
     "a12b23608a594589a834710e980a67ff": {
      "model_module": "@jupyter-widgets/base",
      "model_module_version": "2.0.0",
      "model_name": "LayoutModel",
      "state": {}
     },
     "a19ae69f68634ca39ae9b7bbf0ebbf09": {
      "model_module": "@jupyter-widgets/base",
      "model_module_version": "2.0.0",
      "model_name": "LayoutModel",
      "state": {}
     },
     "a25e633c39274972afb95a17cd13786b": {
      "model_module": "@jupyter-widgets/base",
      "model_module_version": "2.0.0",
      "model_name": "LayoutModel",
      "state": {}
     },
     "a2f1e8eff3374902aa23bf23177c62c7": {
      "model_module": "@jupyter-widgets/controls",
      "model_module_version": "2.0.0",
      "model_name": "ProgressStyleModel",
      "state": {
       "description_width": ""
      }
     },
     "a35b67f66503490c94d48d82cb73d0f7": {
      "model_module": "@jupyter-widgets/base",
      "model_module_version": "2.0.0",
      "model_name": "LayoutModel",
      "state": {}
     },
     "a3816dcde7cc4ff688983237fdbdf09e": {
      "model_module": "@jupyter-widgets/controls",
      "model_module_version": "2.0.0",
      "model_name": "HTMLStyleModel",
      "state": {
       "description_width": "",
       "font_size": null,
       "text_color": null
      }
     },
     "a3b86cfa4cc54c4a9f9fb7302e28d633": {
      "model_module": "@jupyter-widgets/controls",
      "model_module_version": "2.0.0",
      "model_name": "FloatProgressModel",
      "state": {
       "layout": "IPY_MODEL_3fea792d81c14ef6906a57830d30373a",
       "max": 1000,
       "style": "IPY_MODEL_dfa269b6a7db469a85a3f27e93b359e2",
       "value": 1000
      }
     },
     "a3ea5fe684344451945c3dbcb428ee69": {
      "model_module": "@jupyter-widgets/base",
      "model_module_version": "2.0.0",
      "model_name": "LayoutModel",
      "state": {
       "visibility": "hidden"
      }
     },
     "a407bbfe3af5431b8b8bcfe3e0f90780": {
      "model_module": "@jupyter-widgets/controls",
      "model_module_version": "2.0.0",
      "model_name": "HTMLModel",
      "state": {
       "layout": "IPY_MODEL_f9f36682f46c48d2a257a395543f5008",
       "style": "IPY_MODEL_a09a31b67a4e4c679ba73d8393ba6878",
       "value": " 988/1000 [00:04&lt;00:00, 246.63it/s]"
      }
     },
     "a42fe343570b412fbf29d784e98ef093": {
      "model_module": "@jupyter-widgets/base",
      "model_module_version": "2.0.0",
      "model_name": "LayoutModel",
      "state": {}
     },
     "a5a5a51e74374c4cb7322888bb9b0b72": {
      "model_module": "@jupyter-widgets/base",
      "model_module_version": "2.0.0",
      "model_name": "LayoutModel",
      "state": {}
     },
     "a61fd94df0b34e619ba281d07d70205d": {
      "model_module": "@jupyter-widgets/controls",
      "model_module_version": "2.0.0",
      "model_name": "HTMLModel",
      "state": {
       "layout": "IPY_MODEL_354e7df317214ece8f1cdf6c2aa5d274",
       "style": "IPY_MODEL_c2b7e5636b704bafa75c0cd8788dd0c7",
       "value": " 98%"
      }
     },
     "a62a403ff25347b597fcd44d5841c133": {
      "model_module": "@jupyter-widgets/controls",
      "model_module_version": "2.0.0",
      "model_name": "HTMLStyleModel",
      "state": {
       "description_width": "",
       "font_size": null,
       "text_color": null
      }
     },
     "a65611b1546143f3baa8db58f2f1f09e": {
      "model_module": "@jupyter-widgets/base",
      "model_module_version": "2.0.0",
      "model_name": "LayoutModel",
      "state": {}
     },
     "a6ba1f9879204eea87a3d55aa4770046": {
      "model_module": "@jupyter-widgets/base",
      "model_module_version": "2.0.0",
      "model_name": "LayoutModel",
      "state": {}
     },
     "a754e0182f42415e937af01e3c53bc09": {
      "model_module": "@jupyter-widgets/controls",
      "model_module_version": "2.0.0",
      "model_name": "HTMLModel",
      "state": {
       "layout": "IPY_MODEL_f0f89b4cb79e4f028087df0d3f46f6cd",
       "style": "IPY_MODEL_398c542b300f4005a58299c26dcce661",
       "value": " 99%"
      }
     },
     "a76b79a2afe14d838c46379821abb630": {
      "model_module": "@jupyter-widgets/controls",
      "model_module_version": "2.0.0",
      "model_name": "HTMLStyleModel",
      "state": {
       "description_width": "",
       "font_size": null,
       "text_color": null
      }
     },
     "a7b891efdd9144dc97ea8e508652350d": {
      "model_module": "@jupyter-widgets/base",
      "model_module_version": "2.0.0",
      "model_name": "LayoutModel",
      "state": {
       "visibility": "hidden"
      }
     },
     "a833399f880b46bebeb2be510ab45f0c": {
      "model_module": "@jupyter-widgets/controls",
      "model_module_version": "2.0.0",
      "model_name": "HTMLStyleModel",
      "state": {
       "description_width": "",
       "font_size": null,
       "text_color": null
      }
     },
     "a896ae3f2642498d8ff47e2be1a5deb0": {
      "model_module": "@jupyter-widgets/controls",
      "model_module_version": "2.0.0",
      "model_name": "HTMLModel",
      "state": {
       "layout": "IPY_MODEL_1b48db4856c94145a5c2391287182835",
       "style": "IPY_MODEL_e42386d170fb417faa6da6ad40d983ea",
       "value": " 97%"
      }
     },
     "a911829ee81143f4aeb3b5331b6b16f5": {
      "model_module": "@jupyter-widgets/controls",
      "model_module_version": "2.0.0",
      "model_name": "HTMLStyleModel",
      "state": {
       "description_width": "",
       "font_size": null,
       "text_color": null
      }
     },
     "a995915f82e549549dcc8b3f826232aa": {
      "model_module": "@jupyter-widgets/controls",
      "model_module_version": "2.0.0",
      "model_name": "HTMLStyleModel",
      "state": {
       "description_width": "",
       "font_size": null,
       "text_color": null
      }
     },
     "a9dede43f76c4eb2ac3b09e7a72a6d56": {
      "model_module": "@jupyter-widgets/base",
      "model_module_version": "2.0.0",
      "model_name": "LayoutModel",
      "state": {}
     },
     "aa418803437f40dbbb33dd9046b27ad9": {
      "model_module": "@jupyter-widgets/base",
      "model_module_version": "2.0.0",
      "model_name": "LayoutModel",
      "state": {}
     },
     "ab2a37af830444829c449d222b934002": {
      "model_module": "@jupyter-widgets/base",
      "model_module_version": "2.0.0",
      "model_name": "LayoutModel",
      "state": {}
     },
     "abc4d43079f940cb9cbec3ee19d1e905": {
      "model_module": "@jupyter-widgets/controls",
      "model_module_version": "2.0.0",
      "model_name": "HTMLStyleModel",
      "state": {
       "description_width": "",
       "font_size": null,
       "text_color": null
      }
     },
     "ad0b3349b40e4d67901b210c2c29c661": {
      "model_module": "@jupyter-widgets/controls",
      "model_module_version": "2.0.0",
      "model_name": "HTMLStyleModel",
      "state": {
       "description_width": "",
       "font_size": null,
       "text_color": null
      }
     },
     "adb27e6661304c88a04fe0223bc069af": {
      "model_module": "@jupyter-widgets/controls",
      "model_module_version": "2.0.0",
      "model_name": "HTMLModel",
      "state": {
       "layout": "IPY_MODEL_210d6faa8b6740fdb95ec96575ad7a6f",
       "style": "IPY_MODEL_27a95b7faf78485498073324d58e301b",
       "value": " 99%"
      }
     },
     "adbeb9a9375d42a69403e7b9458eec5e": {
      "model_module": "@jupyter-widgets/base",
      "model_module_version": "2.0.0",
      "model_name": "LayoutModel",
      "state": {}
     },
     "ae054b73439d4d6291b53db0e0c004b2": {
      "model_module": "@jupyter-widgets/controls",
      "model_module_version": "2.0.0",
      "model_name": "HTMLModel",
      "state": {
       "layout": "IPY_MODEL_474a277701104357a25bf9e2f5868964",
       "style": "IPY_MODEL_2586f92216a24ff9943fd54a27d6ab6a",
       "value": " 99%"
      }
     },
     "ae39ba731521435f8a7ddab9c5f80e50": {
      "model_module": "@jupyter-widgets/base",
      "model_module_version": "2.0.0",
      "model_name": "LayoutModel",
      "state": {}
     },
     "af0dfbc7996c481390e1d669c3524e6b": {
      "model_module": "@jupyter-widgets/controls",
      "model_module_version": "2.0.0",
      "model_name": "HTMLStyleModel",
      "state": {
       "description_width": "",
       "font_size": null,
       "text_color": null
      }
     },
     "b085089750504887b0b918425abe20de": {
      "model_module": "@jupyter-widgets/controls",
      "model_module_version": "2.0.0",
      "model_name": "HTMLModel",
      "state": {
       "layout": "IPY_MODEL_beca1d430b01422fb95e1d6f77d0e959",
       "style": "IPY_MODEL_34e7f86b09f2474fa0ba2f4c0797f480",
       "value": " 97%"
      }
     },
     "b19bb522a8ec485a947012e5e99f5821": {
      "model_module": "@jupyter-widgets/base",
      "model_module_version": "2.0.0",
      "model_name": "LayoutModel",
      "state": {}
     },
     "b22c3a09e30240b29d3f47778dff2b2e": {
      "model_module": "@jupyter-widgets/controls",
      "model_module_version": "2.0.0",
      "model_name": "HTMLStyleModel",
      "state": {
       "description_width": "",
       "font_size": null,
       "text_color": null
      }
     },
     "b24f5f08ff6a4ac29abdce09011c6c7e": {
      "model_module": "@jupyter-widgets/base",
      "model_module_version": "2.0.0",
      "model_name": "LayoutModel",
      "state": {}
     },
     "b26625d539d84cd6bcb7d48b7eab2083": {
      "model_module": "@jupyter-widgets/controls",
      "model_module_version": "2.0.0",
      "model_name": "HTMLModel",
      "state": {
       "layout": "IPY_MODEL_39b4cf98b7284d0d978921ffbb8dbf53",
       "style": "IPY_MODEL_2badc884da694a78a4cb69f01b2b5761",
       "value": " 98%"
      }
     },
     "b2b2b3b24f5a4aa680f2317a69a566d8": {
      "model_module": "@jupyter-widgets/base",
      "model_module_version": "2.0.0",
      "model_name": "LayoutModel",
      "state": {}
     },
     "b348f491c2cc4aa6ab2cd2fd75f2ba0e": {
      "model_module": "@jupyter-widgets/controls",
      "model_module_version": "2.0.0",
      "model_name": "FloatProgressModel",
      "state": {
       "layout": "IPY_MODEL_6d01e50f51bd44ac80eab02c2703562f",
       "max": 1000,
       "style": "IPY_MODEL_96f0a7027af84dfbbec39b597a28ff90",
       "value": 1000
      }
     },
     "b38dfb3db4254c03a2d5b636999a9853": {
      "model_module": "@jupyter-widgets/controls",
      "model_module_version": "2.0.0",
      "model_name": "FloatProgressModel",
      "state": {
       "layout": "IPY_MODEL_6a1427a858c549d5b51e4f1242769d3d",
       "max": 1000,
       "style": "IPY_MODEL_618d1be3e30a4fedb9b3f51efdc93c59",
       "value": 1000
      }
     },
     "b4c4972698a04a8b9fefaded4d44e135": {
      "model_module": "@jupyter-widgets/controls",
      "model_module_version": "2.0.0",
      "model_name": "HTMLStyleModel",
      "state": {
       "description_width": "",
       "font_size": null,
       "text_color": null
      }
     },
     "b513cf3cb6714e788ae90742cc3e7b7f": {
      "model_module": "@jupyter-widgets/base",
      "model_module_version": "2.0.0",
      "model_name": "LayoutModel",
      "state": {
       "visibility": "hidden"
      }
     },
     "b5991c5db1fb4450b74a2441e9b03f48": {
      "model_module": "@jupyter-widgets/base",
      "model_module_version": "2.0.0",
      "model_name": "LayoutModel",
      "state": {
       "visibility": "hidden"
      }
     },
     "b5ce70973b784451a363b4f455704264": {
      "model_module": "@jupyter-widgets/controls",
      "model_module_version": "2.0.0",
      "model_name": "FloatProgressModel",
      "state": {
       "layout": "IPY_MODEL_d8f4f161a17a4d62b7ee9bb3bd7b3da3",
       "max": 1000,
       "style": "IPY_MODEL_d55f50dec2ab42228a753a1998811824",
       "value": 1000
      }
     },
     "b5e75ae64ffd420b9190dc3535a054a7": {
      "model_module": "@jupyter-widgets/base",
      "model_module_version": "2.0.0",
      "model_name": "LayoutModel",
      "state": {}
     },
     "b62673ff05274add8486a04e4a7733cb": {
      "model_module": "@jupyter-widgets/controls",
      "model_module_version": "2.0.0",
      "model_name": "HTMLStyleModel",
      "state": {
       "description_width": "",
       "font_size": null,
       "text_color": null
      }
     },
     "b7c07a4278224442b2e5288ded510dad": {
      "model_module": "@jupyter-widgets/base",
      "model_module_version": "2.0.0",
      "model_name": "LayoutModel",
      "state": {}
     },
     "b7cd71653ebc4b92beba6658f7a3c4da": {
      "model_module": "@jupyter-widgets/controls",
      "model_module_version": "2.0.0",
      "model_name": "HTMLModel",
      "state": {
       "layout": "IPY_MODEL_1574b690ca96437d87180312b1bd9176",
       "style": "IPY_MODEL_030941208c0c4170b9363bef28c2b147",
       "value": " 99%"
      }
     },
     "b8346bd335fb4cdb8e3b990ea3549e7a": {
      "model_module": "@jupyter-widgets/controls",
      "model_module_version": "2.0.0",
      "model_name": "FloatProgressModel",
      "state": {
       "layout": "IPY_MODEL_1e28fc99c42a4022bef70f57f05b1dec",
       "max": 1000,
       "style": "IPY_MODEL_74350a8aa5f448f5ac44b168572f6b42",
       "value": 1000
      }
     },
     "b86489d120a64c25876f820df2f82a84": {
      "model_module": "@jupyter-widgets/base",
      "model_module_version": "2.0.0",
      "model_name": "LayoutModel",
      "state": {}
     },
     "b86b7d60165f4386a303360b74704189": {
      "model_module": "@jupyter-widgets/controls",
      "model_module_version": "2.0.0",
      "model_name": "HTMLStyleModel",
      "state": {
       "description_width": "",
       "font_size": null,
       "text_color": null
      }
     },
     "b87cb8ce1e2248e78d870affdb0d9401": {
      "model_module": "@jupyter-widgets/controls",
      "model_module_version": "2.0.0",
      "model_name": "HTMLModel",
      "state": {
       "layout": "IPY_MODEL_2e4de96b233944afa998b77f2317f83f",
       "style": "IPY_MODEL_6085dabe0ce04e41b6903acc4fb42dc9",
       "value": "100%"
      }
     },
     "b8e33f3534214af8bafb53fb13a58d29": {
      "model_module": "@jupyter-widgets/base",
      "model_module_version": "2.0.0",
      "model_name": "LayoutModel",
      "state": {
       "visibility": "hidden"
      }
     },
     "b8f343f113dc46bfaf2278e1cf85e71e": {
      "model_module": "@jupyter-widgets/controls",
      "model_module_version": "2.0.0",
      "model_name": "HTMLStyleModel",
      "state": {
       "description_width": "",
       "font_size": null,
       "text_color": null
      }
     },
     "b97449674743451687f227b95df76ca9": {
      "model_module": "@jupyter-widgets/controls",
      "model_module_version": "2.0.0",
      "model_name": "FloatProgressModel",
      "state": {
       "layout": "IPY_MODEL_5c87ca5961a0486ea61c64c85ab78a5d",
       "max": 1000,
       "style": "IPY_MODEL_91416d78be754a7995450c00025d3d53",
       "value": 1000
      }
     },
     "ba92c278633443cb83dbd235bddb838e": {
      "model_module": "@jupyter-widgets/base",
      "model_module_version": "2.0.0",
      "model_name": "LayoutModel",
      "state": {}
     },
     "ba96a94023a14d7ab16fe30f3d852e9d": {
      "model_module": "@jupyter-widgets/base",
      "model_module_version": "2.0.0",
      "model_name": "LayoutModel",
      "state": {}
     },
     "bacdb49bb5544fd684ddd54e414536a3": {
      "model_module": "@jupyter-widgets/base",
      "model_module_version": "2.0.0",
      "model_name": "LayoutModel",
      "state": {}
     },
     "bb415ad608594f7d9e29ff737c09941d": {
      "model_module": "@jupyter-widgets/base",
      "model_module_version": "2.0.0",
      "model_name": "LayoutModel",
      "state": {}
     },
     "bb6d1836269c4e449fc3e51912a6d9ab": {
      "model_module": "@jupyter-widgets/controls",
      "model_module_version": "2.0.0",
      "model_name": "FloatProgressModel",
      "state": {
       "layout": "IPY_MODEL_284ec82333d143a48fc92a7c150dfc3a",
       "max": 1000,
       "style": "IPY_MODEL_314d232430a845a8914e86e646a9d1be",
       "value": 1000
      }
     },
     "bc7785c1f9e9458f8357999f5873e731": {
      "model_module": "@jupyter-widgets/controls",
      "model_module_version": "2.0.0",
      "model_name": "HTMLStyleModel",
      "state": {
       "description_width": "",
       "font_size": null,
       "text_color": null
      }
     },
     "bc85f8bfa6824dfbae88febe5e7db1f8": {
      "model_module": "@jupyter-widgets/controls",
      "model_module_version": "2.0.0",
      "model_name": "HTMLStyleModel",
      "state": {
       "description_width": "",
       "font_size": null,
       "text_color": null
      }
     },
     "bdc219bbe5ad4f40a6f3932f0382048e": {
      "model_module": "@jupyter-widgets/controls",
      "model_module_version": "2.0.0",
      "model_name": "HTMLModel",
      "state": {
       "layout": "IPY_MODEL_ef9a26d55c5f405885cf6afffdbf7a19",
       "style": "IPY_MODEL_c8a294267366476ea39f8b09552801a5",
       "value": " 1000/1000 [00:04&lt;00:00, 173.30it/s]"
      }
     },
     "bdc426d3855c4ca1ad771fbab02ce9fa": {
      "model_module": "@jupyter-widgets/controls",
      "model_module_version": "2.0.0",
      "model_name": "ProgressStyleModel",
      "state": {
       "description_width": ""
      }
     },
     "beca1d430b01422fb95e1d6f77d0e959": {
      "model_module": "@jupyter-widgets/base",
      "model_module_version": "2.0.0",
      "model_name": "LayoutModel",
      "state": {}
     },
     "bf94a2ca646a47d291fca5437492c7fe": {
      "model_module": "@jupyter-widgets/controls",
      "model_module_version": "2.0.0",
      "model_name": "HTMLStyleModel",
      "state": {
       "description_width": "",
       "font_size": null,
       "text_color": null
      }
     },
     "c0b26c10130b42d6a4689e7c8e11cae1": {
      "model_module": "@jupyter-widgets/controls",
      "model_module_version": "2.0.0",
      "model_name": "HTMLStyleModel",
      "state": {
       "description_width": "",
       "font_size": null,
       "text_color": null
      }
     },
     "c1289c8b45574627b9b2397ccd7f0f73": {
      "model_module": "@jupyter-widgets/controls",
      "model_module_version": "2.0.0",
      "model_name": "ProgressStyleModel",
      "state": {
       "description_width": ""
      }
     },
     "c1af1f1b384c4e0ead11a69458cba4cb": {
      "model_module": "@jupyter-widgets/base",
      "model_module_version": "2.0.0",
      "model_name": "LayoutModel",
      "state": {}
     },
     "c1bc4d312ca14aca97bc7997a69f403d": {
      "model_module": "@jupyter-widgets/base",
      "model_module_version": "2.0.0",
      "model_name": "LayoutModel",
      "state": {}
     },
     "c2b78f94582a450a9e66b99bf44aa81f": {
      "model_module": "@jupyter-widgets/base",
      "model_module_version": "2.0.0",
      "model_name": "LayoutModel",
      "state": {}
     },
     "c2b7e5636b704bafa75c0cd8788dd0c7": {
      "model_module": "@jupyter-widgets/controls",
      "model_module_version": "2.0.0",
      "model_name": "HTMLStyleModel",
      "state": {
       "description_width": "",
       "font_size": null,
       "text_color": null
      }
     },
     "c2defbf393054dffbf0394916f27020e": {
      "model_module": "@jupyter-widgets/base",
      "model_module_version": "2.0.0",
      "model_name": "LayoutModel",
      "state": {
       "visibility": "hidden"
      }
     },
     "c331964d382c42f68764f258034a2ea6": {
      "model_module": "@jupyter-widgets/controls",
      "model_module_version": "2.0.0",
      "model_name": "HTMLModel",
      "state": {
       "layout": "IPY_MODEL_adbeb9a9375d42a69403e7b9458eec5e",
       "style": "IPY_MODEL_5780960c303a409c9629abdd736179cb",
       "value": "100%"
      }
     },
     "c363fa96e4d345438e6f731e8d984ab3": {
      "model_module": "@jupyter-widgets/controls",
      "model_module_version": "2.0.0",
      "model_name": "HTMLStyleModel",
      "state": {
       "description_width": "",
       "font_size": null,
       "text_color": null
      }
     },
     "c3f143d1551d496fb72f31633ac2bcf2": {
      "model_module": "@jupyter-widgets/controls",
      "model_module_version": "2.0.0",
      "model_name": "FloatProgressModel",
      "state": {
       "layout": "IPY_MODEL_e0e7cfdffefc4786a89e51aa771e38ff",
       "max": 1000,
       "style": "IPY_MODEL_15c7ea39c9f740a095cdd32b61ad51b1",
       "value": 1000
      }
     },
     "c3f6bc2414684ed9badbfc1c3b38e138": {
      "model_module": "@jupyter-widgets/base",
      "model_module_version": "2.0.0",
      "model_name": "LayoutModel",
      "state": {}
     },
     "c417dfee2ba3413c8491bdea55ce9118": {
      "model_module": "@jupyter-widgets/base",
      "model_module_version": "2.0.0",
      "model_name": "LayoutModel",
      "state": {}
     },
     "c4a39e4f5bc644418dc0b6e67ad4a73b": {
      "model_module": "@jupyter-widgets/controls",
      "model_module_version": "2.0.0",
      "model_name": "ProgressStyleModel",
      "state": {
       "description_width": ""
      }
     },
     "c4f6b0c28f0c46019912a5b45133e6ea": {
      "model_module": "@jupyter-widgets/base",
      "model_module_version": "2.0.0",
      "model_name": "LayoutModel",
      "state": {}
     },
     "c61d085aac8b40cfac606e697669119b": {
      "model_module": "@jupyter-widgets/controls",
      "model_module_version": "2.0.0",
      "model_name": "HTMLModel",
      "state": {
       "layout": "IPY_MODEL_f50342406ab24802ab42fcfc5a5383d0",
       "style": "IPY_MODEL_a76b79a2afe14d838c46379821abb630",
       "value": " 99%"
      }
     },
     "c632b7b4a75d480f94d529111254dfae": {
      "model_module": "@jupyter-widgets/controls",
      "model_module_version": "2.0.0",
      "model_name": "HTMLModel",
      "state": {
       "layout": "IPY_MODEL_274cf103b0cc43c6b3f31aab619109d9",
       "style": "IPY_MODEL_bc7785c1f9e9458f8357999f5873e731",
       "value": "100%"
      }
     },
     "c8a294267366476ea39f8b09552801a5": {
      "model_module": "@jupyter-widgets/controls",
      "model_module_version": "2.0.0",
      "model_name": "HTMLStyleModel",
      "state": {
       "description_width": "",
       "font_size": null,
       "text_color": null
      }
     },
     "c91a6e9b901b4b6baca1812a66787424": {
      "model_module": "@jupyter-widgets/base",
      "model_module_version": "2.0.0",
      "model_name": "LayoutModel",
      "state": {}
     },
     "c9643db267844ae9a8a8a76100960572": {
      "model_module": "@jupyter-widgets/base",
      "model_module_version": "2.0.0",
      "model_name": "LayoutModel",
      "state": {}
     },
     "cae77798942446adb3baeedec750f20f": {
      "model_module": "@jupyter-widgets/controls",
      "model_module_version": "2.0.0",
      "model_name": "ProgressStyleModel",
      "state": {
       "description_width": ""
      }
     },
     "cafd6e04ded74346a020a8ea97892c65": {
      "model_module": "@jupyter-widgets/controls",
      "model_module_version": "2.0.0",
      "model_name": "ProgressStyleModel",
      "state": {
       "description_width": ""
      }
     },
     "cc162dae651445f289c761cbe55e3201": {
      "model_module": "@jupyter-widgets/base",
      "model_module_version": "2.0.0",
      "model_name": "LayoutModel",
      "state": {
       "visibility": "hidden"
      }
     },
     "cd7deeef26bc4997b6877b3c14761adf": {
      "model_module": "@jupyter-widgets/controls",
      "model_module_version": "2.0.0",
      "model_name": "HTMLStyleModel",
      "state": {
       "description_width": "",
       "font_size": null,
       "text_color": null
      }
     },
     "cd9b5daa50774084b08e202ac0267ec9": {
      "model_module": "@jupyter-widgets/controls",
      "model_module_version": "2.0.0",
      "model_name": "HTMLStyleModel",
      "state": {
       "description_width": "",
       "font_size": null,
       "text_color": null
      }
     },
     "ceef8ca2150b445b8f02716c72e2893b": {
      "model_module": "@jupyter-widgets/base",
      "model_module_version": "2.0.0",
      "model_name": "LayoutModel",
      "state": {}
     },
     "cf44887e66af4e17b3056815ac25026b": {
      "model_module": "@jupyter-widgets/controls",
      "model_module_version": "2.0.0",
      "model_name": "HTMLModel",
      "state": {
       "layout": "IPY_MODEL_2f3117b989b843b2bf017ff3fd957ce6",
       "style": "IPY_MODEL_abc4d43079f940cb9cbec3ee19d1e905",
       "value": " 1000/1000 [00:04&lt;00:00, 191.17it/s]"
      }
     },
     "cf8b5d6c3f044436bff6b995fc1ed649": {
      "model_module": "@jupyter-widgets/base",
      "model_module_version": "2.0.0",
      "model_name": "LayoutModel",
      "state": {}
     },
     "d0166e469ae24c8eb1524c5427f3bb32": {
      "model_module": "@jupyter-widgets/controls",
      "model_module_version": "2.0.0",
      "model_name": "HTMLModel",
      "state": {
       "layout": "IPY_MODEL_a6ba1f9879204eea87a3d55aa4770046",
       "style": "IPY_MODEL_05754d58e30e49d5855d1323b5b82fa9",
       "value": " 99%"
      }
     },
     "d0628f5b19a44f268a82cab8ceac7c7b": {
      "model_module": "@jupyter-widgets/controls",
      "model_module_version": "2.0.0",
      "model_name": "HTMLModel",
      "state": {
       "layout": "IPY_MODEL_81a163dbd39c4c2989923cf0347c5ecf",
       "style": "IPY_MODEL_82ae310dccca42c8814ba52193097722",
       "value": " 971/1000 [00:04&lt;00:00, 243.37it/s]"
      }
     },
     "d1478bfc7090479c92a209671bdb51a5": {
      "model_module": "@jupyter-widgets/controls",
      "model_module_version": "2.0.0",
      "model_name": "ProgressStyleModel",
      "state": {
       "description_width": ""
      }
     },
     "d1562e6298e145d88038a3c6f4c859ad": {
      "model_module": "@jupyter-widgets/controls",
      "model_module_version": "2.0.0",
      "model_name": "ProgressStyleModel",
      "state": {
       "description_width": ""
      }
     },
     "d179d7ee13164b55976459db3915527e": {
      "model_module": "@jupyter-widgets/controls",
      "model_module_version": "2.0.0",
      "model_name": "FloatProgressModel",
      "state": {
       "layout": "IPY_MODEL_62aebc26e3424e399544909a42f31c25",
       "max": 1000,
       "style": "IPY_MODEL_cae77798942446adb3baeedec750f20f",
       "value": 1000
      }
     },
     "d22b33b899f346639cf9946912c678f6": {
      "model_module": "@jupyter-widgets/controls",
      "model_module_version": "2.0.0",
      "model_name": "HTMLStyleModel",
      "state": {
       "description_width": "",
       "font_size": null,
       "text_color": null
      }
     },
     "d29a455758c14541abbef50523a69e1e": {
      "model_module": "@jupyter-widgets/base",
      "model_module_version": "2.0.0",
      "model_name": "LayoutModel",
      "state": {}
     },
     "d369d23cfdb548d39beeab98049b5366": {
      "model_module": "@jupyter-widgets/controls",
      "model_module_version": "2.0.0",
      "model_name": "HTMLModel",
      "state": {
       "layout": "IPY_MODEL_a19ae69f68634ca39ae9b7bbf0ebbf09",
       "style": "IPY_MODEL_06562511cbd847caa66a9da3da73ec75",
       "value": " 991/1000 [00:04&lt;00:00, 243.21it/s]"
      }
     },
     "d3a9704292d945fc8eaa889c0ed5e190": {
      "model_module": "@jupyter-widgets/controls",
      "model_module_version": "2.0.0",
      "model_name": "FloatProgressModel",
      "state": {
       "layout": "IPY_MODEL_e004c6154c4d4315ab223ec4037bd0bf",
       "max": 1000,
       "style": "IPY_MODEL_fd53f78d377144c681af76fcfe513c67",
       "value": 1000
      }
     },
     "d472bead896149a283a0ee21ff508e13": {
      "model_module": "@jupyter-widgets/controls",
      "model_module_version": "2.0.0",
      "model_name": "ProgressStyleModel",
      "state": {
       "description_width": ""
      }
     },
     "d55f50dec2ab42228a753a1998811824": {
      "model_module": "@jupyter-widgets/controls",
      "model_module_version": "2.0.0",
      "model_name": "ProgressStyleModel",
      "state": {
       "description_width": ""
      }
     },
     "d5de618539fe4530b79fbd2e7054ee3f": {
      "model_module": "@jupyter-widgets/base",
      "model_module_version": "2.0.0",
      "model_name": "LayoutModel",
      "state": {}
     },
     "d64e32dd56d24a05af26cb33210bc6fe": {
      "model_module": "@jupyter-widgets/base",
      "model_module_version": "2.0.0",
      "model_name": "LayoutModel",
      "state": {}
     },
     "d68ad9624ce84440a30617d303b9d453": {
      "model_module": "@jupyter-widgets/controls",
      "model_module_version": "2.0.0",
      "model_name": "HTMLStyleModel",
      "state": {
       "description_width": "",
       "font_size": null,
       "text_color": null
      }
     },
     "d6b8ea47bbed4023991d55fc0e321077": {
      "model_module": "@jupyter-widgets/base",
      "model_module_version": "2.0.0",
      "model_name": "LayoutModel",
      "state": {}
     },
     "d6c7e2fd23f243ab893e11eff150e0ff": {
      "model_module": "@jupyter-widgets/controls",
      "model_module_version": "2.0.0",
      "model_name": "HTMLStyleModel",
      "state": {
       "description_width": "",
       "font_size": null,
       "text_color": null
      }
     },
     "d710bb9bd35447f08acb131733ec9946": {
      "model_module": "@jupyter-widgets/controls",
      "model_module_version": "2.0.0",
      "model_name": "HTMLModel",
      "state": {
       "layout": "IPY_MODEL_5be6cae166734651b11b9a0a219a74cf",
       "style": "IPY_MODEL_01b7f9061c114413bdc9a9d8b97b2627",
       "value": " 987/1000 [00:05&lt;00:00, 232.32it/s]"
      }
     },
     "d7dae8e7e44b4b2a8d5557a0587fc8c7": {
      "model_module": "@jupyter-widgets/base",
      "model_module_version": "2.0.0",
      "model_name": "LayoutModel",
      "state": {
       "visibility": "hidden"
      }
     },
     "d7f0761318d346c48951dc83f0711d19": {
      "model_module": "@jupyter-widgets/base",
      "model_module_version": "2.0.0",
      "model_name": "LayoutModel",
      "state": {}
     },
     "d81f35605b464454b46e32889091b33d": {
      "model_module": "@jupyter-widgets/base",
      "model_module_version": "2.0.0",
      "model_name": "LayoutModel",
      "state": {}
     },
     "d89f0c2bc61245b4ada4d224e32ec159": {
      "model_module": "@jupyter-widgets/controls",
      "model_module_version": "2.0.0",
      "model_name": "HTMLModel",
      "state": {
       "layout": "IPY_MODEL_c3f6bc2414684ed9badbfc1c3b38e138",
       "style": "IPY_MODEL_c363fa96e4d345438e6f731e8d984ab3",
       "value": " 97%"
      }
     },
     "d8e7638361ba41a592be2df9c6329bba": {
      "model_module": "@jupyter-widgets/base",
      "model_module_version": "2.0.0",
      "model_name": "LayoutModel",
      "state": {
       "visibility": "hidden"
      }
     },
     "d8f4f161a17a4d62b7ee9bb3bd7b3da3": {
      "model_module": "@jupyter-widgets/base",
      "model_module_version": "2.0.0",
      "model_name": "LayoutModel",
      "state": {}
     },
     "d906fc105c334f63ad3b6aca73273de2": {
      "model_module": "@jupyter-widgets/controls",
      "model_module_version": "2.0.0",
      "model_name": "HTMLStyleModel",
      "state": {
       "description_width": "",
       "font_size": null,
       "text_color": null
      }
     },
     "d9c867fbe948420ba10145f2f1769260": {
      "model_module": "@jupyter-widgets/controls",
      "model_module_version": "2.0.0",
      "model_name": "FloatProgressModel",
      "state": {
       "layout": "IPY_MODEL_d6b8ea47bbed4023991d55fc0e321077",
       "max": 1000,
       "style": "IPY_MODEL_569ca804f6c24b22804c604a0f7b10b4",
       "value": 1000
      }
     },
     "da542032ba864427aa6726efe4545f7b": {
      "model_module": "@jupyter-widgets/controls",
      "model_module_version": "2.0.0",
      "model_name": "HTMLStyleModel",
      "state": {
       "description_width": "",
       "font_size": null,
       "text_color": null
      }
     },
     "db19a1da4d6940d58dfd9cd73967aff5": {
      "model_module": "@jupyter-widgets/controls",
      "model_module_version": "2.0.0",
      "model_name": "HTMLStyleModel",
      "state": {
       "description_width": "",
       "font_size": null,
       "text_color": null
      }
     },
     "db2172321fa64f238f5b3465da92a261": {
      "model_module": "@jupyter-widgets/controls",
      "model_module_version": "2.0.0",
      "model_name": "HTMLStyleModel",
      "state": {
       "description_width": "",
       "font_size": null,
       "text_color": null
      }
     },
     "db462a3275bd445484584601426aa7df": {
      "model_module": "@jupyter-widgets/controls",
      "model_module_version": "2.0.0",
      "model_name": "HTMLModel",
      "state": {
       "layout": "IPY_MODEL_c9643db267844ae9a8a8a76100960572",
       "style": "IPY_MODEL_08252e6ff1b14202bda7e54a60c4ab4f",
       "value": " 977/1000 [00:04&lt;00:00, 228.45it/s]"
      }
     },
     "dbcf37b17bad4b0e99d28c0588e7eeac": {
      "model_module": "@jupyter-widgets/controls",
      "model_module_version": "2.0.0",
      "model_name": "FloatProgressModel",
      "state": {
       "layout": "IPY_MODEL_8f3e0b93a6ab465eadf30c4b3b9f06fd",
       "max": 1000,
       "style": "IPY_MODEL_41f66dff6d1049cbbe731dc8ab3bff86",
       "value": 1000
      }
     },
     "dc3b2893044749d39a9761bbd3d4ed6a": {
      "model_module": "@jupyter-widgets/controls",
      "model_module_version": "2.0.0",
      "model_name": "HTMLStyleModel",
      "state": {
       "description_width": "",
       "font_size": null,
       "text_color": null
      }
     },
     "dc4dfcd189bf4a1f886fd5e9cc3c8181": {
      "model_module": "@jupyter-widgets/base",
      "model_module_version": "2.0.0",
      "model_name": "LayoutModel",
      "state": {}
     },
     "dc8123c7a627452287b1067e5853a99d": {
      "model_module": "@jupyter-widgets/controls",
      "model_module_version": "2.0.0",
      "model_name": "ProgressStyleModel",
      "state": {
       "description_width": ""
      }
     },
     "dc89ec0e29794c51baea04046d21dd38": {
      "model_module": "@jupyter-widgets/controls",
      "model_module_version": "2.0.0",
      "model_name": "FloatProgressModel",
      "state": {
       "layout": "IPY_MODEL_90be8dd085f341aab5d33da35abed0d5",
       "max": 1000,
       "style": "IPY_MODEL_faaf923bc524461880a6ad19f3249b54",
       "value": 1000
      }
     },
     "dd2963d7ab4546aba224952d8e2c652d": {
      "model_module": "@jupyter-widgets/controls",
      "model_module_version": "2.0.0",
      "model_name": "FloatProgressModel",
      "state": {
       "layout": "IPY_MODEL_d5de618539fe4530b79fbd2e7054ee3f",
       "max": 1000,
       "style": "IPY_MODEL_d472bead896149a283a0ee21ff508e13",
       "value": 1000
      }
     },
     "ddcd3457771b4fb5ad5d9c5d706ab46b": {
      "model_module": "@jupyter-widgets/controls",
      "model_module_version": "2.0.0",
      "model_name": "ProgressStyleModel",
      "state": {
       "description_width": ""
      }
     },
     "de6e8989842e4a3cb5c0100d6154a648": {
      "model_module": "@jupyter-widgets/controls",
      "model_module_version": "2.0.0",
      "model_name": "HTMLStyleModel",
      "state": {
       "description_width": "",
       "font_size": null,
       "text_color": null
      }
     },
     "df049f6a0c6b46da8824637421bc1783": {
      "model_module": "@jupyter-widgets/controls",
      "model_module_version": "2.0.0",
      "model_name": "HTMLStyleModel",
      "state": {
       "description_width": "",
       "font_size": null,
       "text_color": null
      }
     },
     "df3b2baed679401fb0b1ee483ba99c5e": {
      "model_module": "@jupyter-widgets/controls",
      "model_module_version": "2.0.0",
      "model_name": "HTMLModel",
      "state": {
       "layout": "IPY_MODEL_ef7eb3facc984a6e9259515dcf05e797",
       "style": "IPY_MODEL_72c8b998958543a2a0050ebf44f529d3",
       "value": " 98%"
      }
     },
     "df908234a7434f72ae088af010729170": {
      "model_module": "@jupyter-widgets/base",
      "model_module_version": "2.0.0",
      "model_name": "LayoutModel",
      "state": {}
     },
     "dfa269b6a7db469a85a3f27e93b359e2": {
      "model_module": "@jupyter-widgets/controls",
      "model_module_version": "2.0.0",
      "model_name": "ProgressStyleModel",
      "state": {
       "description_width": ""
      }
     },
     "e004c6154c4d4315ab223ec4037bd0bf": {
      "model_module": "@jupyter-widgets/base",
      "model_module_version": "2.0.0",
      "model_name": "LayoutModel",
      "state": {}
     },
     "e0e7cfdffefc4786a89e51aa771e38ff": {
      "model_module": "@jupyter-widgets/base",
      "model_module_version": "2.0.0",
      "model_name": "LayoutModel",
      "state": {}
     },
     "e1b711793b2142e1a128ba4da7d57962": {
      "model_module": "@jupyter-widgets/controls",
      "model_module_version": "2.0.0",
      "model_name": "HTMLStyleModel",
      "state": {
       "description_width": "",
       "font_size": null,
       "text_color": null
      }
     },
     "e26b224496334e6db323d1617eedb2c1": {
      "model_module": "@jupyter-widgets/controls",
      "model_module_version": "2.0.0",
      "model_name": "ProgressStyleModel",
      "state": {
       "description_width": ""
      }
     },
     "e29d5cf6c2d343a0b37e92485e65536a": {
      "model_module": "@jupyter-widgets/controls",
      "model_module_version": "2.0.0",
      "model_name": "ProgressStyleModel",
      "state": {
       "description_width": ""
      }
     },
     "e2bfe5f4f1b84b3498673f126f51ddae": {
      "model_module": "@jupyter-widgets/base",
      "model_module_version": "2.0.0",
      "model_name": "LayoutModel",
      "state": {}
     },
     "e2c04598c7c7496cba385ef8f53c6714": {
      "model_module": "@jupyter-widgets/base",
      "model_module_version": "2.0.0",
      "model_name": "LayoutModel",
      "state": {}
     },
     "e3b8a10541a7427dbd94edd7b37f773a": {
      "model_module": "@jupyter-widgets/base",
      "model_module_version": "2.0.0",
      "model_name": "LayoutModel",
      "state": {
       "visibility": "hidden"
      }
     },
     "e3f473e7917f492396b1eaac1410e224": {
      "model_module": "@jupyter-widgets/base",
      "model_module_version": "2.0.0",
      "model_name": "LayoutModel",
      "state": {
       "visibility": "hidden"
      }
     },
     "e41ef064227845bc9be6fd97823edcfa": {
      "model_module": "@jupyter-widgets/controls",
      "model_module_version": "2.0.0",
      "model_name": "ProgressStyleModel",
      "state": {
       "description_width": ""
      }
     },
     "e42386d170fb417faa6da6ad40d983ea": {
      "model_module": "@jupyter-widgets/controls",
      "model_module_version": "2.0.0",
      "model_name": "HTMLStyleModel",
      "state": {
       "description_width": "",
       "font_size": null,
       "text_color": null
      }
     },
     "e4339aef0c6d455abe06b1fb6d6d3658": {
      "model_module": "@jupyter-widgets/controls",
      "model_module_version": "2.0.0",
      "model_name": "HTMLModel",
      "state": {
       "layout": "IPY_MODEL_904316be99284d88b00d8f31e0b832cd",
       "style": "IPY_MODEL_12cb238d96124fdf8ce80b4270864823",
       "value": " 993/1000 [00:04&lt;00:00, 245.42it/s]"
      }
     },
     "e46c6dd8e335486f9b45aff576d69451": {
      "model_module": "@jupyter-widgets/controls",
      "model_module_version": "2.0.0",
      "model_name": "HTMLStyleModel",
      "state": {
       "description_width": "",
       "font_size": null,
       "text_color": null
      }
     },
     "e4f0f1db4c1546c2a07adc939690a642": {
      "model_module": "@jupyter-widgets/controls",
      "model_module_version": "2.0.0",
      "model_name": "HTMLStyleModel",
      "state": {
       "description_width": "",
       "font_size": null,
       "text_color": null
      }
     },
     "e5517aee226f4e7f8e205483986a9840": {
      "model_module": "@jupyter-widgets/controls",
      "model_module_version": "2.0.0",
      "model_name": "HTMLModel",
      "state": {
       "layout": "IPY_MODEL_9dde4d0dd1974ec1b991fb9414cd814f",
       "style": "IPY_MODEL_a911829ee81143f4aeb3b5331b6b16f5",
       "value": " 972/1000 [00:04&lt;00:00, 249.59it/s]"
      }
     },
     "e5cfb3120adc46a9884a1e214ae43067": {
      "model_module": "@jupyter-widgets/base",
      "model_module_version": "2.0.0",
      "model_name": "LayoutModel",
      "state": {}
     },
     "e68a652c7bc14dc49ac897915199992b": {
      "model_module": "@jupyter-widgets/controls",
      "model_module_version": "2.0.0",
      "model_name": "HTMLModel",
      "state": {
       "layout": "IPY_MODEL_a008527b5c1d46d1939eb8a0f1730773",
       "style": "IPY_MODEL_db19a1da4d6940d58dfd9cd73967aff5",
       "value": " 999/1000 [00:04&lt;00:00, 245.18it/s]"
      }
     },
     "e6cf02e66d014f62a14659d7dc15c37a": {
      "model_module": "@jupyter-widgets/base",
      "model_module_version": "2.0.0",
      "model_name": "LayoutModel",
      "state": {}
     },
     "e9c747b6b1664d939624530e274b9fda": {
      "model_module": "@jupyter-widgets/base",
      "model_module_version": "2.0.0",
      "model_name": "LayoutModel",
      "state": {
       "visibility": "hidden"
      }
     },
     "e9d37a1c43444ebeb646853c2bee4fbb": {
      "model_module": "@jupyter-widgets/base",
      "model_module_version": "2.0.0",
      "model_name": "LayoutModel",
      "state": {
       "visibility": "hidden"
      }
     },
     "ea19e4bba94b4f5591b1f767757ae292": {
      "model_module": "@jupyter-widgets/controls",
      "model_module_version": "2.0.0",
      "model_name": "FloatProgressModel",
      "state": {
       "layout": "IPY_MODEL_3884c902628d4ef2b82526bd29346e03",
       "max": 1000,
       "style": "IPY_MODEL_e26b224496334e6db323d1617eedb2c1",
       "value": 1000
      }
     },
     "eb43d5ae1b1640bab2c9e0fbc9a80c73": {
      "model_module": "@jupyter-widgets/controls",
      "model_module_version": "2.0.0",
      "model_name": "HTMLStyleModel",
      "state": {
       "description_width": "",
       "font_size": null,
       "text_color": null
      }
     },
     "ebac65a9223e47b3aee56a97cee3607c": {
      "model_module": "@jupyter-widgets/base",
      "model_module_version": "2.0.0",
      "model_name": "LayoutModel",
      "state": {}
     },
     "ec416fe7a32f47b69e132916625c389b": {
      "model_module": "@jupyter-widgets/controls",
      "model_module_version": "2.0.0",
      "model_name": "FloatProgressModel",
      "state": {
       "layout": "IPY_MODEL_c91a6e9b901b4b6baca1812a66787424",
       "max": 1000,
       "style": "IPY_MODEL_2baf058cfbf848efbf1d5fc5336a1c4f",
       "value": 1000
      }
     },
     "ecd4bbc1731e4144ac8b2e57eaf5710a": {
      "model_module": "@jupyter-widgets/controls",
      "model_module_version": "2.0.0",
      "model_name": "HTMLStyleModel",
      "state": {
       "description_width": "",
       "font_size": null,
       "text_color": null
      }
     },
     "edc7725ee8bb43d9a3e33c1a371612f8": {
      "model_module": "@jupyter-widgets/controls",
      "model_module_version": "2.0.0",
      "model_name": "HTMLStyleModel",
      "state": {
       "description_width": "",
       "font_size": null,
       "text_color": null
      }
     },
     "eedd8e53ae5f4a82aa74a2abd3f1af5d": {
      "model_module": "@jupyter-widgets/controls",
      "model_module_version": "2.0.0",
      "model_name": "HTMLModel",
      "state": {
       "layout": "IPY_MODEL_cf8b5d6c3f044436bff6b995fc1ed649",
       "style": "IPY_MODEL_e4f0f1db4c1546c2a07adc939690a642",
       "value": " 98%"
      }
     },
     "ef23237437954f21ae930e672184ba23": {
      "model_module": "@jupyter-widgets/controls",
      "model_module_version": "2.0.0",
      "model_name": "HTMLModel",
      "state": {
       "layout": "IPY_MODEL_21e7c9b48ece4d66a5d7b8640e7fd11a",
       "style": "IPY_MODEL_8617022558664e2da2da6a56e67fd81d",
       "value": "100%"
      }
     },
     "ef3ad8bc468b45b1a86d5120fe42eed8": {
      "model_module": "@jupyter-widgets/base",
      "model_module_version": "2.0.0",
      "model_name": "LayoutModel",
      "state": {}
     },
     "ef7eb3facc984a6e9259515dcf05e797": {
      "model_module": "@jupyter-widgets/base",
      "model_module_version": "2.0.0",
      "model_name": "LayoutModel",
      "state": {}
     },
     "ef9a26d55c5f405885cf6afffdbf7a19": {
      "model_module": "@jupyter-widgets/base",
      "model_module_version": "2.0.0",
      "model_name": "LayoutModel",
      "state": {}
     },
     "f00fed5aff004ed4bf94e774af78ce83": {
      "model_module": "@jupyter-widgets/base",
      "model_module_version": "2.0.0",
      "model_name": "LayoutModel",
      "state": {}
     },
     "f0644e213fb74938a6f935bd7ed2d7ce": {
      "model_module": "@jupyter-widgets/base",
      "model_module_version": "2.0.0",
      "model_name": "LayoutModel",
      "state": {
       "visibility": "hidden"
      }
     },
     "f0ebcb7eb25740cea2341a30b859dc8e": {
      "model_module": "@jupyter-widgets/base",
      "model_module_version": "2.0.0",
      "model_name": "LayoutModel",
      "state": {}
     },
     "f0f89b4cb79e4f028087df0d3f46f6cd": {
      "model_module": "@jupyter-widgets/base",
      "model_module_version": "2.0.0",
      "model_name": "LayoutModel",
      "state": {}
     },
     "f1139b9433fa407d8ce5ef9050ce1932": {
      "model_module": "@jupyter-widgets/controls",
      "model_module_version": "2.0.0",
      "model_name": "HTMLStyleModel",
      "state": {
       "description_width": "",
       "font_size": null,
       "text_color": null
      }
     },
     "f1e07ad907eb49de9c3c3b23656722ca": {
      "model_module": "@jupyter-widgets/controls",
      "model_module_version": "2.0.0",
      "model_name": "HTMLModel",
      "state": {
       "layout": "IPY_MODEL_ba92c278633443cb83dbd235bddb838e",
       "style": "IPY_MODEL_ecd4bbc1731e4144ac8b2e57eaf5710a",
       "value": " 971/1000 [00:04&lt;00:00, 241.42it/s]"
      }
     },
     "f285e573da1845fc8f538806e245d33c": {
      "model_module": "@jupyter-widgets/controls",
      "model_module_version": "2.0.0",
      "model_name": "HTMLModel",
      "state": {
       "layout": "IPY_MODEL_ae39ba731521435f8a7ddab9c5f80e50",
       "style": "IPY_MODEL_db2172321fa64f238f5b3465da92a261",
       "value": " 971/1000 [00:04&lt;00:00, 246.76it/s]"
      }
     },
     "f37e35e56e1f435096cfac78fb9e8778": {
      "model_module": "@jupyter-widgets/base",
      "model_module_version": "2.0.0",
      "model_name": "LayoutModel",
      "state": {}
     },
     "f44451d81b414029b0084fd637c91b40": {
      "model_module": "@jupyter-widgets/base",
      "model_module_version": "2.0.0",
      "model_name": "LayoutModel",
      "state": {}
     },
     "f4581676deea4c4b88fbd9ebcaa8b5fd": {
      "model_module": "@jupyter-widgets/controls",
      "model_module_version": "2.0.0",
      "model_name": "HTMLStyleModel",
      "state": {
       "description_width": "",
       "font_size": null,
       "text_color": null
      }
     },
     "f4bdbf381c104445ad269dc7ce66cd06": {
      "model_module": "@jupyter-widgets/base",
      "model_module_version": "2.0.0",
      "model_name": "LayoutModel",
      "state": {}
     },
     "f50342406ab24802ab42fcfc5a5383d0": {
      "model_module": "@jupyter-widgets/base",
      "model_module_version": "2.0.0",
      "model_name": "LayoutModel",
      "state": {}
     },
     "f66f1ecd4c0f4d499f41d3651f7c25d7": {
      "model_module": "@jupyter-widgets/controls",
      "model_module_version": "2.0.0",
      "model_name": "HTMLModel",
      "state": {
       "layout": "IPY_MODEL_f684c9352dd8492fa6188def27820428",
       "style": "IPY_MODEL_a995915f82e549549dcc8b3f826232aa",
       "value": " 977/1000 [00:04&lt;00:00, 249.78it/s]"
      }
     },
     "f684c9352dd8492fa6188def27820428": {
      "model_module": "@jupyter-widgets/base",
      "model_module_version": "2.0.0",
      "model_name": "LayoutModel",
      "state": {}
     },
     "f685245fefc84235abf501446da1afae": {
      "model_module": "@jupyter-widgets/base",
      "model_module_version": "2.0.0",
      "model_name": "LayoutModel",
      "state": {
       "visibility": "hidden"
      }
     },
     "f72a79279a854719aff8153c41d71626": {
      "model_module": "@jupyter-widgets/base",
      "model_module_version": "2.0.0",
      "model_name": "LayoutModel",
      "state": {}
     },
     "f77e797944d649beb6b79dfdce31be12": {
      "model_module": "@jupyter-widgets/controls",
      "model_module_version": "2.0.0",
      "model_name": "HTMLModel",
      "state": {
       "layout": "IPY_MODEL_c1af1f1b384c4e0ead11a69458cba4cb",
       "style": "IPY_MODEL_55e39c76c9d942f0a1746673b4de8401",
       "value": " 991/1000 [00:04&lt;00:00, 241.55it/s]"
      }
     },
     "f7c47cc0881a45ca8384fe780d7d53fd": {
      "model_module": "@jupyter-widgets/controls",
      "model_module_version": "2.0.0",
      "model_name": "ProgressStyleModel",
      "state": {
       "description_width": ""
      }
     },
     "f940353d10c74faba67115fc6fccd9f7": {
      "model_module": "@jupyter-widgets/controls",
      "model_module_version": "2.0.0",
      "model_name": "HTMLModel",
      "state": {
       "layout": "IPY_MODEL_9ce762bd64ae4c6ead0ad6687dbe4292",
       "style": "IPY_MODEL_b22c3a09e30240b29d3f47778dff2b2e",
       "value": " 98%"
      }
     },
     "f944cfeba8dc468292fff22b5447d957": {
      "model_module": "@jupyter-widgets/controls",
      "model_module_version": "2.0.0",
      "model_name": "HTMLModel",
      "state": {
       "layout": "IPY_MODEL_b7c07a4278224442b2e5288ded510dad",
       "style": "IPY_MODEL_d22b33b899f346639cf9946912c678f6",
       "value": " 99%"
      }
     },
     "f9df21b81a98415b9f75b24988d2797c": {
      "model_module": "@jupyter-widgets/controls",
      "model_module_version": "2.0.0",
      "model_name": "HTMLModel",
      "state": {
       "layout": "IPY_MODEL_64cea15b3fc746588c22c277246ff4de",
       "style": "IPY_MODEL_9691f49af9d545a294420e08b6f8c5ac",
       "value": " 50/50 [04:02&lt;00:00,  4.76s/it]"
      }
     },
     "f9e337de4d6c44d0a0cee3cf00e675e8": {
      "model_module": "@jupyter-widgets/base",
      "model_module_version": "2.0.0",
      "model_name": "LayoutModel",
      "state": {}
     },
     "f9f36682f46c48d2a257a395543f5008": {
      "model_module": "@jupyter-widgets/base",
      "model_module_version": "2.0.0",
      "model_name": "LayoutModel",
      "state": {}
     },
     "faaf923bc524461880a6ad19f3249b54": {
      "model_module": "@jupyter-widgets/controls",
      "model_module_version": "2.0.0",
      "model_name": "ProgressStyleModel",
      "state": {
       "description_width": ""
      }
     },
     "fb0ae9d380274f94b12f14f39aaeb40c": {
      "model_module": "@jupyter-widgets/controls",
      "model_module_version": "2.0.0",
      "model_name": "HTMLModel",
      "state": {
       "layout": "IPY_MODEL_6d993d7f433f496fb90b854dc087f19f",
       "style": "IPY_MODEL_62b9fd67200f43adad63663d5fb90707",
       "value": " 98%"
      }
     },
     "fb28bdf0cb824b28881df9836f2051e3": {
      "model_module": "@jupyter-widgets/controls",
      "model_module_version": "2.0.0",
      "model_name": "HBoxModel",
      "state": {
       "children": [
        "IPY_MODEL_2a642ef906434a99805e3b10e5b1eac0",
        "IPY_MODEL_51c727fef8fb4302881217420f09f7f9",
        "IPY_MODEL_34f1695149764c0785663bf7ad06d1d0"
       ],
       "layout": "IPY_MODEL_3b75227446ce40c8b65bfde8f8bc4501"
      }
     },
     "fb824ffe90ce46a7a5aaa42846ea795b": {
      "model_module": "@jupyter-widgets/base",
      "model_module_version": "2.0.0",
      "model_name": "LayoutModel",
      "state": {}
     },
     "fba6b7af69db4d339dab7104d01e1f11": {
      "model_module": "@jupyter-widgets/controls",
      "model_module_version": "2.0.0",
      "model_name": "HTMLStyleModel",
      "state": {
       "description_width": "",
       "font_size": null,
       "text_color": null
      }
     },
     "fc9c2cd4a1de4309b55c2e38bd4caf08": {
      "model_module": "@jupyter-widgets/controls",
      "model_module_version": "2.0.0",
      "model_name": "HTMLModel",
      "state": {
       "layout": "IPY_MODEL_a42fe343570b412fbf29d784e98ef093",
       "style": "IPY_MODEL_dc3b2893044749d39a9761bbd3d4ed6a",
       "value": " 98%"
      }
     },
     "fd53f78d377144c681af76fcfe513c67": {
      "model_module": "@jupyter-widgets/controls",
      "model_module_version": "2.0.0",
      "model_name": "ProgressStyleModel",
      "state": {
       "description_width": ""
      }
     },
     "fde1469cef2e42f2af7cbb3b8cb052e5": {
      "model_module": "@jupyter-widgets/controls",
      "model_module_version": "2.0.0",
      "model_name": "FloatProgressModel",
      "state": {
       "layout": "IPY_MODEL_7a8d6d055d2a4d958b8392220748f82a",
       "max": 1000,
       "style": "IPY_MODEL_1b7651b48f2b4b26aaf530094ce66430",
       "value": 1000
      }
     },
     "fe1560205e88441097f0cea1d66b7ae8": {
      "model_module": "@jupyter-widgets/base",
      "model_module_version": "2.0.0",
      "model_name": "LayoutModel",
      "state": {}
     },
     "ffdfde31594f465d9f23ef803b9ebe12": {
      "model_module": "@jupyter-widgets/base",
      "model_module_version": "2.0.0",
      "model_name": "LayoutModel",
      "state": {
       "visibility": "hidden"
      }
     }
    },
    "version_major": 2,
    "version_minor": 0
   }
  }
 },
 "nbformat": 4,
 "nbformat_minor": 5
}
