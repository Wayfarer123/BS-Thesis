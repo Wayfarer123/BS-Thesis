{
 "cells": [
  {
   "cell_type": "code",
   "execution_count": 1,
   "id": "551c2a4c-6a02-408a-97e3-a95412c2dfd6",
   "metadata": {},
   "outputs": [],
   "source": [
    "import torch\n",
    "from tqdm.auto import tqdm\n",
    "import numpy as np\n",
    "import os\n",
    "from matplotlib import pyplot as plt\n",
    "import seaborn as sns\n",
    "import json\n",
    "import random\n",
    "from torch import nn\n",
    "from torcheval.metrics import MeanSquaredError\n",
    "import itertools\n",
    "from torch.nn import functional as F\n",
    "from torch.utils.data import Dataset, DataLoader\n",
    "from IPython.display import clear_output\n",
    "\n",
    "random.seed(42)\n",
    "sns.set_style(\"darkgrid\")\n",
    "\n",
    "# device = \"cuda\" if torch.cuda.is_available() else \"cpu\"\n",
    "device = \"cpu\""
   ]
  },
  {
   "cell_type": "code",
   "execution_count": 2,
   "id": "51061327-0b25-4ac3-a536-a6a2d696e8d0",
   "metadata": {},
   "outputs": [
    {
     "name": "stdout",
     "output_type": "stream",
     "text": [
      "\n"
     ]
    }
   ],
   "source": [
    "from OutfitTransformer.model.encoder import ItemEncoder\n",
    "from OutfitTransformer.model.model import OutfitTransformer\n",
    "from transformers import AutoTokenizer\n",
    "\n",
    "weights_path = \"OutfitTransformer/checkpoints/2_0.923.pth\"\n",
    "outfit_transformer_weights = torch.load(weights_path)\n",
    "\n",
    "\n",
    "model = OutfitTransformer(embedding_dim=128).to(\"cuda\")\n",
    "model.load_state_dict(outfit_transformer_weights['model_state_dict'], strict=False)\n",
    "model.eval()\n",
    "print()"
   ]
  },
  {
   "cell_type": "code",
   "execution_count": 3,
   "id": "a02b8863-5c89-48b4-aec9-74024c00f28c",
   "metadata": {},
   "outputs": [
    {
     "data": {
      "text/plain": [
       "(63359, 8)"
      ]
     },
     "execution_count": 3,
     "metadata": {},
     "output_type": "execute_result"
    }
   ],
   "source": [
    "with open(\"data/Re-PolyVore_encoded_with_OutfitTransformer.json\", \"r\", encoding=\"utf-8\") as f:\n",
    "    outfits_dict = json.load(f)\n",
    "\n",
    "outfits_at_least_3 = {}\n",
    "for key, val in outfits_dict.items():\n",
    "    if val.get(\"items\") is not None:\n",
    "        if len(val[\"items\"]) > 2:\n",
    "            outfits_at_least_3.update({key: val})\n",
    "    else: pass\n",
    "\n",
    "outfits_at_least_4 = {}\n",
    "for key, val in outfits_dict.items():\n",
    "    if val.get(\"items\") is not None:\n",
    "        if len(val[\"items\"]) > 3:\n",
    "            outfits_at_least_4.update({key: val})\n",
    "    else: pass\n",
    "\n",
    "outfits_at_least_5 = {}\n",
    "for key, val in outfits_dict.items():\n",
    "    if val.get(\"items\") is not None:\n",
    "        if len(val[\"items\"]) > 4:\n",
    "            outfits_at_least_5.update({key: val})\n",
    "    else: pass\n",
    "\n",
    "outfits_at_least_6 = {}\n",
    "for key, val in outfits_dict.items():\n",
    "    if val.get(\"items\") is not None:\n",
    "        if len(val[\"items\"]) > 5:\n",
    "            outfits_at_least_6.update({key: val})\n",
    "    else: pass\n",
    "\n",
    "outfits_at_least_7 = {}\n",
    "for key, val in outfits_dict.items():\n",
    "    if val.get(\"items\") is not None:\n",
    "        if len(val[\"items\"]) > 6:\n",
    "            outfits_at_least_7.update({key: val})\n",
    "    else: pass\n",
    "\n",
    "outfits_at_least_8 = {}\n",
    "for key, val in outfits_dict.items():\n",
    "    if val.get(\"items\") is not None:\n",
    "        if len(val[\"items\"]) > 7:\n",
    "            outfits_at_least_8.update({key: val})\n",
    "    else: pass\n",
    "len(outfits_at_least_3.keys()), len(outfits_at_least_4.keys()), len(outfits_at_least_5.keys()), len(outfits_at_least_6.keys()), len(outfits_at_least_7.keys()), len(outfits_at_least_8.keys())\n",
    "\n",
    "max_set_len = 0\n",
    "for key, outfit in outfits_dict.items():\n",
    "    if outfit.get(\"items\") is not None:\n",
    "        max_set_len = max(max_set_len, len(outfit[\"items\"]))\n",
    "\n",
    "all_items = []\n",
    "for key, val in outfits_dict.items():\n",
    "    if val.get(\"items\") is not None:\n",
    "        all_items.extend(val[\"items\"])\n",
    "    else: pass\n",
    "len(all_items), max_set_len"
   ]
  },
  {
   "cell_type": "code",
   "execution_count": 4,
   "id": "68b4cfdd-9178-4329-9c95-5a5d9b3b175a",
   "metadata": {},
   "outputs": [],
   "source": [
    "def get_outfit_score(outfit_items, model=model):\n",
    "    set_mask = torch.zeros(len(outfit_items)).to(device)\n",
    "    inp = torch.Tensor([elem[\"embdedding\"] for elem in outfit_items]).to(device)\n",
    "    return model(\"cp\", inp.unsqueeze(0), set_mask.unsqueeze(0).to(device)).item()\n",
    "\n",
    "\n",
    "def CosineSim(inps, target):\n",
    "    if len(inps.shape) < len(target.shape):\n",
    "        inps = inps.unsqueeze(0)\n",
    "    return torch.sum(inps * target, dim=-1) / (torch.norm(inps, dim=-1) + 1e-12) / (torch.norm(target, dim=-1) + 1e-12)\n",
    "    \n",
    "\n",
    "class Get_closest_item:\n",
    "    def __init__(self, all_items):\n",
    "        self.all_items_emb = torch.tensor([elem['embdedding'] for elem in all_items])\n",
    "        \n",
    "    def __call__(self, emb, all_items, similarity):\n",
    "        sims = similarity(emb, self.all_items_emb)\n",
    "        closest_item_ind = torch.argmax(sims)\n",
    "        return all_items[closest_item_ind]\n",
    "    \n",
    "get_closest_item = Get_closest_item(all_items)\n",
    "\n",
    "\n",
    "# class Mean_Lp_Error:\n",
    "#     def __init__(self, p):\n",
    "#         self.p = p\n",
    "#     def update(self, val, target):\n",
    "#         self.res = (torch.abs(val - target)**self.p).mean(dim=-1)\n",
    "#     def compute(self):\n",
    "#         return self.res\n",
    "#     def reset(self):\n",
    "#         self.res = None\n",
    "\n",
    "\n",
    "def aggregate_and_retrieve(items_to_complete, all_items, aggregation, similarity, k=2, **kwargs):\n",
    "    embeds_for_retrieval = aggregation.generate_embeddings(items_to_complete, k, **kwargs)\n",
    "    \n",
    "    best_items = [get_closest_item(emb, all_items, similarity) for emb in embeds_for_retrieval]\n",
    "\n",
    "    final_outfit = items_to_complete + best_items\n",
    "    final_score = get_outfit_score(final_outfit)\n",
    "    \n",
    "    return {f\"{aggregation.__name__}\": final_score,\n",
    "            f\"{aggregation.__name__}_complementary_items\": best_items}            "
   ]
  },
  {
   "cell_type": "code",
   "execution_count": null,
   "id": "ad6397fa-6c2a-49f9-9a76-62880d64fe92",
   "metadata": {},
   "outputs": [],
   "source": []
  },
  {
   "cell_type": "code",
   "execution_count": null,
   "id": "d59545ba-437a-40e4-806f-d229f627035c",
   "metadata": {},
   "outputs": [],
   "source": []
  },
  {
   "cell_type": "code",
   "execution_count": 5,
   "id": "294df361-1cbb-478a-9d96-6efcd492ad48",
   "metadata": {},
   "outputs": [],
   "source": [
    "with open(\"data/Re-PolyVore_greedy_results_min5_k2_subset1000.json\", \"r\", encoding=\"utf-8\") as f:\n",
    "    results_min5_k2_subset1000 = json.load(f)"
   ]
  },
  {
   "cell_type": "code",
   "execution_count": 6,
   "id": "b1967473-c42a-409d-9b0b-4e2beb355bdb",
   "metadata": {},
   "outputs": [],
   "source": [
    "# k = 2\n",
    "# loss = nn.MSELoss()\n",
    "# similarity = MeanSquaredError(multioutput=\"raw_values\")\n",
    "\n",
    "# class Mean_agg:\n",
    "#     def __init__(self):\n",
    "#         pass\n",
    "#     def generate_embeddings(items_to_complete, k):\n",
    "#         return [torch.tensor([item[\"embdedding\"] for item in items_to_complete]).mean(dim=0)] * k\n",
    "\n",
    "# aggregation = Mean_agg\n",
    "# aggregation.__name__ = \"mean_aggregation\"\n",
    "\n",
    "# for key, outfit in tqdm(list(outfits_at_least_5.items())[:1000]):\n",
    "\n",
    "#     if results_min5_k2_subset1000[key].get(f\"{aggregation.__name__}\") is None:\n",
    "\n",
    "#         items_to_complete_ind = results_min5_k2_subset1000[key]['items_to_complete_ind']\n",
    "#         items_to_complete = [outfit[\"items\"][ind] for ind in items_to_complete_ind]\n",
    "\n",
    "#         res_dict = aggregate_and_retrieve(items_to_complete, all_items, aggregation, similarity, k=k)\n",
    "#         results_min5_k2_subset1000[key].update({f\"{aggregation.__name__}\": res_dict[f\"{aggregation.__name__}\"]})"
   ]
  },
  {
   "cell_type": "code",
   "execution_count": 7,
   "id": "174db7ed-74b4-4056-9cf4-7f2a383783ca",
   "metadata": {},
   "outputs": [],
   "source": [
    "# with open(\"data/Re-PolyVore_greedy_results_min5_k2_subset1000.json\", \"w\", encoding=\"utf-8\") as f:\n",
    "#     json.dump(results_min5_k2_subset1000, f, indent=4)"
   ]
  },
  {
   "cell_type": "code",
   "execution_count": 8,
   "id": "0d6b3ac3-ca96-408c-be4f-af79ea304910",
   "metadata": {},
   "outputs": [],
   "source": [
    "class GraphDateset(Dataset):\n",
    "    def __init__(self, outfits_to_complete, previous_results):\n",
    "        \n",
    "        self.items_to_complete = []\n",
    "        self.greedy_items = []\n",
    "        self.outfits_idx = list(outfits_to_complete.keys())\n",
    "        \n",
    "        for key in outfits_to_complete.keys():\n",
    "            self.greedy_items.append(previous_results[key]['greedy_multistep_complementary_items'])\n",
    "            idx = previous_results[key]['items_to_complete_ind']\n",
    "            self.items_to_complete.append([outfits_to_complete[key][\"items\"][ind] for ind in idx])\n",
    "            \n",
    "        \n",
    "    def __len__(self):\n",
    "        return len(self.items_to_complete)\n",
    "        \n",
    "    def __getitem__(self, ind):\n",
    "        outfit_ind = self.outfits_idx[ind]\n",
    "        outfit_items = [item for item in self.items_to_complete[ind]]\n",
    "        ground_truth_items = [item for item in self.greedy_items[ind]]\n",
    "\n",
    "        negative_items = [random.choice(items) for items in random.sample(self.greedy_items, k=len(ground_truth_items))]       \n",
    "        \n",
    "        combs = itertools.combinations(range(len(outfit_items) + len(ground_truth_items)), 2)\n",
    "        edge_index = [(el[0], el[1]) for el in combs] + [(el[1], el[0]) for el in combs]\n",
    "        \n",
    "        return outfit_ind, outfit_items, ground_truth_items, negative_items, edge_index"
   ]
  },
  {
   "cell_type": "code",
   "execution_count": 9,
   "id": "d70c4440-a5f8-4d6a-b74f-0fe16bab6582",
   "metadata": {},
   "outputs": [],
   "source": [
    "from torch_geometric.nn import MessagePassing\n",
    "\n",
    "class MessagePassingMeanAggr(MessagePassing):\n",
    "    def __init__(self, in_channels, out_channels):\n",
    "        super().__init__(aggr='mean')  \n",
    "        self.lin_l = nn.Linear(in_channels, out_channels)\n",
    "        self.lin_r = nn.Linear(in_channels, out_channels)\n",
    "        \n",
    "        self.reset_parameters()\n",
    "\n",
    "    def reset_parameters(self):\n",
    "        self.lin_l.reset_parameters()\n",
    "        self.lin_r.reset_parameters()\n",
    "\n",
    "    def forward(self, x, edge_index):        \n",
    "        prop = self.propagate(edge_index, x=(x,x))\n",
    "        out = self.lin_l(x) + self.lin_r(prop)\n",
    "\n",
    "        return out\n",
    "\n",
    "    def message(self, x_j):\n",
    "        out = x_j\n",
    "        return out\n",
    "\n",
    "\n",
    "class GNN_model(nn.Module):\n",
    "    def __init__(self, input_dim, hidden_dim, n_layers=2):\n",
    "        super().__init__()\n",
    "        self.n_layers = n_layers\n",
    "        \n",
    "        self.mps = nn.ModuleList()\n",
    "        if n_layers > 1:\n",
    "            self.mps.append(MessagePassingMeanAggr(input_dim, hidden_dim))\n",
    "        else:\n",
    "            self.mps.append(MessagePassingMeanAggr(input_dim, input_dim))\n",
    "        for i in range(n_layers-1):\n",
    "            self.mps.append(MessagePassingMeanAggr(hidden_dim, hidden_dim))\n",
    "\n",
    "        self.out = nn.Linear(hidden_dim, input_dim)        \n",
    "\n",
    "    def forward(self, x, edge_index):\n",
    "\n",
    "        for i in range(self.n_layers):\n",
    "            x = self.mps[i](x, edge_index)\n",
    "            x = F.relu(x)\n",
    "\n",
    "        return self.out(x)\n",
    "\n",
    "    def generate_embeddings(self, items_to_complete_with_k_random_emb, edge_index, k=2):\n",
    "        with torch.no_grad():\n",
    "            all_embs = self.forward(items_to_complete_with_k_random_emb, edge_index)\n",
    "            return all_embs[-k:]"
   ]
  },
  {
   "cell_type": "code",
   "execution_count": 10,
   "id": "59932094-539c-4ce3-94c3-067c95da7c2e",
   "metadata": {},
   "outputs": [],
   "source": [
    "outfits_at_least_5_subset1000 = {key: value for key, value in list(outfits_at_least_5.items())[:1000]}\n",
    "dataset = GraphDateset(outfits_at_least_5_subset1000, results_min5_k2_subset1000)\n",
    "input_dim = len(dataset[0][1][0][\"embdedding\"])"
   ]
  },
  {
   "cell_type": "code",
   "execution_count": 11,
   "id": "79afcda3-4492-4914-8ee1-caf4293031d5",
   "metadata": {},
   "outputs": [
    {
     "data": {
      "image/png": "[encoded data removed]",
      "text/plain": [
       "<Figure size 640x480 with 1 Axes>"
      ]
     },
     "metadata": {},
     "output_type": "display_data"
    }
   ],
   "source": [
    "loss_function = lambda x, y: 1 - CosineSim(x, y)\n",
    "opt_kwargs = {\"lr\": 1e-3, \"weight_decay\": 1e-6, \"betas\": (0.9, 0.95)}\n",
    "\n",
    "\n",
    "gnn_model = GNN_model(input_dim=input_dim, hidden_dim=input_dim, n_layers=4)\n",
    "optimizer = torch.optim.Adam(gnn_model.parameters(), **opt_kwargs)\n",
    "\n",
    "\n",
    "grad_step = 100\n",
    "n_epochs = 50\n",
    "\n",
    "n_step = 0\n",
    "\n",
    "loss_history = []\n",
    "\n",
    "indices = list(range(len(dataset)))\n",
    "\n",
    "\n",
    "for n_epoch in tqdm(range(n_epochs), colour=\"#333388\"):\n",
    "    random.shuffle(indices)\n",
    "    optimizer.zero_grad()\n",
    "    \n",
    "    for i in tqdm(indices, leave=False):\n",
    "        _, outfit_items, ground_truth_items, negative_items, edge_index = dataset[i]\n",
    "        n_step += 1\n",
    "        loss_accum = []\n",
    "        outfit_items_emb = torch.tensor([elem['embdedding'] for elem in outfit_items] + np.random.randn(len(ground_truth_items), input_dim).tolist())\n",
    "\n",
    "        embeds_pred = gnn_model(outfit_items_emb, torch.tensor(edge_index).type(torch.long).t())[-len(ground_truth_items):]\n",
    "        \n",
    "        negative_embeds = torch.tensor([elem['embdedding'] for elem in negative_items])\n",
    "        \n",
    "        ground_truth_items_emb = torch.tensor([elem[\"embdedding\"] for elem in ground_truth_items])\n",
    "        loss = (loss_function(embeds_pred, ground_truth_items_emb) - \\\n",
    "                loss_function(embeds_pred, negative_embeds)).mean()\n",
    "        loss.backward()\n",
    "\n",
    "        loss_accum.append(loss.detach().item())\n",
    "        \n",
    "        if n_step % grad_step == 0:\n",
    "            optimizer.step()\n",
    "            optimizer.zero_grad()\n",
    "            \n",
    "            loss_history.append(np.mean(loss_accum))\n",
    "            loss_accum = []\n",
    "            clear_output(wait=True)\n",
    "            \n",
    "            plt.plot(loss_history)\n",
    "            plt.show()"
   ]
  },
  {
   "cell_type": "code",
   "execution_count": 12,
   "id": "891440ac-996f-4558-96bd-58da99832011",
   "metadata": {},
   "outputs": [
    {
     "data": {
      "application/vnd.jupyter.widget-view+json": {
       "model_id": "9df30776cb4842b39654e3dbcf2bc964",
       "version_major": 2,
       "version_minor": 0
      },
      "text/plain": [
       "  0%|          | 0/1000 [00:00<?, ?it/s]"
      ]
     },
     "metadata": {},
     "output_type": "display_data"
    }
   ],
   "source": [
    "similarity = CosineSim\n",
    "\n",
    "\n",
    "for outfit_key, outfit_items, ground_truth_items, negative_items, edge_index in tqdm(dataset):\n",
    "\n",
    "    if results_min5_k2_subset1000[outfit_key].get(\"GNN\") is None:\n",
    "        \n",
    "        outfit_items_emb = torch.tensor([elem['embdedding'] for elem in outfit_items] + np.random.randn(len(ground_truth_items), input_dim).tolist())\n",
    "    \n",
    "        embeds_pred = gnn_model(outfit_items_emb, torch.tensor(edge_index).type(torch.long).t())[-len(ground_truth_items):]\n",
    "        \n",
    "        negative_embeds = torch.tensor([elem['embdedding'] for elem in negative_items])\n",
    "        \n",
    "        ground_truth_items_emb = torch.tensor([elem[\"embdedding\"] for elem in ground_truth_items])\n",
    "        \n",
    "        complementary_items = []\n",
    "        for emb in embeds_pred:\n",
    "            complementary_items.append(get_closest_item(emb, all_items, similarity))\n",
    "        \n",
    "    \n",
    "        final_outfit_emb = torch.tensor([elem[\"embdedding\"] for elem in outfit_items] + \\\n",
    "                                        [elem[\"embdedding\"] for elem in complementary_items]).to(\"cuda\")\n",
    "    \n",
    "        set_mask = torch.zeros(len(final_outfit_emb)).to(\"cuda\")\n",
    "        \n",
    "        final_score = model(\"cp\", final_outfit_emb.unsqueeze(0), \n",
    "                            set_mask.unsqueeze(0).to(\"cuda\")).item()\n",
    "        \n",
    "        results_min5_k2_subset1000[outfit_key].update({\"GNN\": final_score,\n",
    "                                                       \"GNN_complementary_items\": complementary_items})"
   ]
  },
  {
   "cell_type": "code",
   "execution_count": 21,
   "id": "1c4ad6aa-e8d6-4295-83f4-929acb777d2f",
   "metadata": {},
   "outputs": [],
   "source": [
    "with open(\"data/Re-PolyVore_greedy_results_min5_k2_test_set_1000.json\", \"r\", encoding=\"utf-8\") as f:\n",
    "    results_min5_k2_test_set_1000 = json.load(f)"
   ]
  },
  {
   "cell_type": "code",
   "execution_count": 22,
   "id": "29a537de-21ed-482f-873e-7e09f31247c4",
   "metadata": {},
   "outputs": [],
   "source": [
    "outfits_at_least_5_test_set_1000 = {key: value for key, value in list(outfits_at_least_5.items())[1000:2000]}\n",
    "test_dataset = GraphDateset(outfits_at_least_5_test_set_1000, results_min5_k2_test_set_1000)\n",
    "input_dim = len(test_dataset[0][1][0][\"embdedding\"])"
   ]
  },
  {
   "cell_type": "code",
   "execution_count": 19,
   "id": "1d09380e-dca4-4dd1-9342-328579658c17",
   "metadata": {},
   "outputs": [
    {
     "data": {
      "image/png": "[encoded data removed]",
      "text/plain": [
       "<Figure size 1000x700 with 1 Axes>"
      ]
     },
     "metadata": {},
     "output_type": "display_data"
    }
   ],
   "source": [
    "original_scores = []\n",
    "greedy_singlestep_scores = []\n",
    "greedy_multistep_scores = []\n",
    "backprop_scores = []\n",
    "backprop_scores_L1 = []\n",
    "backprop_scores_L10 = []\n",
    "backprop_scores_cos = []\n",
    "GNN_scores = []\n",
    "\n",
    "for key, res_dict in results_min5_k2_subset1000.items():\n",
    "    original_scores.append(res_dict[\"original\"])\n",
    "    greedy_singlestep_scores.append(res_dict[\"greedy_singlestep\"])\n",
    "    greedy_multistep_scores.append(res_dict[\"greedy_multistep\"])\n",
    "    backprop_scores.append(res_dict[\"backprop\"])\n",
    "    backprop_scores_L1.append(res_dict[\"backprop_L1\"])\n",
    "    backprop_scores_L10.append(res_dict[\"backprop_L10\"])\n",
    "    backprop_scores_cos.append(res_dict[\"backprop_cos\"])\n",
    "\n",
    "    GNN_scores.append(res_dict[\"GNN\"])\n",
    "\n",
    "original_scores, greedy_singlestep_scores, greedy_multistep_scores, backprop_scores, backprop_scores_L1, backprop_scores_L10, backprop_scores_cos = \\\n",
    "    np.array(original_scores), np.array(greedy_singlestep_scores), \\\n",
    "    np.array(greedy_multistep_scores), np.array(backprop_scores), \\\n",
    "    np.array(backprop_scores_L1), np.array(backprop_scores_L10), np.array(backprop_scores_cos)\n",
    "\n",
    "\n",
    "plt.figure(figsize=(10, 7))\n",
    "\n",
    "\n",
    "plt.hist(GNN_scores, bins=15, alpha=0.5, label=\"GNN\")\n",
    "# plt.hist(original_scores, bins=15, alpha=0.5, label=\"original\")\n",
    "# plt.hist(backprop_scores_L1, bins=15, alpha=0.5, label=\"backprop_scores_L1\")\n",
    "# plt.hist(backprop_scores, bins=15, alpha=0.5, label=\"backprop_scores_L2\")\n",
    "# plt.hist(backprop_scores_L10, bins=15, alpha=0.5, label=\"backprop_scores_L10\")\n",
    "plt.hist(backprop_scores_cos, bins=15, alpha=0.5, label=\"backprop_scores_cos\")\n",
    "plt.hist(greedy_singlestep_scores, bins=15, alpha=0.5, label=\"greedy_singlestep_scores\")\n",
    "plt.hist(greedy_multistep_scores, bins=15, alpha=0.5, label=\"greedy_multistep_scores\")\n",
    "\n",
    "plt.title(\"1000 outfits subset of 5+ elements each\", fontsize=18)\n",
    "plt.xlabel(\"score\", fontsize=18)\n",
    "plt.ylabel(\"n_outfits\", fontsize=18)\n",
    "plt.xticks(fontsize=16)\n",
    "plt.yticks(fontsize=16)\n",
    "\n",
    "plt.legend(fontsize=16, shadow=True,loc=\"upper left\")\n",
    "\n",
    "plt.show()"
   ]
  },
  {
   "cell_type": "code",
   "execution_count": 23,
   "id": "baa1c3d6-d2c1-43c4-a6df-ca1a6d4664ba",
   "metadata": {},
   "outputs": [
    {
     "data": {
      "application/vnd.jupyter.widget-view+json": {
       "model_id": "451abd17a2864942bf747a529b6d8f6a",
       "version_major": 2,
       "version_minor": 0
      },
      "text/plain": [
       "  0%|          | 0/1000 [00:00<?, ?it/s]"
      ]
     },
     "metadata": {},
     "output_type": "display_data"
    }
   ],
   "source": [
    "similarity = CosineSim\n",
    "\n",
    "\n",
    "for outfit_key, outfit_items, ground_truth_items, negative_items, edge_index in tqdm(test_dataset):\n",
    "\n",
    "    if results_min5_k2_test_set_1000[outfit_key].get(\"GNN\") is None:\n",
    "        \n",
    "        outfit_items_emb = torch.tensor([elem['embdedding'] for elem in outfit_items] + np.random.randn(len(ground_truth_items), input_dim).tolist())\n",
    "    \n",
    "        embeds_pred = gnn_model(outfit_items_emb, torch.tensor(edge_index).type(torch.long).t())[-len(ground_truth_items):]\n",
    "        \n",
    "        negative_embeds = torch.tensor([elem['embdedding'] for elem in negative_items])\n",
    "        \n",
    "        ground_truth_items_emb = torch.tensor([elem[\"embdedding\"] for elem in ground_truth_items])\n",
    "        \n",
    "        complementary_items = []\n",
    "        for emb in embeds_pred:\n",
    "            complementary_items.append(get_closest_item(emb, all_items, similarity))\n",
    "        \n",
    "    \n",
    "        final_outfit_emb = torch.tensor([elem[\"embdedding\"] for elem in outfit_items] + \\\n",
    "                                        [elem[\"embdedding\"] for elem in complementary_items]).to(\"cuda\")\n",
    "    \n",
    "        set_mask = torch.zeros(len(final_outfit_emb)).to(\"cuda\")\n",
    "        \n",
    "        final_score = model(\"cp\", final_outfit_emb.unsqueeze(0), \n",
    "                            set_mask.unsqueeze(0).to(\"cuda\")).item()\n",
    "        \n",
    "        results_min5_k2_test_set_1000[outfit_key].update({\"GNN\": final_score,\n",
    "                                                       \"GNN_complementary_items\": complementary_items})"
   ]
  },
  {
   "cell_type": "code",
   "execution_count": 24,
   "id": "a575233c-664c-4aee-98a2-fa6aae74b3b9",
   "metadata": {},
   "outputs": [
    {
     "data": {
      "image/png": "[encoded data removed]",
      "text/plain": [
       "<Figure size 1000x700 with 1 Axes>"
      ]
     },
     "metadata": {},
     "output_type": "display_data"
    }
   ],
   "source": [
    "original_scores = []\n",
    "greedy_singlestep_scores = []\n",
    "greedy_multistep_scores = []\n",
    "backprop_scores = []\n",
    "backprop_scores_L1 = []\n",
    "backprop_scores_L10 = []\n",
    "backprop_scores_cos = []\n",
    "GNN_scores = []\n",
    "\n",
    "for key, res_dict in results_min5_k2_test_set_1000.items():\n",
    "    original_scores.append(res_dict[\"original\"])\n",
    "    greedy_singlestep_scores.append(res_dict[\"greedy_singlestep\"])\n",
    "    greedy_multistep_scores.append(res_dict[\"greedy_multistep\"])\n",
    "    GNN_scores.append(res_dict[\"GNN\"])\n",
    "\n",
    "original_scores, greedy_singlestep_scores, greedy_multistep_scores = \\\n",
    "    np.array(original_scores), np.array(greedy_singlestep_scores), np.array(greedy_multistep_scores)\n",
    "\n",
    "\n",
    "plt.figure(figsize=(10, 7))\n",
    "\n",
    "\n",
    "plt.hist(GNN_scores, bins=15, alpha=0.5, label=\"GNN\")\n",
    "# plt.hist(original_scores, bins=15, alpha=0.5, label=\"original\")\n",
    "plt.hist(greedy_singlestep_scores, bins=15, alpha=0.5, label=\"greedy_singlestep_scores\")\n",
    "plt.hist(greedy_multistep_scores, bins=15, alpha=0.5, label=\"greedy_multistep_scores\")\n",
    "\n",
    "plt.title(\"1000 outfits subset of 5+ elements each\", fontsize=18)\n",
    "plt.xlabel(\"score\", fontsize=18)\n",
    "plt.ylabel(\"n_outfits\", fontsize=18)\n",
    "plt.xticks(fontsize=16)\n",
    "plt.yticks(fontsize=16)\n",
    "\n",
    "plt.legend(fontsize=16, shadow=True,loc=\"upper left\")\n",
    "\n",
    "plt.show()"
   ]
  }
 ],
 "metadata": {
  "kernelspec": {
   "display_name": "Python 3 (ipykernel)",
   "language": "python",
   "name": "python3"
  },
  "language_info": {
   "codemirror_mode": {
    "name": "ipython",
    "version": 3
   },
   "file_extension": ".py",
   "mimetype": "text/x-python",
   "name": "python",
   "nbconvert_exporter": "python",
   "pygments_lexer": "ipython3",
   "version": "3.10.13"
  },
  "widgets": {
   "application/vnd.jupyter.widget-state+json": {
    "state": {
     "0017f1267925436c89385b9f45d14356": {
      "model_module": "@jupyter-widgets/controls",
      "model_module_version": "2.0.0",
      "model_name": "HTMLModel",
      "state": {
       "layout": "IPY_MODEL_190635fea41c411badb26bc05e5d3275",
       "style": "IPY_MODEL_50f02cb8b8314bbc85686e866e67f9b6",
       "value": " 1000/1000 [00:04&lt;00:00, 172.18it/s]"
      }
     },
     "00812139bd9e45a7bdad2ef471916041": {
      "model_module": "@jupyter-widgets/base",
      "model_module_version": "2.0.0",
      "model_name": "LayoutModel",
      "state": {
       "visibility": "hidden"
      }
     },
     "00a357d60c4f4121b5bb2557c9543715": {
      "model_module": "@jupyter-widgets/controls",
      "model_module_version": "2.0.0",
      "model_name": "ProgressStyleModel",
      "state": {
       "description_width": ""
      }
     },
     "00a96a76203c423aa446cd60162d3865": {
      "model_module": "@jupyter-widgets/controls",
      "model_module_version": "2.0.0",
      "model_name": "HTMLStyleModel",
      "state": {
       "description_width": "",
       "font_size": null,
       "text_color": null
      }
     },
     "00b039f4a20349f3aa578203f2657413": {
      "model_module": "@jupyter-widgets/controls",
      "model_module_version": "2.0.0",
      "model_name": "FloatProgressModel",
      "state": {
       "layout": "IPY_MODEL_9097ce78e75b4f3ba44dc760868b01be",
       "max": 1000,
       "style": "IPY_MODEL_5a2abe03eef64c79a0059649a43a863c",
       "value": 1000
      }
     },
     "012d3c4359de4641b9933a7d3694bc3c": {
      "model_module": "@jupyter-widgets/controls",
      "model_module_version": "2.0.0",
      "model_name": "HTMLStyleModel",
      "state": {
       "description_width": "",
       "font_size": null,
       "text_color": null
      }
     },
     "01ba89df11a345c6a1a3afdffc98d739": {
      "model_module": "@jupyter-widgets/controls",
      "model_module_version": "2.0.0",
      "model_name": "HTMLStyleModel",
      "state": {
       "description_width": "",
       "font_size": null,
       "text_color": null
      }
     },
     "0209f3248c2d4798a616c827324e9f99": {
      "model_module": "@jupyter-widgets/base",
      "model_module_version": "2.0.0",
      "model_name": "LayoutModel",
      "state": {
       "visibility": "hidden"
      }
     },
     "021ce22c2d174cf594d31e96272a39dd": {
      "model_module": "@jupyter-widgets/controls",
      "model_module_version": "2.0.0",
      "model_name": "ProgressStyleModel",
      "state": {
       "description_width": ""
      }
     },
     "028bf12fbd694bfda219383b49554b2e": {
      "model_module": "@jupyter-widgets/controls",
      "model_module_version": "2.0.0",
      "model_name": "HTMLModel",
      "state": {
       "layout": "IPY_MODEL_d6c628dae54641e48d0ec66f00fc24fe",
       "style": "IPY_MODEL_8e5ca0955dae4e9ca9e4ea821757ffd2",
       "value": " 988/1000 [00:04&lt;00:00, 229.84it/s]"
      }
     },
     "03196a1ae2e1445bbe95ee311f28ae2e": {
      "model_module": "@jupyter-widgets/controls",
      "model_module_version": "2.0.0",
      "model_name": "HTMLModel",
      "state": {
       "layout": "IPY_MODEL_3b88572bee924548b89f31ea560baed8",
       "style": "IPY_MODEL_c1ead9d6d4b54144be1d441576ba2273",
       "value": "100%"
      }
     },
     "037d8f394836419197180d3d31dcfa91": {
      "model_module": "@jupyter-widgets/controls",
      "model_module_version": "2.0.0",
      "model_name": "HTMLModel",
      "state": {
       "layout": "IPY_MODEL_28cda3abb0ad459a92a91ad1b387e83a",
       "style": "IPY_MODEL_c91c563217aa479d85a0cc2c079b4c9d",
       "value": " 985/1000 [00:04&lt;00:00, 252.06it/s]"
      }
     },
     "03a47407574642d5a9c6ee9838058c24": {
      "model_module": "@jupyter-widgets/base",
      "model_module_version": "2.0.0",
      "model_name": "LayoutModel",
      "state": {}
     },
     "03b38c1bce1640afaea6b28d4c883e7d": {
      "model_module": "@jupyter-widgets/controls",
      "model_module_version": "2.0.0",
      "model_name": "HTMLStyleModel",
      "state": {
       "description_width": "",
       "font_size": null,
       "text_color": null
      }
     },
     "04080644e3c248529319d3db9255bce5": {
      "model_module": "@jupyter-widgets/controls",
      "model_module_version": "2.0.0",
      "model_name": "HTMLModel",
      "state": {
       "layout": "IPY_MODEL_243e31f3aa9842fe82be37e1db4c295f",
       "style": "IPY_MODEL_05c581f1fae84c63afb9ad6a278bd262",
       "value": " 985/1000 [00:04&lt;00:00, 258.66it/s]"
      }
     },
     "041425c7df6c4d6ca410fa5917d3585b": {
      "model_module": "@jupyter-widgets/controls",
      "model_module_version": "2.0.0",
      "model_name": "HTMLModel",
      "state": {
       "layout": "IPY_MODEL_24a310358cae476880ba9da7e9b4c166",
       "style": "IPY_MODEL_fea3a774877444719f52370df64d0d2e",
       "value": " 99%"
      }
     },
     "04d81f9a58c6441184dab6e3a604a9a5": {
      "model_module": "@jupyter-widgets/base",
      "model_module_version": "2.0.0",
      "model_name": "LayoutModel",
      "state": {}
     },
     "04fe90c785a1457fb89050534dd94aed": {
      "model_module": "@jupyter-widgets/controls",
      "model_module_version": "2.0.0",
      "model_name": "ProgressStyleModel",
      "state": {
       "description_width": ""
      }
     },
     "050d6d622ce946659f3a0f2b1393339c": {
      "model_module": "@jupyter-widgets/base",
      "model_module_version": "2.0.0",
      "model_name": "LayoutModel",
      "state": {}
     },
     "05213d7501264a7f841eef054fd7e1d3": {
      "model_module": "@jupyter-widgets/controls",
      "model_module_version": "2.0.0",
      "model_name": "ProgressStyleModel",
      "state": {
       "description_width": ""
      }
     },
     "0542a3bbffac43ba84da65eabecd4bce": {
      "model_module": "@jupyter-widgets/base",
      "model_module_version": "2.0.0",
      "model_name": "LayoutModel",
      "state": {}
     },
     "05c581f1fae84c63afb9ad6a278bd262": {
      "model_module": "@jupyter-widgets/controls",
      "model_module_version": "2.0.0",
      "model_name": "HTMLStyleModel",
      "state": {
       "description_width": "",
       "font_size": null,
       "text_color": null
      }
     },
     "060acff9e6e041038ccb15941c683ff5": {
      "model_module": "@jupyter-widgets/base",
      "model_module_version": "2.0.0",
      "model_name": "LayoutModel",
      "state": {}
     },
     "06a3023a4f8f4d4b9832cc43a96f9be5": {
      "model_module": "@jupyter-widgets/controls",
      "model_module_version": "2.0.0",
      "model_name": "HTMLModel",
      "state": {
       "layout": "IPY_MODEL_28294c208bed40c2b4ede0b062603e9a",
       "style": "IPY_MODEL_cb827dc0c6204a6b8fe3e9b34525749f",
       "value": "100%"
      }
     },
     "06e3bc473cd54eb889429cbb4b3a6334": {
      "model_module": "@jupyter-widgets/base",
      "model_module_version": "2.0.0",
      "model_name": "LayoutModel",
      "state": {
       "visibility": "hidden"
      }
     },
     "06f0f0991d2e4925ace0cc78e36d33a1": {
      "model_module": "@jupyter-widgets/controls",
      "model_module_version": "2.0.0",
      "model_name": "HTMLStyleModel",
      "state": {
       "description_width": "",
       "font_size": null,
       "text_color": null
      }
     },
     "06f31e5f33104ef7bc9a79856ce3a792": {
      "model_module": "@jupyter-widgets/base",
      "model_module_version": "2.0.0",
      "model_name": "LayoutModel",
      "state": {
       "visibility": "hidden"
      }
     },
     "077bec00b71a4dd3892b4359202ff92a": {
      "model_module": "@jupyter-widgets/base",
      "model_module_version": "2.0.0",
      "model_name": "LayoutModel",
      "state": {}
     },
     "07e6efc1c22441ababf53f362a526ebf": {
      "model_module": "@jupyter-widgets/base",
      "model_module_version": "2.0.0",
      "model_name": "LayoutModel",
      "state": {}
     },
     "0801d225421244b68ae42f9be4705cfe": {
      "model_module": "@jupyter-widgets/controls",
      "model_module_version": "2.0.0",
      "model_name": "HTMLStyleModel",
      "state": {
       "description_width": "",
       "font_size": null,
       "text_color": null
      }
     },
     "085825da0c7a44768ad84c98e158cb26": {
      "model_module": "@jupyter-widgets/base",
      "model_module_version": "2.0.0",
      "model_name": "LayoutModel",
      "state": {
       "visibility": "hidden"
      }
     },
     "09fa169bcfd14724b987bcc118a7a2bb": {
      "model_module": "@jupyter-widgets/base",
      "model_module_version": "2.0.0",
      "model_name": "LayoutModel",
      "state": {
       "visibility": "hidden"
      }
     },
     "0a18a960352540799b7e2f1166d2641d": {
      "model_module": "@jupyter-widgets/base",
      "model_module_version": "2.0.0",
      "model_name": "LayoutModel",
      "state": {}
     },
     "0abe56a5d41742e39e76d667e00d8304": {
      "model_module": "@jupyter-widgets/controls",
      "model_module_version": "2.0.0",
      "model_name": "HTMLStyleModel",
      "state": {
       "description_width": "",
       "font_size": null,
       "text_color": null
      }
     },
     "0af30a0dbd684d7dbe97726f300b49ee": {
      "model_module": "@jupyter-widgets/base",
      "model_module_version": "2.0.0",
      "model_name": "LayoutModel",
      "state": {}
     },
     "0b702f678eca46e6b5ccde86693ac541": {
      "model_module": "@jupyter-widgets/controls",
      "model_module_version": "2.0.0",
      "model_name": "HTMLStyleModel",
      "state": {
       "description_width": "",
       "font_size": null,
       "text_color": null
      }
     },
     "0b9ff1a1b49842769afde1b8f108571a": {
      "model_module": "@jupyter-widgets/base",
      "model_module_version": "2.0.0",
      "model_name": "LayoutModel",
      "state": {}
     },
     "0be5a0e16dcb4d3fb9d86cfbbe8d6ad3": {
      "model_module": "@jupyter-widgets/controls",
      "model_module_version": "2.0.0",
      "model_name": "HTMLStyleModel",
      "state": {
       "description_width": "",
       "font_size": null,
       "text_color": null
      }
     },
     "0c50c1e4320b4df889255a23014b5fa4": {
      "model_module": "@jupyter-widgets/controls",
      "model_module_version": "2.0.0",
      "model_name": "HTMLStyleModel",
      "state": {
       "description_width": "",
       "font_size": null,
       "text_color": null
      }
     },
     "0c69a87936d248b6a90082fb32b52ed9": {
      "model_module": "@jupyter-widgets/controls",
      "model_module_version": "2.0.0",
      "model_name": "HTMLStyleModel",
      "state": {
       "description_width": "",
       "font_size": null,
       "text_color": null
      }
     },
     "0d218e1ed6144c3e9ea8c748f03a9a7a": {
      "model_module": "@jupyter-widgets/controls",
      "model_module_version": "2.0.0",
      "model_name": "HTMLStyleModel",
      "state": {
       "description_width": "",
       "font_size": null,
       "text_color": null
      }
     },
     "0ddadf121c394f43a9b048ecd2aac2a1": {
      "model_module": "@jupyter-widgets/controls",
      "model_module_version": "2.0.0",
      "model_name": "ProgressStyleModel",
      "state": {
       "description_width": ""
      }
     },
     "0e2589b0b3cd4a48b87f3623abed0622": {
      "model_module": "@jupyter-widgets/controls",
      "model_module_version": "2.0.0",
      "model_name": "HTMLModel",
      "state": {
       "layout": "IPY_MODEL_6faf1668ff3548b48803fde3761ea939",
       "style": "IPY_MODEL_b27e9acd84b04a09a083ac26c1e2cfeb",
       "value": " 1000/1000 [00:27&lt;00:00, 41.73it/s]"
      }
     },
     "0e2905415a824eb2a10607de21302d2a": {
      "model_module": "@jupyter-widgets/controls",
      "model_module_version": "2.0.0",
      "model_name": "HTMLModel",
      "state": {
       "layout": "IPY_MODEL_96b2fa95acf749f788089bc664dc2da2",
       "style": "IPY_MODEL_bb1645f6ae2c42a8816a92a7c5471923",
       "value": "100%"
      }
     },
     "109d6a3eabb74fc492c9b3c17651349f": {
      "model_module": "@jupyter-widgets/controls",
      "model_module_version": "2.0.0",
      "model_name": "FloatProgressModel",
      "state": {
       "layout": "IPY_MODEL_6baa95752b4a40d59ee8df03e16b4b7b",
       "max": 1000,
       "style": "IPY_MODEL_021ce22c2d174cf594d31e96272a39dd",
       "value": 1000
      }
     },
     "10c18abbc66341ae956632467390b506": {
      "model_module": "@jupyter-widgets/base",
      "model_module_version": "2.0.0",
      "model_name": "LayoutModel",
      "state": {
       "visibility": "hidden"
      }
     },
     "110c546699f44b37b60480d8ac038a9e": {
      "model_module": "@jupyter-widgets/controls",
      "model_module_version": "2.0.0",
      "model_name": "HTMLStyleModel",
      "state": {
       "description_width": "",
       "font_size": null,
       "text_color": null
      }
     },
     "1178a6c3df6e421492609e631480e014": {
      "model_module": "@jupyter-widgets/controls",
      "model_module_version": "2.0.0",
      "model_name": "HTMLModel",
      "state": {
       "layout": "IPY_MODEL_2bc67647b692493ba0a3259cd203ed7c",
       "style": "IPY_MODEL_68ca907d56f74f47b5bc4bab2cc602fb",
       "value": "100%"
      }
     },
     "119865f0752d4e5ebddea61e9b873c11": {
      "model_module": "@jupyter-widgets/base",
      "model_module_version": "2.0.0",
      "model_name": "LayoutModel",
      "state": {
       "visibility": "hidden"
      }
     },
     "11c6a00a1be240849345d30b590dbdea": {
      "model_module": "@jupyter-widgets/controls",
      "model_module_version": "2.0.0",
      "model_name": "ProgressStyleModel",
      "state": {
       "description_width": ""
      }
     },
     "134d8263021040ba9e3c67c4aaec8357": {
      "model_module": "@jupyter-widgets/controls",
      "model_module_version": "2.0.0",
      "model_name": "HTMLModel",
      "state": {
       "layout": "IPY_MODEL_5f00eac20a874485bffbfb7cc2ec14f5",
       "style": "IPY_MODEL_5818b6d97a3548f596e490159ddc8af7",
       "value": " 988/1000 [00:04&lt;00:00, 253.95it/s]"
      }
     },
     "13b15c0eec3845bfa8cd16ef49b4055b": {
      "model_module": "@jupyter-widgets/controls",
      "model_module_version": "2.0.0",
      "model_name": "HTMLStyleModel",
      "state": {
       "description_width": "",
       "font_size": null,
       "text_color": null
      }
     },
     "13d4fdef59fa4d3d958ebb98bfde2d44": {
      "model_module": "@jupyter-widgets/controls",
      "model_module_version": "2.0.0",
      "model_name": "ProgressStyleModel",
      "state": {
       "bar_color": "#333388",
       "description_width": ""
      }
     },
     "1506aa052c234bc49789f86785408bbb": {
      "model_module": "@jupyter-widgets/controls",
      "model_module_version": "2.0.0",
      "model_name": "HTMLModel",
      "state": {
       "layout": "IPY_MODEL_704727fc29284936ab73bf29bec8b23c",
       "style": "IPY_MODEL_f326aebf44c949c4aeccfec832a314b6",
       "value": " 1000/1000 [00:04&lt;00:00, 190.69it/s]"
      }
     },
     "1518c47bd63f4a578acd355c90ecc9ae": {
      "model_module": "@jupyter-widgets/controls",
      "model_module_version": "2.0.0",
      "model_name": "HTMLModel",
      "state": {
       "layout": "IPY_MODEL_b030676052ff435a8d07acbbd85ffd3d",
       "style": "IPY_MODEL_ecbaae409d934904935ab6f334e1a825",
       "value": " 989/1000 [00:04&lt;00:00, 253.79it/s]"
      }
     },
     "155316a69c4542daab34b7dc9461b341": {
      "model_module": "@jupyter-widgets/controls",
      "model_module_version": "2.0.0",
      "model_name": "HTMLStyleModel",
      "state": {
       "description_width": "",
       "font_size": null,
       "text_color": null
      }
     },
     "1685ef13477f404f87477153c5ef1352": {
      "model_module": "@jupyter-widgets/controls",
      "model_module_version": "2.0.0",
      "model_name": "FloatProgressModel",
      "state": {
       "layout": "IPY_MODEL_a738fb74d4d44e47b3a4ab3e8eaf5cca",
       "max": 1000,
       "style": "IPY_MODEL_b586f24e7ed8430691b4edd643072754",
       "value": 1000
      }
     },
     "181544679f4d42408490601c20827b5d": {
      "model_module": "@jupyter-widgets/base",
      "model_module_version": "2.0.0",
      "model_name": "LayoutModel",
      "state": {}
     },
     "184ecfa8084f475ba3bd01321dca95be": {
      "model_module": "@jupyter-widgets/controls",
      "model_module_version": "2.0.0",
      "model_name": "FloatProgressModel",
      "state": {
       "layout": "IPY_MODEL_ec397aa5a9c648df96442affe0a373a8",
       "max": 1000,
       "style": "IPY_MODEL_a5a6c6c65a0949228ef18d46209996de",
       "value": 1000
      }
     },
     "189ef51cc1f24545ae842491a811dd45": {
      "model_module": "@jupyter-widgets/base",
      "model_module_version": "2.0.0",
      "model_name": "LayoutModel",
      "state": {}
     },
     "18cb0612d9dd458cb1f6364d282490c5": {
      "model_module": "@jupyter-widgets/controls",
      "model_module_version": "2.0.0",
      "model_name": "HTMLModel",
      "state": {
       "layout": "IPY_MODEL_c510ee6e11f747fe8d1966f4815f90f8",
       "style": "IPY_MODEL_f9e11ba8980e4719a25c44d76af1a9ce",
       "value": " 99%"
      }
     },
     "190635fea41c411badb26bc05e5d3275": {
      "model_module": "@jupyter-widgets/base",
      "model_module_version": "2.0.0",
      "model_name": "LayoutModel",
      "state": {}
     },
     "19cfe99689dd4488a011e0d6e6e811bd": {
      "model_module": "@jupyter-widgets/controls",
      "model_module_version": "2.0.0",
      "model_name": "FloatProgressModel",
      "state": {
       "layout": "IPY_MODEL_f1ab788ef87c4790b74dcbe0eee5ae37",
       "max": 1000,
       "style": "IPY_MODEL_453dae9dc95a491aaad9d684f503a565",
       "value": 1000
      }
     },
     "1a3181f0b7c3400b845a6bfa9cad2fcc": {
      "model_module": "@jupyter-widgets/base",
      "model_module_version": "2.0.0",
      "model_name": "LayoutModel",
      "state": {}
     },
     "1abfc195f28d473799dc112886dfdd2f": {
      "model_module": "@jupyter-widgets/base",
      "model_module_version": "2.0.0",
      "model_name": "LayoutModel",
      "state": {
       "visibility": "hidden"
      }
     },
     "1ba7fd5b069840f29676db46058dddde": {
      "model_module": "@jupyter-widgets/controls",
      "model_module_version": "2.0.0",
      "model_name": "HTMLModel",
      "state": {
       "layout": "IPY_MODEL_49e8917e821b4caca2a53d6f931de9fb",
       "style": "IPY_MODEL_ee2dfe8b99314e34867141b1c41aa357",
       "value": "100%"
      }
     },
     "1c63d2d6445c4cb483f72b3832a7e142": {
      "model_module": "@jupyter-widgets/controls",
      "model_module_version": "2.0.0",
      "model_name": "FloatProgressModel",
      "state": {
       "layout": "IPY_MODEL_04d81f9a58c6441184dab6e3a604a9a5",
       "max": 1000,
       "style": "IPY_MODEL_11c6a00a1be240849345d30b590dbdea",
       "value": 1000
      }
     },
     "1e63ca7ee2c843519dfd948dd7f1fb03": {
      "model_module": "@jupyter-widgets/controls",
      "model_module_version": "2.0.0",
      "model_name": "HTMLStyleModel",
      "state": {
       "description_width": "",
       "font_size": null,
       "text_color": null
      }
     },
     "1ea7b5714bec4eeca43cbb180ef68a42": {
      "model_module": "@jupyter-widgets/controls",
      "model_module_version": "2.0.0",
      "model_name": "FloatProgressModel",
      "state": {
       "layout": "IPY_MODEL_388d37395cb2466087c70e669b3e9306",
       "max": 1000,
       "style": "IPY_MODEL_a1d1496c8216469d8420145d2f0438d0",
       "value": 1000
      }
     },
     "1f108268988c466daf80f23ba5ccbaa4": {
      "model_module": "@jupyter-widgets/base",
      "model_module_version": "2.0.0",
      "model_name": "LayoutModel",
      "state": {}
     },
     "1f7118015e2f4a2992a2f03722eedca1": {
      "model_module": "@jupyter-widgets/base",
      "model_module_version": "2.0.0",
      "model_name": "LayoutModel",
      "state": {}
     },
     "201cdf282cdf4a90aecc61de927048ee": {
      "model_module": "@jupyter-widgets/controls",
      "model_module_version": "2.0.0",
      "model_name": "FloatProgressModel",
      "state": {
       "layout": "IPY_MODEL_27a482515d91425891283b20d87b28c4",
       "max": 1000,
       "style": "IPY_MODEL_c66a5f0ee5d64550bb89482a70100ea7",
       "value": 1000
      }
     },
     "2076d02158b346929edc5262f769434d": {
      "model_module": "@jupyter-widgets/base",
      "model_module_version": "2.0.0",
      "model_name": "LayoutModel",
      "state": {}
     },
     "21ce676aa8f24fdc834db90ad49f84a7": {
      "model_module": "@jupyter-widgets/controls",
      "model_module_version": "2.0.0",
      "model_name": "HTMLModel",
      "state": {
       "layout": "IPY_MODEL_36b585476ff54f3e90d911ef9804bc02",
       "style": "IPY_MODEL_2876f15091414c1dbe21ce961e228b02",
       "value": " 984/1000 [00:04&lt;00:00, 245.10it/s]"
      }
     },
     "21fe13001cc14865a6e3d1f8dd49caf6": {
      "model_module": "@jupyter-widgets/base",
      "model_module_version": "2.0.0",
      "model_name": "LayoutModel",
      "state": {}
     },
     "22c691e4d6a74d6b846014fc44c5b427": {
      "model_module": "@jupyter-widgets/controls",
      "model_module_version": "2.0.0",
      "model_name": "FloatProgressModel",
      "state": {
       "layout": "IPY_MODEL_2cb5287f5ab04b169923eaa4120650c4",
       "max": 1000,
       "style": "IPY_MODEL_95391ac70b40447a9dfcb5dbf516be48",
       "value": 1000
      }
     },
     "22d288538c6546c0af3d0eddd3972ca0": {
      "model_module": "@jupyter-widgets/base",
      "model_module_version": "2.0.0",
      "model_name": "LayoutModel",
      "state": {}
     },
     "23daadd762794f1ea508b7f6ce2b2368": {
      "model_module": "@jupyter-widgets/base",
      "model_module_version": "2.0.0",
      "model_name": "LayoutModel",
      "state": {
       "visibility": "hidden"
      }
     },
     "243e31f3aa9842fe82be37e1db4c295f": {
      "model_module": "@jupyter-widgets/base",
      "model_module_version": "2.0.0",
      "model_name": "LayoutModel",
      "state": {}
     },
     "245b1ed0fc9446b397042d7ff2c2a18f": {
      "model_module": "@jupyter-widgets/controls",
      "model_module_version": "2.0.0",
      "model_name": "FloatProgressModel",
      "state": {
       "layout": "IPY_MODEL_c4f2ab225ece44d4a70b5a4fb172b111",
       "max": 1000,
       "style": "IPY_MODEL_04fe90c785a1457fb89050534dd94aed",
       "value": 1000
      }
     },
     "2470fdf74e084c918c81e6efdffe823c": {
      "model_module": "@jupyter-widgets/controls",
      "model_module_version": "2.0.0",
      "model_name": "HTMLStyleModel",
      "state": {
       "description_width": "",
       "font_size": null,
       "text_color": null
      }
     },
     "24a310358cae476880ba9da7e9b4c166": {
      "model_module": "@jupyter-widgets/base",
      "model_module_version": "2.0.0",
      "model_name": "LayoutModel",
      "state": {}
     },
     "25df4f580e2242b795d3c1b3894d6001": {
      "model_module": "@jupyter-widgets/controls",
      "model_module_version": "2.0.0",
      "model_name": "FloatProgressModel",
      "state": {
       "layout": "IPY_MODEL_b9363dc3114343879ee664183a172c1f",
       "max": 1000,
       "style": "IPY_MODEL_ffe79b791f2d49b98cedd2b20eba5920",
       "value": 1000
      }
     },
     "26327ff6552e49a788f98643b0eb5f0f": {
      "model_module": "@jupyter-widgets/base",
      "model_module_version": "2.0.0",
      "model_name": "LayoutModel",
      "state": {
       "visibility": "hidden"
      }
     },
     "26e1e78a54184cf8bda6a30ef97350dc": {
      "model_module": "@jupyter-widgets/base",
      "model_module_version": "2.0.0",
      "model_name": "LayoutModel",
      "state": {
       "visibility": "hidden"
      }
     },
     "27a482515d91425891283b20d87b28c4": {
      "model_module": "@jupyter-widgets/base",
      "model_module_version": "2.0.0",
      "model_name": "LayoutModel",
      "state": {}
     },
     "28021a5628d54035832f5021f9314763": {
      "model_module": "@jupyter-widgets/controls",
      "model_module_version": "2.0.0",
      "model_name": "HTMLModel",
      "state": {
       "layout": "IPY_MODEL_3b1d2f5de6ff44e68e5397feddd64628",
       "style": "IPY_MODEL_0b702f678eca46e6b5ccde86693ac541",
       "value": " 995/1000 [00:04&lt;00:00, 246.25it/s]"
      }
     },
     "28294c208bed40c2b4ede0b062603e9a": {
      "model_module": "@jupyter-widgets/base",
      "model_module_version": "2.0.0",
      "model_name": "LayoutModel",
      "state": {}
     },
     "2876f15091414c1dbe21ce961e228b02": {
      "model_module": "@jupyter-widgets/controls",
      "model_module_version": "2.0.0",
      "model_name": "HTMLStyleModel",
      "state": {
       "description_width": "",
       "font_size": null,
       "text_color": null
      }
     },
     "28cc28e741e04e329ca8d9216bdb6650": {
      "model_module": "@jupyter-widgets/base",
      "model_module_version": "2.0.0",
      "model_name": "LayoutModel",
      "state": {}
     },
     "28cda3abb0ad459a92a91ad1b387e83a": {
      "model_module": "@jupyter-widgets/base",
      "model_module_version": "2.0.0",
      "model_name": "LayoutModel",
      "state": {}
     },
     "28fd95e67dfb4d84ae092638140c22de": {
      "model_module": "@jupyter-widgets/controls",
      "model_module_version": "2.0.0",
      "model_name": "ProgressStyleModel",
      "state": {
       "description_width": ""
      }
     },
     "299bf77cdfa5427c91b0dd84ff834846": {
      "model_module": "@jupyter-widgets/base",
      "model_module_version": "2.0.0",
      "model_name": "LayoutModel",
      "state": {}
     },
     "2ae2ad395f584dc681f9b8554dcc68f2": {
      "model_module": "@jupyter-widgets/controls",
      "model_module_version": "2.0.0",
      "model_name": "HTMLStyleModel",
      "state": {
       "description_width": "",
       "font_size": null,
       "text_color": null
      }
     },
     "2bafed2b5b47465da3610cfcd34915a8": {
      "model_module": "@jupyter-widgets/base",
      "model_module_version": "2.0.0",
      "model_name": "LayoutModel",
      "state": {
       "visibility": "hidden"
      }
     },
     "2bc67647b692493ba0a3259cd203ed7c": {
      "model_module": "@jupyter-widgets/base",
      "model_module_version": "2.0.0",
      "model_name": "LayoutModel",
      "state": {}
     },
     "2c365c335abc48b9ba55eb6c83656b84": {
      "model_module": "@jupyter-widgets/base",
      "model_module_version": "2.0.0",
      "model_name": "LayoutModel",
      "state": {}
     },
     "2c3dbf59aca249089ddb5b1e8d02cd4b": {
      "model_module": "@jupyter-widgets/controls",
      "model_module_version": "2.0.0",
      "model_name": "ProgressStyleModel",
      "state": {
       "description_width": ""
      }
     },
     "2cb5287f5ab04b169923eaa4120650c4": {
      "model_module": "@jupyter-widgets/base",
      "model_module_version": "2.0.0",
      "model_name": "LayoutModel",
      "state": {}
     },
     "2d5f5e6ff83542b1b3cff4c6309f2e92": {
      "model_module": "@jupyter-widgets/controls",
      "model_module_version": "2.0.0",
      "model_name": "HTMLModel",
      "state": {
       "layout": "IPY_MODEL_9807c2444b9d4a64ab6c08c0d22b0fb4",
       "style": "IPY_MODEL_bf1e7d5b9bf24e22b4a1bf926398671f",
       "value": "100%"
      }
     },
     "2ddab1febbf54b1e9878ca1897f3d8d2": {
      "model_module": "@jupyter-widgets/base",
      "model_module_version": "2.0.0",
      "model_name": "LayoutModel",
      "state": {
       "visibility": "hidden"
      }
     },
     "2e3fe46cb681450ca22b30a9190de56f": {
      "model_module": "@jupyter-widgets/controls",
      "model_module_version": "2.0.0",
      "model_name": "HTMLModel",
      "state": {
       "layout": "IPY_MODEL_c728346b2a9b43bcabae75f6114c060a",
       "style": "IPY_MODEL_06f0f0991d2e4925ace0cc78e36d33a1",
       "value": " 975/1000 [00:04&lt;00:00, 253.62it/s]"
      }
     },
     "2e6e870be1384703b60a7203100f64e9": {
      "model_module": "@jupyter-widgets/base",
      "model_module_version": "2.0.0",
      "model_name": "LayoutModel",
      "state": {}
     },
     "2eb008591b65431383644b81f0d06cc7": {
      "model_module": "@jupyter-widgets/base",
      "model_module_version": "2.0.0",
      "model_name": "LayoutModel",
      "state": {}
     },
     "2f739d15107d492b8d9b9d0b6ef68fcb": {
      "model_module": "@jupyter-widgets/controls",
      "model_module_version": "2.0.0",
      "model_name": "FloatProgressModel",
      "state": {
       "layout": "IPY_MODEL_ace4f36f41d64c34aeac9ea805f284e6",
       "max": 1000,
       "style": "IPY_MODEL_f6cd73cc95114cbfb32783e32c7a780f",
       "value": 1000
      }
     },
     "2fa8b986f89e4d9aa982ce71100949de": {
      "model_module": "@jupyter-widgets/base",
      "model_module_version": "2.0.0",
      "model_name": "LayoutModel",
      "state": {
       "visibility": "hidden"
      }
     },
     "2fbb3995bda14050aea6df70fc819745": {
      "model_module": "@jupyter-widgets/base",
      "model_module_version": "2.0.0",
      "model_name": "LayoutModel",
      "state": {}
     },
     "306e65dc6230446b967ef64ded32be5b": {
      "model_module": "@jupyter-widgets/base",
      "model_module_version": "2.0.0",
      "model_name": "LayoutModel",
      "state": {}
     },
     "30c6cfaa77ae420e94e5f5c97497bf72": {
      "model_module": "@jupyter-widgets/base",
      "model_module_version": "2.0.0",
      "model_name": "LayoutModel",
      "state": {}
     },
     "30f46fadfa614b8dbd5910603b70f1e7": {
      "model_module": "@jupyter-widgets/controls",
      "model_module_version": "2.0.0",
      "model_name": "HTMLStyleModel",
      "state": {
       "description_width": "",
       "font_size": null,
       "text_color": null
      }
     },
     "3214510921bf40de9232e3ffbe3921a0": {
      "model_module": "@jupyter-widgets/base",
      "model_module_version": "2.0.0",
      "model_name": "LayoutModel",
      "state": {}
     },
     "324ec7edb39b4d4bad8a21e74ffa19ab": {
      "model_module": "@jupyter-widgets/controls",
      "model_module_version": "2.0.0",
      "model_name": "FloatProgressModel",
      "state": {
       "layout": "IPY_MODEL_635d2ccb90e548a898a9d8fdc9d71fe6",
       "max": 1000,
       "style": "IPY_MODEL_e9b89eb88d9a4e998cfef0adc7030716",
       "value": 1000
      }
     },
     "328f10c775ac481caca5e546929b7e6e": {
      "model_module": "@jupyter-widgets/controls",
      "model_module_version": "2.0.0",
      "model_name": "HBoxModel",
      "state": {
       "children": [
        "IPY_MODEL_792c5ddde0e448049f02411314188c4a",
        "IPY_MODEL_55ab7486a9654c7ab7e17bc2274d82f8",
        "IPY_MODEL_a6ff031f15f74308aa282675a1432134"
       ],
       "layout": "IPY_MODEL_bfffe7bc1c2747bbbe38052c2c8b3308"
      }
     },
     "32a10e2feaba4919ab728f427a53f67c": {
      "model_module": "@jupyter-widgets/controls",
      "model_module_version": "2.0.0",
      "model_name": "HTMLModel",
      "state": {
       "layout": "IPY_MODEL_3d7889300e574f8faecae854df41ae85",
       "style": "IPY_MODEL_7edec99914b54bfcb112f7497fbc3a32",
       "value": " 98%"
      }
     },
     "32b1dc89131c458ca3cda84810952bc2": {
      "model_module": "@jupyter-widgets/base",
      "model_module_version": "2.0.0",
      "model_name": "LayoutModel",
      "state": {}
     },
     "333ac7590e7e4d3e84e143697f977898": {
      "model_module": "@jupyter-widgets/controls",
      "model_module_version": "2.0.0",
      "model_name": "HTMLModel",
      "state": {
       "layout": "IPY_MODEL_c211c5df72d041129d222ec947387646",
       "style": "IPY_MODEL_6c0850f870414394a5fd7f19619b1187",
       "value": " 992/1000 [00:04&lt;00:00, 236.05it/s]"
      }
     },
     "33bd9b6110a3499db87046c0701d28e5": {
      "model_module": "@jupyter-widgets/base",
      "model_module_version": "2.0.0",
      "model_name": "LayoutModel",
      "state": {
       "visibility": "hidden"
      }
     },
     "3406bc9ffa1744ff84e58cb1367ae35c": {
      "model_module": "@jupyter-widgets/base",
      "model_module_version": "2.0.0",
      "model_name": "LayoutModel",
      "state": {
       "visibility": "hidden"
      }
     },
     "355f429fd7ea40aaabbd58254f03651c": {
      "model_module": "@jupyter-widgets/controls",
      "model_module_version": "2.0.0",
      "model_name": "HTMLStyleModel",
      "state": {
       "description_width": "",
       "font_size": null,
       "text_color": null
      }
     },
     "360886ba28474c059fff46df061967b7": {
      "model_module": "@jupyter-widgets/base",
      "model_module_version": "2.0.0",
      "model_name": "LayoutModel",
      "state": {}
     },
     "3638d155bb264d0f9ad599997fd8aef9": {
      "model_module": "@jupyter-widgets/controls",
      "model_module_version": "2.0.0",
      "model_name": "HTMLStyleModel",
      "state": {
       "description_width": "",
       "font_size": null,
       "text_color": null
      }
     },
     "36b585476ff54f3e90d911ef9804bc02": {
      "model_module": "@jupyter-widgets/base",
      "model_module_version": "2.0.0",
      "model_name": "LayoutModel",
      "state": {}
     },
     "36e298ef834f43c0b0e2e37ad1044652": {
      "model_module": "@jupyter-widgets/controls",
      "model_module_version": "2.0.0",
      "model_name": "ProgressStyleModel",
      "state": {
       "description_width": ""
      }
     },
     "38361c7645a14b84996a1256701e0b5f": {
      "model_module": "@jupyter-widgets/controls",
      "model_module_version": "2.0.0",
      "model_name": "HTMLStyleModel",
      "state": {
       "description_width": "",
       "font_size": null,
       "text_color": null
      }
     },
     "384063c7cf2b440d83d5a59131a67f92": {
      "model_module": "@jupyter-widgets/controls",
      "model_module_version": "2.0.0",
      "model_name": "HTMLStyleModel",
      "state": {
       "description_width": "",
       "font_size": null,
       "text_color": null
      }
     },
     "388d37395cb2466087c70e669b3e9306": {
      "model_module": "@jupyter-widgets/base",
      "model_module_version": "2.0.0",
      "model_name": "LayoutModel",
      "state": {}
     },
     "39489de6146544c48ce3555e38041473": {
      "model_module": "@jupyter-widgets/controls",
      "model_module_version": "2.0.0",
      "model_name": "HTMLStyleModel",
      "state": {
       "description_width": "",
       "font_size": null,
       "text_color": null
      }
     },
     "39e4e3a071cd44baaf110bd12d227faf": {
      "model_module": "@jupyter-widgets/base",
      "model_module_version": "2.0.0",
      "model_name": "LayoutModel",
      "state": {}
     },
     "39fad0ebd0344a149d18ab6d22b6cd2d": {
      "model_module": "@jupyter-widgets/controls",
      "model_module_version": "2.0.0",
      "model_name": "FloatProgressModel",
      "state": {
       "layout": "IPY_MODEL_84b5629535004f4ba4a055960a59e7dc",
       "max": 1000,
       "style": "IPY_MODEL_8cfe03ef68634f6696d503112de41641",
       "value": 1000
      }
     },
     "3a2cd2d5e84941e6aed6909a2f802099": {
      "model_module": "@jupyter-widgets/controls",
      "model_module_version": "2.0.0",
      "model_name": "HTMLStyleModel",
      "state": {
       "description_width": "",
       "font_size": null,
       "text_color": null
      }
     },
     "3a509b02e79d47bba8a53e81e0108136": {
      "model_module": "@jupyter-widgets/base",
      "model_module_version": "2.0.0",
      "model_name": "LayoutModel",
      "state": {}
     },
     "3aa6034da9984744a0ee96c0cc31c834": {
      "model_module": "@jupyter-widgets/controls",
      "model_module_version": "2.0.0",
      "model_name": "HTMLModel",
      "state": {
       "layout": "IPY_MODEL_306e65dc6230446b967ef64ded32be5b",
       "style": "IPY_MODEL_355f429fd7ea40aaabbd58254f03651c",
       "value": " 1000/1000 [00:04&lt;00:00, 181.77it/s]"
      }
     },
     "3ae330f2421c41639b95e1bfbf9aa73b": {
      "model_module": "@jupyter-widgets/base",
      "model_module_version": "2.0.0",
      "model_name": "LayoutModel",
      "state": {
       "visibility": "hidden"
      }
     },
     "3b1d2f5de6ff44e68e5397feddd64628": {
      "model_module": "@jupyter-widgets/base",
      "model_module_version": "2.0.0",
      "model_name": "LayoutModel",
      "state": {}
     },
     "3b88572bee924548b89f31ea560baed8": {
      "model_module": "@jupyter-widgets/base",
      "model_module_version": "2.0.0",
      "model_name": "LayoutModel",
      "state": {}
     },
     "3bc1d780135340e29a80cf0187552989": {
      "model_module": "@jupyter-widgets/base",
      "model_module_version": "2.0.0",
      "model_name": "LayoutModel",
      "state": {
       "visibility": "hidden"
      }
     },
     "3c991e42d7824f54895490ed3b81c398": {
      "model_module": "@jupyter-widgets/base",
      "model_module_version": "2.0.0",
      "model_name": "LayoutModel",
      "state": {}
     },
     "3d7889300e574f8faecae854df41ae85": {
      "model_module": "@jupyter-widgets/base",
      "model_module_version": "2.0.0",
      "model_name": "LayoutModel",
      "state": {}
     },
     "3dde257ec49740509c57d10584558608": {
      "model_module": "@jupyter-widgets/base",
      "model_module_version": "2.0.0",
      "model_name": "LayoutModel",
      "state": {}
     },
     "3e2de2bd9449407ea70f46279e2d6d0f": {
      "model_module": "@jupyter-widgets/base",
      "model_module_version": "2.0.0",
      "model_name": "LayoutModel",
      "state": {}
     },
     "3f2c468336284b24897e2641263d2212": {
      "model_module": "@jupyter-widgets/base",
      "model_module_version": "2.0.0",
      "model_name": "LayoutModel",
      "state": {}
     },
     "3fffb9b6bfe843c3a24b1093cb88f545": {
      "model_module": "@jupyter-widgets/controls",
      "model_module_version": "2.0.0",
      "model_name": "HTMLModel",
      "state": {
       "layout": "IPY_MODEL_cac7d217a3d740eb931da990986faec5",
       "style": "IPY_MODEL_47d793844a234dda91f36ed7a99117c7",
       "value": " 1000/1000 [00:04&lt;00:00, 187.44it/s]"
      }
     },
     "400809943a3443ac9489bac710974cc1": {
      "model_module": "@jupyter-widgets/controls",
      "model_module_version": "2.0.0",
      "model_name": "HTMLStyleModel",
      "state": {
       "description_width": "",
       "font_size": null,
       "text_color": null
      }
     },
     "40e0710464244aee81541d3a8e5a70ff": {
      "model_module": "@jupyter-widgets/controls",
      "model_module_version": "2.0.0",
      "model_name": "FloatProgressModel",
      "state": {
       "layout": "IPY_MODEL_76437c6b1fd345cfaef43f08250907d2",
       "max": 1000,
       "style": "IPY_MODEL_7acb5553438b45938f3654b1e3ecb791",
       "value": 1000
      }
     },
     "41482d76ab7c4067ab0531d7c84e0a22": {
      "model_module": "@jupyter-widgets/base",
      "model_module_version": "2.0.0",
      "model_name": "LayoutModel",
      "state": {
       "visibility": "hidden"
      }
     },
     "41fc6dc9a0694bcba6674cf9d2343816": {
      "model_module": "@jupyter-widgets/base",
      "model_module_version": "2.0.0",
      "model_name": "LayoutModel",
      "state": {}
     },
     "428691da34e94c51bb6d463a753b5813": {
      "model_module": "@jupyter-widgets/base",
      "model_module_version": "2.0.0",
      "model_name": "LayoutModel",
      "state": {}
     },
     "42a99f87fda546a191650c8eaaf44130": {
      "model_module": "@jupyter-widgets/controls",
      "model_module_version": "2.0.0",
      "model_name": "HTMLModel",
      "state": {
       "layout": "IPY_MODEL_ec27d2e3b1cf412dae7d335a0dac3de6",
       "style": "IPY_MODEL_75e886e0a4f9488fa834b56ca84251c6",
       "value": " 98%"
      }
     },
     "43785bae3c2b4d11b6248b2e5210a373": {
      "model_module": "@jupyter-widgets/base",
      "model_module_version": "2.0.0",
      "model_name": "LayoutModel",
      "state": {}
     },
     "4427f76a08a34491a7e2c2ff3bf8165f": {
      "model_module": "@jupyter-widgets/controls",
      "model_module_version": "2.0.0",
      "model_name": "HTMLModel",
      "state": {
       "layout": "IPY_MODEL_792b79c5b97644c290c201ae1e26ce8a",
       "style": "IPY_MODEL_fce335b6674646dca6ea6708a496a13b",
       "value": " 987/1000 [00:04&lt;00:00, 252.95it/s]"
      }
     },
     "44bb307f39f742d5b043efb7ec25f06f": {
      "model_module": "@jupyter-widgets/base",
      "model_module_version": "2.0.0",
      "model_name": "LayoutModel",
      "state": {
       "visibility": "hidden"
      }
     },
     "4508a08c27234e88934f8462c31822b5": {
      "model_module": "@jupyter-widgets/controls",
      "model_module_version": "2.0.0",
      "model_name": "FloatProgressModel",
      "state": {
       "layout": "IPY_MODEL_b66428ea72f54b879ab203df75554a58",
       "max": 1000,
       "style": "IPY_MODEL_e2285cf8f08b4c3188ef3179954265dd",
       "value": 1000
      }
     },
     "451abd17a2864942bf747a529b6d8f6a": {
      "model_module": "@jupyter-widgets/controls",
      "model_module_version": "2.0.0",
      "model_name": "HBoxModel",
      "state": {
       "children": [
        "IPY_MODEL_c8ce954b4b7b44efa1a08aa2405e76d2",
        "IPY_MODEL_86e7f828a0214cac9741879fae5843f6",
        "IPY_MODEL_faa4f725693748c588b5de7108e29f3c"
       ],
       "layout": "IPY_MODEL_67539d5259f64a6da6d86ac51fdaf62d"
      }
     },
     "453dae9dc95a491aaad9d684f503a565": {
      "model_module": "@jupyter-widgets/controls",
      "model_module_version": "2.0.0",
      "model_name": "ProgressStyleModel",
      "state": {
       "description_width": ""
      }
     },
     "45a68a24e5af4832b20e4365c4032c88": {
      "model_module": "@jupyter-widgets/controls",
      "model_module_version": "2.0.0",
      "model_name": "ProgressStyleModel",
      "state": {
       "description_width": ""
      }
     },
     "4676f8cdee684fcf8cb9333d775196bb": {
      "model_module": "@jupyter-widgets/controls",
      "model_module_version": "2.0.0",
      "model_name": "HTMLModel",
      "state": {
       "layout": "IPY_MODEL_674e74b7858c485bb22313eb827e3300",
       "style": "IPY_MODEL_fb39b97065094f8cb103cfc4aec2b536",
       "value": " 989/1000 [00:04&lt;00:00, 259.53it/s]"
      }
     },
     "46f350aacb9446e1bd745fe41da3d696": {
      "model_module": "@jupyter-widgets/controls",
      "model_module_version": "2.0.0",
      "model_name": "HTMLModel",
      "state": {
       "layout": "IPY_MODEL_eb7953ba197a46c1a5264b5680dec96a",
       "style": "IPY_MODEL_400809943a3443ac9489bac710974cc1",
       "value": " 99%"
      }
     },
     "471adc973af94638864f92d2c9c506b4": {
      "model_module": "@jupyter-widgets/base",
      "model_module_version": "2.0.0",
      "model_name": "LayoutModel",
      "state": {
       "visibility": "hidden"
      }
     },
     "47d793844a234dda91f36ed7a99117c7": {
      "model_module": "@jupyter-widgets/controls",
      "model_module_version": "2.0.0",
      "model_name": "HTMLStyleModel",
      "state": {
       "description_width": "",
       "font_size": null,
       "text_color": null
      }
     },
     "48af11cfefdc412a956188dbd5b1ee3d": {
      "model_module": "@jupyter-widgets/controls",
      "model_module_version": "2.0.0",
      "model_name": "FloatProgressModel",
      "state": {
       "layout": "IPY_MODEL_53629e767c5b4ac8a4c650bf2613a1ae",
       "max": 1000,
       "style": "IPY_MODEL_00a357d60c4f4121b5bb2557c9543715",
       "value": 1000
      }
     },
     "49e8917e821b4caca2a53d6f931de9fb": {
      "model_module": "@jupyter-widgets/base",
      "model_module_version": "2.0.0",
      "model_name": "LayoutModel",
      "state": {}
     },
     "49f00850855b42f3b449a8f223330659": {
      "model_module": "@jupyter-widgets/base",
      "model_module_version": "2.0.0",
      "model_name": "LayoutModel",
      "state": {
       "visibility": "hidden"
      }
     },
     "4a36e35bce314213a4ebb47d31ab366b": {
      "model_module": "@jupyter-widgets/controls",
      "model_module_version": "2.0.0",
      "model_name": "HTMLStyleModel",
      "state": {
       "description_width": "",
       "font_size": null,
       "text_color": null
      }
     },
     "4b2b5804737047089fc87c7468a70c4f": {
      "model_module": "@jupyter-widgets/controls",
      "model_module_version": "2.0.0",
      "model_name": "FloatProgressModel",
      "state": {
       "layout": "IPY_MODEL_87077a9ced434826a1f57d0e9b199f28",
       "max": 1000,
       "style": "IPY_MODEL_4cdba01057e94b5085014f3517cf81fe",
       "value": 1000
      }
     },
     "4b9880e842534efdbe6222fb8e25f067": {
      "model_module": "@jupyter-widgets/base",
      "model_module_version": "2.0.0",
      "model_name": "LayoutModel",
      "state": {}
     },
     "4bbc0a08009245a8bb28764386eebe01": {
      "model_module": "@jupyter-widgets/controls",
      "model_module_version": "2.0.0",
      "model_name": "ProgressStyleModel",
      "state": {
       "description_width": ""
      }
     },
     "4cdba01057e94b5085014f3517cf81fe": {
      "model_module": "@jupyter-widgets/controls",
      "model_module_version": "2.0.0",
      "model_name": "ProgressStyleModel",
      "state": {
       "description_width": ""
      }
     },
     "4cf62b5a7c9f46a6a7df14f2a5c87df1": {
      "model_module": "@jupyter-widgets/controls",
      "model_module_version": "2.0.0",
      "model_name": "HTMLModel",
      "state": {
       "layout": "IPY_MODEL_86b0f6419644495db51aa41e1fd3e6fd",
       "style": "IPY_MODEL_fbed3db59c6b464c9d864c1bf12bd379",
       "value": " 99%"
      }
     },
     "50f02cb8b8314bbc85686e866e67f9b6": {
      "model_module": "@jupyter-widgets/controls",
      "model_module_version": "2.0.0",
      "model_name": "HTMLStyleModel",
      "state": {
       "description_width": "",
       "font_size": null,
       "text_color": null
      }
     },
     "52a8dd1ece7b4e018d1ce6e98b4905c0": {
      "model_module": "@jupyter-widgets/controls",
      "model_module_version": "2.0.0",
      "model_name": "HTMLModel",
      "state": {
       "layout": "IPY_MODEL_9ebfa43405cf4ca3a0aad31d6344f5aa",
       "style": "IPY_MODEL_f454c983798b4dc1b520df8bc22f515b",
       "value": " 979/1000 [00:04&lt;00:00, 259.10it/s]"
      }
     },
     "53629e767c5b4ac8a4c650bf2613a1ae": {
      "model_module": "@jupyter-widgets/base",
      "model_module_version": "2.0.0",
      "model_name": "LayoutModel",
      "state": {}
     },
     "541f6135e0c24ab38d923641432acc52": {
      "model_module": "@jupyter-widgets/controls",
      "model_module_version": "2.0.0",
      "model_name": "ProgressStyleModel",
      "state": {
       "description_width": ""
      }
     },
     "550378e9c65b4a9fb4fbf48ded9dc90b": {
      "model_module": "@jupyter-widgets/base",
      "model_module_version": "2.0.0",
      "model_name": "LayoutModel",
      "state": {}
     },
     "55ab7486a9654c7ab7e17bc2274d82f8": {
      "model_module": "@jupyter-widgets/controls",
      "model_module_version": "2.0.0",
      "model_name": "FloatProgressModel",
      "state": {
       "bar_style": "success",
       "layout": "IPY_MODEL_98ec608f4adf4242a4e765934a9da370",
       "max": 50,
       "style": "IPY_MODEL_13d4fdef59fa4d3d958ebb98bfde2d44",
       "value": 50
      }
     },
     "55d3eb671f5043d79d43faa12d219c48": {
      "model_module": "@jupyter-widgets/controls",
      "model_module_version": "2.0.0",
      "model_name": "HTMLStyleModel",
      "state": {
       "description_width": "",
       "font_size": null,
       "text_color": null
      }
     },
     "563bfe43cebf45a28869293e5702b0e2": {
      "model_module": "@jupyter-widgets/controls",
      "model_module_version": "2.0.0",
      "model_name": "HTMLModel",
      "state": {
       "layout": "IPY_MODEL_360886ba28474c059fff46df061967b7",
       "style": "IPY_MODEL_0d218e1ed6144c3e9ea8c748f03a9a7a",
       "value": "100%"
      }
     },
     "5652d8ef305c47939fbc1c69d30da42e": {
      "model_module": "@jupyter-widgets/controls",
      "model_module_version": "2.0.0",
      "model_name": "HTMLModel",
      "state": {
       "layout": "IPY_MODEL_6baedbb20a18466fac97ae9c9a5f1fef",
       "style": "IPY_MODEL_66c306e6c8b1479c9ddb1fcbda3994ec",
       "value": " 98%"
      }
     },
     "56c2e45861984292a06bcb1b0f596654": {
      "model_module": "@jupyter-widgets/controls",
      "model_module_version": "2.0.0",
      "model_name": "FloatProgressModel",
      "state": {
       "layout": "IPY_MODEL_f6c9afdb1316497cbbbae3bddf652a3c",
       "max": 1000,
       "style": "IPY_MODEL_bdf01cc9d49740ceaa6547156c90027f",
       "value": 1000
      }
     },
     "580f9ae4cbd042e5b3dc6d26e0db53ab": {
      "model_module": "@jupyter-widgets/controls",
      "model_module_version": "2.0.0",
      "model_name": "FloatProgressModel",
      "state": {
       "layout": "IPY_MODEL_3a509b02e79d47bba8a53e81e0108136",
       "max": 1000,
       "style": "IPY_MODEL_7f1fa16dd51640da9abe33205d11b45d",
       "value": 1000
      }
     },
     "5818b6d97a3548f596e490159ddc8af7": {
      "model_module": "@jupyter-widgets/controls",
      "model_module_version": "2.0.0",
      "model_name": "HTMLStyleModel",
      "state": {
       "description_width": "",
       "font_size": null,
       "text_color": null
      }
     },
     "59231b742d99470cb7a751a8548cd964": {
      "model_module": "@jupyter-widgets/base",
      "model_module_version": "2.0.0",
      "model_name": "LayoutModel",
      "state": {}
     },
     "59bcdf063e11405ca8bc267aa08447a2": {
      "model_module": "@jupyter-widgets/base",
      "model_module_version": "2.0.0",
      "model_name": "LayoutModel",
      "state": {}
     },
     "59c3e844f1634e86a84e1ca2aa5fe97c": {
      "model_module": "@jupyter-widgets/controls",
      "model_module_version": "2.0.0",
      "model_name": "HTMLModel",
      "state": {
       "layout": "IPY_MODEL_aad2c6790e7c45c1a17d802a041523fa",
       "style": "IPY_MODEL_7006b166060a4827a828f626d90ef9ee",
       "value": " 1000/1000 [00:04&lt;00:00, 182.12it/s]"
      }
     },
     "5a2abe03eef64c79a0059649a43a863c": {
      "model_module": "@jupyter-widgets/controls",
      "model_module_version": "2.0.0",
      "model_name": "ProgressStyleModel",
      "state": {
       "description_width": ""
      }
     },
     "5a832aa49c0d442a96ab01947f23cd25": {
      "model_module": "@jupyter-widgets/base",
      "model_module_version": "2.0.0",
      "model_name": "LayoutModel",
      "state": {}
     },
     "5a97837d36024fe68f7a7a356a80bbc2": {
      "model_module": "@jupyter-widgets/controls",
      "model_module_version": "2.0.0",
      "model_name": "FloatProgressModel",
      "state": {
       "layout": "IPY_MODEL_f9cb9f84d7eb4bdea76636471e9a3ec7",
       "max": 1000,
       "style": "IPY_MODEL_fd6b3c5f3c3243239c041e1eaab936b8",
       "value": 1000
      }
     },
     "5b778eaf5006450d905ec9107a536dee": {
      "model_module": "@jupyter-widgets/base",
      "model_module_version": "2.0.0",
      "model_name": "LayoutModel",
      "state": {
       "visibility": "hidden"
      }
     },
     "5ba0942e57de4fe491d1e22d5b60d2ee": {
      "model_module": "@jupyter-widgets/controls",
      "model_module_version": "2.0.0",
      "model_name": "FloatProgressModel",
      "state": {
       "layout": "IPY_MODEL_8e3c0764833445cf9080b3e812cb7024",
       "max": 1000,
       "style": "IPY_MODEL_77da65b632b94ee192f6c3c64d9d3b3e",
       "value": 1000
      }
     },
     "5efc2933e17344edaca041ffc560dded": {
      "model_module": "@jupyter-widgets/controls",
      "model_module_version": "2.0.0",
      "model_name": "HTMLStyleModel",
      "state": {
       "description_width": "",
       "font_size": null,
       "text_color": null
      }
     },
     "5f00eac20a874485bffbfb7cc2ec14f5": {
      "model_module": "@jupyter-widgets/base",
      "model_module_version": "2.0.0",
      "model_name": "LayoutModel",
      "state": {}
     },
     "5f60b0f2257f46a4a35c5e5058e14e5d": {
      "model_module": "@jupyter-widgets/base",
      "model_module_version": "2.0.0",
      "model_name": "LayoutModel",
      "state": {}
     },
     "5f60b54d300649b59edf9be164ee7902": {
      "model_module": "@jupyter-widgets/controls",
      "model_module_version": "2.0.0",
      "model_name": "HTMLModel",
      "state": {
       "layout": "IPY_MODEL_0b9ff1a1b49842769afde1b8f108571a",
       "style": "IPY_MODEL_fb484043a76d482585a95d4cc661ffad",
       "value": " 99%"
      }
     },
     "5f9cb8a9f87849249ad0edd82d54ecdd": {
      "model_module": "@jupyter-widgets/base",
      "model_module_version": "2.0.0",
      "model_name": "LayoutModel",
      "state": {
       "visibility": "hidden"
      }
     },
     "5fcf2a1618fc46b8b88ad647f5b26e42": {
      "model_module": "@jupyter-widgets/base",
      "model_module_version": "2.0.0",
      "model_name": "LayoutModel",
      "state": {}
     },
     "5ff368b5ba324fc68352b8d9e454cc4c": {
      "model_module": "@jupyter-widgets/controls",
      "model_module_version": "2.0.0",
      "model_name": "HTMLModel",
      "state": {
       "layout": "IPY_MODEL_614af68b2520477dbe0c17c565bc65b7",
       "style": "IPY_MODEL_7b4d78fa15e24701b657e98d48ac0cf0",
       "value": " 99%"
      }
     },
     "602ad8ad09164c5599bd725eb96c8b5d": {
      "model_module": "@jupyter-widgets/controls",
      "model_module_version": "2.0.0",
      "model_name": "HTMLStyleModel",
      "state": {
       "description_width": "",
       "font_size": null,
       "text_color": null
      }
     },
     "604c209248cf41868d6ef0deafe52bf2": {
      "model_module": "@jupyter-widgets/controls",
      "model_module_version": "2.0.0",
      "model_name": "HTMLModel",
      "state": {
       "layout": "IPY_MODEL_727c0b2d77f54d71a3e6b8b7ec23be08",
       "style": "IPY_MODEL_d10c78c69257481ea26071000a4920ce",
       "value": "100%"
      }
     },
     "605dc573f551465fa832d5ffdc159bf3": {
      "model_module": "@jupyter-widgets/controls",
      "model_module_version": "2.0.0",
      "model_name": "HTMLModel",
      "state": {
       "layout": "IPY_MODEL_aea9440c17294762938c2b5ea96573bb",
       "style": "IPY_MODEL_1e63ca7ee2c843519dfd948dd7f1fb03",
       "value": " 98%"
      }
     },
     "60afd89cb04749ff8d458b1468faf01c": {
      "model_module": "@jupyter-widgets/base",
      "model_module_version": "2.0.0",
      "model_name": "LayoutModel",
      "state": {}
     },
     "60c38a4d1bce40e9b8fa4f7e9f0499f7": {
      "model_module": "@jupyter-widgets/controls",
      "model_module_version": "2.0.0",
      "model_name": "HTMLModel",
      "state": {
       "layout": "IPY_MODEL_30c6cfaa77ae420e94e5f5c97497bf72",
       "style": "IPY_MODEL_780c4821f55e4905bbd4efb49482c843",
       "value": " 978/1000 [00:04&lt;00:00, 243.77it/s]"
      }
     },
     "60c7d52e89344ad5a2573905f37f406a": {
      "model_module": "@jupyter-widgets/controls",
      "model_module_version": "2.0.0",
      "model_name": "HTMLStyleModel",
      "state": {
       "description_width": "",
       "font_size": null,
       "text_color": null
      }
     },
     "6134c9eb0d024d7d9d3ada6ffed24992": {
      "model_module": "@jupyter-widgets/base",
      "model_module_version": "2.0.0",
      "model_name": "LayoutModel",
      "state": {}
     },
     "614af68b2520477dbe0c17c565bc65b7": {
      "model_module": "@jupyter-widgets/base",
      "model_module_version": "2.0.0",
      "model_name": "LayoutModel",
      "state": {}
     },
     "62140019838d496a942d82e019f7c869": {
      "model_module": "@jupyter-widgets/base",
      "model_module_version": "2.0.0",
      "model_name": "LayoutModel",
      "state": {}
     },
     "62f9782730224c29bff16bdc93755fb4": {
      "model_module": "@jupyter-widgets/controls",
      "model_module_version": "2.0.0",
      "model_name": "ProgressStyleModel",
      "state": {
       "description_width": ""
      }
     },
     "635d2ccb90e548a898a9d8fdc9d71fe6": {
      "model_module": "@jupyter-widgets/base",
      "model_module_version": "2.0.0",
      "model_name": "LayoutModel",
      "state": {}
     },
     "63caf5928e074e8985816bbe5ef36f2b": {
      "model_module": "@jupyter-widgets/controls",
      "model_module_version": "2.0.0",
      "model_name": "HTMLModel",
      "state": {
       "layout": "IPY_MODEL_a8078d0390614bb08b56c6bd36367816",
       "style": "IPY_MODEL_0801d225421244b68ae42f9be4705cfe",
       "value": " 99%"
      }
     },
     "63d6b21462cf48f69eb5278dbfa6e12c": {
      "model_module": "@jupyter-widgets/base",
      "model_module_version": "2.0.0",
      "model_name": "LayoutModel",
      "state": {
       "visibility": "hidden"
      }
     },
     "64286d2587a140eaa6c2ae4150bb5dd9": {
      "model_module": "@jupyter-widgets/controls",
      "model_module_version": "2.0.0",
      "model_name": "HTMLModel",
      "state": {
       "layout": "IPY_MODEL_b3589eb86763486b9d85d2c5b4195407",
       "style": "IPY_MODEL_01ba89df11a345c6a1a3afdffc98d739",
       "value": " 978/1000 [00:04&lt;00:00, 254.36it/s]"
      }
     },
     "647b938fa5614d6ca48d2e48f9cedc07": {
      "model_module": "@jupyter-widgets/controls",
      "model_module_version": "2.0.0",
      "model_name": "HTMLStyleModel",
      "state": {
       "description_width": "",
       "font_size": null,
       "text_color": null
      }
     },
     "6489ad87ad9b42a293f01333ce3a1d7a": {
      "model_module": "@jupyter-widgets/controls",
      "model_module_version": "2.0.0",
      "model_name": "ProgressStyleModel",
      "state": {
       "description_width": ""
      }
     },
     "6528eabebaef4d38872aca91278321b2": {
      "model_module": "@jupyter-widgets/controls",
      "model_module_version": "2.0.0",
      "model_name": "HTMLModel",
      "state": {
       "layout": "IPY_MODEL_6cf74d41b0a64cc3a68b10988fb6c072",
       "style": "IPY_MODEL_8959eaa62a8a4cc79349bc06f7eb6fa2",
       "value": " 976/1000 [00:04&lt;00:00, 243.97it/s]"
      }
     },
     "655411b004594d09abead07cfb39caaa": {
      "model_module": "@jupyter-widgets/controls",
      "model_module_version": "2.0.0",
      "model_name": "HTMLModel",
      "state": {
       "layout": "IPY_MODEL_84dc7e082c13465492af7684a413ba71",
       "style": "IPY_MODEL_a11f87c2d8164111bab72727e57db81b",
       "value": "100%"
      }
     },
     "666b61e6fb30495ebf17c3d89f8374e8": {
      "model_module": "@jupyter-widgets/controls",
      "model_module_version": "2.0.0",
      "model_name": "HTMLStyleModel",
      "state": {
       "description_width": "",
       "font_size": null,
       "text_color": null
      }
     },
     "66a0767bd02740eea3590a3d97bdaa47": {
      "model_module": "@jupyter-widgets/base",
      "model_module_version": "2.0.0",
      "model_name": "LayoutModel",
      "state": {}
     },
     "66c306e6c8b1479c9ddb1fcbda3994ec": {
      "model_module": "@jupyter-widgets/controls",
      "model_module_version": "2.0.0",
      "model_name": "HTMLStyleModel",
      "state": {
       "description_width": "",
       "font_size": null,
       "text_color": null
      }
     },
     "674e74b7858c485bb22313eb827e3300": {
      "model_module": "@jupyter-widgets/base",
      "model_module_version": "2.0.0",
      "model_name": "LayoutModel",
      "state": {}
     },
     "67539d5259f64a6da6d86ac51fdaf62d": {
      "model_module": "@jupyter-widgets/base",
      "model_module_version": "2.0.0",
      "model_name": "LayoutModel",
      "state": {}
     },
     "676779193e0b4b9a9628b0625cd9a7ea": {
      "model_module": "@jupyter-widgets/controls",
      "model_module_version": "2.0.0",
      "model_name": "ProgressStyleModel",
      "state": {
       "description_width": ""
      }
     },
     "67f4b745d3294ef497cc1a9aee11f95f": {
      "model_module": "@jupyter-widgets/controls",
      "model_module_version": "2.0.0",
      "model_name": "HTMLModel",
      "state": {
       "layout": "IPY_MODEL_1f108268988c466daf80f23ba5ccbaa4",
       "style": "IPY_MODEL_872a4ea6cbeb42ef96b9a211680c3216",
       "value": "100%"
      }
     },
     "68081128e0684b9b8e7c50e500a26c2b": {
      "model_module": "@jupyter-widgets/controls",
      "model_module_version": "2.0.0",
      "model_name": "HTMLStyleModel",
      "state": {
       "description_width": "",
       "font_size": null,
       "text_color": null
      }
     },
     "68ca907d56f74f47b5bc4bab2cc602fb": {
      "model_module": "@jupyter-widgets/controls",
      "model_module_version": "2.0.0",
      "model_name": "HTMLStyleModel",
      "state": {
       "description_width": "",
       "font_size": null,
       "text_color": null
      }
     },
     "68d297b390224a65863e4174aca944e5": {
      "model_module": "@jupyter-widgets/controls",
      "model_module_version": "2.0.0",
      "model_name": "HTMLModel",
      "state": {
       "layout": "IPY_MODEL_0af30a0dbd684d7dbe97726f300b49ee",
       "style": "IPY_MODEL_0c50c1e4320b4df889255a23014b5fa4",
       "value": " 984/1000 [00:04&lt;00:00, 258.85it/s]"
      }
     },
     "69356ae330854e3f846dc855bed23f12": {
      "model_module": "@jupyter-widgets/base",
      "model_module_version": "2.0.0",
      "model_name": "LayoutModel",
      "state": {}
     },
     "696e6789ed3f492a89d0ce521b82bd41": {
      "model_module": "@jupyter-widgets/controls",
      "model_module_version": "2.0.0",
      "model_name": "ProgressStyleModel",
      "state": {
       "description_width": ""
      }
     },
     "69c058db7afc4888b226152928436837": {
      "model_module": "@jupyter-widgets/controls",
      "model_module_version": "2.0.0",
      "model_name": "HTMLStyleModel",
      "state": {
       "description_width": "",
       "font_size": null,
       "text_color": null
      }
     },
     "6a26fb8f7d844a43bdef0721ac05445f": {
      "model_module": "@jupyter-widgets/controls",
      "model_module_version": "2.0.0",
      "model_name": "HTMLStyleModel",
      "state": {
       "description_width": "",
       "font_size": null,
       "text_color": null
      }
     },
     "6a3de872991443edba83aec8921440c2": {
      "model_module": "@jupyter-widgets/controls",
      "model_module_version": "2.0.0",
      "model_name": "HTMLModel",
      "state": {
       "layout": "IPY_MODEL_5f60b0f2257f46a4a35c5e5058e14e5d",
       "style": "IPY_MODEL_815772a3fa544011ba8e26c5c58b27a6",
       "value": " 980/1000 [00:04&lt;00:00, 235.63it/s]"
      }
     },
     "6b992cb73c2a40a5a35118962fe063fe": {
      "model_module": "@jupyter-widgets/controls",
      "model_module_version": "2.0.0",
      "model_name": "ProgressStyleModel",
      "state": {
       "description_width": ""
      }
     },
     "6baa95752b4a40d59ee8df03e16b4b7b": {
      "model_module": "@jupyter-widgets/base",
      "model_module_version": "2.0.0",
      "model_name": "LayoutModel",
      "state": {}
     },
     "6baedbb20a18466fac97ae9c9a5f1fef": {
      "model_module": "@jupyter-widgets/base",
      "model_module_version": "2.0.0",
      "model_name": "LayoutModel",
      "state": {}
     },
     "6c0850f870414394a5fd7f19619b1187": {
      "model_module": "@jupyter-widgets/controls",
      "model_module_version": "2.0.0",
      "model_name": "HTMLStyleModel",
      "state": {
       "description_width": "",
       "font_size": null,
       "text_color": null
      }
     },
     "6cf74d41b0a64cc3a68b10988fb6c072": {
      "model_module": "@jupyter-widgets/base",
      "model_module_version": "2.0.0",
      "model_name": "LayoutModel",
      "state": {}
     },
     "6e1dfcf7a4944878af82387ddd1fd4e1": {
      "model_module": "@jupyter-widgets/controls",
      "model_module_version": "2.0.0",
      "model_name": "HTMLStyleModel",
      "state": {
       "description_width": "",
       "font_size": null,
       "text_color": null
      }
     },
     "6f865f732a3340ca8178b9b4a48d9767": {
      "model_module": "@jupyter-widgets/controls",
      "model_module_version": "2.0.0",
      "model_name": "HTMLModel",
      "state": {
       "layout": "IPY_MODEL_3c991e42d7824f54895490ed3b81c398",
       "style": "IPY_MODEL_9c5458cb5d824ebb9074ca22f8612eac",
       "value": " 99%"
      }
     },
     "6faf1668ff3548b48803fde3761ea939": {
      "model_module": "@jupyter-widgets/base",
      "model_module_version": "2.0.0",
      "model_name": "LayoutModel",
      "state": {}
     },
     "7006b166060a4827a828f626d90ef9ee": {
      "model_module": "@jupyter-widgets/controls",
      "model_module_version": "2.0.0",
      "model_name": "HTMLStyleModel",
      "state": {
       "description_width": "",
       "font_size": null,
       "text_color": null
      }
     },
     "704727fc29284936ab73bf29bec8b23c": {
      "model_module": "@jupyter-widgets/base",
      "model_module_version": "2.0.0",
      "model_name": "LayoutModel",
      "state": {}
     },
     "70a1de664de54be0b38e5b90e751c2df": {
      "model_module": "@jupyter-widgets/base",
      "model_module_version": "2.0.0",
      "model_name": "LayoutModel",
      "state": {}
     },
     "70df443abaa34889b144066f973b93c5": {
      "model_module": "@jupyter-widgets/base",
      "model_module_version": "2.0.0",
      "model_name": "LayoutModel",
      "state": {
       "visibility": "hidden"
      }
     },
     "727c0b2d77f54d71a3e6b8b7ec23be08": {
      "model_module": "@jupyter-widgets/base",
      "model_module_version": "2.0.0",
      "model_name": "LayoutModel",
      "state": {}
     },
     "72e956b471cd4976981c0a58d132aebc": {
      "model_module": "@jupyter-widgets/base",
      "model_module_version": "2.0.0",
      "model_name": "LayoutModel",
      "state": {
       "visibility": "hidden"
      }
     },
     "73d12c01059c4bdaa4e08416a49d0b39": {
      "model_module": "@jupyter-widgets/controls",
      "model_module_version": "2.0.0",
      "model_name": "ProgressStyleModel",
      "state": {
       "description_width": ""
      }
     },
     "75e886e0a4f9488fa834b56ca84251c6": {
      "model_module": "@jupyter-widgets/controls",
      "model_module_version": "2.0.0",
      "model_name": "HTMLStyleModel",
      "state": {
       "description_width": "",
       "font_size": null,
       "text_color": null
      }
     },
     "76242b1cdb6d484598e49c6bbdd6dedb": {
      "model_module": "@jupyter-widgets/base",
      "model_module_version": "2.0.0",
      "model_name": "LayoutModel",
      "state": {
       "visibility": "hidden"
      }
     },
     "763521dde405411bb8cc02a058edc881": {
      "model_module": "@jupyter-widgets/controls",
      "model_module_version": "2.0.0",
      "model_name": "FloatProgressModel",
      "state": {
       "layout": "IPY_MODEL_181544679f4d42408490601c20827b5d",
       "max": 1000,
       "style": "IPY_MODEL_73d12c01059c4bdaa4e08416a49d0b39",
       "value": 1000
      }
     },
     "76437c6b1fd345cfaef43f08250907d2": {
      "model_module": "@jupyter-widgets/base",
      "model_module_version": "2.0.0",
      "model_name": "LayoutModel",
      "state": {}
     },
     "7689c6b9ee094ca482aebb845abb90d7": {
      "model_module": "@jupyter-widgets/controls",
      "model_module_version": "2.0.0",
      "model_name": "FloatProgressModel",
      "state": {
       "layout": "IPY_MODEL_299bf77cdfa5427c91b0dd84ff834846",
       "max": 1000,
       "style": "IPY_MODEL_89dcba5474b343d88b2bd24cedf071f4",
       "value": 1000
      }
     },
     "778df62de85e482a823103dbf24ccd59": {
      "model_module": "@jupyter-widgets/controls",
      "model_module_version": "2.0.0",
      "model_name": "ProgressStyleModel",
      "state": {
       "description_width": ""
      }
     },
     "77da65b632b94ee192f6c3c64d9d3b3e": {
      "model_module": "@jupyter-widgets/controls",
      "model_module_version": "2.0.0",
      "model_name": "ProgressStyleModel",
      "state": {
       "description_width": ""
      }
     },
     "780c4821f55e4905bbd4efb49482c843": {
      "model_module": "@jupyter-widgets/controls",
      "model_module_version": "2.0.0",
      "model_name": "HTMLStyleModel",
      "state": {
       "description_width": "",
       "font_size": null,
       "text_color": null
      }
     },
     "792b79c5b97644c290c201ae1e26ce8a": {
      "model_module": "@jupyter-widgets/base",
      "model_module_version": "2.0.0",
      "model_name": "LayoutModel",
      "state": {}
     },
     "792c5ddde0e448049f02411314188c4a": {
      "model_module": "@jupyter-widgets/controls",
      "model_module_version": "2.0.0",
      "model_name": "HTMLModel",
      "state": {
       "layout": "IPY_MODEL_2076d02158b346929edc5262f769434d",
       "style": "IPY_MODEL_602ad8ad09164c5599bd725eb96c8b5d",
       "value": "100%"
      }
     },
     "796a6e365113438eb3e5825624b35663": {
      "model_module": "@jupyter-widgets/base",
      "model_module_version": "2.0.0",
      "model_name": "LayoutModel",
      "state": {
       "visibility": "hidden"
      }
     },
     "799910ea2f1244b19298505704e6dd26": {
      "model_module": "@jupyter-widgets/base",
      "model_module_version": "2.0.0",
      "model_name": "LayoutModel",
      "state": {
       "visibility": "hidden"
      }
     },
     "7a07e447c01e4550883e196ba1269d50": {
      "model_module": "@jupyter-widgets/controls",
      "model_module_version": "2.0.0",
      "model_name": "HTMLModel",
      "state": {
       "layout": "IPY_MODEL_07e6efc1c22441ababf53f362a526ebf",
       "style": "IPY_MODEL_d4e54b740f2a4067bc81bad81f0cf9d8",
       "value": " 99%"
      }
     },
     "7a92f624c1b94049904deb1d0af1a3e1": {
      "model_module": "@jupyter-widgets/base",
      "model_module_version": "2.0.0",
      "model_name": "LayoutModel",
      "state": {}
     },
     "7acb5553438b45938f3654b1e3ecb791": {
      "model_module": "@jupyter-widgets/controls",
      "model_module_version": "2.0.0",
      "model_name": "ProgressStyleModel",
      "state": {
       "description_width": ""
      }
     },
     "7b062fc4798e4601a72ff4264796167d": {
      "model_module": "@jupyter-widgets/controls",
      "model_module_version": "2.0.0",
      "model_name": "HTMLStyleModel",
      "state": {
       "description_width": "",
       "font_size": null,
       "text_color": null
      }
     },
     "7b4d78fa15e24701b657e98d48ac0cf0": {
      "model_module": "@jupyter-widgets/controls",
      "model_module_version": "2.0.0",
      "model_name": "HTMLStyleModel",
      "state": {
       "description_width": "",
       "font_size": null,
       "text_color": null
      }
     },
     "7c0ec680834e4efaae1e8a84a3dc105e": {
      "model_module": "@jupyter-widgets/base",
      "model_module_version": "2.0.0",
      "model_name": "LayoutModel",
      "state": {}
     },
     "7d0bc319cd0a4f25817a4fd1a7f9e9b5": {
      "model_module": "@jupyter-widgets/base",
      "model_module_version": "2.0.0",
      "model_name": "LayoutModel",
      "state": {
       "visibility": "hidden"
      }
     },
     "7dfdabec884c4e219261fe949c794122": {
      "model_module": "@jupyter-widgets/controls",
      "model_module_version": "2.0.0",
      "model_name": "HTMLStyleModel",
      "state": {
       "description_width": "",
       "font_size": null,
       "text_color": null
      }
     },
     "7eaafb19d5c5419c9b0d4e3326b5f526": {
      "model_module": "@jupyter-widgets/controls",
      "model_module_version": "2.0.0",
      "model_name": "FloatProgressModel",
      "state": {
       "layout": "IPY_MODEL_70a1de664de54be0b38e5b90e751c2df",
       "max": 1000,
       "style": "IPY_MODEL_541f6135e0c24ab38d923641432acc52",
       "value": 1000
      }
     },
     "7edec99914b54bfcb112f7497fbc3a32": {
      "model_module": "@jupyter-widgets/controls",
      "model_module_version": "2.0.0",
      "model_name": "HTMLStyleModel",
      "state": {
       "description_width": "",
       "font_size": null,
       "text_color": null
      }
     },
     "7f1fa16dd51640da9abe33205d11b45d": {
      "model_module": "@jupyter-widgets/controls",
      "model_module_version": "2.0.0",
      "model_name": "ProgressStyleModel",
      "state": {
       "description_width": ""
      }
     },
     "7f6b08fa3ac8463f8f1c91e6df6959c1": {
      "model_module": "@jupyter-widgets/base",
      "model_module_version": "2.0.0",
      "model_name": "LayoutModel",
      "state": {}
     },
     "8035d580f82a4c5a9dc208a6e7b2960c": {
      "model_module": "@jupyter-widgets/base",
      "model_module_version": "2.0.0",
      "model_name": "LayoutModel",
      "state": {}
     },
     "815772a3fa544011ba8e26c5c58b27a6": {
      "model_module": "@jupyter-widgets/controls",
      "model_module_version": "2.0.0",
      "model_name": "HTMLStyleModel",
      "state": {
       "description_width": "",
       "font_size": null,
       "text_color": null
      }
     },
     "81b74754454b48e690548f9c26402915": {
      "model_module": "@jupyter-widgets/controls",
      "model_module_version": "2.0.0",
      "model_name": "FloatProgressModel",
      "state": {
       "layout": "IPY_MODEL_060acff9e6e041038ccb15941c683ff5",
       "max": 1000,
       "style": "IPY_MODEL_bd34024ff57448269a96bc0142aa273a",
       "value": 1000
      }
     },
     "81f0789baec84580b72ecc251e4796e9": {
      "model_module": "@jupyter-widgets/base",
      "model_module_version": "2.0.0",
      "model_name": "LayoutModel",
      "state": {}
     },
     "8207901a6e224ea8a81d2a15083e821e": {
      "model_module": "@jupyter-widgets/base",
      "model_module_version": "2.0.0",
      "model_name": "LayoutModel",
      "state": {
       "visibility": "hidden"
      }
     },
     "825544a0e2a24a389f485ef4c1ad3253": {
      "model_module": "@jupyter-widgets/controls",
      "model_module_version": "2.0.0",
      "model_name": "FloatProgressModel",
      "state": {
       "layout": "IPY_MODEL_c8986b3f73ba4e138b1daa59e7a5a063",
       "max": 1000,
       "style": "IPY_MODEL_45a68a24e5af4832b20e4365c4032c88",
       "value": 1000
      }
     },
     "838ec5993e7949d69d382e6d2ad7f615": {
      "model_module": "@jupyter-widgets/base",
      "model_module_version": "2.0.0",
      "model_name": "LayoutModel",
      "state": {}
     },
     "8397826e26a74191a8cebccad6bb0549": {
      "model_module": "@jupyter-widgets/controls",
      "model_module_version": "2.0.0",
      "model_name": "HTMLModel",
      "state": {
       "layout": "IPY_MODEL_550378e9c65b4a9fb4fbf48ded9dc90b",
       "style": "IPY_MODEL_a7a83953e93641268a8320032a4e14d4",
       "value": " 1000/1000 [00:04&lt;00:00, 192.40it/s]"
      }
     },
     "84b5629535004f4ba4a055960a59e7dc": {
      "model_module": "@jupyter-widgets/base",
      "model_module_version": "2.0.0",
      "model_name": "LayoutModel",
      "state": {}
     },
     "84dc7e082c13465492af7684a413ba71": {
      "model_module": "@jupyter-widgets/base",
      "model_module_version": "2.0.0",
      "model_name": "LayoutModel",
      "state": {}
     },
     "858a826f01b04e76ac90993568fbe164": {
      "model_module": "@jupyter-widgets/base",
      "model_module_version": "2.0.0",
      "model_name": "LayoutModel",
      "state": {}
     },
     "863ea8c040014c3b809d84c644a02940": {
      "model_module": "@jupyter-widgets/controls",
      "model_module_version": "2.0.0",
      "model_name": "HTMLStyleModel",
      "state": {
       "description_width": "",
       "font_size": null,
       "text_color": null
      }
     },
     "86993bfbf3d741518eeaed138cf203b8": {
      "model_module": "@jupyter-widgets/controls",
      "model_module_version": "2.0.0",
      "model_name": "HTMLModel",
      "state": {
       "layout": "IPY_MODEL_7f6b08fa3ac8463f8f1c91e6df6959c1",
       "style": "IPY_MODEL_97852303d9f44b83a9c86078c6d90298",
       "value": " 98%"
      }
     },
     "86b0f6419644495db51aa41e1fd3e6fd": {
      "model_module": "@jupyter-widgets/base",
      "model_module_version": "2.0.0",
      "model_name": "LayoutModel",
      "state": {}
     },
     "86c9ca025b7449f3b04f7e22703783fd": {
      "model_module": "@jupyter-widgets/controls",
      "model_module_version": "2.0.0",
      "model_name": "HTMLModel",
      "state": {
       "layout": "IPY_MODEL_3dde257ec49740509c57d10584558608",
       "style": "IPY_MODEL_00a96a76203c423aa446cd60162d3865",
       "value": " 1000/1000 [00:05&lt;00:00, 179.93it/s]"
      }
     },
     "86e7f828a0214cac9741879fae5843f6": {
      "model_module": "@jupyter-widgets/controls",
      "model_module_version": "2.0.0",
      "model_name": "FloatProgressModel",
      "state": {
       "bar_style": "success",
       "layout": "IPY_MODEL_ed45088348a44eb1a530b0891d647e03",
       "max": 1000,
       "style": "IPY_MODEL_b7a3cc5be6cc4e6bbcc155efabac3e6c",
       "value": 1000
      }
     },
     "87077a9ced434826a1f57d0e9b199f28": {
      "model_module": "@jupyter-widgets/base",
      "model_module_version": "2.0.0",
      "model_name": "LayoutModel",
      "state": {}
     },
     "872a4ea6cbeb42ef96b9a211680c3216": {
      "model_module": "@jupyter-widgets/controls",
      "model_module_version": "2.0.0",
      "model_name": "HTMLStyleModel",
      "state": {
       "description_width": "",
       "font_size": null,
       "text_color": null
      }
     },
     "874ff99c9d6c4b00b271277b920fc6cb": {
      "model_module": "@jupyter-widgets/base",
      "model_module_version": "2.0.0",
      "model_name": "LayoutModel",
      "state": {
       "visibility": "hidden"
      }
     },
     "87de34e306014a6d8257f0583699df07": {
      "model_module": "@jupyter-widgets/controls",
      "model_module_version": "2.0.0",
      "model_name": "HTMLModel",
      "state": {
       "layout": "IPY_MODEL_7a92f624c1b94049904deb1d0af1a3e1",
       "style": "IPY_MODEL_c9233d76f8a64d87864eab8b7ae13a7e",
       "value": " 97%"
      }
     },
     "88259474d6fc44579bd342cf2c606453": {
      "model_module": "@jupyter-widgets/controls",
      "model_module_version": "2.0.0",
      "model_name": "FloatProgressModel",
      "state": {
       "layout": "IPY_MODEL_3e2de2bd9449407ea70f46279e2d6d0f",
       "max": 1000,
       "style": "IPY_MODEL_b5b424aa84ad44b0bc2900cebb348e0b",
       "value": 1000
      }
     },
     "88433b42cc7e4cc89e1919046b4a36ab": {
      "model_module": "@jupyter-widgets/controls",
      "model_module_version": "2.0.0",
      "model_name": "HTMLStyleModel",
      "state": {
       "description_width": "",
       "font_size": null,
       "text_color": null
      }
     },
     "88bdabc1c4484fcf93966b9ca4488b86": {
      "model_module": "@jupyter-widgets/controls",
      "model_module_version": "2.0.0",
      "model_name": "ProgressStyleModel",
      "state": {
       "description_width": ""
      }
     },
     "89087d7bcc2442f4b9ec6bfa7f7e2e61": {
      "model_module": "@jupyter-widgets/controls",
      "model_module_version": "2.0.0",
      "model_name": "FloatProgressModel",
      "state": {
       "layout": "IPY_MODEL_8f71decf87e5476ab394fb741bd11def",
       "max": 1000,
       "style": "IPY_MODEL_c4e4ec9b05be4a4590994864c567a06f",
       "value": 1000
      }
     },
     "8959eaa62a8a4cc79349bc06f7eb6fa2": {
      "model_module": "@jupyter-widgets/controls",
      "model_module_version": "2.0.0",
      "model_name": "HTMLStyleModel",
      "state": {
       "description_width": "",
       "font_size": null,
       "text_color": null
      }
     },
     "8977e8909f094ce3aaa82bd6007b1f71": {
      "model_module": "@jupyter-widgets/controls",
      "model_module_version": "2.0.0",
      "model_name": "FloatProgressModel",
      "state": {
       "layout": "IPY_MODEL_e36c72cec8544eb9b042dbb554df9ede",
       "max": 1000,
       "style": "IPY_MODEL_c9b5027c545b4d819892775e4e6a7898",
       "value": 1000
      }
     },
     "89dcba5474b343d88b2bd24cedf071f4": {
      "model_module": "@jupyter-widgets/controls",
      "model_module_version": "2.0.0",
      "model_name": "ProgressStyleModel",
      "state": {
       "description_width": ""
      }
     },
     "8cf1211d82eb4b2c9c47a4d8734c87a0": {
      "model_module": "@jupyter-widgets/base",
      "model_module_version": "2.0.0",
      "model_name": "LayoutModel",
      "state": {}
     },
     "8cfe03ef68634f6696d503112de41641": {
      "model_module": "@jupyter-widgets/controls",
      "model_module_version": "2.0.0",
      "model_name": "ProgressStyleModel",
      "state": {
       "description_width": ""
      }
     },
     "8d5c6bfddafa4326953cd4c89c3d6953": {
      "model_module": "@jupyter-widgets/controls",
      "model_module_version": "2.0.0",
      "model_name": "HTMLModel",
      "state": {
       "layout": "IPY_MODEL_8cf1211d82eb4b2c9c47a4d8734c87a0",
       "style": "IPY_MODEL_012d3c4359de4641b9933a7d3694bc3c",
       "value": " 98%"
      }
     },
     "8dcee077527a478eb01626cb41aa3fbd": {
      "model_module": "@jupyter-widgets/controls",
      "model_module_version": "2.0.0",
      "model_name": "HTMLModel",
      "state": {
       "layout": "IPY_MODEL_cb31d2a0c3144fd5b2dc8d014938ced4",
       "style": "IPY_MODEL_13b15c0eec3845bfa8cd16ef49b4055b",
       "value": "100%"
      }
     },
     "8df6141bd199433f813dced38b525f18": {
      "model_module": "@jupyter-widgets/controls",
      "model_module_version": "2.0.0",
      "model_name": "HTMLModel",
      "state": {
       "layout": "IPY_MODEL_b75aae06c9954d38b81e2ee95596c906",
       "style": "IPY_MODEL_55d3eb671f5043d79d43faa12d219c48",
       "value": "100%"
      }
     },
     "8e01b9c4194741f6b8f688d17e88a57e": {
      "model_module": "@jupyter-widgets/controls",
      "model_module_version": "2.0.0",
      "model_name": "HTMLModel",
      "state": {
       "layout": "IPY_MODEL_60afd89cb04749ff8d458b1468faf01c",
       "style": "IPY_MODEL_9fd2144d7969409c8ca69b88c9f37ee6",
       "value": " 99%"
      }
     },
     "8e0de8c433714d4584a11db66aad62e6": {
      "model_module": "@jupyter-widgets/base",
      "model_module_version": "2.0.0",
      "model_name": "LayoutModel",
      "state": {
       "visibility": "hidden"
      }
     },
     "8e1df6a6a64d44ab9fb3710cf65e61ae": {
      "model_module": "@jupyter-widgets/controls",
      "model_module_version": "2.0.0",
      "model_name": "HTMLModel",
      "state": {
       "layout": "IPY_MODEL_f2d20364aab4417db0039c92829fe2cb",
       "style": "IPY_MODEL_155316a69c4542daab34b7dc9461b341",
       "value": " 1000/1000 [00:04&lt;00:00, 179.73it/s]"
      }
     },
     "8e1f1f9a70e640cf87c6446bb4bd148f": {
      "model_module": "@jupyter-widgets/controls",
      "model_module_version": "2.0.0",
      "model_name": "HTMLStyleModel",
      "state": {
       "description_width": "",
       "font_size": null,
       "text_color": null
      }
     },
     "8e243fc165974243abe717a8ce81a2f5": {
      "model_module": "@jupyter-widgets/base",
      "model_module_version": "2.0.0",
      "model_name": "LayoutModel",
      "state": {}
     },
     "8e3c0764833445cf9080b3e812cb7024": {
      "model_module": "@jupyter-widgets/base",
      "model_module_version": "2.0.0",
      "model_name": "LayoutModel",
      "state": {}
     },
     "8e5ca0955dae4e9ca9e4ea821757ffd2": {
      "model_module": "@jupyter-widgets/controls",
      "model_module_version": "2.0.0",
      "model_name": "HTMLStyleModel",
      "state": {
       "description_width": "",
       "font_size": null,
       "text_color": null
      }
     },
     "8ec2114caa014d54a4188a9f91773bc8": {
      "model_module": "@jupyter-widgets/base",
      "model_module_version": "2.0.0",
      "model_name": "LayoutModel",
      "state": {
       "visibility": "hidden"
      }
     },
     "8f71decf87e5476ab394fb741bd11def": {
      "model_module": "@jupyter-widgets/base",
      "model_module_version": "2.0.0",
      "model_name": "LayoutModel",
      "state": {}
     },
     "9091db111397403e85566b1a850f391c": {
      "model_module": "@jupyter-widgets/controls",
      "model_module_version": "2.0.0",
      "model_name": "HTMLModel",
      "state": {
       "layout": "IPY_MODEL_41fc6dc9a0694bcba6674cf9d2343816",
       "style": "IPY_MODEL_666b61e6fb30495ebf17c3d89f8374e8",
       "value": " 978/1000 [00:04&lt;00:00, 244.65it/s]"
      }
     },
     "9097ce78e75b4f3ba44dc760868b01be": {
      "model_module": "@jupyter-widgets/base",
      "model_module_version": "2.0.0",
      "model_name": "LayoutModel",
      "state": {}
     },
     "914e5b5b6edb47db9304bd24bd3eb04e": {
      "model_module": "@jupyter-widgets/base",
      "model_module_version": "2.0.0",
      "model_name": "LayoutModel",
      "state": {}
     },
     "91af09859eed4955aa42461270bf2235": {
      "model_module": "@jupyter-widgets/base",
      "model_module_version": "2.0.0",
      "model_name": "LayoutModel",
      "state": {}
     },
     "91f8165badf94258bbc283fe23b9487a": {
      "model_module": "@jupyter-widgets/controls",
      "model_module_version": "2.0.0",
      "model_name": "FloatProgressModel",
      "state": {
       "layout": "IPY_MODEL_2c365c335abc48b9ba55eb6c83656b84",
       "max": 1000,
       "style": "IPY_MODEL_88bdabc1c4484fcf93966b9ca4488b86",
       "value": 1000
      }
     },
     "928fcc3cdfbc4ebe8adaf4f88ce599b2": {
      "model_module": "@jupyter-widgets/controls",
      "model_module_version": "2.0.0",
      "model_name": "HTMLStyleModel",
      "state": {
       "description_width": "",
       "font_size": null,
       "text_color": null
      }
     },
     "9419cc7ba4904e13a980f2c90e63bfad": {
      "model_module": "@jupyter-widgets/controls",
      "model_module_version": "2.0.0",
      "model_name": "FloatProgressModel",
      "state": {
       "layout": "IPY_MODEL_22d288538c6546c0af3d0eddd3972ca0",
       "max": 1000,
       "style": "IPY_MODEL_696e6789ed3f492a89d0ce521b82bd41",
       "value": 1000
      }
     },
     "9420ed6f6ac946d1bedf0dfeec05b43e": {
      "model_module": "@jupyter-widgets/controls",
      "model_module_version": "2.0.0",
      "model_name": "HTMLModel",
      "state": {
       "layout": "IPY_MODEL_7c0ec680834e4efaae1e8a84a3dc105e",
       "style": "IPY_MODEL_0abe56a5d41742e39e76d667e00d8304",
       "value": " 974/1000 [00:04&lt;00:00, 249.51it/s]"
      }
     },
     "9535358ebd654f05a8669d5dec6fa220": {
      "model_module": "@jupyter-widgets/controls",
      "model_module_version": "2.0.0",
      "model_name": "FloatProgressModel",
      "state": {
       "layout": "IPY_MODEL_66a0767bd02740eea3590a3d97bdaa47",
       "max": 1000,
       "style": "IPY_MODEL_d45b485a78cf4646aeccbaaf4d036574",
       "value": 1000
      }
     },
     "95391ac70b40447a9dfcb5dbf516be48": {
      "model_module": "@jupyter-widgets/controls",
      "model_module_version": "2.0.0",
      "model_name": "ProgressStyleModel",
      "state": {
       "description_width": ""
      }
     },
     "96b2fa95acf749f788089bc664dc2da2": {
      "model_module": "@jupyter-widgets/base",
      "model_module_version": "2.0.0",
      "model_name": "LayoutModel",
      "state": {}
     },
     "96dd5982d2a948c6a4c50baded65ea4f": {
      "model_module": "@jupyter-widgets/controls",
      "model_module_version": "2.0.0",
      "model_name": "HTMLModel",
      "state": {
       "layout": "IPY_MODEL_69356ae330854e3f846dc855bed23f12",
       "style": "IPY_MODEL_110c546699f44b37b60480d8ac038a9e",
       "value": " 973/1000 [00:04&lt;00:00, 243.39it/s]"
      }
     },
     "97852303d9f44b83a9c86078c6d90298": {
      "model_module": "@jupyter-widgets/controls",
      "model_module_version": "2.0.0",
      "model_name": "HTMLStyleModel",
      "state": {
       "description_width": "",
       "font_size": null,
       "text_color": null
      }
     },
     "9807c2444b9d4a64ab6c08c0d22b0fb4": {
      "model_module": "@jupyter-widgets/base",
      "model_module_version": "2.0.0",
      "model_name": "LayoutModel",
      "state": {}
     },
     "9851ad3d3b16488db429b72e42daf839": {
      "model_module": "@jupyter-widgets/base",
      "model_module_version": "2.0.0",
      "model_name": "LayoutModel",
      "state": {}
     },
     "98ec608f4adf4242a4e765934a9da370": {
      "model_module": "@jupyter-widgets/base",
      "model_module_version": "2.0.0",
      "model_name": "LayoutModel",
      "state": {}
     },
     "9926748720d74597beb3c46644a57eea": {
      "model_module": "@jupyter-widgets/base",
      "model_module_version": "2.0.0",
      "model_name": "LayoutModel",
      "state": {}
     },
     "992757e76b3c42808b168c93cc307bfa": {
      "model_module": "@jupyter-widgets/controls",
      "model_module_version": "2.0.0",
      "model_name": "HTMLModel",
      "state": {
       "layout": "IPY_MODEL_ef54d5b54be841268ca79e473658f865",
       "style": "IPY_MODEL_abc01fe6c37b42df91948e50cda807ed",
       "value": " 978/1000 [00:04&lt;00:00, 252.08it/s]"
      }
     },
     "9a435fdc207c43eb984223dfd1301c44": {
      "model_module": "@jupyter-widgets/controls",
      "model_module_version": "2.0.0",
      "model_name": "HTMLStyleModel",
      "state": {
       "description_width": "",
       "font_size": null,
       "text_color": null
      }
     },
     "9abc435b255d468988e0e220475fe4eb": {
      "model_module": "@jupyter-widgets/controls",
      "model_module_version": "2.0.0",
      "model_name": "ProgressStyleModel",
      "state": {
       "description_width": ""
      }
     },
     "9c5458cb5d824ebb9074ca22f8612eac": {
      "model_module": "@jupyter-widgets/controls",
      "model_module_version": "2.0.0",
      "model_name": "HTMLStyleModel",
      "state": {
       "description_width": "",
       "font_size": null,
       "text_color": null
      }
     },
     "9d7d9e91cc7041c691f57b852aaa9e33": {
      "model_module": "@jupyter-widgets/controls",
      "model_module_version": "2.0.0",
      "model_name": "FloatProgressModel",
      "state": {
       "layout": "IPY_MODEL_c485f667a8ed4b759a99e309ab062686",
       "max": 1000,
       "style": "IPY_MODEL_28fd95e67dfb4d84ae092638140c22de",
       "value": 1000
      }
     },
     "9de346c96c7b44afa179dfd229d61c06": {
      "model_module": "@jupyter-widgets/controls",
      "model_module_version": "2.0.0",
      "model_name": "HTMLStyleModel",
      "state": {
       "description_width": "",
       "font_size": null,
       "text_color": null
      }
     },
     "9df30776cb4842b39654e3dbcf2bc964": {
      "model_module": "@jupyter-widgets/controls",
      "model_module_version": "2.0.0",
      "model_name": "HBoxModel",
      "state": {
       "children": [
        "IPY_MODEL_06a3023a4f8f4d4b9832cc43a96f9be5",
        "IPY_MODEL_d72e97aec43a42f7a0298bc0ae480b36",
        "IPY_MODEL_0e2589b0b3cd4a48b87f3623abed0622"
       ],
       "layout": "IPY_MODEL_d4c0d3c2483a429e827a326b65f470bd"
      }
     },
     "9ebfa43405cf4ca3a0aad31d6344f5aa": {
      "model_module": "@jupyter-widgets/base",
      "model_module_version": "2.0.0",
      "model_name": "LayoutModel",
      "state": {}
     },
     "9ef7e84329dc4ac2ba1964d120e3d47e": {
      "model_module": "@jupyter-widgets/controls",
      "model_module_version": "2.0.0",
      "model_name": "HTMLModel",
      "state": {
       "layout": "IPY_MODEL_077bec00b71a4dd3892b4359202ff92a",
       "style": "IPY_MODEL_5efc2933e17344edaca041ffc560dded",
       "value": " 975/1000 [00:04&lt;00:00, 248.81it/s]"
      }
     },
     "9f9f1372e105402ca506b9c4a2172d1c": {
      "model_module": "@jupyter-widgets/controls",
      "model_module_version": "2.0.0",
      "model_name": "FloatProgressModel",
      "state": {
       "layout": "IPY_MODEL_2fbb3995bda14050aea6df70fc819745",
       "max": 1000,
       "style": "IPY_MODEL_6489ad87ad9b42a293f01333ce3a1d7a",
       "value": 1000
      }
     },
     "9fd2144d7969409c8ca69b88c9f37ee6": {
      "model_module": "@jupyter-widgets/controls",
      "model_module_version": "2.0.0",
      "model_name": "HTMLStyleModel",
      "state": {
       "description_width": "",
       "font_size": null,
       "text_color": null
      }
     },
     "a01de81a573943609ce76f1dd1cd8c5e": {
      "model_module": "@jupyter-widgets/base",
      "model_module_version": "2.0.0",
      "model_name": "LayoutModel",
      "state": {}
     },
     "a02c455a947c416f94d256f51a88f2ae": {
      "model_module": "@jupyter-widgets/controls",
      "model_module_version": "2.0.0",
      "model_name": "HTMLModel",
      "state": {
       "layout": "IPY_MODEL_91af09859eed4955aa42461270bf2235",
       "style": "IPY_MODEL_03b38c1bce1640afaea6b28d4c883e7d",
       "value": " 980/1000 [00:04&lt;00:00, 254.76it/s]"
      }
     },
     "a11f87c2d8164111bab72727e57db81b": {
      "model_module": "@jupyter-widgets/controls",
      "model_module_version": "2.0.0",
      "model_name": "HTMLStyleModel",
      "state": {
       "description_width": "",
       "font_size": null,
       "text_color": null
      }
     },
     "a1ac0ca726cb4dfba68f949ca9313a5c": {
      "model_module": "@jupyter-widgets/controls",
      "model_module_version": "2.0.0",
      "model_name": "FloatProgressModel",
      "state": {
       "layout": "IPY_MODEL_cda881535fd648cc93bd0cd80d440bbe",
       "max": 1000,
       "style": "IPY_MODEL_2c3dbf59aca249089ddb5b1e8d02cd4b",
       "value": 1000
      }
     },
     "a1d1496c8216469d8420145d2f0438d0": {
      "model_module": "@jupyter-widgets/controls",
      "model_module_version": "2.0.0",
      "model_name": "ProgressStyleModel",
      "state": {
       "description_width": ""
      }
     },
     "a3b17e8ec75c4e6a94f3a63f7711bb5e": {
      "model_module": "@jupyter-widgets/controls",
      "model_module_version": "2.0.0",
      "model_name": "FloatProgressModel",
      "state": {
       "layout": "IPY_MODEL_3f2c468336284b24897e2641263d2212",
       "max": 1000,
       "style": "IPY_MODEL_62f9782730224c29bff16bdc93755fb4",
       "value": 1000
      }
     },
     "a5a4db826e5a4568b1d0fa4f46e5a2aa": {
      "model_module": "@jupyter-widgets/controls",
      "model_module_version": "2.0.0",
      "model_name": "FloatProgressModel",
      "state": {
       "layout": "IPY_MODEL_c9f47f78195e41fbbc4cdb3377914cbc",
       "max": 1000,
       "style": "IPY_MODEL_bd1a57c6f1024b6bb75d533c5073e398",
       "value": 1000
      }
     },
     "a5a6c6c65a0949228ef18d46209996de": {
      "model_module": "@jupyter-widgets/controls",
      "model_module_version": "2.0.0",
      "model_name": "ProgressStyleModel",
      "state": {
       "description_width": ""
      }
     },
     "a6ff031f15f74308aa282675a1432134": {
      "model_module": "@jupyter-widgets/controls",
      "model_module_version": "2.0.0",
      "model_name": "HTMLModel",
      "state": {
       "layout": "IPY_MODEL_2eb008591b65431383644b81f0d06cc7",
       "style": "IPY_MODEL_bb9d8c596c5c498c9d7ae64774910622",
       "value": " 50/50 [03:58&lt;00:00,  4.71s/it]"
      }
     },
     "a738fb74d4d44e47b3a4ab3e8eaf5cca": {
      "model_module": "@jupyter-widgets/base",
      "model_module_version": "2.0.0",
      "model_name": "LayoutModel",
      "state": {}
     },
     "a7a83953e93641268a8320032a4e14d4": {
      "model_module": "@jupyter-widgets/controls",
      "model_module_version": "2.0.0",
      "model_name": "HTMLStyleModel",
      "state": {
       "description_width": "",
       "font_size": null,
       "text_color": null
      }
     },
     "a8078d0390614bb08b56c6bd36367816": {
      "model_module": "@jupyter-widgets/base",
      "model_module_version": "2.0.0",
      "model_name": "LayoutModel",
      "state": {}
     },
     "a9b25b15a21948ecb5d0ff59fe13c76d": {
      "model_module": "@jupyter-widgets/controls",
      "model_module_version": "2.0.0",
      "model_name": "HTMLModel",
      "state": {
       "layout": "IPY_MODEL_03a47407574642d5a9c6ee9838058c24",
       "style": "IPY_MODEL_39489de6146544c48ce3555e38041473",
       "value": " 993/1000 [00:04&lt;00:00, 240.57it/s]"
      }
     },
     "a9eb5d785c9c45a7910729f34a6866f8": {
      "model_module": "@jupyter-widgets/controls",
      "model_module_version": "2.0.0",
      "model_name": "HTMLStyleModel",
      "state": {
       "description_width": "",
       "font_size": null,
       "text_color": null
      }
     },
     "aad2c6790e7c45c1a17d802a041523fa": {
      "model_module": "@jupyter-widgets/base",
      "model_module_version": "2.0.0",
      "model_name": "LayoutModel",
      "state": {}
     },
     "ab0c11d808654c17a2e9085ef0af6ec7": {
      "model_module": "@jupyter-widgets/controls",
      "model_module_version": "2.0.0",
      "model_name": "ProgressStyleModel",
      "state": {
       "description_width": ""
      }
     },
     "ab6c893a85b2407e97a1bd7543a5063c": {
      "model_module": "@jupyter-widgets/controls",
      "model_module_version": "2.0.0",
      "model_name": "FloatProgressModel",
      "state": {
       "layout": "IPY_MODEL_bd2d6d1f61e24c98a63c31af6fd34491",
       "max": 1000,
       "style": "IPY_MODEL_676779193e0b4b9a9628b0625cd9a7ea",
       "value": 1000
      }
     },
     "ab736297fd374a1c87de1204f069c5d7": {
      "model_module": "@jupyter-widgets/controls",
      "model_module_version": "2.0.0",
      "model_name": "FloatProgressModel",
      "state": {
       "layout": "IPY_MODEL_838ec5993e7949d69d382e6d2ad7f615",
       "max": 1000,
       "style": "IPY_MODEL_ce06cfd291b5409b8045e8f045624053",
       "value": 1000
      }
     },
     "abc01fe6c37b42df91948e50cda807ed": {
      "model_module": "@jupyter-widgets/controls",
      "model_module_version": "2.0.0",
      "model_name": "HTMLStyleModel",
      "state": {
       "description_width": "",
       "font_size": null,
       "text_color": null
      }
     },
     "ac5fa9810f2b4edca853da70b6580078": {
      "model_module": "@jupyter-widgets/controls",
      "model_module_version": "2.0.0",
      "model_name": "HTMLModel",
      "state": {
       "layout": "IPY_MODEL_dfcc825e4580448ba2199bfd8cf1a392",
       "style": "IPY_MODEL_c63f165f105b4d9a8d2deb4083811caa",
       "value": " 98%"
      }
     },
     "ace4f36f41d64c34aeac9ea805f284e6": {
      "model_module": "@jupyter-widgets/base",
      "model_module_version": "2.0.0",
      "model_name": "LayoutModel",
      "state": {}
     },
     "ae9f2765bd8b4227ad68b190f4faca5c": {
      "model_module": "@jupyter-widgets/base",
      "model_module_version": "2.0.0",
      "model_name": "LayoutModel",
      "state": {
       "visibility": "hidden"
      }
     },
     "aea9440c17294762938c2b5ea96573bb": {
      "model_module": "@jupyter-widgets/base",
      "model_module_version": "2.0.0",
      "model_name": "LayoutModel",
      "state": {}
     },
     "af1baf9182b7480fab61bbe1df71a511": {
      "model_module": "@jupyter-widgets/base",
      "model_module_version": "2.0.0",
      "model_name": "LayoutModel",
      "state": {
       "visibility": "hidden"
      }
     },
     "afbed5e6599649c897297d80b21430f0": {
      "model_module": "@jupyter-widgets/controls",
      "model_module_version": "2.0.0",
      "model_name": "HTMLModel",
      "state": {
       "layout": "IPY_MODEL_c4e419c6712e40b9985bc5dbc8d12a47",
       "style": "IPY_MODEL_6a26fb8f7d844a43bdef0721ac05445f",
       "value": "100%"
      }
     },
     "aff4eb078cbd41808763ae789296a57a": {
      "model_module": "@jupyter-widgets/base",
      "model_module_version": "2.0.0",
      "model_name": "LayoutModel",
      "state": {}
     },
     "b030676052ff435a8d07acbbd85ffd3d": {
      "model_module": "@jupyter-widgets/base",
      "model_module_version": "2.0.0",
      "model_name": "LayoutModel",
      "state": {}
     },
     "b038c4320da147a3aeebc7ba0fb4accf": {
      "model_module": "@jupyter-widgets/controls",
      "model_module_version": "2.0.0",
      "model_name": "HTMLStyleModel",
      "state": {
       "description_width": "",
       "font_size": null,
       "text_color": null
      }
     },
     "b150014ac44740a2aa77e12e57ae812b": {
      "model_module": "@jupyter-widgets/base",
      "model_module_version": "2.0.0",
      "model_name": "LayoutModel",
      "state": {}
     },
     "b27e9acd84b04a09a083ac26c1e2cfeb": {
      "model_module": "@jupyter-widgets/controls",
      "model_module_version": "2.0.0",
      "model_name": "HTMLStyleModel",
      "state": {
       "description_width": "",
       "font_size": null,
       "text_color": null
      }
     },
     "b3589eb86763486b9d85d2c5b4195407": {
      "model_module": "@jupyter-widgets/base",
      "model_module_version": "2.0.0",
      "model_name": "LayoutModel",
      "state": {}
     },
     "b375a285e2224f9fb98443f32bf925e7": {
      "model_module": "@jupyter-widgets/controls",
      "model_module_version": "2.0.0",
      "model_name": "HTMLModel",
      "state": {
       "layout": "IPY_MODEL_59231b742d99470cb7a751a8548cd964",
       "style": "IPY_MODEL_e068ec4702e14660b48f015415c3f5b6",
       "value": " 994/1000 [00:04&lt;00:00, 243.40it/s]"
      }
     },
     "b4940073a2e44b878138862ad2dc82c6": {
      "model_module": "@jupyter-widgets/base",
      "model_module_version": "2.0.0",
      "model_name": "LayoutModel",
      "state": {
       "visibility": "hidden"
      }
     },
     "b586f24e7ed8430691b4edd643072754": {
      "model_module": "@jupyter-widgets/controls",
      "model_module_version": "2.0.0",
      "model_name": "ProgressStyleModel",
      "state": {
       "description_width": ""
      }
     },
     "b5b424aa84ad44b0bc2900cebb348e0b": {
      "model_module": "@jupyter-widgets/controls",
      "model_module_version": "2.0.0",
      "model_name": "ProgressStyleModel",
      "state": {
       "description_width": ""
      }
     },
     "b66428ea72f54b879ab203df75554a58": {
      "model_module": "@jupyter-widgets/base",
      "model_module_version": "2.0.0",
      "model_name": "LayoutModel",
      "state": {}
     },
     "b67bfdf0a44b40f3930bdc91f909a8b7": {
      "model_module": "@jupyter-widgets/controls",
      "model_module_version": "2.0.0",
      "model_name": "FloatProgressModel",
      "state": {
       "layout": "IPY_MODEL_e24de5f9b00441bfb87a903a50686426",
       "max": 1000,
       "style": "IPY_MODEL_778df62de85e482a823103dbf24ccd59",
       "value": 1000
      }
     },
     "b75aae06c9954d38b81e2ee95596c906": {
      "model_module": "@jupyter-widgets/base",
      "model_module_version": "2.0.0",
      "model_name": "LayoutModel",
      "state": {}
     },
     "b7a3cc5be6cc4e6bbcc155efabac3e6c": {
      "model_module": "@jupyter-widgets/controls",
      "model_module_version": "2.0.0",
      "model_name": "ProgressStyleModel",
      "state": {
       "description_width": ""
      }
     },
     "b7f48f3e4e774d569090287972549c86": {
      "model_module": "@jupyter-widgets/controls",
      "model_module_version": "2.0.0",
      "model_name": "HTMLModel",
      "state": {
       "layout": "IPY_MODEL_aff4eb078cbd41808763ae789296a57a",
       "style": "IPY_MODEL_ed6b49eeaeea4fcfa78f02c85122aa34",
       "value": " 974/1000 [00:04&lt;00:00, 246.27it/s]"
      }
     },
     "b92f181f0bd64469b3619ebd3dd33aef": {
      "model_module": "@jupyter-widgets/controls",
      "model_module_version": "2.0.0",
      "model_name": "HTMLModel",
      "state": {
       "layout": "IPY_MODEL_e489c77e0a9544b8b863a99834d86542",
       "style": "IPY_MODEL_30f46fadfa614b8dbd5910603b70f1e7",
       "value": "100%"
      }
     },
     "b9363dc3114343879ee664183a172c1f": {
      "model_module": "@jupyter-widgets/base",
      "model_module_version": "2.0.0",
      "model_name": "LayoutModel",
      "state": {}
     },
     "ba457923d98f449e99bb68a6b7b134d2": {
      "model_module": "@jupyter-widgets/base",
      "model_module_version": "2.0.0",
      "model_name": "LayoutModel",
      "state": {
       "visibility": "hidden"
      }
     },
     "bb1645f6ae2c42a8816a92a7c5471923": {
      "model_module": "@jupyter-widgets/controls",
      "model_module_version": "2.0.0",
      "model_name": "HTMLStyleModel",
      "state": {
       "description_width": "",
       "font_size": null,
       "text_color": null
      }
     },
     "bb9d8c596c5c498c9d7ae64774910622": {
      "model_module": "@jupyter-widgets/controls",
      "model_module_version": "2.0.0",
      "model_name": "HTMLStyleModel",
      "state": {
       "description_width": "",
       "font_size": null,
       "text_color": null
      }
     },
     "bbfaa00ef1b74425bb6d483d1e406b95": {
      "model_module": "@jupyter-widgets/base",
      "model_module_version": "2.0.0",
      "model_name": "LayoutModel",
      "state": {}
     },
     "bc5804471d2646bc8eb446f70e570477": {
      "model_module": "@jupyter-widgets/base",
      "model_module_version": "2.0.0",
      "model_name": "LayoutModel",
      "state": {
       "visibility": "hidden"
      }
     },
     "bd1a57c6f1024b6bb75d533c5073e398": {
      "model_module": "@jupyter-widgets/controls",
      "model_module_version": "2.0.0",
      "model_name": "ProgressStyleModel",
      "state": {
       "description_width": ""
      }
     },
     "bd2d6d1f61e24c98a63c31af6fd34491": {
      "model_module": "@jupyter-widgets/base",
      "model_module_version": "2.0.0",
      "model_name": "LayoutModel",
      "state": {}
     },
     "bd34024ff57448269a96bc0142aa273a": {
      "model_module": "@jupyter-widgets/controls",
      "model_module_version": "2.0.0",
      "model_name": "ProgressStyleModel",
      "state": {
       "description_width": ""
      }
     },
     "bd84f9ef40a845ea8a476442dfe71f36": {
      "model_module": "@jupyter-widgets/base",
      "model_module_version": "2.0.0",
      "model_name": "LayoutModel",
      "state": {
       "visibility": "hidden"
      }
     },
     "bdb5c51a2be94979b939d6171d94ab4e": {
      "model_module": "@jupyter-widgets/controls",
      "model_module_version": "2.0.0",
      "model_name": "HTMLModel",
      "state": {
       "layout": "IPY_MODEL_8e243fc165974243abe717a8ce81a2f5",
       "style": "IPY_MODEL_f4991f49a57c4b0b8a13c940e6d44415",
       "value": "100%"
      }
     },
     "bdce38603fe449cc894e33f27b81d49b": {
      "model_module": "@jupyter-widgets/controls",
      "model_module_version": "2.0.0",
      "model_name": "HTMLStyleModel",
      "state": {
       "description_width": "",
       "font_size": null,
       "text_color": null
      }
     },
     "bdf01cc9d49740ceaa6547156c90027f": {
      "model_module": "@jupyter-widgets/controls",
      "model_module_version": "2.0.0",
      "model_name": "ProgressStyleModel",
      "state": {
       "description_width": ""
      }
     },
     "bf181b99b9f24d82913c9dfd58ced041": {
      "model_module": "@jupyter-widgets/controls",
      "model_module_version": "2.0.0",
      "model_name": "HTMLModel",
      "state": {
       "layout": "IPY_MODEL_ef713f168e1b4c319a6480b0e11ef107",
       "style": "IPY_MODEL_fecefcc131ed4a34bf66f740d862f0f3",
       "value": " 99%"
      }
     },
     "bf1e7d5b9bf24e22b4a1bf926398671f": {
      "model_module": "@jupyter-widgets/controls",
      "model_module_version": "2.0.0",
      "model_name": "HTMLStyleModel",
      "state": {
       "description_width": "",
       "font_size": null,
       "text_color": null
      }
     },
     "bfac832d107b4cdfa769ad696eed1ca1": {
      "model_module": "@jupyter-widgets/controls",
      "model_module_version": "2.0.0",
      "model_name": "ProgressStyleModel",
      "state": {
       "description_width": ""
      }
     },
     "bfffe7bc1c2747bbbe38052c2c8b3308": {
      "model_module": "@jupyter-widgets/base",
      "model_module_version": "2.0.0",
      "model_name": "LayoutModel",
      "state": {}
     },
     "c129a71d99b5484cb9cbafd16e522fa3": {
      "model_module": "@jupyter-widgets/base",
      "model_module_version": "2.0.0",
      "model_name": "LayoutModel",
      "state": {}
     },
     "c1ead9d6d4b54144be1d441576ba2273": {
      "model_module": "@jupyter-widgets/controls",
      "model_module_version": "2.0.0",
      "model_name": "HTMLStyleModel",
      "state": {
       "description_width": "",
       "font_size": null,
       "text_color": null
      }
     },
     "c211c5df72d041129d222ec947387646": {
      "model_module": "@jupyter-widgets/base",
      "model_module_version": "2.0.0",
      "model_name": "LayoutModel",
      "state": {}
     },
     "c22c62fc1fac445ca379b6255889050b": {
      "model_module": "@jupyter-widgets/controls",
      "model_module_version": "2.0.0",
      "model_name": "HTMLStyleModel",
      "state": {
       "description_width": "",
       "font_size": null,
       "text_color": null
      }
     },
     "c4425446a82a4bc59917a97ddc1e8e48": {
      "model_module": "@jupyter-widgets/base",
      "model_module_version": "2.0.0",
      "model_name": "LayoutModel",
      "state": {
       "visibility": "hidden"
      }
     },
     "c4441e484d344865a5d2c99cd33fa34f": {
      "model_module": "@jupyter-widgets/controls",
      "model_module_version": "2.0.0",
      "model_name": "HTMLModel",
      "state": {
       "layout": "IPY_MODEL_efe9d32f2bfd4546866ed22fe97ba744",
       "style": "IPY_MODEL_3638d155bb264d0f9ad599997fd8aef9",
       "value": " 97%"
      }
     },
     "c485f667a8ed4b759a99e309ab062686": {
      "model_module": "@jupyter-widgets/base",
      "model_module_version": "2.0.0",
      "model_name": "LayoutModel",
      "state": {}
     },
     "c4a168a746a94c059f6891e3e60e04d8": {
      "model_module": "@jupyter-widgets/controls",
      "model_module_version": "2.0.0",
      "model_name": "FloatProgressModel",
      "state": {
       "layout": "IPY_MODEL_e66916e2f8b943f3a5f245579cdd5dea",
       "max": 1000,
       "style": "IPY_MODEL_05213d7501264a7f841eef054fd7e1d3",
       "value": 1000
      }
     },
     "c4e419c6712e40b9985bc5dbc8d12a47": {
      "model_module": "@jupyter-widgets/base",
      "model_module_version": "2.0.0",
      "model_name": "LayoutModel",
      "state": {}
     },
     "c4e4ec9b05be4a4590994864c567a06f": {
      "model_module": "@jupyter-widgets/controls",
      "model_module_version": "2.0.0",
      "model_name": "ProgressStyleModel",
      "state": {
       "description_width": ""
      }
     },
     "c4f1e8d76a884bdabee5f8f1e2763318": {
      "model_module": "@jupyter-widgets/controls",
      "model_module_version": "2.0.0",
      "model_name": "HTMLModel",
      "state": {
       "layout": "IPY_MODEL_428691da34e94c51bb6d463a753b5813",
       "style": "IPY_MODEL_fc78aa5aae8a4d2882905fb3cf926b8c",
       "value": " 988/1000 [00:04&lt;00:00, 258.37it/s]"
      }
     },
     "c4f2ab225ece44d4a70b5a4fb172b111": {
      "model_module": "@jupyter-widgets/base",
      "model_module_version": "2.0.0",
      "model_name": "LayoutModel",
      "state": {}
     },
     "c510ee6e11f747fe8d1966f4815f90f8": {
      "model_module": "@jupyter-widgets/base",
      "model_module_version": "2.0.0",
      "model_name": "LayoutModel",
      "state": {}
     },
     "c5942a9bb10e44d3822819b627458a36": {
      "model_module": "@jupyter-widgets/controls",
      "model_module_version": "2.0.0",
      "model_name": "HTMLModel",
      "state": {
       "layout": "IPY_MODEL_d3dc9e8ffb5c430c9471817a07167e9d",
       "style": "IPY_MODEL_f6e02cffe58248b7bf441e630e31efc7",
       "value": " 998/1000 [00:04&lt;00:00, 255.48it/s]"
      }
     },
     "c59c2efd41774c6e8401a8b126e0edde": {
      "model_module": "@jupyter-widgets/base",
      "model_module_version": "2.0.0",
      "model_name": "LayoutModel",
      "state": {}
     },
     "c63f165f105b4d9a8d2deb4083811caa": {
      "model_module": "@jupyter-widgets/controls",
      "model_module_version": "2.0.0",
      "model_name": "HTMLStyleModel",
      "state": {
       "description_width": "",
       "font_size": null,
       "text_color": null
      }
     },
     "c66a5f0ee5d64550bb89482a70100ea7": {
      "model_module": "@jupyter-widgets/controls",
      "model_module_version": "2.0.0",
      "model_name": "ProgressStyleModel",
      "state": {
       "description_width": ""
      }
     },
     "c728346b2a9b43bcabae75f6114c060a": {
      "model_module": "@jupyter-widgets/base",
      "model_module_version": "2.0.0",
      "model_name": "LayoutModel",
      "state": {}
     },
     "c7db8e917aca4fae836d48220e23461f": {
      "model_module": "@jupyter-widgets/base",
      "model_module_version": "2.0.0",
      "model_name": "LayoutModel",
      "state": {
       "visibility": "hidden"
      }
     },
     "c8986b3f73ba4e138b1daa59e7a5a063": {
      "model_module": "@jupyter-widgets/base",
      "model_module_version": "2.0.0",
      "model_name": "LayoutModel",
      "state": {}
     },
     "c8ce954b4b7b44efa1a08aa2405e76d2": {
      "model_module": "@jupyter-widgets/controls",
      "model_module_version": "2.0.0",
      "model_name": "HTMLModel",
      "state": {
       "layout": "IPY_MODEL_bbfaa00ef1b74425bb6d483d1e406b95",
       "style": "IPY_MODEL_9a435fdc207c43eb984223dfd1301c44",
       "value": "100%"
      }
     },
     "c91c563217aa479d85a0cc2c079b4c9d": {
      "model_module": "@jupyter-widgets/controls",
      "model_module_version": "2.0.0",
      "model_name": "HTMLStyleModel",
      "state": {
       "description_width": "",
       "font_size": null,
       "text_color": null
      }
     },
     "c9233d76f8a64d87864eab8b7ae13a7e": {
      "model_module": "@jupyter-widgets/controls",
      "model_module_version": "2.0.0",
      "model_name": "HTMLStyleModel",
      "state": {
       "description_width": "",
       "font_size": null,
       "text_color": null
      }
     },
     "c9b5027c545b4d819892775e4e6a7898": {
      "model_module": "@jupyter-widgets/controls",
      "model_module_version": "2.0.0",
      "model_name": "ProgressStyleModel",
      "state": {
       "description_width": ""
      }
     },
     "c9f47f78195e41fbbc4cdb3377914cbc": {
      "model_module": "@jupyter-widgets/base",
      "model_module_version": "2.0.0",
      "model_name": "LayoutModel",
      "state": {}
     },
     "cac7d217a3d740eb931da990986faec5": {
      "model_module": "@jupyter-widgets/base",
      "model_module_version": "2.0.0",
      "model_name": "LayoutModel",
      "state": {}
     },
     "cb31d2a0c3144fd5b2dc8d014938ced4": {
      "model_module": "@jupyter-widgets/base",
      "model_module_version": "2.0.0",
      "model_name": "LayoutModel",
      "state": {}
     },
     "cb827dc0c6204a6b8fe3e9b34525749f": {
      "model_module": "@jupyter-widgets/controls",
      "model_module_version": "2.0.0",
      "model_name": "HTMLStyleModel",
      "state": {
       "description_width": "",
       "font_size": null,
       "text_color": null
      }
     },
     "cd73c65f25884d578e043d6388b4da6f": {
      "model_module": "@jupyter-widgets/controls",
      "model_module_version": "2.0.0",
      "model_name": "HTMLStyleModel",
      "state": {
       "description_width": "",
       "font_size": null,
       "text_color": null
      }
     },
     "cda881535fd648cc93bd0cd80d440bbe": {
      "model_module": "@jupyter-widgets/base",
      "model_module_version": "2.0.0",
      "model_name": "LayoutModel",
      "state": {}
     },
     "cdc34b72eee644159099a9606059b0f6": {
      "model_module": "@jupyter-widgets/controls",
      "model_module_version": "2.0.0",
      "model_name": "HTMLModel",
      "state": {
       "layout": "IPY_MODEL_d62ec81fde7144c08698c42013a79bfc",
       "style": "IPY_MODEL_0be5a0e16dcb4d3fb9d86cfbbe8d6ad3",
       "value": " 98%"
      }
     },
     "ce06cfd291b5409b8045e8f045624053": {
      "model_module": "@jupyter-widgets/controls",
      "model_module_version": "2.0.0",
      "model_name": "ProgressStyleModel",
      "state": {
       "description_width": ""
      }
     },
     "cf6bfd4de23e4f6db4ccf09a32a227dc": {
      "model_module": "@jupyter-widgets/base",
      "model_module_version": "2.0.0",
      "model_name": "LayoutModel",
      "state": {}
     },
     "cfd0aa8d33b7408bb04bc4e73a4f5555": {
      "model_module": "@jupyter-widgets/controls",
      "model_module_version": "2.0.0",
      "model_name": "HTMLModel",
      "state": {
       "layout": "IPY_MODEL_1a3181f0b7c3400b845a6bfa9cad2fcc",
       "style": "IPY_MODEL_f6ea91d97b9545aab83e693da55d4d20",
       "value": " 1000/1000 [00:04&lt;00:00, 189.11it/s]"
      }
     },
     "d07f0f244e9c45349c9b5dd7e5d3a38c": {
      "model_module": "@jupyter-widgets/controls",
      "model_module_version": "2.0.0",
      "model_name": "HTMLModel",
      "state": {
       "layout": "IPY_MODEL_0a18a960352540799b7e2f1166d2641d",
       "style": "IPY_MODEL_60c7d52e89344ad5a2573905f37f406a",
       "value": " 1000/1000 [00:04&lt;00:00, 184.46it/s]"
      }
     },
     "d0b68731780745ae94eb933b9964ee33": {
      "model_module": "@jupyter-widgets/controls",
      "model_module_version": "2.0.0",
      "model_name": "HTMLModel",
      "state": {
       "layout": "IPY_MODEL_914e5b5b6edb47db9304bd24bd3eb04e",
       "style": "IPY_MODEL_6e1dfcf7a4944878af82387ddd1fd4e1",
       "value": " 974/1000 [00:04&lt;00:00, 234.72it/s]"
      }
     },
     "d10c78c69257481ea26071000a4920ce": {
      "model_module": "@jupyter-widgets/controls",
      "model_module_version": "2.0.0",
      "model_name": "HTMLStyleModel",
      "state": {
       "description_width": "",
       "font_size": null,
       "text_color": null
      }
     },
     "d1c44402ae4e4dc794880a70bd431e0d": {
      "model_module": "@jupyter-widgets/controls",
      "model_module_version": "2.0.0",
      "model_name": "FloatProgressModel",
      "state": {
       "layout": "IPY_MODEL_3214510921bf40de9232e3ffbe3921a0",
       "max": 1000,
       "style": "IPY_MODEL_36e298ef834f43c0b0e2e37ad1044652",
       "value": 1000
      }
     },
     "d3dc9e8ffb5c430c9471817a07167e9d": {
      "model_module": "@jupyter-widgets/base",
      "model_module_version": "2.0.0",
      "model_name": "LayoutModel",
      "state": {}
     },
     "d3ecd546da5a45beaa2b44cdb0c87ca2": {
      "model_module": "@jupyter-widgets/base",
      "model_module_version": "2.0.0",
      "model_name": "LayoutModel",
      "state": {}
     },
     "d42892404f7b41a683ba6c060900741c": {
      "model_module": "@jupyter-widgets/controls",
      "model_module_version": "2.0.0",
      "model_name": "HTMLModel",
      "state": {
       "layout": "IPY_MODEL_81f0789baec84580b72ecc251e4796e9",
       "style": "IPY_MODEL_384063c7cf2b440d83d5a59131a67f92",
       "value": " 98%"
      }
     },
     "d45b485a78cf4646aeccbaaf4d036574": {
      "model_module": "@jupyter-widgets/controls",
      "model_module_version": "2.0.0",
      "model_name": "ProgressStyleModel",
      "state": {
       "description_width": ""
      }
     },
     "d4910228f88e459ea6bf1a5f3d8af23d": {
      "model_module": "@jupyter-widgets/base",
      "model_module_version": "2.0.0",
      "model_name": "LayoutModel",
      "state": {}
     },
     "d4c0d3c2483a429e827a326b65f470bd": {
      "model_module": "@jupyter-widgets/base",
      "model_module_version": "2.0.0",
      "model_name": "LayoutModel",
      "state": {}
     },
     "d4d4233bf2d046d89e218f3ec897c96f": {
      "model_module": "@jupyter-widgets/base",
      "model_module_version": "2.0.0",
      "model_name": "LayoutModel",
      "state": {
       "visibility": "hidden"
      }
     },
     "d4e54b740f2a4067bc81bad81f0cf9d8": {
      "model_module": "@jupyter-widgets/controls",
      "model_module_version": "2.0.0",
      "model_name": "HTMLStyleModel",
      "state": {
       "description_width": "",
       "font_size": null,
       "text_color": null
      }
     },
     "d4fd03cc4caa4ad19652b570a9bcf7fa": {
      "model_module": "@jupyter-widgets/controls",
      "model_module_version": "2.0.0",
      "model_name": "HTMLStyleModel",
      "state": {
       "description_width": "",
       "font_size": null,
       "text_color": null
      }
     },
     "d5578d497c064fa9a5540e06579f57f1": {
      "model_module": "@jupyter-widgets/controls",
      "model_module_version": "2.0.0",
      "model_name": "FloatProgressModel",
      "state": {
       "layout": "IPY_MODEL_5fcf2a1618fc46b8b88ad647f5b26e42",
       "max": 1000,
       "style": "IPY_MODEL_ab0c11d808654c17a2e9085ef0af6ec7",
       "value": 1000
      }
     },
     "d60ed3bf23ac442ba0740d0dbd91c9d1": {
      "model_module": "@jupyter-widgets/controls",
      "model_module_version": "2.0.0",
      "model_name": "HTMLModel",
      "state": {
       "layout": "IPY_MODEL_d77b1b929f5240248ad380003acd232b",
       "style": "IPY_MODEL_928fcc3cdfbc4ebe8adaf4f88ce599b2",
       "value": " 98%"
      }
     },
     "d62ec81fde7144c08698c42013a79bfc": {
      "model_module": "@jupyter-widgets/base",
      "model_module_version": "2.0.0",
      "model_name": "LayoutModel",
      "state": {}
     },
     "d688cb7544074413833dbbe697d81a64": {
      "model_module": "@jupyter-widgets/controls",
      "model_module_version": "2.0.0",
      "model_name": "HTMLModel",
      "state": {
       "layout": "IPY_MODEL_2e6e870be1384703b60a7203100f64e9",
       "style": "IPY_MODEL_8e1f1f9a70e640cf87c6446bb4bd148f",
       "value": " 98%"
      }
     },
     "d6c628dae54641e48d0ec66f00fc24fe": {
      "model_module": "@jupyter-widgets/base",
      "model_module_version": "2.0.0",
      "model_name": "LayoutModel",
      "state": {}
     },
     "d6eb3434a91a4de5b6c9502d2cd4caa8": {
      "model_module": "@jupyter-widgets/controls",
      "model_module_version": "2.0.0",
      "model_name": "HTMLModel",
      "state": {
       "layout": "IPY_MODEL_28cc28e741e04e329ca8d9216bdb6650",
       "style": "IPY_MODEL_d4fd03cc4caa4ad19652b570a9bcf7fa",
       "value": " 98%"
      }
     },
     "d72e97aec43a42f7a0298bc0ae480b36": {
      "model_module": "@jupyter-widgets/controls",
      "model_module_version": "2.0.0",
      "model_name": "FloatProgressModel",
      "state": {
       "bar_style": "success",
       "layout": "IPY_MODEL_ef84e419a9144d9b920eb0c134cf9d26",
       "max": 1000,
       "style": "IPY_MODEL_dddb59ceaaf14a7b96d8bfbca1202ad1",
       "value": 1000
      }
     },
     "d77b1b929f5240248ad380003acd232b": {
      "model_module": "@jupyter-widgets/base",
      "model_module_version": "2.0.0",
      "model_name": "LayoutModel",
      "state": {}
     },
     "d78c57371fe04ad38deaea3e0ddcd6a1": {
      "model_module": "@jupyter-widgets/controls",
      "model_module_version": "2.0.0",
      "model_name": "FloatProgressModel",
      "state": {
       "layout": "IPY_MODEL_0542a3bbffac43ba84da65eabecd4bce",
       "max": 1000,
       "style": "IPY_MODEL_9abc435b255d468988e0e220475fe4eb",
       "value": 1000
      }
     },
     "d86451903f5c45ee82917d0f50c66daa": {
      "model_module": "@jupyter-widgets/controls",
      "model_module_version": "2.0.0",
      "model_name": "HTMLModel",
      "state": {
       "layout": "IPY_MODEL_d97803b692a14f5eace54aad84d806f6",
       "style": "IPY_MODEL_e978ec79c71544f58ed57c17a0e47753",
       "value": "100%"
      }
     },
     "d89d1089bc6748dcbb78d07a06437343": {
      "model_module": "@jupyter-widgets/controls",
      "model_module_version": "2.0.0",
      "model_name": "HTMLModel",
      "state": {
       "layout": "IPY_MODEL_5a832aa49c0d442a96ab01947f23cd25",
       "style": "IPY_MODEL_b038c4320da147a3aeebc7ba0fb4accf",
       "value": " 98%"
      }
     },
     "d97803b692a14f5eace54aad84d806f6": {
      "model_module": "@jupyter-widgets/base",
      "model_module_version": "2.0.0",
      "model_name": "LayoutModel",
      "state": {}
     },
     "d9b19641ce074d7690bf2221aa804868": {
      "model_module": "@jupyter-widgets/controls",
      "model_module_version": "2.0.0",
      "model_name": "HTMLModel",
      "state": {
       "layout": "IPY_MODEL_cf6bfd4de23e4f6db4ccf09a32a227dc",
       "style": "IPY_MODEL_0c69a87936d248b6a90082fb32b52ed9",
       "value": " 980/1000 [00:04&lt;00:00, 243.57it/s]"
      }
     },
     "d9fa5f0925ec4d7f9f61e8b6d26776b4": {
      "model_module": "@jupyter-widgets/controls",
      "model_module_version": "2.0.0",
      "model_name": "HTMLModel",
      "state": {
       "layout": "IPY_MODEL_4b9880e842534efdbe6222fb8e25f067",
       "style": "IPY_MODEL_69c058db7afc4888b226152928436837",
       "value": "100%"
      }
     },
     "da4cbeafef674e4aa4f211ca8c84ccc0": {
      "model_module": "@jupyter-widgets/controls",
      "model_module_version": "2.0.0",
      "model_name": "FloatProgressModel",
      "state": {
       "layout": "IPY_MODEL_43785bae3c2b4d11b6248b2e5210a373",
       "max": 1000,
       "style": "IPY_MODEL_6b992cb73c2a40a5a35118962fe063fe",
       "value": 1000
      }
     },
     "dc5c26970f5544ceaffce651c3d1717d": {
      "model_module": "@jupyter-widgets/base",
      "model_module_version": "2.0.0",
      "model_name": "LayoutModel",
      "state": {}
     },
     "dc71782fc43e4c01b5287c0f29d24740": {
      "model_module": "@jupyter-widgets/controls",
      "model_module_version": "2.0.0",
      "model_name": "HTMLModel",
      "state": {
       "layout": "IPY_MODEL_62140019838d496a942d82e019f7c869",
       "style": "IPY_MODEL_863ea8c040014c3b809d84c644a02940",
       "value": "100%"
      }
     },
     "dd703e3f66c74ba893c2b54e754e713d": {
      "model_module": "@jupyter-widgets/controls",
      "model_module_version": "2.0.0",
      "model_name": "HTMLModel",
      "state": {
       "layout": "IPY_MODEL_1f7118015e2f4a2992a2f03722eedca1",
       "style": "IPY_MODEL_7b062fc4798e4601a72ff4264796167d",
       "value": " 982/1000 [00:04&lt;00:00, 229.87it/s]"
      }
     },
     "dddb59ceaaf14a7b96d8bfbca1202ad1": {
      "model_module": "@jupyter-widgets/controls",
      "model_module_version": "2.0.0",
      "model_name": "ProgressStyleModel",
      "state": {
       "description_width": ""
      }
     },
     "de2002303c8649c3908771b59c51c454": {
      "model_module": "@jupyter-widgets/controls",
      "model_module_version": "2.0.0",
      "model_name": "HTMLModel",
      "state": {
       "layout": "IPY_MODEL_b150014ac44740a2aa77e12e57ae812b",
       "style": "IPY_MODEL_a9eb5d785c9c45a7910729f34a6866f8",
       "value": " 97%"
      }
     },
     "de334c42e5764788a2087eeb49c3c993": {
      "model_module": "@jupyter-widgets/controls",
      "model_module_version": "2.0.0",
      "model_name": "HTMLStyleModel",
      "state": {
       "description_width": "",
       "font_size": null,
       "text_color": null
      }
     },
     "dfb4541f2fbc4ee4805adee3344168d3": {
      "model_module": "@jupyter-widgets/controls",
      "model_module_version": "2.0.0",
      "model_name": "HTMLStyleModel",
      "state": {
       "description_width": "",
       "font_size": null,
       "text_color": null
      }
     },
     "dfcc825e4580448ba2199bfd8cf1a392": {
      "model_module": "@jupyter-widgets/base",
      "model_module_version": "2.0.0",
      "model_name": "LayoutModel",
      "state": {}
     },
     "e068ec4702e14660b48f015415c3f5b6": {
      "model_module": "@jupyter-widgets/controls",
      "model_module_version": "2.0.0",
      "model_name": "HTMLStyleModel",
      "state": {
       "description_width": "",
       "font_size": null,
       "text_color": null
      }
     },
     "e171840d4f0442fea1bf1a2ff9cd6dc0": {
      "model_module": "@jupyter-widgets/controls",
      "model_module_version": "2.0.0",
      "model_name": "HTMLModel",
      "state": {
       "layout": "IPY_MODEL_189ef51cc1f24545ae842491a811dd45",
       "style": "IPY_MODEL_38361c7645a14b84996a1256701e0b5f",
       "value": " 999/1000 [00:05&lt;00:00, 242.09it/s]"
      }
     },
     "e2285cf8f08b4c3188ef3179954265dd": {
      "model_module": "@jupyter-widgets/controls",
      "model_module_version": "2.0.0",
      "model_name": "ProgressStyleModel",
      "state": {
       "description_width": ""
      }
     },
     "e24de5f9b00441bfb87a903a50686426": {
      "model_module": "@jupyter-widgets/base",
      "model_module_version": "2.0.0",
      "model_name": "LayoutModel",
      "state": {}
     },
     "e2ad08a3c2564bcf8b9cf5f8f05b93a2": {
      "model_module": "@jupyter-widgets/controls",
      "model_module_version": "2.0.0",
      "model_name": "HTMLStyleModel",
      "state": {
       "description_width": "",
       "font_size": null,
       "text_color": null
      }
     },
     "e2e159f877424c26b6621bcc5326561e": {
      "model_module": "@jupyter-widgets/controls",
      "model_module_version": "2.0.0",
      "model_name": "FloatProgressModel",
      "state": {
       "layout": "IPY_MODEL_858a826f01b04e76ac90993568fbe164",
       "max": 1000,
       "style": "IPY_MODEL_eb278279af4642f48c12e096d3504b9d",
       "value": 1000
      }
     },
     "e36c72cec8544eb9b042dbb554df9ede": {
      "model_module": "@jupyter-widgets/base",
      "model_module_version": "2.0.0",
      "model_name": "LayoutModel",
      "state": {}
     },
     "e36c98992cd944118b563efe8be5a6d9": {
      "model_module": "@jupyter-widgets/controls",
      "model_module_version": "2.0.0",
      "model_name": "HTMLModel",
      "state": {
       "layout": "IPY_MODEL_39e4e3a071cd44baaf110bd12d227faf",
       "style": "IPY_MODEL_647b938fa5614d6ca48d2e48f9cedc07",
       "value": " 97%"
      }
     },
     "e38b4ef173e14c879e5f96974a250616": {
      "model_module": "@jupyter-widgets/controls",
      "model_module_version": "2.0.0",
      "model_name": "HTMLModel",
      "state": {
       "layout": "IPY_MODEL_8035d580f82a4c5a9dc208a6e7b2960c",
       "style": "IPY_MODEL_2ae2ad395f584dc681f9b8554dcc68f2",
       "value": " 1000/1000 [00:04&lt;00:00, 187.56it/s]"
      }
     },
     "e489c77e0a9544b8b863a99834d86542": {
      "model_module": "@jupyter-widgets/base",
      "model_module_version": "2.0.0",
      "model_name": "LayoutModel",
      "state": {}
     },
     "e53456b6ce3f4d36aa2b1226395a1041": {
      "model_module": "@jupyter-widgets/controls",
      "model_module_version": "2.0.0",
      "model_name": "HTMLModel",
      "state": {
       "layout": "IPY_MODEL_dc5c26970f5544ceaffce651c3d1717d",
       "style": "IPY_MODEL_cd73c65f25884d578e043d6388b4da6f",
       "value": " 1000/1000 [00:04&lt;00:00, 165.34it/s]"
      }
     },
     "e5c565073c2c4c4f835d656c506f7165": {
      "model_module": "@jupyter-widgets/controls",
      "model_module_version": "2.0.0",
      "model_name": "HTMLModel",
      "state": {
       "layout": "IPY_MODEL_21fe13001cc14865a6e3d1f8dd49caf6",
       "style": "IPY_MODEL_de334c42e5764788a2087eeb49c3c993",
       "value": " 97%"
      }
     },
     "e659b13fab4b4692b69b43de168a0468": {
      "model_module": "@jupyter-widgets/controls",
      "model_module_version": "2.0.0",
      "model_name": "HTMLModel",
      "state": {
       "layout": "IPY_MODEL_d4910228f88e459ea6bf1a5f3d8af23d",
       "style": "IPY_MODEL_dfb4541f2fbc4ee4805adee3344168d3",
       "value": " 971/1000 [00:04&lt;00:00, 248.70it/s]"
      }
     },
     "e65ad1309a63499a92a8a50877912db6": {
      "model_module": "@jupyter-widgets/controls",
      "model_module_version": "2.0.0",
      "model_name": "HTMLModel",
      "state": {
       "layout": "IPY_MODEL_6134c9eb0d024d7d9d3ada6ffed24992",
       "style": "IPY_MODEL_68081128e0684b9b8e7c50e500a26c2b",
       "value": " 98%"
      }
     },
     "e66916e2f8b943f3a5f245579cdd5dea": {
      "model_module": "@jupyter-widgets/base",
      "model_module_version": "2.0.0",
      "model_name": "LayoutModel",
      "state": {}
     },
     "e6e0eef879db4f17b76aff16f35ad410": {
      "model_module": "@jupyter-widgets/controls",
      "model_module_version": "2.0.0",
      "model_name": "HTMLModel",
      "state": {
       "layout": "IPY_MODEL_c59c2efd41774c6e8401a8b126e0edde",
       "style": "IPY_MODEL_3a2cd2d5e84941e6aed6909a2f802099",
       "value": " 98%"
      }
     },
     "e772d65f5c0c480e8d5df63737dbab46": {
      "model_module": "@jupyter-widgets/controls",
      "model_module_version": "2.0.0",
      "model_name": "FloatProgressModel",
      "state": {
       "layout": "IPY_MODEL_c129a71d99b5484cb9cbafd16e522fa3",
       "max": 1000,
       "style": "IPY_MODEL_bfac832d107b4cdfa769ad696eed1ca1",
       "value": 1000
      }
     },
     "e7fef09e5dc241cd846d7f17e4970c5f": {
      "model_module": "@jupyter-widgets/base",
      "model_module_version": "2.0.0",
      "model_name": "LayoutModel",
      "state": {
       "visibility": "hidden"
      }
     },
     "e8513d85ca9749b1a3fcef19490c3587": {
      "model_module": "@jupyter-widgets/base",
      "model_module_version": "2.0.0",
      "model_name": "LayoutModel",
      "state": {}
     },
     "e978ec79c71544f58ed57c17a0e47753": {
      "model_module": "@jupyter-widgets/controls",
      "model_module_version": "2.0.0",
      "model_name": "HTMLStyleModel",
      "state": {
       "description_width": "",
       "font_size": null,
       "text_color": null
      }
     },
     "e9b89eb88d9a4e998cfef0adc7030716": {
      "model_module": "@jupyter-widgets/controls",
      "model_module_version": "2.0.0",
      "model_name": "ProgressStyleModel",
      "state": {
       "description_width": ""
      }
     },
     "eb278279af4642f48c12e096d3504b9d": {
      "model_module": "@jupyter-widgets/controls",
      "model_module_version": "2.0.0",
      "model_name": "ProgressStyleModel",
      "state": {
       "description_width": ""
      }
     },
     "eb7953ba197a46c1a5264b5680dec96a": {
      "model_module": "@jupyter-widgets/base",
      "model_module_version": "2.0.0",
      "model_name": "LayoutModel",
      "state": {}
     },
     "ec27d2e3b1cf412dae7d335a0dac3de6": {
      "model_module": "@jupyter-widgets/base",
      "model_module_version": "2.0.0",
      "model_name": "LayoutModel",
      "state": {}
     },
     "ec397aa5a9c648df96442affe0a373a8": {
      "model_module": "@jupyter-widgets/base",
      "model_module_version": "2.0.0",
      "model_name": "LayoutModel",
      "state": {}
     },
     "ecbaae409d934904935ab6f334e1a825": {
      "model_module": "@jupyter-widgets/controls",
      "model_module_version": "2.0.0",
      "model_name": "HTMLStyleModel",
      "state": {
       "description_width": "",
       "font_size": null,
       "text_color": null
      }
     },
     "ed45088348a44eb1a530b0891d647e03": {
      "model_module": "@jupyter-widgets/base",
      "model_module_version": "2.0.0",
      "model_name": "LayoutModel",
      "state": {}
     },
     "ed6b49eeaeea4fcfa78f02c85122aa34": {
      "model_module": "@jupyter-widgets/controls",
      "model_module_version": "2.0.0",
      "model_name": "HTMLStyleModel",
      "state": {
       "description_width": "",
       "font_size": null,
       "text_color": null
      }
     },
     "edb8ef4f9e6b402bb457580376f1b46d": {
      "model_module": "@jupyter-widgets/controls",
      "model_module_version": "2.0.0",
      "model_name": "HTMLModel",
      "state": {
       "layout": "IPY_MODEL_050d6d622ce946659f3a0f2b1393339c",
       "style": "IPY_MODEL_88433b42cc7e4cc89e1919046b4a36ab",
       "value": " 983/1000 [00:04&lt;00:00, 222.01it/s]"
      }
     },
     "ee2dfe8b99314e34867141b1c41aa357": {
      "model_module": "@jupyter-widgets/controls",
      "model_module_version": "2.0.0",
      "model_name": "HTMLStyleModel",
      "state": {
       "description_width": "",
       "font_size": null,
       "text_color": null
      }
     },
     "eeca5f38d0624f71ab472796fb6d6d5e": {
      "model_module": "@jupyter-widgets/base",
      "model_module_version": "2.0.0",
      "model_name": "LayoutModel",
      "state": {
       "visibility": "hidden"
      }
     },
     "ef0df5cfe95149308e4688c3f3e7e0fe": {
      "model_module": "@jupyter-widgets/controls",
      "model_module_version": "2.0.0",
      "model_name": "HTMLModel",
      "state": {
       "layout": "IPY_MODEL_9926748720d74597beb3c46644a57eea",
       "style": "IPY_MODEL_e2ad08a3c2564bcf8b9cf5f8f05b93a2",
       "value": " 98%"
      }
     },
     "ef54d5b54be841268ca79e473658f865": {
      "model_module": "@jupyter-widgets/base",
      "model_module_version": "2.0.0",
      "model_name": "LayoutModel",
      "state": {}
     },
     "ef713f168e1b4c319a6480b0e11ef107": {
      "model_module": "@jupyter-widgets/base",
      "model_module_version": "2.0.0",
      "model_name": "LayoutModel",
      "state": {}
     },
     "ef84e419a9144d9b920eb0c134cf9d26": {
      "model_module": "@jupyter-widgets/base",
      "model_module_version": "2.0.0",
      "model_name": "LayoutModel",
      "state": {}
     },
     "efc62b1d29b64499a902b6b9f38ba26e": {
      "model_module": "@jupyter-widgets/controls",
      "model_module_version": "2.0.0",
      "model_name": "FloatProgressModel",
      "state": {
       "layout": "IPY_MODEL_d3ecd546da5a45beaa2b44cdb0c87ca2",
       "max": 1000,
       "style": "IPY_MODEL_4bbc0a08009245a8bb28764386eebe01",
       "value": 1000
      }
     },
     "efe9d32f2bfd4546866ed22fe97ba744": {
      "model_module": "@jupyter-widgets/base",
      "model_module_version": "2.0.0",
      "model_name": "LayoutModel",
      "state": {}
     },
     "f0054986a64e4dee8ccf4ed8341d8a05": {
      "model_module": "@jupyter-widgets/controls",
      "model_module_version": "2.0.0",
      "model_name": "HTMLModel",
      "state": {
       "layout": "IPY_MODEL_32b1dc89131c458ca3cda84810952bc2",
       "style": "IPY_MODEL_bdce38603fe449cc894e33f27b81d49b",
       "value": " 998/1000 [00:04&lt;00:00, 251.58it/s]"
      }
     },
     "f1ab788ef87c4790b74dcbe0eee5ae37": {
      "model_module": "@jupyter-widgets/base",
      "model_module_version": "2.0.0",
      "model_name": "LayoutModel",
      "state": {}
     },
     "f2ac824d240449999ef1747526c096bf": {
      "model_module": "@jupyter-widgets/controls",
      "model_module_version": "2.0.0",
      "model_name": "HTMLModel",
      "state": {
       "layout": "IPY_MODEL_fada767a885048fe97236fbcdbefe03a",
       "style": "IPY_MODEL_4a36e35bce314213a4ebb47d31ab366b",
       "value": " 988/1000 [00:04&lt;00:00, 245.99it/s]"
      }
     },
     "f2d20364aab4417db0039c92829fe2cb": {
      "model_module": "@jupyter-widgets/base",
      "model_module_version": "2.0.0",
      "model_name": "LayoutModel",
      "state": {}
     },
     "f326aebf44c949c4aeccfec832a314b6": {
      "model_module": "@jupyter-widgets/controls",
      "model_module_version": "2.0.0",
      "model_name": "HTMLStyleModel",
      "state": {
       "description_width": "",
       "font_size": null,
       "text_color": null
      }
     },
     "f3d1a1b53c2941149d1c2366344cbb8e": {
      "model_module": "@jupyter-widgets/base",
      "model_module_version": "2.0.0",
      "model_name": "LayoutModel",
      "state": {
       "visibility": "hidden"
      }
     },
     "f454c983798b4dc1b520df8bc22f515b": {
      "model_module": "@jupyter-widgets/controls",
      "model_module_version": "2.0.0",
      "model_name": "HTMLStyleModel",
      "state": {
       "description_width": "",
       "font_size": null,
       "text_color": null
      }
     },
     "f4991f49a57c4b0b8a13c940e6d44415": {
      "model_module": "@jupyter-widgets/controls",
      "model_module_version": "2.0.0",
      "model_name": "HTMLStyleModel",
      "state": {
       "description_width": "",
       "font_size": null,
       "text_color": null
      }
     },
     "f6c9afdb1316497cbbbae3bddf652a3c": {
      "model_module": "@jupyter-widgets/base",
      "model_module_version": "2.0.0",
      "model_name": "LayoutModel",
      "state": {}
     },
     "f6cd73cc95114cbfb32783e32c7a780f": {
      "model_module": "@jupyter-widgets/controls",
      "model_module_version": "2.0.0",
      "model_name": "ProgressStyleModel",
      "state": {
       "description_width": ""
      }
     },
     "f6e02cffe58248b7bf441e630e31efc7": {
      "model_module": "@jupyter-widgets/controls",
      "model_module_version": "2.0.0",
      "model_name": "HTMLStyleModel",
      "state": {
       "description_width": "",
       "font_size": null,
       "text_color": null
      }
     },
     "f6ea91d97b9545aab83e693da55d4d20": {
      "model_module": "@jupyter-widgets/controls",
      "model_module_version": "2.0.0",
      "model_name": "HTMLStyleModel",
      "state": {
       "description_width": "",
       "font_size": null,
       "text_color": null
      }
     },
     "f8274f53de8c4042b081049f8b53d36b": {
      "model_module": "@jupyter-widgets/base",
      "model_module_version": "2.0.0",
      "model_name": "LayoutModel",
      "state": {
       "visibility": "hidden"
      }
     },
     "f883e61ea489428d95e17b31d7db2ec8": {
      "model_module": "@jupyter-widgets/controls",
      "model_module_version": "2.0.0",
      "model_name": "HTMLModel",
      "state": {
       "layout": "IPY_MODEL_59bcdf063e11405ca8bc267aa08447a2",
       "style": "IPY_MODEL_2470fdf74e084c918c81e6efdffe823c",
       "value": " 1000/1000 [00:05&lt;00:00, 169.86it/s]"
      }
     },
     "f9cb9f84d7eb4bdea76636471e9a3ec7": {
      "model_module": "@jupyter-widgets/base",
      "model_module_version": "2.0.0",
      "model_name": "LayoutModel",
      "state": {}
     },
     "f9e11ba8980e4719a25c44d76af1a9ce": {
      "model_module": "@jupyter-widgets/controls",
      "model_module_version": "2.0.0",
      "model_name": "HTMLStyleModel",
      "state": {
       "description_width": "",
       "font_size": null,
       "text_color": null
      }
     },
     "faa4f725693748c588b5de7108e29f3c": {
      "model_module": "@jupyter-widgets/controls",
      "model_module_version": "2.0.0",
      "model_name": "HTMLModel",
      "state": {
       "layout": "IPY_MODEL_fe4fa4b0a19e4232b86f5d298b805f76",
       "style": "IPY_MODEL_c22c62fc1fac445ca379b6255889050b",
       "value": " 1000/1000 [00:23&lt;00:00, 43.92it/s]"
      }
     },
     "fada767a885048fe97236fbcdbefe03a": {
      "model_module": "@jupyter-widgets/base",
      "model_module_version": "2.0.0",
      "model_name": "LayoutModel",
      "state": {}
     },
     "fb39b97065094f8cb103cfc4aec2b536": {
      "model_module": "@jupyter-widgets/controls",
      "model_module_version": "2.0.0",
      "model_name": "HTMLStyleModel",
      "state": {
       "description_width": "",
       "font_size": null,
       "text_color": null
      }
     },
     "fb484043a76d482585a95d4cc661ffad": {
      "model_module": "@jupyter-widgets/controls",
      "model_module_version": "2.0.0",
      "model_name": "HTMLStyleModel",
      "state": {
       "description_width": "",
       "font_size": null,
       "text_color": null
      }
     },
     "fb85736c74f440d6850f539390c0fa89": {
      "model_module": "@jupyter-widgets/controls",
      "model_module_version": "2.0.0",
      "model_name": "HTMLModel",
      "state": {
       "layout": "IPY_MODEL_9851ad3d3b16488db429b72e42daf839",
       "style": "IPY_MODEL_7dfdabec884c4e219261fe949c794122",
       "value": " 988/1000 [00:04&lt;00:00, 229.30it/s]"
      }
     },
     "fbed3db59c6b464c9d864c1bf12bd379": {
      "model_module": "@jupyter-widgets/controls",
      "model_module_version": "2.0.0",
      "model_name": "HTMLStyleModel",
      "state": {
       "description_width": "",
       "font_size": null,
       "text_color": null
      }
     },
     "fc78aa5aae8a4d2882905fb3cf926b8c": {
      "model_module": "@jupyter-widgets/controls",
      "model_module_version": "2.0.0",
      "model_name": "HTMLStyleModel",
      "state": {
       "description_width": "",
       "font_size": null,
       "text_color": null
      }
     },
     "fce335b6674646dca6ea6708a496a13b": {
      "model_module": "@jupyter-widgets/controls",
      "model_module_version": "2.0.0",
      "model_name": "HTMLStyleModel",
      "state": {
       "description_width": "",
       "font_size": null,
       "text_color": null
      }
     },
     "fd51eb6693b340fe8727e8577cf803fa": {
      "model_module": "@jupyter-widgets/base",
      "model_module_version": "2.0.0",
      "model_name": "LayoutModel",
      "state": {
       "visibility": "hidden"
      }
     },
     "fd6b3c5f3c3243239c041e1eaab936b8": {
      "model_module": "@jupyter-widgets/controls",
      "model_module_version": "2.0.0",
      "model_name": "ProgressStyleModel",
      "state": {
       "description_width": ""
      }
     },
     "fd6cebfb9ca242bb8621a4360f547635": {
      "model_module": "@jupyter-widgets/controls",
      "model_module_version": "2.0.0",
      "model_name": "HTMLModel",
      "state": {
       "layout": "IPY_MODEL_e8513d85ca9749b1a3fcef19490c3587",
       "style": "IPY_MODEL_9de346c96c7b44afa179dfd229d61c06",
       "value": " 98%"
      }
     },
     "fe4fa4b0a19e4232b86f5d298b805f76": {
      "model_module": "@jupyter-widgets/base",
      "model_module_version": "2.0.0",
      "model_name": "LayoutModel",
      "state": {}
     },
     "fea3a774877444719f52370df64d0d2e": {
      "model_module": "@jupyter-widgets/controls",
      "model_module_version": "2.0.0",
      "model_name": "HTMLStyleModel",
      "state": {
       "description_width": "",
       "font_size": null,
       "text_color": null
      }
     },
     "fecefcc131ed4a34bf66f740d862f0f3": {
      "model_module": "@jupyter-widgets/controls",
      "model_module_version": "2.0.0",
      "model_name": "HTMLStyleModel",
      "state": {
       "description_width": "",
       "font_size": null,
       "text_color": null
      }
     },
     "ffa37c905b8a4e5c99da731ba2887b8a": {
      "model_module": "@jupyter-widgets/controls",
      "model_module_version": "2.0.0",
      "model_name": "FloatProgressModel",
      "state": {
       "layout": "IPY_MODEL_a01de81a573943609ce76f1dd1cd8c5e",
       "max": 1000,
       "style": "IPY_MODEL_0ddadf121c394f43a9b048ecd2aac2a1",
       "value": 1000
      }
     },
     "ffe79b791f2d49b98cedd2b20eba5920": {
      "model_module": "@jupyter-widgets/controls",
      "model_module_version": "2.0.0",
      "model_name": "ProgressStyleModel",
      "state": {
       "description_width": ""
      }
     }
    },
    "version_major": 2,
    "version_minor": 0
   }
  }
 },
 "nbformat": 4,
 "nbformat_minor": 5
}
