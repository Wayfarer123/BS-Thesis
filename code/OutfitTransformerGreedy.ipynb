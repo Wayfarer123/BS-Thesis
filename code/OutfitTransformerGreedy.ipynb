{
 "cells": [
  {
   "cell_type": "code",
   "execution_count": 1,
   "id": "7559b84c-a50c-415a-a59e-b68f43daee0a",
   "metadata": {},
   "outputs": [],
   "source": [
    "import torch\n",
    "from tqdm.auto import tqdm\n",
    "import numpy as np\n",
    "import os\n",
    "from matplotlib import pyplot as plt\n",
    "import seaborn as sns\n",
    "import json\n",
    "import random\n",
    "random.seed(42)\n",
    "sns.set_style(\"darkgrid\")\n",
    "device = \"cuda\" if torch.cuda.is_available() else \"cpu\""
   ]
  },
  {
   "cell_type": "code",
   "execution_count": 2,
   "id": "5c376f88-24e6-4142-a5a4-984695ffea1a",
   "metadata": {},
   "outputs": [],
   "source": [
    "from OutfitTransformer.model.encoder import ItemEncoder\n",
    "from OutfitTransformer.model.model import OutfitTransformer\n",
    "from transformers import AutoTokenizer\n",
    "\n",
    "weights_path = \"OutfitTransformer/checkpoints/2_0.923.pth\"\n",
    "outfit_transformer_weights = torch.load(weights_path)\n",
    "\n",
    "\n",
    "model = OutfitTransformer(embedding_dim=128).to(device)\n",
    "model.load_state_dict(outfit_transformer_weights['model_state_dict'], strict=False)\n",
    "model.eval()\n",
    "\n",
    "with open(\"data/Re-PolyVore_encoded_with_OutfitTransformer.json\", \"r\", encoding=\"utf-8\") as f:\n",
    "    outfits_dict = json.load(f)"
   ]
  },
  {
   "cell_type": "code",
   "execution_count": 3,
   "id": "f1a2360a-39d2-4551-9e32-a858d5a2b1f7",
   "metadata": {},
   "outputs": [],
   "source": [
    "outfits_at_least_3 = {}\n",
    "for key, val in outfits_dict.items():\n",
    "    if val.get(\"items\") is not None:\n",
    "        if len(val[\"items\"]) > 2:\n",
    "            outfits_at_least_3.update({key: val})\n",
    "    else: pass\n",
    "\n",
    "outfits_at_least_4 = {}\n",
    "for key, val in outfits_dict.items():\n",
    "    if val.get(\"items\") is not None:\n",
    "        if len(val[\"items\"]) > 3:\n",
    "            outfits_at_least_4.update({key: val})\n",
    "    else: pass\n",
    "\n",
    "outfits_at_least_5 = {}\n",
    "for key, val in outfits_dict.items():\n",
    "    if val.get(\"items\") is not None:\n",
    "        if len(val[\"items\"]) > 4:\n",
    "            outfits_at_least_5.update({key: val})\n",
    "    else: pass\n",
    "\n",
    "outfits_at_least_6 = {}\n",
    "for key, val in outfits_dict.items():\n",
    "    if val.get(\"items\") is not None:\n",
    "        if len(val[\"items\"]) > 5:\n",
    "            outfits_at_least_6.update({key: val})\n",
    "    else: pass\n",
    "\n",
    "outfits_at_least_7 = {}\n",
    "for key, val in outfits_dict.items():\n",
    "    if val.get(\"items\") is not None:\n",
    "        if len(val[\"items\"]) > 6:\n",
    "            outfits_at_least_7.update({key: val})\n",
    "    else: pass\n",
    "\n",
    "outfits_at_least_8 = {}\n",
    "for key, val in outfits_dict.items():\n",
    "    if val.get(\"items\") is not None:\n",
    "        if len(val[\"items\"]) > 7:\n",
    "            outfits_at_least_8.update({key: val})\n",
    "    else: pass"
   ]
  },
  {
   "cell_type": "code",
   "execution_count": 4,
   "id": "386f31ee-32a6-424a-864b-a3fcce4fd0f1",
   "metadata": {},
   "outputs": [
    {
     "data": {
      "text/plain": [
       "(13106, 9371, 5305, 2301, 771, 162)"
      ]
     },
     "execution_count": 4,
     "metadata": {},
     "output_type": "execute_result"
    }
   ],
   "source": [
    "len(outfits_at_least_3.keys()), len(outfits_at_least_4.keys()), len(outfits_at_least_5.keys()), len(outfits_at_least_6.keys()), len(outfits_at_least_7.keys()), len(outfits_at_least_8.keys())"
   ]
  },
  {
   "cell_type": "code",
   "execution_count": 5,
   "id": "7a21622e-7929-4cdf-96a7-166dbc9d9bd9",
   "metadata": {},
   "outputs": [
    {
     "data": {
      "text/plain": [
       "8"
      ]
     },
     "execution_count": 5,
     "metadata": {},
     "output_type": "execute_result"
    }
   ],
   "source": [
    "max_set_len = 0\n",
    "for key, outfit in outfits_dict.items():\n",
    "    if outfit.get(\"items\") is not None:\n",
    "        max_set_len = max(max_set_len, len(outfit[\"items\"]))\n",
    "max_set_len"
   ]
  },
  {
   "cell_type": "code",
   "execution_count": 6,
   "id": "646ccd21-7004-4d73-ab59-1266c6846191",
   "metadata": {},
   "outputs": [],
   "source": [
    "def get_outfit_score(outfit_items, model=model):\n",
    "    set_mask = torch.zeros(len(outfit_items)).to(device)\n",
    "    inp = torch.Tensor([elem[\"embdedding\"] for elem in outfit_items]).to(device)\n",
    "    return model(\"cp\", inp.unsqueeze(0), set_mask.unsqueeze(0).to(device)).item()"
   ]
  },
  {
   "cell_type": "code",
   "execution_count": 7,
   "id": "3ca45309-808f-4729-abe8-ec49e9a84c63",
   "metadata": {},
   "outputs": [
    {
     "data": {
      "text/plain": [
       "63359"
      ]
     },
     "execution_count": 7,
     "metadata": {},
     "output_type": "execute_result"
    }
   ],
   "source": [
    "all_items = []\n",
    "for key, val in outfits_dict.items():\n",
    "    if val.get(\"items\") is not None:\n",
    "        all_items.extend(val[\"items\"])\n",
    "    else: pass\n",
    "len(all_items)"
   ]
  },
  {
   "cell_type": "code",
   "execution_count": 8,
   "id": "be5ad537-fd04-4b72-bbac-69579cb13151",
   "metadata": {},
   "outputs": [],
   "source": [
    "def get_top_k_greedy_singlestep_score(outfit, k, model=model, items=all_items):\n",
    "    items_to_complete = random.sample(outfit['items'], len(outfit['items']) - k)\n",
    "\n",
    "    scores_and_items = []\n",
    "    for item_ind, item in enumerate(tqdm(items, leave=False)):\n",
    "        score = get_outfit_score(items_to_complete + [item])\n",
    "        scores_and_items.append((score, item_ind))\n",
    "\n",
    "    scores_and_items = sorted(scores_and_items)[::-1]\n",
    "    best_items_ind = [el[1] for el in scores_and_items[:k]]\n",
    "    best_items = [items[i] for i in best_items_ind]\n",
    "\n",
    "    final_outfit = items_to_complete + best_items\n",
    "    final_score = get_outfit_score(final_outfit)\n",
    "    return final_score\n",
    "\n",
    "def get_top_k_greedy_multistep_score(outfit, k, model=model, items=all_items):\n",
    "    items_to_complete = random.sample(outfit['items'], len(outfit['items']) - k)\n",
    "\n",
    "    best_items_ind = []\n",
    "    best_items = []\n",
    "\n",
    "    while len(best_items_ind) < k:\n",
    "        \n",
    "        scores_and_items = []\n",
    "        for item_ind, item in enumerate(tqdm(items, leave=False)):\n",
    "            if item_ind not in best_items_ind:\n",
    "                score = get_outfit_score(items_to_complete + [item])\n",
    "                scores_and_items.append((score, item_ind))\n",
    "        \n",
    "        scores_and_items = sorted(scores_and_items)[::-1]\n",
    "        best_items_ind.append(scores_and_items[0][1])\n",
    "        best_items.append(items[scores_and_items[0][1]])\n",
    "        items_to_complete.append(items[scores_and_items[0][1]])\n",
    "\n",
    "    final_outfit = items_to_complete + best_items\n",
    "    final_score = get_outfit_score(final_outfit)\n",
    "    return final_score\n",
    "\n",
    "def get_top_k_greedy_single_and_multistep_score(outfit, k, model=model, items=all_items):\n",
    "    items_to_complete = random.sample(outfit['items'], len(outfit['items']) - k)\n",
    "\n",
    "    best_items_ind = []\n",
    "    best_items = []\n",
    "\n",
    "    while len(best_items_ind) < k:\n",
    "        \n",
    "        scores_and_items = []\n",
    "        for item_ind, item in enumerate(tqdm(items, leave=False)):\n",
    "            if item_ind not in best_items_ind:\n",
    "                score = get_outfit_score(items_to_complete + [item])\n",
    "                scores_and_items.append((score, item_ind))\n",
    "        \n",
    "        scores_and_items = sorted(scores_and_items)[::-1]\n",
    "        \n",
    "        if len(best_items_ind) == 0:\n",
    "            best_items_ind_single = [el[1] for el in scores_and_items[:k]]\n",
    "            best_items_single = [items[i] for i in best_items_ind_single]\n",
    "            final_outfit_single  = items_to_complete + best_items_single\n",
    "            final_score_single  = get_outfit_score(final_outfit_single)\n",
    "            \n",
    "        best_items_ind.append(scores_and_items[0][1])\n",
    "        best_items.append(items[scores_and_items[0][1]])\n",
    "        items_to_complete.append(items[scores_and_items[0][1]])\n",
    "\n",
    "    final_outfit = items_to_complete + best_items\n",
    "    final_score = get_outfit_score(final_outfit)\n",
    "    return final_score_single, final_score"
   ]
  },
  {
   "cell_type": "code",
   "execution_count": 327,
   "id": "899685a4-437d-415b-bed1-f3058827054b",
   "metadata": {},
   "outputs": [],
   "source": [
    "# results_min8_k2 = {}"
   ]
  },
  {
   "cell_type": "code",
   "execution_count": 9,
   "id": "e5225b48-0601-4677-9516-39342e0c0c36",
   "metadata": {
    "scrolled": true
   },
   "outputs": [],
   "source": [
    "for key, outfit in tqdm(list(outfits_at_least_8.items())):\n",
    "    if results_min8_k2.get(key) is None:\n",
    "        results_min8_k2.update({key: {\"original\": get_outfit_score(outfit['items'])}})\n",
    "\n",
    "    if results_min8_k2[key].get(\"greedy_singlestep\") is None:\n",
    "        results_min8_k2[key].update({\"greedy_singlestep\": get_top_k_greedy_singlestep_score(outfit, k=2)})"
   ]
  },
  {
   "cell_type": "code",
   "execution_count": 10,
   "id": "66e30039-61a8-4498-b445-78ccfd4b2671",
   "metadata": {},
   "outputs": [],
   "source": [
    "for key, outfit in tqdm(list(outfits_at_least_8.items())):\n",
    "    if results_min8_k2.get(key) is None:\n",
    "        results_min8_k2.update({key: {\"original\": get_outfit_score(outfit['items'])}})\n",
    "\n",
    "    if results_min8_k2[key].get(\"greedy_multistep\") is None:\n",
    "        results_min8_k2[key].update({\"greedy_multistep\": get_top_k_greedy_multistep_score(outfit, k=2)}) "
   ]
  },
  {
   "cell_type": "code",
   "execution_count": 336,
   "id": "bf7f611b-a414-4fc8-94dc-8bc75fe6d77d",
   "metadata": {},
   "outputs": [
    {
     "data": {
      "image/png": "[encoded data removed]",
      "text/plain": [
       "<Figure size 1000x700 with 1 Axes>"
      ]
     },
     "metadata": {},
     "output_type": "display_data"
    }
   ],
   "source": [
    "original_scores = []\n",
    "greedy_singlestep_scores = []\n",
    "greedy_multistep_scores = []\n",
    "\n",
    "for key, res_dict in results_min8_k2.items():\n",
    "    original_scores.append(res_dict[\"original\"])\n",
    "    greedy_singlestep_scores.append(res_dict[\"greedy_singlestep\"])\n",
    "    greedy_multistep_scores.append(res_dict[\"greedy_multistep\"])\n",
    "\n",
    "original_scores, greedy_singlestep_scores, greedy_multistep_scores = \\\n",
    "    np.array(original_scores), np.array(greedy_singlestep_scores), np.array(greedy_multistep_scores)\n",
    "\n",
    "\n",
    "plt.figure(figsize=(10, 7))\n",
    "\n",
    "plt.hist(original_scores, bins=10, alpha=0.5, label=\"original\")\n",
    "plt.hist(greedy_singlestep_scores, bins=10, alpha=0.5, label=\"greedy_singlestep_scores\")\n",
    "plt.hist(greedy_multistep_scores, bins=10, alpha=0.5, label=\"greedy_multistep_scores\")\n",
    "\n",
    "\n",
    "plt.legend(fontsize=18, shadow=True)\n",
    "plt.show()"
   ]
  },
  {
   "cell_type": "code",
   "execution_count": 331,
   "id": "712d93da-7565-4c24-a504-e7a92ce6b7a8",
   "metadata": {},
   "outputs": [],
   "source": [
    "# with open(\"data/Re-PolyVore_greedy_results_min8_k2.json\", \"w\", encoding=\"utf-8\") as f:\n",
    "#         json.dump(results_min8_k2, f, indent=4)"
   ]
  },
  {
   "cell_type": "markdown",
   "id": "e13678c6-7686-4401-882d-3479048e1b83",
   "metadata": {},
   "source": [
    "### k=2, min 5 elements per outfit"
   ]
  },
  {
   "cell_type": "code",
   "execution_count": 9,
   "id": "6a07ce34-6058-4b1d-91e6-caf8d6a522b0",
   "metadata": {
    "scrolled": true
   },
   "outputs": [
    {
     "data": {
      "application/vnd.jupyter.widget-view+json": {
       "model_id": "8e7234801778454882eb1efb44e2a5a4",
       "version_major": 2,
       "version_minor": 0
      },
      "text/plain": [
       "  0%|          | 0/100 [00:00<?, ?it/s]"
      ]
     },
     "metadata": {},
     "output_type": "display_data"
    },
    {
     "data": {
      "application/vnd.jupyter.widget-view+json": {
       "model_id": "",
       "version_major": 2,
       "version_minor": 0
      },
      "text/plain": [
       "  0%|          | 0/63359 [00:00<?, ?it/s]"
      ]
     },
     "metadata": {},
     "output_type": "display_data"
    },
    {
     "data": {
      "application/vnd.jupyter.widget-view+json": {
       "model_id": "",
       "version_major": 2,
       "version_minor": 0
      },
      "text/plain": [
       "  0%|          | 0/63359 [00:00<?, ?it/s]"
      ]
     },
     "metadata": {},
     "output_type": "display_data"
    },
    {
     "data": {
      "application/vnd.jupyter.widget-view+json": {
       "model_id": "",
       "version_major": 2,
       "version_minor": 0
      },
      "text/plain": [
       "  0%|          | 0/63359 [00:00<?, ?it/s]"
      ]
     },
     "metadata": {},
     "output_type": "display_data"
    },
    {
     "data": {
      "application/vnd.jupyter.widget-view+json": {
       "model_id": "",
       "version_major": 2,
       "version_minor": 0
      },
      "text/plain": [
       "  0%|          | 0/63359 [00:00<?, ?it/s]"
      ]
     },
     "metadata": {},
     "output_type": "display_data"
    },
    {
     "data": {
      "application/vnd.jupyter.widget-view+json": {
       "model_id": "",
       "version_major": 2,
       "version_minor": 0
      },
      "text/plain": [
       "  0%|          | 0/63359 [00:00<?, ?it/s]"
      ]
     },
     "metadata": {},
     "output_type": "display_data"
    },
    {
     "data": {
      "application/vnd.jupyter.widget-view+json": {
       "model_id": "",
       "version_major": 2,
       "version_minor": 0
      },
      "text/plain": [
       "  0%|          | 0/63359 [00:00<?, ?it/s]"
      ]
     },
     "metadata": {},
     "output_type": "display_data"
    },
    {
     "data": {
      "application/vnd.jupyter.widget-view+json": {
       "model_id": "",
       "version_major": 2,
       "version_minor": 0
      },
      "text/plain": [
       "  0%|          | 0/63359 [00:00<?, ?it/s]"
      ]
     },
     "metadata": {},
     "output_type": "display_data"
    },
    {
     "data": {
      "application/vnd.jupyter.widget-view+json": {
       "model_id": "",
       "version_major": 2,
       "version_minor": 0
      },
      "text/plain": [
       "  0%|          | 0/63359 [00:00<?, ?it/s]"
      ]
     },
     "metadata": {},
     "output_type": "display_data"
    },
    {
     "data": {
      "application/vnd.jupyter.widget-view+json": {
       "model_id": "",
       "version_major": 2,
       "version_minor": 0
      },
      "text/plain": [
       "  0%|          | 0/63359 [00:00<?, ?it/s]"
      ]
     },
     "metadata": {},
     "output_type": "display_data"
    },
    {
     "data": {
      "application/vnd.jupyter.widget-view+json": {
       "model_id": "",
       "version_major": 2,
       "version_minor": 0
      },
      "text/plain": [
       "  0%|          | 0/63359 [00:00<?, ?it/s]"
      ]
     },
     "metadata": {},
     "output_type": "display_data"
    },
    {
     "data": {
      "application/vnd.jupyter.widget-view+json": {
       "model_id": "",
       "version_major": 2,
       "version_minor": 0
      },
      "text/plain": [
       "  0%|          | 0/63359 [00:00<?, ?it/s]"
      ]
     },
     "metadata": {},
     "output_type": "display_data"
    },
    {
     "data": {
      "application/vnd.jupyter.widget-view+json": {
       "model_id": "",
       "version_major": 2,
       "version_minor": 0
      },
      "text/plain": [
       "  0%|          | 0/63359 [00:00<?, ?it/s]"
      ]
     },
     "metadata": {},
     "output_type": "display_data"
    },
    {
     "data": {
      "application/vnd.jupyter.widget-view+json": {
       "model_id": "",
       "version_major": 2,
       "version_minor": 0
      },
      "text/plain": [
       "  0%|          | 0/63359 [00:00<?, ?it/s]"
      ]
     },
     "metadata": {},
     "output_type": "display_data"
    },
    {
     "data": {
      "application/vnd.jupyter.widget-view+json": {
       "model_id": "",
       "version_major": 2,
       "version_minor": 0
      },
      "text/plain": [
       "  0%|          | 0/63359 [00:00<?, ?it/s]"
      ]
     },
     "metadata": {},
     "output_type": "display_data"
    },
    {
     "data": {
      "application/vnd.jupyter.widget-view+json": {
       "model_id": "",
       "version_major": 2,
       "version_minor": 0
      },
      "text/plain": [
       "  0%|          | 0/63359 [00:00<?, ?it/s]"
      ]
     },
     "metadata": {},
     "output_type": "display_data"
    },
    {
     "data": {
      "application/vnd.jupyter.widget-view+json": {
       "model_id": "",
       "version_major": 2,
       "version_minor": 0
      },
      "text/plain": [
       "  0%|          | 0/63359 [00:00<?, ?it/s]"
      ]
     },
     "metadata": {},
     "output_type": "display_data"
    },
    {
     "data": {
      "application/vnd.jupyter.widget-view+json": {
       "model_id": "",
       "version_major": 2,
       "version_minor": 0
      },
      "text/plain": [
       "  0%|          | 0/63359 [00:00<?, ?it/s]"
      ]
     },
     "metadata": {},
     "output_type": "display_data"
    },
    {
     "data": {
      "application/vnd.jupyter.widget-view+json": {
       "model_id": "",
       "version_major": 2,
       "version_minor": 0
      },
      "text/plain": [
       "  0%|          | 0/63359 [00:00<?, ?it/s]"
      ]
     },
     "metadata": {},
     "output_type": "display_data"
    },
    {
     "data": {
      "application/vnd.jupyter.widget-view+json": {
       "model_id": "",
       "version_major": 2,
       "version_minor": 0
      },
      "text/plain": [
       "  0%|          | 0/63359 [00:00<?, ?it/s]"
      ]
     },
     "metadata": {},
     "output_type": "display_data"
    },
    {
     "data": {
      "application/vnd.jupyter.widget-view+json": {
       "model_id": "",
       "version_major": 2,
       "version_minor": 0
      },
      "text/plain": [
       "  0%|          | 0/63359 [00:00<?, ?it/s]"
      ]
     },
     "metadata": {},
     "output_type": "display_data"
    },
    {
     "data": {
      "application/vnd.jupyter.widget-view+json": {
       "model_id": "",
       "version_major": 2,
       "version_minor": 0
      },
      "text/plain": [
       "  0%|          | 0/63359 [00:00<?, ?it/s]"
      ]
     },
     "metadata": {},
     "output_type": "display_data"
    },
    {
     "data": {
      "application/vnd.jupyter.widget-view+json": {
       "model_id": "",
       "version_major": 2,
       "version_minor": 0
      },
      "text/plain": [
       "  0%|          | 0/63359 [00:00<?, ?it/s]"
      ]
     },
     "metadata": {},
     "output_type": "display_data"
    },
    {
     "data": {
      "application/vnd.jupyter.widget-view+json": {
       "model_id": "",
       "version_major": 2,
       "version_minor": 0
      },
      "text/plain": [
       "  0%|          | 0/63359 [00:00<?, ?it/s]"
      ]
     },
     "metadata": {},
     "output_type": "display_data"
    },
    {
     "data": {
      "application/vnd.jupyter.widget-view+json": {
       "model_id": "",
       "version_major": 2,
       "version_minor": 0
      },
      "text/plain": [
       "  0%|          | 0/63359 [00:00<?, ?it/s]"
      ]
     },
     "metadata": {},
     "output_type": "display_data"
    },
    {
     "data": {
      "application/vnd.jupyter.widget-view+json": {
       "model_id": "",
       "version_major": 2,
       "version_minor": 0
      },
      "text/plain": [
       "  0%|          | 0/63359 [00:00<?, ?it/s]"
      ]
     },
     "metadata": {},
     "output_type": "display_data"
    },
    {
     "data": {
      "application/vnd.jupyter.widget-view+json": {
       "model_id": "",
       "version_major": 2,
       "version_minor": 0
      },
      "text/plain": [
       "  0%|          | 0/63359 [00:00<?, ?it/s]"
      ]
     },
     "metadata": {},
     "output_type": "display_data"
    },
    {
     "data": {
      "application/vnd.jupyter.widget-view+json": {
       "model_id": "",
       "version_major": 2,
       "version_minor": 0
      },
      "text/plain": [
       "  0%|          | 0/63359 [00:00<?, ?it/s]"
      ]
     },
     "metadata": {},
     "output_type": "display_data"
    },
    {
     "data": {
      "application/vnd.jupyter.widget-view+json": {
       "model_id": "",
       "version_major": 2,
       "version_minor": 0
      },
      "text/plain": [
       "  0%|          | 0/63359 [00:00<?, ?it/s]"
      ]
     },
     "metadata": {},
     "output_type": "display_data"
    },
    {
     "data": {
      "application/vnd.jupyter.widget-view+json": {
       "model_id": "",
       "version_major": 2,
       "version_minor": 0
      },
      "text/plain": [
       "  0%|          | 0/63359 [00:00<?, ?it/s]"
      ]
     },
     "metadata": {},
     "output_type": "display_data"
    },
    {
     "data": {
      "application/vnd.jupyter.widget-view+json": {
       "model_id": "",
       "version_major": 2,
       "version_minor": 0
      },
      "text/plain": [
       "  0%|          | 0/63359 [00:00<?, ?it/s]"
      ]
     },
     "metadata": {},
     "output_type": "display_data"
    },
    {
     "data": {
      "application/vnd.jupyter.widget-view+json": {
       "model_id": "",
       "version_major": 2,
       "version_minor": 0
      },
      "text/plain": [
       "  0%|          | 0/63359 [00:00<?, ?it/s]"
      ]
     },
     "metadata": {},
     "output_type": "display_data"
    },
    {
     "data": {
      "application/vnd.jupyter.widget-view+json": {
       "model_id": "",
       "version_major": 2,
       "version_minor": 0
      },
      "text/plain": [
       "  0%|          | 0/63359 [00:00<?, ?it/s]"
      ]
     },
     "metadata": {},
     "output_type": "display_data"
    },
    {
     "data": {
      "application/vnd.jupyter.widget-view+json": {
       "model_id": "",
       "version_major": 2,
       "version_minor": 0
      },
      "text/plain": [
       "  0%|          | 0/63359 [00:00<?, ?it/s]"
      ]
     },
     "metadata": {},
     "output_type": "display_data"
    },
    {
     "data": {
      "application/vnd.jupyter.widget-view+json": {
       "model_id": "",
       "version_major": 2,
       "version_minor": 0
      },
      "text/plain": [
       "  0%|          | 0/63359 [00:00<?, ?it/s]"
      ]
     },
     "metadata": {},
     "output_type": "display_data"
    },
    {
     "data": {
      "application/vnd.jupyter.widget-view+json": {
       "model_id": "",
       "version_major": 2,
       "version_minor": 0
      },
      "text/plain": [
       "  0%|          | 0/63359 [00:00<?, ?it/s]"
      ]
     },
     "metadata": {},
     "output_type": "display_data"
    },
    {
     "data": {
      "application/vnd.jupyter.widget-view+json": {
       "model_id": "",
       "version_major": 2,
       "version_minor": 0
      },
      "text/plain": [
       "  0%|          | 0/63359 [00:00<?, ?it/s]"
      ]
     },
     "metadata": {},
     "output_type": "display_data"
    },
    {
     "data": {
      "application/vnd.jupyter.widget-view+json": {
       "model_id": "",
       "version_major": 2,
       "version_minor": 0
      },
      "text/plain": [
       "  0%|          | 0/63359 [00:00<?, ?it/s]"
      ]
     },
     "metadata": {},
     "output_type": "display_data"
    },
    {
     "data": {
      "application/vnd.jupyter.widget-view+json": {
       "model_id": "",
       "version_major": 2,
       "version_minor": 0
      },
      "text/plain": [
       "  0%|          | 0/63359 [00:00<?, ?it/s]"
      ]
     },
     "metadata": {},
     "output_type": "display_data"
    },
    {
     "data": {
      "application/vnd.jupyter.widget-view+json": {
       "model_id": "",
       "version_major": 2,
       "version_minor": 0
      },
      "text/plain": [
       "  0%|          | 0/63359 [00:00<?, ?it/s]"
      ]
     },
     "metadata": {},
     "output_type": "display_data"
    },
    {
     "data": {
      "application/vnd.jupyter.widget-view+json": {
       "model_id": "",
       "version_major": 2,
       "version_minor": 0
      },
      "text/plain": [
       "  0%|          | 0/63359 [00:00<?, ?it/s]"
      ]
     },
     "metadata": {},
     "output_type": "display_data"
    },
    {
     "data": {
      "application/vnd.jupyter.widget-view+json": {
       "model_id": "",
       "version_major": 2,
       "version_minor": 0
      },
      "text/plain": [
       "  0%|          | 0/63359 [00:00<?, ?it/s]"
      ]
     },
     "metadata": {},
     "output_type": "display_data"
    },
    {
     "data": {
      "application/vnd.jupyter.widget-view+json": {
       "model_id": "",
       "version_major": 2,
       "version_minor": 0
      },
      "text/plain": [
       "  0%|          | 0/63359 [00:00<?, ?it/s]"
      ]
     },
     "metadata": {},
     "output_type": "display_data"
    },
    {
     "data": {
      "application/vnd.jupyter.widget-view+json": {
       "model_id": "",
       "version_major": 2,
       "version_minor": 0
      },
      "text/plain": [
       "  0%|          | 0/63359 [00:00<?, ?it/s]"
      ]
     },
     "metadata": {},
     "output_type": "display_data"
    },
    {
     "data": {
      "application/vnd.jupyter.widget-view+json": {
       "model_id": "",
       "version_major": 2,
       "version_minor": 0
      },
      "text/plain": [
       "  0%|          | 0/63359 [00:00<?, ?it/s]"
      ]
     },
     "metadata": {},
     "output_type": "display_data"
    },
    {
     "data": {
      "application/vnd.jupyter.widget-view+json": {
       "model_id": "",
       "version_major": 2,
       "version_minor": 0
      },
      "text/plain": [
       "  0%|          | 0/63359 [00:00<?, ?it/s]"
      ]
     },
     "metadata": {},
     "output_type": "display_data"
    },
    {
     "data": {
      "application/vnd.jupyter.widget-view+json": {
       "model_id": "",
       "version_major": 2,
       "version_minor": 0
      },
      "text/plain": [
       "  0%|          | 0/63359 [00:00<?, ?it/s]"
      ]
     },
     "metadata": {},
     "output_type": "display_data"
    },
    {
     "data": {
      "application/vnd.jupyter.widget-view+json": {
       "model_id": "",
       "version_major": 2,
       "version_minor": 0
      },
      "text/plain": [
       "  0%|          | 0/63359 [00:00<?, ?it/s]"
      ]
     },
     "metadata": {},
     "output_type": "display_data"
    },
    {
     "data": {
      "application/vnd.jupyter.widget-view+json": {
       "model_id": "",
       "version_major": 2,
       "version_minor": 0
      },
      "text/plain": [
       "  0%|          | 0/63359 [00:00<?, ?it/s]"
      ]
     },
     "metadata": {},
     "output_type": "display_data"
    },
    {
     "data": {
      "application/vnd.jupyter.widget-view+json": {
       "model_id": "",
       "version_major": 2,
       "version_minor": 0
      },
      "text/plain": [
       "  0%|          | 0/63359 [00:00<?, ?it/s]"
      ]
     },
     "metadata": {},
     "output_type": "display_data"
    },
    {
     "data": {
      "application/vnd.jupyter.widget-view+json": {
       "model_id": "8421c5c06b284b72898d41bc836e30c4",
       "version_major": 2,
       "version_minor": 0
      },
      "text/plain": [
       "  0%|          | 0/63359 [00:00<?, ?it/s]"
      ]
     },
     "metadata": {},
     "output_type": "display_data"
    },
    {
     "data": {
      "application/vnd.jupyter.widget-view+json": {
       "model_id": "34c78dcafbfc46c1a2bb820b28010d35",
       "version_major": 2,
       "version_minor": 0
      },
      "text/plain": [
       "  0%|          | 0/63359 [00:00<?, ?it/s]"
      ]
     },
     "metadata": {},
     "output_type": "display_data"
    },
    {
     "data": {
      "application/vnd.jupyter.widget-view+json": {
       "model_id": "35024eb7b23e4468a340fd36bc92ef5c",
       "version_major": 2,
       "version_minor": 0
      },
      "text/plain": [
       "  0%|          | 0/63359 [00:00<?, ?it/s]"
      ]
     },
     "metadata": {},
     "output_type": "display_data"
    },
    {
     "data": {
      "application/vnd.jupyter.widget-view+json": {
       "model_id": "77fcc2245d61478693729433f754f57b",
       "version_major": 2,
       "version_minor": 0
      },
      "text/plain": [
       "  0%|          | 0/63359 [00:00<?, ?it/s]"
      ]
     },
     "metadata": {},
     "output_type": "display_data"
    },
    {
     "data": {
      "application/vnd.jupyter.widget-view+json": {
       "model_id": "140975a274014823882311170e8f8b29",
       "version_major": 2,
       "version_minor": 0
      },
      "text/plain": [
       "  0%|          | 0/63359 [00:00<?, ?it/s]"
      ]
     },
     "metadata": {},
     "output_type": "display_data"
    },
    {
     "data": {
      "application/vnd.jupyter.widget-view+json": {
       "model_id": "334453aca50c4a4e81bed8de00fa8f3c",
       "version_major": 2,
       "version_minor": 0
      },
      "text/plain": [
       "  0%|          | 0/63359 [00:00<?, ?it/s]"
      ]
     },
     "metadata": {},
     "output_type": "display_data"
    },
    {
     "data": {
      "application/vnd.jupyter.widget-view+json": {
       "model_id": "2fe9f7bf3d9e4325a5bb64974f0cfbbb",
       "version_major": 2,
       "version_minor": 0
      },
      "text/plain": [
       "  0%|          | 0/63359 [00:00<?, ?it/s]"
      ]
     },
     "metadata": {},
     "output_type": "display_data"
    },
    {
     "data": {
      "application/vnd.jupyter.widget-view+json": {
       "model_id": "7667c168f5c0498dab87583f412932e4",
       "version_major": 2,
       "version_minor": 0
      },
      "text/plain": [
       "  0%|          | 0/63359 [00:00<?, ?it/s]"
      ]
     },
     "metadata": {},
     "output_type": "display_data"
    },
    {
     "data": {
      "application/vnd.jupyter.widget-view+json": {
       "model_id": "eb7272bcd3cd4569be7254be3294c04e",
       "version_major": 2,
       "version_minor": 0
      },
      "text/plain": [
       "  0%|          | 0/63359 [00:00<?, ?it/s]"
      ]
     },
     "metadata": {},
     "output_type": "display_data"
    },
    {
     "data": {
      "application/vnd.jupyter.widget-view+json": {
       "model_id": "97ebb08f16eb420db08bf4a51ac6b6d1",
       "version_major": 2,
       "version_minor": 0
      },
      "text/plain": [
       "  0%|          | 0/63359 [00:00<?, ?it/s]"
      ]
     },
     "metadata": {},
     "output_type": "display_data"
    },
    {
     "data": {
      "application/vnd.jupyter.widget-view+json": {
       "model_id": "a9fe92510731470491761f2dbeb9d807",
       "version_major": 2,
       "version_minor": 0
      },
      "text/plain": [
       "  0%|          | 0/63359 [00:00<?, ?it/s]"
      ]
     },
     "metadata": {},
     "output_type": "display_data"
    },
    {
     "data": {
      "application/vnd.jupyter.widget-view+json": {
       "model_id": "93a4f23c68cf462cb78ba93dfe23dcff",
       "version_major": 2,
       "version_minor": 0
      },
      "text/plain": [
       "  0%|          | 0/63359 [00:00<?, ?it/s]"
      ]
     },
     "metadata": {},
     "output_type": "display_data"
    },
    {
     "data": {
      "application/vnd.jupyter.widget-view+json": {
       "model_id": "f3f7c276e95f4d5b9d9291df0571ba10",
       "version_major": 2,
       "version_minor": 0
      },
      "text/plain": [
       "  0%|          | 0/63359 [00:00<?, ?it/s]"
      ]
     },
     "metadata": {},
     "output_type": "display_data"
    },
    {
     "data": {
      "application/vnd.jupyter.widget-view+json": {
       "model_id": "98c77424ec164909896fa73d619190d3",
       "version_major": 2,
       "version_minor": 0
      },
      "text/plain": [
       "  0%|          | 0/63359 [00:00<?, ?it/s]"
      ]
     },
     "metadata": {},
     "output_type": "display_data"
    },
    {
     "data": {
      "application/vnd.jupyter.widget-view+json": {
       "model_id": "b5a4b5b7c4a047a7b7f58c06d0cdd87e",
       "version_major": 2,
       "version_minor": 0
      },
      "text/plain": [
       "  0%|          | 0/63359 [00:00<?, ?it/s]"
      ]
     },
     "metadata": {},
     "output_type": "display_data"
    },
    {
     "data": {
      "application/vnd.jupyter.widget-view+json": {
       "model_id": "7cd91e595ded412e9609fe13f858eaa5",
       "version_major": 2,
       "version_minor": 0
      },
      "text/plain": [
       "  0%|          | 0/63359 [00:00<?, ?it/s]"
      ]
     },
     "metadata": {},
     "output_type": "display_data"
    },
    {
     "data": {
      "application/vnd.jupyter.widget-view+json": {
       "model_id": "32bb9caa4a704407b326e1eb4a048972",
       "version_major": 2,
       "version_minor": 0
      },
      "text/plain": [
       "  0%|          | 0/63359 [00:00<?, ?it/s]"
      ]
     },
     "metadata": {},
     "output_type": "display_data"
    },
    {
     "data": {
      "application/vnd.jupyter.widget-view+json": {
       "model_id": "82b84c016ce344609e21db9b79286873",
       "version_major": 2,
       "version_minor": 0
      },
      "text/plain": [
       "  0%|          | 0/63359 [00:00<?, ?it/s]"
      ]
     },
     "metadata": {},
     "output_type": "display_data"
    },
    {
     "data": {
      "application/vnd.jupyter.widget-view+json": {
       "model_id": "2bdd427003604f2d9573ad25efb1a840",
       "version_major": 2,
       "version_minor": 0
      },
      "text/plain": [
       "  0%|          | 0/63359 [00:00<?, ?it/s]"
      ]
     },
     "metadata": {},
     "output_type": "display_data"
    },
    {
     "data": {
      "application/vnd.jupyter.widget-view+json": {
       "model_id": "d9046674412c416da80d026c8ad52813",
       "version_major": 2,
       "version_minor": 0
      },
      "text/plain": [
       "  0%|          | 0/63359 [00:00<?, ?it/s]"
      ]
     },
     "metadata": {},
     "output_type": "display_data"
    },
    {
     "data": {
      "application/vnd.jupyter.widget-view+json": {
       "model_id": "0f2c3365a3294bfb8a7755214f85e6ff",
       "version_major": 2,
       "version_minor": 0
      },
      "text/plain": [
       "  0%|          | 0/63359 [00:00<?, ?it/s]"
      ]
     },
     "metadata": {},
     "output_type": "display_data"
    },
    {
     "data": {
      "application/vnd.jupyter.widget-view+json": {
       "model_id": "a57e83c835494ec3830d366d68d62969",
       "version_major": 2,
       "version_minor": 0
      },
      "text/plain": [
       "  0%|          | 0/63359 [00:00<?, ?it/s]"
      ]
     },
     "metadata": {},
     "output_type": "display_data"
    },
    {
     "data": {
      "application/vnd.jupyter.widget-view+json": {
       "model_id": "e4cb5f71979147c4a55839a1e3cdea6a",
       "version_major": 2,
       "version_minor": 0
      },
      "text/plain": [
       "  0%|          | 0/63359 [00:00<?, ?it/s]"
      ]
     },
     "metadata": {},
     "output_type": "display_data"
    },
    {
     "data": {
      "application/vnd.jupyter.widget-view+json": {
       "model_id": "031bb91a42a84bd4ac48e222276ab561",
       "version_major": 2,
       "version_minor": 0
      },
      "text/plain": [
       "  0%|          | 0/63359 [00:00<?, ?it/s]"
      ]
     },
     "metadata": {},
     "output_type": "display_data"
    },
    {
     "data": {
      "application/vnd.jupyter.widget-view+json": {
       "model_id": "e54d2b2fbff84678886d4347989dd827",
       "version_major": 2,
       "version_minor": 0
      },
      "text/plain": [
       "  0%|          | 0/63359 [00:00<?, ?it/s]"
      ]
     },
     "metadata": {},
     "output_type": "display_data"
    },
    {
     "data": {
      "application/vnd.jupyter.widget-view+json": {
       "model_id": "8af97ec2ec5042398eed7a48002f946b",
       "version_major": 2,
       "version_minor": 0
      },
      "text/plain": [
       "  0%|          | 0/63359 [00:00<?, ?it/s]"
      ]
     },
     "metadata": {},
     "output_type": "display_data"
    },
    {
     "data": {
      "application/vnd.jupyter.widget-view+json": {
       "model_id": "9536e6381bd342079782524c58cd9505",
       "version_major": 2,
       "version_minor": 0
      },
      "text/plain": [
       "  0%|          | 0/63359 [00:00<?, ?it/s]"
      ]
     },
     "metadata": {},
     "output_type": "display_data"
    },
    {
     "data": {
      "application/vnd.jupyter.widget-view+json": {
       "model_id": "fb526d22240246e187ac13a123b33c3c",
       "version_major": 2,
       "version_minor": 0
      },
      "text/plain": [
       "  0%|          | 0/63359 [00:00<?, ?it/s]"
      ]
     },
     "metadata": {},
     "output_type": "display_data"
    },
    {
     "data": {
      "application/vnd.jupyter.widget-view+json": {
       "model_id": "2d096d733f55442181b68ea4befee593",
       "version_major": 2,
       "version_minor": 0
      },
      "text/plain": [
       "  0%|          | 0/63359 [00:00<?, ?it/s]"
      ]
     },
     "metadata": {},
     "output_type": "display_data"
    },
    {
     "data": {
      "application/vnd.jupyter.widget-view+json": {
       "model_id": "169fb107339d4bca91c68e1a0410528d",
       "version_major": 2,
       "version_minor": 0
      },
      "text/plain": [
       "  0%|          | 0/63359 [00:00<?, ?it/s]"
      ]
     },
     "metadata": {},
     "output_type": "display_data"
    },
    {
     "data": {
      "application/vnd.jupyter.widget-view+json": {
       "model_id": "6ece9ef964044b2589e117c2b835f319",
       "version_major": 2,
       "version_minor": 0
      },
      "text/plain": [
       "  0%|          | 0/63359 [00:00<?, ?it/s]"
      ]
     },
     "metadata": {},
     "output_type": "display_data"
    },
    {
     "data": {
      "application/vnd.jupyter.widget-view+json": {
       "model_id": "c0d42772c6f94479ad69e2d28440d6e0",
       "version_major": 2,
       "version_minor": 0
      },
      "text/plain": [
       "  0%|          | 0/63359 [00:00<?, ?it/s]"
      ]
     },
     "metadata": {},
     "output_type": "display_data"
    },
    {
     "data": {
      "application/vnd.jupyter.widget-view+json": {
       "model_id": "d8f7d9330520480aa2a23994e850c16b",
       "version_major": 2,
       "version_minor": 0
      },
      "text/plain": [
       "  0%|          | 0/63359 [00:00<?, ?it/s]"
      ]
     },
     "metadata": {},
     "output_type": "display_data"
    },
    {
     "data": {
      "application/vnd.jupyter.widget-view+json": {
       "model_id": "4f643a7b38cc4d66bc6ab402a6d178cb",
       "version_major": 2,
       "version_minor": 0
      },
      "text/plain": [
       "  0%|          | 0/63359 [00:00<?, ?it/s]"
      ]
     },
     "metadata": {},
     "output_type": "display_data"
    },
    {
     "data": {
      "application/vnd.jupyter.widget-view+json": {
       "model_id": "5ad8acb059934e85a3032b625931b212",
       "version_major": 2,
       "version_minor": 0
      },
      "text/plain": [
       "  0%|          | 0/63359 [00:00<?, ?it/s]"
      ]
     },
     "metadata": {},
     "output_type": "display_data"
    },
    {
     "data": {
      "application/vnd.jupyter.widget-view+json": {
       "model_id": "2310940eed4b43ed863e26c9b2ad49cd",
       "version_major": 2,
       "version_minor": 0
      },
      "text/plain": [
       "  0%|          | 0/63359 [00:00<?, ?it/s]"
      ]
     },
     "metadata": {},
     "output_type": "display_data"
    },
    {
     "data": {
      "application/vnd.jupyter.widget-view+json": {
       "model_id": "0c54277a4b934e5fba93e0b0891ee89d",
       "version_major": 2,
       "version_minor": 0
      },
      "text/plain": [
       "  0%|          | 0/63359 [00:00<?, ?it/s]"
      ]
     },
     "metadata": {},
     "output_type": "display_data"
    },
    {
     "data": {
      "application/vnd.jupyter.widget-view+json": {
       "model_id": "a4a89a91f5ff4a4c87b8c6d499b67a10",
       "version_major": 2,
       "version_minor": 0
      },
      "text/plain": [
       "  0%|          | 0/63359 [00:00<?, ?it/s]"
      ]
     },
     "metadata": {},
     "output_type": "display_data"
    },
    {
     "data": {
      "application/vnd.jupyter.widget-view+json": {
       "model_id": "e68c140fc87e4ac989b08bd30f92ac72",
       "version_major": 2,
       "version_minor": 0
      },
      "text/plain": [
       "  0%|          | 0/63359 [00:00<?, ?it/s]"
      ]
     },
     "metadata": {},
     "output_type": "display_data"
    },
    {
     "data": {
      "application/vnd.jupyter.widget-view+json": {
       "model_id": "407fb6df8afa4cf4ad73b68e239eb566",
       "version_major": 2,
       "version_minor": 0
      },
      "text/plain": [
       "  0%|          | 0/63359 [00:00<?, ?it/s]"
      ]
     },
     "metadata": {},
     "output_type": "display_data"
    },
    {
     "data": {
      "application/vnd.jupyter.widget-view+json": {
       "model_id": "a39d21b7c22f484299cff094a9a5c4b8",
       "version_major": 2,
       "version_minor": 0
      },
      "text/plain": [
       "  0%|          | 0/63359 [00:00<?, ?it/s]"
      ]
     },
     "metadata": {},
     "output_type": "display_data"
    },
    {
     "data": {
      "application/vnd.jupyter.widget-view+json": {
       "model_id": "ea89b414f92f4074b044d343bd51090c",
       "version_major": 2,
       "version_minor": 0
      },
      "text/plain": [
       "  0%|          | 0/63359 [00:00<?, ?it/s]"
      ]
     },
     "metadata": {},
     "output_type": "display_data"
    },
    {
     "data": {
      "application/vnd.jupyter.widget-view+json": {
       "model_id": "9e7f094e4e5e42cead8950ddff565b15",
       "version_major": 2,
       "version_minor": 0
      },
      "text/plain": [
       "  0%|          | 0/63359 [00:00<?, ?it/s]"
      ]
     },
     "metadata": {},
     "output_type": "display_data"
    },
    {
     "data": {
      "application/vnd.jupyter.widget-view+json": {
       "model_id": "9d3fb552aaea44448c8302efd9ef7e11",
       "version_major": 2,
       "version_minor": 0
      },
      "text/plain": [
       "  0%|          | 0/63359 [00:00<?, ?it/s]"
      ]
     },
     "metadata": {},
     "output_type": "display_data"
    },
    {
     "data": {
      "application/vnd.jupyter.widget-view+json": {
       "model_id": "bd40855c786c4e95a5e6b1caf41cb7e1",
       "version_major": 2,
       "version_minor": 0
      },
      "text/plain": [
       "  0%|          | 0/63359 [00:00<?, ?it/s]"
      ]
     },
     "metadata": {},
     "output_type": "display_data"
    },
    {
     "data": {
      "application/vnd.jupyter.widget-view+json": {
       "model_id": "b58fc78ce3e1484280b701c4c8678c44",
       "version_major": 2,
       "version_minor": 0
      },
      "text/plain": [
       "  0%|          | 0/63359 [00:00<?, ?it/s]"
      ]
     },
     "metadata": {},
     "output_type": "display_data"
    },
    {
     "data": {
      "application/vnd.jupyter.widget-view+json": {
       "model_id": "0fcff39c7ebe4f7d82ebd69c93386c8a",
       "version_major": 2,
       "version_minor": 0
      },
      "text/plain": [
       "  0%|          | 0/63359 [00:00<?, ?it/s]"
      ]
     },
     "metadata": {},
     "output_type": "display_data"
    },
    {
     "data": {
      "application/vnd.jupyter.widget-view+json": {
       "model_id": "72356865ea624939b923b363eb0906f5",
       "version_major": 2,
       "version_minor": 0
      },
      "text/plain": [
       "  0%|          | 0/63359 [00:00<?, ?it/s]"
      ]
     },
     "metadata": {},
     "output_type": "display_data"
    },
    {
     "data": {
      "application/vnd.jupyter.widget-view+json": {
       "model_id": "7678fa7738df443d80a28f98872e9cc6",
       "version_major": 2,
       "version_minor": 0
      },
      "text/plain": [
       "  0%|          | 0/63359 [00:00<?, ?it/s]"
      ]
     },
     "metadata": {},
     "output_type": "display_data"
    },
    {
     "data": {
      "application/vnd.jupyter.widget-view+json": {
       "model_id": "bbf59164ae6b48ea86d1ecc8dfd6fe23",
       "version_major": 2,
       "version_minor": 0
      },
      "text/plain": [
       "  0%|          | 0/63359 [00:00<?, ?it/s]"
      ]
     },
     "metadata": {},
     "output_type": "display_data"
    },
    {
     "data": {
      "application/vnd.jupyter.widget-view+json": {
       "model_id": "33b2c3bc072147279bde0cb722951c7d",
       "version_major": 2,
       "version_minor": 0
      },
      "text/plain": [
       "  0%|          | 0/63359 [00:00<?, ?it/s]"
      ]
     },
     "metadata": {},
     "output_type": "display_data"
    },
    {
     "data": {
      "application/vnd.jupyter.widget-view+json": {
       "model_id": "01866fd264f6474fbbd2cbe54138575c",
       "version_major": 2,
       "version_minor": 0
      },
      "text/plain": [
       "  0%|          | 0/63359 [00:00<?, ?it/s]"
      ]
     },
     "metadata": {},
     "output_type": "display_data"
    },
    {
     "data": {
      "application/vnd.jupyter.widget-view+json": {
       "model_id": "1537d68f883e4460967d15cf51a6c99b",
       "version_major": 2,
       "version_minor": 0
      },
      "text/plain": [
       "  0%|          | 0/63359 [00:00<?, ?it/s]"
      ]
     },
     "metadata": {},
     "output_type": "display_data"
    },
    {
     "data": {
      "application/vnd.jupyter.widget-view+json": {
       "model_id": "93c79936a26941c9899733f6e6a3e55b",
       "version_major": 2,
       "version_minor": 0
      },
      "text/plain": [
       "  0%|          | 0/63359 [00:00<?, ?it/s]"
      ]
     },
     "metadata": {},
     "output_type": "display_data"
    },
    {
     "data": {
      "application/vnd.jupyter.widget-view+json": {
       "model_id": "f6aa5be8fd464671aff77da497b93d9b",
       "version_major": 2,
       "version_minor": 0
      },
      "text/plain": [
       "  0%|          | 0/63359 [00:00<?, ?it/s]"
      ]
     },
     "metadata": {},
     "output_type": "display_data"
    },
    {
     "data": {
      "application/vnd.jupyter.widget-view+json": {
       "model_id": "1c8b50ed122f401ebc5730301c83248b",
       "version_major": 2,
       "version_minor": 0
      },
      "text/plain": [
       "  0%|          | 0/63359 [00:00<?, ?it/s]"
      ]
     },
     "metadata": {},
     "output_type": "display_data"
    },
    {
     "data": {
      "application/vnd.jupyter.widget-view+json": {
       "model_id": "1af0d21e09c542abbc08e3febbe8881f",
       "version_major": 2,
       "version_minor": 0
      },
      "text/plain": [
       "  0%|          | 0/63359 [00:00<?, ?it/s]"
      ]
     },
     "metadata": {},
     "output_type": "display_data"
    },
    {
     "data": {
      "application/vnd.jupyter.widget-view+json": {
       "model_id": "dc784378c17e4412aa1a45016933a565",
       "version_major": 2,
       "version_minor": 0
      },
      "text/plain": [
       "  0%|          | 0/63359 [00:00<?, ?it/s]"
      ]
     },
     "metadata": {},
     "output_type": "display_data"
    },
    {
     "data": {
      "application/vnd.jupyter.widget-view+json": {
       "model_id": "adcf1a146ea449b0ae7fd442af029d39",
       "version_major": 2,
       "version_minor": 0
      },
      "text/plain": [
       "  0%|          | 0/63359 [00:00<?, ?it/s]"
      ]
     },
     "metadata": {},
     "output_type": "display_data"
    },
    {
     "data": {
      "application/vnd.jupyter.widget-view+json": {
       "model_id": "7189e7888b1d4d3785a3d4e54c7b801b",
       "version_major": 2,
       "version_minor": 0
      },
      "text/plain": [
       "  0%|          | 0/63359 [00:00<?, ?it/s]"
      ]
     },
     "metadata": {},
     "output_type": "display_data"
    },
    {
     "data": {
      "application/vnd.jupyter.widget-view+json": {
       "model_id": "0d559274ea9047ab88078b273d70feb9",
       "version_major": 2,
       "version_minor": 0
      },
      "text/plain": [
       "  0%|          | 0/63359 [00:00<?, ?it/s]"
      ]
     },
     "metadata": {},
     "output_type": "display_data"
    },
    {
     "data": {
      "application/vnd.jupyter.widget-view+json": {
       "model_id": "a57f372c1e834c54aefd735dda61ec3e",
       "version_major": 2,
       "version_minor": 0
      },
      "text/plain": [
       "  0%|          | 0/63359 [00:00<?, ?it/s]"
      ]
     },
     "metadata": {},
     "output_type": "display_data"
    },
    {
     "data": {
      "application/vnd.jupyter.widget-view+json": {
       "model_id": "452d112442094e2f8b3ca15cef777575",
       "version_major": 2,
       "version_minor": 0
      },
      "text/plain": [
       "  0%|          | 0/63359 [00:00<?, ?it/s]"
      ]
     },
     "metadata": {},
     "output_type": "display_data"
    },
    {
     "data": {
      "application/vnd.jupyter.widget-view+json": {
       "model_id": "b10feffed4e2424d9e15c35809ec8eee",
       "version_major": 2,
       "version_minor": 0
      },
      "text/plain": [
       "  0%|          | 0/63359 [00:00<?, ?it/s]"
      ]
     },
     "metadata": {},
     "output_type": "display_data"
    },
    {
     "data": {
      "application/vnd.jupyter.widget-view+json": {
       "model_id": "9195fa47cf674898a120460a2932c280",
       "version_major": 2,
       "version_minor": 0
      },
      "text/plain": [
       "  0%|          | 0/63359 [00:00<?, ?it/s]"
      ]
     },
     "metadata": {},
     "output_type": "display_data"
    },
    {
     "data": {
      "application/vnd.jupyter.widget-view+json": {
       "model_id": "66189d09245e434fa38ad9e78be07b0a",
       "version_major": 2,
       "version_minor": 0
      },
      "text/plain": [
       "  0%|          | 0/63359 [00:00<?, ?it/s]"
      ]
     },
     "metadata": {},
     "output_type": "display_data"
    },
    {
     "data": {
      "application/vnd.jupyter.widget-view+json": {
       "model_id": "5fbc8a5914044e108b94e6847b9b6003",
       "version_major": 2,
       "version_minor": 0
      },
      "text/plain": [
       "  0%|          | 0/63359 [00:00<?, ?it/s]"
      ]
     },
     "metadata": {},
     "output_type": "display_data"
    },
    {
     "data": {
      "application/vnd.jupyter.widget-view+json": {
       "model_id": "c9591af403cf4877a261098f31f3d207",
       "version_major": 2,
       "version_minor": 0
      },
      "text/plain": [
       "  0%|          | 0/63359 [00:00<?, ?it/s]"
      ]
     },
     "metadata": {},
     "output_type": "display_data"
    },
    {
     "data": {
      "application/vnd.jupyter.widget-view+json": {
       "model_id": "487ea61ff2c54a3e8f05d3e577a6c40d",
       "version_major": 2,
       "version_minor": 0
      },
      "text/plain": [
       "  0%|          | 0/63359 [00:00<?, ?it/s]"
      ]
     },
     "metadata": {},
     "output_type": "display_data"
    },
    {
     "data": {
      "application/vnd.jupyter.widget-view+json": {
       "model_id": "5dadb08cd27741db95a8b026c2b726e9",
       "version_major": 2,
       "version_minor": 0
      },
      "text/plain": [
       "  0%|          | 0/63359 [00:00<?, ?it/s]"
      ]
     },
     "metadata": {},
     "output_type": "display_data"
    },
    {
     "data": {
      "application/vnd.jupyter.widget-view+json": {
       "model_id": "b90393e2802348189550dbba0195f3d6",
       "version_major": 2,
       "version_minor": 0
      },
      "text/plain": [
       "  0%|          | 0/63359 [00:00<?, ?it/s]"
      ]
     },
     "metadata": {},
     "output_type": "display_data"
    },
    {
     "data": {
      "application/vnd.jupyter.widget-view+json": {
       "model_id": "8cc87e14d7054ef0914f9cbb84c7cbb8",
       "version_major": 2,
       "version_minor": 0
      },
      "text/plain": [
       "  0%|          | 0/63359 [00:00<?, ?it/s]"
      ]
     },
     "metadata": {},
     "output_type": "display_data"
    },
    {
     "data": {
      "application/vnd.jupyter.widget-view+json": {
       "model_id": "4ea8b41d8594451e9de465c8ad8d524d",
       "version_major": 2,
       "version_minor": 0
      },
      "text/plain": [
       "  0%|          | 0/63359 [00:00<?, ?it/s]"
      ]
     },
     "metadata": {},
     "output_type": "display_data"
    },
    {
     "data": {
      "application/vnd.jupyter.widget-view+json": {
       "model_id": "7333d2df65774b9083a405c475551b32",
       "version_major": 2,
       "version_minor": 0
      },
      "text/plain": [
       "  0%|          | 0/63359 [00:00<?, ?it/s]"
      ]
     },
     "metadata": {},
     "output_type": "display_data"
    },
    {
     "data": {
      "application/vnd.jupyter.widget-view+json": {
       "model_id": "0d772cc7d20643b08729a1836f635478",
       "version_major": 2,
       "version_minor": 0
      },
      "text/plain": [
       "  0%|          | 0/63359 [00:00<?, ?it/s]"
      ]
     },
     "metadata": {},
     "output_type": "display_data"
    },
    {
     "data": {
      "application/vnd.jupyter.widget-view+json": {
       "model_id": "e31462f1f7004cd8b88936789e3f163b",
       "version_major": 2,
       "version_minor": 0
      },
      "text/plain": [
       "  0%|          | 0/63359 [00:00<?, ?it/s]"
      ]
     },
     "metadata": {},
     "output_type": "display_data"
    },
    {
     "data": {
      "application/vnd.jupyter.widget-view+json": {
       "model_id": "03b8a897e8d64bb69fa83a295ee0442b",
       "version_major": 2,
       "version_minor": 0
      },
      "text/plain": [
       "  0%|          | 0/63359 [00:00<?, ?it/s]"
      ]
     },
     "metadata": {},
     "output_type": "display_data"
    },
    {
     "data": {
      "application/vnd.jupyter.widget-view+json": {
       "model_id": "57ec53e18f7a4cb9a918e66671a7dbaf",
       "version_major": 2,
       "version_minor": 0
      },
      "text/plain": [
       "  0%|          | 0/63359 [00:00<?, ?it/s]"
      ]
     },
     "metadata": {},
     "output_type": "display_data"
    },
    {
     "data": {
      "application/vnd.jupyter.widget-view+json": {
       "model_id": "7629d4b13dad4f3fa273f5b86f0f4cd9",
       "version_major": 2,
       "version_minor": 0
      },
      "text/plain": [
       "  0%|          | 0/63359 [00:00<?, ?it/s]"
      ]
     },
     "metadata": {},
     "output_type": "display_data"
    },
    {
     "data": {
      "application/vnd.jupyter.widget-view+json": {
       "model_id": "a0a5759825a84d49a3d035726efae602",
       "version_major": 2,
       "version_minor": 0
      },
      "text/plain": [
       "  0%|          | 0/63359 [00:00<?, ?it/s]"
      ]
     },
     "metadata": {},
     "output_type": "display_data"
    },
    {
     "data": {
      "application/vnd.jupyter.widget-view+json": {
       "model_id": "f3a1ad09bc294307a40f70d690622dda",
       "version_major": 2,
       "version_minor": 0
      },
      "text/plain": [
       "  0%|          | 0/63359 [00:00<?, ?it/s]"
      ]
     },
     "metadata": {},
     "output_type": "display_data"
    },
    {
     "data": {
      "application/vnd.jupyter.widget-view+json": {
       "model_id": "8b83f58e926b454d8d2a3c1ad9bd7345",
       "version_major": 2,
       "version_minor": 0
      },
      "text/plain": [
       "  0%|          | 0/63359 [00:00<?, ?it/s]"
      ]
     },
     "metadata": {},
     "output_type": "display_data"
    },
    {
     "data": {
      "application/vnd.jupyter.widget-view+json": {
       "model_id": "736be83a4d494b6dbade30ba4b278695",
       "version_major": 2,
       "version_minor": 0
      },
      "text/plain": [
       "  0%|          | 0/63359 [00:00<?, ?it/s]"
      ]
     },
     "metadata": {},
     "output_type": "display_data"
    },
    {
     "data": {
      "application/vnd.jupyter.widget-view+json": {
       "model_id": "8ef9e38ca28742d7b160eabfd97a6a29",
       "version_major": 2,
       "version_minor": 0
      },
      "text/plain": [
       "  0%|          | 0/63359 [00:00<?, ?it/s]"
      ]
     },
     "metadata": {},
     "output_type": "display_data"
    },
    {
     "data": {
      "application/vnd.jupyter.widget-view+json": {
       "model_id": "99ffcc9ab06a497d8a6c33a28f2eea2c",
       "version_major": 2,
       "version_minor": 0
      },
      "text/plain": [
       "  0%|          | 0/63359 [00:00<?, ?it/s]"
      ]
     },
     "metadata": {},
     "output_type": "display_data"
    },
    {
     "data": {
      "application/vnd.jupyter.widget-view+json": {
       "model_id": "d4df332d57d0413c8b98a13a77a824ab",
       "version_major": 2,
       "version_minor": 0
      },
      "text/plain": [
       "  0%|          | 0/63359 [00:00<?, ?it/s]"
      ]
     },
     "metadata": {},
     "output_type": "display_data"
    },
    {
     "data": {
      "application/vnd.jupyter.widget-view+json": {
       "model_id": "8c6509f5550148a4bafc2512196c096c",
       "version_major": 2,
       "version_minor": 0
      },
      "text/plain": [
       "  0%|          | 0/63359 [00:00<?, ?it/s]"
      ]
     },
     "metadata": {},
     "output_type": "display_data"
    },
    {
     "data": {
      "application/vnd.jupyter.widget-view+json": {
       "model_id": "a347136e8804488c901ef75a680ca53f",
       "version_major": 2,
       "version_minor": 0
      },
      "text/plain": [
       "  0%|          | 0/63359 [00:00<?, ?it/s]"
      ]
     },
     "metadata": {},
     "output_type": "display_data"
    },
    {
     "data": {
      "application/vnd.jupyter.widget-view+json": {
       "model_id": "ec967d282a9147d0878211e0fa4f99a7",
       "version_major": 2,
       "version_minor": 0
      },
      "text/plain": [
       "  0%|          | 0/63359 [00:00<?, ?it/s]"
      ]
     },
     "metadata": {},
     "output_type": "display_data"
    },
    {
     "data": {
      "application/vnd.jupyter.widget-view+json": {
       "model_id": "d3c0b7cb61264e93992cf75c19cb636a",
       "version_major": 2,
       "version_minor": 0
      },
      "text/plain": [
       "  0%|          | 0/63359 [00:00<?, ?it/s]"
      ]
     },
     "metadata": {},
     "output_type": "display_data"
    },
    {
     "data": {
      "application/vnd.jupyter.widget-view+json": {
       "model_id": "bc13a97ba2ec4ea2b10e9f0594afca75",
       "version_major": 2,
       "version_minor": 0
      },
      "text/plain": [
       "  0%|          | 0/63359 [00:00<?, ?it/s]"
      ]
     },
     "metadata": {},
     "output_type": "display_data"
    },
    {
     "data": {
      "application/vnd.jupyter.widget-view+json": {
       "model_id": "70b5dcf6ffe6419cac44f0b20e5ef8a8",
       "version_major": 2,
       "version_minor": 0
      },
      "text/plain": [
       "  0%|          | 0/63359 [00:00<?, ?it/s]"
      ]
     },
     "metadata": {},
     "output_type": "display_data"
    },
    {
     "data": {
      "application/vnd.jupyter.widget-view+json": {
       "model_id": "d0e1cfd0762243ea80af59f7a3f7a3cd",
       "version_major": 2,
       "version_minor": 0
      },
      "text/plain": [
       "  0%|          | 0/63359 [00:00<?, ?it/s]"
      ]
     },
     "metadata": {},
     "output_type": "display_data"
    },
    {
     "data": {
      "application/vnd.jupyter.widget-view+json": {
       "model_id": "bc761e1e5f4f456d8acd586714e6b418",
       "version_major": 2,
       "version_minor": 0
      },
      "text/plain": [
       "  0%|          | 0/63359 [00:00<?, ?it/s]"
      ]
     },
     "metadata": {},
     "output_type": "display_data"
    },
    {
     "data": {
      "application/vnd.jupyter.widget-view+json": {
       "model_id": "",
       "version_major": 2,
       "version_minor": 0
      },
      "text/plain": [
       "  0%|          | 0/63359 [00:00<?, ?it/s]"
      ]
     },
     "metadata": {},
     "output_type": "display_data"
    },
    {
     "data": {
      "application/vnd.jupyter.widget-view+json": {
       "model_id": "",
       "version_major": 2,
       "version_minor": 0
      },
      "text/plain": [
       "  0%|          | 0/63359 [00:00<?, ?it/s]"
      ]
     },
     "metadata": {},
     "output_type": "display_data"
    },
    {
     "data": {
      "application/vnd.jupyter.widget-view+json": {
       "model_id": "",
       "version_major": 2,
       "version_minor": 0
      },
      "text/plain": [
       "  0%|          | 0/63359 [00:00<?, ?it/s]"
      ]
     },
     "metadata": {},
     "output_type": "display_data"
    },
    {
     "data": {
      "application/vnd.jupyter.widget-view+json": {
       "model_id": "",
       "version_major": 2,
       "version_minor": 0
      },
      "text/plain": [
       "  0%|          | 0/63359 [00:00<?, ?it/s]"
      ]
     },
     "metadata": {},
     "output_type": "display_data"
    },
    {
     "data": {
      "application/vnd.jupyter.widget-view+json": {
       "model_id": "",
       "version_major": 2,
       "version_minor": 0
      },
      "text/plain": [
       "  0%|          | 0/63359 [00:00<?, ?it/s]"
      ]
     },
     "metadata": {},
     "output_type": "display_data"
    },
    {
     "data": {
      "application/vnd.jupyter.widget-view+json": {
       "model_id": "",
       "version_major": 2,
       "version_minor": 0
      },
      "text/plain": [
       "  0%|          | 0/63359 [00:00<?, ?it/s]"
      ]
     },
     "metadata": {},
     "output_type": "display_data"
    },
    {
     "data": {
      "application/vnd.jupyter.widget-view+json": {
       "model_id": "",
       "version_major": 2,
       "version_minor": 0
      },
      "text/plain": [
       "  0%|          | 0/63359 [00:00<?, ?it/s]"
      ]
     },
     "metadata": {},
     "output_type": "display_data"
    },
    {
     "data": {
      "application/vnd.jupyter.widget-view+json": {
       "model_id": "",
       "version_major": 2,
       "version_minor": 0
      },
      "text/plain": [
       "  0%|          | 0/63359 [00:00<?, ?it/s]"
      ]
     },
     "metadata": {},
     "output_type": "display_data"
    },
    {
     "data": {
      "application/vnd.jupyter.widget-view+json": {
       "model_id": "",
       "version_major": 2,
       "version_minor": 0
      },
      "text/plain": [
       "  0%|          | 0/63359 [00:00<?, ?it/s]"
      ]
     },
     "metadata": {},
     "output_type": "display_data"
    },
    {
     "data": {
      "application/vnd.jupyter.widget-view+json": {
       "model_id": "",
       "version_major": 2,
       "version_minor": 0
      },
      "text/plain": [
       "  0%|          | 0/63359 [00:00<?, ?it/s]"
      ]
     },
     "metadata": {},
     "output_type": "display_data"
    },
    {
     "data": {
      "application/vnd.jupyter.widget-view+json": {
       "model_id": "",
       "version_major": 2,
       "version_minor": 0
      },
      "text/plain": [
       "  0%|          | 0/63359 [00:00<?, ?it/s]"
      ]
     },
     "metadata": {},
     "output_type": "display_data"
    },
    {
     "data": {
      "application/vnd.jupyter.widget-view+json": {
       "model_id": "",
       "version_major": 2,
       "version_minor": 0
      },
      "text/plain": [
       "  0%|          | 0/63359 [00:00<?, ?it/s]"
      ]
     },
     "metadata": {},
     "output_type": "display_data"
    },
    {
     "data": {
      "application/vnd.jupyter.widget-view+json": {
       "model_id": "",
       "version_major": 2,
       "version_minor": 0
      },
      "text/plain": [
       "  0%|          | 0/63359 [00:00<?, ?it/s]"
      ]
     },
     "metadata": {},
     "output_type": "display_data"
    },
    {
     "data": {
      "application/vnd.jupyter.widget-view+json": {
       "model_id": "",
       "version_major": 2,
       "version_minor": 0
      },
      "text/plain": [
       "  0%|          | 0/63359 [00:00<?, ?it/s]"
      ]
     },
     "metadata": {},
     "output_type": "display_data"
    },
    {
     "data": {
      "application/vnd.jupyter.widget-view+json": {
       "model_id": "",
       "version_major": 2,
       "version_minor": 0
      },
      "text/plain": [
       "  0%|          | 0/63359 [00:00<?, ?it/s]"
      ]
     },
     "metadata": {},
     "output_type": "display_data"
    },
    {
     "data": {
      "application/vnd.jupyter.widget-view+json": {
       "model_id": "",
       "version_major": 2,
       "version_minor": 0
      },
      "text/plain": [
       "  0%|          | 0/63359 [00:00<?, ?it/s]"
      ]
     },
     "metadata": {},
     "output_type": "display_data"
    },
    {
     "data": {
      "application/vnd.jupyter.widget-view+json": {
       "model_id": "",
       "version_major": 2,
       "version_minor": 0
      },
      "text/plain": [
       "  0%|          | 0/63359 [00:00<?, ?it/s]"
      ]
     },
     "metadata": {},
     "output_type": "display_data"
    },
    {
     "data": {
      "application/vnd.jupyter.widget-view+json": {
       "model_id": "",
       "version_major": 2,
       "version_minor": 0
      },
      "text/plain": [
       "  0%|          | 0/63359 [00:00<?, ?it/s]"
      ]
     },
     "metadata": {},
     "output_type": "display_data"
    },
    {
     "data": {
      "application/vnd.jupyter.widget-view+json": {
       "model_id": "",
       "version_major": 2,
       "version_minor": 0
      },
      "text/plain": [
       "  0%|          | 0/63359 [00:00<?, ?it/s]"
      ]
     },
     "metadata": {},
     "output_type": "display_data"
    },
    {
     "data": {
      "application/vnd.jupyter.widget-view+json": {
       "model_id": "",
       "version_major": 2,
       "version_minor": 0
      },
      "text/plain": [
       "  0%|          | 0/63359 [00:00<?, ?it/s]"
      ]
     },
     "metadata": {},
     "output_type": "display_data"
    },
    {
     "data": {
      "application/vnd.jupyter.widget-view+json": {
       "model_id": "",
       "version_major": 2,
       "version_minor": 0
      },
      "text/plain": [
       "  0%|          | 0/63359 [00:00<?, ?it/s]"
      ]
     },
     "metadata": {},
     "output_type": "display_data"
    },
    {
     "data": {
      "application/vnd.jupyter.widget-view+json": {
       "model_id": "",
       "version_major": 2,
       "version_minor": 0
      },
      "text/plain": [
       "  0%|          | 0/63359 [00:00<?, ?it/s]"
      ]
     },
     "metadata": {},
     "output_type": "display_data"
    },
    {
     "data": {
      "application/vnd.jupyter.widget-view+json": {
       "model_id": "",
       "version_major": 2,
       "version_minor": 0
      },
      "text/plain": [
       "  0%|          | 0/63359 [00:00<?, ?it/s]"
      ]
     },
     "metadata": {},
     "output_type": "display_data"
    },
    {
     "data": {
      "application/vnd.jupyter.widget-view+json": {
       "model_id": "",
       "version_major": 2,
       "version_minor": 0
      },
      "text/plain": [
       "  0%|          | 0/63359 [00:00<?, ?it/s]"
      ]
     },
     "metadata": {},
     "output_type": "display_data"
    },
    {
     "data": {
      "application/vnd.jupyter.widget-view+json": {
       "model_id": "",
       "version_major": 2,
       "version_minor": 0
      },
      "text/plain": [
       "  0%|          | 0/63359 [00:00<?, ?it/s]"
      ]
     },
     "metadata": {},
     "output_type": "display_data"
    },
    {
     "data": {
      "application/vnd.jupyter.widget-view+json": {
       "model_id": "",
       "version_major": 2,
       "version_minor": 0
      },
      "text/plain": [
       "  0%|          | 0/63359 [00:00<?, ?it/s]"
      ]
     },
     "metadata": {},
     "output_type": "display_data"
    },
    {
     "data": {
      "application/vnd.jupyter.widget-view+json": {
       "model_id": "",
       "version_major": 2,
       "version_minor": 0
      },
      "text/plain": [
       "  0%|          | 0/63359 [00:00<?, ?it/s]"
      ]
     },
     "metadata": {},
     "output_type": "display_data"
    },
    {
     "data": {
      "application/vnd.jupyter.widget-view+json": {
       "model_id": "",
       "version_major": 2,
       "version_minor": 0
      },
      "text/plain": [
       "  0%|          | 0/63359 [00:00<?, ?it/s]"
      ]
     },
     "metadata": {},
     "output_type": "display_data"
    },
    {
     "data": {
      "application/vnd.jupyter.widget-view+json": {
       "model_id": "",
       "version_major": 2,
       "version_minor": 0
      },
      "text/plain": [
       "  0%|          | 0/63359 [00:00<?, ?it/s]"
      ]
     },
     "metadata": {},
     "output_type": "display_data"
    },
    {
     "data": {
      "application/vnd.jupyter.widget-view+json": {
       "model_id": "",
       "version_major": 2,
       "version_minor": 0
      },
      "text/plain": [
       "  0%|          | 0/63359 [00:00<?, ?it/s]"
      ]
     },
     "metadata": {},
     "output_type": "display_data"
    },
    {
     "data": {
      "application/vnd.jupyter.widget-view+json": {
       "model_id": "",
       "version_major": 2,
       "version_minor": 0
      },
      "text/plain": [
       "  0%|          | 0/63359 [00:00<?, ?it/s]"
      ]
     },
     "metadata": {},
     "output_type": "display_data"
    },
    {
     "data": {
      "application/vnd.jupyter.widget-view+json": {
       "model_id": "",
       "version_major": 2,
       "version_minor": 0
      },
      "text/plain": [
       "  0%|          | 0/63359 [00:00<?, ?it/s]"
      ]
     },
     "metadata": {},
     "output_type": "display_data"
    },
    {
     "data": {
      "application/vnd.jupyter.widget-view+json": {
       "model_id": "",
       "version_major": 2,
       "version_minor": 0
      },
      "text/plain": [
       "  0%|          | 0/63359 [00:00<?, ?it/s]"
      ]
     },
     "metadata": {},
     "output_type": "display_data"
    },
    {
     "data": {
      "application/vnd.jupyter.widget-view+json": {
       "model_id": "",
       "version_major": 2,
       "version_minor": 0
      },
      "text/plain": [
       "  0%|          | 0/63359 [00:00<?, ?it/s]"
      ]
     },
     "metadata": {},
     "output_type": "display_data"
    },
    {
     "data": {
      "application/vnd.jupyter.widget-view+json": {
       "model_id": "",
       "version_major": 2,
       "version_minor": 0
      },
      "text/plain": [
       "  0%|          | 0/63359 [00:00<?, ?it/s]"
      ]
     },
     "metadata": {},
     "output_type": "display_data"
    },
    {
     "data": {
      "application/vnd.jupyter.widget-view+json": {
       "model_id": "",
       "version_major": 2,
       "version_minor": 0
      },
      "text/plain": [
       "  0%|          | 0/63359 [00:00<?, ?it/s]"
      ]
     },
     "metadata": {},
     "output_type": "display_data"
    },
    {
     "data": {
      "application/vnd.jupyter.widget-view+json": {
       "model_id": "",
       "version_major": 2,
       "version_minor": 0
      },
      "text/plain": [
       "  0%|          | 0/63359 [00:00<?, ?it/s]"
      ]
     },
     "metadata": {},
     "output_type": "display_data"
    },
    {
     "data": {
      "application/vnd.jupyter.widget-view+json": {
       "model_id": "",
       "version_major": 2,
       "version_minor": 0
      },
      "text/plain": [
       "  0%|          | 0/63359 [00:00<?, ?it/s]"
      ]
     },
     "metadata": {},
     "output_type": "display_data"
    },
    {
     "data": {
      "application/vnd.jupyter.widget-view+json": {
       "model_id": "",
       "version_major": 2,
       "version_minor": 0
      },
      "text/plain": [
       "  0%|          | 0/63359 [00:00<?, ?it/s]"
      ]
     },
     "metadata": {},
     "output_type": "display_data"
    },
    {
     "data": {
      "application/vnd.jupyter.widget-view+json": {
       "model_id": "",
       "version_major": 2,
       "version_minor": 0
      },
      "text/plain": [
       "  0%|          | 0/63359 [00:00<?, ?it/s]"
      ]
     },
     "metadata": {},
     "output_type": "display_data"
    },
    {
     "data": {
      "application/vnd.jupyter.widget-view+json": {
       "model_id": "",
       "version_major": 2,
       "version_minor": 0
      },
      "text/plain": [
       "  0%|          | 0/63359 [00:00<?, ?it/s]"
      ]
     },
     "metadata": {},
     "output_type": "display_data"
    },
    {
     "data": {
      "application/vnd.jupyter.widget-view+json": {
       "model_id": "",
       "version_major": 2,
       "version_minor": 0
      },
      "text/plain": [
       "  0%|          | 0/63359 [00:00<?, ?it/s]"
      ]
     },
     "metadata": {},
     "output_type": "display_data"
    },
    {
     "data": {
      "application/vnd.jupyter.widget-view+json": {
       "model_id": "",
       "version_major": 2,
       "version_minor": 0
      },
      "text/plain": [
       "  0%|          | 0/63359 [00:00<?, ?it/s]"
      ]
     },
     "metadata": {},
     "output_type": "display_data"
    },
    {
     "data": {
      "application/vnd.jupyter.widget-view+json": {
       "model_id": "",
       "version_major": 2,
       "version_minor": 0
      },
      "text/plain": [
       "  0%|          | 0/63359 [00:00<?, ?it/s]"
      ]
     },
     "metadata": {},
     "output_type": "display_data"
    },
    {
     "data": {
      "application/vnd.jupyter.widget-view+json": {
       "model_id": "",
       "version_major": 2,
       "version_minor": 0
      },
      "text/plain": [
       "  0%|          | 0/63359 [00:00<?, ?it/s]"
      ]
     },
     "metadata": {},
     "output_type": "display_data"
    },
    {
     "data": {
      "application/vnd.jupyter.widget-view+json": {
       "model_id": "",
       "version_major": 2,
       "version_minor": 0
      },
      "text/plain": [
       "  0%|          | 0/63359 [00:00<?, ?it/s]"
      ]
     },
     "metadata": {},
     "output_type": "display_data"
    },
    {
     "data": {
      "application/vnd.jupyter.widget-view+json": {
       "model_id": "",
       "version_major": 2,
       "version_minor": 0
      },
      "text/plain": [
       "  0%|          | 0/63359 [00:00<?, ?it/s]"
      ]
     },
     "metadata": {},
     "output_type": "display_data"
    },
    {
     "data": {
      "application/vnd.jupyter.widget-view+json": {
       "model_id": "",
       "version_major": 2,
       "version_minor": 0
      },
      "text/plain": [
       "  0%|          | 0/63359 [00:00<?, ?it/s]"
      ]
     },
     "metadata": {},
     "output_type": "display_data"
    },
    {
     "data": {
      "application/vnd.jupyter.widget-view+json": {
       "model_id": "",
       "version_major": 2,
       "version_minor": 0
      },
      "text/plain": [
       "  0%|          | 0/63359 [00:00<?, ?it/s]"
      ]
     },
     "metadata": {},
     "output_type": "display_data"
    },
    {
     "data": {
      "application/vnd.jupyter.widget-view+json": {
       "model_id": "",
       "version_major": 2,
       "version_minor": 0
      },
      "text/plain": [
       "  0%|          | 0/63359 [00:00<?, ?it/s]"
      ]
     },
     "metadata": {},
     "output_type": "display_data"
    },
    {
     "data": {
      "application/vnd.jupyter.widget-view+json": {
       "model_id": "",
       "version_major": 2,
       "version_minor": 0
      },
      "text/plain": [
       "  0%|          | 0/63359 [00:00<?, ?it/s]"
      ]
     },
     "metadata": {},
     "output_type": "display_data"
    },
    {
     "data": {
      "application/vnd.jupyter.widget-view+json": {
       "model_id": "",
       "version_major": 2,
       "version_minor": 0
      },
      "text/plain": [
       "  0%|          | 0/63359 [00:00<?, ?it/s]"
      ]
     },
     "metadata": {},
     "output_type": "display_data"
    },
    {
     "data": {
      "application/vnd.jupyter.widget-view+json": {
       "model_id": "",
       "version_major": 2,
       "version_minor": 0
      },
      "text/plain": [
       "  0%|          | 0/63359 [00:00<?, ?it/s]"
      ]
     },
     "metadata": {},
     "output_type": "display_data"
    },
    {
     "data": {
      "application/vnd.jupyter.widget-view+json": {
       "model_id": "",
       "version_major": 2,
       "version_minor": 0
      },
      "text/plain": [
       "  0%|          | 0/63359 [00:00<?, ?it/s]"
      ]
     },
     "metadata": {},
     "output_type": "display_data"
    },
    {
     "data": {
      "application/vnd.jupyter.widget-view+json": {
       "model_id": "",
       "version_major": 2,
       "version_minor": 0
      },
      "text/plain": [
       "  0%|          | 0/63359 [00:00<?, ?it/s]"
      ]
     },
     "metadata": {},
     "output_type": "display_data"
    },
    {
     "data": {
      "application/vnd.jupyter.widget-view+json": {
       "model_id": "",
       "version_major": 2,
       "version_minor": 0
      },
      "text/plain": [
       "  0%|          | 0/63359 [00:00<?, ?it/s]"
      ]
     },
     "metadata": {},
     "output_type": "display_data"
    },
    {
     "data": {
      "application/vnd.jupyter.widget-view+json": {
       "model_id": "",
       "version_major": 2,
       "version_minor": 0
      },
      "text/plain": [
       "  0%|          | 0/63359 [00:00<?, ?it/s]"
      ]
     },
     "metadata": {},
     "output_type": "display_data"
    }
   ],
   "source": [
    "# outfits_at_least_5_subset100 = {key: elem for key, elem in list(outfits_at_least_5.items())[:100]}\n",
    "# results_min5_k2_subset100 = {}\n",
    "\n",
    "for key, outfit in tqdm(list(outfits_at_least_5_subset100.items())):\n",
    "    if results_min5_k2_subset100.get(key) is None:\n",
    "        results_min5_k2_subset100.update({key: {\"original\": get_outfit_score(outfit['items'])}})\n",
    "\n",
    "    if results_min5_k2_subset100[key].get(\"greedy_singlestep\") is None and results_min5_k2_subset100[key].get(\"greedy_multistep\") is None:\n",
    "        single_score, multi_score = get_top_k_greedy_single_and_multistep_score(outfit, k=2)\n",
    "        results_min5_k2_subset100[key].update({\"greedy_singlestep\": single_score,\n",
    "                                               \"greedy_multistep\": multi_score})\n",
    "\n",
    "    if results_min5_k2_subset100[key].get(\"greedy_singlestep\") is None:\n",
    "         results_min5_k2_subset100[key].update({\"greedy_singlestep\": get_top_k_greedy_singlestep_score(outfit, k=2)})\n",
    "\n",
    "    if results_min5_k2_subset100[key].get(\"greedy_multistep\") is None:\n",
    "         results_min5_k2_subset100[key].update({\"greedy_multistep\": get_top_k_greedy_multistep_score(outfit, k=2)}) \n",
    "    \n",
    "    "
   ]
  },
  {
   "cell_type": "code",
   "execution_count": 10,
   "id": "ab2ce4f3-fdba-40bb-8a89-098726d787cd",
   "metadata": {},
   "outputs": [
    {
     "data": {
      "image/png": "[encoded data removed]",
      "text/plain": [
       "<Figure size 1000x700 with 1 Axes>"
      ]
     },
     "metadata": {},
     "output_type": "display_data"
    }
   ],
   "source": [
    "original_scores = []\n",
    "greedy_singlestep_scores = []\n",
    "greedy_multistep_scores = []\n",
    "\n",
    "for key, res_dict in results_min5_k2_subset100.items():\n",
    "    original_scores.append(res_dict[\"original\"])\n",
    "    greedy_singlestep_scores.append(res_dict[\"greedy_singlestep\"])\n",
    "    greedy_multistep_scores.append(res_dict[\"greedy_multistep\"])\n",
    "\n",
    "original_scores, greedy_singlestep_scores, greedy_multistep_scores = \\\n",
    "    np.array(original_scores), np.array(greedy_singlestep_scores), np.array(greedy_multistep_scores)\n",
    "\n",
    "\n",
    "plt.figure(figsize=(10, 7))\n",
    "\n",
    "plt.hist(original_scores, bins=10, alpha=0.5, label=\"original\")\n",
    "plt.hist(greedy_singlestep_scores, bins=10, alpha=0.5, label=\"greedy_singlestep_scores\")\n",
    "plt.hist(greedy_multistep_scores, bins=10, alpha=0.5, label=\"greedy_multistep_scores\")\n",
    "\n",
    "\n",
    "plt.legend(fontsize=18, shadow=True)\n",
    "plt.show()"
   ]
  },
  {
   "cell_type": "code",
   "execution_count": 11,
   "id": "c34c6205-a6f1-4a56-bb5f-50f9291e3d25",
   "metadata": {},
   "outputs": [],
   "source": [
    "with open(\"data/Re-PolyVore_greedy_results_min5_k2_subset100.json\", \"w\", encoding=\"utf-8\") as f:\n",
    "        json.dump(results_min5_k2_subset100, f, indent=4)"
   ]
  },
  {
   "cell_type": "code",
   "execution_count": null,
   "id": "635c4ec7-b8a7-4d99-98f4-e759ede33dec",
   "metadata": {},
   "outputs": [],
   "source": []
  }
 ],
 "metadata": {
  "kernelspec": {
   "display_name": "Python 3 (ipykernel)",
   "language": "python",
   "name": "python3"
  },
  "language_info": {
   "codemirror_mode": {
    "name": "ipython",
    "version": 3
   },
   "file_extension": ".py",
   "mimetype": "text/x-python",
   "name": "python",
   "nbconvert_exporter": "python",
   "pygments_lexer": "ipython3",
   "version": "3.10.13"
  },
  "widgets": {
   "application/vnd.jupyter.widget-state+json": {
    "state": {
     "0010c191cf8041f8a1f51fd205d282c7": {
      "model_module": "@jupyter-widgets/base",
      "model_module_version": "2.0.0",
      "model_name": "LayoutModel",
      "state": {}
     },
     "0095fc280aa64ceca51e37c4f3fb9272": {
      "model_module": "@jupyter-widgets/controls",
      "model_module_version": "2.0.0",
      "model_name": "HTMLStyleModel",
      "state": {
       "description_width": "",
       "font_size": null,
       "text_color": null
      }
     },
     "00ae47471db74bc8a776c6537d928e73": {
      "model_module": "@jupyter-widgets/base",
      "model_module_version": "2.0.0",
      "model_name": "LayoutModel",
      "state": {}
     },
     "00d12adb0e1d488c99f01ceabb192e60": {
      "model_module": "@jupyter-widgets/controls",
      "model_module_version": "2.0.0",
      "model_name": "HTMLModel",
      "state": {
       "layout": "IPY_MODEL_ab6d4da8c9d14a92a91265cb4a20ffcf",
       "style": "IPY_MODEL_982566c1e43b4176a1bade01f867ec5b",
       "value": " 63359/63359 [06:00&lt;00:00, 170.78it/s]"
      }
     },
     "00d65aaf639a434797d581056263d346": {
      "model_module": "@jupyter-widgets/base",
      "model_module_version": "2.0.0",
      "model_name": "LayoutModel",
      "state": {}
     },
     "010fb4e7660e4a8fbaaa7af310fdf307": {
      "model_module": "@jupyter-widgets/base",
      "model_module_version": "2.0.0",
      "model_name": "LayoutModel",
      "state": {}
     },
     "011832377e4a4e538398a5f096a5f459": {
      "model_module": "@jupyter-widgets/controls",
      "model_module_version": "2.0.0",
      "model_name": "HTMLModel",
      "state": {
       "layout": "IPY_MODEL_0eced108d86d41439d87d0db8ee7924d",
       "style": "IPY_MODEL_679ee81b1a56499a9398a32a82ce9061",
       "value": " 63350/63359 [05:51&lt;00:00, 181.50it/s]"
      }
     },
     "013b78f28a504544ab410b6aa3e53ef1": {
      "model_module": "@jupyter-widgets/base",
      "model_module_version": "2.0.0",
      "model_name": "LayoutModel",
      "state": {}
     },
     "01a907d9153747849483cc6e1a53ab77": {
      "model_module": "@jupyter-widgets/base",
      "model_module_version": "2.0.0",
      "model_name": "LayoutModel",
      "state": {}
     },
     "01d7f8055eae4bd195647e99ce5676f1": {
      "model_module": "@jupyter-widgets/controls",
      "model_module_version": "2.0.0",
      "model_name": "HTMLModel",
      "state": {
       "layout": "IPY_MODEL_8b27e1bfce354c978aaf4018617e1f19",
       "style": "IPY_MODEL_0729d11372e345c084694d9a4baf45d9",
       "value": " 63343/63359 [05:53&lt;00:00, 181.68it/s]"
      }
     },
     "01e8785e7bf24390b2878139176b5fd9": {
      "model_module": "@jupyter-widgets/controls",
      "model_module_version": "2.0.0",
      "model_name": "HTMLModel",
      "state": {
       "layout": "IPY_MODEL_ec1b9e0edfdc44cfbb713a7da1d5613a",
       "style": "IPY_MODEL_6b540941eb0245cfa6574799130ea91b",
       "value": " 63346/63359 [06:02&lt;00:00, 175.27it/s]"
      }
     },
     "02119699213948a9a22a8b0eec0aae42": {
      "model_module": "@jupyter-widgets/controls",
      "model_module_version": "2.0.0",
      "model_name": "HTMLStyleModel",
      "state": {
       "description_width": "",
       "font_size": null,
       "text_color": null
      }
     },
     "024678c78f6d41aa85583bb468cb4f06": {
      "model_module": "@jupyter-widgets/controls",
      "model_module_version": "2.0.0",
      "model_name": "HTMLModel",
      "state": {
       "layout": "IPY_MODEL_f684c2b8780d47eca25d0c645c0ca5de",
       "style": "IPY_MODEL_f9c4fe5b0cd041f385dcc79a321684df",
       "value": "100%"
      }
     },
     "02693f5b25c44b96bd819f00f3f1ecc0": {
      "model_module": "@jupyter-widgets/base",
      "model_module_version": "2.0.0",
      "model_name": "LayoutModel",
      "state": {
       "visibility": "hidden"
      }
     },
     "028363695b4c4815856e4e4e6dc15730": {
      "model_module": "@jupyter-widgets/base",
      "model_module_version": "2.0.0",
      "model_name": "LayoutModel",
      "state": {
       "visibility": "hidden"
      }
     },
     "02fe626821294dab844cc8b4e433a940": {
      "model_module": "@jupyter-widgets/controls",
      "model_module_version": "2.0.0",
      "model_name": "FloatProgressModel",
      "state": {
       "layout": "IPY_MODEL_b1d24416d8f040aca395824d2b785e5d",
       "max": 63359,
       "style": "IPY_MODEL_909c3c50f3d54c46a3f47b8560ca32df",
       "value": 63359
      }
     },
     "030e9af1f6b947cf92f0c4454eedbf18": {
      "model_module": "@jupyter-widgets/controls",
      "model_module_version": "2.0.0",
      "model_name": "HTMLModel",
      "state": {
       "layout": "IPY_MODEL_87b6cc62351f45d8a4ed54f9b75bff42",
       "style": "IPY_MODEL_74d7feb5f1b54e6e95474f1552f3793a",
       "value": "100%"
      }
     },
     "0323bb63c4824fd2818048a164b3c7d1": {
      "model_module": "@jupyter-widgets/controls",
      "model_module_version": "2.0.0",
      "model_name": "HTMLStyleModel",
      "state": {
       "description_width": "",
       "font_size": null,
       "text_color": null
      }
     },
     "0352a8a7d3ac4ba48dd8bd8fc7f94c3d": {
      "model_module": "@jupyter-widgets/base",
      "model_module_version": "2.0.0",
      "model_name": "LayoutModel",
      "state": {
       "visibility": "hidden"
      }
     },
     "0356bec6da514172af99823d7951456e": {
      "model_module": "@jupyter-widgets/base",
      "model_module_version": "2.0.0",
      "model_name": "LayoutModel",
      "state": {}
     },
     "03a8b385505548b798fae11dd563c12d": {
      "model_module": "@jupyter-widgets/controls",
      "model_module_version": "2.0.0",
      "model_name": "HTMLModel",
      "state": {
       "layout": "IPY_MODEL_a05b420cdcb94a8ca7784fc9cc095d45",
       "style": "IPY_MODEL_7b5dff67f30d420481919eaccbbd7ce4",
       "value": " 63356/63359 [06:02&lt;00:00, 176.04it/s]"
      }
     },
     "03ab1a4587314118ae9253140a5b375f": {
      "model_module": "@jupyter-widgets/base",
      "model_module_version": "2.0.0",
      "model_name": "LayoutModel",
      "state": {
       "visibility": "hidden"
      }
     },
     "03f14182274240e48eb30b92fcd10390": {
      "model_module": "@jupyter-widgets/controls",
      "model_module_version": "2.0.0",
      "model_name": "HTMLModel",
      "state": {
       "layout": "IPY_MODEL_4faedf1f4cb54fcbaceb5efba577d1aa",
       "style": "IPY_MODEL_db23a35d978a442a9d1dd23d2915ea09",
       "value": "100%"
      }
     },
     "04063770cbd74984b298b451f324e3ce": {
      "model_module": "@jupyter-widgets/controls",
      "model_module_version": "2.0.0",
      "model_name": "HTMLModel",
      "state": {
       "layout": "IPY_MODEL_9c527fbb7fc84ea385e6f19dc30b1aba",
       "style": "IPY_MODEL_5e67f265f8c04644a925d619149b206b",
       "value": " 63357/63359 [06:16&lt;00:00, 170.59it/s]"
      }
     },
     "04282cc6a01a4b60bb84f1f6daf28f7c": {
      "model_module": "@jupyter-widgets/controls",
      "model_module_version": "2.0.0",
      "model_name": "FloatProgressModel",
      "state": {
       "layout": "IPY_MODEL_8a78781fb75b4cb88e949ae7926b3896",
       "max": 63359,
       "style": "IPY_MODEL_63b43b741d4342a9a69f0723487e5d2d",
       "value": 63359
      }
     },
     "044972c2a8564029a07dba2e07217f8a": {
      "model_module": "@jupyter-widgets/base",
      "model_module_version": "2.0.0",
      "model_name": "LayoutModel",
      "state": {
       "visibility": "hidden"
      }
     },
     "0459cd8a924a47d78e6a62d66813b4c6": {
      "model_module": "@jupyter-widgets/base",
      "model_module_version": "2.0.0",
      "model_name": "LayoutModel",
      "state": {}
     },
     "04681e65de0344fe99ac7ff4fb4cefda": {
      "model_module": "@jupyter-widgets/base",
      "model_module_version": "2.0.0",
      "model_name": "LayoutModel",
      "state": {}
     },
     "048fc2ec8f3540f9aa201fe6bc9f80db": {
      "model_module": "@jupyter-widgets/base",
      "model_module_version": "2.0.0",
      "model_name": "LayoutModel",
      "state": {}
     },
     "049c1a3153e94a3ab967039fb9256681": {
      "model_module": "@jupyter-widgets/controls",
      "model_module_version": "2.0.0",
      "model_name": "HTMLStyleModel",
      "state": {
       "description_width": "",
       "font_size": null,
       "text_color": null
      }
     },
     "04a06b539d1b4c9988a1a0b01a78da66": {
      "model_module": "@jupyter-widgets/base",
      "model_module_version": "2.0.0",
      "model_name": "LayoutModel",
      "state": {}
     },
     "04efaa6fed554ae1aad7f862a67ac12c": {
      "model_module": "@jupyter-widgets/base",
      "model_module_version": "2.0.0",
      "model_name": "LayoutModel",
      "state": {}
     },
     "0512820667ae49dcac88468c1e507ef6": {
      "model_module": "@jupyter-widgets/controls",
      "model_module_version": "2.0.0",
      "model_name": "ProgressStyleModel",
      "state": {
       "description_width": ""
      }
     },
     "0519363553d840a5ac71146b62e9e7da": {
      "model_module": "@jupyter-widgets/controls",
      "model_module_version": "2.0.0",
      "model_name": "ProgressStyleModel",
      "state": {
       "description_width": ""
      }
     },
     "052f848646314dc5939cc5d58788fee3": {
      "model_module": "@jupyter-widgets/controls",
      "model_module_version": "2.0.0",
      "model_name": "HTMLModel",
      "state": {
       "layout": "IPY_MODEL_fe6ecac82cda46a7b3cbde13d181149e",
       "style": "IPY_MODEL_b6b640f93aca46fbbbcc86702d200014",
       "value": "100%"
      }
     },
     "05573257d50c4f0888de2b9ceae348cf": {
      "model_module": "@jupyter-widgets/controls",
      "model_module_version": "2.0.0",
      "model_name": "ProgressStyleModel",
      "state": {
       "description_width": ""
      }
     },
     "055772b40c5148fab580c5a13ebbae5b": {
      "model_module": "@jupyter-widgets/base",
      "model_module_version": "2.0.0",
      "model_name": "LayoutModel",
      "state": {
       "visibility": "hidden"
      }
     },
     "056af2bc78804379844150190543f6b6": {
      "model_module": "@jupyter-widgets/controls",
      "model_module_version": "2.0.0",
      "model_name": "HTMLStyleModel",
      "state": {
       "description_width": "",
       "font_size": null,
       "text_color": null
      }
     },
     "057587097d2d4428ae1beb037b723bc9": {
      "model_module": "@jupyter-widgets/base",
      "model_module_version": "2.0.0",
      "model_name": "LayoutModel",
      "state": {}
     },
     "05b89760324a4a6994dc1c7cc689b2be": {
      "model_module": "@jupyter-widgets/controls",
      "model_module_version": "2.0.0",
      "model_name": "HTMLModel",
      "state": {
       "layout": "IPY_MODEL_9bdd3c66e8bb4d40b21ff626cbbc6d18",
       "style": "IPY_MODEL_8c48444b6e704cdb87f94fcc9d8b2621",
       "value": " 63344/63359 [06:03&lt;00:00, 175.66it/s]"
      }
     },
     "05c546fa565f4ef693642d3226e4fbf6": {
      "model_module": "@jupyter-widgets/base",
      "model_module_version": "2.0.0",
      "model_name": "LayoutModel",
      "state": {
       "visibility": "hidden"
      }
     },
     "05fd587cb4a34139bc8c2d83685bf491": {
      "model_module": "@jupyter-widgets/controls",
      "model_module_version": "2.0.0",
      "model_name": "HTMLModel",
      "state": {
       "layout": "IPY_MODEL_53a4d603fe5249f5a3e0c1479ac9cbe1",
       "style": "IPY_MODEL_12683f8e2abe4fd5a7228182ca074dbe",
       "value": " 63350/63359 [06:18&lt;00:00, 172.70it/s]"
      }
     },
     "061d8046c6804dccb540128297192038": {
      "model_module": "@jupyter-widgets/controls",
      "model_module_version": "2.0.0",
      "model_name": "HTMLModel",
      "state": {
       "layout": "IPY_MODEL_0d97bce8bcaf4d31a07aaafb396adf12",
       "style": "IPY_MODEL_45460660a3a7457795a8753e9cbeba28",
       "value": " 63346/63359 [06:18&lt;00:00, 168.78it/s]"
      }
     },
     "062b53bd52d24f7da0bd40adeef1d707": {
      "model_module": "@jupyter-widgets/base",
      "model_module_version": "2.0.0",
      "model_name": "LayoutModel",
      "state": {}
     },
     "0646bc58f95a4b6c8ea23bb76f7ebda2": {
      "model_module": "@jupyter-widgets/controls",
      "model_module_version": "2.0.0",
      "model_name": "HTMLModel",
      "state": {
       "layout": "IPY_MODEL_b25d7c1b1f714084b70bb3388cd90e3b",
       "style": "IPY_MODEL_350bbb2bc2154b6baef57d7f2c909d94",
       "value": " 63351/63359 [06:03&lt;00:00, 168.27it/s]"
      }
     },
     "06c5943cf4494a86aa517789eac27b33": {
      "model_module": "@jupyter-widgets/controls",
      "model_module_version": "2.0.0",
      "model_name": "FloatProgressModel",
      "state": {
       "layout": "IPY_MODEL_ca7c1917a3fc4d5ea5d0a66bc9e8efc5",
       "max": 63359,
       "style": "IPY_MODEL_56facabf0df54fc5b7783afe8e5ae109",
       "value": 63359
      }
     },
     "06d8847d0017492bb64b097c438f21a6": {
      "model_module": "@jupyter-widgets/controls",
      "model_module_version": "2.0.0",
      "model_name": "HTMLModel",
      "state": {
       "layout": "IPY_MODEL_4f7530c345844fdbb0c9f3ae6a60bfaf",
       "style": "IPY_MODEL_179996d484e94a88920218e7c90ac6b5",
       "value": " 63348/63359 [06:16&lt;00:00, 170.50it/s]"
      }
     },
     "06e8d72f639c4c448742a8cf50ff4541": {
      "model_module": "@jupyter-widgets/base",
      "model_module_version": "2.0.0",
      "model_name": "LayoutModel",
      "state": {
       "visibility": "hidden"
      }
     },
     "0729d11372e345c084694d9a4baf45d9": {
      "model_module": "@jupyter-widgets/controls",
      "model_module_version": "2.0.0",
      "model_name": "HTMLStyleModel",
      "state": {
       "description_width": "",
       "font_size": null,
       "text_color": null
      }
     },
     "073858e710224eb495a633aa98edb404": {
      "model_module": "@jupyter-widgets/controls",
      "model_module_version": "2.0.0",
      "model_name": "HTMLModel",
      "state": {
       "layout": "IPY_MODEL_fcf3ba7612bc493cb2e2d6027677c2b2",
       "style": "IPY_MODEL_ef176b3bc446406d9fdb7de1aa97d146",
       "value": "100%"
      }
     },
     "07864eecf88e4ae1bcc49b96f1f61ff0": {
      "model_module": "@jupyter-widgets/base",
      "model_module_version": "2.0.0",
      "model_name": "LayoutModel",
      "state": {}
     },
     "07c0c968a25d4cc2b0b31f2630e75fa4": {
      "model_module": "@jupyter-widgets/base",
      "model_module_version": "2.0.0",
      "model_name": "LayoutModel",
      "state": {}
     },
     "07c479d3af4a41fab769cce7e1c98471": {
      "model_module": "@jupyter-widgets/base",
      "model_module_version": "2.0.0",
      "model_name": "LayoutModel",
      "state": {}
     },
     "081ba661a3b04bc0abac2951559198d1": {
      "model_module": "@jupyter-widgets/controls",
      "model_module_version": "2.0.0",
      "model_name": "HTMLModel",
      "state": {
       "layout": "IPY_MODEL_b1274b8a6c694d6a8689ccbb6c728d3f",
       "style": "IPY_MODEL_6e55ff348d2245e7af3ea0914a790c0a",
       "value": "100%"
      }
     },
     "08361c6d2c554905924080f8cd1d2dad": {
      "model_module": "@jupyter-widgets/base",
      "model_module_version": "2.0.0",
      "model_name": "LayoutModel",
      "state": {}
     },
     "0883b1aa03174f88a64eb7c9e4da7a1c": {
      "model_module": "@jupyter-widgets/controls",
      "model_module_version": "2.0.0",
      "model_name": "HTMLStyleModel",
      "state": {
       "description_width": "",
       "font_size": null,
       "text_color": null
      }
     },
     "089c955f733e4d77a8fc7da70467decd": {
      "model_module": "@jupyter-widgets/controls",
      "model_module_version": "2.0.0",
      "model_name": "ProgressStyleModel",
      "state": {
       "description_width": ""
      }
     },
     "08b3098e48da48a5b4aef648a7300609": {
      "model_module": "@jupyter-widgets/base",
      "model_module_version": "2.0.0",
      "model_name": "LayoutModel",
      "state": {}
     },
     "08c352eb5acd454084e52e1dfc4b5ce2": {
      "model_module": "@jupyter-widgets/base",
      "model_module_version": "2.0.0",
      "model_name": "LayoutModel",
      "state": {
       "visibility": "hidden"
      }
     },
     "08d796d01638485ca78e7232f6ff5def": {
      "model_module": "@jupyter-widgets/controls",
      "model_module_version": "2.0.0",
      "model_name": "HTMLModel",
      "state": {
       "layout": "IPY_MODEL_a4c6e45be7e24857b99c78db57d62d8c",
       "style": "IPY_MODEL_ee2c12a4106e4f0fa5ffedaf1c96396e",
       "value": " 63348/63359 [06:07&lt;00:00, 172.20it/s]"
      }
     },
     "08ed18f40dce4d98bca496a9afe6884e": {
      "model_module": "@jupyter-widgets/controls",
      "model_module_version": "2.0.0",
      "model_name": "ProgressStyleModel",
      "state": {
       "description_width": ""
      }
     },
     "08f87829d3f84c1ba1938a185cb81f06": {
      "model_module": "@jupyter-widgets/base",
      "model_module_version": "2.0.0",
      "model_name": "LayoutModel",
      "state": {
       "visibility": "hidden"
      }
     },
     "0994ce59f54f4328a72f79cb586733a6": {
      "model_module": "@jupyter-widgets/controls",
      "model_module_version": "2.0.0",
      "model_name": "HTMLModel",
      "state": {
       "layout": "IPY_MODEL_30efc8714bf44c55ac1203ebb13b8e4c",
       "style": "IPY_MODEL_6ec5aa073e23490c92bad9966a98ba42",
       "value": "100%"
      }
     },
     "09a6706141a648ee87623f4c2cf63dbe": {
      "model_module": "@jupyter-widgets/base",
      "model_module_version": "2.0.0",
      "model_name": "LayoutModel",
      "state": {
       "visibility": "hidden"
      }
     },
     "09e147ed80494ff0ab4680d1c9705b79": {
      "model_module": "@jupyter-widgets/controls",
      "model_module_version": "2.0.0",
      "model_name": "HTMLStyleModel",
      "state": {
       "description_width": "",
       "font_size": null,
       "text_color": null
      }
     },
     "0a1a933c7d214612bcf2cb0a073ad203": {
      "model_module": "@jupyter-widgets/controls",
      "model_module_version": "2.0.0",
      "model_name": "HTMLModel",
      "state": {
       "layout": "IPY_MODEL_0f86c91da36948e7b8a62674126cd69e",
       "style": "IPY_MODEL_fc067b7e187740529bb537b44f107a9b",
       "value": "100%"
      }
     },
     "0a1f871548f9400fa842eb58a5891a8c": {
      "model_module": "@jupyter-widgets/controls",
      "model_module_version": "2.0.0",
      "model_name": "ProgressStyleModel",
      "state": {
       "description_width": ""
      }
     },
     "0a3238062e1a49d1bd97636fe4774667": {
      "model_module": "@jupyter-widgets/controls",
      "model_module_version": "2.0.0",
      "model_name": "HTMLModel",
      "state": {
       "layout": "IPY_MODEL_e9bb73eca40741c5960636efdba4d3f9",
       "style": "IPY_MODEL_35ecf86a5d4445de9c5fad9aa7283fc9",
       "value": " 63356/63359 [06:02&lt;00:00, 174.82it/s]"
      }
     },
     "0a49bfd05d6549bf85cb920407e19095": {
      "model_module": "@jupyter-widgets/base",
      "model_module_version": "2.0.0",
      "model_name": "LayoutModel",
      "state": {}
     },
     "0a614c64abec4c5ab68882640466c20a": {
      "model_module": "@jupyter-widgets/base",
      "model_module_version": "2.0.0",
      "model_name": "LayoutModel",
      "state": {}
     },
     "0a7a6a79d61d4b598f3b1e4c59a3ef27": {
      "model_module": "@jupyter-widgets/base",
      "model_module_version": "2.0.0",
      "model_name": "LayoutModel",
      "state": {}
     },
     "0a8a270959cb4714b983d41bcced2a84": {
      "model_module": "@jupyter-widgets/controls",
      "model_module_version": "2.0.0",
      "model_name": "HTMLModel",
      "state": {
       "layout": "IPY_MODEL_8582d63fe10b4e04bbc9b3004a1ecb86",
       "style": "IPY_MODEL_9062993a71564d37a82151188ad2e368",
       "value": "100%"
      }
     },
     "0a8c7d9c9cb849c5b5d2655ae060484f": {
      "model_module": "@jupyter-widgets/base",
      "model_module_version": "2.0.0",
      "model_name": "LayoutModel",
      "state": {}
     },
     "0aab2eb96c854401913d0ce86cecbe29": {
      "model_module": "@jupyter-widgets/base",
      "model_module_version": "2.0.0",
      "model_name": "LayoutModel",
      "state": {}
     },
     "0b4d744ec8244fd7889bc70303f18162": {
      "model_module": "@jupyter-widgets/base",
      "model_module_version": "2.0.0",
      "model_name": "LayoutModel",
      "state": {}
     },
     "0b6f61705ae745d980b30d5e397de169": {
      "model_module": "@jupyter-widgets/controls",
      "model_module_version": "2.0.0",
      "model_name": "HTMLModel",
      "state": {
       "layout": "IPY_MODEL_5958f189d411413ab7747d8eab2e69f7",
       "style": "IPY_MODEL_b899e60fea594fefb4bdabac572964b8",
       "value": " 63347/63359 [06:04&lt;00:00, 175.03it/s]"
      }
     },
     "0b83a19d124d4d8c936aa51fb10f7326": {
      "model_module": "@jupyter-widgets/controls",
      "model_module_version": "2.0.0",
      "model_name": "HTMLStyleModel",
      "state": {
       "description_width": "",
       "font_size": null,
       "text_color": null
      }
     },
     "0bd59430b6e445668ef360fc14ca17ad": {
      "model_module": "@jupyter-widgets/controls",
      "model_module_version": "2.0.0",
      "model_name": "FloatProgressModel",
      "state": {
       "layout": "IPY_MODEL_aa77c58390814407aca8407ae3610aa7",
       "max": 63359,
       "style": "IPY_MODEL_281d87d1e46148b19dc0a0760c39d965",
       "value": 63359
      }
     },
     "0bdf5acba93349f5b03389d785f09b74": {
      "model_module": "@jupyter-widgets/controls",
      "model_module_version": "2.0.0",
      "model_name": "HTMLStyleModel",
      "state": {
       "description_width": "",
       "font_size": null,
       "text_color": null
      }
     },
     "0be266de3e044454a692d8ee546c473c": {
      "model_module": "@jupyter-widgets/controls",
      "model_module_version": "2.0.0",
      "model_name": "ProgressStyleModel",
      "state": {
       "description_width": ""
      }
     },
     "0c01456f28864a1393555f97db2b0b9e": {
      "model_module": "@jupyter-widgets/controls",
      "model_module_version": "2.0.0",
      "model_name": "FloatProgressModel",
      "state": {
       "layout": "IPY_MODEL_41398f350d3e4394b36c41a013a24a98",
       "max": 63359,
       "style": "IPY_MODEL_d2f62fff8150450b8e56206441c7da06",
       "value": 63359
      }
     },
     "0c19e7603350461eb67e5e5f3440b048": {
      "model_module": "@jupyter-widgets/controls",
      "model_module_version": "2.0.0",
      "model_name": "FloatProgressModel",
      "state": {
       "layout": "IPY_MODEL_8cdbcaae011049aaa3480edb05f2de94",
       "max": 63359,
       "style": "IPY_MODEL_62c983e5195e48f4a67973466cf8a880",
       "value": 63359
      }
     },
     "0c292b5476664ae3a91741cb63fcba21": {
      "model_module": "@jupyter-widgets/base",
      "model_module_version": "2.0.0",
      "model_name": "LayoutModel",
      "state": {}
     },
     "0c46efd4b37f42f68f2f89c105981700": {
      "model_module": "@jupyter-widgets/controls",
      "model_module_version": "2.0.0",
      "model_name": "ProgressStyleModel",
      "state": {
       "description_width": ""
      }
     },
     "0c6e7bddef55487fabf075702e42ac27": {
      "model_module": "@jupyter-widgets/controls",
      "model_module_version": "2.0.0",
      "model_name": "HTMLStyleModel",
      "state": {
       "description_width": "",
       "font_size": null,
       "text_color": null
      }
     },
     "0c9fedfec5324cfcaa6839835ed8bac2": {
      "model_module": "@jupyter-widgets/controls",
      "model_module_version": "2.0.0",
      "model_name": "HTMLModel",
      "state": {
       "layout": "IPY_MODEL_10c6e78198cf4c4ca9deb6cdc9bda078",
       "style": "IPY_MODEL_be0be0b2dcfa4102834f875f3e83efa0",
       "value": " 63351/63359 [06:02&lt;00:00, 175.51it/s]"
      }
     },
     "0cbf2933c1e64a9d93cb623567326b40": {
      "model_module": "@jupyter-widgets/base",
      "model_module_version": "2.0.0",
      "model_name": "LayoutModel",
      "state": {}
     },
     "0cc1d2cb74a943a0a217527913636348": {
      "model_module": "@jupyter-widgets/base",
      "model_module_version": "2.0.0",
      "model_name": "LayoutModel",
      "state": {}
     },
     "0cc6e0c443fc45eb9e97cfab189f21b0": {
      "model_module": "@jupyter-widgets/base",
      "model_module_version": "2.0.0",
      "model_name": "LayoutModel",
      "state": {}
     },
     "0cda0759e3424e3e9dd8e1337cbb8c61": {
      "model_module": "@jupyter-widgets/controls",
      "model_module_version": "2.0.0",
      "model_name": "HTMLModel",
      "state": {
       "layout": "IPY_MODEL_58e8fa795ccc42e9a76a2c20b690b27f",
       "style": "IPY_MODEL_0f5c6dd401bf4eadbdebdda1fdaa7214",
       "value": " 63343/63359 [06:03&lt;00:00, 175.37it/s]"
      }
     },
     "0cdb473c135446dd98c89a82fa0ce462": {
      "model_module": "@jupyter-widgets/controls",
      "model_module_version": "2.0.0",
      "model_name": "ProgressStyleModel",
      "state": {
       "description_width": ""
      }
     },
     "0d4f2b8d2793476d8343444385853819": {
      "model_module": "@jupyter-widgets/controls",
      "model_module_version": "2.0.0",
      "model_name": "HTMLModel",
      "state": {
       "layout": "IPY_MODEL_d4ff10f2868147ddb84bb69a6bcd0c21",
       "style": "IPY_MODEL_469da5c2289a41b58ce0e37f0a05e5fa",
       "value": " 63348/63359 [06:08&lt;00:00, 172.46it/s]"
      }
     },
     "0d63634bc2fd4286ae970f3e993404e3": {
      "model_module": "@jupyter-widgets/controls",
      "model_module_version": "2.0.0",
      "model_name": "FloatProgressModel",
      "state": {
       "layout": "IPY_MODEL_7cbaf0bc4eec4f2baced6efca7ccb952",
       "max": 63359,
       "style": "IPY_MODEL_27a8a8622c9f4aa49dd68bbe2e311288",
       "value": 63359
      }
     },
     "0d71ee19e94d45fc977e4f3a1cab93a5": {
      "model_module": "@jupyter-widgets/base",
      "model_module_version": "2.0.0",
      "model_name": "LayoutModel",
      "state": {}
     },
     "0d722e28d305464db4f8746c80e29c18": {
      "model_module": "@jupyter-widgets/controls",
      "model_module_version": "2.0.0",
      "model_name": "HTMLStyleModel",
      "state": {
       "description_width": "",
       "font_size": null,
       "text_color": null
      }
     },
     "0d907704e9f94a03976211f5a14bf9a3": {
      "model_module": "@jupyter-widgets/base",
      "model_module_version": "2.0.0",
      "model_name": "LayoutModel",
      "state": {}
     },
     "0d97bce8bcaf4d31a07aaafb396adf12": {
      "model_module": "@jupyter-widgets/base",
      "model_module_version": "2.0.0",
      "model_name": "LayoutModel",
      "state": {}
     },
     "0db356b08a8741a38b173857c0218729": {
      "model_module": "@jupyter-widgets/controls",
      "model_module_version": "2.0.0",
      "model_name": "HTMLModel",
      "state": {
       "layout": "IPY_MODEL_ff7c34e8fc6a4ea69f17c32e3198a53b",
       "style": "IPY_MODEL_3429d5979d4f4d75a95d820a227c1d18",
       "value": "100%"
      }
     },
     "0de80a0daa044c2c9c01fbe0db6db18e": {
      "model_module": "@jupyter-widgets/controls",
      "model_module_version": "2.0.0",
      "model_name": "FloatProgressModel",
      "state": {
       "layout": "IPY_MODEL_23c03d3c39e24f659ce8910642e1ab29",
       "max": 63359,
       "style": "IPY_MODEL_4e072d12f5b1408bbbd756262d0bda5f",
       "value": 63359
      }
     },
     "0defd7f65ec64340b3899ad272f29904": {
      "model_module": "@jupyter-widgets/controls",
      "model_module_version": "2.0.0",
      "model_name": "HTMLStyleModel",
      "state": {
       "description_width": "",
       "font_size": null,
       "text_color": null
      }
     },
     "0e02c9bf100e41188fbd096f772c260a": {
      "model_module": "@jupyter-widgets/controls",
      "model_module_version": "2.0.0",
      "model_name": "ProgressStyleModel",
      "state": {
       "description_width": ""
      }
     },
     "0e03e235dc054b0c93681e1a42d1a3c6": {
      "model_module": "@jupyter-widgets/base",
      "model_module_version": "2.0.0",
      "model_name": "LayoutModel",
      "state": {
       "visibility": "hidden"
      }
     },
     "0e4fb418c78245a19bbdc45a313aafbf": {
      "model_module": "@jupyter-widgets/controls",
      "model_module_version": "2.0.0",
      "model_name": "HTMLStyleModel",
      "state": {
       "description_width": "",
       "font_size": null,
       "text_color": null
      }
     },
     "0e5cd6be1d59441dbf44e95749615de3": {
      "model_module": "@jupyter-widgets/controls",
      "model_module_version": "2.0.0",
      "model_name": "HTMLStyleModel",
      "state": {
       "description_width": "",
       "font_size": null,
       "text_color": null
      }
     },
     "0e7d3a8a892841ce9c1dd7e853a7e7fb": {
      "model_module": "@jupyter-widgets/controls",
      "model_module_version": "2.0.0",
      "model_name": "HTMLStyleModel",
      "state": {
       "description_width": "",
       "font_size": null,
       "text_color": null
      }
     },
     "0e7e3e883c0e428aac4b7bf56969a31e": {
      "model_module": "@jupyter-widgets/controls",
      "model_module_version": "2.0.0",
      "model_name": "HTMLModel",
      "state": {
       "layout": "IPY_MODEL_3772edfab45242ac9b970757573e04a3",
       "style": "IPY_MODEL_d98889baf6ce421499d3413f39e1c276",
       "value": "100%"
      }
     },
     "0e88623a946b4d7ea70d04a712008bbd": {
      "model_module": "@jupyter-widgets/controls",
      "model_module_version": "2.0.0",
      "model_name": "HTMLStyleModel",
      "state": {
       "description_width": "",
       "font_size": null,
       "text_color": null
      }
     },
     "0e97b5a40a694ab0aee477af07f104b0": {
      "model_module": "@jupyter-widgets/base",
      "model_module_version": "2.0.0",
      "model_name": "LayoutModel",
      "state": {}
     },
     "0eced108d86d41439d87d0db8ee7924d": {
      "model_module": "@jupyter-widgets/base",
      "model_module_version": "2.0.0",
      "model_name": "LayoutModel",
      "state": {}
     },
     "0ed2a3166f9c443d8ab6c37d242c5570": {
      "model_module": "@jupyter-widgets/base",
      "model_module_version": "2.0.0",
      "model_name": "LayoutModel",
      "state": {
       "visibility": "hidden"
      }
     },
     "0f5c6dd401bf4eadbdebdda1fdaa7214": {
      "model_module": "@jupyter-widgets/controls",
      "model_module_version": "2.0.0",
      "model_name": "HTMLStyleModel",
      "state": {
       "description_width": "",
       "font_size": null,
       "text_color": null
      }
     },
     "0f60b8c78c4642c7a903cbcea018e501": {
      "model_module": "@jupyter-widgets/base",
      "model_module_version": "2.0.0",
      "model_name": "LayoutModel",
      "state": {
       "visibility": "hidden"
      }
     },
     "0f86c91da36948e7b8a62674126cd69e": {
      "model_module": "@jupyter-widgets/base",
      "model_module_version": "2.0.0",
      "model_name": "LayoutModel",
      "state": {}
     },
     "0f8a26e9cb1b4659b3a4b597ce8059e7": {
      "model_module": "@jupyter-widgets/controls",
      "model_module_version": "2.0.0",
      "model_name": "HTMLModel",
      "state": {
       "layout": "IPY_MODEL_6e70fe8b96904b39b5d3da526888c04a",
       "style": "IPY_MODEL_d25474db99464f7c9efa774413901fae",
       "value": "100%"
      }
     },
     "0f9ad6eb482c402f9d683a9617d92f9a": {
      "model_module": "@jupyter-widgets/controls",
      "model_module_version": "2.0.0",
      "model_name": "HTMLStyleModel",
      "state": {
       "description_width": "",
       "font_size": null,
       "text_color": null
      }
     },
     "100f7d0ea94e466d99f8070b6edaee42": {
      "model_module": "@jupyter-widgets/base",
      "model_module_version": "2.0.0",
      "model_name": "LayoutModel",
      "state": {}
     },
     "105f7c6891be4b278c7330ccfc759755": {
      "model_module": "@jupyter-widgets/base",
      "model_module_version": "2.0.0",
      "model_name": "LayoutModel",
      "state": {}
     },
     "1093c4d05fea46749d56de376fe4b704": {
      "model_module": "@jupyter-widgets/controls",
      "model_module_version": "2.0.0",
      "model_name": "HTMLModel",
      "state": {
       "layout": "IPY_MODEL_598a95c95a4548b9a5af581e28cd0248",
       "style": "IPY_MODEL_a2d7365bc3874e0e9f8e753de3877305",
       "value": " 63350/63359 [06:03&lt;00:00, 174.89it/s]"
      }
     },
     "1095c80139ec49c7a07ded6fddfa3a79": {
      "model_module": "@jupyter-widgets/controls",
      "model_module_version": "2.0.0",
      "model_name": "HTMLModel",
      "state": {
       "layout": "IPY_MODEL_dd846cb73a4e40a79b198f8c47a48bf6",
       "style": "IPY_MODEL_fb01cb5a459c4aa680e335535d8b3839",
       "value": " 63350/63359 [06:05&lt;00:00, 175.12it/s]"
      }
     },
     "109a5fe689354a0cb7890228a3a1021b": {
      "model_module": "@jupyter-widgets/controls",
      "model_module_version": "2.0.0",
      "model_name": "HTMLStyleModel",
      "state": {
       "description_width": "",
       "font_size": null,
       "text_color": null
      }
     },
     "10b3bc7424f648709fb4f05da76a1ce7": {
      "model_module": "@jupyter-widgets/base",
      "model_module_version": "2.0.0",
      "model_name": "LayoutModel",
      "state": {}
     },
     "10b80626331a4526a7580cdfc80eccf4": {
      "model_module": "@jupyter-widgets/base",
      "model_module_version": "2.0.0",
      "model_name": "LayoutModel",
      "state": {}
     },
     "10c6e78198cf4c4ca9deb6cdc9bda078": {
      "model_module": "@jupyter-widgets/base",
      "model_module_version": "2.0.0",
      "model_name": "LayoutModel",
      "state": {}
     },
     "10c924cc58774138ab18b53f578ead19": {
      "model_module": "@jupyter-widgets/base",
      "model_module_version": "2.0.0",
      "model_name": "LayoutModel",
      "state": {
       "visibility": "hidden"
      }
     },
     "10db88104a844e8fb03e9c4f13924e6b": {
      "model_module": "@jupyter-widgets/base",
      "model_module_version": "2.0.0",
      "model_name": "LayoutModel",
      "state": {}
     },
     "110a4137eb864cd09ae81e40181b9263": {
      "model_module": "@jupyter-widgets/controls",
      "model_module_version": "2.0.0",
      "model_name": "ProgressStyleModel",
      "state": {
       "description_width": ""
      }
     },
     "1115ce3d2cba45f4b532a0753cb65944": {
      "model_module": "@jupyter-widgets/controls",
      "model_module_version": "2.0.0",
      "model_name": "ProgressStyleModel",
      "state": {
       "description_width": ""
      }
     },
     "112aab90b42d44c5a31201f700b0d84f": {
      "model_module": "@jupyter-widgets/controls",
      "model_module_version": "2.0.0",
      "model_name": "ProgressStyleModel",
      "state": {
       "description_width": ""
      }
     },
     "11540591e0c24688b0e0bccdbdd9ccae": {
      "model_module": "@jupyter-widgets/base",
      "model_module_version": "2.0.0",
      "model_name": "LayoutModel",
      "state": {}
     },
     "116533787a44454fb7d8355b92d43a25": {
      "model_module": "@jupyter-widgets/base",
      "model_module_version": "2.0.0",
      "model_name": "LayoutModel",
      "state": {}
     },
     "11883c8d9f1a459eba16fb78cda9a442": {
      "model_module": "@jupyter-widgets/controls",
      "model_module_version": "2.0.0",
      "model_name": "HTMLStyleModel",
      "state": {
       "description_width": "",
       "font_size": null,
       "text_color": null
      }
     },
     "119a1ce8a9734478b29c4a78243f0228": {
      "model_module": "@jupyter-widgets/controls",
      "model_module_version": "2.0.0",
      "model_name": "HTMLModel",
      "state": {
       "layout": "IPY_MODEL_f3c6d0c578a74f54aa7b589ff7a704bc",
       "style": "IPY_MODEL_159472f7f68541cc92cb1bb0e2ba6b2d",
       "value": " 63343/63359 [06:02&lt;00:00, 175.30it/s]"
      }
     },
     "11ad6436977b4e16846410076d744c85": {
      "model_module": "@jupyter-widgets/base",
      "model_module_version": "2.0.0",
      "model_name": "LayoutModel",
      "state": {
       "visibility": "hidden"
      }
     },
     "11c0fbf057374632839aa27a9908a542": {
      "model_module": "@jupyter-widgets/controls",
      "model_module_version": "2.0.0",
      "model_name": "HTMLStyleModel",
      "state": {
       "description_width": "",
       "font_size": null,
       "text_color": null
      }
     },
     "11d5c26a4cee4b35a75065c31d0850eb": {
      "model_module": "@jupyter-widgets/controls",
      "model_module_version": "2.0.0",
      "model_name": "FloatProgressModel",
      "state": {
       "layout": "IPY_MODEL_5a0b008871f04cbb9d2848990e80b822",
       "max": 63359,
       "style": "IPY_MODEL_36542efc88374e76badf4d7f2a18462d",
       "value": 63359
      }
     },
     "11eed67ec0d043f89038412de59de541": {
      "model_module": "@jupyter-widgets/controls",
      "model_module_version": "2.0.0",
      "model_name": "HTMLModel",
      "state": {
       "layout": "IPY_MODEL_5a7be9d3f89f487ea877fcd3f7695f03",
       "style": "IPY_MODEL_aa6101e16ceb47aeb57cd447073ede96",
       "value": " 63358/63359 [06:26&lt;00:00, 164.13it/s]"
      }
     },
     "123b6c61c5d6498bbca5cc8c0e25fa63": {
      "model_module": "@jupyter-widgets/controls",
      "model_module_version": "2.0.0",
      "model_name": "HTMLStyleModel",
      "state": {
       "description_width": "",
       "font_size": null,
       "text_color": null
      }
     },
     "124047c417754b248c819dea152d8106": {
      "model_module": "@jupyter-widgets/controls",
      "model_module_version": "2.0.0",
      "model_name": "FloatProgressModel",
      "state": {
       "layout": "IPY_MODEL_d679536177284399bc73666adefe831c",
       "max": 63359,
       "style": "IPY_MODEL_5b3410e4d4464a41873362a2ad112e5e",
       "value": 63359
      }
     },
     "124b155d569d47d7a155c0b3cca01662": {
      "model_module": "@jupyter-widgets/controls",
      "model_module_version": "2.0.0",
      "model_name": "HTMLModel",
      "state": {
       "layout": "IPY_MODEL_2ee964b0ba4c4a44ba19b3bc1f030159",
       "style": "IPY_MODEL_14dc1f0bf0f944f39a4fb7883a15a85c",
       "value": "100%"
      }
     },
     "12592b6908f84d34b4bfa8b023e80af0": {
      "model_module": "@jupyter-widgets/controls",
      "model_module_version": "2.0.0",
      "model_name": "HTMLModel",
      "state": {
       "layout": "IPY_MODEL_c2a5b64b2f0f4917a85cf04179d73768",
       "style": "IPY_MODEL_f1a1b1720414450db156fdb3b10d9b08",
       "value": "100%"
      }
     },
     "125edb7ee9fb487b8f6d2cc403df9e9a": {
      "model_module": "@jupyter-widgets/controls",
      "model_module_version": "2.0.0",
      "model_name": "HTMLModel",
      "state": {
       "layout": "IPY_MODEL_22c3c467a9b64cfcb058b39fe1f0c5a0",
       "style": "IPY_MODEL_6e293f5aabd345ec937b3a646b38f56b",
       "value": "100%"
      }
     },
     "12683f8e2abe4fd5a7228182ca074dbe": {
      "model_module": "@jupyter-widgets/controls",
      "model_module_version": "2.0.0",
      "model_name": "HTMLStyleModel",
      "state": {
       "description_width": "",
       "font_size": null,
       "text_color": null
      }
     },
     "12874f2bd6684bf19e1c2fa7d6f7b9fe": {
      "model_module": "@jupyter-widgets/controls",
      "model_module_version": "2.0.0",
      "model_name": "HTMLStyleModel",
      "state": {
       "description_width": "",
       "font_size": null,
       "text_color": null
      }
     },
     "12904548714d4c969217b3a1bf974639": {
      "model_module": "@jupyter-widgets/controls",
      "model_module_version": "2.0.0",
      "model_name": "FloatProgressModel",
      "state": {
       "layout": "IPY_MODEL_68ca5218d95048afa1d2e009fbe0dfc7",
       "max": 63359,
       "style": "IPY_MODEL_f6be6fcf5d5d4c0bace068113fb4f3fb",
       "value": 63359
      }
     },
     "12b51743f16b4bd8ae65f025e1a0a6c1": {
      "model_module": "@jupyter-widgets/controls",
      "model_module_version": "2.0.0",
      "model_name": "FloatProgressModel",
      "state": {
       "layout": "IPY_MODEL_bfc076638ce94bc3807c4bcfe62c0cae",
       "max": 63359,
       "style": "IPY_MODEL_5a9a0301273b48af8f78bc9922c0114a",
       "value": 63359
      }
     },
     "12d6607ac7fa48d1af3d4103f80f8fc2": {
      "model_module": "@jupyter-widgets/controls",
      "model_module_version": "2.0.0",
      "model_name": "HTMLStyleModel",
      "state": {
       "description_width": "",
       "font_size": null,
       "text_color": null
      }
     },
     "12fb7c3704cd44d28062ee3f820122a0": {
      "model_module": "@jupyter-widgets/base",
      "model_module_version": "2.0.0",
      "model_name": "LayoutModel",
      "state": {}
     },
     "1356d62ee67042a7934fd4bf1da3f602": {
      "model_module": "@jupyter-widgets/controls",
      "model_module_version": "2.0.0",
      "model_name": "FloatProgressModel",
      "state": {
       "layout": "IPY_MODEL_af21995340a54fa9b81dfc3903d2a1e5",
       "max": 63359,
       "style": "IPY_MODEL_1b0399d43fc940e59ab7acf104a186e0",
       "value": 63359
      }
     },
     "13687c9d5a5f48a199f18ca011be430e": {
      "model_module": "@jupyter-widgets/base",
      "model_module_version": "2.0.0",
      "model_name": "LayoutModel",
      "state": {}
     },
     "136e934b137d41ecb5fbf2260d7dd132": {
      "model_module": "@jupyter-widgets/controls",
      "model_module_version": "2.0.0",
      "model_name": "HTMLStyleModel",
      "state": {
       "description_width": "",
       "font_size": null,
       "text_color": null
      }
     },
     "137cfaa32ec844f4a1d93fdf80f238a4": {
      "model_module": "@jupyter-widgets/controls",
      "model_module_version": "2.0.0",
      "model_name": "HTMLStyleModel",
      "state": {
       "description_width": "",
       "font_size": null,
       "text_color": null
      }
     },
     "139381e4c67d4709807c0d42ca121add": {
      "model_module": "@jupyter-widgets/controls",
      "model_module_version": "2.0.0",
      "model_name": "FloatProgressModel",
      "state": {
       "layout": "IPY_MODEL_165ca9c8bc364deba77490566a8ebe56",
       "max": 63359,
       "style": "IPY_MODEL_bdb4f4fc7e4d423ca416996b3fb7ac37",
       "value": 63359
      }
     },
     "139f704f2eb541f7a28a9ebedb5205e8": {
      "model_module": "@jupyter-widgets/controls",
      "model_module_version": "2.0.0",
      "model_name": "HTMLModel",
      "state": {
       "layout": "IPY_MODEL_828b02b00ea746eebb4b7be5f9b2cc46",
       "style": "IPY_MODEL_c32857d32e1f4b798f8dec3373a90c84",
       "value": " 63356/63359 [06:05&lt;00:00, 173.79it/s]"
      }
     },
     "13adf3f363fe49fbbccbbc6f9edc58c3": {
      "model_module": "@jupyter-widgets/controls",
      "model_module_version": "2.0.0",
      "model_name": "HTMLStyleModel",
      "state": {
       "description_width": "",
       "font_size": null,
       "text_color": null
      }
     },
     "13deceecbd15486ea4303febf218615e": {
      "model_module": "@jupyter-widgets/base",
      "model_module_version": "2.0.0",
      "model_name": "LayoutModel",
      "state": {}
     },
     "14515cc9c31041a0984ee7b92706a9bb": {
      "model_module": "@jupyter-widgets/base",
      "model_module_version": "2.0.0",
      "model_name": "LayoutModel",
      "state": {
       "visibility": "hidden"
      }
     },
     "145d6fc3dd484ba480e57cf0f332babc": {
      "model_module": "@jupyter-widgets/base",
      "model_module_version": "2.0.0",
      "model_name": "LayoutModel",
      "state": {}
     },
     "146f3520617d4090b4f9b85f318f5a7f": {
      "model_module": "@jupyter-widgets/base",
      "model_module_version": "2.0.0",
      "model_name": "LayoutModel",
      "state": {
       "visibility": "hidden"
      }
     },
     "148e9b0630024640964f524f22cca24b": {
      "model_module": "@jupyter-widgets/base",
      "model_module_version": "2.0.0",
      "model_name": "LayoutModel",
      "state": {}
     },
     "14bd7e87c28c4ba5b7476cc561b76642": {
      "model_module": "@jupyter-widgets/controls",
      "model_module_version": "2.0.0",
      "model_name": "HTMLModel",
      "state": {
       "layout": "IPY_MODEL_682a1267e96e40b98c6571c52aa55318",
       "style": "IPY_MODEL_5137b59a1c034e6f8dbd1d6543aa343d",
       "value": "100%"
      }
     },
     "14dc1f0bf0f944f39a4fb7883a15a85c": {
      "model_module": "@jupyter-widgets/controls",
      "model_module_version": "2.0.0",
      "model_name": "HTMLStyleModel",
      "state": {
       "description_width": "",
       "font_size": null,
       "text_color": null
      }
     },
     "14e3e8e1778244c6b32c1a71440222d5": {
      "model_module": "@jupyter-widgets/controls",
      "model_module_version": "2.0.0",
      "model_name": "HTMLModel",
      "state": {
       "layout": "IPY_MODEL_68226aa7348348528c4afb1ad1e64c45",
       "style": "IPY_MODEL_70123543888f4746aff4b7c3a8eef6b9",
       "value": " 63345/63359 [06:02&lt;00:00, 177.33it/s]"
      }
     },
     "1548d98834ba4a2888e041c8aac16796": {
      "model_module": "@jupyter-widgets/controls",
      "model_module_version": "2.0.0",
      "model_name": "FloatProgressModel",
      "state": {
       "layout": "IPY_MODEL_28a462cc12404813935d131fcfabbb08",
       "max": 63359,
       "style": "IPY_MODEL_b682da0101b447a0beeb8ccc94b0e438",
       "value": 63359
      }
     },
     "154b8d86d2d740bfa8ce2bff85f09df6": {
      "model_module": "@jupyter-widgets/controls",
      "model_module_version": "2.0.0",
      "model_name": "HTMLModel",
      "state": {
       "layout": "IPY_MODEL_8dcccc31f76841ba83e9bbd3e5ee7d7c",
       "style": "IPY_MODEL_bce7c79c1af345cba7b0515b57c1f149",
       "value": "100%"
      }
     },
     "155a793bc15b495994d8df69900127fa": {
      "model_module": "@jupyter-widgets/base",
      "model_module_version": "2.0.0",
      "model_name": "LayoutModel",
      "state": {}
     },
     "156b7b2eb90b46a2bddbb75a5cbba17e": {
      "model_module": "@jupyter-widgets/controls",
      "model_module_version": "2.0.0",
      "model_name": "HTMLStyleModel",
      "state": {
       "description_width": "",
       "font_size": null,
       "text_color": null
      }
     },
     "1571de8b83cc41f1b6885267673ee358": {
      "model_module": "@jupyter-widgets/base",
      "model_module_version": "2.0.0",
      "model_name": "LayoutModel",
      "state": {}
     },
     "159472f7f68541cc92cb1bb0e2ba6b2d": {
      "model_module": "@jupyter-widgets/controls",
      "model_module_version": "2.0.0",
      "model_name": "HTMLStyleModel",
      "state": {
       "description_width": "",
       "font_size": null,
       "text_color": null
      }
     },
     "15a8041b9d9f4332a8f8def1421249e9": {
      "model_module": "@jupyter-widgets/controls",
      "model_module_version": "2.0.0",
      "model_name": "FloatProgressModel",
      "state": {
       "layout": "IPY_MODEL_ca71899c74d1404aba5c01ee3ff73134",
       "max": 63359,
       "style": "IPY_MODEL_d113c64f3d904f03934f0e53e9cde042",
       "value": 63359
      }
     },
     "15e75f202bf44cfa892bc351f6fa01ce": {
      "model_module": "@jupyter-widgets/controls",
      "model_module_version": "2.0.0",
      "model_name": "HTMLStyleModel",
      "state": {
       "description_width": "",
       "font_size": null,
       "text_color": null
      }
     },
     "1624ca810210440b88faf1f6902acba0": {
      "model_module": "@jupyter-widgets/controls",
      "model_module_version": "2.0.0",
      "model_name": "HTMLStyleModel",
      "state": {
       "description_width": "",
       "font_size": null,
       "text_color": null
      }
     },
     "162c852ad7a04555bb462ae839689a4a": {
      "model_module": "@jupyter-widgets/controls",
      "model_module_version": "2.0.0",
      "model_name": "HTMLModel",
      "state": {
       "layout": "IPY_MODEL_07c479d3af4a41fab769cce7e1c98471",
       "style": "IPY_MODEL_813676e683a148438f252cf1b90cea09",
       "value": "100%"
      }
     },
     "16501f9eef714293abb261adbfea0497": {
      "model_module": "@jupyter-widgets/controls",
      "model_module_version": "2.0.0",
      "model_name": "ProgressStyleModel",
      "state": {
       "description_width": ""
      }
     },
     "1650c2346b024935acc403fab62ffe7a": {
      "model_module": "@jupyter-widgets/controls",
      "model_module_version": "2.0.0",
      "model_name": "FloatProgressModel",
      "state": {
       "layout": "IPY_MODEL_3b2289bbfc7e4458919d39c54c7c18c7",
       "max": 63359,
       "style": "IPY_MODEL_65cc2fb865de4778922ca721dd9c9505",
       "value": 63359
      }
     },
     "165ca9c8bc364deba77490566a8ebe56": {
      "model_module": "@jupyter-widgets/base",
      "model_module_version": "2.0.0",
      "model_name": "LayoutModel",
      "state": {}
     },
     "167d62e424be45f0a8f08bb195804ebb": {
      "model_module": "@jupyter-widgets/base",
      "model_module_version": "2.0.0",
      "model_name": "LayoutModel",
      "state": {}
     },
     "16c7e7183e4344148f74758850501b29": {
      "model_module": "@jupyter-widgets/controls",
      "model_module_version": "2.0.0",
      "model_name": "HTMLStyleModel",
      "state": {
       "description_width": "",
       "font_size": null,
       "text_color": null
      }
     },
     "16c892a020cb45e989311a6736b3b061": {
      "model_module": "@jupyter-widgets/controls",
      "model_module_version": "2.0.0",
      "model_name": "HTMLStyleModel",
      "state": {
       "description_width": "",
       "font_size": null,
       "text_color": null
      }
     },
     "16d298beb60746d5b94c2293ca33c147": {
      "model_module": "@jupyter-widgets/controls",
      "model_module_version": "2.0.0",
      "model_name": "HTMLModel",
      "state": {
       "layout": "IPY_MODEL_74cb0d3d15ef41928afdc4f87e001e35",
       "style": "IPY_MODEL_5d51a52b582b4af0aa608a1e56df2360",
       "value": "100%"
      }
     },
     "16f77025e7e74d4ea5986d58d347d42e": {
      "model_module": "@jupyter-widgets/base",
      "model_module_version": "2.0.0",
      "model_name": "LayoutModel",
      "state": {}
     },
     "16ff3ef5113a421cb92fbbc0898139a6": {
      "model_module": "@jupyter-widgets/controls",
      "model_module_version": "2.0.0",
      "model_name": "ProgressStyleModel",
      "state": {
       "description_width": ""
      }
     },
     "16ffa7b6f69b49ad94eed4fcbd389b07": {
      "model_module": "@jupyter-widgets/controls",
      "model_module_version": "2.0.0",
      "model_name": "HTMLModel",
      "state": {
       "layout": "IPY_MODEL_e89412916a0441b9abec2c440d49bc5a",
       "style": "IPY_MODEL_7c7cc788cbff4e34a64985fb11b960c5",
       "value": " 63354/63359 [06:03&lt;00:00, 173.56it/s]"
      }
     },
     "1704581715224720bf270b185f16ab58": {
      "model_module": "@jupyter-widgets/controls",
      "model_module_version": "2.0.0",
      "model_name": "HTMLStyleModel",
      "state": {
       "description_width": "",
       "font_size": null,
       "text_color": null
      }
     },
     "170462c27bef4486bcffa122590b0ed1": {
      "model_module": "@jupyter-widgets/controls",
      "model_module_version": "2.0.0",
      "model_name": "ProgressStyleModel",
      "state": {
       "description_width": ""
      }
     },
     "1709b0650dd14a2892edb4688c5df177": {
      "model_module": "@jupyter-widgets/base",
      "model_module_version": "2.0.0",
      "model_name": "LayoutModel",
      "state": {}
     },
     "171643593acc40d3969f3ff3a28d5c8a": {
      "model_module": "@jupyter-widgets/controls",
      "model_module_version": "2.0.0",
      "model_name": "ProgressStyleModel",
      "state": {
       "description_width": ""
      }
     },
     "1743e0ed598642e48de63ce417ade57a": {
      "model_module": "@jupyter-widgets/controls",
      "model_module_version": "2.0.0",
      "model_name": "ProgressStyleModel",
      "state": {
       "description_width": ""
      }
     },
     "175eed242c1d47799743fa1f9426b3ab": {
      "model_module": "@jupyter-widgets/controls",
      "model_module_version": "2.0.0",
      "model_name": "HTMLStyleModel",
      "state": {
       "description_width": "",
       "font_size": null,
       "text_color": null
      }
     },
     "1761651487674d22bb0a6cac0009373f": {
      "model_module": "@jupyter-widgets/base",
      "model_module_version": "2.0.0",
      "model_name": "LayoutModel",
      "state": {
       "visibility": "hidden"
      }
     },
     "1796326d1c4c422abc7bff066b31478c": {
      "model_module": "@jupyter-widgets/base",
      "model_module_version": "2.0.0",
      "model_name": "LayoutModel",
      "state": {}
     },
     "179996d484e94a88920218e7c90ac6b5": {
      "model_module": "@jupyter-widgets/controls",
      "model_module_version": "2.0.0",
      "model_name": "HTMLStyleModel",
      "state": {
       "description_width": "",
       "font_size": null,
       "text_color": null
      }
     },
     "179de801b96a439ca0dd2a7c4433b77c": {
      "model_module": "@jupyter-widgets/controls",
      "model_module_version": "2.0.0",
      "model_name": "HTMLStyleModel",
      "state": {
       "description_width": "",
       "font_size": null,
       "text_color": null
      }
     },
     "17a28f9b09cb4f16acb9a195d0f28315": {
      "model_module": "@jupyter-widgets/controls",
      "model_module_version": "2.0.0",
      "model_name": "ProgressStyleModel",
      "state": {
       "description_width": ""
      }
     },
     "17dfe7c6719a4b34bbcf577e5962a413": {
      "model_module": "@jupyter-widgets/controls",
      "model_module_version": "2.0.0",
      "model_name": "FloatProgressModel",
      "state": {
       "layout": "IPY_MODEL_cdd634a67d254b8592284ace2d245f6b",
       "max": 63359,
       "style": "IPY_MODEL_9b705fe328aa44b1b62e4092e7275fc3",
       "value": 63359
      }
     },
     "180800180f2f4aae8d85868a17b24e54": {
      "model_module": "@jupyter-widgets/controls",
      "model_module_version": "2.0.0",
      "model_name": "HTMLStyleModel",
      "state": {
       "description_width": "",
       "font_size": null,
       "text_color": null
      }
     },
     "180d27d027d245139d2f834f87a91375": {
      "model_module": "@jupyter-widgets/controls",
      "model_module_version": "2.0.0",
      "model_name": "HTMLModel",
      "state": {
       "layout": "IPY_MODEL_057587097d2d4428ae1beb037b723bc9",
       "style": "IPY_MODEL_1c2a71f9663941188dc1cc22cbdee723",
       "value": " 63349/63359 [06:04&lt;00:00, 175.16it/s]"
      }
     },
     "18193d7832ed48c682bc7a8706c9cfdc": {
      "model_module": "@jupyter-widgets/controls",
      "model_module_version": "2.0.0",
      "model_name": "HTMLStyleModel",
      "state": {
       "description_width": "",
       "font_size": null,
       "text_color": null
      }
     },
     "181eeb4754a1444fb0f28f4ce07c07d3": {
      "model_module": "@jupyter-widgets/base",
      "model_module_version": "2.0.0",
      "model_name": "LayoutModel",
      "state": {}
     },
     "183c0e655fc64f30875fe35d96932185": {
      "model_module": "@jupyter-widgets/controls",
      "model_module_version": "2.0.0",
      "model_name": "HTMLModel",
      "state": {
       "layout": "IPY_MODEL_fc8be0d9f80b48d4a492075fd560cbd0",
       "style": "IPY_MODEL_cddbb96fa8e348d288badd253cae6ec8",
       "value": "100%"
      }
     },
     "184ccd5ba2a543d18e317da5fe10e77d": {
      "model_module": "@jupyter-widgets/base",
      "model_module_version": "2.0.0",
      "model_name": "LayoutModel",
      "state": {
       "visibility": "hidden"
      }
     },
     "185b4460994b445da943f8a70992a76d": {
      "model_module": "@jupyter-widgets/controls",
      "model_module_version": "2.0.0",
      "model_name": "HTMLModel",
      "state": {
       "layout": "IPY_MODEL_64924096ea9e49bcb058e000890b892d",
       "style": "IPY_MODEL_ccf26b8adff3451299b8e21984d07ae6",
       "value": "100%"
      }
     },
     "1888ed19b24e43fc86678529c6bd77fd": {
      "model_module": "@jupyter-widgets/controls",
      "model_module_version": "2.0.0",
      "model_name": "HTMLModel",
      "state": {
       "layout": "IPY_MODEL_89120828cc5641e39278b87c6b523ba2",
       "style": "IPY_MODEL_5c73ab7124e9423ba281f70e411c4a36",
       "value": " 63350/63359 [06:02&lt;00:00, 176.04it/s]"
      }
     },
     "1898b9f4fdcb46f482ac9fa023d9a09a": {
      "model_module": "@jupyter-widgets/base",
      "model_module_version": "2.0.0",
      "model_name": "LayoutModel",
      "state": {}
     },
     "18a9443a9848427e9cb2f7e5915a7704": {
      "model_module": "@jupyter-widgets/controls",
      "model_module_version": "2.0.0",
      "model_name": "HTMLStyleModel",
      "state": {
       "description_width": "",
       "font_size": null,
       "text_color": null
      }
     },
     "18fb74e7630f443ebae2fffedee89e5e": {
      "model_module": "@jupyter-widgets/base",
      "model_module_version": "2.0.0",
      "model_name": "LayoutModel",
      "state": {}
     },
     "1907c2cc10c84251ac3fb78dd2f6b842": {
      "model_module": "@jupyter-widgets/controls",
      "model_module_version": "2.0.0",
      "model_name": "HTMLModel",
      "state": {
       "layout": "IPY_MODEL_b96e417624b24ec384e4addacd233c8f",
       "style": "IPY_MODEL_96a88916a2474e7ea6cecf5e90238ceb",
       "value": "100%"
      }
     },
     "192ae77f7f284b3896f6402c9f21b35b": {
      "model_module": "@jupyter-widgets/controls",
      "model_module_version": "2.0.0",
      "model_name": "FloatProgressModel",
      "state": {
       "layout": "IPY_MODEL_5f1392fb251d4e7c83325fca5fbee879",
       "max": 63359,
       "style": "IPY_MODEL_ccf56f56264c45aeaef129d371966eda",
       "value": 63359
      }
     },
     "193229066f8e4f6caa7d0307269871f1": {
      "model_module": "@jupyter-widgets/base",
      "model_module_version": "2.0.0",
      "model_name": "LayoutModel",
      "state": {}
     },
     "193ae7d9c7f548feac7c1ea704c5bed0": {
      "model_module": "@jupyter-widgets/controls",
      "model_module_version": "2.0.0",
      "model_name": "HTMLStyleModel",
      "state": {
       "description_width": "",
       "font_size": null,
       "text_color": null
      }
     },
     "19b43f15afc14258a9ce9004e8bc5abf": {
      "model_module": "@jupyter-widgets/controls",
      "model_module_version": "2.0.0",
      "model_name": "HTMLStyleModel",
      "state": {
       "description_width": "",
       "font_size": null,
       "text_color": null
      }
     },
     "19cdff28c91c4826911733d72097167f": {
      "model_module": "@jupyter-widgets/base",
      "model_module_version": "2.0.0",
      "model_name": "LayoutModel",
      "state": {}
     },
     "19e225e0c55c4552a436e49fe03e8286": {
      "model_module": "@jupyter-widgets/controls",
      "model_module_version": "2.0.0",
      "model_name": "FloatProgressModel",
      "state": {
       "layout": "IPY_MODEL_e5ba8fcd67a44835931135416bc8fdfc",
       "max": 63359,
       "style": "IPY_MODEL_d34d72e2c880449dac8f1caf52efd136",
       "value": 63359
      }
     },
     "19e37e4afe974c9b8b86f10e53a3145f": {
      "model_module": "@jupyter-widgets/base",
      "model_module_version": "2.0.0",
      "model_name": "LayoutModel",
      "state": {
       "visibility": "hidden"
      }
     },
     "19fdc6e49ba347eeaadf189b4b236c67": {
      "model_module": "@jupyter-widgets/base",
      "model_module_version": "2.0.0",
      "model_name": "LayoutModel",
      "state": {}
     },
     "1a0bf5f7b5e34b7f858fb8dadda77b08": {
      "model_module": "@jupyter-widgets/controls",
      "model_module_version": "2.0.0",
      "model_name": "ProgressStyleModel",
      "state": {
       "description_width": ""
      }
     },
     "1a17ee69410043ba88951c9f50cabccd": {
      "model_module": "@jupyter-widgets/base",
      "model_module_version": "2.0.0",
      "model_name": "LayoutModel",
      "state": {}
     },
     "1a189473dc724643b5cc4cf0f5b72899": {
      "model_module": "@jupyter-widgets/base",
      "model_module_version": "2.0.0",
      "model_name": "LayoutModel",
      "state": {}
     },
     "1a30838fe79a40adb55283ca82559fd9": {
      "model_module": "@jupyter-widgets/controls",
      "model_module_version": "2.0.0",
      "model_name": "ProgressStyleModel",
      "state": {
       "description_width": ""
      }
     },
     "1a8de7c639fd4f1e9eb4717a19aab168": {
      "model_module": "@jupyter-widgets/controls",
      "model_module_version": "2.0.0",
      "model_name": "FloatProgressModel",
      "state": {
       "layout": "IPY_MODEL_419c99a982e64ed48ae5e989990b855a",
       "max": 63359,
       "style": "IPY_MODEL_7c230de4ad5f4d99874eaf09220229f2",
       "value": 63359
      }
     },
     "1ae9cd87469946eb95ea827de406fefc": {
      "model_module": "@jupyter-widgets/base",
      "model_module_version": "2.0.0",
      "model_name": "LayoutModel",
      "state": {
       "visibility": "hidden"
      }
     },
     "1b0399d43fc940e59ab7acf104a186e0": {
      "model_module": "@jupyter-widgets/controls",
      "model_module_version": "2.0.0",
      "model_name": "ProgressStyleModel",
      "state": {
       "description_width": ""
      }
     },
     "1b28337529c7486a8a8e91db21c0b015": {
      "model_module": "@jupyter-widgets/base",
      "model_module_version": "2.0.0",
      "model_name": "LayoutModel",
      "state": {}
     },
     "1b44dabc846e4e12ac119bffc46ed2e5": {
      "model_module": "@jupyter-widgets/controls",
      "model_module_version": "2.0.0",
      "model_name": "HTMLModel",
      "state": {
       "layout": "IPY_MODEL_d7a5458f86594b4797a3cbbf38ce8fb8",
       "style": "IPY_MODEL_32ea9dd37abc47739af4af16dc635d6e",
       "value": "100%"
      }
     },
     "1b638c57dca044c58fc386914fa64ceb": {
      "model_module": "@jupyter-widgets/controls",
      "model_module_version": "2.0.0",
      "model_name": "HTMLStyleModel",
      "state": {
       "description_width": "",
       "font_size": null,
       "text_color": null
      }
     },
     "1b75946158ff4eb6be50dacb9860e05d": {
      "model_module": "@jupyter-widgets/base",
      "model_module_version": "2.0.0",
      "model_name": "LayoutModel",
      "state": {}
     },
     "1b7dc18475764438a284dd1441ef83f5": {
      "model_module": "@jupyter-widgets/base",
      "model_module_version": "2.0.0",
      "model_name": "LayoutModel",
      "state": {
       "visibility": "hidden"
      }
     },
     "1b936c1aba104faebe1edb824c090604": {
      "model_module": "@jupyter-widgets/controls",
      "model_module_version": "2.0.0",
      "model_name": "HTMLModel",
      "state": {
       "layout": "IPY_MODEL_927ed057e568459082c3429f2514aa25",
       "style": "IPY_MODEL_6883030460c54e158e9795c85bf2975a",
       "value": "100%"
      }
     },
     "1bb23d7d66474ae58c8cb4fc009264fe": {
      "model_module": "@jupyter-widgets/base",
      "model_module_version": "2.0.0",
      "model_name": "LayoutModel",
      "state": {}
     },
     "1bc313226a5546a294535dcd885fc943": {
      "model_module": "@jupyter-widgets/controls",
      "model_module_version": "2.0.0",
      "model_name": "FloatProgressModel",
      "state": {
       "layout": "IPY_MODEL_dd2b3b641ed84b7fa43eacff16fd44c9",
       "max": 63359,
       "style": "IPY_MODEL_9490441fe570476184069bea1ae1ac3b",
       "value": 63359
      }
     },
     "1bfb752210814f7d9b7264c7827cf2e0": {
      "model_module": "@jupyter-widgets/base",
      "model_module_version": "2.0.0",
      "model_name": "LayoutModel",
      "state": {}
     },
     "1c1bb843d840493d9bab0e4cb789acbc": {
      "model_module": "@jupyter-widgets/base",
      "model_module_version": "2.0.0",
      "model_name": "LayoutModel",
      "state": {}
     },
     "1c2a71f9663941188dc1cc22cbdee723": {
      "model_module": "@jupyter-widgets/controls",
      "model_module_version": "2.0.0",
      "model_name": "HTMLStyleModel",
      "state": {
       "description_width": "",
       "font_size": null,
       "text_color": null
      }
     },
     "1cc58e63aad04f3e85d64f71190dba1e": {
      "model_module": "@jupyter-widgets/base",
      "model_module_version": "2.0.0",
      "model_name": "LayoutModel",
      "state": {
       "visibility": "hidden"
      }
     },
     "1ce304c03852418db4a6dddb4200f5a6": {
      "model_module": "@jupyter-widgets/controls",
      "model_module_version": "2.0.0",
      "model_name": "HTMLStyleModel",
      "state": {
       "description_width": "",
       "font_size": null,
       "text_color": null
      }
     },
     "1d275fa9a14f421fa858d49860af28e7": {
      "model_module": "@jupyter-widgets/controls",
      "model_module_version": "2.0.0",
      "model_name": "HTMLStyleModel",
      "state": {
       "description_width": "",
       "font_size": null,
       "text_color": null
      }
     },
     "1d28d11d814f4538a73aca3e5380d44f": {
      "model_module": "@jupyter-widgets/controls",
      "model_module_version": "2.0.0",
      "model_name": "HTMLStyleModel",
      "state": {
       "description_width": "",
       "font_size": null,
       "text_color": null
      }
     },
     "1d3f2960e4fb4bd8a7904fd21d415fe6": {
      "model_module": "@jupyter-widgets/base",
      "model_module_version": "2.0.0",
      "model_name": "LayoutModel",
      "state": {}
     },
     "1da7849bd6bf453f8f925ee127884513": {
      "model_module": "@jupyter-widgets/controls",
      "model_module_version": "2.0.0",
      "model_name": "HTMLModel",
      "state": {
       "layout": "IPY_MODEL_600dcd055b5b46acb624941d01e23d06",
       "style": "IPY_MODEL_7cee540da9e4408d9172d950c8615cdb",
       "value": " 63355/63359 [06:02&lt;00:00, 175.35it/s]"
      }
     },
     "1ddf9265e60f46d5a231c9223bf1e881": {
      "model_module": "@jupyter-widgets/base",
      "model_module_version": "2.0.0",
      "model_name": "LayoutModel",
      "state": {}
     },
     "1debbfd0d9bc4b84a296cb5e186f0c89": {
      "model_module": "@jupyter-widgets/controls",
      "model_module_version": "2.0.0",
      "model_name": "HTMLStyleModel",
      "state": {
       "description_width": "",
       "font_size": null,
       "text_color": null
      }
     },
     "1e335110c2bf4cbdb8bbc35a092aaa67": {
      "model_module": "@jupyter-widgets/base",
      "model_module_version": "2.0.0",
      "model_name": "LayoutModel",
      "state": {}
     },
     "1e345f5b4e7042129d103970409e388a": {
      "model_module": "@jupyter-widgets/base",
      "model_module_version": "2.0.0",
      "model_name": "LayoutModel",
      "state": {
       "visibility": "hidden"
      }
     },
     "1e64f14f9743400c9a2ee0e73f24c6a5": {
      "model_module": "@jupyter-widgets/base",
      "model_module_version": "2.0.0",
      "model_name": "LayoutModel",
      "state": {}
     },
     "1e6604ac899d49eb979d93ee608afc63": {
      "model_module": "@jupyter-widgets/controls",
      "model_module_version": "2.0.0",
      "model_name": "ProgressStyleModel",
      "state": {
       "description_width": ""
      }
     },
     "1ea0fd893b42453eb1262c2ffb4119ef": {
      "model_module": "@jupyter-widgets/controls",
      "model_module_version": "2.0.0",
      "model_name": "HTMLModel",
      "state": {
       "layout": "IPY_MODEL_ddf985d998694740a9532411c4238d9a",
       "style": "IPY_MODEL_810dc354659b4e65b2d04765afddf154",
       "value": "100%"
      }
     },
     "1ec3f225bda94f64ac8b3551e65622d5": {
      "model_module": "@jupyter-widgets/base",
      "model_module_version": "2.0.0",
      "model_name": "LayoutModel",
      "state": {}
     },
     "1ef8ef25ab3344178ad61547738c818f": {
      "model_module": "@jupyter-widgets/controls",
      "model_module_version": "2.0.0",
      "model_name": "HTMLStyleModel",
      "state": {
       "description_width": "",
       "font_size": null,
       "text_color": null
      }
     },
     "1f200346f6424a8f8f7020a40d961dfb": {
      "model_module": "@jupyter-widgets/controls",
      "model_module_version": "2.0.0",
      "model_name": "ProgressStyleModel",
      "state": {
       "description_width": ""
      }
     },
     "1f2fd225aca84342aee1dfb042e37c72": {
      "model_module": "@jupyter-widgets/controls",
      "model_module_version": "2.0.0",
      "model_name": "FloatProgressModel",
      "state": {
       "layout": "IPY_MODEL_f0e8fd42ca4f4116866474b10d432c45",
       "max": 63359,
       "style": "IPY_MODEL_d8ca6e0591ce47f48d7d65f5003266bb",
       "value": 63359
      }
     },
     "1f36b1a991d041baa72843a9e265764e": {
      "model_module": "@jupyter-widgets/controls",
      "model_module_version": "2.0.0",
      "model_name": "FloatProgressModel",
      "state": {
       "layout": "IPY_MODEL_12fb7c3704cd44d28062ee3f820122a0",
       "max": 63359,
       "style": "IPY_MODEL_44b2269faaf549f9946c4eb2d00cdfc0",
       "value": 63359
      }
     },
     "1f63e1499f5d40eabca4d587141443ec": {
      "model_module": "@jupyter-widgets/controls",
      "model_module_version": "2.0.0",
      "model_name": "HTMLModel",
      "state": {
       "layout": "IPY_MODEL_32845468c0234966b2d4b6079bec36f5",
       "style": "IPY_MODEL_82f409cca100409fa9c2af1b0cd4076c",
       "value": " 63350/63359 [06:02&lt;00:00, 175.44it/s]"
      }
     },
     "1f9a4610e9e945859e22d162a7830d65": {
      "model_module": "@jupyter-widgets/base",
      "model_module_version": "2.0.0",
      "model_name": "LayoutModel",
      "state": {
       "visibility": "hidden"
      }
     },
     "1fac1717409641d99c82b1b0f221bd35": {
      "model_module": "@jupyter-widgets/controls",
      "model_module_version": "2.0.0",
      "model_name": "ProgressStyleModel",
      "state": {
       "description_width": ""
      }
     },
     "1fd08d978fef437da44a3a29e4e18232": {
      "model_module": "@jupyter-widgets/controls",
      "model_module_version": "2.0.0",
      "model_name": "FloatProgressModel",
      "state": {
       "layout": "IPY_MODEL_7c37ca323cc8436cb1e0c989be02cd05",
       "max": 63359,
       "style": "IPY_MODEL_d92799be074147dfa0c02c40fd2f3277",
       "value": 63359
      }
     },
     "1fe5eb8912794eca846506fdeaf53671": {
      "model_module": "@jupyter-widgets/controls",
      "model_module_version": "2.0.0",
      "model_name": "HTMLStyleModel",
      "state": {
       "description_width": "",
       "font_size": null,
       "text_color": null
      }
     },
     "200a8feb2755403ca093cff21aba666f": {
      "model_module": "@jupyter-widgets/controls",
      "model_module_version": "2.0.0",
      "model_name": "FloatProgressModel",
      "state": {
       "layout": "IPY_MODEL_b5488f8f91874bafa987663b7d2e2156",
       "max": 63359,
       "style": "IPY_MODEL_76283f1b6dbb4d3fb893a2c3ad1afc1c",
       "value": 63359
      }
     },
     "202c562bea594c09814eb09b549d81a5": {
      "model_module": "@jupyter-widgets/controls",
      "model_module_version": "2.0.0",
      "model_name": "FloatProgressModel",
      "state": {
       "layout": "IPY_MODEL_b9386747305d47c89eed53bbd633747c",
       "max": 63359,
       "style": "IPY_MODEL_efa2ffbeda44454795f4100a3d5f38ca",
       "value": 63359
      }
     },
     "20505973adf449a18f91975d8b4760a0": {
      "model_module": "@jupyter-widgets/base",
      "model_module_version": "2.0.0",
      "model_name": "LayoutModel",
      "state": {}
     },
     "20554d04622d4bf2b28fc200456c2f24": {
      "model_module": "@jupyter-widgets/controls",
      "model_module_version": "2.0.0",
      "model_name": "HTMLModel",
      "state": {
       "layout": "IPY_MODEL_81801e793bac4b498edd45d5eba6e78e",
       "style": "IPY_MODEL_560e2298edcc4e5a868933409aa5d652",
       "value": "100%"
      }
     },
     "206520bc268741d2bb6ae39fe8fd9c46": {
      "model_module": "@jupyter-widgets/base",
      "model_module_version": "2.0.0",
      "model_name": "LayoutModel",
      "state": {}
     },
     "209b19d014034be0b5828cc479d85cb6": {
      "model_module": "@jupyter-widgets/controls",
      "model_module_version": "2.0.0",
      "model_name": "FloatProgressModel",
      "state": {
       "layout": "IPY_MODEL_5c7a86b32e0a4b70a5fbf8aaeb60cc30",
       "max": 63359,
       "style": "IPY_MODEL_4b344e2f67e94d7697fa0c9b710b6ad9",
       "value": 63359
      }
     },
     "20bee4c890194c1686ff3936b71c27ac": {
      "model_module": "@jupyter-widgets/base",
      "model_module_version": "2.0.0",
      "model_name": "LayoutModel",
      "state": {}
     },
     "20cf3fa0241a48fc9410ca40db62c36a": {
      "model_module": "@jupyter-widgets/base",
      "model_module_version": "2.0.0",
      "model_name": "LayoutModel",
      "state": {}
     },
     "20d39d8806db480fb485c101eee53ee3": {
      "model_module": "@jupyter-widgets/base",
      "model_module_version": "2.0.0",
      "model_name": "LayoutModel",
      "state": {}
     },
     "20d63ca3c2ec4accab9d8c32a20763d6": {
      "model_module": "@jupyter-widgets/controls",
      "model_module_version": "2.0.0",
      "model_name": "HTMLModel",
      "state": {
       "layout": "IPY_MODEL_a559aa3532c844ae94c60ad41d596edd",
       "style": "IPY_MODEL_91c029f37b4c4ec9a5f42f9452ce324c",
       "value": "100%"
      }
     },
     "20df03b1b24842b98814eb3b3f006277": {
      "model_module": "@jupyter-widgets/controls",
      "model_module_version": "2.0.0",
      "model_name": "HTMLStyleModel",
      "state": {
       "description_width": "",
       "font_size": null,
       "text_color": null
      }
     },
     "20ef178d03c6499da254000caa82f89c": {
      "model_module": "@jupyter-widgets/base",
      "model_module_version": "2.0.0",
      "model_name": "LayoutModel",
      "state": {
       "visibility": "hidden"
      }
     },
     "20f023b52a114d68b923ca7a61b3509e": {
      "model_module": "@jupyter-widgets/base",
      "model_module_version": "2.0.0",
      "model_name": "LayoutModel",
      "state": {}
     },
     "2101fc1993df452bb3c1a5794cb2125f": {
      "model_module": "@jupyter-widgets/controls",
      "model_module_version": "2.0.0",
      "model_name": "HTMLModel",
      "state": {
       "layout": "IPY_MODEL_3d9b019bfad24e4bb4b6ee46b1616811",
       "style": "IPY_MODEL_4b3a4956f6a740f08da9a591cfbe7654",
       "value": "100%"
      }
     },
     "213f2641d1ef4eef9d908158e263cefe": {
      "model_module": "@jupyter-widgets/controls",
      "model_module_version": "2.0.0",
      "model_name": "HTMLStyleModel",
      "state": {
       "description_width": "",
       "font_size": null,
       "text_color": null
      }
     },
     "22497268d09d4dd9950ba76c941f971f": {
      "model_module": "@jupyter-widgets/controls",
      "model_module_version": "2.0.0",
      "model_name": "HTMLStyleModel",
      "state": {
       "description_width": "",
       "font_size": null,
       "text_color": null
      }
     },
     "22793d692da54783bf454309f1b54595": {
      "model_module": "@jupyter-widgets/controls",
      "model_module_version": "2.0.0",
      "model_name": "ProgressStyleModel",
      "state": {
       "description_width": ""
      }
     },
     "228c825ee1aa48a8895c02e1a6bc3eb4": {
      "model_module": "@jupyter-widgets/base",
      "model_module_version": "2.0.0",
      "model_name": "LayoutModel",
      "state": {}
     },
     "2291a0d9609243edada78ffa9599ac51": {
      "model_module": "@jupyter-widgets/controls",
      "model_module_version": "2.0.0",
      "model_name": "HTMLModel",
      "state": {
       "layout": "IPY_MODEL_92c506cef78942deb8dde9ca3371a2c5",
       "style": "IPY_MODEL_9b3a6b226c3344debd6c3fe19fff2a5a",
       "value": "100%"
      }
     },
     "22c3c467a9b64cfcb058b39fe1f0c5a0": {
      "model_module": "@jupyter-widgets/base",
      "model_module_version": "2.0.0",
      "model_name": "LayoutModel",
      "state": {}
     },
     "230219c677934ac19912c521036e4070": {
      "model_module": "@jupyter-widgets/controls",
      "model_module_version": "2.0.0",
      "model_name": "HTMLModel",
      "state": {
       "layout": "IPY_MODEL_baf74be89d6749f382321adabc19f938",
       "style": "IPY_MODEL_97bd665afceb4f7aa0ab5d5e8d77b159",
       "value": "100%"
      }
     },
     "23246f7291954b9e885f0f9a9d0b9b91": {
      "model_module": "@jupyter-widgets/base",
      "model_module_version": "2.0.0",
      "model_name": "LayoutModel",
      "state": {
       "visibility": "hidden"
      }
     },
     "2354923970ae43218baa8e7558dc32cf": {
      "model_module": "@jupyter-widgets/controls",
      "model_module_version": "2.0.0",
      "model_name": "HTMLStyleModel",
      "state": {
       "description_width": "",
       "font_size": null,
       "text_color": null
      }
     },
     "23c03d3c39e24f659ce8910642e1ab29": {
      "model_module": "@jupyter-widgets/base",
      "model_module_version": "2.0.0",
      "model_name": "LayoutModel",
      "state": {}
     },
     "23d2220c1e3a40498aa7d02083e25edc": {
      "model_module": "@jupyter-widgets/controls",
      "model_module_version": "2.0.0",
      "model_name": "ProgressStyleModel",
      "state": {
       "description_width": ""
      }
     },
     "23d5bb3d414240bb9e043045ce2934d6": {
      "model_module": "@jupyter-widgets/base",
      "model_module_version": "2.0.0",
      "model_name": "LayoutModel",
      "state": {
       "visibility": "hidden"
      }
     },
     "23e1fbb25a34431b8da7e581b3053234": {
      "model_module": "@jupyter-widgets/controls",
      "model_module_version": "2.0.0",
      "model_name": "HTMLModel",
      "state": {
       "layout": "IPY_MODEL_7a36c49398134aa5bb098698db8ffd00",
       "style": "IPY_MODEL_0e88623a946b4d7ea70d04a712008bbd",
       "value": " 63352/63359 [06:02&lt;00:00, 176.53it/s]"
      }
     },
     "24106ea272b64772a66c03ab766e2f73": {
      "model_module": "@jupyter-widgets/controls",
      "model_module_version": "2.0.0",
      "model_name": "ProgressStyleModel",
      "state": {
       "description_width": ""
      }
     },
     "241bd44d700a44a2b18a09aa4cf57770": {
      "model_module": "@jupyter-widgets/base",
      "model_module_version": "2.0.0",
      "model_name": "LayoutModel",
      "state": {}
     },
     "244a9aa87aaf4db89525c7210c013c23": {
      "model_module": "@jupyter-widgets/controls",
      "model_module_version": "2.0.0",
      "model_name": "FloatProgressModel",
      "state": {
       "layout": "IPY_MODEL_d004f468bce54bb89ac25e5224417260",
       "max": 63359,
       "style": "IPY_MODEL_3ff5e8d8b98f4f7cbfa1114f86b0117a",
       "value": 63359
      }
     },
     "245fa765c4f042e8a9b2208978dece04": {
      "model_module": "@jupyter-widgets/controls",
      "model_module_version": "2.0.0",
      "model_name": "HTMLModel",
      "state": {
       "layout": "IPY_MODEL_b802e16a341a4609adee2b2d3178860e",
       "style": "IPY_MODEL_2bdb3d7d848d40f99a8f8c7ba20e0d2b",
       "value": "100%"
      }
     },
     "24663a3ff79048268ebad57af8ee45bc": {
      "model_module": "@jupyter-widgets/base",
      "model_module_version": "2.0.0",
      "model_name": "LayoutModel",
      "state": {}
     },
     "2484ab495e17403c851cde5d8372ea19": {
      "model_module": "@jupyter-widgets/controls",
      "model_module_version": "2.0.0",
      "model_name": "HTMLModel",
      "state": {
       "layout": "IPY_MODEL_013b78f28a504544ab410b6aa3e53ef1",
       "style": "IPY_MODEL_f088e5cc72fe44c3a04aa0a4a6cf4f1b",
       "value": "100%"
      }
     },
     "24a02b34619940bba9312058ce7eb3d3": {
      "model_module": "@jupyter-widgets/base",
      "model_module_version": "2.0.0",
      "model_name": "LayoutModel",
      "state": {}
     },
     "24aff63075b046f989c1de61a228101b": {
      "model_module": "@jupyter-widgets/controls",
      "model_module_version": "2.0.0",
      "model_name": "HTMLModel",
      "state": {
       "layout": "IPY_MODEL_f201bc877dc14c1cb2b34cc34565bc45",
       "style": "IPY_MODEL_62a95d07d160499997dac77d9138e857",
       "value": "100%"
      }
     },
     "2526ac8c753b4b50a3cd371a5bb4b42a": {
      "model_module": "@jupyter-widgets/controls",
      "model_module_version": "2.0.0",
      "model_name": "HTMLStyleModel",
      "state": {
       "description_width": "",
       "font_size": null,
       "text_color": null
      }
     },
     "252994e092fa486b8680a87c601aea39": {
      "model_module": "@jupyter-widgets/base",
      "model_module_version": "2.0.0",
      "model_name": "LayoutModel",
      "state": {}
     },
     "256dbcc97cc7404597982933030d856f": {
      "model_module": "@jupyter-widgets/controls",
      "model_module_version": "2.0.0",
      "model_name": "ProgressStyleModel",
      "state": {
       "description_width": ""
      }
     },
     "258042ca04244d9ea5144c3eb41f5759": {
      "model_module": "@jupyter-widgets/controls",
      "model_module_version": "2.0.0",
      "model_name": "ProgressStyleModel",
      "state": {
       "description_width": ""
      }
     },
     "25931f7caea342ce91aaef0cdc9ceb14": {
      "model_module": "@jupyter-widgets/controls",
      "model_module_version": "2.0.0",
      "model_name": "HTMLStyleModel",
      "state": {
       "description_width": "",
       "font_size": null,
       "text_color": null
      }
     },
     "259e4fbcd76049e0aec7bed22efd81ec": {
      "model_module": "@jupyter-widgets/base",
      "model_module_version": "2.0.0",
      "model_name": "LayoutModel",
      "state": {}
     },
     "25ba0e871291407d84d0994c442c690e": {
      "model_module": "@jupyter-widgets/controls",
      "model_module_version": "2.0.0",
      "model_name": "HTMLModel",
      "state": {
       "layout": "IPY_MODEL_2e1e91790d9043598a7cb909b560ba4a",
       "style": "IPY_MODEL_3548011948d647fbab597dc3d25ed0b5",
       "value": " 63346/63359 [06:02&lt;00:00, 174.90it/s]"
      }
     },
     "25c9588f109c4548ac9660b8c9c82aa5": {
      "model_module": "@jupyter-widgets/controls",
      "model_module_version": "2.0.0",
      "model_name": "HTMLStyleModel",
      "state": {
       "description_width": "",
       "font_size": null,
       "text_color": null
      }
     },
     "260abc77a5474537ba56d125c86b061d": {
      "model_module": "@jupyter-widgets/controls",
      "model_module_version": "2.0.0",
      "model_name": "HTMLStyleModel",
      "state": {
       "description_width": "",
       "font_size": null,
       "text_color": null
      }
     },
     "261e4909677b491ea08d8f5d10533bb3": {
      "model_module": "@jupyter-widgets/controls",
      "model_module_version": "2.0.0",
      "model_name": "HTMLModel",
      "state": {
       "layout": "IPY_MODEL_c6e54463d6fa4947a103decb443a6d89",
       "style": "IPY_MODEL_1ef8ef25ab3344178ad61547738c818f",
       "value": " 63358/63359 [06:03&lt;00:00, 172.92it/s]"
      }
     },
     "26259127e57241a692c25207cae38eed": {
      "model_module": "@jupyter-widgets/base",
      "model_module_version": "2.0.0",
      "model_name": "LayoutModel",
      "state": {}
     },
     "263ee2b9c6c546c89c299325ae03d817": {
      "model_module": "@jupyter-widgets/base",
      "model_module_version": "2.0.0",
      "model_name": "LayoutModel",
      "state": {
       "visibility": "hidden"
      }
     },
     "26442f2c56d041feb003832528febfd4": {
      "model_module": "@jupyter-widgets/controls",
      "model_module_version": "2.0.0",
      "model_name": "ProgressStyleModel",
      "state": {
       "description_width": ""
      }
     },
     "266f24005e864145b0e049d92276186e": {
      "model_module": "@jupyter-widgets/controls",
      "model_module_version": "2.0.0",
      "model_name": "HTMLModel",
      "state": {
       "layout": "IPY_MODEL_3a643ecc0de9406a8563485f4c66ba16",
       "style": "IPY_MODEL_2f789ede30884fd583205a7573bf26b0",
       "value": " 63354/63359 [06:06&lt;00:00, 173.92it/s]"
      }
     },
     "26be3d3339734ab2b28b052219c0fa2a": {
      "model_module": "@jupyter-widgets/controls",
      "model_module_version": "2.0.0",
      "model_name": "HTMLModel",
      "state": {
       "layout": "IPY_MODEL_c4424c8e01494281ae3e37a05d5fda40",
       "style": "IPY_MODEL_f6742944cc8347f2b9ece5ca39782a79",
       "value": " 63352/63359 [06:08&lt;00:00, 172.93it/s]"
      }
     },
     "26d3e845aa0e4c4f8047109e5a04c9fa": {
      "model_module": "@jupyter-widgets/controls",
      "model_module_version": "2.0.0",
      "model_name": "HTMLStyleModel",
      "state": {
       "description_width": "",
       "font_size": null,
       "text_color": null
      }
     },
     "2716629ab2714404a321662c7e265a97": {
      "model_module": "@jupyter-widgets/controls",
      "model_module_version": "2.0.0",
      "model_name": "HTMLStyleModel",
      "state": {
       "description_width": "",
       "font_size": null,
       "text_color": null
      }
     },
     "2747f8ffd7f34b8892fccab71c0455e5": {
      "model_module": "@jupyter-widgets/base",
      "model_module_version": "2.0.0",
      "model_name": "LayoutModel",
      "state": {}
     },
     "27a8a8622c9f4aa49dd68bbe2e311288": {
      "model_module": "@jupyter-widgets/controls",
      "model_module_version": "2.0.0",
      "model_name": "ProgressStyleModel",
      "state": {
       "description_width": ""
      }
     },
     "27d091db5c164121a14f0faca920b1af": {
      "model_module": "@jupyter-widgets/controls",
      "model_module_version": "2.0.0",
      "model_name": "HTMLModel",
      "state": {
       "layout": "IPY_MODEL_30948f74e1ce406d92f5e2d6efc22059",
       "style": "IPY_MODEL_cd13fc633b344e53ad6b5eeaa057b4d3",
       "value": " 63344/63359 [06:01&lt;00:00, 175.91it/s]"
      }
     },
     "27e540cb7dc24b999db9d193af02aa0b": {
      "model_module": "@jupyter-widgets/controls",
      "model_module_version": "2.0.0",
      "model_name": "HTMLModel",
      "state": {
       "layout": "IPY_MODEL_c770ab32b96f4beba023f03953b2768f",
       "style": "IPY_MODEL_b04d4d6fb6424176af93e346a6219dfb",
       "value": "100%"
      }
     },
     "281d87d1e46148b19dc0a0760c39d965": {
      "model_module": "@jupyter-widgets/controls",
      "model_module_version": "2.0.0",
      "model_name": "ProgressStyleModel",
      "state": {
       "description_width": ""
      }
     },
     "284a103e9ba04194a711fde3d851213b": {
      "model_module": "@jupyter-widgets/controls",
      "model_module_version": "2.0.0",
      "model_name": "FloatProgressModel",
      "state": {
       "layout": "IPY_MODEL_fdea497cc8ea45e49a36a9a2e4983ee3",
       "max": 63359,
       "style": "IPY_MODEL_e833c0bd9e7d4f929b3a00bf101c7c00",
       "value": 63359
      }
     },
     "28610f719a4b4c63b80c98fe6591f501": {
      "model_module": "@jupyter-widgets/controls",
      "model_module_version": "2.0.0",
      "model_name": "HTMLStyleModel",
      "state": {
       "description_width": "",
       "font_size": null,
       "text_color": null
      }
     },
     "2880ba100e8a4fb982910e208b91deb0": {
      "model_module": "@jupyter-widgets/controls",
      "model_module_version": "2.0.0",
      "model_name": "FloatProgressModel",
      "state": {
       "layout": "IPY_MODEL_8f03345ae1ce41ac98a2d7f39c3fa4b6",
       "max": 63359,
       "style": "IPY_MODEL_aee2546012b94a45ab27e95ce1edd9de",
       "value": 63359
      }
     },
     "288bb42629b04fc796ce4b603246e902": {
      "model_module": "@jupyter-widgets/controls",
      "model_module_version": "2.0.0",
      "model_name": "FloatProgressModel",
      "state": {
       "layout": "IPY_MODEL_a6170674765d4ca2bde2748ecc9a16f0",
       "max": 63359,
       "style": "IPY_MODEL_0519363553d840a5ac71146b62e9e7da",
       "value": 63359
      }
     },
     "28a462cc12404813935d131fcfabbb08": {
      "model_module": "@jupyter-widgets/base",
      "model_module_version": "2.0.0",
      "model_name": "LayoutModel",
      "state": {}
     },
     "28c3215efdda46b98a26c506d20f59a7": {
      "model_module": "@jupyter-widgets/base",
      "model_module_version": "2.0.0",
      "model_name": "LayoutModel",
      "state": {}
     },
     "28d067bf6f29408a954ea1ed180ab1f8": {
      "model_module": "@jupyter-widgets/base",
      "model_module_version": "2.0.0",
      "model_name": "LayoutModel",
      "state": {}
     },
     "291a38b07c104b279dc64eb40ff529ec": {
      "model_module": "@jupyter-widgets/controls",
      "model_module_version": "2.0.0",
      "model_name": "FloatProgressModel",
      "state": {
       "layout": "IPY_MODEL_eb8622a6d16e47259a809d7b5dace7e3",
       "max": 63359,
       "style": "IPY_MODEL_b93859502c7d4cd281b61a7c71a8ce35",
       "value": 63359
      }
     },
     "298cf6f8df9f4011a19ca5c85379a57d": {
      "model_module": "@jupyter-widgets/controls",
      "model_module_version": "2.0.0",
      "model_name": "ProgressStyleModel",
      "state": {
       "description_width": ""
      }
     },
     "29dc80b780484e7a9922a10730737f4e": {
      "model_module": "@jupyter-widgets/controls",
      "model_module_version": "2.0.0",
      "model_name": "ProgressStyleModel",
      "state": {
       "description_width": ""
      }
     },
     "29f8ca6141684bf084fbed7d908223f3": {
      "model_module": "@jupyter-widgets/controls",
      "model_module_version": "2.0.0",
      "model_name": "FloatProgressModel",
      "state": {
       "layout": "IPY_MODEL_1a17ee69410043ba88951c9f50cabccd",
       "max": 63359,
       "style": "IPY_MODEL_b6766005e163468bb724654b3594615d",
       "value": 63359
      }
     },
     "29f9707135304afcb05631d11cdf06d0": {
      "model_module": "@jupyter-widgets/base",
      "model_module_version": "2.0.0",
      "model_name": "LayoutModel",
      "state": {
       "visibility": "hidden"
      }
     },
     "2a321296cef546a0aefebab0f9aad76c": {
      "model_module": "@jupyter-widgets/controls",
      "model_module_version": "2.0.0",
      "model_name": "HTMLStyleModel",
      "state": {
       "description_width": "",
       "font_size": null,
       "text_color": null
      }
     },
     "2a50b0d96ea04c7ab9b1943b2379b9dc": {
      "model_module": "@jupyter-widgets/controls",
      "model_module_version": "2.0.0",
      "model_name": "FloatProgressModel",
      "state": {
       "layout": "IPY_MODEL_3df6ad075c7f484285ad2e389f97399f",
       "max": 63359,
       "style": "IPY_MODEL_ab3792ce57184498877ff8eaa79f3090",
       "value": 63359
      }
     },
     "2a581e2c3df440f79c96c7605d308db7": {
      "model_module": "@jupyter-widgets/controls",
      "model_module_version": "2.0.0",
      "model_name": "HTMLModel",
      "state": {
       "layout": "IPY_MODEL_bd1bb8e1a79b459494069df0dbaf4f39",
       "style": "IPY_MODEL_6db35bf9e9274ca590cb3f7face337c1",
       "value": " 63351/63359 [06:04&lt;00:00, 175.29it/s]"
      }
     },
     "2a6c4ef373464a4ca40b01d73198e3be": {
      "model_module": "@jupyter-widgets/base",
      "model_module_version": "2.0.0",
      "model_name": "LayoutModel",
      "state": {}
     },
     "2a713653204d4e819ef80b71d06b433e": {
      "model_module": "@jupyter-widgets/controls",
      "model_module_version": "2.0.0",
      "model_name": "HTMLStyleModel",
      "state": {
       "description_width": "",
       "font_size": null,
       "text_color": null
      }
     },
     "2a73fc88fbc546feaceaa79e6fb29fce": {
      "model_module": "@jupyter-widgets/controls",
      "model_module_version": "2.0.0",
      "model_name": "FloatProgressModel",
      "state": {
       "layout": "IPY_MODEL_d57111a11cd84d1588e8688725177824",
       "max": 63359,
       "style": "IPY_MODEL_e3ee4e8210524b3cb18110ebb0cec631",
       "value": 63359
      }
     },
     "2a87db9c0cea49fa9c9cdc0a4a58920a": {
      "model_module": "@jupyter-widgets/controls",
      "model_module_version": "2.0.0",
      "model_name": "HTMLStyleModel",
      "state": {
       "description_width": "",
       "font_size": null,
       "text_color": null
      }
     },
     "2aa066b86af643739f057a47e5985dc2": {
      "model_module": "@jupyter-widgets/base",
      "model_module_version": "2.0.0",
      "model_name": "LayoutModel",
      "state": {
       "visibility": "hidden"
      }
     },
     "2ac3fcfa74ea4036a1be15ba6c8817ea": {
      "model_module": "@jupyter-widgets/base",
      "model_module_version": "2.0.0",
      "model_name": "LayoutModel",
      "state": {
       "visibility": "hidden"
      }
     },
     "2ae4e564907944f1aab0eb80b0692177": {
      "model_module": "@jupyter-widgets/base",
      "model_module_version": "2.0.0",
      "model_name": "LayoutModel",
      "state": {}
     },
     "2ae67458ac044430b3dd593af146ee6a": {
      "model_module": "@jupyter-widgets/base",
      "model_module_version": "2.0.0",
      "model_name": "LayoutModel",
      "state": {}
     },
     "2b4f28a5936e4b05976c36448f899dc8": {
      "model_module": "@jupyter-widgets/base",
      "model_module_version": "2.0.0",
      "model_name": "LayoutModel",
      "state": {
       "visibility": "hidden"
      }
     },
     "2b8485f8b55748dd8467be520920c06a": {
      "model_module": "@jupyter-widgets/controls",
      "model_module_version": "2.0.0",
      "model_name": "HTMLModel",
      "state": {
       "layout": "IPY_MODEL_fdbd12ecc3f44298b683a0e53b624744",
       "style": "IPY_MODEL_a8c8d044cca946dcb33f50a9dbd71a3e",
       "value": "100%"
      }
     },
     "2bdb3d7d848d40f99a8f8c7ba20e0d2b": {
      "model_module": "@jupyter-widgets/controls",
      "model_module_version": "2.0.0",
      "model_name": "HTMLStyleModel",
      "state": {
       "description_width": "",
       "font_size": null,
       "text_color": null
      }
     },
     "2be5e12e74944ff6ba15c0715d33b240": {
      "model_module": "@jupyter-widgets/controls",
      "model_module_version": "2.0.0",
      "model_name": "FloatProgressModel",
      "state": {
       "layout": "IPY_MODEL_a45d7a3221154170a477749e5e7e3d07",
       "max": 63359,
       "style": "IPY_MODEL_1e6604ac899d49eb979d93ee608afc63",
       "value": 63359
      }
     },
     "2bf1795332b94681b74611c91a4d6b08": {
      "model_module": "@jupyter-widgets/controls",
      "model_module_version": "2.0.0",
      "model_name": "HTMLModel",
      "state": {
       "layout": "IPY_MODEL_bbf7c165e8084db88f0c516c536341cd",
       "style": "IPY_MODEL_4166f8fbb6934055a2621b47da7f0a3e",
       "value": " 63342/63359 [05:50&lt;00:00, 181.16it/s]"
      }
     },
     "2c04c99413c8475cb3fa125faea2c9ce": {
      "model_module": "@jupyter-widgets/base",
      "model_module_version": "2.0.0",
      "model_name": "LayoutModel",
      "state": {
       "visibility": "hidden"
      }
     },
     "2c957aa2096543daaeb7a608e69a920c": {
      "model_module": "@jupyter-widgets/base",
      "model_module_version": "2.0.0",
      "model_name": "LayoutModel",
      "state": {}
     },
     "2ca9acba0d7f4caa827640fae54ab2d9": {
      "model_module": "@jupyter-widgets/controls",
      "model_module_version": "2.0.0",
      "model_name": "FloatProgressModel",
      "state": {
       "layout": "IPY_MODEL_6360e4e57125441da56bd2006568c940",
       "max": 63359,
       "style": "IPY_MODEL_f9d6af78a6874c8f9e3b376e89523f79",
       "value": 63359
      }
     },
     "2cffdaffc2774628b0f9ee456d2fb61b": {
      "model_module": "@jupyter-widgets/base",
      "model_module_version": "2.0.0",
      "model_name": "LayoutModel",
      "state": {}
     },
     "2d48bb4748794c4181ff071e8e94bd59": {
      "model_module": "@jupyter-widgets/base",
      "model_module_version": "2.0.0",
      "model_name": "LayoutModel",
      "state": {}
     },
     "2d9dde4b50ee4cf69f68381a71a50d5d": {
      "model_module": "@jupyter-widgets/base",
      "model_module_version": "2.0.0",
      "model_name": "LayoutModel",
      "state": {}
     },
     "2db88f31eaf1491a9876e8aab45ebb78": {
      "model_module": "@jupyter-widgets/controls",
      "model_module_version": "2.0.0",
      "model_name": "HTMLModel",
      "state": {
       "layout": "IPY_MODEL_9511b060404545cc9f9d231ad33bd0e7",
       "style": "IPY_MODEL_25931f7caea342ce91aaef0cdc9ceb14",
       "value": " 63357/63359 [06:03&lt;00:00, 174.95it/s]"
      }
     },
     "2dc3617a1dea4375837105f6a8790b98": {
      "model_module": "@jupyter-widgets/controls",
      "model_module_version": "2.0.0",
      "model_name": "HTMLModel",
      "state": {
       "layout": "IPY_MODEL_145d6fc3dd484ba480e57cf0f332babc",
       "style": "IPY_MODEL_3d5ae458423f48fca65d5777c52fb0dd",
       "value": " 63342/63359 [06:03&lt;00:00, 175.22it/s]"
      }
     },
     "2dd228c4e7c34d0086954cd2d2113daa": {
      "model_module": "@jupyter-widgets/base",
      "model_module_version": "2.0.0",
      "model_name": "LayoutModel",
      "state": {}
     },
     "2decc5a212a1488fb6604681a20162c6": {
      "model_module": "@jupyter-widgets/controls",
      "model_module_version": "2.0.0",
      "model_name": "HTMLModel",
      "state": {
       "layout": "IPY_MODEL_10b3bc7424f648709fb4f05da76a1ce7",
       "style": "IPY_MODEL_8e2e01e0770546ecaf10d2a776e27fd4",
       "value": " 63353/63359 [06:32&lt;00:00, 130.10it/s]"
      }
     },
     "2dfdbcc29edb404f9ee07850d40548df": {
      "model_module": "@jupyter-widgets/controls",
      "model_module_version": "2.0.0",
      "model_name": "HTMLStyleModel",
      "state": {
       "description_width": "",
       "font_size": null,
       "text_color": null
      }
     },
     "2dfee31a81e744c4b846b084190d7ce9": {
      "model_module": "@jupyter-widgets/base",
      "model_module_version": "2.0.0",
      "model_name": "LayoutModel",
      "state": {}
     },
     "2e1a689cbb6a4790bdc696951403277d": {
      "model_module": "@jupyter-widgets/base",
      "model_module_version": "2.0.0",
      "model_name": "LayoutModel",
      "state": {}
     },
     "2e1e91790d9043598a7cb909b560ba4a": {
      "model_module": "@jupyter-widgets/base",
      "model_module_version": "2.0.0",
      "model_name": "LayoutModel",
      "state": {}
     },
     "2e2299237e7b4a0b9208878d7b8fdc3a": {
      "model_module": "@jupyter-widgets/controls",
      "model_module_version": "2.0.0",
      "model_name": "HTMLModel",
      "state": {
       "layout": "IPY_MODEL_53b09ab55ba1442ab25caf1e002fcaa9",
       "style": "IPY_MODEL_ddcb6bb3bac84d8ea7902a9e5d101ac8",
       "value": " 63348/63359 [06:03&lt;00:00, 174.20it/s]"
      }
     },
     "2e2ed746181449d5ac3804e3def34bfb": {
      "model_module": "@jupyter-widgets/base",
      "model_module_version": "2.0.0",
      "model_name": "LayoutModel",
      "state": {}
     },
     "2e36de1555b941fdbd620bff9611fc9c": {
      "model_module": "@jupyter-widgets/controls",
      "model_module_version": "2.0.0",
      "model_name": "HTMLStyleModel",
      "state": {
       "description_width": "",
       "font_size": null,
       "text_color": null
      }
     },
     "2e89df28573d4703b66eccbecd816932": {
      "model_module": "@jupyter-widgets/controls",
      "model_module_version": "2.0.0",
      "model_name": "HTMLStyleModel",
      "state": {
       "description_width": "",
       "font_size": null,
       "text_color": null
      }
     },
     "2ea123606a4745098360b4833bfa24ea": {
      "model_module": "@jupyter-widgets/base",
      "model_module_version": "2.0.0",
      "model_name": "LayoutModel",
      "state": {
       "visibility": "hidden"
      }
     },
     "2ec3e8234444462e8496eb0b120387e7": {
      "model_module": "@jupyter-widgets/controls",
      "model_module_version": "2.0.0",
      "model_name": "FloatProgressModel",
      "state": {
       "layout": "IPY_MODEL_ab76ed852de54100ad31365740ffab86",
       "max": 63359,
       "style": "IPY_MODEL_22793d692da54783bf454309f1b54595",
       "value": 63359
      }
     },
     "2ee964b0ba4c4a44ba19b3bc1f030159": {
      "model_module": "@jupyter-widgets/base",
      "model_module_version": "2.0.0",
      "model_name": "LayoutModel",
      "state": {}
     },
     "2f04e28e56ed4e2e83ed4c5ce395ab4d": {
      "model_module": "@jupyter-widgets/controls",
      "model_module_version": "2.0.0",
      "model_name": "HTMLStyleModel",
      "state": {
       "description_width": "",
       "font_size": null,
       "text_color": null
      }
     },
     "2f05732735214f2eb194e5a9708005a1": {
      "model_module": "@jupyter-widgets/base",
      "model_module_version": "2.0.0",
      "model_name": "LayoutModel",
      "state": {}
     },
     "2f51b136d110473f9b30bb575311a131": {
      "model_module": "@jupyter-widgets/controls",
      "model_module_version": "2.0.0",
      "model_name": "FloatProgressModel",
      "state": {
       "layout": "IPY_MODEL_1e335110c2bf4cbdb8bbc35a092aaa67",
       "max": 63359,
       "style": "IPY_MODEL_9a6ff9aa34614ecb82080272a0560ad7",
       "value": 63359
      }
     },
     "2f7310929325452593bbb7d71f51351d": {
      "model_module": "@jupyter-widgets/controls",
      "model_module_version": "2.0.0",
      "model_name": "HTMLStyleModel",
      "state": {
       "description_width": "",
       "font_size": null,
       "text_color": null
      }
     },
     "2f789ede30884fd583205a7573bf26b0": {
      "model_module": "@jupyter-widgets/controls",
      "model_module_version": "2.0.0",
      "model_name": "HTMLStyleModel",
      "state": {
       "description_width": "",
       "font_size": null,
       "text_color": null
      }
     },
     "2f86f4a7481343ada0bf6ba4bf187953": {
      "model_module": "@jupyter-widgets/controls",
      "model_module_version": "2.0.0",
      "model_name": "HTMLModel",
      "state": {
       "layout": "IPY_MODEL_2d48bb4748794c4181ff071e8e94bd59",
       "style": "IPY_MODEL_4d757d120e5b48bca36f9ff7416ac7f6",
       "value": "100%"
      }
     },
     "2fd39cf977794f1ab6da8f366d09e411": {
      "model_module": "@jupyter-widgets/base",
      "model_module_version": "2.0.0",
      "model_name": "LayoutModel",
      "state": {}
     },
     "2ff1265342ad41ceb51857f66e88fa3c": {
      "model_module": "@jupyter-widgets/controls",
      "model_module_version": "2.0.0",
      "model_name": "HTMLStyleModel",
      "state": {
       "description_width": "",
       "font_size": null,
       "text_color": null
      }
     },
     "30286c2183cc4c209e4446114687cedc": {
      "model_module": "@jupyter-widgets/controls",
      "model_module_version": "2.0.0",
      "model_name": "HTMLModel",
      "state": {
       "layout": "IPY_MODEL_3ace0cd2119f4881ac07aafabef51837",
       "style": "IPY_MODEL_47cbd5f9791d4df7a7cfc70699e82f2b",
       "value": "100%"
      }
     },
     "30679c95ea6244b0a11e8881b83e7548": {
      "model_module": "@jupyter-widgets/controls",
      "model_module_version": "2.0.0",
      "model_name": "FloatProgressModel",
      "state": {
       "layout": "IPY_MODEL_65e39f0dd2934ac5bed95a1d2a332fea",
       "max": 63359,
       "style": "IPY_MODEL_5c0ad80e59d2498c859fdfae5d0f1d35",
       "value": 63359
      }
     },
     "307187cac84b4647b437d371c60b0517": {
      "model_module": "@jupyter-widgets/base",
      "model_module_version": "2.0.0",
      "model_name": "LayoutModel",
      "state": {}
     },
     "30948f74e1ce406d92f5e2d6efc22059": {
      "model_module": "@jupyter-widgets/base",
      "model_module_version": "2.0.0",
      "model_name": "LayoutModel",
      "state": {}
     },
     "30b256c142fa446f99476d28e9880621": {
      "model_module": "@jupyter-widgets/base",
      "model_module_version": "2.0.0",
      "model_name": "LayoutModel",
      "state": {}
     },
     "30efc8714bf44c55ac1203ebb13b8e4c": {
      "model_module": "@jupyter-widgets/base",
      "model_module_version": "2.0.0",
      "model_name": "LayoutModel",
      "state": {}
     },
     "3120337562a14c0f85c7e3e428aa7255": {
      "model_module": "@jupyter-widgets/base",
      "model_module_version": "2.0.0",
      "model_name": "LayoutModel",
      "state": {}
     },
     "3120a459eb7e42dcabf03b33054284f9": {
      "model_module": "@jupyter-widgets/controls",
      "model_module_version": "2.0.0",
      "model_name": "HTMLModel",
      "state": {
       "layout": "IPY_MODEL_6a7030fa2dd5470a88d7a3ae85f29f58",
       "style": "IPY_MODEL_9ddd4cb4f0b74fdc89ff4b351efbc880",
       "value": "100%"
      }
     },
     "3172dbb90e914ab5a256e254150192e0": {
      "model_module": "@jupyter-widgets/base",
      "model_module_version": "2.0.0",
      "model_name": "LayoutModel",
      "state": {
       "visibility": "hidden"
      }
     },
     "31887bb072234c2bbbf4a78a835eac7d": {
      "model_module": "@jupyter-widgets/base",
      "model_module_version": "2.0.0",
      "model_name": "LayoutModel",
      "state": {}
     },
     "31e8fd384d4344a981f74f8d553a8dd6": {
      "model_module": "@jupyter-widgets/base",
      "model_module_version": "2.0.0",
      "model_name": "LayoutModel",
      "state": {}
     },
     "32128eb3756e471c8b07fe929fc1e9dc": {
      "model_module": "@jupyter-widgets/controls",
      "model_module_version": "2.0.0",
      "model_name": "HTMLModel",
      "state": {
       "layout": "IPY_MODEL_3229dbb35db648cdaf1129c42066d587",
       "style": "IPY_MODEL_a86ec9f2e9fb4a8087fb687a1daa0828",
       "value": "100%"
      }
     },
     "3229dbb35db648cdaf1129c42066d587": {
      "model_module": "@jupyter-widgets/base",
      "model_module_version": "2.0.0",
      "model_name": "LayoutModel",
      "state": {}
     },
     "3239206f47b4451fa2e1ac06729d68b1": {
      "model_module": "@jupyter-widgets/controls",
      "model_module_version": "2.0.0",
      "model_name": "HTMLStyleModel",
      "state": {
       "description_width": "",
       "font_size": null,
       "text_color": null
      }
     },
     "325d89b8af5149bda1c36189c37ce26d": {
      "model_module": "@jupyter-widgets/controls",
      "model_module_version": "2.0.0",
      "model_name": "FloatProgressModel",
      "state": {
       "layout": "IPY_MODEL_cff965f00e68472bb1f4c5440291220a",
       "max": 63359,
       "style": "IPY_MODEL_74fae0bd611c46dda47783ec3d32514c",
       "value": 63359
      }
     },
     "32745c6e017644168758e7460a92c26a": {
      "model_module": "@jupyter-widgets/controls",
      "model_module_version": "2.0.0",
      "model_name": "FloatProgressModel",
      "state": {
       "layout": "IPY_MODEL_b596ade5bc4c4cc3a7570c071fdef2dd",
       "max": 63359,
       "style": "IPY_MODEL_4873f4f346104caf8f8d40c181b3a830",
       "value": 63359
      }
     },
     "32845468c0234966b2d4b6079bec36f5": {
      "model_module": "@jupyter-widgets/base",
      "model_module_version": "2.0.0",
      "model_name": "LayoutModel",
      "state": {}
     },
     "32904749d7ab4cbe92e50a70eda64b95": {
      "model_module": "@jupyter-widgets/base",
      "model_module_version": "2.0.0",
      "model_name": "LayoutModel",
      "state": {
       "visibility": "hidden"
      }
     },
     "32ea9dd37abc47739af4af16dc635d6e": {
      "model_module": "@jupyter-widgets/controls",
      "model_module_version": "2.0.0",
      "model_name": "HTMLStyleModel",
      "state": {
       "description_width": "",
       "font_size": null,
       "text_color": null
      }
     },
     "330b4af588a8403ea5ac291f6584b7d4": {
      "model_module": "@jupyter-widgets/base",
      "model_module_version": "2.0.0",
      "model_name": "LayoutModel",
      "state": {}
     },
     "3327badd93884953a58bfe4b7956f76f": {
      "model_module": "@jupyter-widgets/base",
      "model_module_version": "2.0.0",
      "model_name": "LayoutModel",
      "state": {}
     },
     "333e5a1f4631461ea07386d9d8abd460": {
      "model_module": "@jupyter-widgets/base",
      "model_module_version": "2.0.0",
      "model_name": "LayoutModel",
      "state": {}
     },
     "3356bec4be4649fe8d2c309762906c3f": {
      "model_module": "@jupyter-widgets/base",
      "model_module_version": "2.0.0",
      "model_name": "LayoutModel",
      "state": {
       "visibility": "hidden"
      }
     },
     "3364f90e97fd4789a20acf419f250107": {
      "model_module": "@jupyter-widgets/base",
      "model_module_version": "2.0.0",
      "model_name": "LayoutModel",
      "state": {}
     },
     "3371bd3ec92945df8c9706f6673ac353": {
      "model_module": "@jupyter-widgets/controls",
      "model_module_version": "2.0.0",
      "model_name": "HTMLStyleModel",
      "state": {
       "description_width": "",
       "font_size": null,
       "text_color": null
      }
     },
     "33926d5bba0c49ce985b361d42a8650b": {
      "model_module": "@jupyter-widgets/controls",
      "model_module_version": "2.0.0",
      "model_name": "HTMLModel",
      "state": {
       "layout": "IPY_MODEL_d1cbc32feffc4556825b07340ed520b7",
       "style": "IPY_MODEL_c06f461fd31b49eea0979db860901d8a",
       "value": "100%"
      }
     },
     "33973d02f72c46aca19c055c68d93f6d": {
      "model_module": "@jupyter-widgets/controls",
      "model_module_version": "2.0.0",
      "model_name": "HTMLModel",
      "state": {
       "layout": "IPY_MODEL_5c8244e13d8d4183a23306340c0c6bac",
       "style": "IPY_MODEL_803e5300f4ff4993b38b6029edc446b0",
       "value": "100%"
      }
     },
     "33ab815267d544c58a8cab08a9c64c78": {
      "model_module": "@jupyter-widgets/base",
      "model_module_version": "2.0.0",
      "model_name": "LayoutModel",
      "state": {
       "visibility": "hidden"
      }
     },
     "3429d5979d4f4d75a95d820a227c1d18": {
      "model_module": "@jupyter-widgets/controls",
      "model_module_version": "2.0.0",
      "model_name": "HTMLStyleModel",
      "state": {
       "description_width": "",
       "font_size": null,
       "text_color": null
      }
     },
     "343a664696f944bb979e4ee7b9826be5": {
      "model_module": "@jupyter-widgets/base",
      "model_module_version": "2.0.0",
      "model_name": "LayoutModel",
      "state": {
       "visibility": "hidden"
      }
     },
     "345b38e4ec514e7b801ea07c32430beb": {
      "model_module": "@jupyter-widgets/controls",
      "model_module_version": "2.0.0",
      "model_name": "FloatProgressModel",
      "state": {
       "layout": "IPY_MODEL_abb4cddc81704a969c2aafdcb5fab9ba",
       "max": 63359,
       "style": "IPY_MODEL_170462c27bef4486bcffa122590b0ed1",
       "value": 63359
      }
     },
     "345eb2d3e19a4750bcf24c0e5d571f62": {
      "model_module": "@jupyter-widgets/controls",
      "model_module_version": "2.0.0",
      "model_name": "HTMLStyleModel",
      "state": {
       "description_width": "",
       "font_size": null,
       "text_color": null
      }
     },
     "34b163eed7da489588b5b8eff3d21b2e": {
      "model_module": "@jupyter-widgets/controls",
      "model_module_version": "2.0.0",
      "model_name": "FloatProgressModel",
      "state": {
       "layout": "IPY_MODEL_661843ef256c4f92a655010873da679b",
       "max": 63359,
       "style": "IPY_MODEL_4bea585ac23949fcb0e9eebdba2bab78",
       "value": 63359
      }
     },
     "34b21fe079a6452a91e517b76f88da48": {
      "model_module": "@jupyter-widgets/base",
      "model_module_version": "2.0.0",
      "model_name": "LayoutModel",
      "state": {}
     },
     "34baaf2088a14a0f8968f3a8da8cafbc": {
      "model_module": "@jupyter-widgets/controls",
      "model_module_version": "2.0.0",
      "model_name": "FloatProgressModel",
      "state": {
       "layout": "IPY_MODEL_7819523cf70e4d87b35fcc6bf03ac356",
       "max": 63359,
       "style": "IPY_MODEL_925d5ad9ebb1467bb5d12728734e0711",
       "value": 63359
      }
     },
     "34c2bed2b0834acfa9a8625e960cd349": {
      "model_module": "@jupyter-widgets/controls",
      "model_module_version": "2.0.0",
      "model_name": "HTMLStyleModel",
      "state": {
       "description_width": "",
       "font_size": null,
       "text_color": null
      }
     },
     "34c5d4655175496da09cd19dc1b45405": {
      "model_module": "@jupyter-widgets/controls",
      "model_module_version": "2.0.0",
      "model_name": "HTMLModel",
      "state": {
       "layout": "IPY_MODEL_e09cb5ced2354951aaf1f206c90dc0cd",
       "style": "IPY_MODEL_3997510ea9534ad1ac38c68995352e72",
       "value": "100%"
      }
     },
     "34f2db66dc004971ae324e8f77ed5091": {
      "model_module": "@jupyter-widgets/base",
      "model_module_version": "2.0.0",
      "model_name": "LayoutModel",
      "state": {}
     },
     "34f4e45ef22546bbb1c618ad1267cdd7": {
      "model_module": "@jupyter-widgets/controls",
      "model_module_version": "2.0.0",
      "model_name": "HTMLStyleModel",
      "state": {
       "description_width": "",
       "font_size": null,
       "text_color": null
      }
     },
     "34f5246b24154fb0af8994b44e6c033f": {
      "model_module": "@jupyter-widgets/base",
      "model_module_version": "2.0.0",
      "model_name": "LayoutModel",
      "state": {
       "visibility": "hidden"
      }
     },
     "350bbb2bc2154b6baef57d7f2c909d94": {
      "model_module": "@jupyter-widgets/controls",
      "model_module_version": "2.0.0",
      "model_name": "HTMLStyleModel",
      "state": {
       "description_width": "",
       "font_size": null,
       "text_color": null
      }
     },
     "35110c2290074ffc8e967296acef388f": {
      "model_module": "@jupyter-widgets/base",
      "model_module_version": "2.0.0",
      "model_name": "LayoutModel",
      "state": {}
     },
     "3525d8cb7aa541ada476b5426beeeb33": {
      "model_module": "@jupyter-widgets/base",
      "model_module_version": "2.0.0",
      "model_name": "LayoutModel",
      "state": {
       "visibility": "hidden"
      }
     },
     "352ecbbb40494c8680d2bd583d64a022": {
      "model_module": "@jupyter-widgets/base",
      "model_module_version": "2.0.0",
      "model_name": "LayoutModel",
      "state": {}
     },
     "354690c9394c4c87b426a3b83fdecf60": {
      "model_module": "@jupyter-widgets/base",
      "model_module_version": "2.0.0",
      "model_name": "LayoutModel",
      "state": {}
     },
     "3548011948d647fbab597dc3d25ed0b5": {
      "model_module": "@jupyter-widgets/controls",
      "model_module_version": "2.0.0",
      "model_name": "HTMLStyleModel",
      "state": {
       "description_width": "",
       "font_size": null,
       "text_color": null
      }
     },
     "3559b47ec56c42cdbd19b202255bab84": {
      "model_module": "@jupyter-widgets/base",
      "model_module_version": "2.0.0",
      "model_name": "LayoutModel",
      "state": {
       "visibility": "hidden"
      }
     },
     "35940470565c4493af301a42dcd02fe1": {
      "model_module": "@jupyter-widgets/base",
      "model_module_version": "2.0.0",
      "model_name": "LayoutModel",
      "state": {}
     },
     "35bcfef4169a4c5f9ec5135300ecc30c": {
      "model_module": "@jupyter-widgets/controls",
      "model_module_version": "2.0.0",
      "model_name": "HTMLStyleModel",
      "state": {
       "description_width": "",
       "font_size": null,
       "text_color": null
      }
     },
     "35e09bc447144dbfa8bb7bf2b5e50a68": {
      "model_module": "@jupyter-widgets/base",
      "model_module_version": "2.0.0",
      "model_name": "LayoutModel",
      "state": {}
     },
     "35ecf86a5d4445de9c5fad9aa7283fc9": {
      "model_module": "@jupyter-widgets/controls",
      "model_module_version": "2.0.0",
      "model_name": "HTMLStyleModel",
      "state": {
       "description_width": "",
       "font_size": null,
       "text_color": null
      }
     },
     "35ff661ee90a4feb8c6b71ed267284ca": {
      "model_module": "@jupyter-widgets/base",
      "model_module_version": "2.0.0",
      "model_name": "LayoutModel",
      "state": {}
     },
     "3600d1b7b99f49cea98a71b6eb7a28a0": {
      "model_module": "@jupyter-widgets/controls",
      "model_module_version": "2.0.0",
      "model_name": "HTMLStyleModel",
      "state": {
       "description_width": "",
       "font_size": null,
       "text_color": null
      }
     },
     "3618237c75dd467c9cd87664886ae42e": {
      "model_module": "@jupyter-widgets/controls",
      "model_module_version": "2.0.0",
      "model_name": "FloatProgressModel",
      "state": {
       "layout": "IPY_MODEL_78c4fec767364b82aee82e109801d39b",
       "max": 63359,
       "style": "IPY_MODEL_41422cff2825476a9485d265472917b1",
       "value": 63359
      }
     },
     "361e582d22e24c878590277a1496208d": {
      "model_module": "@jupyter-widgets/controls",
      "model_module_version": "2.0.0",
      "model_name": "HTMLStyleModel",
      "state": {
       "description_width": "",
       "font_size": null,
       "text_color": null
      }
     },
     "363114b6face4af7b3700ce658a329dc": {
      "model_module": "@jupyter-widgets/base",
      "model_module_version": "2.0.0",
      "model_name": "LayoutModel",
      "state": {}
     },
     "36542efc88374e76badf4d7f2a18462d": {
      "model_module": "@jupyter-widgets/controls",
      "model_module_version": "2.0.0",
      "model_name": "ProgressStyleModel",
      "state": {
       "description_width": ""
      }
     },
     "3656570f0313486083a2f89c3efe7cc0": {
      "model_module": "@jupyter-widgets/base",
      "model_module_version": "2.0.0",
      "model_name": "LayoutModel",
      "state": {}
     },
     "365a9810283447f582622b14d9b167bc": {
      "model_module": "@jupyter-widgets/controls",
      "model_module_version": "2.0.0",
      "model_name": "ProgressStyleModel",
      "state": {
       "description_width": ""
      }
     },
     "368d8796b24e4a02a50627c1f55e19e4": {
      "model_module": "@jupyter-widgets/base",
      "model_module_version": "2.0.0",
      "model_name": "LayoutModel",
      "state": {}
     },
     "369fa53767cb4c9e9bcc0f2815cb946f": {
      "model_module": "@jupyter-widgets/controls",
      "model_module_version": "2.0.0",
      "model_name": "HTMLModel",
      "state": {
       "layout": "IPY_MODEL_931d1e0d02ba4b6b88b56c9797f57546",
       "style": "IPY_MODEL_d92d251441c14c33b06c8f1e6db97236",
       "value": "100%"
      }
     },
     "36da2c2db284492d976048ab6e96c58f": {
      "model_module": "@jupyter-widgets/controls",
      "model_module_version": "2.0.0",
      "model_name": "HTMLModel",
      "state": {
       "layout": "IPY_MODEL_f7c5933bd6544538bf7334634518a01c",
       "style": "IPY_MODEL_9189f710862c450a80c83f99a16729da",
       "value": "100%"
      }
     },
     "36e22289c06046f1973881e4b22b8308": {
      "model_module": "@jupyter-widgets/controls",
      "model_module_version": "2.0.0",
      "model_name": "HTMLModel",
      "state": {
       "layout": "IPY_MODEL_6816b06b0559479e9752a024f10e7efd",
       "style": "IPY_MODEL_16c892a020cb45e989311a6736b3b061",
       "value": " 63347/63359 [06:03&lt;00:00, 174.76it/s]"
      }
     },
     "36e32fcd735c444397b7a825f0ce6ac9": {
      "model_module": "@jupyter-widgets/controls",
      "model_module_version": "2.0.0",
      "model_name": "HTMLModel",
      "state": {
       "layout": "IPY_MODEL_f078aa58022947b095cd1cd03d51f2e3",
       "style": "IPY_MODEL_a1d2096af1804599968a138f9161e7f7",
       "value": "100%"
      }
     },
     "36e7763aa05a43cf8296beae5246fa82": {
      "model_module": "@jupyter-widgets/base",
      "model_module_version": "2.0.0",
      "model_name": "LayoutModel",
      "state": {}
     },
     "36f263be2d824a37811c80094bbde071": {
      "model_module": "@jupyter-widgets/base",
      "model_module_version": "2.0.0",
      "model_name": "LayoutModel",
      "state": {}
     },
     "36fdb353b6834cf6ae5710ca66dbd920": {
      "model_module": "@jupyter-widgets/controls",
      "model_module_version": "2.0.0",
      "model_name": "HTMLStyleModel",
      "state": {
       "description_width": "",
       "font_size": null,
       "text_color": null
      }
     },
     "36fe5b1143c545fc84422356c3eb9e30": {
      "model_module": "@jupyter-widgets/controls",
      "model_module_version": "2.0.0",
      "model_name": "HTMLStyleModel",
      "state": {
       "description_width": "",
       "font_size": null,
       "text_color": null
      }
     },
     "3713767d7b8647b7b22984d8a6e2ee5b": {
      "model_module": "@jupyter-widgets/controls",
      "model_module_version": "2.0.0",
      "model_name": "HTMLModel",
      "state": {
       "layout": "IPY_MODEL_0cc6e0c443fc45eb9e97cfab189f21b0",
       "style": "IPY_MODEL_a97b49c4ac7f4f7e970949f3edb3b74a",
       "value": " 63343/63359 [06:02&lt;00:00, 174.25it/s]"
      }
     },
     "37330a1b688f4d518a5adb0579d0ac0a": {
      "model_module": "@jupyter-widgets/controls",
      "model_module_version": "2.0.0",
      "model_name": "HTMLStyleModel",
      "state": {
       "description_width": "",
       "font_size": null,
       "text_color": null
      }
     },
     "374cb803f1ea409cb3387bab55af03ef": {
      "model_module": "@jupyter-widgets/controls",
      "model_module_version": "2.0.0",
      "model_name": "FloatProgressModel",
      "state": {
       "layout": "IPY_MODEL_7ae7d65953894fc783b6d9b00a4ddd58",
       "max": 63359,
       "style": "IPY_MODEL_f9d315f8d3c346979d1f8aecf69f1496",
       "value": 63359
      }
     },
     "3772edfab45242ac9b970757573e04a3": {
      "model_module": "@jupyter-widgets/base",
      "model_module_version": "2.0.0",
      "model_name": "LayoutModel",
      "state": {}
     },
     "37bfa4aea72f427394349eec3cf2a634": {
      "model_module": "@jupyter-widgets/controls",
      "model_module_version": "2.0.0",
      "model_name": "ProgressStyleModel",
      "state": {
       "description_width": ""
      }
     },
     "37eeb8add01b4d549712bb77ca6d367e": {
      "model_module": "@jupyter-widgets/base",
      "model_module_version": "2.0.0",
      "model_name": "LayoutModel",
      "state": {
       "visibility": "hidden"
      }
     },
     "37fb85d074c94c2db9e49158371ed77f": {
      "model_module": "@jupyter-widgets/base",
      "model_module_version": "2.0.0",
      "model_name": "LayoutModel",
      "state": {
       "visibility": "hidden"
      }
     },
     "380299790fa8453d95337889e25a0cd7": {
      "model_module": "@jupyter-widgets/base",
      "model_module_version": "2.0.0",
      "model_name": "LayoutModel",
      "state": {}
     },
     "38413d21dc004e9383693c28b5c7ddc5": {
      "model_module": "@jupyter-widgets/base",
      "model_module_version": "2.0.0",
      "model_name": "LayoutModel",
      "state": {}
     },
     "389c2538b1b84a60a574a2522d93aeda": {
      "model_module": "@jupyter-widgets/base",
      "model_module_version": "2.0.0",
      "model_name": "LayoutModel",
      "state": {
       "visibility": "hidden"
      }
     },
     "389ca4881a3b41cb9879eb1e904ae32f": {
      "model_module": "@jupyter-widgets/base",
      "model_module_version": "2.0.0",
      "model_name": "LayoutModel",
      "state": {
       "visibility": "hidden"
      }
     },
     "389e05dad53d46f2bf5d5bff2ffe9418": {
      "model_module": "@jupyter-widgets/controls",
      "model_module_version": "2.0.0",
      "model_name": "HTMLStyleModel",
      "state": {
       "description_width": "",
       "font_size": null,
       "text_color": null
      }
     },
     "389ed885efb644beb977d990888575e3": {
      "model_module": "@jupyter-widgets/controls",
      "model_module_version": "2.0.0",
      "model_name": "ProgressStyleModel",
      "state": {
       "description_width": ""
      }
     },
     "38a1ec2ffd394f22b6b8a0ecb9e07142": {
      "model_module": "@jupyter-widgets/base",
      "model_module_version": "2.0.0",
      "model_name": "LayoutModel",
      "state": {}
     },
     "38aa78b2a44b438290ed16ef872e331f": {
      "model_module": "@jupyter-widgets/base",
      "model_module_version": "2.0.0",
      "model_name": "LayoutModel",
      "state": {}
     },
     "38c42407fe2744ce8c6848da3c8266e3": {
      "model_module": "@jupyter-widgets/controls",
      "model_module_version": "2.0.0",
      "model_name": "FloatProgressModel",
      "state": {
       "layout": "IPY_MODEL_b962f8efae8e47919c2d72417384962e",
       "max": 63359,
       "style": "IPY_MODEL_e5c6747d2278479cb0efaa546bcc4b8f",
       "value": 63359
      }
     },
     "38f85d9d282b4198bd7f08344a827a22": {
      "model_module": "@jupyter-widgets/base",
      "model_module_version": "2.0.0",
      "model_name": "LayoutModel",
      "state": {
       "visibility": "hidden"
      }
     },
     "398aea0c8a884f5c8a1a977f1b791551": {
      "model_module": "@jupyter-widgets/controls",
      "model_module_version": "2.0.0",
      "model_name": "HTMLStyleModel",
      "state": {
       "description_width": "",
       "font_size": null,
       "text_color": null
      }
     },
     "3997510ea9534ad1ac38c68995352e72": {
      "model_module": "@jupyter-widgets/controls",
      "model_module_version": "2.0.0",
      "model_name": "HTMLStyleModel",
      "state": {
       "description_width": "",
       "font_size": null,
       "text_color": null
      }
     },
     "39c182133fc54bdfa8f28dbd2f6f8fab": {
      "model_module": "@jupyter-widgets/base",
      "model_module_version": "2.0.0",
      "model_name": "LayoutModel",
      "state": {}
     },
     "39ead7957f6945d9b2af6203cf2997b3": {
      "model_module": "@jupyter-widgets/controls",
      "model_module_version": "2.0.0",
      "model_name": "HTMLModel",
      "state": {
       "layout": "IPY_MODEL_5494ca5bea81450bb2c02d9fec83bb3b",
       "style": "IPY_MODEL_0e7d3a8a892841ce9c1dd7e853a7e7fb",
       "value": "100%"
      }
     },
     "3a0875f4493847fb9033470461f5b2fd": {
      "model_module": "@jupyter-widgets/base",
      "model_module_version": "2.0.0",
      "model_name": "LayoutModel",
      "state": {
       "visibility": "hidden"
      }
     },
     "3a1b4ef3010a4163b229d64d36f19cfd": {
      "model_module": "@jupyter-widgets/base",
      "model_module_version": "2.0.0",
      "model_name": "LayoutModel",
      "state": {}
     },
     "3a2d82fdd6fb4a08a3c37b74e3708a28": {
      "model_module": "@jupyter-widgets/controls",
      "model_module_version": "2.0.0",
      "model_name": "ProgressStyleModel",
      "state": {
       "description_width": ""
      }
     },
     "3a3b01f480814a69b22fb576b9629069": {
      "model_module": "@jupyter-widgets/base",
      "model_module_version": "2.0.0",
      "model_name": "LayoutModel",
      "state": {}
     },
     "3a643ecc0de9406a8563485f4c66ba16": {
      "model_module": "@jupyter-widgets/base",
      "model_module_version": "2.0.0",
      "model_name": "LayoutModel",
      "state": {}
     },
     "3a67819bb9b645d0ac583eaa11709573": {
      "model_module": "@jupyter-widgets/controls",
      "model_module_version": "2.0.0",
      "model_name": "HTMLStyleModel",
      "state": {
       "description_width": "",
       "font_size": null,
       "text_color": null
      }
     },
     "3ace0cd2119f4881ac07aafabef51837": {
      "model_module": "@jupyter-widgets/base",
      "model_module_version": "2.0.0",
      "model_name": "LayoutModel",
      "state": {}
     },
     "3b2289bbfc7e4458919d39c54c7c18c7": {
      "model_module": "@jupyter-widgets/base",
      "model_module_version": "2.0.0",
      "model_name": "LayoutModel",
      "state": {}
     },
     "3b4dea6f870d4f9f932c2394ae8dd607": {
      "model_module": "@jupyter-widgets/controls",
      "model_module_version": "2.0.0",
      "model_name": "HTMLModel",
      "state": {
       "layout": "IPY_MODEL_e8e1f227d21b4b739087be15fbeb60bb",
       "style": "IPY_MODEL_c94fc3f4787e4845ac57ea2c18da7270",
       "value": " 63355/63359 [06:04&lt;00:00, 173.18it/s]"
      }
     },
     "3b8899bd67dd47c28d89cdee84a55f92": {
      "model_module": "@jupyter-widgets/base",
      "model_module_version": "2.0.0",
      "model_name": "LayoutModel",
      "state": {
       "visibility": "hidden"
      }
     },
     "3b9479b112504682bd7283eef7371db5": {
      "model_module": "@jupyter-widgets/controls",
      "model_module_version": "2.0.0",
      "model_name": "FloatProgressModel",
      "state": {
       "bar_style": "success",
       "layout": "IPY_MODEL_699b18c553044208b35e49b4d054e205",
       "style": "IPY_MODEL_c1e989090f614a508c3c9640b080549b",
       "value": 100
      }
     },
     "3bec3d3b1035467fbd4ca1a2d319ba30": {
      "model_module": "@jupyter-widgets/base",
      "model_module_version": "2.0.0",
      "model_name": "LayoutModel",
      "state": {
       "visibility": "hidden"
      }
     },
     "3befee81a7c14d69ae670d7be8f5e6e3": {
      "model_module": "@jupyter-widgets/controls",
      "model_module_version": "2.0.0",
      "model_name": "HTMLModel",
      "state": {
       "layout": "IPY_MODEL_0b4d744ec8244fd7889bc70303f18162",
       "style": "IPY_MODEL_65ce324916f94ae28f7737322627c65f",
       "value": " 63352/63359 [06:00&lt;00:00, 176.10it/s]"
      }
     },
     "3c380b8271bc4806b9f2583db2e5cdea": {
      "model_module": "@jupyter-widgets/base",
      "model_module_version": "2.0.0",
      "model_name": "LayoutModel",
      "state": {}
     },
     "3c47d1252aad422797172c10f86cce82": {
      "model_module": "@jupyter-widgets/controls",
      "model_module_version": "2.0.0",
      "model_name": "FloatProgressModel",
      "state": {
       "layout": "IPY_MODEL_cff6feb80c584deb8d35ac2a21198664",
       "max": 63359,
       "style": "IPY_MODEL_e9387e84b423424088673f0357d3dbd1",
       "value": 63359
      }
     },
     "3c5e358ea96b4f8eb6dd203c065e8875": {
      "model_module": "@jupyter-widgets/base",
      "model_module_version": "2.0.0",
      "model_name": "LayoutModel",
      "state": {}
     },
     "3c9310fc0bfb495ebce9c61478db7c62": {
      "model_module": "@jupyter-widgets/controls",
      "model_module_version": "2.0.0",
      "model_name": "FloatProgressModel",
      "state": {
       "layout": "IPY_MODEL_b2034b3bf538468087c5de3a8916c500",
       "max": 63359,
       "style": "IPY_MODEL_f2ede69dab7449e99cf27bf18ded3484",
       "value": 63359
      }
     },
     "3c954e4f76e34343be9354faa71ff73e": {
      "model_module": "@jupyter-widgets/controls",
      "model_module_version": "2.0.0",
      "model_name": "FloatProgressModel",
      "state": {
       "layout": "IPY_MODEL_78daf3f317ed4969981b83c2c6b4d09b",
       "max": 63359,
       "style": "IPY_MODEL_f40c18fc166c4387ad05c31a249d7681",
       "value": 63359
      }
     },
     "3ca405d5cb6f49c4a563238cf8a2ad91": {
      "model_module": "@jupyter-widgets/controls",
      "model_module_version": "2.0.0",
      "model_name": "ProgressStyleModel",
      "state": {
       "description_width": ""
      }
     },
     "3cce218f192746d498a19b86ca94bd44": {
      "model_module": "@jupyter-widgets/base",
      "model_module_version": "2.0.0",
      "model_name": "LayoutModel",
      "state": {}
     },
     "3ce3d7b38b2a458eaa8402b5f41fff8d": {
      "model_module": "@jupyter-widgets/controls",
      "model_module_version": "2.0.0",
      "model_name": "HTMLModel",
      "state": {
       "layout": "IPY_MODEL_fc999187bbc04bb9968dde418bf366db",
       "style": "IPY_MODEL_18193d7832ed48c682bc7a8706c9cfdc",
       "value": "100%"
      }
     },
     "3cebd768e7504fa690bd83dae5aa081d": {
      "model_module": "@jupyter-widgets/controls",
      "model_module_version": "2.0.0",
      "model_name": "FloatProgressModel",
      "state": {
       "layout": "IPY_MODEL_9fa19d78b9924310aaab781b7336bad7",
       "max": 63359,
       "style": "IPY_MODEL_171643593acc40d3969f3ff3a28d5c8a",
       "value": 63359
      }
     },
     "3cf78a1316504bff885f6d8480a39c34": {
      "model_module": "@jupyter-widgets/controls",
      "model_module_version": "2.0.0",
      "model_name": "HTMLStyleModel",
      "state": {
       "description_width": "",
       "font_size": null,
       "text_color": null
      }
     },
     "3d5ae458423f48fca65d5777c52fb0dd": {
      "model_module": "@jupyter-widgets/controls",
      "model_module_version": "2.0.0",
      "model_name": "HTMLStyleModel",
      "state": {
       "description_width": "",
       "font_size": null,
       "text_color": null
      }
     },
     "3d9b019bfad24e4bb4b6ee46b1616811": {
      "model_module": "@jupyter-widgets/base",
      "model_module_version": "2.0.0",
      "model_name": "LayoutModel",
      "state": {}
     },
     "3ddd1151700f4b019551c43af27aa4b6": {
      "model_module": "@jupyter-widgets/controls",
      "model_module_version": "2.0.0",
      "model_name": "HTMLModel",
      "state": {
       "layout": "IPY_MODEL_4bec1c3a77bf430087117e45f4d276c8",
       "style": "IPY_MODEL_c8b394e3e4df47848e7e5a5456b04314",
       "value": " 63347/63359 [06:28&lt;00:00, 167.46it/s]"
      }
     },
     "3def8ac949144684b00beb2f42cbc7ed": {
      "model_module": "@jupyter-widgets/base",
      "model_module_version": "2.0.0",
      "model_name": "LayoutModel",
      "state": {
       "visibility": "hidden"
      }
     },
     "3df6ad075c7f484285ad2e389f97399f": {
      "model_module": "@jupyter-widgets/base",
      "model_module_version": "2.0.0",
      "model_name": "LayoutModel",
      "state": {}
     },
     "3e46ece62fe1496384d6ae76a8849850": {
      "model_module": "@jupyter-widgets/controls",
      "model_module_version": "2.0.0",
      "model_name": "FloatProgressModel",
      "state": {
       "layout": "IPY_MODEL_20505973adf449a18f91975d8b4760a0",
       "max": 63359,
       "style": "IPY_MODEL_c9cbd740c6ee47519ffcbfdb606afabd",
       "value": 63359
      }
     },
     "3e57d192fd1141e28aedd3b0d54111d2": {
      "model_module": "@jupyter-widgets/base",
      "model_module_version": "2.0.0",
      "model_name": "LayoutModel",
      "state": {}
     },
     "3e66c0fad7be45cf8fca75f56ad0948d": {
      "model_module": "@jupyter-widgets/base",
      "model_module_version": "2.0.0",
      "model_name": "LayoutModel",
      "state": {}
     },
     "3e849875f60644878026ca90de382a53": {
      "model_module": "@jupyter-widgets/base",
      "model_module_version": "2.0.0",
      "model_name": "LayoutModel",
      "state": {}
     },
     "3e9161afb69240ccbbcdf415be472151": {
      "model_module": "@jupyter-widgets/base",
      "model_module_version": "2.0.0",
      "model_name": "LayoutModel",
      "state": {}
     },
     "3e9fd7c425d3462594f08dac4f043b74": {
      "model_module": "@jupyter-widgets/controls",
      "model_module_version": "2.0.0",
      "model_name": "HTMLModel",
      "state": {
       "layout": "IPY_MODEL_9c35638200cc48609ddd3a01f0dede4b",
       "style": "IPY_MODEL_2a713653204d4e819ef80b71d06b433e",
       "value": " 63351/63359 [06:17&lt;00:00, 173.31it/s]"
      }
     },
     "3f20d0cd8f3d4efa96fc1600dbaff38c": {
      "model_module": "@jupyter-widgets/controls",
      "model_module_version": "2.0.0",
      "model_name": "FloatProgressModel",
      "state": {
       "layout": "IPY_MODEL_19fdc6e49ba347eeaadf189b4b236c67",
       "max": 63359,
       "style": "IPY_MODEL_578cab280a094c4f88ec13b221e49cff",
       "value": 63359
      }
     },
     "3f2b74826da44ba2b80a2f0681d16708": {
      "model_module": "@jupyter-widgets/base",
      "model_module_version": "2.0.0",
      "model_name": "LayoutModel",
      "state": {}
     },
     "3f4118797075426d93e278a276f91f0c": {
      "model_module": "@jupyter-widgets/controls",
      "model_module_version": "2.0.0",
      "model_name": "FloatProgressModel",
      "state": {
       "layout": "IPY_MODEL_d0232794486148ab822eb41876ed05b7",
       "max": 63359,
       "style": "IPY_MODEL_f1d94aad63e0432eb48fbff44d45ad2e",
       "value": 63359
      }
     },
     "3f5bc639f2664a3a96554c03c72c8178": {
      "model_module": "@jupyter-widgets/controls",
      "model_module_version": "2.0.0",
      "model_name": "HTMLModel",
      "state": {
       "layout": "IPY_MODEL_e0bdbaadf11d4530801a08aa3f70a9d6",
       "style": "IPY_MODEL_a53a9df01537454ab263b64952c1b03d",
       "value": " 63344/63359 [06:02&lt;00:00, 173.70it/s]"
      }
     },
     "3f62fdf56c4e45dfa080526b1e5da24f": {
      "model_module": "@jupyter-widgets/controls",
      "model_module_version": "2.0.0",
      "model_name": "HTMLModel",
      "state": {
       "layout": "IPY_MODEL_13687c9d5a5f48a199f18ca011be430e",
       "style": "IPY_MODEL_213f2641d1ef4eef9d908158e263cefe",
       "value": "100%"
      }
     },
     "3f82e699a6c84999a830cab3ab8594d7": {
      "model_module": "@jupyter-widgets/controls",
      "model_module_version": "2.0.0",
      "model_name": "HTMLStyleModel",
      "state": {
       "description_width": "",
       "font_size": null,
       "text_color": null
      }
     },
     "3f8e19486c6947d8a783723358d87d90": {
      "model_module": "@jupyter-widgets/controls",
      "model_module_version": "2.0.0",
      "model_name": "HTMLModel",
      "state": {
       "layout": "IPY_MODEL_9ec6c63a6b7a4422a57c36462d092332",
       "style": "IPY_MODEL_049c1a3153e94a3ab967039fb9256681",
       "value": " 63343/63359 [06:04&lt;00:00, 174.48it/s]"
      }
     },
     "3ff4676cca324f1c92feec8a35c3ebbd": {
      "model_module": "@jupyter-widgets/controls",
      "model_module_version": "2.0.0",
      "model_name": "FloatProgressModel",
      "state": {
       "layout": "IPY_MODEL_b6e25f3ca3584f71b3f9abe01e503838",
       "max": 63359,
       "style": "IPY_MODEL_81fb7b314cfc4a8faf9a3873218819dc",
       "value": 63359
      }
     },
     "3ff5e8d8b98f4f7cbfa1114f86b0117a": {
      "model_module": "@jupyter-widgets/controls",
      "model_module_version": "2.0.0",
      "model_name": "ProgressStyleModel",
      "state": {
       "description_width": ""
      }
     },
     "40103316bf524e2e9407b638be0187c8": {
      "model_module": "@jupyter-widgets/controls",
      "model_module_version": "2.0.0",
      "model_name": "HTMLModel",
      "state": {
       "layout": "IPY_MODEL_73da85ef53084ebdb35c58969dcf6ea9",
       "style": "IPY_MODEL_a51243c30e7b4fc0ae02bd966198cd1c",
       "value": "100%"
      }
     },
     "405b9a3cab89432cbaeeb1f7a8583170": {
      "model_module": "@jupyter-widgets/controls",
      "model_module_version": "2.0.0",
      "model_name": "HTMLModel",
      "state": {
       "layout": "IPY_MODEL_241bd44d700a44a2b18a09aa4cf57770",
       "style": "IPY_MODEL_508e41ed2ea34acd9d754a4a22268bb6",
       "value": "100%"
      }
     },
     "407e5c7cae5d437babc6f8f4701d6f8d": {
      "model_module": "@jupyter-widgets/controls",
      "model_module_version": "2.0.0",
      "model_name": "HTMLModel",
      "state": {
       "layout": "IPY_MODEL_d2cc642c9c3d4ddcaf75276020366429",
       "style": "IPY_MODEL_fd99ea0d4d3347548341053c07a2acf0",
       "value": "100%"
      }
     },
     "40873a8c00a34c0cb3189be6447dde10": {
      "model_module": "@jupyter-widgets/controls",
      "model_module_version": "2.0.0",
      "model_name": "HTMLModel",
      "state": {
       "layout": "IPY_MODEL_71d2d24865fb42da945a0b685643223c",
       "style": "IPY_MODEL_ac37e37e731f4321aa4fcfd7eaec57e6",
       "value": "100%"
      }
     },
     "408c2d855fd640af865f8948b6540b2a": {
      "model_module": "@jupyter-widgets/base",
      "model_module_version": "2.0.0",
      "model_name": "LayoutModel",
      "state": {
       "visibility": "hidden"
      }
     },
     "40aca154081a4940a19d037e6166b715": {
      "model_module": "@jupyter-widgets/controls",
      "model_module_version": "2.0.0",
      "model_name": "HTMLStyleModel",
      "state": {
       "description_width": "",
       "font_size": null,
       "text_color": null
      }
     },
     "40b6d7bae9e14f3385139730f74a450c": {
      "model_module": "@jupyter-widgets/base",
      "model_module_version": "2.0.0",
      "model_name": "LayoutModel",
      "state": {}
     },
     "4119797d55744126a03490ad058e324e": {
      "model_module": "@jupyter-widgets/controls",
      "model_module_version": "2.0.0",
      "model_name": "HTMLStyleModel",
      "state": {
       "description_width": "",
       "font_size": null,
       "text_color": null
      }
     },
     "41398f350d3e4394b36c41a013a24a98": {
      "model_module": "@jupyter-widgets/base",
      "model_module_version": "2.0.0",
      "model_name": "LayoutModel",
      "state": {}
     },
     "41422cff2825476a9485d265472917b1": {
      "model_module": "@jupyter-widgets/controls",
      "model_module_version": "2.0.0",
      "model_name": "ProgressStyleModel",
      "state": {
       "description_width": ""
      }
     },
     "41549df872674e22b32624024c082ccf": {
      "model_module": "@jupyter-widgets/controls",
      "model_module_version": "2.0.0",
      "model_name": "HTMLModel",
      "state": {
       "layout": "IPY_MODEL_49e77f37579443f792ef4003ef1254e5",
       "style": "IPY_MODEL_86bae061dc70455695977b419515bc98",
       "value": "100%"
      }
     },
     "4159d256baaf46d69598b7d65125accf": {
      "model_module": "@jupyter-widgets/controls",
      "model_module_version": "2.0.0",
      "model_name": "HTMLStyleModel",
      "state": {
       "description_width": "",
       "font_size": null,
       "text_color": null
      }
     },
     "415baea08c3f499fbdc460bb00f8a84e": {
      "model_module": "@jupyter-widgets/controls",
      "model_module_version": "2.0.0",
      "model_name": "HTMLStyleModel",
      "state": {
       "description_width": "",
       "font_size": null,
       "text_color": null
      }
     },
     "4166f8fbb6934055a2621b47da7f0a3e": {
      "model_module": "@jupyter-widgets/controls",
      "model_module_version": "2.0.0",
      "model_name": "HTMLStyleModel",
      "state": {
       "description_width": "",
       "font_size": null,
       "text_color": null
      }
     },
     "41840f1035d942c88741e8b22857aa3f": {
      "model_module": "@jupyter-widgets/controls",
      "model_module_version": "2.0.0",
      "model_name": "ProgressStyleModel",
      "state": {
       "description_width": ""
      }
     },
     "419c99a982e64ed48ae5e989990b855a": {
      "model_module": "@jupyter-widgets/base",
      "model_module_version": "2.0.0",
      "model_name": "LayoutModel",
      "state": {}
     },
     "419e1015e395409892cc87001cb6697f": {
      "model_module": "@jupyter-widgets/controls",
      "model_module_version": "2.0.0",
      "model_name": "HTMLModel",
      "state": {
       "layout": "IPY_MODEL_50dd27feb8d7444fa7710be9e599a54e",
       "style": "IPY_MODEL_cec06412feab4c049e677cde98f77192",
       "value": " 63352/63359 [06:06&lt;00:00, 173.87it/s]"
      }
     },
     "41bb6323c42d4bf6b7f8a1da00e42a94": {
      "model_module": "@jupyter-widgets/base",
      "model_module_version": "2.0.0",
      "model_name": "LayoutModel",
      "state": {}
     },
     "41cb055438964a7487f7a3a94db03bbc": {
      "model_module": "@jupyter-widgets/base",
      "model_module_version": "2.0.0",
      "model_name": "LayoutModel",
      "state": {}
     },
     "41db3fc642684c0ca75427269c4e5dc0": {
      "model_module": "@jupyter-widgets/base",
      "model_module_version": "2.0.0",
      "model_name": "LayoutModel",
      "state": {}
     },
     "429c0fa0d60f46568efa4158c9d86e90": {
      "model_module": "@jupyter-widgets/base",
      "model_module_version": "2.0.0",
      "model_name": "LayoutModel",
      "state": {
       "visibility": "hidden"
      }
     },
     "42f2dc55446540868e2460c394bf3378": {
      "model_module": "@jupyter-widgets/controls",
      "model_module_version": "2.0.0",
      "model_name": "HTMLStyleModel",
      "state": {
       "description_width": "",
       "font_size": null,
       "text_color": null
      }
     },
     "4326d8d3c834427ea9d6210a964ce651": {
      "model_module": "@jupyter-widgets/controls",
      "model_module_version": "2.0.0",
      "model_name": "HTMLStyleModel",
      "state": {
       "description_width": "",
       "font_size": null,
       "text_color": null
      }
     },
     "43278ac98226433bbdee9bacb6d981e5": {
      "model_module": "@jupyter-widgets/base",
      "model_module_version": "2.0.0",
      "model_name": "LayoutModel",
      "state": {
       "visibility": "hidden"
      }
     },
     "43295b0ee7f7458b8f360b70086dd5e5": {
      "model_module": "@jupyter-widgets/base",
      "model_module_version": "2.0.0",
      "model_name": "LayoutModel",
      "state": {}
     },
     "432a62b58a07448684db2034ea9af390": {
      "model_module": "@jupyter-widgets/base",
      "model_module_version": "2.0.0",
      "model_name": "LayoutModel",
      "state": {}
     },
     "43393b52d58e44f6bcb5c729a1d711b2": {
      "model_module": "@jupyter-widgets/controls",
      "model_module_version": "2.0.0",
      "model_name": "HTMLModel",
      "state": {
       "layout": "IPY_MODEL_a6d9480d2bb24a80b2ba855097a8da1f",
       "style": "IPY_MODEL_b42ec81c9431448a8c2fa2860d588bc1",
       "value": " 63355/63359 [06:08&lt;00:00, 173.82it/s]"
      }
     },
     "433cb569a17740d2867962500eb923ee": {
      "model_module": "@jupyter-widgets/controls",
      "model_module_version": "2.0.0",
      "model_name": "HTMLModel",
      "state": {
       "layout": "IPY_MODEL_363114b6face4af7b3700ce658a329dc",
       "style": "IPY_MODEL_e93256f61e064e3d890c7589768221be",
       "value": "100%"
      }
     },
     "439b391d98604faf8e26a9cf14ac6019": {
      "model_module": "@jupyter-widgets/base",
      "model_module_version": "2.0.0",
      "model_name": "LayoutModel",
      "state": {}
     },
     "43d1e11dce444f9bb1b4edb2b741702f": {
      "model_module": "@jupyter-widgets/controls",
      "model_module_version": "2.0.0",
      "model_name": "HTMLModel",
      "state": {
       "layout": "IPY_MODEL_71e95575d82a470caecf6e3ea80eb531",
       "style": "IPY_MODEL_0883b1aa03174f88a64eb7c9e4da7a1c",
       "value": "100%"
      }
     },
     "43e77707899044c5a0639870e8907fb5": {
      "model_module": "@jupyter-widgets/controls",
      "model_module_version": "2.0.0",
      "model_name": "HTMLModel",
      "state": {
       "layout": "IPY_MODEL_fffa8724a3be4fecb57dd37940e38ffa",
       "style": "IPY_MODEL_f383b1a18d534e4f9861aa2d3d86d2fb",
       "value": "100%"
      }
     },
     "44192a1d932145c8a40582ec0be4d829": {
      "model_module": "@jupyter-widgets/controls",
      "model_module_version": "2.0.0",
      "model_name": "HTMLModel",
      "state": {
       "layout": "IPY_MODEL_64cec03d5ac24fea94f57c9d52f0807a",
       "style": "IPY_MODEL_67edda115f0742938ecf04b82ec7cb91",
       "value": " 63352/63359 [06:00&lt;00:00, 176.03it/s]"
      }
     },
     "44483e8fac024ffc8938700b70922587": {
      "model_module": "@jupyter-widgets/base",
      "model_module_version": "2.0.0",
      "model_name": "LayoutModel",
      "state": {}
     },
     "447e965ebfe94236a5a446a0a6854587": {
      "model_module": "@jupyter-widgets/base",
      "model_module_version": "2.0.0",
      "model_name": "LayoutModel",
      "state": {}
     },
     "449cb4db66b345adbe1d886ffea97dd7": {
      "model_module": "@jupyter-widgets/base",
      "model_module_version": "2.0.0",
      "model_name": "LayoutModel",
      "state": {}
     },
     "44b2269faaf549f9946c4eb2d00cdfc0": {
      "model_module": "@jupyter-widgets/controls",
      "model_module_version": "2.0.0",
      "model_name": "ProgressStyleModel",
      "state": {
       "description_width": ""
      }
     },
     "44c3d39fa0884ad6b975005f879ab80d": {
      "model_module": "@jupyter-widgets/controls",
      "model_module_version": "2.0.0",
      "model_name": "HTMLStyleModel",
      "state": {
       "description_width": "",
       "font_size": null,
       "text_color": null
      }
     },
     "44ea241ae4f34d54b0e8f07caa5492b4": {
      "model_module": "@jupyter-widgets/controls",
      "model_module_version": "2.0.0",
      "model_name": "FloatProgressModel",
      "state": {
       "layout": "IPY_MODEL_368d8796b24e4a02a50627c1f55e19e4",
       "max": 63359,
       "style": "IPY_MODEL_3a2d82fdd6fb4a08a3c37b74e3708a28",
       "value": 63359
      }
     },
     "44f002360f3c425ea18a5d0ed4901066": {
      "model_module": "@jupyter-widgets/base",
      "model_module_version": "2.0.0",
      "model_name": "LayoutModel",
      "state": {}
     },
     "44f7a6109fc448338b3c0bcde4ac8dc8": {
      "model_module": "@jupyter-widgets/controls",
      "model_module_version": "2.0.0",
      "model_name": "HTMLModel",
      "state": {
       "layout": "IPY_MODEL_8e6a7262e69d4939b06dc14a577f93b4",
       "style": "IPY_MODEL_85921e8d2b4c4aed97e3efc50897931d",
       "value": " 63344/63359 [05:52&lt;00:00, 180.54it/s]"
      }
     },
     "44fa545aa04746e992a2ac37175557f7": {
      "model_module": "@jupyter-widgets/controls",
      "model_module_version": "2.0.0",
      "model_name": "FloatProgressModel",
      "state": {
       "layout": "IPY_MODEL_82b1a805551d48fcad76ab96c5f64d34",
       "max": 63359,
       "style": "IPY_MODEL_9d7120f9eb6e41afa43d7d441e21ba60",
       "value": 63359
      }
     },
     "45226968340b4ee58bbc57fc0113564e": {
      "model_module": "@jupyter-widgets/controls",
      "model_module_version": "2.0.0",
      "model_name": "HTMLModel",
      "state": {
       "layout": "IPY_MODEL_549585a49c944654bafd7a3378f50282",
       "style": "IPY_MODEL_179de801b96a439ca0dd2a7c4433b77c",
       "value": " 63344/63359 [06:23&lt;00:00, 170.94it/s]"
      }
     },
     "4537843f2b9248a7878ef84da4f66b6b": {
      "model_module": "@jupyter-widgets/controls",
      "model_module_version": "2.0.0",
      "model_name": "HTMLModel",
      "state": {
       "layout": "IPY_MODEL_bf7c36efb566412999e21b7b02f3fdb7",
       "style": "IPY_MODEL_853e19b1db0046b3a3bdd8b0b0c6e73c",
       "value": "100%"
      }
     },
     "45460660a3a7457795a8753e9cbeba28": {
      "model_module": "@jupyter-widgets/controls",
      "model_module_version": "2.0.0",
      "model_name": "HTMLStyleModel",
      "state": {
       "description_width": "",
       "font_size": null,
       "text_color": null
      }
     },
     "454e00d199854001901c354ca1bc293a": {
      "model_module": "@jupyter-widgets/base",
      "model_module_version": "2.0.0",
      "model_name": "LayoutModel",
      "state": {}
     },
     "456b243f7df74d5d9b3fb44a773cf61b": {
      "model_module": "@jupyter-widgets/controls",
      "model_module_version": "2.0.0",
      "model_name": "HTMLStyleModel",
      "state": {
       "description_width": "",
       "font_size": null,
       "text_color": null
      }
     },
     "459425326b3f430b82342ed562a256a4": {
      "model_module": "@jupyter-widgets/controls",
      "model_module_version": "2.0.0",
      "model_name": "HTMLModel",
      "state": {
       "layout": "IPY_MODEL_8e505055355a4084b34e33a28fddcc57",
       "style": "IPY_MODEL_f91f0e7fcb2d4161a48418cd12966b7e",
       "value": " 63357/63359 [06:05&lt;00:00, 172.80it/s]"
      }
     },
     "45b220b604ac49b5a615c0cd7996a58f": {
      "model_module": "@jupyter-widgets/controls",
      "model_module_version": "2.0.0",
      "model_name": "HTMLModel",
      "state": {
       "layout": "IPY_MODEL_d2e82d90fba74273987d0fe2ea786458",
       "style": "IPY_MODEL_f2498aeb1b6245d38f79f90edc4d88e1",
       "value": " 63347/63359 [06:12&lt;00:00, 172.19it/s]"
      }
     },
     "45c2701e86a241a6942e31a0284b940e": {
      "model_module": "@jupyter-widgets/controls",
      "model_module_version": "2.0.0",
      "model_name": "FloatProgressModel",
      "state": {
       "layout": "IPY_MODEL_79d138ea523f4c01afb987bf27999264",
       "max": 63359,
       "style": "IPY_MODEL_68d2f0ea37c64a6cbbd301908515a57e",
       "value": 63359
      }
     },
     "45c6f4e3968346c4a72364bbc6542bbb": {
      "model_module": "@jupyter-widgets/controls",
      "model_module_version": "2.0.0",
      "model_name": "FloatProgressModel",
      "state": {
       "layout": "IPY_MODEL_518a19b3f9fa4355b88f7da1b179375f",
       "max": 63359,
       "style": "IPY_MODEL_ab179874c91f4532bdcffe0bd588de52",
       "value": 63359
      }
     },
     "46162e4e1fc44483bf51cff5d72a5904": {
      "model_module": "@jupyter-widgets/controls",
      "model_module_version": "2.0.0",
      "model_name": "ProgressStyleModel",
      "state": {
       "description_width": ""
      }
     },
     "469da5c2289a41b58ce0e37f0a05e5fa": {
      "model_module": "@jupyter-widgets/controls",
      "model_module_version": "2.0.0",
      "model_name": "HTMLStyleModel",
      "state": {
       "description_width": "",
       "font_size": null,
       "text_color": null
      }
     },
     "46b153a539d349b3ad8fcd53597266a9": {
      "model_module": "@jupyter-widgets/base",
      "model_module_version": "2.0.0",
      "model_name": "LayoutModel",
      "state": {
       "visibility": "hidden"
      }
     },
     "46d7f5c386424c69a09c4e73c0842484": {
      "model_module": "@jupyter-widgets/controls",
      "model_module_version": "2.0.0",
      "model_name": "FloatProgressModel",
      "state": {
       "layout": "IPY_MODEL_1c1bb843d840493d9bab0e4cb789acbc",
       "max": 63359,
       "style": "IPY_MODEL_0a1f871548f9400fa842eb58a5891a8c",
       "value": 63359
      }
     },
     "46f2c81a2cc54c868e66f9028e3bb6ea": {
      "model_module": "@jupyter-widgets/base",
      "model_module_version": "2.0.0",
      "model_name": "LayoutModel",
      "state": {}
     },
     "46f62fa305d0472891a0569c15c1be78": {
      "model_module": "@jupyter-widgets/controls",
      "model_module_version": "2.0.0",
      "model_name": "HTMLStyleModel",
      "state": {
       "description_width": "",
       "font_size": null,
       "text_color": null
      }
     },
     "46f7d215629145339dea866917f4a4a2": {
      "model_module": "@jupyter-widgets/controls",
      "model_module_version": "2.0.0",
      "model_name": "HTMLModel",
      "state": {
       "layout": "IPY_MODEL_0459cd8a924a47d78e6a62d66813b4c6",
       "style": "IPY_MODEL_6ada08b900df4a6481d2ec302f606793",
       "value": "100%"
      }
     },
     "470914a56e4b4ca989b245b6f14dd78c": {
      "model_module": "@jupyter-widgets/base",
      "model_module_version": "2.0.0",
      "model_name": "LayoutModel",
      "state": {}
     },
     "472da695a4274c22b84492fc9b080f26": {
      "model_module": "@jupyter-widgets/base",
      "model_module_version": "2.0.0",
      "model_name": "LayoutModel",
      "state": {
       "visibility": "hidden"
      }
     },
     "478e0f6c381c46968a41c66bd2bd104f": {
      "model_module": "@jupyter-widgets/base",
      "model_module_version": "2.0.0",
      "model_name": "LayoutModel",
      "state": {}
     },
     "47cbd5f9791d4df7a7cfc70699e82f2b": {
      "model_module": "@jupyter-widgets/controls",
      "model_module_version": "2.0.0",
      "model_name": "HTMLStyleModel",
      "state": {
       "description_width": "",
       "font_size": null,
       "text_color": null
      }
     },
     "47fb79029ff648cb87b1bfca86f61874": {
      "model_module": "@jupyter-widgets/base",
      "model_module_version": "2.0.0",
      "model_name": "LayoutModel",
      "state": {}
     },
     "4814ee436a554785a015ce489e089c4e": {
      "model_module": "@jupyter-widgets/controls",
      "model_module_version": "2.0.0",
      "model_name": "HTMLModel",
      "state": {
       "layout": "IPY_MODEL_470914a56e4b4ca989b245b6f14dd78c",
       "style": "IPY_MODEL_7c35f451ecb24a008f627c2ba32a16cf",
       "value": "100%"
      }
     },
     "4827e0bca1c849889fd4ce8dca3cda69": {
      "model_module": "@jupyter-widgets/controls",
      "model_module_version": "2.0.0",
      "model_name": "HTMLModel",
      "state": {
       "layout": "IPY_MODEL_671e144a7d524152a307a8d03efd275e",
       "style": "IPY_MODEL_a860d8ae6b3d41c192a6b663ccb5ba8a",
       "value": " 63347/63359 [06:02&lt;00:00, 174.45it/s]"
      }
     },
     "4851d86b1b8d45668a2bdf1702056f58": {
      "model_module": "@jupyter-widgets/controls",
      "model_module_version": "2.0.0",
      "model_name": "ProgressStyleModel",
      "state": {
       "description_width": ""
      }
     },
     "4873f4f346104caf8f8d40c181b3a830": {
      "model_module": "@jupyter-widgets/controls",
      "model_module_version": "2.0.0",
      "model_name": "ProgressStyleModel",
      "state": {
       "description_width": ""
      }
     },
     "487c59ea268e48c2990f68ebc0307564": {
      "model_module": "@jupyter-widgets/base",
      "model_module_version": "2.0.0",
      "model_name": "LayoutModel",
      "state": {}
     },
     "48e705441b93415f8277010a62309607": {
      "model_module": "@jupyter-widgets/base",
      "model_module_version": "2.0.0",
      "model_name": "LayoutModel",
      "state": {
       "visibility": "hidden"
      }
     },
     "4915aa7aa2384b29b08cee26a06eee31": {
      "model_module": "@jupyter-widgets/controls",
      "model_module_version": "2.0.0",
      "model_name": "HTMLModel",
      "state": {
       "layout": "IPY_MODEL_2d9dde4b50ee4cf69f68381a71a50d5d",
       "style": "IPY_MODEL_e40509568c31496c8e3bcaa4e5523b8a",
       "value": "100%"
      }
     },
     "49398be2fd2244fc86b1038ef18578ba": {
      "model_module": "@jupyter-widgets/base",
      "model_module_version": "2.0.0",
      "model_name": "LayoutModel",
      "state": {}
     },
     "498da75afdca4afa926bd548360416eb": {
      "model_module": "@jupyter-widgets/base",
      "model_module_version": "2.0.0",
      "model_name": "LayoutModel",
      "state": {}
     },
     "4998c911259c4b789ff228f097a43b5e": {
      "model_module": "@jupyter-widgets/controls",
      "model_module_version": "2.0.0",
      "model_name": "HTMLModel",
      "state": {
       "layout": "IPY_MODEL_7962298ce35847b4ada26b62a0c35aae",
       "style": "IPY_MODEL_89e1af99f979408d9e5a6fc371f3a131",
       "value": " 63355/63359 [06:02&lt;00:00, 168.09it/s]"
      }
     },
     "49c26add1b5a4b2d81bb74894f689b23": {
      "model_module": "@jupyter-widgets/controls",
      "model_module_version": "2.0.0",
      "model_name": "HTMLStyleModel",
      "state": {
       "description_width": "",
       "font_size": null,
       "text_color": null
      }
     },
     "49e77f37579443f792ef4003ef1254e5": {
      "model_module": "@jupyter-widgets/base",
      "model_module_version": "2.0.0",
      "model_name": "LayoutModel",
      "state": {}
     },
     "4a11e3a2e2c74f25a16267c4078fb8e1": {
      "model_module": "@jupyter-widgets/controls",
      "model_module_version": "2.0.0",
      "model_name": "HTMLModel",
      "state": {
       "layout": "IPY_MODEL_af427b9a7e6d4f4ca899361e77451847",
       "style": "IPY_MODEL_7267067fc9ab4d688f9c59bb10facb3b",
       "value": " 63344/63359 [06:07&lt;00:00, 171.09it/s]"
      }
     },
     "4a15d60bb2384a3e80287e60701bf563": {
      "model_module": "@jupyter-widgets/controls",
      "model_module_version": "2.0.0",
      "model_name": "ProgressStyleModel",
      "state": {
       "description_width": ""
      }
     },
     "4a278c7cec3149d08eb6df157386e42c": {
      "model_module": "@jupyter-widgets/base",
      "model_module_version": "2.0.0",
      "model_name": "LayoutModel",
      "state": {}
     },
     "4a64137292de4d66a22fa4ae82fbb0e6": {
      "model_module": "@jupyter-widgets/controls",
      "model_module_version": "2.0.0",
      "model_name": "ProgressStyleModel",
      "state": {
       "description_width": ""
      }
     },
     "4a65bc4353e54fadbeb015f59490a0f8": {
      "model_module": "@jupyter-widgets/base",
      "model_module_version": "2.0.0",
      "model_name": "LayoutModel",
      "state": {}
     },
     "4a6f22a596504c139bb13e8b60f6db25": {
      "model_module": "@jupyter-widgets/base",
      "model_module_version": "2.0.0",
      "model_name": "LayoutModel",
      "state": {
       "visibility": "hidden"
      }
     },
     "4a71e0f448bb49b3bb6e022a7f7b4f3d": {
      "model_module": "@jupyter-widgets/controls",
      "model_module_version": "2.0.0",
      "model_name": "HTMLStyleModel",
      "state": {
       "description_width": "",
       "font_size": null,
       "text_color": null
      }
     },
     "4a8a777b991145a98d4b837b49b1c8a9": {
      "model_module": "@jupyter-widgets/controls",
      "model_module_version": "2.0.0",
      "model_name": "HTMLModel",
      "state": {
       "layout": "IPY_MODEL_0c292b5476664ae3a91741cb63fcba21",
       "style": "IPY_MODEL_bf3a32124d6d48b1982a7281a1675980",
       "value": " 63357/63359 [06:16&lt;00:00, 173.93it/s]"
      }
     },
     "4a989886178b4bf4b9a19dfb5a318e91": {
      "model_module": "@jupyter-widgets/controls",
      "model_module_version": "2.0.0",
      "model_name": "HTMLModel",
      "state": {
       "layout": "IPY_MODEL_2e1a689cbb6a4790bdc696951403277d",
       "style": "IPY_MODEL_44c3d39fa0884ad6b975005f879ab80d",
       "value": "100%"
      }
     },
     "4aa82571e2724a208a9a2cdfaa94e41a": {
      "model_module": "@jupyter-widgets/base",
      "model_module_version": "2.0.0",
      "model_name": "LayoutModel",
      "state": {
       "visibility": "hidden"
      }
     },
     "4ada28c70fa34a83982c387984291210": {
      "model_module": "@jupyter-widgets/controls",
      "model_module_version": "2.0.0",
      "model_name": "FloatProgressModel",
      "state": {
       "layout": "IPY_MODEL_bffd5bbd08ac42f3b48eeb8b41b6cc3e",
       "max": 63359,
       "style": "IPY_MODEL_16ff3ef5113a421cb92fbbc0898139a6",
       "value": 63359
      }
     },
     "4ae9d536822a4ad88a359a437cf62650": {
      "model_module": "@jupyter-widgets/base",
      "model_module_version": "2.0.0",
      "model_name": "LayoutModel",
      "state": {
       "visibility": "hidden"
      }
     },
     "4af90b20dc574f47b807c59529bf5173": {
      "model_module": "@jupyter-widgets/controls",
      "model_module_version": "2.0.0",
      "model_name": "ProgressStyleModel",
      "state": {
       "description_width": ""
      }
     },
     "4b0f7f79c46044af87132262a44f4f6c": {
      "model_module": "@jupyter-widgets/controls",
      "model_module_version": "2.0.0",
      "model_name": "FloatProgressModel",
      "state": {
       "layout": "IPY_MODEL_bab3a6bf1b6448b18d55214f42c9846d",
       "max": 63359,
       "style": "IPY_MODEL_c10d1b033dd346baac33213dc840c0ff",
       "value": 63359
      }
     },
     "4b344e2f67e94d7697fa0c9b710b6ad9": {
      "model_module": "@jupyter-widgets/controls",
      "model_module_version": "2.0.0",
      "model_name": "ProgressStyleModel",
      "state": {
       "description_width": ""
      }
     },
     "4b3a4956f6a740f08da9a591cfbe7654": {
      "model_module": "@jupyter-widgets/controls",
      "model_module_version": "2.0.0",
      "model_name": "HTMLStyleModel",
      "state": {
       "description_width": "",
       "font_size": null,
       "text_color": null
      }
     },
     "4b5aa996fd0b47be9639cbed9a7b40e6": {
      "model_module": "@jupyter-widgets/controls",
      "model_module_version": "2.0.0",
      "model_name": "HTMLStyleModel",
      "state": {
       "description_width": "",
       "font_size": null,
       "text_color": null
      }
     },
     "4ba9f811c164458c9524cf032e67eafc": {
      "model_module": "@jupyter-widgets/base",
      "model_module_version": "2.0.0",
      "model_name": "LayoutModel",
      "state": {
       "visibility": "hidden"
      }
     },
     "4bb6154c57ba4eb2b0a162541fa3d5be": {
      "model_module": "@jupyter-widgets/controls",
      "model_module_version": "2.0.0",
      "model_name": "FloatProgressModel",
      "state": {
       "layout": "IPY_MODEL_2dfee31a81e744c4b846b084190d7ce9",
       "max": 63359,
       "style": "IPY_MODEL_ae63ec54a8904b3aa11784f2693103a2",
       "value": 63359
      }
     },
     "4bc875c4f1c64b4785e6382389df7eb6": {
      "model_module": "@jupyter-widgets/controls",
      "model_module_version": "2.0.0",
      "model_name": "FloatProgressModel",
      "state": {
       "layout": "IPY_MODEL_512e275c49ab4ad1a4459fb6380ac603",
       "max": 63359,
       "style": "IPY_MODEL_bb30e2ce7376447a95652e4f16ddd6a4",
       "value": 63359
      }
     },
     "4bc9052aee7e4e249899c47752b21f89": {
      "model_module": "@jupyter-widgets/base",
      "model_module_version": "2.0.0",
      "model_name": "LayoutModel",
      "state": {}
     },
     "4bcb0c9337254a33bca2d2e0b64e7da2": {
      "model_module": "@jupyter-widgets/controls",
      "model_module_version": "2.0.0",
      "model_name": "HTMLStyleModel",
      "state": {
       "description_width": "",
       "font_size": null,
       "text_color": null
      }
     },
     "4bd650d70edd40dcab87275b77fe46dd": {
      "model_module": "@jupyter-widgets/controls",
      "model_module_version": "2.0.0",
      "model_name": "HTMLModel",
      "state": {
       "layout": "IPY_MODEL_eebf7e99db144a258f3cab69b9b68455",
       "style": "IPY_MODEL_b2bba5161a6541c3b4d6ea4fa35ab757",
       "value": " 63348/63359 [06:07&lt;00:00, 173.64it/s]"
      }
     },
     "4bdbabc05f324ace8b33fbd4250dc70e": {
      "model_module": "@jupyter-widgets/base",
      "model_module_version": "2.0.0",
      "model_name": "LayoutModel",
      "state": {}
     },
     "4bea585ac23949fcb0e9eebdba2bab78": {
      "model_module": "@jupyter-widgets/controls",
      "model_module_version": "2.0.0",
      "model_name": "ProgressStyleModel",
      "state": {
       "description_width": ""
      }
     },
     "4bec1c3a77bf430087117e45f4d276c8": {
      "model_module": "@jupyter-widgets/base",
      "model_module_version": "2.0.0",
      "model_name": "LayoutModel",
      "state": {}
     },
     "4c1e341327c745a796957c60f4d21e6f": {
      "model_module": "@jupyter-widgets/base",
      "model_module_version": "2.0.0",
      "model_name": "LayoutModel",
      "state": {}
     },
     "4c3331666c8143bb8b46cef394229656": {
      "model_module": "@jupyter-widgets/controls",
      "model_module_version": "2.0.0",
      "model_name": "HTMLStyleModel",
      "state": {
       "description_width": "",
       "font_size": null,
       "text_color": null
      }
     },
     "4c3529c42266499db7ea053b6f3cee31": {
      "model_module": "@jupyter-widgets/controls",
      "model_module_version": "2.0.0",
      "model_name": "HTMLStyleModel",
      "state": {
       "description_width": "",
       "font_size": null,
       "text_color": null
      }
     },
     "4c3e978e484640778de8787a389a6327": {
      "model_module": "@jupyter-widgets/controls",
      "model_module_version": "2.0.0",
      "model_name": "HTMLModel",
      "state": {
       "layout": "IPY_MODEL_34b21fe079a6452a91e517b76f88da48",
       "style": "IPY_MODEL_3f82e699a6c84999a830cab3ab8594d7",
       "value": "100%"
      }
     },
     "4c4671f5c18a487fbd3fdcb5b4fe7a25": {
      "model_module": "@jupyter-widgets/controls",
      "model_module_version": "2.0.0",
      "model_name": "HTMLStyleModel",
      "state": {
       "description_width": "",
       "font_size": null,
       "text_color": null
      }
     },
     "4c4f88de73db4e5f85a48619c286499a": {
      "model_module": "@jupyter-widgets/base",
      "model_module_version": "2.0.0",
      "model_name": "LayoutModel",
      "state": {
       "visibility": "hidden"
      }
     },
     "4c56bc0c860e48d0a11aa0a6aea5bd58": {
      "model_module": "@jupyter-widgets/base",
      "model_module_version": "2.0.0",
      "model_name": "LayoutModel",
      "state": {
       "visibility": "hidden"
      }
     },
     "4c5cfed66da5475795eefa1cbb0f4d48": {
      "model_module": "@jupyter-widgets/controls",
      "model_module_version": "2.0.0",
      "model_name": "FloatProgressModel",
      "state": {
       "layout": "IPY_MODEL_0a49bfd05d6549bf85cb920407e19095",
       "max": 63359,
       "style": "IPY_MODEL_3ca405d5cb6f49c4a563238cf8a2ad91",
       "value": 63359
      }
     },
     "4c80c7453a0e4395b0f08efd9bfd7717": {
      "model_module": "@jupyter-widgets/controls",
      "model_module_version": "2.0.0",
      "model_name": "FloatProgressModel",
      "state": {
       "layout": "IPY_MODEL_aee12996049243b7bd97247eab029500",
       "max": 63359,
       "style": "IPY_MODEL_adf0eca3a91d4551a22ab02cbc74171d",
       "value": 63359
      }
     },
     "4ca1d42caeff4cc6bb90e63bb274c2bd": {
      "model_module": "@jupyter-widgets/controls",
      "model_module_version": "2.0.0",
      "model_name": "FloatProgressModel",
      "state": {
       "layout": "IPY_MODEL_8e55a9697e664ca7b91cd3ed6f50229f",
       "max": 63359,
       "style": "IPY_MODEL_9d77cd37782140bbbaec72d54fc87c71",
       "value": 63359
      }
     },
     "4d1611e662434f70b6cbb73ed029312a": {
      "model_module": "@jupyter-widgets/base",
      "model_module_version": "2.0.0",
      "model_name": "LayoutModel",
      "state": {
       "visibility": "hidden"
      }
     },
     "4d207137b529482cb0028bbcb690a3a2": {
      "model_module": "@jupyter-widgets/controls",
      "model_module_version": "2.0.0",
      "model_name": "ProgressStyleModel",
      "state": {
       "description_width": ""
      }
     },
     "4d6a7c68dad64de78f100301a0502c44": {
      "model_module": "@jupyter-widgets/controls",
      "model_module_version": "2.0.0",
      "model_name": "HTMLModel",
      "state": {
       "layout": "IPY_MODEL_c912f4ee6a034816b1f0bd723c27db65",
       "style": "IPY_MODEL_c7562441937448aa808895e87273b4d2",
       "value": " 63354/63359 [06:10&lt;00:00, 171.68it/s]"
      }
     },
     "4d757d120e5b48bca36f9ff7416ac7f6": {
      "model_module": "@jupyter-widgets/controls",
      "model_module_version": "2.0.0",
      "model_name": "HTMLStyleModel",
      "state": {
       "description_width": "",
       "font_size": null,
       "text_color": null
      }
     },
     "4dd5dd4aa36d48a990bc99479abfe08f": {
      "model_module": "@jupyter-widgets/controls",
      "model_module_version": "2.0.0",
      "model_name": "HTMLStyleModel",
      "state": {
       "description_width": "",
       "font_size": null,
       "text_color": null
      }
     },
     "4dd8ee2484f34bf3ac591ccf42dc05bc": {
      "model_module": "@jupyter-widgets/controls",
      "model_module_version": "2.0.0",
      "model_name": "HTMLModel",
      "state": {
       "layout": "IPY_MODEL_fd3e76b606584ea4beab0fa2a3cc1108",
       "style": "IPY_MODEL_4159d256baaf46d69598b7d65125accf",
       "value": "100%"
      }
     },
     "4de1db651dc74d42873a542085cfa2b0": {
      "model_module": "@jupyter-widgets/base",
      "model_module_version": "2.0.0",
      "model_name": "LayoutModel",
      "state": {
       "visibility": "hidden"
      }
     },
     "4dea3e60328e46f6aecf864e7d9fdf71": {
      "model_module": "@jupyter-widgets/controls",
      "model_module_version": "2.0.0",
      "model_name": "HTMLModel",
      "state": {
       "layout": "IPY_MODEL_35ff661ee90a4feb8c6b71ed267284ca",
       "style": "IPY_MODEL_55c6e33d11864c20986075466c4a2de6",
       "value": "100%"
      }
     },
     "4e072d12f5b1408bbbd756262d0bda5f": {
      "model_module": "@jupyter-widgets/controls",
      "model_module_version": "2.0.0",
      "model_name": "ProgressStyleModel",
      "state": {
       "description_width": ""
      }
     },
     "4e1891e0a65946a2bde791e39f083b7b": {
      "model_module": "@jupyter-widgets/base",
      "model_module_version": "2.0.0",
      "model_name": "LayoutModel",
      "state": {}
     },
     "4e2695b933a64b81bf2e2cded596eaa0": {
      "model_module": "@jupyter-widgets/controls",
      "model_module_version": "2.0.0",
      "model_name": "HTMLModel",
      "state": {
       "layout": "IPY_MODEL_2c957aa2096543daaeb7a608e69a920c",
       "style": "IPY_MODEL_b0828496f5fd412fb2d85f638c362427",
       "value": " 63359/63359 [06:06&lt;00:00, 174.76it/s]"
      }
     },
     "4e38c3d872314c1c8be7242824987f7c": {
      "model_module": "@jupyter-widgets/base",
      "model_module_version": "2.0.0",
      "model_name": "LayoutModel",
      "state": {}
     },
     "4e4aafb250534eee93716487bf38c13c": {
      "model_module": "@jupyter-widgets/base",
      "model_module_version": "2.0.0",
      "model_name": "LayoutModel",
      "state": {}
     },
     "4e575cf7a22d4c148ea7677b9abef9cd": {
      "model_module": "@jupyter-widgets/controls",
      "model_module_version": "2.0.0",
      "model_name": "HTMLModel",
      "state": {
       "layout": "IPY_MODEL_167d62e424be45f0a8f08bb195804ebb",
       "style": "IPY_MODEL_f0eb1366474940dcbef5529009ddc24f",
       "value": " 63346/63359 [05:54&lt;00:00, 180.36it/s]"
      }
     },
     "4e7f85bc948645b381acef62dbfed672": {
      "model_module": "@jupyter-widgets/controls",
      "model_module_version": "2.0.0",
      "model_name": "ProgressStyleModel",
      "state": {
       "description_width": ""
      }
     },
     "4f00d73ae08a446ca24d55966066fc9e": {
      "model_module": "@jupyter-widgets/base",
      "model_module_version": "2.0.0",
      "model_name": "LayoutModel",
      "state": {
       "visibility": "hidden"
      }
     },
     "4f0912443dfd4829bbabd39449d169ff": {
      "model_module": "@jupyter-widgets/controls",
      "model_module_version": "2.0.0",
      "model_name": "HTMLModel",
      "state": {
       "layout": "IPY_MODEL_8e3bff9405ad44069f75200f9359459f",
       "style": "IPY_MODEL_901cb95a960e4156b264fc4773cfd638",
       "value": " 63343/63359 [05:50&lt;00:00, 180.01it/s]"
      }
     },
     "4f1117ce592b499d8151d788734a6e92": {
      "model_module": "@jupyter-widgets/base",
      "model_module_version": "2.0.0",
      "model_name": "LayoutModel",
      "state": {
       "visibility": "hidden"
      }
     },
     "4f2f70fcbf4d480da0aa5e1466a3b7a2": {
      "model_module": "@jupyter-widgets/controls",
      "model_module_version": "2.0.0",
      "model_name": "HTMLStyleModel",
      "state": {
       "description_width": "",
       "font_size": null,
       "text_color": null
      }
     },
     "4f499eaf17e84da295015b7ca55dfdf6": {
      "model_module": "@jupyter-widgets/controls",
      "model_module_version": "2.0.0",
      "model_name": "ProgressStyleModel",
      "state": {
       "description_width": ""
      }
     },
     "4f7530c345844fdbb0c9f3ae6a60bfaf": {
      "model_module": "@jupyter-widgets/base",
      "model_module_version": "2.0.0",
      "model_name": "LayoutModel",
      "state": {}
     },
     "4f8297f4cb4e42a89a20661f69263780": {
      "model_module": "@jupyter-widgets/base",
      "model_module_version": "2.0.0",
      "model_name": "LayoutModel",
      "state": {
       "visibility": "hidden"
      }
     },
     "4f88b588ea85449dba5be1f113cb17ca": {
      "model_module": "@jupyter-widgets/base",
      "model_module_version": "2.0.0",
      "model_name": "LayoutModel",
      "state": {}
     },
     "4faedf1f4cb54fcbaceb5efba577d1aa": {
      "model_module": "@jupyter-widgets/base",
      "model_module_version": "2.0.0",
      "model_name": "LayoutModel",
      "state": {}
     },
     "4fbc06b76ee94df096a9757664ee4d77": {
      "model_module": "@jupyter-widgets/base",
      "model_module_version": "2.0.0",
      "model_name": "LayoutModel",
      "state": {}
     },
     "4fc2da3ad9354b82bbc80a3a6d745abe": {
      "model_module": "@jupyter-widgets/controls",
      "model_module_version": "2.0.0",
      "model_name": "ProgressStyleModel",
      "state": {
       "description_width": ""
      }
     },
     "5031dd1daf884723b7cdbd2ae6a371cc": {
      "model_module": "@jupyter-widgets/controls",
      "model_module_version": "2.0.0",
      "model_name": "HTMLStyleModel",
      "state": {
       "description_width": "",
       "font_size": null,
       "text_color": null
      }
     },
     "503abbbde38c43f79a4264097e9b7ca9": {
      "model_module": "@jupyter-widgets/controls",
      "model_module_version": "2.0.0",
      "model_name": "ProgressStyleModel",
      "state": {
       "description_width": ""
      }
     },
     "5045e3ba59a24c0db01de2b5e5578a6d": {
      "model_module": "@jupyter-widgets/controls",
      "model_module_version": "2.0.0",
      "model_name": "HTMLModel",
      "state": {
       "layout": "IPY_MODEL_c9725a80aa6c4c51a0722c369da6f41c",
       "style": "IPY_MODEL_8e8a16aeffd040a285e1ebfe1cff8762",
       "value": "100%"
      }
     },
     "505008c85547410f849c00d1395f9a15": {
      "model_module": "@jupyter-widgets/controls",
      "model_module_version": "2.0.0",
      "model_name": "HTMLModel",
      "state": {
       "layout": "IPY_MODEL_1a189473dc724643b5cc4cf0f5b72899",
       "style": "IPY_MODEL_8d9b96a9adce4dbfabe2c276a53115a4",
       "value": "100%"
      }
     },
     "5060989c5d6f4bd690491a2c091cd75b": {
      "model_module": "@jupyter-widgets/controls",
      "model_module_version": "2.0.0",
      "model_name": "FloatProgressModel",
      "state": {
       "layout": "IPY_MODEL_fadd162448b74b8db6194fe1bff25b9b",
       "max": 63359,
       "style": "IPY_MODEL_8580282683ff482290c3dcc4511bd95f",
       "value": 63359
      }
     },
     "50622698b37d48abaa34fcb4b0c95237": {
      "model_module": "@jupyter-widgets/controls",
      "model_module_version": "2.0.0",
      "model_name": "HTMLModel",
      "state": {
       "layout": "IPY_MODEL_cd0bddbbe4704dc7be90686c28275b15",
       "style": "IPY_MODEL_d5e1a7ff8524484da05d93dcf9c995b2",
       "value": "100%"
      }
     },
     "5087185b3b124b2187e8e9ce579ba59d": {
      "model_module": "@jupyter-widgets/base",
      "model_module_version": "2.0.0",
      "model_name": "LayoutModel",
      "state": {}
     },
     "508e41ed2ea34acd9d754a4a22268bb6": {
      "model_module": "@jupyter-widgets/controls",
      "model_module_version": "2.0.0",
      "model_name": "HTMLStyleModel",
      "state": {
       "description_width": "",
       "font_size": null,
       "text_color": null
      }
     },
     "50dd27feb8d7444fa7710be9e599a54e": {
      "model_module": "@jupyter-widgets/base",
      "model_module_version": "2.0.0",
      "model_name": "LayoutModel",
      "state": {}
     },
     "50ea73a246e748b9b4a5c2d733157034": {
      "model_module": "@jupyter-widgets/controls",
      "model_module_version": "2.0.0",
      "model_name": "FloatProgressModel",
      "state": {
       "layout": "IPY_MODEL_333e5a1f4631461ea07386d9d8abd460",
       "max": 63359,
       "style": "IPY_MODEL_bb94d896f5e44294b2da4b50b1a02619",
       "value": 63359
      }
     },
     "50f268c743c643c19cd3ec7b50bcae56": {
      "model_module": "@jupyter-widgets/base",
      "model_module_version": "2.0.0",
      "model_name": "LayoutModel",
      "state": {}
     },
     "51208e084aa54d8485622a997f5b79eb": {
      "model_module": "@jupyter-widgets/controls",
      "model_module_version": "2.0.0",
      "model_name": "HTMLModel",
      "state": {
       "layout": "IPY_MODEL_5e7735faf985473591d07c2019dba6f5",
       "style": "IPY_MODEL_5b44f5853d8d492da7c08a60f8790e60",
       "value": " 63345/63359 [06:05&lt;00:00, 173.76it/s]"
      }
     },
     "512e275c49ab4ad1a4459fb6380ac603": {
      "model_module": "@jupyter-widgets/base",
      "model_module_version": "2.0.0",
      "model_name": "LayoutModel",
      "state": {}
     },
     "5137b59a1c034e6f8dbd1d6543aa343d": {
      "model_module": "@jupyter-widgets/controls",
      "model_module_version": "2.0.0",
      "model_name": "HTMLStyleModel",
      "state": {
       "description_width": "",
       "font_size": null,
       "text_color": null
      }
     },
     "515aa2c3e1904ed8ba0679036f3bb2db": {
      "model_module": "@jupyter-widgets/base",
      "model_module_version": "2.0.0",
      "model_name": "LayoutModel",
      "state": {
       "visibility": "hidden"
      }
     },
     "517d86eeb3f34b4eb8a781f02bcbc374": {
      "model_module": "@jupyter-widgets/controls",
      "model_module_version": "2.0.0",
      "model_name": "ProgressStyleModel",
      "state": {
       "description_width": ""
      }
     },
     "518548a722ed48ebbf2c79c68e5b47ff": {
      "model_module": "@jupyter-widgets/controls",
      "model_module_version": "2.0.0",
      "model_name": "HTMLStyleModel",
      "state": {
       "description_width": "",
       "font_size": null,
       "text_color": null
      }
     },
     "51886bff436c46dea1a7d37efb52f0fa": {
      "model_module": "@jupyter-widgets/controls",
      "model_module_version": "2.0.0",
      "model_name": "HTMLStyleModel",
      "state": {
       "description_width": "",
       "font_size": null,
       "text_color": null
      }
     },
     "518a19b3f9fa4355b88f7da1b179375f": {
      "model_module": "@jupyter-widgets/base",
      "model_module_version": "2.0.0",
      "model_name": "LayoutModel",
      "state": {}
     },
     "51d3a0c24f49435a803fc88d79ae414e": {
      "model_module": "@jupyter-widgets/base",
      "model_module_version": "2.0.0",
      "model_name": "LayoutModel",
      "state": {
       "visibility": "hidden"
      }
     },
     "5238decd1dc34e5c8473b6173315c23b": {
      "model_module": "@jupyter-widgets/controls",
      "model_module_version": "2.0.0",
      "model_name": "FloatProgressModel",
      "state": {
       "layout": "IPY_MODEL_38aa78b2a44b438290ed16ef872e331f",
       "max": 63359,
       "style": "IPY_MODEL_baca5c409e084f498dd8b32600c157ce",
       "value": 63359
      }
     },
     "52840756247147ef8f808fa233ac5565": {
      "model_module": "@jupyter-widgets/base",
      "model_module_version": "2.0.0",
      "model_name": "LayoutModel",
      "state": {
       "visibility": "hidden"
      }
     },
     "5285f426d7194376a5a9a48605dcb7cf": {
      "model_module": "@jupyter-widgets/controls",
      "model_module_version": "2.0.0",
      "model_name": "HTMLModel",
      "state": {
       "layout": "IPY_MODEL_ffd18806134c459a9c1b97e0ccfe357c",
       "style": "IPY_MODEL_d66676473393438fb9755ef5030eae83",
       "value": " 63343/63359 [06:03&lt;00:00, 174.67it/s]"
      }
     },
     "52e95ab1561e4b9e80156ba12b144e85": {
      "model_module": "@jupyter-widgets/base",
      "model_module_version": "2.0.0",
      "model_name": "LayoutModel",
      "state": {}
     },
     "52ebf1a3ca20411d9d192244946f7539": {
      "model_module": "@jupyter-widgets/base",
      "model_module_version": "2.0.0",
      "model_name": "LayoutModel",
      "state": {}
     },
     "52fd596e9c384126a7deb24285e60d00": {
      "model_module": "@jupyter-widgets/controls",
      "model_module_version": "2.0.0",
      "model_name": "ProgressStyleModel",
      "state": {
       "description_width": ""
      }
     },
     "5310c9328dc244b48de9f174bdace0e0": {
      "model_module": "@jupyter-widgets/controls",
      "model_module_version": "2.0.0",
      "model_name": "HTMLStyleModel",
      "state": {
       "description_width": "",
       "font_size": null,
       "text_color": null
      }
     },
     "532217da57a84b268cc0b682520bfab6": {
      "model_module": "@jupyter-widgets/controls",
      "model_module_version": "2.0.0",
      "model_name": "HTMLStyleModel",
      "state": {
       "description_width": "",
       "font_size": null,
       "text_color": null
      }
     },
     "537d4b16f159446cafd4e7e2bb2850c7": {
      "model_module": "@jupyter-widgets/controls",
      "model_module_version": "2.0.0",
      "model_name": "FloatProgressModel",
      "state": {
       "layout": "IPY_MODEL_2fd39cf977794f1ab6da8f366d09e411",
       "max": 63359,
       "style": "IPY_MODEL_743469f76046434dbb37d984f782118a",
       "value": 63359
      }
     },
     "53826b0ef0334649b2a604359963156d": {
      "model_module": "@jupyter-widgets/base",
      "model_module_version": "2.0.0",
      "model_name": "LayoutModel",
      "state": {}
     },
     "5398a9ce36734eab8005af293d0d8353": {
      "model_module": "@jupyter-widgets/controls",
      "model_module_version": "2.0.0",
      "model_name": "HTMLStyleModel",
      "state": {
       "description_width": "",
       "font_size": null,
       "text_color": null
      }
     },
     "53a4d603fe5249f5a3e0c1479ac9cbe1": {
      "model_module": "@jupyter-widgets/base",
      "model_module_version": "2.0.0",
      "model_name": "LayoutModel",
      "state": {}
     },
     "53ace37822f044898c668b7aca2b0431": {
      "model_module": "@jupyter-widgets/controls",
      "model_module_version": "2.0.0",
      "model_name": "HTMLModel",
      "state": {
       "layout": "IPY_MODEL_1898b9f4fdcb46f482ac9fa023d9a09a",
       "style": "IPY_MODEL_137cfaa32ec844f4a1d93fdf80f238a4",
       "value": " 63358/63359 [06:02&lt;00:00, 175.29it/s]"
      }
     },
     "53add57fbf844a24a60a4051d3ffad0f": {
      "model_module": "@jupyter-widgets/controls",
      "model_module_version": "2.0.0",
      "model_name": "FloatProgressModel",
      "state": {
       "layout": "IPY_MODEL_888de98a72344f41b0a0815461fd82d9",
       "max": 63359,
       "style": "IPY_MODEL_fd4f11c480e8497c9f765523935e73dc",
       "value": 63359
      }
     },
     "53b09ab55ba1442ab25caf1e002fcaa9": {
      "model_module": "@jupyter-widgets/base",
      "model_module_version": "2.0.0",
      "model_name": "LayoutModel",
      "state": {}
     },
     "53c931cdbf044c04837152266da3c8de": {
      "model_module": "@jupyter-widgets/controls",
      "model_module_version": "2.0.0",
      "model_name": "ProgressStyleModel",
      "state": {
       "description_width": ""
      }
     },
     "53f064c4a71b40c794fb5b5adf193466": {
      "model_module": "@jupyter-widgets/base",
      "model_module_version": "2.0.0",
      "model_name": "LayoutModel",
      "state": {}
     },
     "5441b81f094c489786a49ec036aa8024": {
      "model_module": "@jupyter-widgets/controls",
      "model_module_version": "2.0.0",
      "model_name": "HTMLStyleModel",
      "state": {
       "description_width": "",
       "font_size": null,
       "text_color": null
      }
     },
     "5456440a90bc4d4399b959b4e5173c6f": {
      "model_module": "@jupyter-widgets/controls",
      "model_module_version": "2.0.0",
      "model_name": "HTMLModel",
      "state": {
       "layout": "IPY_MODEL_5d41e5eee0ee455483f1cfe0675c03bd",
       "style": "IPY_MODEL_3371bd3ec92945df8c9706f6673ac353",
       "value": "100%"
      }
     },
     "5494ca5bea81450bb2c02d9fec83bb3b": {
      "model_module": "@jupyter-widgets/base",
      "model_module_version": "2.0.0",
      "model_name": "LayoutModel",
      "state": {}
     },
     "549585a49c944654bafd7a3378f50282": {
      "model_module": "@jupyter-widgets/base",
      "model_module_version": "2.0.0",
      "model_name": "LayoutModel",
      "state": {}
     },
     "549782ae740142a69091cbe5ce34ab78": {
      "model_module": "@jupyter-widgets/base",
      "model_module_version": "2.0.0",
      "model_name": "LayoutModel",
      "state": {
       "visibility": "hidden"
      }
     },
     "54c97cb9df504b65aa160444f6caea0f": {
      "model_module": "@jupyter-widgets/base",
      "model_module_version": "2.0.0",
      "model_name": "LayoutModel",
      "state": {
       "visibility": "hidden"
      }
     },
     "54d66d4c4b874a2e9a565bc7bce36692": {
      "model_module": "@jupyter-widgets/controls",
      "model_module_version": "2.0.0",
      "model_name": "HTMLStyleModel",
      "state": {
       "description_width": "",
       "font_size": null,
       "text_color": null
      }
     },
     "54fda683e7734557b276f5283f9f47a5": {
      "model_module": "@jupyter-widgets/base",
      "model_module_version": "2.0.0",
      "model_name": "LayoutModel",
      "state": {
       "visibility": "hidden"
      }
     },
     "5507474f3fdd4d0b81c5774109096b2a": {
      "model_module": "@jupyter-widgets/base",
      "model_module_version": "2.0.0",
      "model_name": "LayoutModel",
      "state": {}
     },
     "5592f67cc746446887ff1066be51b71c": {
      "model_module": "@jupyter-widgets/base",
      "model_module_version": "2.0.0",
      "model_name": "LayoutModel",
      "state": {
       "visibility": "hidden"
      }
     },
     "55c6e33d11864c20986075466c4a2de6": {
      "model_module": "@jupyter-widgets/controls",
      "model_module_version": "2.0.0",
      "model_name": "HTMLStyleModel",
      "state": {
       "description_width": "",
       "font_size": null,
       "text_color": null
      }
     },
     "560e2298edcc4e5a868933409aa5d652": {
      "model_module": "@jupyter-widgets/controls",
      "model_module_version": "2.0.0",
      "model_name": "HTMLStyleModel",
      "state": {
       "description_width": "",
       "font_size": null,
       "text_color": null
      }
     },
     "5663610c064646f4a7dcf5e2b4bc9984": {
      "model_module": "@jupyter-widgets/controls",
      "model_module_version": "2.0.0",
      "model_name": "HTMLModel",
      "state": {
       "layout": "IPY_MODEL_f252c3898ba0450294ab5e262939ead3",
       "style": "IPY_MODEL_fe5fa18868ff439687ecd6a70ffc613c",
       "value": "100%"
      }
     },
     "56683256878c422aa89564fc24d83b4c": {
      "model_module": "@jupyter-widgets/controls",
      "model_module_version": "2.0.0",
      "model_name": "ProgressStyleModel",
      "state": {
       "description_width": ""
      }
     },
     "566f545eeab641b58eb2757bef610f42": {
      "model_module": "@jupyter-widgets/base",
      "model_module_version": "2.0.0",
      "model_name": "LayoutModel",
      "state": {}
     },
     "56aeebccd87747a8b71829c3cc3b9208": {
      "model_module": "@jupyter-widgets/base",
      "model_module_version": "2.0.0",
      "model_name": "LayoutModel",
      "state": {
       "visibility": "hidden"
      }
     },
     "56b2e0286cbe467d8b8905e24dfc8673": {
      "model_module": "@jupyter-widgets/base",
      "model_module_version": "2.0.0",
      "model_name": "LayoutModel",
      "state": {}
     },
     "56d6b4acf5c8461fa9785f3835cc8b39": {
      "model_module": "@jupyter-widgets/base",
      "model_module_version": "2.0.0",
      "model_name": "LayoutModel",
      "state": {}
     },
     "56e83ea953174a17b208cc972a539a2f": {
      "model_module": "@jupyter-widgets/controls",
      "model_module_version": "2.0.0",
      "model_name": "HTMLModel",
      "state": {
       "layout": "IPY_MODEL_e5a29bbfb873474aaf54a56aa9ead28b",
       "style": "IPY_MODEL_34f4e45ef22546bbb1c618ad1267cdd7",
       "value": "100%"
      }
     },
     "56eb513dd44b4c9b9809690348115b84": {
      "model_module": "@jupyter-widgets/controls",
      "model_module_version": "2.0.0",
      "model_name": "HTMLStyleModel",
      "state": {
       "description_width": "",
       "font_size": null,
       "text_color": null
      }
     },
     "56facabf0df54fc5b7783afe8e5ae109": {
      "model_module": "@jupyter-widgets/controls",
      "model_module_version": "2.0.0",
      "model_name": "ProgressStyleModel",
      "state": {
       "description_width": ""
      }
     },
     "57031edeb1a04448abff6d7ce750abd7": {
      "model_module": "@jupyter-widgets/controls",
      "model_module_version": "2.0.0",
      "model_name": "ProgressStyleModel",
      "state": {
       "description_width": ""
      }
     },
     "570ae202e9664e529028bd04bee36549": {
      "model_module": "@jupyter-widgets/base",
      "model_module_version": "2.0.0",
      "model_name": "LayoutModel",
      "state": {
       "visibility": "hidden"
      }
     },
     "574d7cf3137841e0b640023de51f2324": {
      "model_module": "@jupyter-widgets/controls",
      "model_module_version": "2.0.0",
      "model_name": "HTMLStyleModel",
      "state": {
       "description_width": "",
       "font_size": null,
       "text_color": null
      }
     },
     "578cab280a094c4f88ec13b221e49cff": {
      "model_module": "@jupyter-widgets/controls",
      "model_module_version": "2.0.0",
      "model_name": "ProgressStyleModel",
      "state": {
       "description_width": ""
      }
     },
     "578dfaea3ec842b59abd5b1363ef6cae": {
      "model_module": "@jupyter-widgets/base",
      "model_module_version": "2.0.0",
      "model_name": "LayoutModel",
      "state": {
       "visibility": "hidden"
      }
     },
     "579735064c994dd5bd2875dd72128e79": {
      "model_module": "@jupyter-widgets/base",
      "model_module_version": "2.0.0",
      "model_name": "LayoutModel",
      "state": {
       "visibility": "hidden"
      }
     },
     "579a7018d7a04eada5a622b405d72ba8": {
      "model_module": "@jupyter-widgets/controls",
      "model_module_version": "2.0.0",
      "model_name": "FloatProgressModel",
      "state": {
       "layout": "IPY_MODEL_1b28337529c7486a8a8e91db21c0b015",
       "max": 63359,
       "style": "IPY_MODEL_e681b70dc4d4463da0d7c8ca82b6cca6",
       "value": 63359
      }
     },
     "57b6371474fd4fbab2d34e3c3d5a4bf1": {
      "model_module": "@jupyter-widgets/controls",
      "model_module_version": "2.0.0",
      "model_name": "HTMLModel",
      "state": {
       "layout": "IPY_MODEL_bde1eed740684ad8bc76642a02e5b890",
       "style": "IPY_MODEL_98f4de3bdb40419c9e502eabfa9813b9",
       "value": "100%"
      }
     },
     "57d5c099d96d4d46b35479df1c4ffa04": {
      "model_module": "@jupyter-widgets/base",
      "model_module_version": "2.0.0",
      "model_name": "LayoutModel",
      "state": {}
     },
     "57dbc5a5be6f4d0c9adb83fe265e458a": {
      "model_module": "@jupyter-widgets/base",
      "model_module_version": "2.0.0",
      "model_name": "LayoutModel",
      "state": {}
     },
     "586ea2e4e37a4714a480609554487e71": {
      "model_module": "@jupyter-widgets/controls",
      "model_module_version": "2.0.0",
      "model_name": "ProgressStyleModel",
      "state": {
       "description_width": ""
      }
     },
     "588351c4e3724876bc9ebf8192e37b17": {
      "model_module": "@jupyter-widgets/controls",
      "model_module_version": "2.0.0",
      "model_name": "HTMLModel",
      "state": {
       "layout": "IPY_MODEL_a56512868ff44beeb75d8f79d970ad8a",
       "style": "IPY_MODEL_942505f18833400a835fac04b1013741",
       "value": "100%"
      }
     },
     "58d498f2868f45f89046480f4f7b3842": {
      "model_module": "@jupyter-widgets/base",
      "model_module_version": "2.0.0",
      "model_name": "LayoutModel",
      "state": {}
     },
     "58e8fa795ccc42e9a76a2c20b690b27f": {
      "model_module": "@jupyter-widgets/base",
      "model_module_version": "2.0.0",
      "model_name": "LayoutModel",
      "state": {}
     },
     "58fa054e72054facbc4c2f403e93e0c7": {
      "model_module": "@jupyter-widgets/controls",
      "model_module_version": "2.0.0",
      "model_name": "HTMLModel",
      "state": {
       "layout": "IPY_MODEL_e42f3394f1d2438b9268ab7c5ec821f3",
       "style": "IPY_MODEL_136e934b137d41ecb5fbf2260d7dd132",
       "value": "100%"
      }
     },
     "58fd5a1dc0484d6f87cf8c35c760a571": {
      "model_module": "@jupyter-widgets/base",
      "model_module_version": "2.0.0",
      "model_name": "LayoutModel",
      "state": {}
     },
     "594abca60c2a43d68026ed40306c9b24": {
      "model_module": "@jupyter-widgets/base",
      "model_module_version": "2.0.0",
      "model_name": "LayoutModel",
      "state": {}
     },
     "5958f189d411413ab7747d8eab2e69f7": {
      "model_module": "@jupyter-widgets/base",
      "model_module_version": "2.0.0",
      "model_name": "LayoutModel",
      "state": {}
     },
     "597934ed57714e11a4925b3b94fa5f98": {
      "model_module": "@jupyter-widgets/controls",
      "model_module_version": "2.0.0",
      "model_name": "ProgressStyleModel",
      "state": {
       "description_width": ""
      }
     },
     "598a95c95a4548b9a5af581e28cd0248": {
      "model_module": "@jupyter-widgets/base",
      "model_module_version": "2.0.0",
      "model_name": "LayoutModel",
      "state": {}
     },
     "59a1f6b83ab74c4b85a9cc7015284133": {
      "model_module": "@jupyter-widgets/controls",
      "model_module_version": "2.0.0",
      "model_name": "ProgressStyleModel",
      "state": {
       "description_width": ""
      }
     },
     "59c4741cea43469d89f6e53646146fbc": {
      "model_module": "@jupyter-widgets/base",
      "model_module_version": "2.0.0",
      "model_name": "LayoutModel",
      "state": {}
     },
     "59e861754a9d46bf91f8d6bb95c1d309": {
      "model_module": "@jupyter-widgets/controls",
      "model_module_version": "2.0.0",
      "model_name": "HTMLModel",
      "state": {
       "layout": "IPY_MODEL_f145d0773ffb413ba9458c860ec57542",
       "style": "IPY_MODEL_83415b0b95714999940658628efd1fac",
       "value": "100%"
      }
     },
     "5a0b008871f04cbb9d2848990e80b822": {
      "model_module": "@jupyter-widgets/base",
      "model_module_version": "2.0.0",
      "model_name": "LayoutModel",
      "state": {}
     },
     "5a17878631c448e4b4c0752e2550a2e6": {
      "model_module": "@jupyter-widgets/base",
      "model_module_version": "2.0.0",
      "model_name": "LayoutModel",
      "state": {}
     },
     "5a3fe8466a77459cb8472d969f3c855f": {
      "model_module": "@jupyter-widgets/controls",
      "model_module_version": "2.0.0",
      "model_name": "ProgressStyleModel",
      "state": {
       "description_width": ""
      }
     },
     "5a58c1e199dc419a94ba1db9bcccdc58": {
      "model_module": "@jupyter-widgets/base",
      "model_module_version": "2.0.0",
      "model_name": "LayoutModel",
      "state": {}
     },
     "5a7be9d3f89f487ea877fcd3f7695f03": {
      "model_module": "@jupyter-widgets/base",
      "model_module_version": "2.0.0",
      "model_name": "LayoutModel",
      "state": {}
     },
     "5a9a0301273b48af8f78bc9922c0114a": {
      "model_module": "@jupyter-widgets/controls",
      "model_module_version": "2.0.0",
      "model_name": "ProgressStyleModel",
      "state": {
       "description_width": ""
      }
     },
     "5abb02e3ed0d4684ae44eec700f768c9": {
      "model_module": "@jupyter-widgets/controls",
      "model_module_version": "2.0.0",
      "model_name": "HTMLModel",
      "state": {
       "layout": "IPY_MODEL_6dd51ef3ecfd4896a7a047e2a6205fb8",
       "style": "IPY_MODEL_da8f5849bb784e1daf2c253f6de6c96a",
       "value": "100%"
      }
     },
     "5ace3dd8f8b24e1c858d83e08d15ce23": {
      "model_module": "@jupyter-widgets/controls",
      "model_module_version": "2.0.0",
      "model_name": "FloatProgressModel",
      "state": {
       "layout": "IPY_MODEL_94382b08f7474359b93267b60e11b729",
       "max": 63359,
       "style": "IPY_MODEL_fe36170a4b78433bb20b3de035ca0a99",
       "value": 63359
      }
     },
     "5ad3f404f9aa48c88757fff57e52cd48": {
      "model_module": "@jupyter-widgets/controls",
      "model_module_version": "2.0.0",
      "model_name": "HTMLModel",
      "state": {
       "layout": "IPY_MODEL_20d39d8806db480fb485c101eee53ee3",
       "style": "IPY_MODEL_d0749d62b14e45d8ba33d60d61deb49d",
       "value": "100%"
      }
     },
     "5b1870fc2a6e4682a4ff76316c3593b2": {
      "model_module": "@jupyter-widgets/controls",
      "model_module_version": "2.0.0",
      "model_name": "FloatProgressModel",
      "state": {
       "layout": "IPY_MODEL_d9a5cc886d8743c4b9ee8453d263f820",
       "max": 63359,
       "style": "IPY_MODEL_d144b9ee0a0443608423e6cf9dc690a1",
       "value": 63359
      }
     },
     "5b3410e4d4464a41873362a2ad112e5e": {
      "model_module": "@jupyter-widgets/controls",
      "model_module_version": "2.0.0",
      "model_name": "ProgressStyleModel",
      "state": {
       "description_width": ""
      }
     },
     "5b44f5853d8d492da7c08a60f8790e60": {
      "model_module": "@jupyter-widgets/controls",
      "model_module_version": "2.0.0",
      "model_name": "HTMLStyleModel",
      "state": {
       "description_width": "",
       "font_size": null,
       "text_color": null
      }
     },
     "5b86ed6f721c497899b722a20e4491ac": {
      "model_module": "@jupyter-widgets/controls",
      "model_module_version": "2.0.0",
      "model_name": "FloatProgressModel",
      "state": {
       "layout": "IPY_MODEL_78fb96d7c58a40ec9046f7aee11abb66",
       "max": 63359,
       "style": "IPY_MODEL_7a673b79019d434d8a75430635750946",
       "value": 63359
      }
     },
     "5b9ab741c6da421bbd2a8fe8408f291f": {
      "model_module": "@jupyter-widgets/base",
      "model_module_version": "2.0.0",
      "model_name": "LayoutModel",
      "state": {}
     },
     "5bb93b73dfb345a3818de0764f367194": {
      "model_module": "@jupyter-widgets/controls",
      "model_module_version": "2.0.0",
      "model_name": "HTMLModel",
      "state": {
       "layout": "IPY_MODEL_13deceecbd15486ea4303febf218615e",
       "style": "IPY_MODEL_35bcfef4169a4c5f9ec5135300ecc30c",
       "value": "100%"
      }
     },
     "5bc22731d27a4ddcaf16afebf0402c20": {
      "model_module": "@jupyter-widgets/controls",
      "model_module_version": "2.0.0",
      "model_name": "HTMLModel",
      "state": {
       "layout": "IPY_MODEL_ecde7271633d4ab899beb9db36793c45",
       "style": "IPY_MODEL_e566473938fa4d9b8ec14e5d45eccece",
       "value": " 63358/63359 [06:04&lt;00:00, 173.92it/s]"
      }
     },
     "5bd62a2130f342c3b22aef643970a7ed": {
      "model_module": "@jupyter-widgets/base",
      "model_module_version": "2.0.0",
      "model_name": "LayoutModel",
      "state": {
       "visibility": "hidden"
      }
     },
     "5bdb97edf9d0439aacdaa2568021d922": {
      "model_module": "@jupyter-widgets/controls",
      "model_module_version": "2.0.0",
      "model_name": "FloatProgressModel",
      "state": {
       "layout": "IPY_MODEL_3e57d192fd1141e28aedd3b0d54111d2",
       "max": 63359,
       "style": "IPY_MODEL_4d207137b529482cb0028bbcb690a3a2",
       "value": 63359
      }
     },
     "5beee9a69a544e198347d913322b2811": {
      "model_module": "@jupyter-widgets/controls",
      "model_module_version": "2.0.0",
      "model_name": "HTMLModel",
      "state": {
       "layout": "IPY_MODEL_ac793406ec964eef9337fffd203be5aa",
       "style": "IPY_MODEL_193ae7d9c7f548feac7c1ea704c5bed0",
       "value": "100%"
      }
     },
     "5c0590f913064a2ebd81d7411d466498": {
      "model_module": "@jupyter-widgets/controls",
      "model_module_version": "2.0.0",
      "model_name": "HTMLModel",
      "state": {
       "layout": "IPY_MODEL_116533787a44454fb7d8355b92d43a25",
       "style": "IPY_MODEL_6bf065a4343d4820be504d8d33f9cf9a",
       "value": "100%"
      }
     },
     "5c0ad80e59d2498c859fdfae5d0f1d35": {
      "model_module": "@jupyter-widgets/controls",
      "model_module_version": "2.0.0",
      "model_name": "ProgressStyleModel",
      "state": {
       "description_width": ""
      }
     },
     "5c18ed8abb2a4fa6a1cd4a9d14244fb1": {
      "model_module": "@jupyter-widgets/base",
      "model_module_version": "2.0.0",
      "model_name": "LayoutModel",
      "state": {
       "visibility": "hidden"
      }
     },
     "5c65941b996b456b8ecf1e5c43999d97": {
      "model_module": "@jupyter-widgets/controls",
      "model_module_version": "2.0.0",
      "model_name": "HTMLModel",
      "state": {
       "layout": "IPY_MODEL_41db3fc642684c0ca75427269c4e5dc0",
       "style": "IPY_MODEL_de619ba1e14f4b39a6229c6431a9b517",
       "value": " 63349/63359 [06:36&lt;00:00, 170.06it/s]"
      }
     },
     "5c73ab7124e9423ba281f70e411c4a36": {
      "model_module": "@jupyter-widgets/controls",
      "model_module_version": "2.0.0",
      "model_name": "HTMLStyleModel",
      "state": {
       "description_width": "",
       "font_size": null,
       "text_color": null
      }
     },
     "5c77ee91f4f3464b88c55a0852451eeb": {
      "model_module": "@jupyter-widgets/controls",
      "model_module_version": "2.0.0",
      "model_name": "HTMLModel",
      "state": {
       "layout": "IPY_MODEL_c410bac5ebf041709b2998b5292fef18",
       "style": "IPY_MODEL_97d981f7a1ff4df68cec8fbf36e9f9f4",
       "value": " 63349/63359 [06:11&lt;00:00, 166.74it/s]"
      }
     },
     "5c7a86b32e0a4b70a5fbf8aaeb60cc30": {
      "model_module": "@jupyter-widgets/base",
      "model_module_version": "2.0.0",
      "model_name": "LayoutModel",
      "state": {}
     },
     "5c81ee254fe842fa8a2a2eb65c7e181a": {
      "model_module": "@jupyter-widgets/controls",
      "model_module_version": "2.0.0",
      "model_name": "HTMLModel",
      "state": {
       "layout": "IPY_MODEL_c00ab9d5a96d496e91171475d1b89706",
       "style": "IPY_MODEL_3a67819bb9b645d0ac583eaa11709573",
       "value": " 63353/63359 [06:01&lt;00:00, 175.12it/s]"
      }
     },
     "5c8244e13d8d4183a23306340c0c6bac": {
      "model_module": "@jupyter-widgets/base",
      "model_module_version": "2.0.0",
      "model_name": "LayoutModel",
      "state": {}
     },
     "5c978835cd11411fa3debb08473f3714": {
      "model_module": "@jupyter-widgets/base",
      "model_module_version": "2.0.0",
      "model_name": "LayoutModel",
      "state": {
       "visibility": "hidden"
      }
     },
     "5d02fa469b8e46cc84f6fa15c39556f1": {
      "model_module": "@jupyter-widgets/base",
      "model_module_version": "2.0.0",
      "model_name": "LayoutModel",
      "state": {}
     },
     "5d1d1c9286744ae581179b93d2334913": {
      "model_module": "@jupyter-widgets/controls",
      "model_module_version": "2.0.0",
      "model_name": "FloatProgressModel",
      "state": {
       "layout": "IPY_MODEL_7a0dbbd4f7a14cf38eb20e22026b60f0",
       "max": 63359,
       "style": "IPY_MODEL_dce59f52ae3d4729ac759106a4910baf",
       "value": 63359
      }
     },
     "5d38053a5f5f485c98583d79aea21369": {
      "model_module": "@jupyter-widgets/controls",
      "model_module_version": "2.0.0",
      "model_name": "ProgressStyleModel",
      "state": {
       "description_width": ""
      }
     },
     "5d41e5eee0ee455483f1cfe0675c03bd": {
      "model_module": "@jupyter-widgets/base",
      "model_module_version": "2.0.0",
      "model_name": "LayoutModel",
      "state": {}
     },
     "5d51a52b582b4af0aa608a1e56df2360": {
      "model_module": "@jupyter-widgets/controls",
      "model_module_version": "2.0.0",
      "model_name": "HTMLStyleModel",
      "state": {
       "description_width": "",
       "font_size": null,
       "text_color": null
      }
     },
     "5d5b22964bbc4ac7a9e382624f71a527": {
      "model_module": "@jupyter-widgets/controls",
      "model_module_version": "2.0.0",
      "model_name": "HTMLModel",
      "state": {
       "layout": "IPY_MODEL_cf24c2aaa6324ecda636a487ea5d28fc",
       "style": "IPY_MODEL_056af2bc78804379844150190543f6b6",
       "value": " 63353/63359 [06:09&lt;00:00, 172.61it/s]"
      }
     },
     "5dc083546d664e3c8f9790fc64c29edb": {
      "model_module": "@jupyter-widgets/controls",
      "model_module_version": "2.0.0",
      "model_name": "HTMLStyleModel",
      "state": {
       "description_width": "",
       "font_size": null,
       "text_color": null
      }
     },
     "5dc26d7d3be14946afa2613fe95369f0": {
      "model_module": "@jupyter-widgets/base",
      "model_module_version": "2.0.0",
      "model_name": "LayoutModel",
      "state": {}
     },
     "5dfd104a4fc541e7895d9411b3ed543e": {
      "model_module": "@jupyter-widgets/controls",
      "model_module_version": "2.0.0",
      "model_name": "ProgressStyleModel",
      "state": {
       "description_width": ""
      }
     },
     "5e28702e007147898563b9c8dcfc9a9e": {
      "model_module": "@jupyter-widgets/controls",
      "model_module_version": "2.0.0",
      "model_name": "HTMLModel",
      "state": {
       "layout": "IPY_MODEL_68430fe39feb4da488c6853bb906ce7a",
       "style": "IPY_MODEL_2e89df28573d4703b66eccbecd816932",
       "value": " 63345/63359 [06:02&lt;00:00, 175.29it/s]"
      }
     },
     "5e5cd7ab9cd54c7ca68e847ab17f260a": {
      "model_module": "@jupyter-widgets/controls",
      "model_module_version": "2.0.0",
      "model_name": "HTMLStyleModel",
      "state": {
       "description_width": "",
       "font_size": null,
       "text_color": null
      }
     },
     "5e67f265f8c04644a925d619149b206b": {
      "model_module": "@jupyter-widgets/controls",
      "model_module_version": "2.0.0",
      "model_name": "HTMLStyleModel",
      "state": {
       "description_width": "",
       "font_size": null,
       "text_color": null
      }
     },
     "5e6fe1e60b3f4918a246fe751fb87eb9": {
      "model_module": "@jupyter-widgets/controls",
      "model_module_version": "2.0.0",
      "model_name": "HTMLStyleModel",
      "state": {
       "description_width": "",
       "font_size": null,
       "text_color": null
      }
     },
     "5e7735faf985473591d07c2019dba6f5": {
      "model_module": "@jupyter-widgets/base",
      "model_module_version": "2.0.0",
      "model_name": "LayoutModel",
      "state": {}
     },
     "5eae632e9b234233874b2352c350148b": {
      "model_module": "@jupyter-widgets/controls",
      "model_module_version": "2.0.0",
      "model_name": "HTMLStyleModel",
      "state": {
       "description_width": "",
       "font_size": null,
       "text_color": null
      }
     },
     "5ef1eef262524b1d9b6a519b9d50deb9": {
      "model_module": "@jupyter-widgets/controls",
      "model_module_version": "2.0.0",
      "model_name": "HTMLModel",
      "state": {
       "layout": "IPY_MODEL_d2bf78a256744b3e866269c6c1bc1329",
       "style": "IPY_MODEL_574d7cf3137841e0b640023de51f2324",
       "value": "100%"
      }
     },
     "5f1392fb251d4e7c83325fca5fbee879": {
      "model_module": "@jupyter-widgets/base",
      "model_module_version": "2.0.0",
      "model_name": "LayoutModel",
      "state": {}
     },
     "5f20aaf11f6a4a68b1776fd29712cf88": {
      "model_module": "@jupyter-widgets/controls",
      "model_module_version": "2.0.0",
      "model_name": "HTMLModel",
      "state": {
       "layout": "IPY_MODEL_04681e65de0344fe99ac7ff4fb4cefda",
       "style": "IPY_MODEL_93dde350cf0949309fb431b05d4188eb",
       "value": "100%"
      }
     },
     "5f31ce9ac7b2406da85040a1029a920c": {
      "model_module": "@jupyter-widgets/base",
      "model_module_version": "2.0.0",
      "model_name": "LayoutModel",
      "state": {
       "visibility": "hidden"
      }
     },
     "5f54c6a8f90f43feb7e1f644f0ef37e9": {
      "model_module": "@jupyter-widgets/controls",
      "model_module_version": "2.0.0",
      "model_name": "HTMLStyleModel",
      "state": {
       "description_width": "",
       "font_size": null,
       "text_color": null
      }
     },
     "5f56d682823748ad8d3abad0ca2405c0": {
      "model_module": "@jupyter-widgets/base",
      "model_module_version": "2.0.0",
      "model_name": "LayoutModel",
      "state": {}
     },
     "5f5c374f546d4d11b0ec01ac0772c0da": {
      "model_module": "@jupyter-widgets/base",
      "model_module_version": "2.0.0",
      "model_name": "LayoutModel",
      "state": {}
     },
     "5f5c8ed09b814d12803c0e11990df645": {
      "model_module": "@jupyter-widgets/base",
      "model_module_version": "2.0.0",
      "model_name": "LayoutModel",
      "state": {
       "visibility": "hidden"
      }
     },
     "5f89ee501cae40dbb7a3985c0a3e5837": {
      "model_module": "@jupyter-widgets/controls",
      "model_module_version": "2.0.0",
      "model_name": "HTMLStyleModel",
      "state": {
       "description_width": "",
       "font_size": null,
       "text_color": null
      }
     },
     "5fbe5134efbd46e8abdd9544138ef39a": {
      "model_module": "@jupyter-widgets/base",
      "model_module_version": "2.0.0",
      "model_name": "LayoutModel",
      "state": {}
     },
     "5fed8d0c09384e3284db40465f6976e2": {
      "model_module": "@jupyter-widgets/base",
      "model_module_version": "2.0.0",
      "model_name": "LayoutModel",
      "state": {}
     },
     "6003da12052a4d11a347291a69d48fd6": {
      "model_module": "@jupyter-widgets/controls",
      "model_module_version": "2.0.0",
      "model_name": "HTMLModel",
      "state": {
       "layout": "IPY_MODEL_3c5e358ea96b4f8eb6dd203c065e8875",
       "style": "IPY_MODEL_1fe5eb8912794eca846506fdeaf53671",
       "value": " 63354/63359 [06:04&lt;00:00, 174.02it/s]"
      }
     },
     "600dcd055b5b46acb624941d01e23d06": {
      "model_module": "@jupyter-widgets/base",
      "model_module_version": "2.0.0",
      "model_name": "LayoutModel",
      "state": {}
     },
     "603b940a71ad49e987339eb8f6d13f2b": {
      "model_module": "@jupyter-widgets/controls",
      "model_module_version": "2.0.0",
      "model_name": "HTMLModel",
      "state": {
       "layout": "IPY_MODEL_7b9e291baadb48c2b02e2aa3f87df63d",
       "style": "IPY_MODEL_1704581715224720bf270b185f16ab58",
       "value": "100%"
      }
     },
     "607a2c4434e343749884d45ef48a08e0": {
      "model_module": "@jupyter-widgets/controls",
      "model_module_version": "2.0.0",
      "model_name": "ProgressStyleModel",
      "state": {
       "description_width": ""
      }
     },
     "60831122923d456d8c7cecf721eb6644": {
      "model_module": "@jupyter-widgets/controls",
      "model_module_version": "2.0.0",
      "model_name": "HTMLStyleModel",
      "state": {
       "description_width": "",
       "font_size": null,
       "text_color": null
      }
     },
     "60fdd90ef11549db995ef6235a6db4b8": {
      "model_module": "@jupyter-widgets/controls",
      "model_module_version": "2.0.0",
      "model_name": "HTMLStyleModel",
      "state": {
       "description_width": "",
       "font_size": null,
       "text_color": null
      }
     },
     "6127e5b9734943c0a4d0cbf9cd6e7a23": {
      "model_module": "@jupyter-widgets/controls",
      "model_module_version": "2.0.0",
      "model_name": "HTMLModel",
      "state": {
       "layout": "IPY_MODEL_e9e12c6379b84ef596a282ae9e185f40",
       "style": "IPY_MODEL_1d275fa9a14f421fa858d49860af28e7",
       "value": " 63356/63359 [06:04&lt;00:00, 174.95it/s]"
      }
     },
     "615f1d60e0eb45bb9094695bf928806f": {
      "model_module": "@jupyter-widgets/controls",
      "model_module_version": "2.0.0",
      "model_name": "FloatProgressModel",
      "state": {
       "layout": "IPY_MODEL_ff0b57f7025f458fa0050dc526d66e40",
       "max": 63359,
       "style": "IPY_MODEL_d2c40b4e73824ca488eeb2fa0e8872e3",
       "value": 63359
      }
     },
     "61891fd0e0694350b9fc0db8854d7b3b": {
      "model_module": "@jupyter-widgets/base",
      "model_module_version": "2.0.0",
      "model_name": "LayoutModel",
      "state": {}
     },
     "618cba770d3648449e142569e2edf735": {
      "model_module": "@jupyter-widgets/controls",
      "model_module_version": "2.0.0",
      "model_name": "HTMLModel",
      "state": {
       "layout": "IPY_MODEL_35110c2290074ffc8e967296acef388f",
       "style": "IPY_MODEL_96ee9aad1ec740488ff371b20eadd71d",
       "value": "100%"
      }
     },
     "61a33f00997e45f9892c49a0c81ca777": {
      "model_module": "@jupyter-widgets/controls",
      "model_module_version": "2.0.0",
      "model_name": "HTMLModel",
      "state": {
       "layout": "IPY_MODEL_9f4b093e8cce4c0d9bec46a1612715fc",
       "style": "IPY_MODEL_4dd5dd4aa36d48a990bc99479abfe08f",
       "value": "100%"
      }
     },
     "61b6d54b5c4f4fcfb505cf08a72b51e8": {
      "model_module": "@jupyter-widgets/controls",
      "model_module_version": "2.0.0",
      "model_name": "HTMLModel",
      "state": {
       "layout": "IPY_MODEL_62544acd165c4445ac8e4d1491c3eceb",
       "style": "IPY_MODEL_b710b60ba3714d259d63b1f3d9abe63f",
       "value": "100%"
      }
     },
     "61b95b2bdf1c43b2abb7a9299d15fabd": {
      "model_module": "@jupyter-widgets/base",
      "model_module_version": "2.0.0",
      "model_name": "LayoutModel",
      "state": {}
     },
     "61dbcff98a2945fe833c1460d4c28e32": {
      "model_module": "@jupyter-widgets/controls",
      "model_module_version": "2.0.0",
      "model_name": "HTMLStyleModel",
      "state": {
       "description_width": "",
       "font_size": null,
       "text_color": null
      }
     },
     "62544acd165c4445ac8e4d1491c3eceb": {
      "model_module": "@jupyter-widgets/base",
      "model_module_version": "2.0.0",
      "model_name": "LayoutModel",
      "state": {}
     },
     "62599580340043b2aecabb4dc21d9402": {
      "model_module": "@jupyter-widgets/base",
      "model_module_version": "2.0.0",
      "model_name": "LayoutModel",
      "state": {}
     },
     "626f232843ea4af0b8f8ead10e713f99": {
      "model_module": "@jupyter-widgets/controls",
      "model_module_version": "2.0.0",
      "model_name": "HTMLModel",
      "state": {
       "layout": "IPY_MODEL_df7b34b5d1a34e7bb8dc72c07ca55875",
       "style": "IPY_MODEL_c0f4cc91a72c40008e2fb9e43f75ac1b",
       "value": " 63359/63359 [06:04&lt;00:00, 175.57it/s]"
      }
     },
     "6280a35d1e07436f8bbaf8128c6d2311": {
      "model_module": "@jupyter-widgets/base",
      "model_module_version": "2.0.0",
      "model_name": "LayoutModel",
      "state": {}
     },
     "6295d54ccb8e4031a77a88d7198cb7b1": {
      "model_module": "@jupyter-widgets/controls",
      "model_module_version": "2.0.0",
      "model_name": "HTMLModel",
      "state": {
       "layout": "IPY_MODEL_63d554ce5dd24a6a9a5e3404304a64da",
       "style": "IPY_MODEL_7a57a185cae64e9ca25ba207b675ab19",
       "value": "100%"
      }
     },
     "629d2177cf3a4079a50a6b6607e26aa2": {
      "model_module": "@jupyter-widgets/controls",
      "model_module_version": "2.0.0",
      "model_name": "FloatProgressModel",
      "state": {
       "layout": "IPY_MODEL_4bdbabc05f324ace8b33fbd4250dc70e",
       "max": 63359,
       "style": "IPY_MODEL_f2dc2d66a6b04eeea7864a8469181de0",
       "value": 63359
      }
     },
     "62a05f27edb64bc6a0871a571de161fa": {
      "model_module": "@jupyter-widgets/controls",
      "model_module_version": "2.0.0",
      "model_name": "FloatProgressModel",
      "state": {
       "layout": "IPY_MODEL_83f8fc94c4f74bd68b09516650d19420",
       "max": 63359,
       "style": "IPY_MODEL_4fc2da3ad9354b82bbc80a3a6d745abe",
       "value": 63359
      }
     },
     "62a95d07d160499997dac77d9138e857": {
      "model_module": "@jupyter-widgets/controls",
      "model_module_version": "2.0.0",
      "model_name": "HTMLStyleModel",
      "state": {
       "description_width": "",
       "font_size": null,
       "text_color": null
      }
     },
     "62bcef508b414012ac3b159e6dbf8149": {
      "model_module": "@jupyter-widgets/base",
      "model_module_version": "2.0.0",
      "model_name": "LayoutModel",
      "state": {
       "visibility": "hidden"
      }
     },
     "62c983e5195e48f4a67973466cf8a880": {
      "model_module": "@jupyter-widgets/controls",
      "model_module_version": "2.0.0",
      "model_name": "ProgressStyleModel",
      "state": {
       "description_width": ""
      }
     },
     "63100bb405074df6ab35c8e7816ff60c": {
      "model_module": "@jupyter-widgets/controls",
      "model_module_version": "2.0.0",
      "model_name": "HTMLModel",
      "state": {
       "layout": "IPY_MODEL_38a1ec2ffd394f22b6b8a0ecb9e07142",
       "style": "IPY_MODEL_7cdc25d2dc9a4d85b151578c861e466e",
       "value": " 63357/63359 [06:35&lt;00:00, 154.44it/s]"
      }
     },
     "633ab33c0ee64e16843dceca86a5b96d": {
      "model_module": "@jupyter-widgets/base",
      "model_module_version": "2.0.0",
      "model_name": "LayoutModel",
      "state": {}
     },
     "6360e4e57125441da56bd2006568c940": {
      "model_module": "@jupyter-widgets/base",
      "model_module_version": "2.0.0",
      "model_name": "LayoutModel",
      "state": {}
     },
     "63b43b741d4342a9a69f0723487e5d2d": {
      "model_module": "@jupyter-widgets/controls",
      "model_module_version": "2.0.0",
      "model_name": "ProgressStyleModel",
      "state": {
       "description_width": ""
      }
     },
     "63d554ce5dd24a6a9a5e3404304a64da": {
      "model_module": "@jupyter-widgets/base",
      "model_module_version": "2.0.0",
      "model_name": "LayoutModel",
      "state": {}
     },
     "64924096ea9e49bcb058e000890b892d": {
      "model_module": "@jupyter-widgets/base",
      "model_module_version": "2.0.0",
      "model_name": "LayoutModel",
      "state": {}
     },
     "6496ea805cea48b58d43570f71fdcd59": {
      "model_module": "@jupyter-widgets/base",
      "model_module_version": "2.0.0",
      "model_name": "LayoutModel",
      "state": {}
     },
     "64bf688790434ffdae443e504838a272": {
      "model_module": "@jupyter-widgets/controls",
      "model_module_version": "2.0.0",
      "model_name": "HTMLStyleModel",
      "state": {
       "description_width": "",
       "font_size": null,
       "text_color": null
      }
     },
     "64c18352bd88411aa2249af226655cbf": {
      "model_module": "@jupyter-widgets/base",
      "model_module_version": "2.0.0",
      "model_name": "LayoutModel",
      "state": {
       "visibility": "hidden"
      }
     },
     "64c2598165d74042a8d6ff1c35db5ba3": {
      "model_module": "@jupyter-widgets/controls",
      "model_module_version": "2.0.0",
      "model_name": "HTMLStyleModel",
      "state": {
       "description_width": "",
       "font_size": null,
       "text_color": null
      }
     },
     "64cec03d5ac24fea94f57c9d52f0807a": {
      "model_module": "@jupyter-widgets/base",
      "model_module_version": "2.0.0",
      "model_name": "LayoutModel",
      "state": {}
     },
     "64e94e0d416a4761a310e1fd8c6f7a60": {
      "model_module": "@jupyter-widgets/controls",
      "model_module_version": "2.0.0",
      "model_name": "HTMLStyleModel",
      "state": {
       "description_width": "",
       "font_size": null,
       "text_color": null
      }
     },
     "65342910dbf4462fac96fdb05bc8d09c": {
      "model_module": "@jupyter-widgets/base",
      "model_module_version": "2.0.0",
      "model_name": "LayoutModel",
      "state": {}
     },
     "654f6d3ea79b496491a62e507464fbf9": {
      "model_module": "@jupyter-widgets/base",
      "model_module_version": "2.0.0",
      "model_name": "LayoutModel",
      "state": {}
     },
     "6572196e16b84b3bbd479d1029093aa5": {
      "model_module": "@jupyter-widgets/controls",
      "model_module_version": "2.0.0",
      "model_name": "HTMLModel",
      "state": {
       "layout": "IPY_MODEL_bfc366c8d91c4b40abc8ed3f0b406a7e",
       "style": "IPY_MODEL_51886bff436c46dea1a7d37efb52f0fa",
       "value": " 63342/63359 [06:07&lt;00:00, 171.17it/s]"
      }
     },
     "657f832fd7cd423b9501111150b50708": {
      "model_module": "@jupyter-widgets/controls",
      "model_module_version": "2.0.0",
      "model_name": "ProgressStyleModel",
      "state": {
       "description_width": ""
      }
     },
     "658ed583255042548de4a6dd51c670bc": {
      "model_module": "@jupyter-widgets/base",
      "model_module_version": "2.0.0",
      "model_name": "LayoutModel",
      "state": {
       "visibility": "hidden"
      }
     },
     "65b34a06abdd44b48c19c41077af9a2a": {
      "model_module": "@jupyter-widgets/controls",
      "model_module_version": "2.0.0",
      "model_name": "ProgressStyleModel",
      "state": {
       "description_width": ""
      }
     },
     "65cc2fb865de4778922ca721dd9c9505": {
      "model_module": "@jupyter-widgets/controls",
      "model_module_version": "2.0.0",
      "model_name": "ProgressStyleModel",
      "state": {
       "description_width": ""
      }
     },
     "65ce324916f94ae28f7737322627c65f": {
      "model_module": "@jupyter-widgets/controls",
      "model_module_version": "2.0.0",
      "model_name": "HTMLStyleModel",
      "state": {
       "description_width": "",
       "font_size": null,
       "text_color": null
      }
     },
     "65e39f0dd2934ac5bed95a1d2a332fea": {
      "model_module": "@jupyter-widgets/base",
      "model_module_version": "2.0.0",
      "model_name": "LayoutModel",
      "state": {}
     },
     "65fbbcab8775475aa3d321222e37ddc0": {
      "model_module": "@jupyter-widgets/base",
      "model_module_version": "2.0.0",
      "model_name": "LayoutModel",
      "state": {}
     },
     "661843ef256c4f92a655010873da679b": {
      "model_module": "@jupyter-widgets/base",
      "model_module_version": "2.0.0",
      "model_name": "LayoutModel",
      "state": {}
     },
     "6636975af19e4f4e828a5f8d21e3b472": {
      "model_module": "@jupyter-widgets/controls",
      "model_module_version": "2.0.0",
      "model_name": "FloatProgressModel",
      "state": {
       "layout": "IPY_MODEL_a4ddeab1c3ab4fcc97aec451e8468814",
       "max": 63359,
       "style": "IPY_MODEL_958bffda60be4fe7a2dd94c0d7c5ef64",
       "value": 63359
      }
     },
     "664144aa5ffc41e983d28bc5903eed2d": {
      "model_module": "@jupyter-widgets/controls",
      "model_module_version": "2.0.0",
      "model_name": "ProgressStyleModel",
      "state": {
       "description_width": ""
      }
     },
     "6647f03564e34e43828ef64bcd5e8f81": {
      "model_module": "@jupyter-widgets/controls",
      "model_module_version": "2.0.0",
      "model_name": "HTMLModel",
      "state": {
       "layout": "IPY_MODEL_9e5c5373074745b98a621a7f00b7bbad",
       "style": "IPY_MODEL_fcc33a39cf5747978e6c2ee8d6dd0e4b",
       "value": "100%"
      }
     },
     "6669601a79b948238ad924354273593e": {
      "model_module": "@jupyter-widgets/controls",
      "model_module_version": "2.0.0",
      "model_name": "FloatProgressModel",
      "state": {
       "layout": "IPY_MODEL_d2d09e3058a54fa58d284365f83d2cee",
       "max": 63359,
       "style": "IPY_MODEL_ef6e001c5e9a498bb7d7e21f2a483dda",
       "value": 63359
      }
     },
     "66d1cf6093e148f1924d1565a25772ef": {
      "model_module": "@jupyter-widgets/controls",
      "model_module_version": "2.0.0",
      "model_name": "HTMLModel",
      "state": {
       "layout": "IPY_MODEL_c4f0551cd4544c3f909f213923704054",
       "style": "IPY_MODEL_42f2dc55446540868e2460c394bf3378",
       "value": " 63351/63359 [06:05&lt;00:00, 172.75it/s]"
      }
     },
     "67101ee0b43c4e0c897a7bd9faecca99": {
      "model_module": "@jupyter-widgets/base",
      "model_module_version": "2.0.0",
      "model_name": "LayoutModel",
      "state": {}
     },
     "671596c8efb94bbdbfd1f375f7c1e6f4": {
      "model_module": "@jupyter-widgets/controls",
      "model_module_version": "2.0.0",
      "model_name": "ProgressStyleModel",
      "state": {
       "description_width": ""
      }
     },
     "671e144a7d524152a307a8d03efd275e": {
      "model_module": "@jupyter-widgets/base",
      "model_module_version": "2.0.0",
      "model_name": "LayoutModel",
      "state": {}
     },
     "6750d5b9ce0843999ca6e477053c7c36": {
      "model_module": "@jupyter-widgets/base",
      "model_module_version": "2.0.0",
      "model_name": "LayoutModel",
      "state": {
       "visibility": "hidden"
      }
     },
     "6795d6f2a2a243639735c71238a22e46": {
      "model_module": "@jupyter-widgets/controls",
      "model_module_version": "2.0.0",
      "model_name": "FloatProgressModel",
      "state": {
       "layout": "IPY_MODEL_c0df619d15474df89f36baea73c0d6b5",
       "max": 63359,
       "style": "IPY_MODEL_256dbcc97cc7404597982933030d856f",
       "value": 63359
      }
     },
     "679ee81b1a56499a9398a32a82ce9061": {
      "model_module": "@jupyter-widgets/controls",
      "model_module_version": "2.0.0",
      "model_name": "HTMLStyleModel",
      "state": {
       "description_width": "",
       "font_size": null,
       "text_color": null
      }
     },
     "67edda115f0742938ecf04b82ec7cb91": {
      "model_module": "@jupyter-widgets/controls",
      "model_module_version": "2.0.0",
      "model_name": "HTMLStyleModel",
      "state": {
       "description_width": "",
       "font_size": null,
       "text_color": null
      }
     },
     "6816b06b0559479e9752a024f10e7efd": {
      "model_module": "@jupyter-widgets/base",
      "model_module_version": "2.0.0",
      "model_name": "LayoutModel",
      "state": {}
     },
     "68226aa7348348528c4afb1ad1e64c45": {
      "model_module": "@jupyter-widgets/base",
      "model_module_version": "2.0.0",
      "model_name": "LayoutModel",
      "state": {}
     },
     "682a1267e96e40b98c6571c52aa55318": {
      "model_module": "@jupyter-widgets/base",
      "model_module_version": "2.0.0",
      "model_name": "LayoutModel",
      "state": {}
     },
     "683db3f8d2b345b7aa23d397714ff425": {
      "model_module": "@jupyter-widgets/base",
      "model_module_version": "2.0.0",
      "model_name": "LayoutModel",
      "state": {}
     },
     "68430fe39feb4da488c6853bb906ce7a": {
      "model_module": "@jupyter-widgets/base",
      "model_module_version": "2.0.0",
      "model_name": "LayoutModel",
      "state": {}
     },
     "6867f9ef683f46699a25269119d76095": {
      "model_module": "@jupyter-widgets/base",
      "model_module_version": "2.0.0",
      "model_name": "LayoutModel",
      "state": {}
     },
     "6871d2e0dcae4f6d8d5c91dc683ccc58": {
      "model_module": "@jupyter-widgets/controls",
      "model_module_version": "2.0.0",
      "model_name": "HTMLModel",
      "state": {
       "layout": "IPY_MODEL_bec2b165c0514cd99de1834f47e1661e",
       "style": "IPY_MODEL_6aa5095ebd94469eaf23e16c8b8abefb",
       "value": " 63353/63359 [06:05&lt;00:00, 173.02it/s]"
      }
     },
     "6883030460c54e158e9795c85bf2975a": {
      "model_module": "@jupyter-widgets/controls",
      "model_module_version": "2.0.0",
      "model_name": "HTMLStyleModel",
      "state": {
       "description_width": "",
       "font_size": null,
       "text_color": null
      }
     },
     "68a826cf42244a3abbb2493df05e78a9": {
      "model_module": "@jupyter-widgets/controls",
      "model_module_version": "2.0.0",
      "model_name": "HTMLStyleModel",
      "state": {
       "description_width": "",
       "font_size": null,
       "text_color": null
      }
     },
     "68ca5218d95048afa1d2e009fbe0dfc7": {
      "model_module": "@jupyter-widgets/base",
      "model_module_version": "2.0.0",
      "model_name": "LayoutModel",
      "state": {}
     },
     "68d2f0ea37c64a6cbbd301908515a57e": {
      "model_module": "@jupyter-widgets/controls",
      "model_module_version": "2.0.0",
      "model_name": "ProgressStyleModel",
      "state": {
       "description_width": ""
      }
     },
     "68d6942c91364b54a74153de87b8b510": {
      "model_module": "@jupyter-widgets/controls",
      "model_module_version": "2.0.0",
      "model_name": "FloatProgressModel",
      "state": {
       "layout": "IPY_MODEL_af97063b8fdd4f10ac78706f5c510681",
       "max": 63359,
       "style": "IPY_MODEL_607a2c4434e343749884d45ef48a08e0",
       "value": 63359
      }
     },
     "68fc53ed1843430d8d088eb814b6a590": {
      "model_module": "@jupyter-widgets/controls",
      "model_module_version": "2.0.0",
      "model_name": "HTMLModel",
      "state": {
       "layout": "IPY_MODEL_d880578e342940c982a6f9d1caaeaa91",
       "style": "IPY_MODEL_89b91ba332034e3fa9c509706cce0d5c",
       "value": "100%"
      }
     },
     "694e9c8f46e444088b5973faaeb0a7c6": {
      "model_module": "@jupyter-widgets/controls",
      "model_module_version": "2.0.0",
      "model_name": "HTMLStyleModel",
      "state": {
       "description_width": "",
       "font_size": null,
       "text_color": null
      }
     },
     "696d70af61fc4580805adee64a631c60": {
      "model_module": "@jupyter-widgets/base",
      "model_module_version": "2.0.0",
      "model_name": "LayoutModel",
      "state": {
       "visibility": "hidden"
      }
     },
     "69863d1a25784fbca05f38c50be5553b": {
      "model_module": "@jupyter-widgets/base",
      "model_module_version": "2.0.0",
      "model_name": "LayoutModel",
      "state": {}
     },
     "698c549b93ac431990340b18b49d0e26": {
      "model_module": "@jupyter-widgets/base",
      "model_module_version": "2.0.0",
      "model_name": "LayoutModel",
      "state": {
       "visibility": "hidden"
      }
     },
     "699b18c553044208b35e49b4d054e205": {
      "model_module": "@jupyter-widgets/base",
      "model_module_version": "2.0.0",
      "model_name": "LayoutModel",
      "state": {}
     },
     "6a267108af344fe0a182034095b6e7f7": {
      "model_module": "@jupyter-widgets/controls",
      "model_module_version": "2.0.0",
      "model_name": "HTMLModel",
      "state": {
       "layout": "IPY_MODEL_c94c921e15864fecbfa4d31e5195c989",
       "style": "IPY_MODEL_8df6e290731e4c9eb13a4accac763ecb",
       "value": " 63350/63359 [06:04&lt;00:00, 177.32it/s]"
      }
     },
     "6a7030fa2dd5470a88d7a3ae85f29f58": {
      "model_module": "@jupyter-widgets/base",
      "model_module_version": "2.0.0",
      "model_name": "LayoutModel",
      "state": {}
     },
     "6a706486c9844190a4784b54c1e44599": {
      "model_module": "@jupyter-widgets/controls",
      "model_module_version": "2.0.0",
      "model_name": "HTMLModel",
      "state": {
       "layout": "IPY_MODEL_d9c16297afd54ee68d1fbd72207aff9c",
       "style": "IPY_MODEL_cd99262e9bdd48f580194dc54032a934",
       "value": " 63354/63359 [06:02&lt;00:00, 175.54it/s]"
      }
     },
     "6aa5095ebd94469eaf23e16c8b8abefb": {
      "model_module": "@jupyter-widgets/controls",
      "model_module_version": "2.0.0",
      "model_name": "HTMLStyleModel",
      "state": {
       "description_width": "",
       "font_size": null,
       "text_color": null
      }
     },
     "6aa7f0a97d8c4eb98d34c77116418b90": {
      "model_module": "@jupyter-widgets/controls",
      "model_module_version": "2.0.0",
      "model_name": "ProgressStyleModel",
      "state": {
       "description_width": ""
      }
     },
     "6acaf95cfc1f4950b659bb6ee45ed887": {
      "model_module": "@jupyter-widgets/controls",
      "model_module_version": "2.0.0",
      "model_name": "FloatProgressModel",
      "state": {
       "layout": "IPY_MODEL_46f2c81a2cc54c868e66f9028e3bb6ea",
       "max": 63359,
       "style": "IPY_MODEL_74bda46757554b4d8aec609815d15e19",
       "value": 63359
      }
     },
     "6ad8b2fb9e5446f4bc40d0b0a356233c": {
      "model_module": "@jupyter-widgets/controls",
      "model_module_version": "2.0.0",
      "model_name": "FloatProgressModel",
      "state": {
       "layout": "IPY_MODEL_6867f9ef683f46699a25269119d76095",
       "max": 63359,
       "style": "IPY_MODEL_503abbbde38c43f79a4264097e9b7ca9",
       "value": 63359
      }
     },
     "6ada08b900df4a6481d2ec302f606793": {
      "model_module": "@jupyter-widgets/controls",
      "model_module_version": "2.0.0",
      "model_name": "HTMLStyleModel",
      "state": {
       "description_width": "",
       "font_size": null,
       "text_color": null
      }
     },
     "6adc0ea50a354007846ec772d40d0261": {
      "model_module": "@jupyter-widgets/base",
      "model_module_version": "2.0.0",
      "model_name": "LayoutModel",
      "state": {}
     },
     "6afc9860b37340c88959ef02c156f5fb": {
      "model_module": "@jupyter-widgets/controls",
      "model_module_version": "2.0.0",
      "model_name": "HTMLModel",
      "state": {
       "layout": "IPY_MODEL_0a7a6a79d61d4b598f3b1e4c59a3ef27",
       "style": "IPY_MODEL_15e75f202bf44cfa892bc351f6fa01ce",
       "value": " 63354/63359 [06:50&lt;00:00, 163.84it/s]"
      }
     },
     "6b0092aa2087404e95a7a9c882acd8a8": {
      "model_module": "@jupyter-widgets/controls",
      "model_module_version": "2.0.0",
      "model_name": "HTMLStyleModel",
      "state": {
       "description_width": "",
       "font_size": null,
       "text_color": null
      }
     },
     "6b054240abd7476a87ea3091c36be777": {
      "model_module": "@jupyter-widgets/controls",
      "model_module_version": "2.0.0",
      "model_name": "HTMLModel",
      "state": {
       "layout": "IPY_MODEL_4fbc06b76ee94df096a9757664ee4d77",
       "style": "IPY_MODEL_b69e2b029deb4ffc8555d483fd011af8",
       "value": " 63342/63359 [05:51&lt;00:00, 171.92it/s]"
      }
     },
     "6b420990c2bc4e2e9e18636a60a479e1": {
      "model_module": "@jupyter-widgets/controls",
      "model_module_version": "2.0.0",
      "model_name": "HTMLModel",
      "state": {
       "layout": "IPY_MODEL_1571de8b83cc41f1b6885267673ee358",
       "style": "IPY_MODEL_c07b4ffecb3b430785d0fb68c52346ac",
       "value": " 63355/63359 [06:07&lt;00:00, 172.55it/s]"
      }
     },
     "6b540941eb0245cfa6574799130ea91b": {
      "model_module": "@jupyter-widgets/controls",
      "model_module_version": "2.0.0",
      "model_name": "HTMLStyleModel",
      "state": {
       "description_width": "",
       "font_size": null,
       "text_color": null
      }
     },
     "6b724d0d75d94df1934ae760c0dcbfd1": {
      "model_module": "@jupyter-widgets/controls",
      "model_module_version": "2.0.0",
      "model_name": "FloatProgressModel",
      "state": {
       "layout": "IPY_MODEL_94fda3c585cc42a8896a80c0cb3a2435",
       "max": 63359,
       "style": "IPY_MODEL_b36fe67f841e49ac86937112a11466d4",
       "value": 63359
      }
     },
     "6b85db1f90c445009c3e347614d1363f": {
      "model_module": "@jupyter-widgets/base",
      "model_module_version": "2.0.0",
      "model_name": "LayoutModel",
      "state": {
       "visibility": "hidden"
      }
     },
     "6b966582b0154eaeb215308617163a5c": {
      "model_module": "@jupyter-widgets/base",
      "model_module_version": "2.0.0",
      "model_name": "LayoutModel",
      "state": {}
     },
     "6ba6b8c488fa42beab47ca8e6e292ec4": {
      "model_module": "@jupyter-widgets/base",
      "model_module_version": "2.0.0",
      "model_name": "LayoutModel",
      "state": {}
     },
     "6bb4e0649e604355860194f46648e20a": {
      "model_module": "@jupyter-widgets/controls",
      "model_module_version": "2.0.0",
      "model_name": "HTMLStyleModel",
      "state": {
       "description_width": "",
       "font_size": null,
       "text_color": null
      }
     },
     "6bc0573c1e364ebfa1bf74eab8e715c5": {
      "model_module": "@jupyter-widgets/controls",
      "model_module_version": "2.0.0",
      "model_name": "HTMLStyleModel",
      "state": {
       "description_width": "",
       "font_size": null,
       "text_color": null
      }
     },
     "6bf065a4343d4820be504d8d33f9cf9a": {
      "model_module": "@jupyter-widgets/controls",
      "model_module_version": "2.0.0",
      "model_name": "HTMLStyleModel",
      "state": {
       "description_width": "",
       "font_size": null,
       "text_color": null
      }
     },
     "6bf324ad608b467d93909668cf7113c7": {
      "model_module": "@jupyter-widgets/controls",
      "model_module_version": "2.0.0",
      "model_name": "HTMLModel",
      "state": {
       "layout": "IPY_MODEL_8ecb43568e3c44a4af13c0388840ed9d",
       "style": "IPY_MODEL_d35d65a575d8423bb6781b4187c02b2a",
       "value": "100%"
      }
     },
     "6c4e979d608b4adfa9fe850cc0c34fc0": {
      "model_module": "@jupyter-widgets/base",
      "model_module_version": "2.0.0",
      "model_name": "LayoutModel",
      "state": {}
     },
     "6c6d6dfd93e140bf9845062a49e9c745": {
      "model_module": "@jupyter-widgets/controls",
      "model_module_version": "2.0.0",
      "model_name": "FloatProgressModel",
      "state": {
       "layout": "IPY_MODEL_5f56d682823748ad8d3abad0ca2405c0",
       "max": 63359,
       "style": "IPY_MODEL_df1a906f3a154ece8d2af8faf1ed3d59",
       "value": 63359
      }
     },
     "6c72a2c9366a4fe2b0688960efa475e4": {
      "model_module": "@jupyter-widgets/controls",
      "model_module_version": "2.0.0",
      "model_name": "FloatProgressModel",
      "state": {
       "layout": "IPY_MODEL_aec867316206478bbc1cefb11875dafa",
       "max": 63359,
       "style": "IPY_MODEL_8eaa13e45d9c4764bf886ef6a8c91c24",
       "value": 63359
      }
     },
     "6c880b4c23304c87b67df10dc58bd632": {
      "model_module": "@jupyter-widgets/controls",
      "model_module_version": "2.0.0",
      "model_name": "HTMLStyleModel",
      "state": {
       "description_width": "",
       "font_size": null,
       "text_color": null
      }
     },
     "6c8ce063fe4c4f95b57cfb22be4054ee": {
      "model_module": "@jupyter-widgets/controls",
      "model_module_version": "2.0.0",
      "model_name": "FloatProgressModel",
      "state": {
       "layout": "IPY_MODEL_0a8c7d9c9cb849c5b5d2655ae060484f",
       "max": 63359,
       "style": "IPY_MODEL_ac652993734f44eaaf33a71413fcbb68",
       "value": 63359
      }
     },
     "6cde6fdc0d734900a6e2633b3cc6f8f3": {
      "model_module": "@jupyter-widgets/base",
      "model_module_version": "2.0.0",
      "model_name": "LayoutModel",
      "state": {}
     },
     "6d13be59e10a4f77b8c67326bbf47fca": {
      "model_module": "@jupyter-widgets/controls",
      "model_module_version": "2.0.0",
      "model_name": "HTMLModel",
      "state": {
       "layout": "IPY_MODEL_53826b0ef0334649b2a604359963156d",
       "style": "IPY_MODEL_60fdd90ef11549db995ef6235a6db4b8",
       "value": " 63352/63359 [06:04&lt;00:00, 174.89it/s]"
      }
     },
     "6d36ae673a9c495da0d6c099f182c881": {
      "model_module": "@jupyter-widgets/controls",
      "model_module_version": "2.0.0",
      "model_name": "HTMLModel",
      "state": {
       "layout": "IPY_MODEL_9540fbf2728b4a0ea6c6ec7d195bb871",
       "style": "IPY_MODEL_ebc5c78818174891808a0087d4ff4c61",
       "value": "100%"
      }
     },
     "6d69b2d7994b48ba9fd79d0122f6d8ef": {
      "model_module": "@jupyter-widgets/controls",
      "model_module_version": "2.0.0",
      "model_name": "HTMLModel",
      "state": {
       "layout": "IPY_MODEL_f5a24e95e2bb4889a32d85e45564e088",
       "style": "IPY_MODEL_0323bb63c4824fd2818048a164b3c7d1",
       "value": "100%"
      }
     },
     "6d9a631635074cdb8ada1f1d202cac46": {
      "model_module": "@jupyter-widgets/controls",
      "model_module_version": "2.0.0",
      "model_name": "HTMLModel",
      "state": {
       "layout": "IPY_MODEL_19cdff28c91c4826911733d72097167f",
       "style": "IPY_MODEL_f324d450a0024aaca297961be5dbecad",
       "value": "100%"
      }
     },
     "6da3da372d634cc8b701aa6fed0d7768": {
      "model_module": "@jupyter-widgets/base",
      "model_module_version": "2.0.0",
      "model_name": "LayoutModel",
      "state": {}
     },
     "6db35bf9e9274ca590cb3f7face337c1": {
      "model_module": "@jupyter-widgets/controls",
      "model_module_version": "2.0.0",
      "model_name": "HTMLStyleModel",
      "state": {
       "description_width": "",
       "font_size": null,
       "text_color": null
      }
     },
     "6dc4851fe6a54a38907f942c39dbb0d2": {
      "model_module": "@jupyter-widgets/controls",
      "model_module_version": "2.0.0",
      "model_name": "ProgressStyleModel",
      "state": {
       "description_width": ""
      }
     },
     "6dd51ef3ecfd4896a7a047e2a6205fb8": {
      "model_module": "@jupyter-widgets/base",
      "model_module_version": "2.0.0",
      "model_name": "LayoutModel",
      "state": {}
     },
     "6e292f35103a4bd49738085c799132ea": {
      "model_module": "@jupyter-widgets/controls",
      "model_module_version": "2.0.0",
      "model_name": "HTMLModel",
      "state": {
       "layout": "IPY_MODEL_9f4e750fb1884cb19d46790b0e5b1cf6",
       "style": "IPY_MODEL_c56f59b56cce41cfada909d4e142bb4a",
       "value": "100%"
      }
     },
     "6e293f5aabd345ec937b3a646b38f56b": {
      "model_module": "@jupyter-widgets/controls",
      "model_module_version": "2.0.0",
      "model_name": "HTMLStyleModel",
      "state": {
       "description_width": "",
       "font_size": null,
       "text_color": null
      }
     },
     "6e55ff348d2245e7af3ea0914a790c0a": {
      "model_module": "@jupyter-widgets/controls",
      "model_module_version": "2.0.0",
      "model_name": "HTMLStyleModel",
      "state": {
       "description_width": "",
       "font_size": null,
       "text_color": null
      }
     },
     "6e6abc696a5d4c3aaf7a6fc0985796ee": {
      "model_module": "@jupyter-widgets/base",
      "model_module_version": "2.0.0",
      "model_name": "LayoutModel",
      "state": {
       "visibility": "hidden"
      }
     },
     "6e70fe8b96904b39b5d3da526888c04a": {
      "model_module": "@jupyter-widgets/base",
      "model_module_version": "2.0.0",
      "model_name": "LayoutModel",
      "state": {}
     },
     "6e9339d7b00f43b4a1d89b99f02416d2": {
      "model_module": "@jupyter-widgets/controls",
      "model_module_version": "2.0.0",
      "model_name": "ProgressStyleModel",
      "state": {
       "description_width": ""
      }
     },
     "6e98c35319724c5eaee2e89582ce4f9d": {
      "model_module": "@jupyter-widgets/controls",
      "model_module_version": "2.0.0",
      "model_name": "HTMLStyleModel",
      "state": {
       "description_width": "",
       "font_size": null,
       "text_color": null
      }
     },
     "6ec5aa073e23490c92bad9966a98ba42": {
      "model_module": "@jupyter-widgets/controls",
      "model_module_version": "2.0.0",
      "model_name": "HTMLStyleModel",
      "state": {
       "description_width": "",
       "font_size": null,
       "text_color": null
      }
     },
     "6ed03c758ede44799921cf0c9e4307f9": {
      "model_module": "@jupyter-widgets/controls",
      "model_module_version": "2.0.0",
      "model_name": "FloatProgressModel",
      "state": {
       "layout": "IPY_MODEL_bb1f673d4f614545871ba96e6f03f0eb",
       "max": 63359,
       "style": "IPY_MODEL_f17a5099dbe742698acc0be9a6f20f95",
       "value": 63359
      }
     },
     "6ee022605fd5401e8a1d568bd47d66bd": {
      "model_module": "@jupyter-widgets/controls",
      "model_module_version": "2.0.0",
      "model_name": "ProgressStyleModel",
      "state": {
       "description_width": ""
      }
     },
     "6f4d4b88d08245f2bcc23bfba2a96cbd": {
      "model_module": "@jupyter-widgets/base",
      "model_module_version": "2.0.0",
      "model_name": "LayoutModel",
      "state": {
       "visibility": "hidden"
      }
     },
     "6f50dd82ce4a410b8a91ad2776dca8da": {
      "model_module": "@jupyter-widgets/base",
      "model_module_version": "2.0.0",
      "model_name": "LayoutModel",
      "state": {}
     },
     "6f52064824d14dc8939288c342fd55ea": {
      "model_module": "@jupyter-widgets/base",
      "model_module_version": "2.0.0",
      "model_name": "LayoutModel",
      "state": {}
     },
     "6fe1ce8f5a4c4436b05a015a41978d0e": {
      "model_module": "@jupyter-widgets/base",
      "model_module_version": "2.0.0",
      "model_name": "LayoutModel",
      "state": {
       "visibility": "hidden"
      }
     },
     "6ff2c5d9f20f47be9be41a8dc3153483": {
      "model_module": "@jupyter-widgets/base",
      "model_module_version": "2.0.0",
      "model_name": "LayoutModel",
      "state": {}
     },
     "6ffd598a67d8438a827305833233dff8": {
      "model_module": "@jupyter-widgets/base",
      "model_module_version": "2.0.0",
      "model_name": "LayoutModel",
      "state": {}
     },
     "70123543888f4746aff4b7c3a8eef6b9": {
      "model_module": "@jupyter-widgets/controls",
      "model_module_version": "2.0.0",
      "model_name": "HTMLStyleModel",
      "state": {
       "description_width": "",
       "font_size": null,
       "text_color": null
      }
     },
     "70123f66bdc34e8c9f6e44d000fcf530": {
      "model_module": "@jupyter-widgets/controls",
      "model_module_version": "2.0.0",
      "model_name": "HTMLModel",
      "state": {
       "layout": "IPY_MODEL_2747f8ffd7f34b8892fccab71c0455e5",
       "style": "IPY_MODEL_8f257b45172f41a487927403119cad52",
       "value": " 63350/63359 [9:01:35&lt;00:00, 173.35it/s]"
      }
     },
     "701640e2e7614d2ca04a65db2d3f14c7": {
      "model_module": "@jupyter-widgets/controls",
      "model_module_version": "2.0.0",
      "model_name": "HTMLStyleModel",
      "state": {
       "description_width": "",
       "font_size": null,
       "text_color": null
      }
     },
     "7040262bdb504083993973afb35fc1f5": {
      "model_module": "@jupyter-widgets/controls",
      "model_module_version": "2.0.0",
      "model_name": "FloatProgressModel",
      "state": {
       "layout": "IPY_MODEL_1709b0650dd14a2892edb4688c5df177",
       "max": 63359,
       "style": "IPY_MODEL_e4fb64b769f64294b80083764a1e0fd7",
       "value": 63359
      }
     },
     "705826a33bef4391998bb9816f7f9ee0": {
      "model_module": "@jupyter-widgets/controls",
      "model_module_version": "2.0.0",
      "model_name": "HTMLStyleModel",
      "state": {
       "description_width": "",
       "font_size": null,
       "text_color": null
      }
     },
     "7059308b3a9844ec99c5612470d23b4c": {
      "model_module": "@jupyter-widgets/controls",
      "model_module_version": "2.0.0",
      "model_name": "ProgressStyleModel",
      "state": {
       "description_width": ""
      }
     },
     "70623f1bf5224e67bd7f3573e20deaa6": {
      "model_module": "@jupyter-widgets/controls",
      "model_module_version": "2.0.0",
      "model_name": "HTMLStyleModel",
      "state": {
       "description_width": "",
       "font_size": null,
       "text_color": null
      }
     },
     "7084cc198f1d4bd8ac0a0940143dcaeb": {
      "model_module": "@jupyter-widgets/controls",
      "model_module_version": "2.0.0",
      "model_name": "FloatProgressModel",
      "state": {
       "layout": "IPY_MODEL_062b53bd52d24f7da0bd40adeef1d707",
       "max": 63359,
       "style": "IPY_MODEL_e56319c27110441e91bf55758dd8a7ec",
       "value": 63359
      }
     },
     "70d6847215fe4091aa610c122ee840f0": {
      "model_module": "@jupyter-widgets/controls",
      "model_module_version": "2.0.0",
      "model_name": "HTMLStyleModel",
      "state": {
       "description_width": "",
       "font_size": null,
       "text_color": null
      }
     },
     "7121607d0dd847d2adf29ebdd71b47cd": {
      "model_module": "@jupyter-widgets/base",
      "model_module_version": "2.0.0",
      "model_name": "LayoutModel",
      "state": {}
     },
     "71d2d24865fb42da945a0b685643223c": {
      "model_module": "@jupyter-widgets/base",
      "model_module_version": "2.0.0",
      "model_name": "LayoutModel",
      "state": {}
     },
     "71db859bb6ff4beab65255b04e66c4bb": {
      "model_module": "@jupyter-widgets/controls",
      "model_module_version": "2.0.0",
      "model_name": "HTMLStyleModel",
      "state": {
       "description_width": "",
       "font_size": null,
       "text_color": null
      }
     },
     "71e95575d82a470caecf6e3ea80eb531": {
      "model_module": "@jupyter-widgets/base",
      "model_module_version": "2.0.0",
      "model_name": "LayoutModel",
      "state": {}
     },
     "7232dba3106848e2879ffdda7824ee45": {
      "model_module": "@jupyter-widgets/base",
      "model_module_version": "2.0.0",
      "model_name": "LayoutModel",
      "state": {}
     },
     "7247682e52c34cf8a9c67f4aaab2fcf0": {
      "model_module": "@jupyter-widgets/controls",
      "model_module_version": "2.0.0",
      "model_name": "HTMLModel",
      "state": {
       "layout": "IPY_MODEL_61891fd0e0694350b9fc0db8854d7b3b",
       "style": "IPY_MODEL_60831122923d456d8c7cecf721eb6644",
       "value": "100%"
      }
     },
     "7256121f998f48c78a64ab23d3b2b42c": {
      "model_module": "@jupyter-widgets/base",
      "model_module_version": "2.0.0",
      "model_name": "LayoutModel",
      "state": {}
     },
     "7267067fc9ab4d688f9c59bb10facb3b": {
      "model_module": "@jupyter-widgets/controls",
      "model_module_version": "2.0.0",
      "model_name": "HTMLStyleModel",
      "state": {
       "description_width": "",
       "font_size": null,
       "text_color": null
      }
     },
     "727f3bde692b402da7263a055634f8b1": {
      "model_module": "@jupyter-widgets/base",
      "model_module_version": "2.0.0",
      "model_name": "LayoutModel",
      "state": {}
     },
     "7284e81ce14146299c05c9437711df18": {
      "model_module": "@jupyter-widgets/controls",
      "model_module_version": "2.0.0",
      "model_name": "HTMLModel",
      "state": {
       "layout": "IPY_MODEL_7b6a9c2027d94890a2561feda7472e9c",
       "style": "IPY_MODEL_70d6847215fe4091aa610c122ee840f0",
       "value": "100%"
      }
     },
     "7291fc51a2b54108ba32bb1258631893": {
      "model_module": "@jupyter-widgets/controls",
      "model_module_version": "2.0.0",
      "model_name": "HTMLModel",
      "state": {
       "layout": "IPY_MODEL_5fed8d0c09384e3284db40465f6976e2",
       "style": "IPY_MODEL_36fe5b1143c545fc84422356c3eb9e30",
       "value": "100%"
      }
     },
     "72b87e88ed2d417888a9832890bc762d": {
      "model_module": "@jupyter-widgets/controls",
      "model_module_version": "2.0.0",
      "model_name": "ProgressStyleModel",
      "state": {
       "description_width": ""
      }
     },
     "72e69d14d7944684a5264f0f40a503ed": {
      "model_module": "@jupyter-widgets/base",
      "model_module_version": "2.0.0",
      "model_name": "LayoutModel",
      "state": {
       "visibility": "hidden"
      }
     },
     "730266f881334f7fbf8cb6d61556c4c4": {
      "model_module": "@jupyter-widgets/base",
      "model_module_version": "2.0.0",
      "model_name": "LayoutModel",
      "state": {}
     },
     "73150cecf80f48ce867cde88a355aad4": {
      "model_module": "@jupyter-widgets/base",
      "model_module_version": "2.0.0",
      "model_name": "LayoutModel",
      "state": {}
     },
     "73611d6207b14782852adb183fdb49b6": {
      "model_module": "@jupyter-widgets/controls",
      "model_module_version": "2.0.0",
      "model_name": "HTMLStyleModel",
      "state": {
       "description_width": "",
       "font_size": null,
       "text_color": null
      }
     },
     "73aca1f70fed40208946b67b7fa81d6c": {
      "model_module": "@jupyter-widgets/controls",
      "model_module_version": "2.0.0",
      "model_name": "FloatProgressModel",
      "state": {
       "layout": "IPY_MODEL_28c3215efdda46b98a26c506d20f59a7",
       "max": 63359,
       "style": "IPY_MODEL_664144aa5ffc41e983d28bc5903eed2d",
       "value": 63359
      }
     },
     "73da85ef53084ebdb35c58969dcf6ea9": {
      "model_module": "@jupyter-widgets/base",
      "model_module_version": "2.0.0",
      "model_name": "LayoutModel",
      "state": {}
     },
     "73faf0d3040141e6b2c8c8860de881c8": {
      "model_module": "@jupyter-widgets/controls",
      "model_module_version": "2.0.0",
      "model_name": "HTMLModel",
      "state": {
       "layout": "IPY_MODEL_9ec7e3240b4a4718b375ed52a3faeac0",
       "style": "IPY_MODEL_dc35b675f63b41eb925fe603a113a530",
       "value": " 63347/63359 [06:02&lt;00:00, 176.40it/s]"
      }
     },
     "74178075871e49b4a643b582820f3d23": {
      "model_module": "@jupyter-widgets/controls",
      "model_module_version": "2.0.0",
      "model_name": "HTMLStyleModel",
      "state": {
       "description_width": "",
       "font_size": null,
       "text_color": null
      }
     },
     "74297487769a4f9eae6619e4b067b3da": {
      "model_module": "@jupyter-widgets/base",
      "model_module_version": "2.0.0",
      "model_name": "LayoutModel",
      "state": {
       "visibility": "hidden"
      }
     },
     "742cc5eb84a54e828827ec23de26d10c": {
      "model_module": "@jupyter-widgets/controls",
      "model_module_version": "2.0.0",
      "model_name": "HTMLModel",
      "state": {
       "layout": "IPY_MODEL_9fcf71c9df65415c8815e5edfefb1357",
       "style": "IPY_MODEL_5398a9ce36734eab8005af293d0d8353",
       "value": " 63359/63359 [06:47&lt;00:00, 164.15it/s]"
      }
     },
     "743469f76046434dbb37d984f782118a": {
      "model_module": "@jupyter-widgets/controls",
      "model_module_version": "2.0.0",
      "model_name": "ProgressStyleModel",
      "state": {
       "description_width": ""
      }
     },
     "747646a1e0be44b58590c0a2754eb038": {
      "model_module": "@jupyter-widgets/controls",
      "model_module_version": "2.0.0",
      "model_name": "HTMLModel",
      "state": {
       "layout": "IPY_MODEL_9d67f9f85ffd41079174b00535722576",
       "style": "IPY_MODEL_28610f719a4b4c63b80c98fe6591f501",
       "value": "100%"
      }
     },
     "74813c11475a489985fdeeb3bbaecd13": {
      "model_module": "@jupyter-widgets/base",
      "model_module_version": "2.0.0",
      "model_name": "LayoutModel",
      "state": {}
     },
     "74b7b8e417b846c38cea7addc1aca9cb": {
      "model_module": "@jupyter-widgets/controls",
      "model_module_version": "2.0.0",
      "model_name": "FloatProgressModel",
      "state": {
       "layout": "IPY_MODEL_40b6d7bae9e14f3385139730f74a450c",
       "max": 63359,
       "style": "IPY_MODEL_7ae6285a975947c0b884fea623a2337d",
       "value": 63359
      }
     },
     "74bda46757554b4d8aec609815d15e19": {
      "model_module": "@jupyter-widgets/controls",
      "model_module_version": "2.0.0",
      "model_name": "ProgressStyleModel",
      "state": {
       "description_width": ""
      }
     },
     "74cb0d3d15ef41928afdc4f87e001e35": {
      "model_module": "@jupyter-widgets/base",
      "model_module_version": "2.0.0",
      "model_name": "LayoutModel",
      "state": {}
     },
     "74cb703286704178bc91a569af8318b6": {
      "model_module": "@jupyter-widgets/controls",
      "model_module_version": "2.0.0",
      "model_name": "HTMLStyleModel",
      "state": {
       "description_width": "",
       "font_size": null,
       "text_color": null
      }
     },
     "74cca112040a468abcf48e83a306e500": {
      "model_module": "@jupyter-widgets/controls",
      "model_module_version": "2.0.0",
      "model_name": "HTMLModel",
      "state": {
       "layout": "IPY_MODEL_eade61aa6c504c7ca173d8b59bf30ac4",
       "style": "IPY_MODEL_389e05dad53d46f2bf5d5bff2ffe9418",
       "value": "100%"
      }
     },
     "74d7feb5f1b54e6e95474f1552f3793a": {
      "model_module": "@jupyter-widgets/controls",
      "model_module_version": "2.0.0",
      "model_name": "HTMLStyleModel",
      "state": {
       "description_width": "",
       "font_size": null,
       "text_color": null
      }
     },
     "74e2b10a76e84df8911f49385a2d0f04": {
      "model_module": "@jupyter-widgets/controls",
      "model_module_version": "2.0.0",
      "model_name": "HTMLModel",
      "state": {
       "layout": "IPY_MODEL_193229066f8e4f6caa7d0307269871f1",
       "style": "IPY_MODEL_d23666b48b2e4db58242344651384880",
       "value": "100%"
      }
     },
     "74e2b119b41d4f4d81ee5a7a4f012430": {
      "model_module": "@jupyter-widgets/controls",
      "model_module_version": "2.0.0",
      "model_name": "ProgressStyleModel",
      "state": {
       "description_width": ""
      }
     },
     "74fae0bd611c46dda47783ec3d32514c": {
      "model_module": "@jupyter-widgets/controls",
      "model_module_version": "2.0.0",
      "model_name": "ProgressStyleModel",
      "state": {
       "description_width": ""
      }
     },
     "752f3719fe854243971625a31fc0a3c4": {
      "model_module": "@jupyter-widgets/controls",
      "model_module_version": "2.0.0",
      "model_name": "ProgressStyleModel",
      "state": {
       "description_width": ""
      }
     },
     "759c6cb9ff9748459e00b3ed2f1d8168": {
      "model_module": "@jupyter-widgets/controls",
      "model_module_version": "2.0.0",
      "model_name": "FloatProgressModel",
      "state": {
       "layout": "IPY_MODEL_727f3bde692b402da7263a055634f8b1",
       "max": 63359,
       "style": "IPY_MODEL_52fd596e9c384126a7deb24285e60d00",
       "value": 63359
      }
     },
     "75d10939b73e418495674600df54d848": {
      "model_module": "@jupyter-widgets/controls",
      "model_module_version": "2.0.0",
      "model_name": "HTMLModel",
      "state": {
       "layout": "IPY_MODEL_a3d99c092afa4583bdca29e9b98a4e1d",
       "style": "IPY_MODEL_70623f1bf5224e67bd7f3573e20deaa6",
       "value": " 63354/63359 [06:11&lt;00:00, 171.32it/s]"
      }
     },
     "75ef12e38aa541dea27923aa18f56766": {
      "model_module": "@jupyter-widgets/controls",
      "model_module_version": "2.0.0",
      "model_name": "HTMLStyleModel",
      "state": {
       "description_width": "",
       "font_size": null,
       "text_color": null
      }
     },
     "760ba9074a174cb48cec0de644ee9394": {
      "model_module": "@jupyter-widgets/base",
      "model_module_version": "2.0.0",
      "model_name": "LayoutModel",
      "state": {
       "visibility": "hidden"
      }
     },
     "7619f78836fc4887b5312a45d947c26a": {
      "model_module": "@jupyter-widgets/controls",
      "model_module_version": "2.0.0",
      "model_name": "HTMLModel",
      "state": {
       "layout": "IPY_MODEL_447e965ebfe94236a5a446a0a6854587",
       "style": "IPY_MODEL_b3293a8db9fa4cceb2d1584801fa9494",
       "value": " 63344/63359 [06:02&lt;00:00, 174.44it/s]"
      }
     },
     "761d6ed32b6545b9997a2899c639fb52": {
      "model_module": "@jupyter-widgets/controls",
      "model_module_version": "2.0.0",
      "model_name": "HTMLStyleModel",
      "state": {
       "description_width": "",
       "font_size": null,
       "text_color": null
      }
     },
     "7622abfb8f24489eb9f28802cfe1f95f": {
      "model_module": "@jupyter-widgets/controls",
      "model_module_version": "2.0.0",
      "model_name": "HTMLModel",
      "state": {
       "layout": "IPY_MODEL_ee2b93c2fb0c410098ab31d83c0082af",
       "style": "IPY_MODEL_1b638c57dca044c58fc386914fa64ceb",
       "value": "100%"
      }
     },
     "76283f1b6dbb4d3fb893a2c3ad1afc1c": {
      "model_module": "@jupyter-widgets/controls",
      "model_module_version": "2.0.0",
      "model_name": "ProgressStyleModel",
      "state": {
       "description_width": ""
      }
     },
     "762a60aeb62d4f1bba7b4aeaf899e603": {
      "model_module": "@jupyter-widgets/controls",
      "model_module_version": "2.0.0",
      "model_name": "HTMLModel",
      "state": {
       "layout": "IPY_MODEL_07864eecf88e4ae1bcc49b96f1f61ff0",
       "style": "IPY_MODEL_7b44996f97384a00952daa1c8b83a7d1",
       "value": "100%"
      }
     },
     "768d029e516b4140b04d52a16326bff1": {
      "model_module": "@jupyter-widgets/base",
      "model_module_version": "2.0.0",
      "model_name": "LayoutModel",
      "state": {}
     },
     "769c6dd17be643bc9c02ecd72a51af48": {
      "model_module": "@jupyter-widgets/base",
      "model_module_version": "2.0.0",
      "model_name": "LayoutModel",
      "state": {}
     },
     "7700efbffb84461d8f5478cbbd5a8730": {
      "model_module": "@jupyter-widgets/base",
      "model_module_version": "2.0.0",
      "model_name": "LayoutModel",
      "state": {}
     },
     "772ee51081e34754a966e201c24cd900": {
      "model_module": "@jupyter-widgets/base",
      "model_module_version": "2.0.0",
      "model_name": "LayoutModel",
      "state": {}
     },
     "77507b806c234fa283df492705496926": {
      "model_module": "@jupyter-widgets/controls",
      "model_module_version": "2.0.0",
      "model_name": "HTMLStyleModel",
      "state": {
       "description_width": "",
       "font_size": null,
       "text_color": null
      }
     },
     "77516a0c7f00473fb0cd926f05c1e384": {
      "model_module": "@jupyter-widgets/controls",
      "model_module_version": "2.0.0",
      "model_name": "FloatProgressModel",
      "state": {
       "layout": "IPY_MODEL_4c1e341327c745a796957c60f4d21e6f",
       "max": 63359,
       "style": "IPY_MODEL_4f499eaf17e84da295015b7ca55dfdf6",
       "value": 63359
      }
     },
     "776958453e6c42deab7a09af7865f8e9": {
      "model_module": "@jupyter-widgets/base",
      "model_module_version": "2.0.0",
      "model_name": "LayoutModel",
      "state": {}
     },
     "776a422ea74a425bbba891e68755b4c3": {
      "model_module": "@jupyter-widgets/controls",
      "model_module_version": "2.0.0",
      "model_name": "FloatProgressModel",
      "state": {
       "layout": "IPY_MODEL_38413d21dc004e9383693c28b5c7ddc5",
       "max": 63359,
       "style": "IPY_MODEL_d8b5abb6b32345fcb69766557108086a",
       "value": 63359
      }
     },
     "78111a0600f344348d9e71c972eddccd": {
      "model_module": "@jupyter-widgets/controls",
      "model_module_version": "2.0.0",
      "model_name": "HTMLModel",
      "state": {
       "layout": "IPY_MODEL_010fb4e7660e4a8fbaaa7af310fdf307",
       "style": "IPY_MODEL_0e4fb418c78245a19bbdc45a313aafbf",
       "value": "100%"
      }
     },
     "7819523cf70e4d87b35fcc6bf03ac356": {
      "model_module": "@jupyter-widgets/base",
      "model_module_version": "2.0.0",
      "model_name": "LayoutModel",
      "state": {}
     },
     "7873fe6be147494592b1542eb97af296": {
      "model_module": "@jupyter-widgets/controls",
      "model_module_version": "2.0.0",
      "model_name": "FloatProgressModel",
      "state": {
       "layout": "IPY_MODEL_49398be2fd2244fc86b1038ef18578ba",
       "max": 63359,
       "style": "IPY_MODEL_ba6fbe9aabd045858b8fdbee4bd1fbcf",
       "value": 63359
      }
     },
     "7884cf79c7424b6e8a3146832b56d412": {
      "model_module": "@jupyter-widgets/base",
      "model_module_version": "2.0.0",
      "model_name": "LayoutModel",
      "state": {}
     },
     "78c4fec767364b82aee82e109801d39b": {
      "model_module": "@jupyter-widgets/base",
      "model_module_version": "2.0.0",
      "model_name": "LayoutModel",
      "state": {}
     },
     "78cc8281527c4a1eb3f46dddd361bdc0": {
      "model_module": "@jupyter-widgets/controls",
      "model_module_version": "2.0.0",
      "model_name": "HTMLModel",
      "state": {
       "layout": "IPY_MODEL_cd71effd5e954989842918c1f0c6653e",
       "style": "IPY_MODEL_4b5aa996fd0b47be9639cbed9a7b40e6",
       "value": "100%"
      }
     },
     "78daf3f317ed4969981b83c2c6b4d09b": {
      "model_module": "@jupyter-widgets/base",
      "model_module_version": "2.0.0",
      "model_name": "LayoutModel",
      "state": {}
     },
     "78fb96d7c58a40ec9046f7aee11abb66": {
      "model_module": "@jupyter-widgets/base",
      "model_module_version": "2.0.0",
      "model_name": "LayoutModel",
      "state": {}
     },
     "7905fcbafd1b49bb80f4efef8091defe": {
      "model_module": "@jupyter-widgets/controls",
      "model_module_version": "2.0.0",
      "model_name": "HTMLModel",
      "state": {
       "layout": "IPY_MODEL_ff2d34f7b7174b32b3e2524f1de55eb4",
       "style": "IPY_MODEL_c18e5de290d74ce0ae58157532aca715",
       "value": "100%"
      }
     },
     "795c4182a1704771a895d83ded3a7f3e": {
      "model_module": "@jupyter-widgets/base",
      "model_module_version": "2.0.0",
      "model_name": "LayoutModel",
      "state": {
       "visibility": "hidden"
      }
     },
     "7962298ce35847b4ada26b62a0c35aae": {
      "model_module": "@jupyter-widgets/base",
      "model_module_version": "2.0.0",
      "model_name": "LayoutModel",
      "state": {}
     },
     "796da0fd29e8481a909390855f9dd477": {
      "model_module": "@jupyter-widgets/base",
      "model_module_version": "2.0.0",
      "model_name": "LayoutModel",
      "state": {}
     },
     "79726d85772b4a9ca9322b92e3ec7790": {
      "model_module": "@jupyter-widgets/controls",
      "model_module_version": "2.0.0",
      "model_name": "HTMLModel",
      "state": {
       "layout": "IPY_MODEL_d4c459ff649642e68dce4317b3f309a0",
       "style": "IPY_MODEL_4c4671f5c18a487fbd3fdcb5b4fe7a25",
       "value": "100%"
      }
     },
     "797655bb3ac040b9babf71fe6d7d34a5": {
      "model_module": "@jupyter-widgets/controls",
      "model_module_version": "2.0.0",
      "model_name": "FloatProgressModel",
      "state": {
       "layout": "IPY_MODEL_8ff3fad99b1b441a86379e91ce0b11b4",
       "max": 63359,
       "style": "IPY_MODEL_c0b0f642b7824df4b32a16cf08c96848",
       "value": 63359
      }
     },
     "79c089a4bd844b229adbea9689be4967": {
      "model_module": "@jupyter-widgets/controls",
      "model_module_version": "2.0.0",
      "model_name": "HTMLStyleModel",
      "state": {
       "description_width": "",
       "font_size": null,
       "text_color": null
      }
     },
     "79c1ae47aa1743fdb9935713b2e9b2d6": {
      "model_module": "@jupyter-widgets/base",
      "model_module_version": "2.0.0",
      "model_name": "LayoutModel",
      "state": {}
     },
     "79d138ea523f4c01afb987bf27999264": {
      "model_module": "@jupyter-widgets/base",
      "model_module_version": "2.0.0",
      "model_name": "LayoutModel",
      "state": {}
     },
     "79e24e416f6b4353899a67db44c0c970": {
      "model_module": "@jupyter-widgets/controls",
      "model_module_version": "2.0.0",
      "model_name": "HTMLModel",
      "state": {
       "layout": "IPY_MODEL_ff37c4da64e14e43aafbeee3faadd5a3",
       "style": "IPY_MODEL_6b0092aa2087404e95a7a9c882acd8a8",
       "value": " 63351/63359 [06:03&lt;00:00, 173.88it/s]"
      }
     },
     "7a0dbbd4f7a14cf38eb20e22026b60f0": {
      "model_module": "@jupyter-widgets/base",
      "model_module_version": "2.0.0",
      "model_name": "LayoutModel",
      "state": {}
     },
     "7a36c49398134aa5bb098698db8ffd00": {
      "model_module": "@jupyter-widgets/base",
      "model_module_version": "2.0.0",
      "model_name": "LayoutModel",
      "state": {}
     },
     "7a4cf9a8d8b946e287c9094090be9774": {
      "model_module": "@jupyter-widgets/base",
      "model_module_version": "2.0.0",
      "model_name": "LayoutModel",
      "state": {}
     },
     "7a57a185cae64e9ca25ba207b675ab19": {
      "model_module": "@jupyter-widgets/controls",
      "model_module_version": "2.0.0",
      "model_name": "HTMLStyleModel",
      "state": {
       "description_width": "",
       "font_size": null,
       "text_color": null
      }
     },
     "7a673b79019d434d8a75430635750946": {
      "model_module": "@jupyter-widgets/controls",
      "model_module_version": "2.0.0",
      "model_name": "ProgressStyleModel",
      "state": {
       "description_width": ""
      }
     },
     "7a75d25c872e45a4a680ea55d218bafb": {
      "model_module": "@jupyter-widgets/controls",
      "model_module_version": "2.0.0",
      "model_name": "FloatProgressModel",
      "state": {
       "layout": "IPY_MODEL_d0265447bd294450ac506dfc2e34fefc",
       "max": 63359,
       "style": "IPY_MODEL_1743e0ed598642e48de63ce417ade57a",
       "value": 63359
      }
     },
     "7a76e0e8c1964d778deb10b049fa809b": {
      "model_module": "@jupyter-widgets/controls",
      "model_module_version": "2.0.0",
      "model_name": "HTMLModel",
      "state": {
       "layout": "IPY_MODEL_28d067bf6f29408a954ea1ed180ab1f8",
       "style": "IPY_MODEL_edde853694f44a86b9ac3b44dd8ac52d",
       "value": " 63358/63359 [06:18&lt;00:00, 168.16it/s]"
      }
     },
     "7a8d33a7a5d64fc2b9319b5b3027f559": {
      "model_module": "@jupyter-widgets/base",
      "model_module_version": "2.0.0",
      "model_name": "LayoutModel",
      "state": {
       "visibility": "hidden"
      }
     },
     "7ae6285a975947c0b884fea623a2337d": {
      "model_module": "@jupyter-widgets/controls",
      "model_module_version": "2.0.0",
      "model_name": "ProgressStyleModel",
      "state": {
       "description_width": ""
      }
     },
     "7ae7d65953894fc783b6d9b00a4ddd58": {
      "model_module": "@jupyter-widgets/base",
      "model_module_version": "2.0.0",
      "model_name": "LayoutModel",
      "state": {}
     },
     "7b44996f97384a00952daa1c8b83a7d1": {
      "model_module": "@jupyter-widgets/controls",
      "model_module_version": "2.0.0",
      "model_name": "HTMLStyleModel",
      "state": {
       "description_width": "",
       "font_size": null,
       "text_color": null
      }
     },
     "7b5dff67f30d420481919eaccbbd7ce4": {
      "model_module": "@jupyter-widgets/controls",
      "model_module_version": "2.0.0",
      "model_name": "HTMLStyleModel",
      "state": {
       "description_width": "",
       "font_size": null,
       "text_color": null
      }
     },
     "7b6a9c2027d94890a2561feda7472e9c": {
      "model_module": "@jupyter-widgets/base",
      "model_module_version": "2.0.0",
      "model_name": "LayoutModel",
      "state": {}
     },
     "7b6c8faf80084470b7e645760b784088": {
      "model_module": "@jupyter-widgets/controls",
      "model_module_version": "2.0.0",
      "model_name": "HTMLStyleModel",
      "state": {
       "description_width": "",
       "font_size": null,
       "text_color": null
      }
     },
     "7b9e291baadb48c2b02e2aa3f87df63d": {
      "model_module": "@jupyter-widgets/base",
      "model_module_version": "2.0.0",
      "model_name": "LayoutModel",
      "state": {}
     },
     "7be3d9f304ca4ecf8be595c470c6986e": {
      "model_module": "@jupyter-widgets/controls",
      "model_module_version": "2.0.0",
      "model_name": "HTMLModel",
      "state": {
       "layout": "IPY_MODEL_ea42c35542af4d33970c959e97b91502",
       "style": "IPY_MODEL_ab1b1a28d4174379aa6e9ce3832b2a99",
       "value": "100%"
      }
     },
     "7c230de4ad5f4d99874eaf09220229f2": {
      "model_module": "@jupyter-widgets/controls",
      "model_module_version": "2.0.0",
      "model_name": "ProgressStyleModel",
      "state": {
       "description_width": ""
      }
     },
     "7c35f451ecb24a008f627c2ba32a16cf": {
      "model_module": "@jupyter-widgets/controls",
      "model_module_version": "2.0.0",
      "model_name": "HTMLStyleModel",
      "state": {
       "description_width": "",
       "font_size": null,
       "text_color": null
      }
     },
     "7c37ca323cc8436cb1e0c989be02cd05": {
      "model_module": "@jupyter-widgets/base",
      "model_module_version": "2.0.0",
      "model_name": "LayoutModel",
      "state": {}
     },
     "7c586663eb0c4e7f8d44b8a0154d6b61": {
      "model_module": "@jupyter-widgets/controls",
      "model_module_version": "2.0.0",
      "model_name": "HTMLModel",
      "state": {
       "layout": "IPY_MODEL_923dd8b1367e4766aa6c29af8bf02f22",
       "style": "IPY_MODEL_7e3b63d6a85b4158ad2a8a1af5dc8f09",
       "value": "100%"
      }
     },
     "7c7cc788cbff4e34a64985fb11b960c5": {
      "model_module": "@jupyter-widgets/controls",
      "model_module_version": "2.0.0",
      "model_name": "HTMLStyleModel",
      "state": {
       "description_width": "",
       "font_size": null,
       "text_color": null
      }
     },
     "7c7f33b4a489406ba91cbc62c0933f89": {
      "model_module": "@jupyter-widgets/controls",
      "model_module_version": "2.0.0",
      "model_name": "HTMLModel",
      "state": {
       "layout": "IPY_MODEL_a08a94de0e2d4ae6b619f8fe2b924188",
       "style": "IPY_MODEL_19b43f15afc14258a9ce9004e8bc5abf",
       "value": "100%"
      }
     },
     "7ca197aaadba46cca10a8a531f23bc17": {
      "model_module": "@jupyter-widgets/controls",
      "model_module_version": "2.0.0",
      "model_name": "HTMLModel",
      "state": {
       "layout": "IPY_MODEL_7cccfb29f4cb4c9482ad6931b5fe996a",
       "style": "IPY_MODEL_cf0d19650a934dd99dbd3a76f94e7679",
       "value": " 63349/63359 [06:04&lt;00:00, 173.76it/s]"
      }
     },
     "7cbaf0bc4eec4f2baced6efca7ccb952": {
      "model_module": "@jupyter-widgets/base",
      "model_module_version": "2.0.0",
      "model_name": "LayoutModel",
      "state": {}
     },
     "7cccfb29f4cb4c9482ad6931b5fe996a": {
      "model_module": "@jupyter-widgets/base",
      "model_module_version": "2.0.0",
      "model_name": "LayoutModel",
      "state": {}
     },
     "7cdc25d2dc9a4d85b151578c861e466e": {
      "model_module": "@jupyter-widgets/controls",
      "model_module_version": "2.0.0",
      "model_name": "HTMLStyleModel",
      "state": {
       "description_width": "",
       "font_size": null,
       "text_color": null
      }
     },
     "7ce54bdbc51f4bdfb79bc51153fada48": {
      "model_module": "@jupyter-widgets/base",
      "model_module_version": "2.0.0",
      "model_name": "LayoutModel",
      "state": {
       "visibility": "hidden"
      }
     },
     "7ce6ac219bf242da9fb395a8870a8978": {
      "model_module": "@jupyter-widgets/base",
      "model_module_version": "2.0.0",
      "model_name": "LayoutModel",
      "state": {
       "visibility": "hidden"
      }
     },
     "7cee540da9e4408d9172d950c8615cdb": {
      "model_module": "@jupyter-widgets/controls",
      "model_module_version": "2.0.0",
      "model_name": "HTMLStyleModel",
      "state": {
       "description_width": "",
       "font_size": null,
       "text_color": null
      }
     },
     "7d5a3780664842439c1b923256adbde2": {
      "model_module": "@jupyter-widgets/controls",
      "model_module_version": "2.0.0",
      "model_name": "HTMLModel",
      "state": {
       "layout": "IPY_MODEL_3e849875f60644878026ca90de382a53",
       "style": "IPY_MODEL_ba32979e0b6f478d865bb30e4dcee742",
       "value": " 63353/63359 [06:10&lt;00:00, 172.25it/s]"
      }
     },
     "7d823132ed984c9da236ec2493ab5bd2": {
      "model_module": "@jupyter-widgets/controls",
      "model_module_version": "2.0.0",
      "model_name": "HTMLModel",
      "state": {
       "layout": "IPY_MODEL_67101ee0b43c4e0c897a7bd9faecca99",
       "style": "IPY_MODEL_180800180f2f4aae8d85868a17b24e54",
       "value": " 63353/63359 [06:04&lt;00:00, 174.48it/s]"
      }
     },
     "7d968f2546e74cec95fde59c7424e028": {
      "model_module": "@jupyter-widgets/controls",
      "model_module_version": "2.0.0",
      "model_name": "HTMLModel",
      "state": {
       "layout": "IPY_MODEL_e35e140451ee41819d327c8a06e24229",
       "style": "IPY_MODEL_8cbfaa14bdf8411d9d1cea0a59cbaa4c",
       "value": "100%"
      }
     },
     "7e24d56464534cbab55d58f6dc7a95c6": {
      "model_module": "@jupyter-widgets/controls",
      "model_module_version": "2.0.0",
      "model_name": "FloatProgressModel",
      "state": {
       "layout": "IPY_MODEL_0356bec6da514172af99823d7951456e",
       "max": 63359,
       "style": "IPY_MODEL_ada6ac59a43641d79afc8488df750b7a",
       "value": 63359
      }
     },
     "7e3b63d6a85b4158ad2a8a1af5dc8f09": {
      "model_module": "@jupyter-widgets/controls",
      "model_module_version": "2.0.0",
      "model_name": "HTMLStyleModel",
      "state": {
       "description_width": "",
       "font_size": null,
       "text_color": null
      }
     },
     "7e6f7968d3f84adf85104b50a80cdcf6": {
      "model_module": "@jupyter-widgets/controls",
      "model_module_version": "2.0.0",
      "model_name": "HTMLModel",
      "state": {
       "layout": "IPY_MODEL_a8cb195d79324883a07cd4ae1884663e",
       "style": "IPY_MODEL_2e36de1555b941fdbd620bff9611fc9c",
       "value": " 63344/63359 [06:08&lt;00:00, 175.87it/s]"
      }
     },
     "7e8d6793e11e41aab0d4b37751ecdb06": {
      "model_module": "@jupyter-widgets/controls",
      "model_module_version": "2.0.0",
      "model_name": "HTMLStyleModel",
      "state": {
       "description_width": "",
       "font_size": null,
       "text_color": null
      }
     },
     "7e931e5cac524bfcb2a81f707a1961bc": {
      "model_module": "@jupyter-widgets/base",
      "model_module_version": "2.0.0",
      "model_name": "LayoutModel",
      "state": {}
     },
     "7e9e8b7f216e4e77beb08bc346414d69": {
      "model_module": "@jupyter-widgets/base",
      "model_module_version": "2.0.0",
      "model_name": "LayoutModel",
      "state": {}
     },
     "7ee1933ee8484ff79a13a8be2b689018": {
      "model_module": "@jupyter-widgets/controls",
      "model_module_version": "2.0.0",
      "model_name": "FloatProgressModel",
      "state": {
       "layout": "IPY_MODEL_79c1ae47aa1743fdb9935713b2e9b2d6",
       "max": 63359,
       "style": "IPY_MODEL_29dc80b780484e7a9922a10730737f4e",
       "value": 63359
      }
     },
     "7ef3436dcc7d436a809693b5fdd6ff9e": {
      "model_module": "@jupyter-widgets/controls",
      "model_module_version": "2.0.0",
      "model_name": "HTMLModel",
      "state": {
       "layout": "IPY_MODEL_fa05e252a6b04d17b1baadc8d24e6b2a",
       "style": "IPY_MODEL_be6ab93af6f7441e9f447e5a2c05e10d",
       "value": " 63354/63359 [05:52&lt;00:00, 179.34it/s]"
      }
     },
     "7f0f3ed216b54dff89e9d43829c75fa8": {
      "model_module": "@jupyter-widgets/base",
      "model_module_version": "2.0.0",
      "model_name": "LayoutModel",
      "state": {
       "visibility": "hidden"
      }
     },
     "7f3835cd553b45b6904a7f80855f626c": {
      "model_module": "@jupyter-widgets/base",
      "model_module_version": "2.0.0",
      "model_name": "LayoutModel",
      "state": {}
     },
     "7f51986791b84c0182d4a2edbcec3546": {
      "model_module": "@jupyter-widgets/controls",
      "model_module_version": "2.0.0",
      "model_name": "HTMLModel",
      "state": {
       "layout": "IPY_MODEL_f9408b219c474a93a1f6e7f593d314f6",
       "style": "IPY_MODEL_9fe616c6918749b280b4e1a630925935",
       "value": "100%"
      }
     },
     "7ffaf24dfc344f9aaa48b77c5ba30949": {
      "model_module": "@jupyter-widgets/controls",
      "model_module_version": "2.0.0",
      "model_name": "FloatProgressModel",
      "state": {
       "layout": "IPY_MODEL_86111f798b4e4be8972b3b8ba33578f6",
       "max": 63359,
       "style": "IPY_MODEL_37bfa4aea72f427394349eec3cf2a634",
       "value": 63359
      }
     },
     "803e5300f4ff4993b38b6029edc446b0": {
      "model_module": "@jupyter-widgets/controls",
      "model_module_version": "2.0.0",
      "model_name": "HTMLStyleModel",
      "state": {
       "description_width": "",
       "font_size": null,
       "text_color": null
      }
     },
     "8075461e8ab74f1481e89c5b4305f845": {
      "model_module": "@jupyter-widgets/base",
      "model_module_version": "2.0.0",
      "model_name": "LayoutModel",
      "state": {}
     },
     "8078cb717be748898168358592feef65": {
      "model_module": "@jupyter-widgets/base",
      "model_module_version": "2.0.0",
      "model_name": "LayoutModel",
      "state": {}
     },
     "80799bf6e84649368833bfaeedc20018": {
      "model_module": "@jupyter-widgets/base",
      "model_module_version": "2.0.0",
      "model_name": "LayoutModel",
      "state": {
       "visibility": "hidden"
      }
     },
     "809e0bb672bc44ccbdf0863345257696": {
      "model_module": "@jupyter-widgets/base",
      "model_module_version": "2.0.0",
      "model_name": "LayoutModel",
      "state": {
       "visibility": "hidden"
      }
     },
     "80ca071942d64f888ef79d6ebc27e8a9": {
      "model_module": "@jupyter-widgets/base",
      "model_module_version": "2.0.0",
      "model_name": "LayoutModel",
      "state": {}
     },
     "810dc354659b4e65b2d04765afddf154": {
      "model_module": "@jupyter-widgets/controls",
      "model_module_version": "2.0.0",
      "model_name": "HTMLStyleModel",
      "state": {
       "description_width": "",
       "font_size": null,
       "text_color": null
      }
     },
     "810f8269a579450da89a03691e22ad83": {
      "model_module": "@jupyter-widgets/controls",
      "model_module_version": "2.0.0",
      "model_name": "HTMLStyleModel",
      "state": {
       "description_width": "",
       "font_size": null,
       "text_color": null
      }
     },
     "812539e143aa4dc6ac2d2580e98d2e2b": {
      "model_module": "@jupyter-widgets/base",
      "model_module_version": "2.0.0",
      "model_name": "LayoutModel",
      "state": {
       "visibility": "hidden"
      }
     },
     "813676e683a148438f252cf1b90cea09": {
      "model_module": "@jupyter-widgets/controls",
      "model_module_version": "2.0.0",
      "model_name": "HTMLStyleModel",
      "state": {
       "description_width": "",
       "font_size": null,
       "text_color": null
      }
     },
     "8144a9584c2543038202009fac5f757e": {
      "model_module": "@jupyter-widgets/controls",
      "model_module_version": "2.0.0",
      "model_name": "HTMLModel",
      "state": {
       "layout": "IPY_MODEL_a12b1e43f98b4240ada4c604197662ce",
       "style": "IPY_MODEL_d29f8821c11743708a90b4a5e91c7871",
       "value": " 63351/63359 [06:03&lt;00:00, 175.31it/s]"
      }
     },
     "8155aea03ae2405d96fda5c69ebd7b44": {
      "model_module": "@jupyter-widgets/base",
      "model_module_version": "2.0.0",
      "model_name": "LayoutModel",
      "state": {
       "visibility": "hidden"
      }
     },
     "81801e793bac4b498edd45d5eba6e78e": {
      "model_module": "@jupyter-widgets/base",
      "model_module_version": "2.0.0",
      "model_name": "LayoutModel",
      "state": {}
     },
     "81d91fda9a6444c68992b3e7f0c89a42": {
      "model_module": "@jupyter-widgets/controls",
      "model_module_version": "2.0.0",
      "model_name": "HTMLStyleModel",
      "state": {
       "description_width": "",
       "font_size": null,
       "text_color": null
      }
     },
     "81fb7b314cfc4a8faf9a3873218819dc": {
      "model_module": "@jupyter-widgets/controls",
      "model_module_version": "2.0.0",
      "model_name": "ProgressStyleModel",
      "state": {
       "description_width": ""
      }
     },
     "82243094243e489fb189c0ee0a7cf061": {
      "model_module": "@jupyter-widgets/base",
      "model_module_version": "2.0.0",
      "model_name": "LayoutModel",
      "state": {}
     },
     "8228327f83e848c2be7e833f1d5ebf1f": {
      "model_module": "@jupyter-widgets/controls",
      "model_module_version": "2.0.0",
      "model_name": "HTMLModel",
      "state": {
       "layout": "IPY_MODEL_8f4f845f9d0c41efb1574d2e5a67fbbd",
       "style": "IPY_MODEL_61dbcff98a2945fe833c1460d4c28e32",
       "value": " 63346/63359 [06:04&lt;00:00, 173.19it/s]"
      }
     },
     "8236fc11e977437e82e5a25e787fedb7": {
      "model_module": "@jupyter-widgets/base",
      "model_module_version": "2.0.0",
      "model_name": "LayoutModel",
      "state": {}
     },
     "8253ff50763844a09b8047ac4daf00eb": {
      "model_module": "@jupyter-widgets/controls",
      "model_module_version": "2.0.0",
      "model_name": "HTMLModel",
      "state": {
       "layout": "IPY_MODEL_dd701706fe694b0ca835aeb03a100355",
       "style": "IPY_MODEL_2ff1265342ad41ceb51857f66e88fa3c",
       "value": "100%"
      }
     },
     "826ea3fcd7a64261a8a702eab8c195f6": {
      "model_module": "@jupyter-widgets/controls",
      "model_module_version": "2.0.0",
      "model_name": "HTMLModel",
      "state": {
       "layout": "IPY_MODEL_87dfcb8aa2bc4b23bd2b645b00b44ccf",
       "style": "IPY_MODEL_8fada1df97f64616ae53b1fe3d1db2b0",
       "value": "100%"
      }
     },
     "828b02b00ea746eebb4b7be5f9b2cc46": {
      "model_module": "@jupyter-widgets/base",
      "model_module_version": "2.0.0",
      "model_name": "LayoutModel",
      "state": {}
     },
     "82a0571337614090bad058d41c753a52": {
      "model_module": "@jupyter-widgets/controls",
      "model_module_version": "2.0.0",
      "model_name": "HTMLModel",
      "state": {
       "layout": "IPY_MODEL_56d6b4acf5c8461fa9785f3835cc8b39",
       "style": "IPY_MODEL_761d6ed32b6545b9997a2899c639fb52",
       "value": "100%"
      }
     },
     "82b1a805551d48fcad76ab96c5f64d34": {
      "model_module": "@jupyter-widgets/base",
      "model_module_version": "2.0.0",
      "model_name": "LayoutModel",
      "state": {}
     },
     "82f409cca100409fa9c2af1b0cd4076c": {
      "model_module": "@jupyter-widgets/controls",
      "model_module_version": "2.0.0",
      "model_name": "HTMLStyleModel",
      "state": {
       "description_width": "",
       "font_size": null,
       "text_color": null
      }
     },
     "83415b0b95714999940658628efd1fac": {
      "model_module": "@jupyter-widgets/controls",
      "model_module_version": "2.0.0",
      "model_name": "HTMLStyleModel",
      "state": {
       "description_width": "",
       "font_size": null,
       "text_color": null
      }
     },
     "83bb775c3e7443228ea38f453c231700": {
      "model_module": "@jupyter-widgets/controls",
      "model_module_version": "2.0.0",
      "model_name": "HTMLModel",
      "state": {
       "layout": "IPY_MODEL_594abca60c2a43d68026ed40306c9b24",
       "style": "IPY_MODEL_981ad3e019e34ccaa5b1246dfe771bcc",
       "value": "100%"
      }
     },
     "83e561056d404dbd94e8b99a18cae348": {
      "model_module": "@jupyter-widgets/controls",
      "model_module_version": "2.0.0",
      "model_name": "HTMLModel",
      "state": {
       "layout": "IPY_MODEL_39c182133fc54bdfa8f28dbd2f6f8fab",
       "style": "IPY_MODEL_37330a1b688f4d518a5adb0579d0ac0a",
       "value": " 63350/63359 [06:04&lt;00:00, 174.56it/s]"
      }
     },
     "83f5208ec2d34427ac91b30790726006": {
      "model_module": "@jupyter-widgets/controls",
      "model_module_version": "2.0.0",
      "model_name": "FloatProgressModel",
      "state": {
       "layout": "IPY_MODEL_9c602a95dace46539a1a835aff9e584f",
       "max": 63359,
       "style": "IPY_MODEL_92231b4d8cfd44abb71631237c949ab9",
       "value": 63359
      }
     },
     "83f5b3353dbf46f69c9d8391db2be052": {
      "model_module": "@jupyter-widgets/base",
      "model_module_version": "2.0.0",
      "model_name": "LayoutModel",
      "state": {}
     },
     "83f8fc94c4f74bd68b09516650d19420": {
      "model_module": "@jupyter-widgets/base",
      "model_module_version": "2.0.0",
      "model_name": "LayoutModel",
      "state": {}
     },
     "841aad15bf5f471d88b2e936cb933e3e": {
      "model_module": "@jupyter-widgets/controls",
      "model_module_version": "2.0.0",
      "model_name": "HTMLModel",
      "state": {
       "layout": "IPY_MODEL_d0174a4d155445e888b6bf2474c8a5c5",
       "style": "IPY_MODEL_345eb2d3e19a4750bcf24c0e5d571f62",
       "value": " 63344/63359 [05:50&lt;00:00, 181.24it/s]"
      }
     },
     "8454337543d04d3488c0476c8bd57ccf": {
      "model_module": "@jupyter-widgets/base",
      "model_module_version": "2.0.0",
      "model_name": "LayoutModel",
      "state": {}
     },
     "848bbaec2eef487695e8103968e207f2": {
      "model_module": "@jupyter-widgets/controls",
      "model_module_version": "2.0.0",
      "model_name": "HTMLStyleModel",
      "state": {
       "description_width": "",
       "font_size": null,
       "text_color": null
      }
     },
     "84d42a99976548acbf39b8e753b41578": {
      "model_module": "@jupyter-widgets/controls",
      "model_module_version": "2.0.0",
      "model_name": "FloatProgressModel",
      "state": {
       "layout": "IPY_MODEL_58d498f2868f45f89046480f4f7b3842",
       "max": 63359,
       "style": "IPY_MODEL_1a30838fe79a40adb55283ca82559fd9",
       "value": 63359
      }
     },
     "84e75dd3b60c4b4e896876316835a9cf": {
      "model_module": "@jupyter-widgets/controls",
      "model_module_version": "2.0.0",
      "model_name": "HTMLModel",
      "state": {
       "layout": "IPY_MODEL_fbf19162972c4887abda678856396675",
       "style": "IPY_MODEL_34c2bed2b0834acfa9a8625e960cd349",
       "value": "100%"
      }
     },
     "851c0db110dd42169ae60d34a2ac6bc6": {
      "model_module": "@jupyter-widgets/base",
      "model_module_version": "2.0.0",
      "model_name": "LayoutModel",
      "state": {
       "visibility": "hidden"
      }
     },
     "853e19b1db0046b3a3bdd8b0b0c6e73c": {
      "model_module": "@jupyter-widgets/controls",
      "model_module_version": "2.0.0",
      "model_name": "HTMLStyleModel",
      "state": {
       "description_width": "",
       "font_size": null,
       "text_color": null
      }
     },
     "855847af2e964001bce48aa1fbb43fd1": {
      "model_module": "@jupyter-widgets/controls",
      "model_module_version": "2.0.0",
      "model_name": "FloatProgressModel",
      "state": {
       "layout": "IPY_MODEL_1e64f14f9743400c9a2ee0e73f24c6a5",
       "max": 63359,
       "style": "IPY_MODEL_fdeb0a3665b044bfb6f729d2d6d12d2c",
       "value": 63359
      }
     },
     "857d5b28731f4ebf82161c591e606a09": {
      "model_module": "@jupyter-widgets/controls",
      "model_module_version": "2.0.0",
      "model_name": "HTMLStyleModel",
      "state": {
       "description_width": "",
       "font_size": null,
       "text_color": null
      }
     },
     "8580282683ff482290c3dcc4511bd95f": {
      "model_module": "@jupyter-widgets/controls",
      "model_module_version": "2.0.0",
      "model_name": "ProgressStyleModel",
      "state": {
       "description_width": ""
      }
     },
     "8582d63fe10b4e04bbc9b3004a1ecb86": {
      "model_module": "@jupyter-widgets/base",
      "model_module_version": "2.0.0",
      "model_name": "LayoutModel",
      "state": {}
     },
     "85921e8d2b4c4aed97e3efc50897931d": {
      "model_module": "@jupyter-widgets/controls",
      "model_module_version": "2.0.0",
      "model_name": "HTMLStyleModel",
      "state": {
       "description_width": "",
       "font_size": null,
       "text_color": null
      }
     },
     "85a885a0f5a54f21bbd8a9b69602f460": {
      "model_module": "@jupyter-widgets/controls",
      "model_module_version": "2.0.0",
      "model_name": "FloatProgressModel",
      "state": {
       "layout": "IPY_MODEL_cde3be9c6b0b418bb3ba02237e342ddb",
       "max": 63359,
       "style": "IPY_MODEL_8be791847f9c4479abd6f0a0dd30d717",
       "value": 63359
      }
     },
     "85f49fe4133f47839ac8b740e2bf7b86": {
      "model_module": "@jupyter-widgets/controls",
      "model_module_version": "2.0.0",
      "model_name": "FloatProgressModel",
      "state": {
       "layout": "IPY_MODEL_62599580340043b2aecabb4dc21d9402",
       "max": 63359,
       "style": "IPY_MODEL_17a28f9b09cb4f16acb9a195d0f28315",
       "value": 63359
      }
     },
     "86111f798b4e4be8972b3b8ba33578f6": {
      "model_module": "@jupyter-widgets/base",
      "model_module_version": "2.0.0",
      "model_name": "LayoutModel",
      "state": {}
     },
     "8614baec81034642a747fdac8a574515": {
      "model_module": "@jupyter-widgets/controls",
      "model_module_version": "2.0.0",
      "model_name": "HTMLStyleModel",
      "state": {
       "description_width": "",
       "font_size": null,
       "text_color": null
      }
     },
     "8628a338c48d4451a8556a6c8bd30c75": {
      "model_module": "@jupyter-widgets/controls",
      "model_module_version": "2.0.0",
      "model_name": "HTMLModel",
      "state": {
       "layout": "IPY_MODEL_7a4cf9a8d8b946e287c9094090be9774",
       "style": "IPY_MODEL_0bdf5acba93349f5b03389d785f09b74",
       "value": " 63348/63359 [06:14&lt;00:00, 170.27it/s]"
      }
     },
     "863f14513d7e42659e472ed004489c73": {
      "model_module": "@jupyter-widgets/base",
      "model_module_version": "2.0.0",
      "model_name": "LayoutModel",
      "state": {
       "visibility": "hidden"
      }
     },
     "8642727fd9554dad95ac8fab2ed0be32": {
      "model_module": "@jupyter-widgets/controls",
      "model_module_version": "2.0.0",
      "model_name": "HTMLModel",
      "state": {
       "layout": "IPY_MODEL_a35dff7d6902471f8c78c4b6f291f8f7",
       "style": "IPY_MODEL_869785fc5bab4d68a07bd0969f58ed38",
       "value": "100%"
      }
     },
     "869785fc5bab4d68a07bd0969f58ed38": {
      "model_module": "@jupyter-widgets/controls",
      "model_module_version": "2.0.0",
      "model_name": "HTMLStyleModel",
      "state": {
       "description_width": "",
       "font_size": null,
       "text_color": null
      }
     },
     "86a739481be84ebaa005f9410674110a": {
      "model_module": "@jupyter-widgets/base",
      "model_module_version": "2.0.0",
      "model_name": "LayoutModel",
      "state": {
       "visibility": "hidden"
      }
     },
     "86bae061dc70455695977b419515bc98": {
      "model_module": "@jupyter-widgets/controls",
      "model_module_version": "2.0.0",
      "model_name": "HTMLStyleModel",
      "state": {
       "description_width": "",
       "font_size": null,
       "text_color": null
      }
     },
     "86ef36056137417085e223ca24b3aa3e": {
      "model_module": "@jupyter-widgets/controls",
      "model_module_version": "2.0.0",
      "model_name": "HTMLModel",
      "state": {
       "layout": "IPY_MODEL_e444eae6723f4060aa835cead4d21ba8",
       "style": "IPY_MODEL_b04ef8f54e574f04899d54757353d24b",
       "value": "100%"
      }
     },
     "86f90ea66d474ff6945ac33a46572565": {
      "model_module": "@jupyter-widgets/base",
      "model_module_version": "2.0.0",
      "model_name": "LayoutModel",
      "state": {
       "visibility": "hidden"
      }
     },
     "87248f7d8c3943379289bd068e1e7ebe": {
      "model_module": "@jupyter-widgets/base",
      "model_module_version": "2.0.0",
      "model_name": "LayoutModel",
      "state": {
       "visibility": "hidden"
      }
     },
     "87b1606813c740f3ba7bbbb81547d613": {
      "model_module": "@jupyter-widgets/controls",
      "model_module_version": "2.0.0",
      "model_name": "HTMLStyleModel",
      "state": {
       "description_width": "",
       "font_size": null,
       "text_color": null
      }
     },
     "87b6cc62351f45d8a4ed54f9b75bff42": {
      "model_module": "@jupyter-widgets/base",
      "model_module_version": "2.0.0",
      "model_name": "LayoutModel",
      "state": {}
     },
     "87c638fd7a00491a801730191fc853e8": {
      "model_module": "@jupyter-widgets/controls",
      "model_module_version": "2.0.0",
      "model_name": "HTMLStyleModel",
      "state": {
       "description_width": "",
       "font_size": null,
       "text_color": null
      }
     },
     "87dfcb8aa2bc4b23bd2b645b00b44ccf": {
      "model_module": "@jupyter-widgets/base",
      "model_module_version": "2.0.0",
      "model_name": "LayoutModel",
      "state": {}
     },
     "888de98a72344f41b0a0815461fd82d9": {
      "model_module": "@jupyter-widgets/base",
      "model_module_version": "2.0.0",
      "model_name": "LayoutModel",
      "state": {}
     },
     "8893a094e4964f9bbd306ab2a04038cb": {
      "model_module": "@jupyter-widgets/controls",
      "model_module_version": "2.0.0",
      "model_name": "ProgressStyleModel",
      "state": {
       "description_width": ""
      }
     },
     "89120828cc5641e39278b87c6b523ba2": {
      "model_module": "@jupyter-widgets/base",
      "model_module_version": "2.0.0",
      "model_name": "LayoutModel",
      "state": {}
     },
     "891d40aaf9f648baaa75b8e3157053bb": {
      "model_module": "@jupyter-widgets/base",
      "model_module_version": "2.0.0",
      "model_name": "LayoutModel",
      "state": {}
     },
     "8965c688ab0a4e33974b00fec2176337": {
      "model_module": "@jupyter-widgets/controls",
      "model_module_version": "2.0.0",
      "model_name": "HTMLStyleModel",
      "state": {
       "description_width": "",
       "font_size": null,
       "text_color": null
      }
     },
     "89a9ad13b8d8472d91957c1548dd7e9b": {
      "model_module": "@jupyter-widgets/base",
      "model_module_version": "2.0.0",
      "model_name": "LayoutModel",
      "state": {}
     },
     "89abb1a889164123ba55e9501d897d84": {
      "model_module": "@jupyter-widgets/base",
      "model_module_version": "2.0.0",
      "model_name": "LayoutModel",
      "state": {}
     },
     "89b91ba332034e3fa9c509706cce0d5c": {
      "model_module": "@jupyter-widgets/controls",
      "model_module_version": "2.0.0",
      "model_name": "HTMLStyleModel",
      "state": {
       "description_width": "",
       "font_size": null,
       "text_color": null
      }
     },
     "89e1af99f979408d9e5a6fc371f3a131": {
      "model_module": "@jupyter-widgets/controls",
      "model_module_version": "2.0.0",
      "model_name": "HTMLStyleModel",
      "state": {
       "description_width": "",
       "font_size": null,
       "text_color": null
      }
     },
     "89ffa1ebe96c4601865c89cca095a988": {
      "model_module": "@jupyter-widgets/controls",
      "model_module_version": "2.0.0",
      "model_name": "FloatProgressModel",
      "state": {
       "layout": "IPY_MODEL_61b95b2bdf1c43b2abb7a9299d15fabd",
       "max": 63359,
       "style": "IPY_MODEL_bcf2673ee7b14b3aaa71160a3cf25485",
       "value": 63359
      }
     },
     "8a1beec38cc04510987b5bc825717685": {
      "model_module": "@jupyter-widgets/base",
      "model_module_version": "2.0.0",
      "model_name": "LayoutModel",
      "state": {}
     },
     "8a69768cd78146dba79d1e19df8c56fa": {
      "model_module": "@jupyter-widgets/controls",
      "model_module_version": "2.0.0",
      "model_name": "HTMLStyleModel",
      "state": {
       "description_width": "",
       "font_size": null,
       "text_color": null
      }
     },
     "8a6fc958c70844c8aa402a0da49fe142": {
      "model_module": "@jupyter-widgets/base",
      "model_module_version": "2.0.0",
      "model_name": "LayoutModel",
      "state": {
       "visibility": "hidden"
      }
     },
     "8a78781fb75b4cb88e949ae7926b3896": {
      "model_module": "@jupyter-widgets/base",
      "model_module_version": "2.0.0",
      "model_name": "LayoutModel",
      "state": {}
     },
     "8a87963a6ee645c2a04633646f3caaa6": {
      "model_module": "@jupyter-widgets/controls",
      "model_module_version": "2.0.0",
      "model_name": "ProgressStyleModel",
      "state": {
       "description_width": ""
      }
     },
     "8a89f2d3bc934af3ac3a9a67f9e542e9": {
      "model_module": "@jupyter-widgets/controls",
      "model_module_version": "2.0.0",
      "model_name": "HTMLModel",
      "state": {
       "layout": "IPY_MODEL_9253f6869c71428e88a6809ca4209fcf",
       "style": "IPY_MODEL_a63f448c26b7453d85f36fd9bbcc5089",
       "value": "100%"
      }
     },
     "8a8a7dfaad354015b221de811ef7d814": {
      "model_module": "@jupyter-widgets/controls",
      "model_module_version": "2.0.0",
      "model_name": "HTMLStyleModel",
      "state": {
       "description_width": "",
       "font_size": null,
       "text_color": null
      }
     },
     "8a8d9e2d3ac049e29496ecc1eb8568f2": {
      "model_module": "@jupyter-widgets/controls",
      "model_module_version": "2.0.0",
      "model_name": "FloatProgressModel",
      "state": {
       "layout": "IPY_MODEL_36f263be2d824a37811c80094bbde071",
       "max": 63359,
       "style": "IPY_MODEL_517d86eeb3f34b4eb8a781f02bcbc374",
       "value": 63359
      }
     },
     "8a9f66ad7bdf4a268404c8bea1c21a40": {
      "model_module": "@jupyter-widgets/base",
      "model_module_version": "2.0.0",
      "model_name": "LayoutModel",
      "state": {}
     },
     "8aa5c922442c4aef8b52f749a324264b": {
      "model_module": "@jupyter-widgets/controls",
      "model_module_version": "2.0.0",
      "model_name": "FloatProgressModel",
      "state": {
       "layout": "IPY_MODEL_96674fe6ca084e39af785c057320c2ae",
       "max": 63359,
       "style": "IPY_MODEL_bf9d73e3dc9b47a9bfcf31a863b6288a",
       "value": 63359
      }
     },
     "8ac4c6f3bde446b89e319fedbb8bf832": {
      "model_module": "@jupyter-widgets/controls",
      "model_module_version": "2.0.0",
      "model_name": "HTMLModel",
      "state": {
       "layout": "IPY_MODEL_4e1891e0a65946a2bde791e39f083b7b",
       "style": "IPY_MODEL_93be9c6551ed494d9129238d05e0e3cb",
       "value": "100%"
      }
     },
     "8b27e1bfce354c978aaf4018617e1f19": {
      "model_module": "@jupyter-widgets/base",
      "model_module_version": "2.0.0",
      "model_name": "LayoutModel",
      "state": {}
     },
     "8b2d6e48570a495d8c059d69bb869f23": {
      "model_module": "@jupyter-widgets/base",
      "model_module_version": "2.0.0",
      "model_name": "LayoutModel",
      "state": {
       "visibility": "hidden"
      }
     },
     "8b7bfd0cc67947fd898d17c529921d4c": {
      "model_module": "@jupyter-widgets/base",
      "model_module_version": "2.0.0",
      "model_name": "LayoutModel",
      "state": {}
     },
     "8be791847f9c4479abd6f0a0dd30d717": {
      "model_module": "@jupyter-widgets/controls",
      "model_module_version": "2.0.0",
      "model_name": "ProgressStyleModel",
      "state": {
       "description_width": ""
      }
     },
     "8c023328813f47afb593dee3e319fb74": {
      "model_module": "@jupyter-widgets/base",
      "model_module_version": "2.0.0",
      "model_name": "LayoutModel",
      "state": {
       "visibility": "hidden"
      }
     },
     "8c07bd4c3dd54da68d926a1a810be72b": {
      "model_module": "@jupyter-widgets/controls",
      "model_module_version": "2.0.0",
      "model_name": "HTMLStyleModel",
      "state": {
       "description_width": "",
       "font_size": null,
       "text_color": null
      }
     },
     "8c1d57ffb39848af8df92c36b606de0d": {
      "model_module": "@jupyter-widgets/base",
      "model_module_version": "2.0.0",
      "model_name": "LayoutModel",
      "state": {}
     },
     "8c2ab0e09e1c4529bb3fdc700c9b28cf": {
      "model_module": "@jupyter-widgets/controls",
      "model_module_version": "2.0.0",
      "model_name": "HTMLStyleModel",
      "state": {
       "description_width": "",
       "font_size": null,
       "text_color": null
      }
     },
     "8c4445337bed42e2983bab542eed265a": {
      "model_module": "@jupyter-widgets/controls",
      "model_module_version": "2.0.0",
      "model_name": "HTMLModel",
      "state": {
       "layout": "IPY_MODEL_52ebf1a3ca20411d9d192244946f7539",
       "style": "IPY_MODEL_b137d558f32e429c87fb35dd8522fd5f",
       "value": " 63354/63359 [06:10&lt;00:00, 171.24it/s]"
      }
     },
     "8c48444b6e704cdb87f94fcc9d8b2621": {
      "model_module": "@jupyter-widgets/controls",
      "model_module_version": "2.0.0",
      "model_name": "HTMLStyleModel",
      "state": {
       "description_width": "",
       "font_size": null,
       "text_color": null
      }
     },
     "8c48c066c930412486a77c322d775e53": {
      "model_module": "@jupyter-widgets/base",
      "model_module_version": "2.0.0",
      "model_name": "LayoutModel",
      "state": {
       "visibility": "hidden"
      }
     },
     "8cbfaa14bdf8411d9d1cea0a59cbaa4c": {
      "model_module": "@jupyter-widgets/controls",
      "model_module_version": "2.0.0",
      "model_name": "HTMLStyleModel",
      "state": {
       "description_width": "",
       "font_size": null,
       "text_color": null
      }
     },
     "8cbfd53f48914eebae6fc3c0dbece0b1": {
      "model_module": "@jupyter-widgets/controls",
      "model_module_version": "2.0.0",
      "model_name": "ProgressStyleModel",
      "state": {
       "description_width": ""
      }
     },
     "8cdbcaae011049aaa3480edb05f2de94": {
      "model_module": "@jupyter-widgets/base",
      "model_module_version": "2.0.0",
      "model_name": "LayoutModel",
      "state": {}
     },
     "8cdfb49f36a0473a9d97b6ca02a63c85": {
      "model_module": "@jupyter-widgets/base",
      "model_module_version": "2.0.0",
      "model_name": "LayoutModel",
      "state": {}
     },
     "8cfd6f4568bb452d8735505046e339a6": {
      "model_module": "@jupyter-widgets/base",
      "model_module_version": "2.0.0",
      "model_name": "LayoutModel",
      "state": {}
     },
     "8d33ecf9e804451e9ae1f9945f6aeb78": {
      "model_module": "@jupyter-widgets/controls",
      "model_module_version": "2.0.0",
      "model_name": "HTMLStyleModel",
      "state": {
       "description_width": "",
       "font_size": null,
       "text_color": null
      }
     },
     "8d3f24d023154973a06e3b234405fe9d": {
      "model_module": "@jupyter-widgets/base",
      "model_module_version": "2.0.0",
      "model_name": "LayoutModel",
      "state": {}
     },
     "8d5ae6c0a8444bb6ad6e40bb0c554bd6": {
      "model_module": "@jupyter-widgets/controls",
      "model_module_version": "2.0.0",
      "model_name": "HTMLStyleModel",
      "state": {
       "description_width": "",
       "font_size": null,
       "text_color": null
      }
     },
     "8d61a89a87c04d978200e091758375b6": {
      "model_module": "@jupyter-widgets/controls",
      "model_module_version": "2.0.0",
      "model_name": "FloatProgressModel",
      "state": {
       "layout": "IPY_MODEL_b16b449401194bf5b82676d729f1bd16",
       "max": 63359,
       "style": "IPY_MODEL_fb70674932194df2834b3cc98692e44b",
       "value": 63359
      }
     },
     "8d9b96a9adce4dbfabe2c276a53115a4": {
      "model_module": "@jupyter-widgets/controls",
      "model_module_version": "2.0.0",
      "model_name": "HTMLStyleModel",
      "state": {
       "description_width": "",
       "font_size": null,
       "text_color": null
      }
     },
     "8dcccc31f76841ba83e9bbd3e5ee7d7c": {
      "model_module": "@jupyter-widgets/base",
      "model_module_version": "2.0.0",
      "model_name": "LayoutModel",
      "state": {}
     },
     "8dd14eff65974016bf24c7ab3b740694": {
      "model_module": "@jupyter-widgets/base",
      "model_module_version": "2.0.0",
      "model_name": "LayoutModel",
      "state": {}
     },
     "8de3c5be791f44b99c731a6e23db1c53": {
      "model_module": "@jupyter-widgets/controls",
      "model_module_version": "2.0.0",
      "model_name": "HTMLStyleModel",
      "state": {
       "description_width": "",
       "font_size": null,
       "text_color": null
      }
     },
     "8df6e290731e4c9eb13a4accac763ecb": {
      "model_module": "@jupyter-widgets/controls",
      "model_module_version": "2.0.0",
      "model_name": "HTMLStyleModel",
      "state": {
       "description_width": "",
       "font_size": null,
       "text_color": null
      }
     },
     "8e2579c439b140428c2984fa319d2a52": {
      "model_module": "@jupyter-widgets/controls",
      "model_module_version": "2.0.0",
      "model_name": "HTMLModel",
      "state": {
       "layout": "IPY_MODEL_487c59ea268e48c2990f68ebc0307564",
       "style": "IPY_MODEL_12874f2bd6684bf19e1c2fa7d6f7b9fe",
       "value": "100%"
      }
     },
     "8e2e01e0770546ecaf10d2a776e27fd4": {
      "model_module": "@jupyter-widgets/controls",
      "model_module_version": "2.0.0",
      "model_name": "HTMLStyleModel",
      "state": {
       "description_width": "",
       "font_size": null,
       "text_color": null
      }
     },
     "8e3bff9405ad44069f75200f9359459f": {
      "model_module": "@jupyter-widgets/base",
      "model_module_version": "2.0.0",
      "model_name": "LayoutModel",
      "state": {}
     },
     "8e505055355a4084b34e33a28fddcc57": {
      "model_module": "@jupyter-widgets/base",
      "model_module_version": "2.0.0",
      "model_name": "LayoutModel",
      "state": {}
     },
     "8e55a9697e664ca7b91cd3ed6f50229f": {
      "model_module": "@jupyter-widgets/base",
      "model_module_version": "2.0.0",
      "model_name": "LayoutModel",
      "state": {}
     },
     "8e6a7262e69d4939b06dc14a577f93b4": {
      "model_module": "@jupyter-widgets/base",
      "model_module_version": "2.0.0",
      "model_name": "LayoutModel",
      "state": {}
     },
     "8e7234801778454882eb1efb44e2a5a4": {
      "model_module": "@jupyter-widgets/controls",
      "model_module_version": "2.0.0",
      "model_name": "HBoxModel",
      "state": {
       "children": [
        "IPY_MODEL_a61192df641d4bb8bbd327c9a23a6acf",
        "IPY_MODEL_3b9479b112504682bd7283eef7371db5",
        "IPY_MODEL_ab54227a12464fea88ae75e29aaf96bf"
       ],
       "layout": "IPY_MODEL_4bc9052aee7e4e249899c47752b21f89"
      }
     },
     "8e8a16aeffd040a285e1ebfe1cff8762": {
      "model_module": "@jupyter-widgets/controls",
      "model_module_version": "2.0.0",
      "model_name": "HTMLStyleModel",
      "state": {
       "description_width": "",
       "font_size": null,
       "text_color": null
      }
     },
     "8e953964204d42509321e152fe4a1804": {
      "model_module": "@jupyter-widgets/controls",
      "model_module_version": "2.0.0",
      "model_name": "HTMLModel",
      "state": {
       "layout": "IPY_MODEL_ca72befc4263478c8386dc9fa55d1633",
       "style": "IPY_MODEL_e22a7368af524f378239faf1a369b685",
       "value": " 63346/63359 [06:05&lt;00:00, 171.29it/s]"
      }
     },
     "8eaa13e45d9c4764bf886ef6a8c91c24": {
      "model_module": "@jupyter-widgets/controls",
      "model_module_version": "2.0.0",
      "model_name": "ProgressStyleModel",
      "state": {
       "description_width": ""
      }
     },
     "8ecb43568e3c44a4af13c0388840ed9d": {
      "model_module": "@jupyter-widgets/base",
      "model_module_version": "2.0.0",
      "model_name": "LayoutModel",
      "state": {}
     },
     "8f03345ae1ce41ac98a2d7f39c3fa4b6": {
      "model_module": "@jupyter-widgets/base",
      "model_module_version": "2.0.0",
      "model_name": "LayoutModel",
      "state": {}
     },
     "8f257b45172f41a487927403119cad52": {
      "model_module": "@jupyter-widgets/controls",
      "model_module_version": "2.0.0",
      "model_name": "HTMLStyleModel",
      "state": {
       "description_width": "",
       "font_size": null,
       "text_color": null
      }
     },
     "8f41a86ed145462aade74ccdf28c646e": {
      "model_module": "@jupyter-widgets/controls",
      "model_module_version": "2.0.0",
      "model_name": "HTMLModel",
      "state": {
       "layout": "IPY_MODEL_44483e8fac024ffc8938700b70922587",
       "style": "IPY_MODEL_fd3c5a0c91d7425f863ae0f5ee7f6575",
       "value": "100%"
      }
     },
     "8f4f845f9d0c41efb1574d2e5a67fbbd": {
      "model_module": "@jupyter-widgets/base",
      "model_module_version": "2.0.0",
      "model_name": "LayoutModel",
      "state": {}
     },
     "8f7059dc5b8c493082c6dbecc0d224cc": {
      "model_module": "@jupyter-widgets/controls",
      "model_module_version": "2.0.0",
      "model_name": "HTMLModel",
      "state": {
       "layout": "IPY_MODEL_0d907704e9f94a03976211f5a14bf9a3",
       "style": "IPY_MODEL_2354923970ae43218baa8e7558dc32cf",
       "value": "100%"
      }
     },
     "8f894e1a978445ddb8ebb39ad22fc429": {
      "model_module": "@jupyter-widgets/controls",
      "model_module_version": "2.0.0",
      "model_name": "HTMLModel",
      "state": {
       "layout": "IPY_MODEL_8c1d57ffb39848af8df92c36b606de0d",
       "style": "IPY_MODEL_ada599929ec14d1d8707d54058cbf47f",
       "value": "100%"
      }
     },
     "8fada1df97f64616ae53b1fe3d1db2b0": {
      "model_module": "@jupyter-widgets/controls",
      "model_module_version": "2.0.0",
      "model_name": "HTMLStyleModel",
      "state": {
       "description_width": "",
       "font_size": null,
       "text_color": null
      }
     },
     "8fccb46aec88475eb74b2eaf7ee3cb34": {
      "model_module": "@jupyter-widgets/base",
      "model_module_version": "2.0.0",
      "model_name": "LayoutModel",
      "state": {
       "visibility": "hidden"
      }
     },
     "8feea460e20841d3a0e7f0175c5bc361": {
      "model_module": "@jupyter-widgets/base",
      "model_module_version": "2.0.0",
      "model_name": "LayoutModel",
      "state": {
       "visibility": "hidden"
      }
     },
     "8ff3fad99b1b441a86379e91ce0b11b4": {
      "model_module": "@jupyter-widgets/base",
      "model_module_version": "2.0.0",
      "model_name": "LayoutModel",
      "state": {}
     },
     "901cb95a960e4156b264fc4773cfd638": {
      "model_module": "@jupyter-widgets/controls",
      "model_module_version": "2.0.0",
      "model_name": "HTMLStyleModel",
      "state": {
       "description_width": "",
       "font_size": null,
       "text_color": null
      }
     },
     "9025c3210a9747a0b2aca951f62da113": {
      "model_module": "@jupyter-widgets/controls",
      "model_module_version": "2.0.0",
      "model_name": "HTMLModel",
      "state": {
       "layout": "IPY_MODEL_3e66c0fad7be45cf8fca75f56ad0948d",
       "style": "IPY_MODEL_ec60e8cea57a46669e1967bd31e06808",
       "value": " 63354/63359 [06:02&lt;00:00, 174.33it/s]"
      }
     },
     "905da4775dd147e2b0dbfc0537acb065": {
      "model_module": "@jupyter-widgets/controls",
      "model_module_version": "2.0.0",
      "model_name": "ProgressStyleModel",
      "state": {
       "description_width": ""
      }
     },
     "9062993a71564d37a82151188ad2e368": {
      "model_module": "@jupyter-widgets/controls",
      "model_module_version": "2.0.0",
      "model_name": "HTMLStyleModel",
      "state": {
       "description_width": "",
       "font_size": null,
       "text_color": null
      }
     },
     "908f9b1c5cea46eaaaecca76e0ed068c": {
      "model_module": "@jupyter-widgets/base",
      "model_module_version": "2.0.0",
      "model_name": "LayoutModel",
      "state": {}
     },
     "909c3c50f3d54c46a3f47b8560ca32df": {
      "model_module": "@jupyter-widgets/controls",
      "model_module_version": "2.0.0",
      "model_name": "ProgressStyleModel",
      "state": {
       "description_width": ""
      }
     },
     "90b2b5d2e2db496f94a4389edfeb6ab3": {
      "model_module": "@jupyter-widgets/controls",
      "model_module_version": "2.0.0",
      "model_name": "FloatProgressModel",
      "state": {
       "layout": "IPY_MODEL_7256121f998f48c78a64ab23d3b2b42c",
       "max": 63359,
       "style": "IPY_MODEL_8a87963a6ee645c2a04633646f3caaa6",
       "value": 63359
      }
     },
     "90f1f69d4a9141669a18af6c8c95c7db": {
      "model_module": "@jupyter-widgets/controls",
      "model_module_version": "2.0.0",
      "model_name": "FloatProgressModel",
      "state": {
       "layout": "IPY_MODEL_6c4e979d608b4adfa9fe850cc0c34fc0",
       "max": 63359,
       "style": "IPY_MODEL_905da4775dd147e2b0dbfc0537acb065",
       "value": 63359
      }
     },
     "9107a4a8454d45d9bd9b3e0a9d7f9cab": {
      "model_module": "@jupyter-widgets/controls",
      "model_module_version": "2.0.0",
      "model_name": "FloatProgressModel",
      "state": {
       "layout": "IPY_MODEL_d86cf244ad93499b9d1753ed5377a185",
       "max": 63359,
       "style": "IPY_MODEL_4e7f85bc948645b381acef62dbfed672",
       "value": 63359
      }
     },
     "91354e21d8914734b0508f0bd593b2e8": {
      "model_module": "@jupyter-widgets/controls",
      "model_module_version": "2.0.0",
      "model_name": "ProgressStyleModel",
      "state": {
       "description_width": ""
      }
     },
     "917c6c3becff4dca9681e93223af97ef": {
      "model_module": "@jupyter-widgets/controls",
      "model_module_version": "2.0.0",
      "model_name": "FloatProgressModel",
      "state": {
       "layout": "IPY_MODEL_e2aef045fc20446a846d6b1defb0b6de",
       "max": 63359,
       "style": "IPY_MODEL_0e02c9bf100e41188fbd096f772c260a",
       "value": 63359
      }
     },
     "9189f710862c450a80c83f99a16729da": {
      "model_module": "@jupyter-widgets/controls",
      "model_module_version": "2.0.0",
      "model_name": "HTMLStyleModel",
      "state": {
       "description_width": "",
       "font_size": null,
       "text_color": null
      }
     },
     "919ff60b6e2543679471c89a0ad885ae": {
      "model_module": "@jupyter-widgets/base",
      "model_module_version": "2.0.0",
      "model_name": "LayoutModel",
      "state": {}
     },
     "91c029f37b4c4ec9a5f42f9452ce324c": {
      "model_module": "@jupyter-widgets/controls",
      "model_module_version": "2.0.0",
      "model_name": "HTMLStyleModel",
      "state": {
       "description_width": "",
       "font_size": null,
       "text_color": null
      }
     },
     "91db976ecbf6478b94736f0c7c168150": {
      "model_module": "@jupyter-widgets/base",
      "model_module_version": "2.0.0",
      "model_name": "LayoutModel",
      "state": {
       "visibility": "hidden"
      }
     },
     "920d99e9e29e4c80bde50931c6ee2ebf": {
      "model_module": "@jupyter-widgets/controls",
      "model_module_version": "2.0.0",
      "model_name": "HTMLStyleModel",
      "state": {
       "description_width": "",
       "font_size": null,
       "text_color": null
      }
     },
     "921319eda72f429fa9dd2cf54b4a72ec": {
      "model_module": "@jupyter-widgets/base",
      "model_module_version": "2.0.0",
      "model_name": "LayoutModel",
      "state": {}
     },
     "92231b4d8cfd44abb71631237c949ab9": {
      "model_module": "@jupyter-widgets/controls",
      "model_module_version": "2.0.0",
      "model_name": "ProgressStyleModel",
      "state": {
       "description_width": ""
      }
     },
     "922584e9e82144318b0b97a8432a76e7": {
      "model_module": "@jupyter-widgets/controls",
      "model_module_version": "2.0.0",
      "model_name": "HTMLModel",
      "state": {
       "layout": "IPY_MODEL_6ba6b8c488fa42beab47ca8e6e292ec4",
       "style": "IPY_MODEL_cad41cd0f48b4d78a6a89bcec9caaa3d",
       "value": "100%"
      }
     },
     "923dd8b1367e4766aa6c29af8bf02f22": {
      "model_module": "@jupyter-widgets/base",
      "model_module_version": "2.0.0",
      "model_name": "LayoutModel",
      "state": {}
     },
     "924c401b5d2c47029e92385216d75069": {
      "model_module": "@jupyter-widgets/controls",
      "model_module_version": "2.0.0",
      "model_name": "FloatProgressModel",
      "state": {
       "layout": "IPY_MODEL_1ec3f225bda94f64ac8b3551e65622d5",
       "max": 63359,
       "style": "IPY_MODEL_597934ed57714e11a4925b3b94fa5f98",
       "value": 63359
      }
     },
     "9253f6869c71428e88a6809ca4209fcf": {
      "model_module": "@jupyter-widgets/base",
      "model_module_version": "2.0.0",
      "model_name": "LayoutModel",
      "state": {}
     },
     "925d5ad9ebb1467bb5d12728734e0711": {
      "model_module": "@jupyter-widgets/controls",
      "model_module_version": "2.0.0",
      "model_name": "ProgressStyleModel",
      "state": {
       "description_width": ""
      }
     },
     "927ed057e568459082c3429f2514aa25": {
      "model_module": "@jupyter-widgets/base",
      "model_module_version": "2.0.0",
      "model_name": "LayoutModel",
      "state": {}
     },
     "92b7088122e844ec99408e140b0b0337": {
      "model_module": "@jupyter-widgets/controls",
      "model_module_version": "2.0.0",
      "model_name": "FloatProgressModel",
      "state": {
       "layout": "IPY_MODEL_4f88b588ea85449dba5be1f113cb17ca",
       "max": 63359,
       "style": "IPY_MODEL_05573257d50c4f0888de2b9ceae348cf",
       "value": 63359
      }
     },
     "92c506cef78942deb8dde9ca3371a2c5": {
      "model_module": "@jupyter-widgets/base",
      "model_module_version": "2.0.0",
      "model_name": "LayoutModel",
      "state": {}
     },
     "931d1e0d02ba4b6b88b56c9797f57546": {
      "model_module": "@jupyter-widgets/base",
      "model_module_version": "2.0.0",
      "model_name": "LayoutModel",
      "state": {}
     },
     "93253b8ef2354f6797cfb16a4bb7df1e": {
      "model_module": "@jupyter-widgets/base",
      "model_module_version": "2.0.0",
      "model_name": "LayoutModel",
      "state": {
       "visibility": "hidden"
      }
     },
     "935d1c95c17d49689c0120848f738c1e": {
      "model_module": "@jupyter-widgets/controls",
      "model_module_version": "2.0.0",
      "model_name": "FloatProgressModel",
      "state": {
       "layout": "IPY_MODEL_6cde6fdc0d734900a6e2633b3cc6f8f3",
       "max": 63359,
       "style": "IPY_MODEL_59a1f6b83ab74c4b85a9cc7015284133",
       "value": 63359
      }
     },
     "9366917e189d411b8a2540f21d29fd26": {
      "model_module": "@jupyter-widgets/controls",
      "model_module_version": "2.0.0",
      "model_name": "HTMLModel",
      "state": {
       "layout": "IPY_MODEL_80ca071942d64f888ef79d6ebc27e8a9",
       "style": "IPY_MODEL_6c880b4c23304c87b67df10dc58bd632",
       "value": " 63343/63359 [05:50&lt;00:00, 179.33it/s]"
      }
     },
     "9399f8193741441d88e1c6581c2421f7": {
      "model_module": "@jupyter-widgets/controls",
      "model_module_version": "2.0.0",
      "model_name": "HTMLStyleModel",
      "state": {
       "description_width": "",
       "font_size": null,
       "text_color": null
      }
     },
     "93be9c6551ed494d9129238d05e0e3cb": {
      "model_module": "@jupyter-widgets/controls",
      "model_module_version": "2.0.0",
      "model_name": "HTMLStyleModel",
      "state": {
       "description_width": "",
       "font_size": null,
       "text_color": null
      }
     },
     "93dde350cf0949309fb431b05d4188eb": {
      "model_module": "@jupyter-widgets/controls",
      "model_module_version": "2.0.0",
      "model_name": "HTMLStyleModel",
      "state": {
       "description_width": "",
       "font_size": null,
       "text_color": null
      }
     },
     "94062f828df74f6190f7ce849ccc5cc0": {
      "model_module": "@jupyter-widgets/base",
      "model_module_version": "2.0.0",
      "model_name": "LayoutModel",
      "state": {}
     },
     "942505f18833400a835fac04b1013741": {
      "model_module": "@jupyter-widgets/controls",
      "model_module_version": "2.0.0",
      "model_name": "HTMLStyleModel",
      "state": {
       "description_width": "",
       "font_size": null,
       "text_color": null
      }
     },
     "94382b08f7474359b93267b60e11b729": {
      "model_module": "@jupyter-widgets/base",
      "model_module_version": "2.0.0",
      "model_name": "LayoutModel",
      "state": {}
     },
     "9490441fe570476184069bea1ae1ac3b": {
      "model_module": "@jupyter-widgets/controls",
      "model_module_version": "2.0.0",
      "model_name": "ProgressStyleModel",
      "state": {
       "description_width": ""
      }
     },
     "94f371a15d604ebbbb64211f6e5895ba": {
      "model_module": "@jupyter-widgets/controls",
      "model_module_version": "2.0.0",
      "model_name": "FloatProgressModel",
      "state": {
       "layout": "IPY_MODEL_3f2b74826da44ba2b80a2f0681d16708",
       "max": 63359,
       "style": "IPY_MODEL_24106ea272b64772a66c03ab766e2f73",
       "value": 63359
      }
     },
     "94fda3c585cc42a8896a80c0cb3a2435": {
      "model_module": "@jupyter-widgets/base",
      "model_module_version": "2.0.0",
      "model_name": "LayoutModel",
      "state": {}
     },
     "9511b060404545cc9f9d231ad33bd0e7": {
      "model_module": "@jupyter-widgets/base",
      "model_module_version": "2.0.0",
      "model_name": "LayoutModel",
      "state": {}
     },
     "9540fbf2728b4a0ea6c6ec7d195bb871": {
      "model_module": "@jupyter-widgets/base",
      "model_module_version": "2.0.0",
      "model_name": "LayoutModel",
      "state": {}
     },
     "958bffda60be4fe7a2dd94c0d7c5ef64": {
      "model_module": "@jupyter-widgets/controls",
      "model_module_version": "2.0.0",
      "model_name": "ProgressStyleModel",
      "state": {
       "description_width": ""
      }
     },
     "95a6f569e3ca40c0b4fbf5b625dd10ea": {
      "model_module": "@jupyter-widgets/controls",
      "model_module_version": "2.0.0",
      "model_name": "HTMLModel",
      "state": {
       "layout": "IPY_MODEL_2a6c4ef373464a4ca40b01d73198e3be",
       "style": "IPY_MODEL_b397c706df2945559d21265a81ddf959",
       "value": "100%"
      }
     },
     "95e9818cb62d47fbb1a4fe76a950cdd3": {
      "model_module": "@jupyter-widgets/controls",
      "model_module_version": "2.0.0",
      "model_name": "HTMLModel",
      "state": {
       "layout": "IPY_MODEL_0010c191cf8041f8a1f51fd205d282c7",
       "style": "IPY_MODEL_b11d2bd3b7cd407a9c7ba8508ce2d60b",
       "value": " 63350/63359 [05:53&lt;00:00, 180.40it/s]"
      }
     },
     "96293217a8254187820f8b2dd23b11ce": {
      "model_module": "@jupyter-widgets/controls",
      "model_module_version": "2.0.0",
      "model_name": "HTMLStyleModel",
      "state": {
       "description_width": "",
       "font_size": null,
       "text_color": null
      }
     },
     "96674fe6ca084e39af785c057320c2ae": {
      "model_module": "@jupyter-widgets/base",
      "model_module_version": "2.0.0",
      "model_name": "LayoutModel",
      "state": {}
     },
     "966b69129b7d4417a49a3a8b6fbef954": {
      "model_module": "@jupyter-widgets/base",
      "model_module_version": "2.0.0",
      "model_name": "LayoutModel",
      "state": {}
     },
     "96a88916a2474e7ea6cecf5e90238ceb": {
      "model_module": "@jupyter-widgets/controls",
      "model_module_version": "2.0.0",
      "model_name": "HTMLStyleModel",
      "state": {
       "description_width": "",
       "font_size": null,
       "text_color": null
      }
     },
     "96afda218b3048f78a91da8bc2e79b97": {
      "model_module": "@jupyter-widgets/base",
      "model_module_version": "2.0.0",
      "model_name": "LayoutModel",
      "state": {
       "visibility": "hidden"
      }
     },
     "96ece563c0364dd7baf784e24764140d": {
      "model_module": "@jupyter-widgets/controls",
      "model_module_version": "2.0.0",
      "model_name": "FloatProgressModel",
      "state": {
       "layout": "IPY_MODEL_259e4fbcd76049e0aec7bed22efd81ec",
       "max": 63359,
       "style": "IPY_MODEL_a35502fe19934854956b6bdb6d6e4357",
       "value": 63359
      }
     },
     "96ee9aad1ec740488ff371b20eadd71d": {
      "model_module": "@jupyter-widgets/controls",
      "model_module_version": "2.0.0",
      "model_name": "HTMLStyleModel",
      "state": {
       "description_width": "",
       "font_size": null,
       "text_color": null
      }
     },
     "97435f44d5174f7583791c750b49afd6": {
      "model_module": "@jupyter-widgets/controls",
      "model_module_version": "2.0.0",
      "model_name": "HTMLModel",
      "state": {
       "layout": "IPY_MODEL_6ff2c5d9f20f47be9be41a8dc3153483",
       "style": "IPY_MODEL_64e94e0d416a4761a310e1fd8c6f7a60",
       "value": "100%"
      }
     },
     "97a0dd8960fe43b585fbbf5e27b0f4a8": {
      "model_module": "@jupyter-widgets/controls",
      "model_module_version": "2.0.0",
      "model_name": "FloatProgressModel",
      "state": {
       "layout": "IPY_MODEL_0a614c64abec4c5ab68882640466c20a",
       "max": 63359,
       "style": "IPY_MODEL_cd89d66734984408889ed2503808e9ab",
       "value": 63359
      }
     },
     "97bd665afceb4f7aa0ab5d5e8d77b159": {
      "model_module": "@jupyter-widgets/controls",
      "model_module_version": "2.0.0",
      "model_name": "HTMLStyleModel",
      "state": {
       "description_width": "",
       "font_size": null,
       "text_color": null
      }
     },
     "97cb1be562784cd39b6eebc32228fd98": {
      "model_module": "@jupyter-widgets/controls",
      "model_module_version": "2.0.0",
      "model_name": "HTMLModel",
      "state": {
       "layout": "IPY_MODEL_8cfd6f4568bb452d8735505046e339a6",
       "style": "IPY_MODEL_2526ac8c753b4b50a3cd371a5bb4b42a",
       "value": " 63355/63359 [06:02&lt;00:00, 174.35it/s]"
      }
     },
     "97d981f7a1ff4df68cec8fbf36e9f9f4": {
      "model_module": "@jupyter-widgets/controls",
      "model_module_version": "2.0.0",
      "model_name": "HTMLStyleModel",
      "state": {
       "description_width": "",
       "font_size": null,
       "text_color": null
      }
     },
     "981ad3e019e34ccaa5b1246dfe771bcc": {
      "model_module": "@jupyter-widgets/controls",
      "model_module_version": "2.0.0",
      "model_name": "HTMLStyleModel",
      "state": {
       "description_width": "",
       "font_size": null,
       "text_color": null
      }
     },
     "982566c1e43b4176a1bade01f867ec5b": {
      "model_module": "@jupyter-widgets/controls",
      "model_module_version": "2.0.0",
      "model_name": "HTMLStyleModel",
      "state": {
       "description_width": "",
       "font_size": null,
       "text_color": null
      }
     },
     "9855ce80075d4d3ba759c8187259fc0c": {
      "model_module": "@jupyter-widgets/base",
      "model_module_version": "2.0.0",
      "model_name": "LayoutModel",
      "state": {
       "visibility": "hidden"
      }
     },
     "989a8b62fabe474a9b1afdf88b6724df": {
      "model_module": "@jupyter-widgets/controls",
      "model_module_version": "2.0.0",
      "model_name": "HTMLModel",
      "state": {
       "layout": "IPY_MODEL_3120337562a14c0f85c7e3e428aa7255",
       "style": "IPY_MODEL_0c6e7bddef55487fabf075702e42ac27",
       "value": "100%"
      }
     },
     "98abda1fde40473a8af9ff78aabc3cdd": {
      "model_module": "@jupyter-widgets/base",
      "model_module_version": "2.0.0",
      "model_name": "LayoutModel",
      "state": {}
     },
     "98d071f44f1548fdb507ea98a5358da3": {
      "model_module": "@jupyter-widgets/base",
      "model_module_version": "2.0.0",
      "model_name": "LayoutModel",
      "state": {
       "visibility": "hidden"
      }
     },
     "98e5f51cd093472498075113f983c908": {
      "model_module": "@jupyter-widgets/base",
      "model_module_version": "2.0.0",
      "model_name": "LayoutModel",
      "state": {
       "visibility": "hidden"
      }
     },
     "98f4de3bdb40419c9e502eabfa9813b9": {
      "model_module": "@jupyter-widgets/controls",
      "model_module_version": "2.0.0",
      "model_name": "HTMLStyleModel",
      "state": {
       "description_width": "",
       "font_size": null,
       "text_color": null
      }
     },
     "990f36edfee54190a7106b01cd2554a5": {
      "model_module": "@jupyter-widgets/controls",
      "model_module_version": "2.0.0",
      "model_name": "FloatProgressModel",
      "state": {
       "layout": "IPY_MODEL_7e9e8b7f216e4e77beb08bc346414d69",
       "max": 63359,
       "style": "IPY_MODEL_089c955f733e4d77a8fc7da70467decd",
       "value": 63359
      }
     },
     "99a5ce36136644e8a367869fbb9f987d": {
      "model_module": "@jupyter-widgets/controls",
      "model_module_version": "2.0.0",
      "model_name": "HTMLModel",
      "state": {
       "layout": "IPY_MODEL_b0913d0e638e4b6abc20dbb83bd963c2",
       "style": "IPY_MODEL_7b6c8faf80084470b7e645760b784088",
       "value": " 63350/63359 [06:05&lt;00:00, 173.74it/s]"
      }
     },
     "9a281ad234ff4ddd9c4d13957b550e4a": {
      "model_module": "@jupyter-widgets/controls",
      "model_module_version": "2.0.0",
      "model_name": "ProgressStyleModel",
      "state": {
       "description_width": ""
      }
     },
     "9a6ff9aa34614ecb82080272a0560ad7": {
      "model_module": "@jupyter-widgets/controls",
      "model_module_version": "2.0.0",
      "model_name": "ProgressStyleModel",
      "state": {
       "description_width": ""
      }
     },
     "9b3a6b226c3344debd6c3fe19fff2a5a": {
      "model_module": "@jupyter-widgets/controls",
      "model_module_version": "2.0.0",
      "model_name": "HTMLStyleModel",
      "state": {
       "description_width": "",
       "font_size": null,
       "text_color": null
      }
     },
     "9b3bd18e5e38455f8736ab44f1a40b26": {
      "model_module": "@jupyter-widgets/controls",
      "model_module_version": "2.0.0",
      "model_name": "HTMLModel",
      "state": {
       "layout": "IPY_MODEL_730266f881334f7fbf8cb6d61556c4c4",
       "style": "IPY_MODEL_9d02ee3fec1e48dabe8f05ecc35a344e",
       "value": " 63359/63359 [06:04&lt;00:00, 173.62it/s]"
      }
     },
     "9b4bf529c9924955ba305c7cb4a435b1": {
      "model_module": "@jupyter-widgets/base",
      "model_module_version": "2.0.0",
      "model_name": "LayoutModel",
      "state": {}
     },
     "9b52e390e95143ecaebc8331bef0de89": {
      "model_module": "@jupyter-widgets/base",
      "model_module_version": "2.0.0",
      "model_name": "LayoutModel",
      "state": {}
     },
     "9b554bb98ddf466ca22787f9ec251458": {
      "model_module": "@jupyter-widgets/controls",
      "model_module_version": "2.0.0",
      "model_name": "HTMLModel",
      "state": {
       "layout": "IPY_MODEL_74813c11475a489985fdeeb3bbaecd13",
       "style": "IPY_MODEL_f981a39483dd4b829f9a3ea9cbc597b1",
       "value": " 63343/63359 [06:06&lt;00:00, 173.09it/s]"
      }
     },
     "9b705fe328aa44b1b62e4092e7275fc3": {
      "model_module": "@jupyter-widgets/controls",
      "model_module_version": "2.0.0",
      "model_name": "ProgressStyleModel",
      "state": {
       "description_width": ""
      }
     },
     "9b7282ab4a1646478259de9eddd7cd9a": {
      "model_module": "@jupyter-widgets/controls",
      "model_module_version": "2.0.0",
      "model_name": "HTMLStyleModel",
      "state": {
       "description_width": "",
       "font_size": null,
       "text_color": null
      }
     },
     "9b93095ef0a4441184e4b150e9f53477": {
      "model_module": "@jupyter-widgets/base",
      "model_module_version": "2.0.0",
      "model_name": "LayoutModel",
      "state": {
       "visibility": "hidden"
      }
     },
     "9bdd3c66e8bb4d40b21ff626cbbc6d18": {
      "model_module": "@jupyter-widgets/base",
      "model_module_version": "2.0.0",
      "model_name": "LayoutModel",
      "state": {}
     },
     "9bfa3d00d0ac449191be584918de2b74": {
      "model_module": "@jupyter-widgets/base",
      "model_module_version": "2.0.0",
      "model_name": "LayoutModel",
      "state": {}
     },
     "9c35638200cc48609ddd3a01f0dede4b": {
      "model_module": "@jupyter-widgets/base",
      "model_module_version": "2.0.0",
      "model_name": "LayoutModel",
      "state": {}
     },
     "9c515b5bcd5f4adb9ededfd847085ff4": {
      "model_module": "@jupyter-widgets/base",
      "model_module_version": "2.0.0",
      "model_name": "LayoutModel",
      "state": {
       "visibility": "hidden"
      }
     },
     "9c527fbb7fc84ea385e6f19dc30b1aba": {
      "model_module": "@jupyter-widgets/base",
      "model_module_version": "2.0.0",
      "model_name": "LayoutModel",
      "state": {}
     },
     "9c5dbf719cd94ec3b40bb36c86907b56": {
      "model_module": "@jupyter-widgets/base",
      "model_module_version": "2.0.0",
      "model_name": "LayoutModel",
      "state": {
       "visibility": "hidden"
      }
     },
     "9c602a95dace46539a1a835aff9e584f": {
      "model_module": "@jupyter-widgets/base",
      "model_module_version": "2.0.0",
      "model_name": "LayoutModel",
      "state": {}
     },
     "9c76e8ffb2c94c7dadca6647c4f4e72f": {
      "model_module": "@jupyter-widgets/controls",
      "model_module_version": "2.0.0",
      "model_name": "HTMLStyleModel",
      "state": {
       "description_width": "",
       "font_size": null,
       "text_color": null
      }
     },
     "9c9d9cdb059d44478f765ab0c3b97d93": {
      "model_module": "@jupyter-widgets/controls",
      "model_module_version": "2.0.0",
      "model_name": "HTMLModel",
      "state": {
       "layout": "IPY_MODEL_9b52e390e95143ecaebc8331bef0de89",
       "style": "IPY_MODEL_d26393318ba641869bff406b05d936b1",
       "value": " 63352/63359 [06:04&lt;00:00, 172.81it/s]"
      }
     },
     "9cb3e248f52e446a950047081f1b8089": {
      "model_module": "@jupyter-widgets/controls",
      "model_module_version": "2.0.0",
      "model_name": "HTMLStyleModel",
      "state": {
       "description_width": "",
       "font_size": null,
       "text_color": null
      }
     },
     "9cf69e77c2004037b25591b924cd7deb": {
      "model_module": "@jupyter-widgets/base",
      "model_module_version": "2.0.0",
      "model_name": "LayoutModel",
      "state": {}
     },
     "9d02ee3fec1e48dabe8f05ecc35a344e": {
      "model_module": "@jupyter-widgets/controls",
      "model_module_version": "2.0.0",
      "model_name": "HTMLStyleModel",
      "state": {
       "description_width": "",
       "font_size": null,
       "text_color": null
      }
     },
     "9d3352c6bcfd4eec90e3a1306ac75dc6": {
      "model_module": "@jupyter-widgets/base",
      "model_module_version": "2.0.0",
      "model_name": "LayoutModel",
      "state": {
       "visibility": "hidden"
      }
     },
     "9d536e05ccb94e39b6496c1522fd624a": {
      "model_module": "@jupyter-widgets/controls",
      "model_module_version": "2.0.0",
      "model_name": "FloatProgressModel",
      "state": {
       "layout": "IPY_MODEL_98abda1fde40473a8af9ff78aabc3cdd",
       "max": 63359,
       "style": "IPY_MODEL_9dba354037394aa39f9a71a23ede7b11",
       "value": 63359
      }
     },
     "9d67f9f85ffd41079174b00535722576": {
      "model_module": "@jupyter-widgets/base",
      "model_module_version": "2.0.0",
      "model_name": "LayoutModel",
      "state": {}
     },
     "9d7120f9eb6e41afa43d7d441e21ba60": {
      "model_module": "@jupyter-widgets/controls",
      "model_module_version": "2.0.0",
      "model_name": "ProgressStyleModel",
      "state": {
       "description_width": ""
      }
     },
     "9d77cd37782140bbbaec72d54fc87c71": {
      "model_module": "@jupyter-widgets/controls",
      "model_module_version": "2.0.0",
      "model_name": "ProgressStyleModel",
      "state": {
       "description_width": ""
      }
     },
     "9d8329de3c0f47abb356df2d4c245f96": {
      "model_module": "@jupyter-widgets/controls",
      "model_module_version": "2.0.0",
      "model_name": "HTMLModel",
      "state": {
       "layout": "IPY_MODEL_b3cc3ea38135432aaf38022180230ea5",
       "style": "IPY_MODEL_e11fbd79b3dc4fc3acbc0846ea7341ab",
       "value": "100%"
      }
     },
     "9dba354037394aa39f9a71a23ede7b11": {
      "model_module": "@jupyter-widgets/controls",
      "model_module_version": "2.0.0",
      "model_name": "ProgressStyleModel",
      "state": {
       "description_width": ""
      }
     },
     "9dcf90ecf3d7465cb7c13f9536ae9b35": {
      "model_module": "@jupyter-widgets/controls",
      "model_module_version": "2.0.0",
      "model_name": "ProgressStyleModel",
      "state": {
       "description_width": ""
      }
     },
     "9ddd4cb4f0b74fdc89ff4b351efbc880": {
      "model_module": "@jupyter-widgets/controls",
      "model_module_version": "2.0.0",
      "model_name": "HTMLStyleModel",
      "state": {
       "description_width": "",
       "font_size": null,
       "text_color": null
      }
     },
     "9e083022be1542b8b2e0ed27e9121f73": {
      "model_module": "@jupyter-widgets/controls",
      "model_module_version": "2.0.0",
      "model_name": "HTMLModel",
      "state": {
       "layout": "IPY_MODEL_44f002360f3c425ea18a5d0ed4901066",
       "style": "IPY_MODEL_cbb6c65577c44840a11313071128e1bb",
       "value": " 63353/63359 [05:51&lt;00:00, 181.92it/s]"
      }
     },
     "9e53f2d8014a4dbc9f75e5dec36b35ce": {
      "model_module": "@jupyter-widgets/controls",
      "model_module_version": "2.0.0",
      "model_name": "FloatProgressModel",
      "state": {
       "layout": "IPY_MODEL_53f064c4a71b40c794fb5b5adf193466",
       "max": 63359,
       "style": "IPY_MODEL_bc812f74c9d644669a07a86f430a07a2",
       "value": 63359
      }
     },
     "9e58a9286e2a47188a41659e2152269f": {
      "model_module": "@jupyter-widgets/controls",
      "model_module_version": "2.0.0",
      "model_name": "HTMLModel",
      "state": {
       "layout": "IPY_MODEL_0cc1d2cb74a943a0a217527913636348",
       "style": "IPY_MODEL_5441b81f094c489786a49ec036aa8024",
       "value": "100%"
      }
     },
     "9e5c5373074745b98a621a7f00b7bbad": {
      "model_module": "@jupyter-widgets/base",
      "model_module_version": "2.0.0",
      "model_name": "LayoutModel",
      "state": {}
     },
     "9ec6c63a6b7a4422a57c36462d092332": {
      "model_module": "@jupyter-widgets/base",
      "model_module_version": "2.0.0",
      "model_name": "LayoutModel",
      "state": {}
     },
     "9ec7e3240b4a4718b375ed52a3faeac0": {
      "model_module": "@jupyter-widgets/base",
      "model_module_version": "2.0.0",
      "model_name": "LayoutModel",
      "state": {}
     },
     "9eded48b1ed34a53953d39b6fd9e7968": {
      "model_module": "@jupyter-widgets/base",
      "model_module_version": "2.0.0",
      "model_name": "LayoutModel",
      "state": {}
     },
     "9eead8352d8640a79a138c595bf94079": {
      "model_module": "@jupyter-widgets/base",
      "model_module_version": "2.0.0",
      "model_name": "LayoutModel",
      "state": {
       "visibility": "hidden"
      }
     },
     "9ef7c40c4e904969ab3bdcf3c8ccaef8": {
      "model_module": "@jupyter-widgets/controls",
      "model_module_version": "2.0.0",
      "model_name": "HTMLModel",
      "state": {
       "layout": "IPY_MODEL_919ff60b6e2543679471c89a0ad885ae",
       "style": "IPY_MODEL_c70a9bda2f79435da38652262fb4dd7b",
       "value": " 63350/63359 [06:14&lt;00:00, 158.88it/s]"
      }
     },
     "9f039f56035c41aeadd4f1916a4297c4": {
      "model_module": "@jupyter-widgets/controls",
      "model_module_version": "2.0.0",
      "model_name": "FloatProgressModel",
      "state": {
       "layout": "IPY_MODEL_04efaa6fed554ae1aad7f862a67ac12c",
       "max": 63359,
       "style": "IPY_MODEL_d61c528ce4744b37b4ce9733d69d622c",
       "value": 63359
      }
     },
     "9f0eb306b3614486a32cf3b29dff9e06": {
      "model_module": "@jupyter-widgets/base",
      "model_module_version": "2.0.0",
      "model_name": "LayoutModel",
      "state": {
       "visibility": "hidden"
      }
     },
     "9f2f38c18a904aef8debee94178eef5e": {
      "model_module": "@jupyter-widgets/controls",
      "model_module_version": "2.0.0",
      "model_name": "FloatProgressModel",
      "state": {
       "layout": "IPY_MODEL_478e0f6c381c46968a41c66bd2bd104f",
       "max": 63359,
       "style": "IPY_MODEL_bf46e8cddc8c4d3e9308a7e7461e6898",
       "value": 63359
      }
     },
     "9f4a3a5ed28d454e8e8d5a46c1a0b656": {
      "model_module": "@jupyter-widgets/controls",
      "model_module_version": "2.0.0",
      "model_name": "HTMLModel",
      "state": {
       "layout": "IPY_MODEL_2dd228c4e7c34d0086954cd2d2113daa",
       "style": "IPY_MODEL_25c9588f109c4548ac9660b8c9c82aa5",
       "value": " 63350/63359 [06:08&lt;00:00, 172.69it/s]"
      }
     },
     "9f4b093e8cce4c0d9bec46a1612715fc": {
      "model_module": "@jupyter-widgets/base",
      "model_module_version": "2.0.0",
      "model_name": "LayoutModel",
      "state": {}
     },
     "9f4e4b2320db4b4685b1517835180fdd": {
      "model_module": "@jupyter-widgets/controls",
      "model_module_version": "2.0.0",
      "model_name": "HTMLModel",
      "state": {
       "layout": "IPY_MODEL_206520bc268741d2bb6ae39fe8fd9c46",
       "style": "IPY_MODEL_81d91fda9a6444c68992b3e7f0c89a42",
       "value": " 63350/63359 [06:06&lt;00:00, 173.24it/s]"
      }
     },
     "9f4e750fb1884cb19d46790b0e5b1cf6": {
      "model_module": "@jupyter-widgets/base",
      "model_module_version": "2.0.0",
      "model_name": "LayoutModel",
      "state": {}
     },
     "9fa19d78b9924310aaab781b7336bad7": {
      "model_module": "@jupyter-widgets/base",
      "model_module_version": "2.0.0",
      "model_name": "LayoutModel",
      "state": {}
     },
     "9fb7422dc65f4572bac2db4094c0c1ec": {
      "model_module": "@jupyter-widgets/base",
      "model_module_version": "2.0.0",
      "model_name": "LayoutModel",
      "state": {}
     },
     "9fcf71c9df65415c8815e5edfefb1357": {
      "model_module": "@jupyter-widgets/base",
      "model_module_version": "2.0.0",
      "model_name": "LayoutModel",
      "state": {}
     },
     "9fe616c6918749b280b4e1a630925935": {
      "model_module": "@jupyter-widgets/controls",
      "model_module_version": "2.0.0",
      "model_name": "HTMLStyleModel",
      "state": {
       "description_width": "",
       "font_size": null,
       "text_color": null
      }
     },
     "a05b420cdcb94a8ca7784fc9cc095d45": {
      "model_module": "@jupyter-widgets/base",
      "model_module_version": "2.0.0",
      "model_name": "LayoutModel",
      "state": {}
     },
     "a0699edec9694cd88bf8ecb51dcf832b": {
      "model_module": "@jupyter-widgets/controls",
      "model_module_version": "2.0.0",
      "model_name": "HTMLStyleModel",
      "state": {
       "description_width": "",
       "font_size": null,
       "text_color": null
      }
     },
     "a08a94de0e2d4ae6b619f8fe2b924188": {
      "model_module": "@jupyter-widgets/base",
      "model_module_version": "2.0.0",
      "model_name": "LayoutModel",
      "state": {}
     },
     "a0b21c3359e54eee8b2cc42519a6a542": {
      "model_module": "@jupyter-widgets/base",
      "model_module_version": "2.0.0",
      "model_name": "LayoutModel",
      "state": {
       "visibility": "hidden"
      }
     },
     "a0ccbed6480f412584be97017194d44d": {
      "model_module": "@jupyter-widgets/base",
      "model_module_version": "2.0.0",
      "model_name": "LayoutModel",
      "state": {
       "visibility": "hidden"
      }
     },
     "a0cff53c71a8429985f8897f5d977a95": {
      "model_module": "@jupyter-widgets/controls",
      "model_module_version": "2.0.0",
      "model_name": "HTMLModel",
      "state": {
       "layout": "IPY_MODEL_cbdf7d5d9e3e4111bc0318150c841eb8",
       "style": "IPY_MODEL_b6c23541898e4246896c3f9884de447a",
       "value": " 63348/63359 [06:03&lt;00:00, 176.36it/s]"
      }
     },
     "a12b1e43f98b4240ada4c604197662ce": {
      "model_module": "@jupyter-widgets/base",
      "model_module_version": "2.0.0",
      "model_name": "LayoutModel",
      "state": {}
     },
     "a12bef345cfe4166b53b76d5af0c8d70": {
      "model_module": "@jupyter-widgets/controls",
      "model_module_version": "2.0.0",
      "model_name": "HTMLStyleModel",
      "state": {
       "description_width": "",
       "font_size": null,
       "text_color": null
      }
     },
     "a15dd2467281475e8f3f3af4b878a814": {
      "model_module": "@jupyter-widgets/controls",
      "model_module_version": "2.0.0",
      "model_name": "HTMLModel",
      "state": {
       "layout": "IPY_MODEL_b34065d4ba7944c085ac21c96f8d174e",
       "style": "IPY_MODEL_aa2e26697d5e462ead319da89d9343ca",
       "value": "100%"
      }
     },
     "a17d4efcfa2642efbfc126b6f82ce3fd": {
      "model_module": "@jupyter-widgets/controls",
      "model_module_version": "2.0.0",
      "model_name": "FloatProgressModel",
      "state": {
       "layout": "IPY_MODEL_683db3f8d2b345b7aa23d397714ff425",
       "max": 63359,
       "style": "IPY_MODEL_1a0bf5f7b5e34b7f858fb8dadda77b08",
       "value": 63359
      }
     },
     "a1d2096af1804599968a138f9161e7f7": {
      "model_module": "@jupyter-widgets/controls",
      "model_module_version": "2.0.0",
      "model_name": "HTMLStyleModel",
      "state": {
       "description_width": "",
       "font_size": null,
       "text_color": null
      }
     },
     "a1d684281a4140eb8706611a5b91c92d": {
      "model_module": "@jupyter-widgets/controls",
      "model_module_version": "2.0.0",
      "model_name": "ProgressStyleModel",
      "state": {
       "description_width": ""
      }
     },
     "a2599cbdd2db45e5bd9deb986c7cca5c": {
      "model_module": "@jupyter-widgets/base",
      "model_module_version": "2.0.0",
      "model_name": "LayoutModel",
      "state": {
       "visibility": "hidden"
      }
     },
     "a2d7365bc3874e0e9f8e753de3877305": {
      "model_module": "@jupyter-widgets/controls",
      "model_module_version": "2.0.0",
      "model_name": "HTMLStyleModel",
      "state": {
       "description_width": "",
       "font_size": null,
       "text_color": null
      }
     },
     "a2ef5a1ae34440b699b8929ba8af1372": {
      "model_module": "@jupyter-widgets/base",
      "model_module_version": "2.0.0",
      "model_name": "LayoutModel",
      "state": {
       "visibility": "hidden"
      }
     },
     "a2f0de7c9c2648f0911d4424877a2e46": {
      "model_module": "@jupyter-widgets/base",
      "model_module_version": "2.0.0",
      "model_name": "LayoutModel",
      "state": {}
     },
     "a2f22842df61477ba1f01a8c782be7e0": {
      "model_module": "@jupyter-widgets/controls",
      "model_module_version": "2.0.0",
      "model_name": "HTMLModel",
      "state": {
       "layout": "IPY_MODEL_eb4c76b6ca684a5cbc0a9b6301c57c18",
       "style": "IPY_MODEL_fb921bf7dfb34f708f3b14d8f947ed35",
       "value": " 63352/63359 [06:01&lt;00:00, 175.58it/s]"
      }
     },
     "a34813d39e3b4618bc47c7d498999922": {
      "model_module": "@jupyter-widgets/base",
      "model_module_version": "2.0.0",
      "model_name": "LayoutModel",
      "state": {}
     },
     "a35502fe19934854956b6bdb6d6e4357": {
      "model_module": "@jupyter-widgets/controls",
      "model_module_version": "2.0.0",
      "model_name": "ProgressStyleModel",
      "state": {
       "description_width": ""
      }
     },
     "a35dff7d6902471f8c78c4b6f291f8f7": {
      "model_module": "@jupyter-widgets/base",
      "model_module_version": "2.0.0",
      "model_name": "LayoutModel",
      "state": {}
     },
     "a37cca32503148d7866afb97424e666e": {
      "model_module": "@jupyter-widgets/controls",
      "model_module_version": "2.0.0",
      "model_name": "FloatProgressModel",
      "state": {
       "layout": "IPY_MODEL_7700efbffb84461d8f5478cbbd5a8730",
       "max": 63359,
       "style": "IPY_MODEL_cfc2fb198c144800afac918e975946ba",
       "value": 63359
      }
     },
     "a396e5778d9146a69d99815f32b78f87": {
      "model_module": "@jupyter-widgets/base",
      "model_module_version": "2.0.0",
      "model_name": "LayoutModel",
      "state": {
       "visibility": "hidden"
      }
     },
     "a3ac4f6e22ca4c7a92becb331e6a88f4": {
      "model_module": "@jupyter-widgets/base",
      "model_module_version": "2.0.0",
      "model_name": "LayoutModel",
      "state": {
       "visibility": "hidden"
      }
     },
     "a3cf43c5235f4180a848b676d0d29f4a": {
      "model_module": "@jupyter-widgets/controls",
      "model_module_version": "2.0.0",
      "model_name": "FloatProgressModel",
      "state": {
       "layout": "IPY_MODEL_5d02fa469b8e46cc84f6fa15c39556f1",
       "max": 63359,
       "style": "IPY_MODEL_4a15d60bb2384a3e80287e60701bf563",
       "value": 63359
      }
     },
     "a3d5b71bb9c44cd0971a22c8a30c0a52": {
      "model_module": "@jupyter-widgets/controls",
      "model_module_version": "2.0.0",
      "model_name": "ProgressStyleModel",
      "state": {
       "description_width": ""
      }
     },
     "a3d99c092afa4583bdca29e9b98a4e1d": {
      "model_module": "@jupyter-widgets/base",
      "model_module_version": "2.0.0",
      "model_name": "LayoutModel",
      "state": {}
     },
     "a45d7a3221154170a477749e5e7e3d07": {
      "model_module": "@jupyter-widgets/base",
      "model_module_version": "2.0.0",
      "model_name": "LayoutModel",
      "state": {}
     },
     "a4624a8e765544e28da1bd73a650b0f4": {
      "model_module": "@jupyter-widgets/controls",
      "model_module_version": "2.0.0",
      "model_name": "HTMLModel",
      "state": {
       "layout": "IPY_MODEL_8236fc11e977437e82e5a25e787fedb7",
       "style": "IPY_MODEL_4a71e0f448bb49b3bb6e022a7f7b4f3d",
       "value": "100%"
      }
     },
     "a493f7f91a06417691629ac3357ab517": {
      "model_module": "@jupyter-widgets/controls",
      "model_module_version": "2.0.0",
      "model_name": "HTMLModel",
      "state": {
       "layout": "IPY_MODEL_b721e873edee4a34a93f81600d76ae4f",
       "style": "IPY_MODEL_4c3331666c8143bb8b46cef394229656",
       "value": "100%"
      }
     },
     "a4c6e45be7e24857b99c78db57d62d8c": {
      "model_module": "@jupyter-widgets/base",
      "model_module_version": "2.0.0",
      "model_name": "LayoutModel",
      "state": {}
     },
     "a4ddeab1c3ab4fcc97aec451e8468814": {
      "model_module": "@jupyter-widgets/base",
      "model_module_version": "2.0.0",
      "model_name": "LayoutModel",
      "state": {}
     },
     "a4e38634fbb24efbb8e3931026c59202": {
      "model_module": "@jupyter-widgets/controls",
      "model_module_version": "2.0.0",
      "model_name": "HTMLModel",
      "state": {
       "layout": "IPY_MODEL_8a9f66ad7bdf4a268404c8bea1c21a40",
       "style": "IPY_MODEL_f07b8a0fdac24618b5a6f6efef4f29af",
       "value": "100%"
      }
     },
     "a51243c30e7b4fc0ae02bd966198cd1c": {
      "model_module": "@jupyter-widgets/controls",
      "model_module_version": "2.0.0",
      "model_name": "HTMLStyleModel",
      "state": {
       "description_width": "",
       "font_size": null,
       "text_color": null
      }
     },
     "a5162b58a572422baf7acb0c43da67de": {
      "model_module": "@jupyter-widgets/controls",
      "model_module_version": "2.0.0",
      "model_name": "HTMLStyleModel",
      "state": {
       "description_width": "",
       "font_size": null,
       "text_color": null
      }
     },
     "a53a9df01537454ab263b64952c1b03d": {
      "model_module": "@jupyter-widgets/controls",
      "model_module_version": "2.0.0",
      "model_name": "HTMLStyleModel",
      "state": {
       "description_width": "",
       "font_size": null,
       "text_color": null
      }
     },
     "a559aa3532c844ae94c60ad41d596edd": {
      "model_module": "@jupyter-widgets/base",
      "model_module_version": "2.0.0",
      "model_name": "LayoutModel",
      "state": {}
     },
     "a56512868ff44beeb75d8f79d970ad8a": {
      "model_module": "@jupyter-widgets/base",
      "model_module_version": "2.0.0",
      "model_name": "LayoutModel",
      "state": {}
     },
     "a57177aacb034b32b948d6bd2ba6cb89": {
      "model_module": "@jupyter-widgets/controls",
      "model_module_version": "2.0.0",
      "model_name": "HTMLStyleModel",
      "state": {
       "description_width": "",
       "font_size": null,
       "text_color": null
      }
     },
     "a57b642a79a14379b5182f713daf7896": {
      "model_module": "@jupyter-widgets/controls",
      "model_module_version": "2.0.0",
      "model_name": "FloatProgressModel",
      "state": {
       "layout": "IPY_MODEL_5b9ab741c6da421bbd2a8fe8408f291f",
       "max": 63359,
       "style": "IPY_MODEL_26442f2c56d041feb003832528febfd4",
       "value": 63359
      }
     },
     "a5ed18766dac42d9a1102ceb4ff09bc9": {
      "model_module": "@jupyter-widgets/controls",
      "model_module_version": "2.0.0",
      "model_name": "HTMLModel",
      "state": {
       "layout": "IPY_MODEL_ebfc684bcd574336be26e0856b2cb5ab",
       "style": "IPY_MODEL_456b243f7df74d5d9b3fb44a773cf61b",
       "value": "100%"
      }
     },
     "a61192df641d4bb8bbd327c9a23a6acf": {
      "model_module": "@jupyter-widgets/controls",
      "model_module_version": "2.0.0",
      "model_name": "HTMLModel",
      "state": {
       "layout": "IPY_MODEL_f04098b516754e4cb196c6d3888e218f",
       "style": "IPY_MODEL_73611d6207b14782852adb183fdb49b6",
       "value": "100%"
      }
     },
     "a6170674765d4ca2bde2748ecc9a16f0": {
      "model_module": "@jupyter-widgets/base",
      "model_module_version": "2.0.0",
      "model_name": "LayoutModel",
      "state": {}
     },
     "a62e86b2421a40eeac8e78f038cc0013": {
      "model_module": "@jupyter-widgets/base",
      "model_module_version": "2.0.0",
      "model_name": "LayoutModel",
      "state": {
       "visibility": "hidden"
      }
     },
     "a63f448c26b7453d85f36fd9bbcc5089": {
      "model_module": "@jupyter-widgets/controls",
      "model_module_version": "2.0.0",
      "model_name": "HTMLStyleModel",
      "state": {
       "description_width": "",
       "font_size": null,
       "text_color": null
      }
     },
     "a67e0a0c4b174a1ea8829d6af781c94e": {
      "model_module": "@jupyter-widgets/controls",
      "model_module_version": "2.0.0",
      "model_name": "HTMLModel",
      "state": {
       "layout": "IPY_MODEL_04a06b539d1b4c9988a1a0b01a78da66",
       "style": "IPY_MODEL_d05397f751814aa7a9608fbc9e275863",
       "value": "100%"
      }
     },
     "a6d9480d2bb24a80b2ba855097a8da1f": {
      "model_module": "@jupyter-widgets/base",
      "model_module_version": "2.0.0",
      "model_name": "LayoutModel",
      "state": {}
     },
     "a703fba1db064eb5ab112bb4e6473ef7": {
      "model_module": "@jupyter-widgets/controls",
      "model_module_version": "2.0.0",
      "model_name": "HTMLModel",
      "state": {
       "layout": "IPY_MODEL_ff330c484de94b61824438dc6ef60eed",
       "style": "IPY_MODEL_0defd7f65ec64340b3899ad272f29904",
       "value": " 63343/63359 [05:57&lt;00:00, 174.92it/s]"
      }
     },
     "a721685f7d1a4019bafcee3946d9f475": {
      "model_module": "@jupyter-widgets/base",
      "model_module_version": "2.0.0",
      "model_name": "LayoutModel",
      "state": {}
     },
     "a7223342cb6b44b1889375125e458858": {
      "model_module": "@jupyter-widgets/controls",
      "model_module_version": "2.0.0",
      "model_name": "HTMLStyleModel",
      "state": {
       "description_width": "",
       "font_size": null,
       "text_color": null
      }
     },
     "a72c1475e8cd400ea7e0aa0170e04b5f": {
      "model_module": "@jupyter-widgets/controls",
      "model_module_version": "2.0.0",
      "model_name": "HTMLModel",
      "state": {
       "layout": "IPY_MODEL_307187cac84b4647b437d371c60b0517",
       "style": "IPY_MODEL_5eae632e9b234233874b2352c350148b",
       "value": "100%"
      }
     },
     "a74a36ee2899428aa11feadebb780b38": {
      "model_module": "@jupyter-widgets/controls",
      "model_module_version": "2.0.0",
      "model_name": "HTMLModel",
      "state": {
       "layout": "IPY_MODEL_b26edfb0a80c40628e4691ad6464c6db",
       "style": "IPY_MODEL_b08780777aca44698255c4dbca5a6c0f",
       "value": " 63345/63359 [05:51&lt;00:00, 182.69it/s]"
      }
     },
     "a75551ff4fec414ebac14caab2fad7c4": {
      "model_module": "@jupyter-widgets/controls",
      "model_module_version": "2.0.0",
      "model_name": "HTMLModel",
      "state": {
       "layout": "IPY_MODEL_0aab2eb96c854401913d0ce86cecbe29",
       "style": "IPY_MODEL_5f89ee501cae40dbb7a3985c0a3e5837",
       "value": "100%"
      }
     },
     "a7ed6de0ede345da9739930a8fcda22f": {
      "model_module": "@jupyter-widgets/controls",
      "model_module_version": "2.0.0",
      "model_name": "HTMLModel",
      "state": {
       "layout": "IPY_MODEL_57d5c099d96d4d46b35479df1c4ffa04",
       "style": "IPY_MODEL_1ce304c03852418db4a6dddb4200f5a6",
       "value": "100%"
      }
     },
     "a7f371befbfc48e497a9428ccf276505": {
      "model_module": "@jupyter-widgets/controls",
      "model_module_version": "2.0.0",
      "model_name": "HTMLModel",
      "state": {
       "layout": "IPY_MODEL_1b75946158ff4eb6be50dacb9860e05d",
       "style": "IPY_MODEL_1624ca810210440b88faf1f6902acba0",
       "value": " 63348/63359 [06:09&lt;00:00, 169.95it/s]"
      }
     },
     "a819531810654c1f90a406f4839a3407": {
      "model_module": "@jupyter-widgets/controls",
      "model_module_version": "2.0.0",
      "model_name": "FloatProgressModel",
      "state": {
       "layout": "IPY_MODEL_352ecbbb40494c8680d2bd583d64a022",
       "max": 63359,
       "style": "IPY_MODEL_6aa7f0a97d8c4eb98d34c77116418b90",
       "value": 63359
      }
     },
     "a837106f84b14cc68ad8e65fcff704e4": {
      "model_module": "@jupyter-widgets/controls",
      "model_module_version": "2.0.0",
      "model_name": "HTMLModel",
      "state": {
       "layout": "IPY_MODEL_3364f90e97fd4789a20acf419f250107",
       "style": "IPY_MODEL_de51db91dc3b4a6a8a2e7f3fa4370e28",
       "value": " 63350/63359 [06:15&lt;00:00, 173.29it/s]"
      }
     },
     "a8489a98215f4ce5b4ea9188966f018a": {
      "model_module": "@jupyter-widgets/base",
      "model_module_version": "2.0.0",
      "model_name": "LayoutModel",
      "state": {
       "visibility": "hidden"
      }
     },
     "a860d8ae6b3d41c192a6b663ccb5ba8a": {
      "model_module": "@jupyter-widgets/controls",
      "model_module_version": "2.0.0",
      "model_name": "HTMLStyleModel",
      "state": {
       "description_width": "",
       "font_size": null,
       "text_color": null
      }
     },
     "a86ec9f2e9fb4a8087fb687a1daa0828": {
      "model_module": "@jupyter-widgets/controls",
      "model_module_version": "2.0.0",
      "model_name": "HTMLStyleModel",
      "state": {
       "description_width": "",
       "font_size": null,
       "text_color": null
      }
     },
     "a8c8d044cca946dcb33f50a9dbd71a3e": {
      "model_module": "@jupyter-widgets/controls",
      "model_module_version": "2.0.0",
      "model_name": "HTMLStyleModel",
      "state": {
       "description_width": "",
       "font_size": null,
       "text_color": null
      }
     },
     "a8cb195d79324883a07cd4ae1884663e": {
      "model_module": "@jupyter-widgets/base",
      "model_module_version": "2.0.0",
      "model_name": "LayoutModel",
      "state": {}
     },
     "a8cdaa6edd084517884043524b37ae1f": {
      "model_module": "@jupyter-widgets/base",
      "model_module_version": "2.0.0",
      "model_name": "LayoutModel",
      "state": {}
     },
     "a903ec5e442c4480af472a58076b9d1f": {
      "model_module": "@jupyter-widgets/controls",
      "model_module_version": "2.0.0",
      "model_name": "FloatProgressModel",
      "state": {
       "layout": "IPY_MODEL_4e38c3d872314c1c8be7242824987f7c",
       "max": 63359,
       "style": "IPY_MODEL_f94074d10b934fbd84be62b63fb8ddad",
       "value": 63359
      }
     },
     "a9333f6199de4256b83a524151dad9d5": {
      "model_module": "@jupyter-widgets/controls",
      "model_module_version": "2.0.0",
      "model_name": "HTMLModel",
      "state": {
       "layout": "IPY_MODEL_2ae4e564907944f1aab0eb80b0692177",
       "style": "IPY_MODEL_e587029769f8462cb170afc18bf7f03b",
       "value": " 63355/63359 [06:02&lt;00:00, 173.45it/s]"
      }
     },
     "a9647330bdb240118d68e623b58952e4": {
      "model_module": "@jupyter-widgets/controls",
      "model_module_version": "2.0.0",
      "model_name": "FloatProgressModel",
      "state": {
       "layout": "IPY_MODEL_6adc0ea50a354007846ec772d40d0261",
       "max": 63359,
       "style": "IPY_MODEL_56683256878c422aa89564fc24d83b4c",
       "value": 63359
      }
     },
     "a97b49c4ac7f4f7e970949f3edb3b74a": {
      "model_module": "@jupyter-widgets/controls",
      "model_module_version": "2.0.0",
      "model_name": "HTMLStyleModel",
      "state": {
       "description_width": "",
       "font_size": null,
       "text_color": null
      }
     },
     "a998031331b84d9c9faa8af3fd947e1b": {
      "model_module": "@jupyter-widgets/controls",
      "model_module_version": "2.0.0",
      "model_name": "FloatProgressModel",
      "state": {
       "layout": "IPY_MODEL_5fbe5134efbd46e8abdd9544138ef39a",
       "max": 63359,
       "style": "IPY_MODEL_112aab90b42d44c5a31201f700b0d84f",
       "value": 63359
      }
     },
     "a9de4d9141a54b6693620110b9df3216": {
      "model_module": "@jupyter-widgets/controls",
      "model_module_version": "2.0.0",
      "model_name": "HTMLStyleModel",
      "state": {
       "description_width": "",
       "font_size": null,
       "text_color": null
      }
     },
     "a9e69d648a1545a3ba1c1897d5669bc9": {
      "model_module": "@jupyter-widgets/controls",
      "model_module_version": "2.0.0",
      "model_name": "HTMLModel",
      "state": {
       "layout": "IPY_MODEL_ab017f532b44488ba207ba12eb4cb389",
       "style": "IPY_MODEL_f18ac7e1cc96454ba8b1eec8258dc9c8",
       "value": "100%"
      }
     },
     "aa2e26697d5e462ead319da89d9343ca": {
      "model_module": "@jupyter-widgets/controls",
      "model_module_version": "2.0.0",
      "model_name": "HTMLStyleModel",
      "state": {
       "description_width": "",
       "font_size": null,
       "text_color": null
      }
     },
     "aa48d48a9d554456a58e99ccd88146f3": {
      "model_module": "@jupyter-widgets/controls",
      "model_module_version": "2.0.0",
      "model_name": "HTMLModel",
      "state": {
       "layout": "IPY_MODEL_e61c0401fa074e558c9dbae5ea12322a",
       "style": "IPY_MODEL_75ef12e38aa541dea27923aa18f56766",
       "value": "100%"
      }
     },
     "aa6101e16ceb47aeb57cd447073ede96": {
      "model_module": "@jupyter-widgets/controls",
      "model_module_version": "2.0.0",
      "model_name": "HTMLStyleModel",
      "state": {
       "description_width": "",
       "font_size": null,
       "text_color": null
      }
     },
     "aa77c58390814407aca8407ae3610aa7": {
      "model_module": "@jupyter-widgets/base",
      "model_module_version": "2.0.0",
      "model_name": "LayoutModel",
      "state": {}
     },
     "aa7efbb934c24cc582fdf1f89792503e": {
      "model_module": "@jupyter-widgets/base",
      "model_module_version": "2.0.0",
      "model_name": "LayoutModel",
      "state": {
       "visibility": "hidden"
      }
     },
     "aa95e612c5154aedb8aa3a9aa100b45c": {
      "model_module": "@jupyter-widgets/controls",
      "model_module_version": "2.0.0",
      "model_name": "HTMLStyleModel",
      "state": {
       "description_width": "",
       "font_size": null,
       "text_color": null
      }
     },
     "aa9fa56212fa4001bc45cc44acb30048": {
      "model_module": "@jupyter-widgets/controls",
      "model_module_version": "2.0.0",
      "model_name": "HTMLStyleModel",
      "state": {
       "description_width": "",
       "font_size": null,
       "text_color": null
      }
     },
     "ab017f532b44488ba207ba12eb4cb389": {
      "model_module": "@jupyter-widgets/base",
      "model_module_version": "2.0.0",
      "model_name": "LayoutModel",
      "state": {}
     },
     "ab0dddf99b3c4177af7913a1f1ad5a57": {
      "model_module": "@jupyter-widgets/controls",
      "model_module_version": "2.0.0",
      "model_name": "HTMLModel",
      "state": {
       "layout": "IPY_MODEL_bb317db8343b4027a38d0284e5d4e617",
       "style": "IPY_MODEL_4bcb0c9337254a33bca2d2e0b64e7da2",
       "value": " 63345/63359 [06:05&lt;00:00, 173.95it/s]"
      }
     },
     "ab179874c91f4532bdcffe0bd588de52": {
      "model_module": "@jupyter-widgets/controls",
      "model_module_version": "2.0.0",
      "model_name": "ProgressStyleModel",
      "state": {
       "description_width": ""
      }
     },
     "ab1b1a28d4174379aa6e9ce3832b2a99": {
      "model_module": "@jupyter-widgets/controls",
      "model_module_version": "2.0.0",
      "model_name": "HTMLStyleModel",
      "state": {
       "description_width": "",
       "font_size": null,
       "text_color": null
      }
     },
     "ab3792ce57184498877ff8eaa79f3090": {
      "model_module": "@jupyter-widgets/controls",
      "model_module_version": "2.0.0",
      "model_name": "ProgressStyleModel",
      "state": {
       "description_width": ""
      }
     },
     "ab54227a12464fea88ae75e29aaf96bf": {
      "model_module": "@jupyter-widgets/controls",
      "model_module_version": "2.0.0",
      "model_name": "HTMLModel",
      "state": {
       "layout": "IPY_MODEL_e459243a553b44129050116c9f80f18f",
       "style": "IPY_MODEL_701640e2e7614d2ca04a65db2d3f14c7",
       "value": " 100/100 [29:18:51&lt;00:00, 735.97s/it]"
      }
     },
     "ab643a0f61e8450f80d393b0eb202b9e": {
      "model_module": "@jupyter-widgets/base",
      "model_module_version": "2.0.0",
      "model_name": "LayoutModel",
      "state": {}
     },
     "ab6d4da8c9d14a92a91265cb4a20ffcf": {
      "model_module": "@jupyter-widgets/base",
      "model_module_version": "2.0.0",
      "model_name": "LayoutModel",
      "state": {}
     },
     "ab76ed852de54100ad31365740ffab86": {
      "model_module": "@jupyter-widgets/base",
      "model_module_version": "2.0.0",
      "model_name": "LayoutModel",
      "state": {}
     },
     "abb3399768d049dd9cfd82fb88dec9e8": {
      "model_module": "@jupyter-widgets/controls",
      "model_module_version": "2.0.0",
      "model_name": "HTMLStyleModel",
      "state": {
       "description_width": "",
       "font_size": null,
       "text_color": null
      }
     },
     "abb4cddc81704a969c2aafdcb5fab9ba": {
      "model_module": "@jupyter-widgets/base",
      "model_module_version": "2.0.0",
      "model_name": "LayoutModel",
      "state": {}
     },
     "abca91ed6a1b436d98004084c313e710": {
      "model_module": "@jupyter-widgets/base",
      "model_module_version": "2.0.0",
      "model_name": "LayoutModel",
      "state": {}
     },
     "abcad6c9904d466e966669665a82b5d8": {
      "model_module": "@jupyter-widgets/base",
      "model_module_version": "2.0.0",
      "model_name": "LayoutModel",
      "state": {}
     },
     "abe38aeb46c640219da0e58790d93c2d": {
      "model_module": "@jupyter-widgets/base",
      "model_module_version": "2.0.0",
      "model_name": "LayoutModel",
      "state": {
       "visibility": "hidden"
      }
     },
     "ac37e37e731f4321aa4fcfd7eaec57e6": {
      "model_module": "@jupyter-widgets/controls",
      "model_module_version": "2.0.0",
      "model_name": "HTMLStyleModel",
      "state": {
       "description_width": "",
       "font_size": null,
       "text_color": null
      }
     },
     "ac3b8da63100478aa354fab3b162120b": {
      "model_module": "@jupyter-widgets/controls",
      "model_module_version": "2.0.0",
      "model_name": "HTMLModel",
      "state": {
       "layout": "IPY_MODEL_454e00d199854001901c354ca1bc293a",
       "style": "IPY_MODEL_c38c19590fff4643bb606ac576462305",
       "value": " 63348/63359 [06:07&lt;00:00, 173.59it/s]"
      }
     },
     "ac52e31a8cdb4f1894cc5333ed564558": {
      "model_module": "@jupyter-widgets/controls",
      "model_module_version": "2.0.0",
      "model_name": "HTMLModel",
      "state": {
       "layout": "IPY_MODEL_6f50dd82ce4a410b8a91ad2776dca8da",
       "style": "IPY_MODEL_5dc083546d664e3c8f9790fc64c29edb",
       "value": "100%"
      }
     },
     "ac55e1bbe24d410cba60b0851077c791": {
      "model_module": "@jupyter-widgets/controls",
      "model_module_version": "2.0.0",
      "model_name": "HTMLModel",
      "state": {
       "layout": "IPY_MODEL_c5644033f77d4ed38af009c64530a1b6",
       "style": "IPY_MODEL_109a5fe689354a0cb7890228a3a1021b",
       "value": "100%"
      }
     },
     "ac652993734f44eaaf33a71413fcbb68": {
      "model_module": "@jupyter-widgets/controls",
      "model_module_version": "2.0.0",
      "model_name": "ProgressStyleModel",
      "state": {
       "description_width": ""
      }
     },
     "ac65597fe9764816b946fbc5c9ed6ee7": {
      "model_module": "@jupyter-widgets/controls",
      "model_module_version": "2.0.0",
      "model_name": "FloatProgressModel",
      "state": {
       "layout": "IPY_MODEL_69863d1a25784fbca05f38c50be5553b",
       "max": 63359,
       "style": "IPY_MODEL_6e9339d7b00f43b4a1d89b99f02416d2",
       "value": 63359
      }
     },
     "ac793406ec964eef9337fffd203be5aa": {
      "model_module": "@jupyter-widgets/base",
      "model_module_version": "2.0.0",
      "model_name": "LayoutModel",
      "state": {}
     },
     "ad12fecfae7c40b59749135de1464ce7": {
      "model_module": "@jupyter-widgets/controls",
      "model_module_version": "2.0.0",
      "model_name": "HTMLModel",
      "state": {
       "layout": "IPY_MODEL_654f6d3ea79b496491a62e507464fbf9",
       "style": "IPY_MODEL_ef329246fdc546fab643a8c13aa71056",
       "value": " 63345/63359 [05:50&lt;00:00, 179.20it/s]"
      }
     },
     "ad1b3a1674814ceabedcf6a23fa71a79": {
      "model_module": "@jupyter-widgets/base",
      "model_module_version": "2.0.0",
      "model_name": "LayoutModel",
      "state": {
       "visibility": "hidden"
      }
     },
     "ad24cc4703f24449b2927d1fe27de32d": {
      "model_module": "@jupyter-widgets/controls",
      "model_module_version": "2.0.0",
      "model_name": "FloatProgressModel",
      "state": {
       "layout": "IPY_MODEL_e06e1dd1cc814ec094c043e39e21aeaf",
       "max": 63359,
       "style": "IPY_MODEL_91354e21d8914734b0508f0bd593b2e8",
       "value": 63359
      }
     },
     "ada0f3494c5b4b0b9a39bbdab286e2b3": {
      "model_module": "@jupyter-widgets/controls",
      "model_module_version": "2.0.0",
      "model_name": "HTMLStyleModel",
      "state": {
       "description_width": "",
       "font_size": null,
       "text_color": null
      }
     },
     "ada599929ec14d1d8707d54058cbf47f": {
      "model_module": "@jupyter-widgets/controls",
      "model_module_version": "2.0.0",
      "model_name": "HTMLStyleModel",
      "state": {
       "description_width": "",
       "font_size": null,
       "text_color": null
      }
     },
     "ada6ac59a43641d79afc8488df750b7a": {
      "model_module": "@jupyter-widgets/controls",
      "model_module_version": "2.0.0",
      "model_name": "ProgressStyleModel",
      "state": {
       "description_width": ""
      }
     },
     "adc7255ec99b4c5e9759495ce8260b51": {
      "model_module": "@jupyter-widgets/controls",
      "model_module_version": "2.0.0",
      "model_name": "FloatProgressModel",
      "state": {
       "layout": "IPY_MODEL_8d3f24d023154973a06e3b234405fe9d",
       "max": 63359,
       "style": "IPY_MODEL_c4916bab18424032ae49c73035529ba2",
       "value": 63359
      }
     },
     "add66ee7e53e43349529680bf5893bbb": {
      "model_module": "@jupyter-widgets/controls",
      "model_module_version": "2.0.0",
      "model_name": "HTMLModel",
      "state": {
       "layout": "IPY_MODEL_10db88104a844e8fb03e9c4f13924e6b",
       "style": "IPY_MODEL_156b7b2eb90b46a2bddbb75a5cbba17e",
       "value": " 63343/63359 [06:10&lt;00:00, 160.93it/s]"
      }
     },
     "adf0eca3a91d4551a22ab02cbc74171d": {
      "model_module": "@jupyter-widgets/controls",
      "model_module_version": "2.0.0",
      "model_name": "ProgressStyleModel",
      "state": {
       "description_width": ""
      }
     },
     "ae63ec54a8904b3aa11784f2693103a2": {
      "model_module": "@jupyter-widgets/controls",
      "model_module_version": "2.0.0",
      "model_name": "ProgressStyleModel",
      "state": {
       "description_width": ""
      }
     },
     "ae89ff434c5c42deba89220b893d8c3f": {
      "model_module": "@jupyter-widgets/base",
      "model_module_version": "2.0.0",
      "model_name": "LayoutModel",
      "state": {}
     },
     "aec867316206478bbc1cefb11875dafa": {
      "model_module": "@jupyter-widgets/base",
      "model_module_version": "2.0.0",
      "model_name": "LayoutModel",
      "state": {}
     },
     "aee12996049243b7bd97247eab029500": {
      "model_module": "@jupyter-widgets/base",
      "model_module_version": "2.0.0",
      "model_name": "LayoutModel",
      "state": {}
     },
     "aee2546012b94a45ab27e95ce1edd9de": {
      "model_module": "@jupyter-widgets/controls",
      "model_module_version": "2.0.0",
      "model_name": "ProgressStyleModel",
      "state": {
       "description_width": ""
      }
     },
     "af1ab057459047e0bbeed6fbdbfca88b": {
      "model_module": "@jupyter-widgets/base",
      "model_module_version": "2.0.0",
      "model_name": "LayoutModel",
      "state": {
       "visibility": "hidden"
      }
     },
     "af21995340a54fa9b81dfc3903d2a1e5": {
      "model_module": "@jupyter-widgets/base",
      "model_module_version": "2.0.0",
      "model_name": "LayoutModel",
      "state": {}
     },
     "af3fe5f267b34b40b598d41024b74f0d": {
      "model_module": "@jupyter-widgets/controls",
      "model_module_version": "2.0.0",
      "model_name": "HTMLStyleModel",
      "state": {
       "description_width": "",
       "font_size": null,
       "text_color": null
      }
     },
     "af427b9a7e6d4f4ca899361e77451847": {
      "model_module": "@jupyter-widgets/base",
      "model_module_version": "2.0.0",
      "model_name": "LayoutModel",
      "state": {}
     },
     "af803846ae9a4ca9a2dec12a0f2398de": {
      "model_module": "@jupyter-widgets/controls",
      "model_module_version": "2.0.0",
      "model_name": "HTMLModel",
      "state": {
       "layout": "IPY_MODEL_c35d8afe243143f79bbdd55b68c71c84",
       "style": "IPY_MODEL_71db859bb6ff4beab65255b04e66c4bb",
       "value": " 63357/63359 [06:04&lt;00:00, 173.75it/s]"
      }
     },
     "af8086e44dad4f64ae5d0ec85c32b076": {
      "model_module": "@jupyter-widgets/base",
      "model_module_version": "2.0.0",
      "model_name": "LayoutModel",
      "state": {
       "visibility": "hidden"
      }
     },
     "af97063b8fdd4f10ac78706f5c510681": {
      "model_module": "@jupyter-widgets/base",
      "model_module_version": "2.0.0",
      "model_name": "LayoutModel",
      "state": {}
     },
     "af9eeaf4fe1f47c8b7d53c5d0ff93b75": {
      "model_module": "@jupyter-widgets/controls",
      "model_module_version": "2.0.0",
      "model_name": "HTMLModel",
      "state": {
       "layout": "IPY_MODEL_eee15d62fd5d43c7aecb4a822eefba12",
       "style": "IPY_MODEL_20df03b1b24842b98814eb3b3f006277",
       "value": "100%"
      }
     },
     "b02612f9116b4351b3ea06d873b8aa57": {
      "model_module": "@jupyter-widgets/controls",
      "model_module_version": "2.0.0",
      "model_name": "HTMLModel",
      "state": {
       "layout": "IPY_MODEL_20f023b52a114d68b923ca7a61b3509e",
       "style": "IPY_MODEL_361e582d22e24c878590277a1496208d",
       "value": " 63352/63359 [06:18&lt;00:00, 169.21it/s]"
      }
     },
     "b0365d5a7e114eee92891597eb0289d5": {
      "model_module": "@jupyter-widgets/controls",
      "model_module_version": "2.0.0",
      "model_name": "HTMLModel",
      "state": {
       "layout": "IPY_MODEL_6f52064824d14dc8939288c342fd55ea",
       "style": "IPY_MODEL_8965c688ab0a4e33974b00fec2176337",
       "value": "100%"
      }
     },
     "b04bcd7ac749421a9e5fa119b45c11a3": {
      "model_module": "@jupyter-widgets/controls",
      "model_module_version": "2.0.0",
      "model_name": "HTMLStyleModel",
      "state": {
       "description_width": "",
       "font_size": null,
       "text_color": null
      }
     },
     "b04d4d6fb6424176af93e346a6219dfb": {
      "model_module": "@jupyter-widgets/controls",
      "model_module_version": "2.0.0",
      "model_name": "HTMLStyleModel",
      "state": {
       "description_width": "",
       "font_size": null,
       "text_color": null
      }
     },
     "b04ef8f54e574f04899d54757353d24b": {
      "model_module": "@jupyter-widgets/controls",
      "model_module_version": "2.0.0",
      "model_name": "HTMLStyleModel",
      "state": {
       "description_width": "",
       "font_size": null,
       "text_color": null
      }
     },
     "b07be7f04fee42a2bebd35a0966dae4e": {
      "model_module": "@jupyter-widgets/base",
      "model_module_version": "2.0.0",
      "model_name": "LayoutModel",
      "state": {}
     },
     "b0828496f5fd412fb2d85f638c362427": {
      "model_module": "@jupyter-widgets/controls",
      "model_module_version": "2.0.0",
      "model_name": "HTMLStyleModel",
      "state": {
       "description_width": "",
       "font_size": null,
       "text_color": null
      }
     },
     "b08780777aca44698255c4dbca5a6c0f": {
      "model_module": "@jupyter-widgets/controls",
      "model_module_version": "2.0.0",
      "model_name": "HTMLStyleModel",
      "state": {
       "description_width": "",
       "font_size": null,
       "text_color": null
      }
     },
     "b08e3aff529f4f689089e67e1e1f716d": {
      "model_module": "@jupyter-widgets/base",
      "model_module_version": "2.0.0",
      "model_name": "LayoutModel",
      "state": {}
     },
     "b0913d0e638e4b6abc20dbb83bd963c2": {
      "model_module": "@jupyter-widgets/base",
      "model_module_version": "2.0.0",
      "model_name": "LayoutModel",
      "state": {}
     },
     "b0b764178b7b47a3a4cd276ff9e498b2": {
      "model_module": "@jupyter-widgets/controls",
      "model_module_version": "2.0.0",
      "model_name": "HTMLModel",
      "state": {
       "layout": "IPY_MODEL_00ae47471db74bc8a776c6537d928e73",
       "style": "IPY_MODEL_a9de4d9141a54b6693620110b9df3216",
       "value": " 63349/63359 [06:27&lt;00:00, 170.31it/s]"
      }
     },
     "b0de7d954e90471c83943cdddf58c8f0": {
      "model_module": "@jupyter-widgets/base",
      "model_module_version": "2.0.0",
      "model_name": "LayoutModel",
      "state": {
       "visibility": "hidden"
      }
     },
     "b11d2bd3b7cd407a9c7ba8508ce2d60b": {
      "model_module": "@jupyter-widgets/controls",
      "model_module_version": "2.0.0",
      "model_name": "HTMLStyleModel",
      "state": {
       "description_width": "",
       "font_size": null,
       "text_color": null
      }
     },
     "b122a2e415054f6cb5808f5354659c95": {
      "model_module": "@jupyter-widgets/controls",
      "model_module_version": "2.0.0",
      "model_name": "HTMLStyleModel",
      "state": {
       "description_width": "",
       "font_size": null,
       "text_color": null
      }
     },
     "b1274b8a6c694d6a8689ccbb6c728d3f": {
      "model_module": "@jupyter-widgets/base",
      "model_module_version": "2.0.0",
      "model_name": "LayoutModel",
      "state": {}
     },
     "b137d558f32e429c87fb35dd8522fd5f": {
      "model_module": "@jupyter-widgets/controls",
      "model_module_version": "2.0.0",
      "model_name": "HTMLStyleModel",
      "state": {
       "description_width": "",
       "font_size": null,
       "text_color": null
      }
     },
     "b16937dd798443b9a41bbdc45cec31d2": {
      "model_module": "@jupyter-widgets/base",
      "model_module_version": "2.0.0",
      "model_name": "LayoutModel",
      "state": {}
     },
     "b16b449401194bf5b82676d729f1bd16": {
      "model_module": "@jupyter-widgets/base",
      "model_module_version": "2.0.0",
      "model_name": "LayoutModel",
      "state": {}
     },
     "b1d24416d8f040aca395824d2b785e5d": {
      "model_module": "@jupyter-widgets/base",
      "model_module_version": "2.0.0",
      "model_name": "LayoutModel",
      "state": {}
     },
     "b1f02ad91c2344019b53a049ea576c9e": {
      "model_module": "@jupyter-widgets/controls",
      "model_module_version": "2.0.0",
      "model_name": "HTMLModel",
      "state": {
       "layout": "IPY_MODEL_155a793bc15b495994d8df69900127fa",
       "style": "IPY_MODEL_e244657f30714746ac7974d45d17b10d",
       "value": " 63349/63359 [06:02&lt;00:00, 174.66it/s]"
      }
     },
     "b2034b3bf538468087c5de3a8916c500": {
      "model_module": "@jupyter-widgets/base",
      "model_module_version": "2.0.0",
      "model_name": "LayoutModel",
      "state": {}
     },
     "b20ff336e61d47a8acec7684f542175a": {
      "model_module": "@jupyter-widgets/controls",
      "model_module_version": "2.0.0",
      "model_name": "HTMLModel",
      "state": {
       "layout": "IPY_MODEL_181eeb4754a1444fb0f28f4ce07c07d3",
       "style": "IPY_MODEL_694e9c8f46e444088b5973faaeb0a7c6",
       "value": " 63356/63359 [06:03&lt;00:00, 172.58it/s]"
      }
     },
     "b229cf69c98645048466a65d1a741a6d": {
      "model_module": "@jupyter-widgets/base",
      "model_module_version": "2.0.0",
      "model_name": "LayoutModel",
      "state": {}
     },
     "b25d7c1b1f714084b70bb3388cd90e3b": {
      "model_module": "@jupyter-widgets/base",
      "model_module_version": "2.0.0",
      "model_name": "LayoutModel",
      "state": {}
     },
     "b26edfb0a80c40628e4691ad6464c6db": {
      "model_module": "@jupyter-widgets/base",
      "model_module_version": "2.0.0",
      "model_name": "LayoutModel",
      "state": {}
     },
     "b27fab900288400184931a7cfe932a75": {
      "model_module": "@jupyter-widgets/base",
      "model_module_version": "2.0.0",
      "model_name": "LayoutModel",
      "state": {
       "visibility": "hidden"
      }
     },
     "b2ab9eb5f5524a02bc371bdec66cffeb": {
      "model_module": "@jupyter-widgets/controls",
      "model_module_version": "2.0.0",
      "model_name": "HTMLModel",
      "state": {
       "layout": "IPY_MODEL_dcb06e567da74c719482550eb2c28d41",
       "style": "IPY_MODEL_79c089a4bd844b229adbea9689be4967",
       "value": "100%"
      }
     },
     "b2bba5161a6541c3b4d6ea4fa35ab757": {
      "model_module": "@jupyter-widgets/controls",
      "model_module_version": "2.0.0",
      "model_name": "HTMLStyleModel",
      "state": {
       "description_width": "",
       "font_size": null,
       "text_color": null
      }
     },
     "b2dab1a569e94d60ba28be7dc4f38e8b": {
      "model_module": "@jupyter-widgets/base",
      "model_module_version": "2.0.0",
      "model_name": "LayoutModel",
      "state": {}
     },
     "b2f321adeefa453fad5a9503f2de569c": {
      "model_module": "@jupyter-widgets/controls",
      "model_module_version": "2.0.0",
      "model_name": "FloatProgressModel",
      "state": {
       "layout": "IPY_MODEL_7e931e5cac524bfcb2a81f707a1961bc",
       "max": 63359,
       "style": "IPY_MODEL_46162e4e1fc44483bf51cff5d72a5904",
       "value": 63359
      }
     },
     "b3293a8db9fa4cceb2d1584801fa9494": {
      "model_module": "@jupyter-widgets/controls",
      "model_module_version": "2.0.0",
      "model_name": "HTMLStyleModel",
      "state": {
       "description_width": "",
       "font_size": null,
       "text_color": null
      }
     },
     "b34065d4ba7944c085ac21c96f8d174e": {
      "model_module": "@jupyter-widgets/base",
      "model_module_version": "2.0.0",
      "model_name": "LayoutModel",
      "state": {}
     },
     "b36f666a487c4b248a588087f5c11842": {
      "model_module": "@jupyter-widgets/controls",
      "model_module_version": "2.0.0",
      "model_name": "HTMLModel",
      "state": {
       "layout": "IPY_MODEL_9eded48b1ed34a53953d39b6fd9e7968",
       "style": "IPY_MODEL_2dfdbcc29edb404f9ee07850d40548df",
       "value": " 63349/63359 [06:03&lt;00:00, 174.36it/s]"
      }
     },
     "b36fe67f841e49ac86937112a11466d4": {
      "model_module": "@jupyter-widgets/controls",
      "model_module_version": "2.0.0",
      "model_name": "ProgressStyleModel",
      "state": {
       "description_width": ""
      }
     },
     "b37274f52744446ca13ffd6c6b0dac85": {
      "model_module": "@jupyter-widgets/controls",
      "model_module_version": "2.0.0",
      "model_name": "FloatProgressModel",
      "state": {
       "layout": "IPY_MODEL_35e09bc447144dbfa8bb7bf2b5e50a68",
       "max": 63359,
       "style": "IPY_MODEL_258042ca04244d9ea5144c3eb41f5759",
       "value": 63359
      }
     },
     "b397c706df2945559d21265a81ddf959": {
      "model_module": "@jupyter-widgets/controls",
      "model_module_version": "2.0.0",
      "model_name": "HTMLStyleModel",
      "state": {
       "description_width": "",
       "font_size": null,
       "text_color": null
      }
     },
     "b3cc3ea38135432aaf38022180230ea5": {
      "model_module": "@jupyter-widgets/base",
      "model_module_version": "2.0.0",
      "model_name": "LayoutModel",
      "state": {}
     },
     "b3d2c26c290a457dac0de2e28543b129": {
      "model_module": "@jupyter-widgets/controls",
      "model_module_version": "2.0.0",
      "model_name": "HTMLModel",
      "state": {
       "layout": "IPY_MODEL_6496ea805cea48b58d43570f71fdcd59",
       "style": "IPY_MODEL_920d99e9e29e4c80bde50931c6ee2ebf",
       "value": " 63358/63359 [06:02&lt;00:00, 170.69it/s]"
      }
     },
     "b3d769c6e67b4e7ea690095c90774720": {
      "model_module": "@jupyter-widgets/controls",
      "model_module_version": "2.0.0",
      "model_name": "HTMLStyleModel",
      "state": {
       "description_width": "",
       "font_size": null,
       "text_color": null
      }
     },
     "b40ad4e7e5084da488703787a1af3418": {
      "model_module": "@jupyter-widgets/controls",
      "model_module_version": "2.0.0",
      "model_name": "ProgressStyleModel",
      "state": {
       "description_width": ""
      }
     },
     "b42ec81c9431448a8c2fa2860d588bc1": {
      "model_module": "@jupyter-widgets/controls",
      "model_module_version": "2.0.0",
      "model_name": "HTMLStyleModel",
      "state": {
       "description_width": "",
       "font_size": null,
       "text_color": null
      }
     },
     "b4c2d780448943568a9200c23ccbd94a": {
      "model_module": "@jupyter-widgets/base",
      "model_module_version": "2.0.0",
      "model_name": "LayoutModel",
      "state": {}
     },
     "b4d9d1f0d3e440168e61bac68be812de": {
      "model_module": "@jupyter-widgets/controls",
      "model_module_version": "2.0.0",
      "model_name": "HTMLModel",
      "state": {
       "layout": "IPY_MODEL_e8720f550b9c4fa2a72defa258fb0f6a",
       "style": "IPY_MODEL_ecade958809546ff8a1c90ebef74939c",
       "value": " 63359/63359 [06:05&lt;00:00, 172.62it/s]"
      }
     },
     "b4df5bd5ef1140c1b5585430544cee2d": {
      "model_module": "@jupyter-widgets/base",
      "model_module_version": "2.0.0",
      "model_name": "LayoutModel",
      "state": {}
     },
     "b5488f8f91874bafa987663b7d2e2156": {
      "model_module": "@jupyter-widgets/base",
      "model_module_version": "2.0.0",
      "model_name": "LayoutModel",
      "state": {}
     },
     "b596ade5bc4c4cc3a7570c071fdef2dd": {
      "model_module": "@jupyter-widgets/base",
      "model_module_version": "2.0.0",
      "model_name": "LayoutModel",
      "state": {}
     },
     "b6766005e163468bb724654b3594615d": {
      "model_module": "@jupyter-widgets/controls",
      "model_module_version": "2.0.0",
      "model_name": "ProgressStyleModel",
      "state": {
       "description_width": ""
      }
     },
     "b677b3c2f060434aa599f43e8e0121e3": {
      "model_module": "@jupyter-widgets/controls",
      "model_module_version": "2.0.0",
      "model_name": "ProgressStyleModel",
      "state": {
       "description_width": ""
      }
     },
     "b682da0101b447a0beeb8ccc94b0e438": {
      "model_module": "@jupyter-widgets/controls",
      "model_module_version": "2.0.0",
      "model_name": "ProgressStyleModel",
      "state": {
       "description_width": ""
      }
     },
     "b69bd20648fd4dcba398c5fed40724e4": {
      "model_module": "@jupyter-widgets/base",
      "model_module_version": "2.0.0",
      "model_name": "LayoutModel",
      "state": {}
     },
     "b69e2b029deb4ffc8555d483fd011af8": {
      "model_module": "@jupyter-widgets/controls",
      "model_module_version": "2.0.0",
      "model_name": "HTMLStyleModel",
      "state": {
       "description_width": "",
       "font_size": null,
       "text_color": null
      }
     },
     "b6b640f93aca46fbbbcc86702d200014": {
      "model_module": "@jupyter-widgets/controls",
      "model_module_version": "2.0.0",
      "model_name": "HTMLStyleModel",
      "state": {
       "description_width": "",
       "font_size": null,
       "text_color": null
      }
     },
     "b6b6731ba1274e4c85a8ccf3874195c7": {
      "model_module": "@jupyter-widgets/base",
      "model_module_version": "2.0.0",
      "model_name": "LayoutModel",
      "state": {}
     },
     "b6c23541898e4246896c3f9884de447a": {
      "model_module": "@jupyter-widgets/controls",
      "model_module_version": "2.0.0",
      "model_name": "HTMLStyleModel",
      "state": {
       "description_width": "",
       "font_size": null,
       "text_color": null
      }
     },
     "b6cdc609a3994a6c807b5b4fe82c0f99": {
      "model_module": "@jupyter-widgets/base",
      "model_module_version": "2.0.0",
      "model_name": "LayoutModel",
      "state": {}
     },
     "b6dc357b596f4eb2b1f1896308ba1360": {
      "model_module": "@jupyter-widgets/base",
      "model_module_version": "2.0.0",
      "model_name": "LayoutModel",
      "state": {
       "visibility": "hidden"
      }
     },
     "b6e25f3ca3584f71b3f9abe01e503838": {
      "model_module": "@jupyter-widgets/base",
      "model_module_version": "2.0.0",
      "model_name": "LayoutModel",
      "state": {}
     },
     "b7003835f5f446e4bede0fa81c484ec2": {
      "model_module": "@jupyter-widgets/base",
      "model_module_version": "2.0.0",
      "model_name": "LayoutModel",
      "state": {
       "visibility": "hidden"
      }
     },
     "b710b60ba3714d259d63b1f3d9abe63f": {
      "model_module": "@jupyter-widgets/controls",
      "model_module_version": "2.0.0",
      "model_name": "HTMLStyleModel",
      "state": {
       "description_width": "",
       "font_size": null,
       "text_color": null
      }
     },
     "b71378d7cd524a3a93d425a962bef465": {
      "model_module": "@jupyter-widgets/controls",
      "model_module_version": "2.0.0",
      "model_name": "HTMLStyleModel",
      "state": {
       "description_width": "",
       "font_size": null,
       "text_color": null
      }
     },
     "b721e873edee4a34a93f81600d76ae4f": {
      "model_module": "@jupyter-widgets/base",
      "model_module_version": "2.0.0",
      "model_name": "LayoutModel",
      "state": {}
     },
     "b723e7f3591844318e0316dc9787e002": {
      "model_module": "@jupyter-widgets/controls",
      "model_module_version": "2.0.0",
      "model_name": "HTMLModel",
      "state": {
       "layout": "IPY_MODEL_d50c2d4fe2ff4e88bef766eda78a5da9",
       "style": "IPY_MODEL_68a826cf42244a3abbb2493df05e78a9",
       "value": "100%"
      }
     },
     "b777b6cbe5c5488690e89f74ebe5a398": {
      "model_module": "@jupyter-widgets/base",
      "model_module_version": "2.0.0",
      "model_name": "LayoutModel",
      "state": {
       "visibility": "hidden"
      }
     },
     "b784b3716b0448f3993f27d679bbd3f4": {
      "model_module": "@jupyter-widgets/controls",
      "model_module_version": "2.0.0",
      "model_name": "FloatProgressModel",
      "state": {
       "layout": "IPY_MODEL_380299790fa8453d95337889e25a0cd7",
       "max": 63359,
       "style": "IPY_MODEL_4851d86b1b8d45668a2bdf1702056f58",
       "value": 63359
      }
     },
     "b78a1f6930514a6b8aeea546c3278d8b": {
      "model_module": "@jupyter-widgets/base",
      "model_module_version": "2.0.0",
      "model_name": "LayoutModel",
      "state": {}
     },
     "b7bf11c1657e48118c034acb0eb345c5": {
      "model_module": "@jupyter-widgets/base",
      "model_module_version": "2.0.0",
      "model_name": "LayoutModel",
      "state": {
       "visibility": "hidden"
      }
     },
     "b7e6767a7c8148118507eb8a6366b9a1": {
      "model_module": "@jupyter-widgets/controls",
      "model_module_version": "2.0.0",
      "model_name": "HTMLModel",
      "state": {
       "layout": "IPY_MODEL_6b966582b0154eaeb215308617163a5c",
       "style": "IPY_MODEL_7e8d6793e11e41aab0d4b37751ecdb06",
       "value": " 63347/63359 [06:09&lt;00:00, 172.01it/s]"
      }
     },
     "b802e16a341a4609adee2b2d3178860e": {
      "model_module": "@jupyter-widgets/base",
      "model_module_version": "2.0.0",
      "model_name": "LayoutModel",
      "state": {}
     },
     "b8197c2332dd4dcfac1772b7fc15c594": {
      "model_module": "@jupyter-widgets/controls",
      "model_module_version": "2.0.0",
      "model_name": "HTMLModel",
      "state": {
       "layout": "IPY_MODEL_7f3835cd553b45b6904a7f80855f626c",
       "style": "IPY_MODEL_09e147ed80494ff0ab4680d1c9705b79",
       "value": " 63346/63359 [06:03&lt;00:00, 172.18it/s]"
      }
     },
     "b852e64726864345b3ef26b7c8abba9e": {
      "model_module": "@jupyter-widgets/controls",
      "model_module_version": "2.0.0",
      "model_name": "HTMLModel",
      "state": {
       "layout": "IPY_MODEL_57dbc5a5be6f4d0c9adb83fe265e458a",
       "style": "IPY_MODEL_87b1606813c740f3ba7bbbb81547d613",
       "value": "100%"
      }
     },
     "b87cda0ede22489bbb08b61ca8126484": {
      "model_module": "@jupyter-widgets/controls",
      "model_module_version": "2.0.0",
      "model_name": "HTMLModel",
      "state": {
       "layout": "IPY_MODEL_908f9b1c5cea46eaaaecca76e0ed068c",
       "style": "IPY_MODEL_b122a2e415054f6cb5808f5354659c95",
       "value": " 63348/63359 [05:50&lt;00:00, 182.97it/s]"
      }
     },
     "b87fad3f84b44e89bf70d240e70f774f": {
      "model_module": "@jupyter-widgets/controls",
      "model_module_version": "2.0.0",
      "model_name": "HTMLModel",
      "state": {
       "layout": "IPY_MODEL_105f7c6891be4b278c7330ccfc759755",
       "style": "IPY_MODEL_b9cc185f7c4b4defa49410b99ed6703c",
       "value": "100%"
      }
     },
     "b88a3799f242400095ac563a5fd1b5c3": {
      "model_module": "@jupyter-widgets/controls",
      "model_module_version": "2.0.0",
      "model_name": "FloatProgressModel",
      "state": {
       "layout": "IPY_MODEL_be4871afc4b6462b814d3070a4397b17",
       "max": 63359,
       "style": "IPY_MODEL_4af90b20dc574f47b807c59529bf5173",
       "value": 63359
      }
     },
     "b899e60fea594fefb4bdabac572964b8": {
      "model_module": "@jupyter-widgets/controls",
      "model_module_version": "2.0.0",
      "model_name": "HTMLStyleModel",
      "state": {
       "description_width": "",
       "font_size": null,
       "text_color": null
      }
     },
     "b93859502c7d4cd281b61a7c71a8ce35": {
      "model_module": "@jupyter-widgets/controls",
      "model_module_version": "2.0.0",
      "model_name": "ProgressStyleModel",
      "state": {
       "description_width": ""
      }
     },
     "b9386747305d47c89eed53bbd633747c": {
      "model_module": "@jupyter-widgets/base",
      "model_module_version": "2.0.0",
      "model_name": "LayoutModel",
      "state": {}
     },
     "b93a86db5bc948f0862952c44afb6f17": {
      "model_module": "@jupyter-widgets/base",
      "model_module_version": "2.0.0",
      "model_name": "LayoutModel",
      "state": {
       "visibility": "hidden"
      }
     },
     "b962f8efae8e47919c2d72417384962e": {
      "model_module": "@jupyter-widgets/base",
      "model_module_version": "2.0.0",
      "model_name": "LayoutModel",
      "state": {}
     },
     "b96e417624b24ec384e4addacd233c8f": {
      "model_module": "@jupyter-widgets/base",
      "model_module_version": "2.0.0",
      "model_name": "LayoutModel",
      "state": {}
     },
     "b9b9636bfcae4baf85ad159cbd6e25cb": {
      "model_module": "@jupyter-widgets/controls",
      "model_module_version": "2.0.0",
      "model_name": "FloatProgressModel",
      "state": {
       "layout": "IPY_MODEL_8a1beec38cc04510987b5bc825717685",
       "max": 63359,
       "style": "IPY_MODEL_4a64137292de4d66a22fa4ae82fbb0e6",
       "value": 63359
      }
     },
     "b9cc185f7c4b4defa49410b99ed6703c": {
      "model_module": "@jupyter-widgets/controls",
      "model_module_version": "2.0.0",
      "model_name": "HTMLStyleModel",
      "state": {
       "description_width": "",
       "font_size": null,
       "text_color": null
      }
     },
     "b9fd693b359a4213a3baec1c2c88858d": {
      "model_module": "@jupyter-widgets/controls",
      "model_module_version": "2.0.0",
      "model_name": "HTMLModel",
      "state": {
       "layout": "IPY_MODEL_432a62b58a07448684db2034ea9af390",
       "style": "IPY_MODEL_5f54c6a8f90f43feb7e1f644f0ef37e9",
       "value": "100%"
      }
     },
     "ba0008841dc64f798d6f3a4e8a1804c3": {
      "model_module": "@jupyter-widgets/controls",
      "model_module_version": "2.0.0",
      "model_name": "HTMLStyleModel",
      "state": {
       "description_width": "",
       "font_size": null,
       "text_color": null
      }
     },
     "ba32979e0b6f478d865bb30e4dcee742": {
      "model_module": "@jupyter-widgets/controls",
      "model_module_version": "2.0.0",
      "model_name": "HTMLStyleModel",
      "state": {
       "description_width": "",
       "font_size": null,
       "text_color": null
      }
     },
     "ba4af27d9ee24124a4e2bb55042342c1": {
      "model_module": "@jupyter-widgets/controls",
      "model_module_version": "2.0.0",
      "model_name": "HTMLStyleModel",
      "state": {
       "description_width": "",
       "font_size": null,
       "text_color": null
      }
     },
     "ba4be0970f694b53b98367e5a5b4b5fa": {
      "model_module": "@jupyter-widgets/controls",
      "model_module_version": "2.0.0",
      "model_name": "HTMLModel",
      "state": {
       "layout": "IPY_MODEL_16f77025e7e74d4ea5986d58d347d42e",
       "style": "IPY_MODEL_b3d769c6e67b4e7ea690095c90774720",
       "value": " 63356/63359 [05:52&lt;00:00, 181.47it/s]"
      }
     },
     "ba6fbe9aabd045858b8fdbee4bd1fbcf": {
      "model_module": "@jupyter-widgets/controls",
      "model_module_version": "2.0.0",
      "model_name": "ProgressStyleModel",
      "state": {
       "description_width": ""
      }
     },
     "ba88b7d217b94ab08688b568bcca3680": {
      "model_module": "@jupyter-widgets/controls",
      "model_module_version": "2.0.0",
      "model_name": "FloatProgressModel",
      "state": {
       "layout": "IPY_MODEL_1ddf9265e60f46d5a231c9223bf1e881",
       "max": 63359,
       "style": "IPY_MODEL_a1d684281a4140eb8706611a5b91c92d",
       "value": 63359
      }
     },
     "bab3a6bf1b6448b18d55214f42c9846d": {
      "model_module": "@jupyter-widgets/base",
      "model_module_version": "2.0.0",
      "model_name": "LayoutModel",
      "state": {}
     },
     "baca5c409e084f498dd8b32600c157ce": {
      "model_module": "@jupyter-widgets/controls",
      "model_module_version": "2.0.0",
      "model_name": "ProgressStyleModel",
      "state": {
       "description_width": ""
      }
     },
     "baf74be89d6749f382321adabc19f938": {
      "model_module": "@jupyter-widgets/base",
      "model_module_version": "2.0.0",
      "model_name": "LayoutModel",
      "state": {}
     },
     "bb1f673d4f614545871ba96e6f03f0eb": {
      "model_module": "@jupyter-widgets/base",
      "model_module_version": "2.0.0",
      "model_name": "LayoutModel",
      "state": {}
     },
     "bb30e2ce7376447a95652e4f16ddd6a4": {
      "model_module": "@jupyter-widgets/controls",
      "model_module_version": "2.0.0",
      "model_name": "ProgressStyleModel",
      "state": {
       "description_width": ""
      }
     },
     "bb317db8343b4027a38d0284e5d4e617": {
      "model_module": "@jupyter-widgets/base",
      "model_module_version": "2.0.0",
      "model_name": "LayoutModel",
      "state": {}
     },
     "bb3a35ee153d4b9c8e70d1b3b02423a0": {
      "model_module": "@jupyter-widgets/controls",
      "model_module_version": "2.0.0",
      "model_name": "HTMLModel",
      "state": {
       "layout": "IPY_MODEL_7232dba3106848e2879ffdda7824ee45",
       "style": "IPY_MODEL_8c2ab0e09e1c4529bb3fdc700c9b28cf",
       "value": " 63359/63359 [06:17&lt;00:00, 171.85it/s]"
      }
     },
     "bb69556678e4465fbe09402f18c8112b": {
      "model_module": "@jupyter-widgets/base",
      "model_module_version": "2.0.0",
      "model_name": "LayoutModel",
      "state": {
       "visibility": "hidden"
      }
     },
     "bb94d896f5e44294b2da4b50b1a02619": {
      "model_module": "@jupyter-widgets/controls",
      "model_module_version": "2.0.0",
      "model_name": "ProgressStyleModel",
      "state": {
       "description_width": ""
      }
     },
     "bbf7c165e8084db88f0c516c536341cd": {
      "model_module": "@jupyter-widgets/base",
      "model_module_version": "2.0.0",
      "model_name": "LayoutModel",
      "state": {}
     },
     "bc812f74c9d644669a07a86f430a07a2": {
      "model_module": "@jupyter-widgets/controls",
      "model_module_version": "2.0.0",
      "model_name": "ProgressStyleModel",
      "state": {
       "description_width": ""
      }
     },
     "bcb813c52ee5414ba3cbdd547930e689": {
      "model_module": "@jupyter-widgets/controls",
      "model_module_version": "2.0.0",
      "model_name": "HTMLModel",
      "state": {
       "layout": "IPY_MODEL_b07be7f04fee42a2bebd35a0966dae4e",
       "style": "IPY_MODEL_3600d1b7b99f49cea98a71b6eb7a28a0",
       "value": " 63358/63359 [06:17&lt;00:00, 168.34it/s]"
      }
     },
     "bce7c79c1af345cba7b0515b57c1f149": {
      "model_module": "@jupyter-widgets/controls",
      "model_module_version": "2.0.0",
      "model_name": "HTMLStyleModel",
      "state": {
       "description_width": "",
       "font_size": null,
       "text_color": null
      }
     },
     "bcf2673ee7b14b3aaa71160a3cf25485": {
      "model_module": "@jupyter-widgets/controls",
      "model_module_version": "2.0.0",
      "model_name": "ProgressStyleModel",
      "state": {
       "description_width": ""
      }
     },
     "bd04ed60529a48d8bbb97631cd155d2c": {
      "model_module": "@jupyter-widgets/controls",
      "model_module_version": "2.0.0",
      "model_name": "HTMLModel",
      "state": {
       "layout": "IPY_MODEL_5dc26d7d3be14946afa2613fe95369f0",
       "style": "IPY_MODEL_ada0f3494c5b4b0b9a39bbdab286e2b3",
       "value": "100%"
      }
     },
     "bd1bb8e1a79b459494069df0dbaf4f39": {
      "model_module": "@jupyter-widgets/base",
      "model_module_version": "2.0.0",
      "model_name": "LayoutModel",
      "state": {}
     },
     "bd8d469b7afd414587ac6d12a164f3c8": {
      "model_module": "@jupyter-widgets/controls",
      "model_module_version": "2.0.0",
      "model_name": "ProgressStyleModel",
      "state": {
       "description_width": ""
      }
     },
     "bda332c4b9fb4972aa70f0d1cb197bc8": {
      "model_module": "@jupyter-widgets/controls",
      "model_module_version": "2.0.0",
      "model_name": "HTMLModel",
      "state": {
       "layout": "IPY_MODEL_18fb74e7630f443ebae2fffedee89e5e",
       "style": "IPY_MODEL_4326d8d3c834427ea9d6210a964ce651",
       "value": "100%"
      }
     },
     "bdb4f4fc7e4d423ca416996b3fb7ac37": {
      "model_module": "@jupyter-widgets/controls",
      "model_module_version": "2.0.0",
      "model_name": "ProgressStyleModel",
      "state": {
       "description_width": ""
      }
     },
     "bde1eed740684ad8bc76642a02e5b890": {
      "model_module": "@jupyter-widgets/base",
      "model_module_version": "2.0.0",
      "model_name": "LayoutModel",
      "state": {}
     },
     "bde8443d4d6e40518e61ce84d2f1c293": {
      "model_module": "@jupyter-widgets/controls",
      "model_module_version": "2.0.0",
      "model_name": "FloatProgressModel",
      "state": {
       "layout": "IPY_MODEL_5087185b3b124b2187e8e9ce579ba59d",
       "max": 63359,
       "style": "IPY_MODEL_eaf6b78a557a48259d11128464c1d9dc",
       "value": 63359
      }
     },
     "bde9dccec87a4b5eafcbd893658d6f08": {
      "model_module": "@jupyter-widgets/base",
      "model_module_version": "2.0.0",
      "model_name": "LayoutModel",
      "state": {}
     },
     "bdeaa95314a74eefb086208c81255e80": {
      "model_module": "@jupyter-widgets/controls",
      "model_module_version": "2.0.0",
      "model_name": "FloatProgressModel",
      "state": {
       "layout": "IPY_MODEL_439b391d98604faf8e26a9cf14ac6019",
       "max": 63359,
       "style": "IPY_MODEL_53c931cdbf044c04837152266da3c8de",
       "value": 63359
      }
     },
     "bdfe3ef49bbc422b882b410606104fb6": {
      "model_module": "@jupyter-widgets/controls",
      "model_module_version": "2.0.0",
      "model_name": "HTMLModel",
      "state": {
       "layout": "IPY_MODEL_b4c2d780448943568a9200c23ccbd94a",
       "style": "IPY_MODEL_56eb513dd44b4c9b9809690348115b84",
       "value": "100%"
      }
     },
     "be0be0b2dcfa4102834f875f3e83efa0": {
      "model_module": "@jupyter-widgets/controls",
      "model_module_version": "2.0.0",
      "model_name": "HTMLStyleModel",
      "state": {
       "description_width": "",
       "font_size": null,
       "text_color": null
      }
     },
     "be131b160fa04b33b62acf581e533b02": {
      "model_module": "@jupyter-widgets/controls",
      "model_module_version": "2.0.0",
      "model_name": "HTMLModel",
      "state": {
       "layout": "IPY_MODEL_d088fa189b5f4018bbfb10b47a78b497",
       "style": "IPY_MODEL_40aca154081a4940a19d037e6166b715",
       "value": " 63355/63359 [05:50&lt;00:00, 181.07it/s]"
      }
     },
     "be4327a6e2be4f21957dd843cfd7aeb0": {
      "model_module": "@jupyter-widgets/controls",
      "model_module_version": "2.0.0",
      "model_name": "FloatProgressModel",
      "state": {
       "layout": "IPY_MODEL_3656570f0313486083a2f89c3efe7cc0",
       "max": 63359,
       "style": "IPY_MODEL_1115ce3d2cba45f4b532a0753cb65944",
       "value": 63359
      }
     },
     "be4871afc4b6462b814d3070a4397b17": {
      "model_module": "@jupyter-widgets/base",
      "model_module_version": "2.0.0",
      "model_name": "LayoutModel",
      "state": {}
     },
     "be6ab93af6f7441e9f447e5a2c05e10d": {
      "model_module": "@jupyter-widgets/controls",
      "model_module_version": "2.0.0",
      "model_name": "HTMLStyleModel",
      "state": {
       "description_width": "",
       "font_size": null,
       "text_color": null
      }
     },
     "bea8eef3db794a7081c28a727d00d980": {
      "model_module": "@jupyter-widgets/controls",
      "model_module_version": "2.0.0",
      "model_name": "FloatProgressModel",
      "state": {
       "layout": "IPY_MODEL_566f545eeab641b58eb2757bef610f42",
       "max": 63359,
       "style": "IPY_MODEL_23d2220c1e3a40498aa7d02083e25edc",
       "value": 63359
      }
     },
     "bec2b165c0514cd99de1834f47e1661e": {
      "model_module": "@jupyter-widgets/base",
      "model_module_version": "2.0.0",
      "model_name": "LayoutModel",
      "state": {}
     },
     "bf3a32124d6d48b1982a7281a1675980": {
      "model_module": "@jupyter-widgets/controls",
      "model_module_version": "2.0.0",
      "model_name": "HTMLStyleModel",
      "state": {
       "description_width": "",
       "font_size": null,
       "text_color": null
      }
     },
     "bf46e8cddc8c4d3e9308a7e7461e6898": {
      "model_module": "@jupyter-widgets/controls",
      "model_module_version": "2.0.0",
      "model_name": "ProgressStyleModel",
      "state": {
       "description_width": ""
      }
     },
     "bf4f2054d0024bee80b23deb3b692c87": {
      "model_module": "@jupyter-widgets/base",
      "model_module_version": "2.0.0",
      "model_name": "LayoutModel",
      "state": {}
     },
     "bf7c36efb566412999e21b7b02f3fdb7": {
      "model_module": "@jupyter-widgets/base",
      "model_module_version": "2.0.0",
      "model_name": "LayoutModel",
      "state": {}
     },
     "bf9d73e3dc9b47a9bfcf31a863b6288a": {
      "model_module": "@jupyter-widgets/controls",
      "model_module_version": "2.0.0",
      "model_name": "ProgressStyleModel",
      "state": {
       "description_width": ""
      }
     },
     "bfa44057648d481e9f2a4e54895fbbcd": {
      "model_module": "@jupyter-widgets/controls",
      "model_module_version": "2.0.0",
      "model_name": "FloatProgressModel",
      "state": {
       "layout": "IPY_MODEL_a8cdaa6edd084517884043524b37ae1f",
       "max": 63359,
       "style": "IPY_MODEL_d418cedc518f4f7d9e55ee0479396eaa",
       "value": 63359
      }
     },
     "bfc076638ce94bc3807c4bcfe62c0cae": {
      "model_module": "@jupyter-widgets/base",
      "model_module_version": "2.0.0",
      "model_name": "LayoutModel",
      "state": {}
     },
     "bfc366c8d91c4b40abc8ed3f0b406a7e": {
      "model_module": "@jupyter-widgets/base",
      "model_module_version": "2.0.0",
      "model_name": "LayoutModel",
      "state": {}
     },
     "bffd5bbd08ac42f3b48eeb8b41b6cc3e": {
      "model_module": "@jupyter-widgets/base",
      "model_module_version": "2.0.0",
      "model_name": "LayoutModel",
      "state": {}
     },
     "c00ab9d5a96d496e91171475d1b89706": {
      "model_module": "@jupyter-widgets/base",
      "model_module_version": "2.0.0",
      "model_name": "LayoutModel",
      "state": {}
     },
     "c0163329ca2c479cb663eb4dde3b5b76": {
      "model_module": "@jupyter-widgets/controls",
      "model_module_version": "2.0.0",
      "model_name": "HTMLModel",
      "state": {
       "layout": "IPY_MODEL_8b7bfd0cc67947fd898d17c529921d4c",
       "style": "IPY_MODEL_e5d15eea0ff94d78a12fab911971ef4c",
       "value": " 63351/63359 [05:51&lt;00:00, 171.40it/s]"
      }
     },
     "c01e7604ef504b8586dad3318adf48ae": {
      "model_module": "@jupyter-widgets/controls",
      "model_module_version": "2.0.0",
      "model_name": "HTMLStyleModel",
      "state": {
       "description_width": "",
       "font_size": null,
       "text_color": null
      }
     },
     "c046ca0ad7244abd80c6c18283af6388": {
      "model_module": "@jupyter-widgets/controls",
      "model_module_version": "2.0.0",
      "model_name": "HTMLStyleModel",
      "state": {
       "description_width": "",
       "font_size": null,
       "text_color": null
      }
     },
     "c04e96d5429148328135c85a196845ed": {
      "model_module": "@jupyter-widgets/base",
      "model_module_version": "2.0.0",
      "model_name": "LayoutModel",
      "state": {}
     },
     "c06f461fd31b49eea0979db860901d8a": {
      "model_module": "@jupyter-widgets/controls",
      "model_module_version": "2.0.0",
      "model_name": "HTMLStyleModel",
      "state": {
       "description_width": "",
       "font_size": null,
       "text_color": null
      }
     },
     "c077bc6b2732450eba617c755dc32fa6": {
      "model_module": "@jupyter-widgets/controls",
      "model_module_version": "2.0.0",
      "model_name": "HTMLModel",
      "state": {
       "layout": "IPY_MODEL_4a278c7cec3149d08eb6df157386e42c",
       "style": "IPY_MODEL_e980b6f8d00f4da39161bdd389b35936",
       "value": "100%"
      }
     },
     "c07b4ffecb3b430785d0fb68c52346ac": {
      "model_module": "@jupyter-widgets/controls",
      "model_module_version": "2.0.0",
      "model_name": "HTMLStyleModel",
      "state": {
       "description_width": "",
       "font_size": null,
       "text_color": null
      }
     },
     "c07ba58530b74d2898db142eda887b0f": {
      "model_module": "@jupyter-widgets/controls",
      "model_module_version": "2.0.0",
      "model_name": "HTMLModel",
      "state": {
       "layout": "IPY_MODEL_b229cf69c98645048466a65d1a741a6d",
       "style": "IPY_MODEL_11c0fbf057374632839aa27a9908a542",
       "value": "100%"
      }
     },
     "c0b0f642b7824df4b32a16cf08c96848": {
      "model_module": "@jupyter-widgets/controls",
      "model_module_version": "2.0.0",
      "model_name": "ProgressStyleModel",
      "state": {
       "description_width": ""
      }
     },
     "c0df619d15474df89f36baea73c0d6b5": {
      "model_module": "@jupyter-widgets/base",
      "model_module_version": "2.0.0",
      "model_name": "LayoutModel",
      "state": {}
     },
     "c0ed07d1707a42dab41be9a5e1d2c445": {
      "model_module": "@jupyter-widgets/controls",
      "model_module_version": "2.0.0",
      "model_name": "ProgressStyleModel",
      "state": {
       "description_width": ""
      }
     },
     "c0f4cc91a72c40008e2fb9e43f75ac1b": {
      "model_module": "@jupyter-widgets/controls",
      "model_module_version": "2.0.0",
      "model_name": "HTMLStyleModel",
      "state": {
       "description_width": "",
       "font_size": null,
       "text_color": null
      }
     },
     "c10d1b033dd346baac33213dc840c0ff": {
      "model_module": "@jupyter-widgets/controls",
      "model_module_version": "2.0.0",
      "model_name": "ProgressStyleModel",
      "state": {
       "description_width": ""
      }
     },
     "c12eeddc6f6e40988a13a83b58e01225": {
      "model_module": "@jupyter-widgets/controls",
      "model_module_version": "2.0.0",
      "model_name": "HTMLStyleModel",
      "state": {
       "description_width": "",
       "font_size": null,
       "text_color": null
      }
     },
     "c149c6cc587a415eb28b7d58dbd5fbf3": {
      "model_module": "@jupyter-widgets/base",
      "model_module_version": "2.0.0",
      "model_name": "LayoutModel",
      "state": {
       "visibility": "hidden"
      }
     },
     "c158cf715f84483b8dbdd087b3f786b1": {
      "model_module": "@jupyter-widgets/controls",
      "model_module_version": "2.0.0",
      "model_name": "HTMLStyleModel",
      "state": {
       "description_width": "",
       "font_size": null,
       "text_color": null
      }
     },
     "c17dfbe90f114ad89dd20e7d259d5c66": {
      "model_module": "@jupyter-widgets/controls",
      "model_module_version": "2.0.0",
      "model_name": "HTMLModel",
      "state": {
       "layout": "IPY_MODEL_769c6dd17be643bc9c02ecd72a51af48",
       "style": "IPY_MODEL_810f8269a579450da89a03691e22ad83",
       "value": " 63347/63359 [06:03&lt;00:00, 170.16it/s]"
      }
     },
     "c18e5de290d74ce0ae58157532aca715": {
      "model_module": "@jupyter-widgets/controls",
      "model_module_version": "2.0.0",
      "model_name": "HTMLStyleModel",
      "state": {
       "description_width": "",
       "font_size": null,
       "text_color": null
      }
     },
     "c1e989090f614a508c3c9640b080549b": {
      "model_module": "@jupyter-widgets/controls",
      "model_module_version": "2.0.0",
      "model_name": "ProgressStyleModel",
      "state": {
       "description_width": ""
      }
     },
     "c200f88426f54613a62f9e450c45b32e": {
      "model_module": "@jupyter-widgets/controls",
      "model_module_version": "2.0.0",
      "model_name": "HTMLModel",
      "state": {
       "layout": "IPY_MODEL_100f7d0ea94e466d99f8070b6edaee42",
       "style": "IPY_MODEL_a12bef345cfe4166b53b76d5af0c8d70",
       "value": " 63355/63359 [06:04&lt;00:00, 173.71it/s]"
      }
     },
     "c219e3d8c3ec4db8b4b71494a7088c2e": {
      "model_module": "@jupyter-widgets/controls",
      "model_module_version": "2.0.0",
      "model_name": "HTMLModel",
      "state": {
       "layout": "IPY_MODEL_47fb79029ff648cb87b1bfca86f61874",
       "style": "IPY_MODEL_8c07bd4c3dd54da68d926a1a810be72b",
       "value": "100%"
      }
     },
     "c24fba6885da49b2b41df038480e40a8": {
      "model_module": "@jupyter-widgets/base",
      "model_module_version": "2.0.0",
      "model_name": "LayoutModel",
      "state": {}
     },
     "c2a5b64b2f0f4917a85cf04179d73768": {
      "model_module": "@jupyter-widgets/base",
      "model_module_version": "2.0.0",
      "model_name": "LayoutModel",
      "state": {}
     },
     "c2fe4347f35a4348aab8b0d2dd314735": {
      "model_module": "@jupyter-widgets/base",
      "model_module_version": "2.0.0",
      "model_name": "LayoutModel",
      "state": {}
     },
     "c313169bf1654fa0a528bd5229d74c79": {
      "model_module": "@jupyter-widgets/base",
      "model_module_version": "2.0.0",
      "model_name": "LayoutModel",
      "state": {
       "visibility": "hidden"
      }
     },
     "c31eefc65a0540e88a1c6b3b6b173fc3": {
      "model_module": "@jupyter-widgets/base",
      "model_module_version": "2.0.0",
      "model_name": "LayoutModel",
      "state": {
       "visibility": "hidden"
      }
     },
     "c32857d32e1f4b798f8dec3373a90c84": {
      "model_module": "@jupyter-widgets/controls",
      "model_module_version": "2.0.0",
      "model_name": "HTMLStyleModel",
      "state": {
       "description_width": "",
       "font_size": null,
       "text_color": null
      }
     },
     "c353a66ae74a40188a5482951971b78f": {
      "model_module": "@jupyter-widgets/controls",
      "model_module_version": "2.0.0",
      "model_name": "HTMLStyleModel",
      "state": {
       "description_width": "",
       "font_size": null,
       "text_color": null
      }
     },
     "c35d8afe243143f79bbdd55b68c71c84": {
      "model_module": "@jupyter-widgets/base",
      "model_module_version": "2.0.0",
      "model_name": "LayoutModel",
      "state": {}
     },
     "c38c19590fff4643bb606ac576462305": {
      "model_module": "@jupyter-widgets/controls",
      "model_module_version": "2.0.0",
      "model_name": "HTMLStyleModel",
      "state": {
       "description_width": "",
       "font_size": null,
       "text_color": null
      }
     },
     "c410bac5ebf041709b2998b5292fef18": {
      "model_module": "@jupyter-widgets/base",
      "model_module_version": "2.0.0",
      "model_name": "LayoutModel",
      "state": {}
     },
     "c4424c8e01494281ae3e37a05d5fda40": {
      "model_module": "@jupyter-widgets/base",
      "model_module_version": "2.0.0",
      "model_name": "LayoutModel",
      "state": {}
     },
     "c4640bc7d8744a70af40af2f6ce58899": {
      "model_module": "@jupyter-widgets/base",
      "model_module_version": "2.0.0",
      "model_name": "LayoutModel",
      "state": {
       "visibility": "hidden"
      }
     },
     "c46e0acc42a34ae48b9c5607f1889be8": {
      "model_module": "@jupyter-widgets/base",
      "model_module_version": "2.0.0",
      "model_name": "LayoutModel",
      "state": {}
     },
     "c47c917ca57b47a39937ea75c03aabb2": {
      "model_module": "@jupyter-widgets/controls",
      "model_module_version": "2.0.0",
      "model_name": "FloatProgressModel",
      "state": {
       "layout": "IPY_MODEL_d0dad4ba8c2d42319366381e289f229a",
       "max": 63359,
       "style": "IPY_MODEL_41840f1035d942c88741e8b22857aa3f",
       "value": 63359
      }
     },
     "c4916bab18424032ae49c73035529ba2": {
      "model_module": "@jupyter-widgets/controls",
      "model_module_version": "2.0.0",
      "model_name": "ProgressStyleModel",
      "state": {
       "description_width": ""
      }
     },
     "c4f0551cd4544c3f909f213923704054": {
      "model_module": "@jupyter-widgets/base",
      "model_module_version": "2.0.0",
      "model_name": "LayoutModel",
      "state": {}
     },
     "c54059a1966543bb8620b103bd722e93": {
      "model_module": "@jupyter-widgets/base",
      "model_module_version": "2.0.0",
      "model_name": "LayoutModel",
      "state": {
       "visibility": "hidden"
      }
     },
     "c55243ecc274427bb2de49a50d64930e": {
      "model_module": "@jupyter-widgets/controls",
      "model_module_version": "2.0.0",
      "model_name": "HTMLModel",
      "state": {
       "layout": "IPY_MODEL_2cffdaffc2774628b0f9ee456d2fb61b",
       "style": "IPY_MODEL_8a8a7dfaad354015b221de811ef7d814",
       "value": "100%"
      }
     },
     "c5644033f77d4ed38af009c64530a1b6": {
      "model_module": "@jupyter-widgets/base",
      "model_module_version": "2.0.0",
      "model_name": "LayoutModel",
      "state": {}
     },
     "c56f59b56cce41cfada909d4e142bb4a": {
      "model_module": "@jupyter-widgets/controls",
      "model_module_version": "2.0.0",
      "model_name": "HTMLStyleModel",
      "state": {
       "description_width": "",
       "font_size": null,
       "text_color": null
      }
     },
     "c5837907b1c74d54b9009a26f3e97b7d": {
      "model_module": "@jupyter-widgets/base",
      "model_module_version": "2.0.0",
      "model_name": "LayoutModel",
      "state": {
       "visibility": "hidden"
      }
     },
     "c5bd033e904a490485820a5b8d173bab": {
      "model_module": "@jupyter-widgets/base",
      "model_module_version": "2.0.0",
      "model_name": "LayoutModel",
      "state": {}
     },
     "c60d731bfe3349f2a9e38b20275641ca": {
      "model_module": "@jupyter-widgets/controls",
      "model_module_version": "2.0.0",
      "model_name": "HTMLModel",
      "state": {
       "layout": "IPY_MODEL_1bfb752210814f7d9b7264c7827cf2e0",
       "style": "IPY_MODEL_f9d425ee9dd545fb8160a69e2be0990b",
       "value": " 63350/63359 [06:06&lt;00:00, 161.47it/s]"
      }
     },
     "c6559238361b4ebf8a1f6b3af419f052": {
      "model_module": "@jupyter-widgets/controls",
      "model_module_version": "2.0.0",
      "model_name": "HTMLModel",
      "state": {
       "layout": "IPY_MODEL_8cdfb49f36a0473a9d97b6ca02a63c85",
       "style": "IPY_MODEL_848bbaec2eef487695e8103968e207f2",
       "value": "100%"
      }
     },
     "c6e54463d6fa4947a103decb443a6d89": {
      "model_module": "@jupyter-widgets/base",
      "model_module_version": "2.0.0",
      "model_name": "LayoutModel",
      "state": {}
     },
     "c700943e152c491ea55a8c3981f7c139": {
      "model_module": "@jupyter-widgets/controls",
      "model_module_version": "2.0.0",
      "model_name": "FloatProgressModel",
      "state": {
       "layout": "IPY_MODEL_5507474f3fdd4d0b81c5774109096b2a",
       "max": 63359,
       "style": "IPY_MODEL_9dcf90ecf3d7465cb7c13f9536ae9b35",
       "value": 63359
      }
     },
     "c70a9bda2f79435da38652262fb4dd7b": {
      "model_module": "@jupyter-widgets/controls",
      "model_module_version": "2.0.0",
      "model_name": "HTMLStyleModel",
      "state": {
       "description_width": "",
       "font_size": null,
       "text_color": null
      }
     },
     "c737adb941c24513963fe34c93c5c511": {
      "model_module": "@jupyter-widgets/base",
      "model_module_version": "2.0.0",
      "model_name": "LayoutModel",
      "state": {
       "visibility": "hidden"
      }
     },
     "c73c010864bc4edfb7035c42381d48f3": {
      "model_module": "@jupyter-widgets/controls",
      "model_module_version": "2.0.0",
      "model_name": "HTMLModel",
      "state": {
       "layout": "IPY_MODEL_8078cb717be748898168358592feef65",
       "style": "IPY_MODEL_5310c9328dc244b48de9f174bdace0e0",
       "value": " 63344/63359 [06:02&lt;00:00, 172.38it/s]"
      }
     },
     "c7562441937448aa808895e87273b4d2": {
      "model_module": "@jupyter-widgets/controls",
      "model_module_version": "2.0.0",
      "model_name": "HTMLStyleModel",
      "state": {
       "description_width": "",
       "font_size": null,
       "text_color": null
      }
     },
     "c75d1972f4f34eb2a7b430d675737e4c": {
      "model_module": "@jupyter-widgets/controls",
      "model_module_version": "2.0.0",
      "model_name": "HTMLModel",
      "state": {
       "layout": "IPY_MODEL_c24fba6885da49b2b41df038480e40a8",
       "style": "IPY_MODEL_96293217a8254187820f8b2dd23b11ce",
       "value": "100%"
      }
     },
     "c770ab32b96f4beba023f03953b2768f": {
      "model_module": "@jupyter-widgets/base",
      "model_module_version": "2.0.0",
      "model_name": "LayoutModel",
      "state": {}
     },
     "c8a8d359e80342b19dc31a4edf359be3": {
      "model_module": "@jupyter-widgets/base",
      "model_module_version": "2.0.0",
      "model_name": "LayoutModel",
      "state": {}
     },
     "c8aa7e6189dd4a26836a47ca10d9a93b": {
      "model_module": "@jupyter-widgets/controls",
      "model_module_version": "2.0.0",
      "model_name": "FloatProgressModel",
      "state": {
       "layout": "IPY_MODEL_d65b045762bb47dcab6ede3ad13fbce7",
       "max": 63359,
       "style": "IPY_MODEL_d44ac61d49d14bfd960a2296bd467882",
       "value": 63359
      }
     },
     "c8b394e3e4df47848e7e5a5456b04314": {
      "model_module": "@jupyter-widgets/controls",
      "model_module_version": "2.0.0",
      "model_name": "HTMLStyleModel",
      "state": {
       "description_width": "",
       "font_size": null,
       "text_color": null
      }
     },
     "c8c8d002db274cd0b05064744ccf1a7c": {
      "model_module": "@jupyter-widgets/controls",
      "model_module_version": "2.0.0",
      "model_name": "ProgressStyleModel",
      "state": {
       "description_width": ""
      }
     },
     "c8f2920c8d33461aa6646d6ee597fb58": {
      "model_module": "@jupyter-widgets/base",
      "model_module_version": "2.0.0",
      "model_name": "LayoutModel",
      "state": {
       "visibility": "hidden"
      }
     },
     "c912f4ee6a034816b1f0bd723c27db65": {
      "model_module": "@jupyter-widgets/base",
      "model_module_version": "2.0.0",
      "model_name": "LayoutModel",
      "state": {}
     },
     "c94c921e15864fecbfa4d31e5195c989": {
      "model_module": "@jupyter-widgets/base",
      "model_module_version": "2.0.0",
      "model_name": "LayoutModel",
      "state": {}
     },
     "c94fc3f4787e4845ac57ea2c18da7270": {
      "model_module": "@jupyter-widgets/controls",
      "model_module_version": "2.0.0",
      "model_name": "HTMLStyleModel",
      "state": {
       "description_width": "",
       "font_size": null,
       "text_color": null
      }
     },
     "c9725a80aa6c4c51a0722c369da6f41c": {
      "model_module": "@jupyter-widgets/base",
      "model_module_version": "2.0.0",
      "model_name": "LayoutModel",
      "state": {}
     },
     "c999e023ba9740feb504910838274917": {
      "model_module": "@jupyter-widgets/controls",
      "model_module_version": "2.0.0",
      "model_name": "ProgressStyleModel",
      "state": {
       "description_width": ""
      }
     },
     "c9a8ac3fb07843b0a8394df42dd10e2c": {
      "model_module": "@jupyter-widgets/base",
      "model_module_version": "2.0.0",
      "model_name": "LayoutModel",
      "state": {}
     },
     "c9bb90f3a9854d35978096bba909217b": {
      "model_module": "@jupyter-widgets/controls",
      "model_module_version": "2.0.0",
      "model_name": "HTMLModel",
      "state": {
       "layout": "IPY_MODEL_43295b0ee7f7458b8f360b70086dd5e5",
       "style": "IPY_MODEL_175eed242c1d47799743fa1f9426b3ab",
       "value": " 63356/63359 [05:51&lt;00:00, 180.26it/s]"
      }
     },
     "c9cbd740c6ee47519ffcbfdb606afabd": {
      "model_module": "@jupyter-widgets/controls",
      "model_module_version": "2.0.0",
      "model_name": "ProgressStyleModel",
      "state": {
       "description_width": ""
      }
     },
     "c9dddef10fc34e05a61fcf4f560ce477": {
      "model_module": "@jupyter-widgets/controls",
      "model_module_version": "2.0.0",
      "model_name": "HTMLStyleModel",
      "state": {
       "description_width": "",
       "font_size": null,
       "text_color": null
      }
     },
     "ca1012c41b214e2b9c895c9996693c48": {
      "model_module": "@jupyter-widgets/controls",
      "model_module_version": "2.0.0",
      "model_name": "FloatProgressModel",
      "state": {
       "layout": "IPY_MODEL_fe5d239159c041888d9414df9e269b50",
       "max": 63359,
       "style": "IPY_MODEL_8893a094e4964f9bbd306ab2a04038cb",
       "value": 63359
      }
     },
     "ca4dbfdfbaf5413cacb6f1e1da09fe05": {
      "model_module": "@jupyter-widgets/controls",
      "model_module_version": "2.0.0",
      "model_name": "HTMLModel",
      "state": {
       "layout": "IPY_MODEL_3c380b8271bc4806b9f2583db2e5cdea",
       "style": "IPY_MODEL_4119797d55744126a03490ad058e324e",
       "value": " 63354/63359 [06:33&lt;00:00, 148.25it/s]"
      }
     },
     "ca71899c74d1404aba5c01ee3ff73134": {
      "model_module": "@jupyter-widgets/base",
      "model_module_version": "2.0.0",
      "model_name": "LayoutModel",
      "state": {}
     },
     "ca72befc4263478c8386dc9fa55d1633": {
      "model_module": "@jupyter-widgets/base",
      "model_module_version": "2.0.0",
      "model_name": "LayoutModel",
      "state": {}
     },
     "ca7c1917a3fc4d5ea5d0a66bc9e8efc5": {
      "model_module": "@jupyter-widgets/base",
      "model_module_version": "2.0.0",
      "model_name": "LayoutModel",
      "state": {}
     },
     "ca880616522a451a91bf1d9336a0d080": {
      "model_module": "@jupyter-widgets/controls",
      "model_module_version": "2.0.0",
      "model_name": "FloatProgressModel",
      "state": {
       "layout": "IPY_MODEL_a34813d39e3b4618bc47c7d498999922",
       "max": 63359,
       "style": "IPY_MODEL_b40ad4e7e5084da488703787a1af3418",
       "value": 63359
      }
     },
     "ca8de816bcb64539b87ea6b5b793761c": {
      "model_module": "@jupyter-widgets/controls",
      "model_module_version": "2.0.0",
      "model_name": "FloatProgressModel",
      "state": {
       "layout": "IPY_MODEL_a721685f7d1a4019bafcee3946d9f475",
       "max": 63359,
       "style": "IPY_MODEL_8cbfd53f48914eebae6fc3c0dbece0b1",
       "value": 63359
      }
     },
     "caacf002167f4a639ae038c8bed030a2": {
      "model_module": "@jupyter-widgets/controls",
      "model_module_version": "2.0.0",
      "model_name": "HTMLModel",
      "state": {
       "layout": "IPY_MODEL_65342910dbf4462fac96fdb05bc8d09c",
       "style": "IPY_MODEL_b71378d7cd524a3a93d425a962bef465",
       "value": " 63359/63359 [06:09&lt;00:00, 173.95it/s]"
      }
     },
     "cabc7776119449d1ac335bb3dd16763e": {
      "model_module": "@jupyter-widgets/controls",
      "model_module_version": "2.0.0",
      "model_name": "HTMLModel",
      "state": {
       "layout": "IPY_MODEL_cc81c81bcc714fb7b952b3dd90385d75",
       "style": "IPY_MODEL_2716629ab2714404a321662c7e265a97",
       "value": " 63343/63359 [06:40&lt;00:00, 176.25it/s]"
      }
     },
     "cacfd78aed9147a69a737920e5295625": {
      "model_module": "@jupyter-widgets/controls",
      "model_module_version": "2.0.0",
      "model_name": "HTMLModel",
      "state": {
       "layout": "IPY_MODEL_2f05732735214f2eb194e5a9708005a1",
       "style": "IPY_MODEL_9c76e8ffb2c94c7dadca6647c4f4e72f",
       "value": " 63347/63359 [06:12&lt;00:00, 166.01it/s]"
      }
     },
     "cad41cd0f48b4d78a6a89bcec9caaa3d": {
      "model_module": "@jupyter-widgets/controls",
      "model_module_version": "2.0.0",
      "model_name": "HTMLStyleModel",
      "state": {
       "description_width": "",
       "font_size": null,
       "text_color": null
      }
     },
     "cb23d8624a7446b09d2c250d688dc57f": {
      "model_module": "@jupyter-widgets/controls",
      "model_module_version": "2.0.0",
      "model_name": "HTMLStyleModel",
      "state": {
       "description_width": "",
       "font_size": null,
       "text_color": null
      }
     },
     "cb2637129fc946aeab934df1f3fa31e9": {
      "model_module": "@jupyter-widgets/controls",
      "model_module_version": "2.0.0",
      "model_name": "HTMLStyleModel",
      "state": {
       "description_width": "",
       "font_size": null,
       "text_color": null
      }
     },
     "cb54cf738540438f8ddc6d9f76391a33": {
      "model_module": "@jupyter-widgets/controls",
      "model_module_version": "2.0.0",
      "model_name": "HTMLModel",
      "state": {
       "layout": "IPY_MODEL_9b4bf529c9924955ba305c7cb4a435b1",
       "style": "IPY_MODEL_fbe0ed25a1c3453f8a8fd9d0e7349eaf",
       "value": " 63347/63359 [06:04&lt;00:00, 173.87it/s]"
      }
     },
     "cb879a1093fc496286dd5793c15f2eef": {
      "model_module": "@jupyter-widgets/base",
      "model_module_version": "2.0.0",
      "model_name": "LayoutModel",
      "state": {}
     },
     "cb9c7f09242442619501c3b9c579ccad": {
      "model_module": "@jupyter-widgets/controls",
      "model_module_version": "2.0.0",
      "model_name": "HTMLModel",
      "state": {
       "layout": "IPY_MODEL_0cbf2933c1e64a9d93cb623567326b40",
       "style": "IPY_MODEL_260abc77a5474537ba56d125c86b061d",
       "value": " 63352/63359 [06:02&lt;00:00, 174.93it/s]"
      }
     },
     "cb9ffb5a7dc346bebcb792e14e9f0879": {
      "model_module": "@jupyter-widgets/controls",
      "model_module_version": "2.0.0",
      "model_name": "HTMLModel",
      "state": {
       "layout": "IPY_MODEL_966b69129b7d4417a49a3a8b6fbef954",
       "style": "IPY_MODEL_398aea0c8a884f5c8a1a977f1b791551",
       "value": "100%"
      }
     },
     "cbb6c65577c44840a11313071128e1bb": {
      "model_module": "@jupyter-widgets/controls",
      "model_module_version": "2.0.0",
      "model_name": "HTMLStyleModel",
      "state": {
       "description_width": "",
       "font_size": null,
       "text_color": null
      }
     },
     "cbdf7d5d9e3e4111bc0318150c841eb8": {
      "model_module": "@jupyter-widgets/base",
      "model_module_version": "2.0.0",
      "model_name": "LayoutModel",
      "state": {}
     },
     "cc1378664e524571a2d1a247594bd684": {
      "model_module": "@jupyter-widgets/controls",
      "model_module_version": "2.0.0",
      "model_name": "HTMLStyleModel",
      "state": {
       "description_width": "",
       "font_size": null,
       "text_color": null
      }
     },
     "cc636530e4b34be48cdf668b0282de7a": {
      "model_module": "@jupyter-widgets/controls",
      "model_module_version": "2.0.0",
      "model_name": "HTMLModel",
      "state": {
       "layout": "IPY_MODEL_ae89ff434c5c42deba89220b893d8c3f",
       "style": "IPY_MODEL_4c3529c42266499db7ea053b6f3cee31",
       "value": " 63346/63359 [06:30&lt;00:00, 175.34it/s]"
      }
     },
     "cc81c81bcc714fb7b952b3dd90385d75": {
      "model_module": "@jupyter-widgets/base",
      "model_module_version": "2.0.0",
      "model_name": "LayoutModel",
      "state": {}
     },
     "ccac25330bf94822aad0c4aa540a6fa1": {
      "model_module": "@jupyter-widgets/controls",
      "model_module_version": "2.0.0",
      "model_name": "HTMLModel",
      "state": {
       "layout": "IPY_MODEL_d5b1e2b4f6444e97b6048857dda36118",
       "style": "IPY_MODEL_2f7310929325452593bbb7d71f51351d",
       "value": "100%"
      }
     },
     "cccccc44655746e4ada72a88c3ebd65a": {
      "model_module": "@jupyter-widgets/controls",
      "model_module_version": "2.0.0",
      "model_name": "HTMLModel",
      "state": {
       "layout": "IPY_MODEL_6280a35d1e07436f8bbaf8128c6d2311",
       "style": "IPY_MODEL_e52c575cf72446ac90fb9f577b10e316",
       "value": "100%"
      }
     },
     "cce7c041ca26496182e180c09860e2bf": {
      "model_module": "@jupyter-widgets/controls",
      "model_module_version": "2.0.0",
      "model_name": "HTMLModel",
      "state": {
       "layout": "IPY_MODEL_59c4741cea43469d89f6e53646146fbc",
       "style": "IPY_MODEL_aa95e612c5154aedb8aa3a9aa100b45c",
       "value": " 63349/63359 [06:23&lt;00:00, 163.87it/s]"
      }
     },
     "ccf26b8adff3451299b8e21984d07ae6": {
      "model_module": "@jupyter-widgets/controls",
      "model_module_version": "2.0.0",
      "model_name": "HTMLStyleModel",
      "state": {
       "description_width": "",
       "font_size": null,
       "text_color": null
      }
     },
     "ccf56f56264c45aeaef129d371966eda": {
      "model_module": "@jupyter-widgets/controls",
      "model_module_version": "2.0.0",
      "model_name": "ProgressStyleModel",
      "state": {
       "description_width": ""
      }
     },
     "cd0bddbbe4704dc7be90686c28275b15": {
      "model_module": "@jupyter-widgets/base",
      "model_module_version": "2.0.0",
      "model_name": "LayoutModel",
      "state": {}
     },
     "cd13fc633b344e53ad6b5eeaa057b4d3": {
      "model_module": "@jupyter-widgets/controls",
      "model_module_version": "2.0.0",
      "model_name": "HTMLStyleModel",
      "state": {
       "description_width": "",
       "font_size": null,
       "text_color": null
      }
     },
     "cd587e8933924ceaa850345209685d28": {
      "model_module": "@jupyter-widgets/base",
      "model_module_version": "2.0.0",
      "model_name": "LayoutModel",
      "state": {
       "visibility": "hidden"
      }
     },
     "cd5fbb98d535458b89fe081f16719f82": {
      "model_module": "@jupyter-widgets/controls",
      "model_module_version": "2.0.0",
      "model_name": "FloatProgressModel",
      "state": {
       "layout": "IPY_MODEL_00d65aaf639a434797d581056263d346",
       "max": 63359,
       "style": "IPY_MODEL_0be266de3e044454a692d8ee546c473c",
       "value": 63359
      }
     },
     "cd71effd5e954989842918c1f0c6653e": {
      "model_module": "@jupyter-widgets/base",
      "model_module_version": "2.0.0",
      "model_name": "LayoutModel",
      "state": {}
     },
     "cd89d66734984408889ed2503808e9ab": {
      "model_module": "@jupyter-widgets/controls",
      "model_module_version": "2.0.0",
      "model_name": "ProgressStyleModel",
      "state": {
       "description_width": ""
      }
     },
     "cd99262e9bdd48f580194dc54032a934": {
      "model_module": "@jupyter-widgets/controls",
      "model_module_version": "2.0.0",
      "model_name": "HTMLStyleModel",
      "state": {
       "description_width": "",
       "font_size": null,
       "text_color": null
      }
     },
     "cda2862405034f35a04e00d91373d70d": {
      "model_module": "@jupyter-widgets/controls",
      "model_module_version": "2.0.0",
      "model_name": "HTMLModel",
      "state": {
       "layout": "IPY_MODEL_36e7763aa05a43cf8296beae5246fa82",
       "style": "IPY_MODEL_6bb4e0649e604355860194f46648e20a",
       "value": "100%"
      }
     },
     "cdd634a67d254b8592284ace2d245f6b": {
      "model_module": "@jupyter-widgets/base",
      "model_module_version": "2.0.0",
      "model_name": "LayoutModel",
      "state": {}
     },
     "cddbb96fa8e348d288badd253cae6ec8": {
      "model_module": "@jupyter-widgets/controls",
      "model_module_version": "2.0.0",
      "model_name": "HTMLStyleModel",
      "state": {
       "description_width": "",
       "font_size": null,
       "text_color": null
      }
     },
     "cde3be9c6b0b418bb3ba02237e342ddb": {
      "model_module": "@jupyter-widgets/base",
      "model_module_version": "2.0.0",
      "model_name": "LayoutModel",
      "state": {}
     },
     "ce20e899ef974e8b893b9116ae8a5ce6": {
      "model_module": "@jupyter-widgets/base",
      "model_module_version": "2.0.0",
      "model_name": "LayoutModel",
      "state": {
       "visibility": "hidden"
      }
     },
     "ce31b139fa7d4a1bbb37ba45e26874b2": {
      "model_module": "@jupyter-widgets/controls",
      "model_module_version": "2.0.0",
      "model_name": "HTMLModel",
      "state": {
       "layout": "IPY_MODEL_eb51baa5d4c14b5782aca928267605fe",
       "style": "IPY_MODEL_11883c8d9f1a459eba16fb78cda9a442",
       "value": " 63345/63359 [06:11&lt;00:00, 171.48it/s]"
      }
     },
     "ce72fa1e50554adda072ad76f3e43852": {
      "model_module": "@jupyter-widgets/controls",
      "model_module_version": "2.0.0",
      "model_name": "HTMLModel",
      "state": {
       "layout": "IPY_MODEL_eb59cffdbc3f4b169020f1c5336e170b",
       "style": "IPY_MODEL_0095fc280aa64ceca51e37c4f3fb9272",
       "value": "100%"
      }
     },
     "cec06412feab4c049e677cde98f77192": {
      "model_module": "@jupyter-widgets/controls",
      "model_module_version": "2.0.0",
      "model_name": "HTMLStyleModel",
      "state": {
       "description_width": "",
       "font_size": null,
       "text_color": null
      }
     },
     "cf0d19650a934dd99dbd3a76f94e7679": {
      "model_module": "@jupyter-widgets/controls",
      "model_module_version": "2.0.0",
      "model_name": "HTMLStyleModel",
      "state": {
       "description_width": "",
       "font_size": null,
       "text_color": null
      }
     },
     "cf14c9f798ca44dcbb2ffa711c5a4511": {
      "model_module": "@jupyter-widgets/controls",
      "model_module_version": "2.0.0",
      "model_name": "ProgressStyleModel",
      "state": {
       "description_width": ""
      }
     },
     "cf24c2aaa6324ecda636a487ea5d28fc": {
      "model_module": "@jupyter-widgets/base",
      "model_module_version": "2.0.0",
      "model_name": "LayoutModel",
      "state": {}
     },
     "cfc2fb198c144800afac918e975946ba": {
      "model_module": "@jupyter-widgets/controls",
      "model_module_version": "2.0.0",
      "model_name": "ProgressStyleModel",
      "state": {
       "description_width": ""
      }
     },
     "cff6feb80c584deb8d35ac2a21198664": {
      "model_module": "@jupyter-widgets/base",
      "model_module_version": "2.0.0",
      "model_name": "LayoutModel",
      "state": {}
     },
     "cff965f00e68472bb1f4c5440291220a": {
      "model_module": "@jupyter-widgets/base",
      "model_module_version": "2.0.0",
      "model_name": "LayoutModel",
      "state": {}
     },
     "d004f468bce54bb89ac25e5224417260": {
      "model_module": "@jupyter-widgets/base",
      "model_module_version": "2.0.0",
      "model_name": "LayoutModel",
      "state": {}
     },
     "d0174a4d155445e888b6bf2474c8a5c5": {
      "model_module": "@jupyter-widgets/base",
      "model_module_version": "2.0.0",
      "model_name": "LayoutModel",
      "state": {}
     },
     "d0232794486148ab822eb41876ed05b7": {
      "model_module": "@jupyter-widgets/base",
      "model_module_version": "2.0.0",
      "model_name": "LayoutModel",
      "state": {}
     },
     "d023ae1ff83e4347ae64e2a50b3ecf4c": {
      "model_module": "@jupyter-widgets/controls",
      "model_module_version": "2.0.0",
      "model_name": "HTMLStyleModel",
      "state": {
       "description_width": "",
       "font_size": null,
       "text_color": null
      }
     },
     "d0265447bd294450ac506dfc2e34fefc": {
      "model_module": "@jupyter-widgets/base",
      "model_module_version": "2.0.0",
      "model_name": "LayoutModel",
      "state": {}
     },
     "d03a4f53b4d94e7f8d929322dff85101": {
      "model_module": "@jupyter-widgets/base",
      "model_module_version": "2.0.0",
      "model_name": "LayoutModel",
      "state": {}
     },
     "d05397f751814aa7a9608fbc9e275863": {
      "model_module": "@jupyter-widgets/controls",
      "model_module_version": "2.0.0",
      "model_name": "HTMLStyleModel",
      "state": {
       "description_width": "",
       "font_size": null,
       "text_color": null
      }
     },
     "d0749d62b14e45d8ba33d60d61deb49d": {
      "model_module": "@jupyter-widgets/controls",
      "model_module_version": "2.0.0",
      "model_name": "HTMLStyleModel",
      "state": {
       "description_width": "",
       "font_size": null,
       "text_color": null
      }
     },
     "d088fa189b5f4018bbfb10b47a78b497": {
      "model_module": "@jupyter-widgets/base",
      "model_module_version": "2.0.0",
      "model_name": "LayoutModel",
      "state": {}
     },
     "d09d95646c8541169197c7a6be371f27": {
      "model_module": "@jupyter-widgets/base",
      "model_module_version": "2.0.0",
      "model_name": "LayoutModel",
      "state": {
       "visibility": "hidden"
      }
     },
     "d0adef5b6c52480492fac12530919574": {
      "model_module": "@jupyter-widgets/controls",
      "model_module_version": "2.0.0",
      "model_name": "HTMLStyleModel",
      "state": {
       "description_width": "",
       "font_size": null,
       "text_color": null
      }
     },
     "d0dad4ba8c2d42319366381e289f229a": {
      "model_module": "@jupyter-widgets/base",
      "model_module_version": "2.0.0",
      "model_name": "LayoutModel",
      "state": {}
     },
     "d0ec732eb27c4cad8c78bc3c1a0a3286": {
      "model_module": "@jupyter-widgets/controls",
      "model_module_version": "2.0.0",
      "model_name": "FloatProgressModel",
      "state": {
       "layout": "IPY_MODEL_1bb23d7d66474ae58c8cb4fc009264fe",
       "max": 63359,
       "style": "IPY_MODEL_298cf6f8df9f4011a19ca5c85379a57d",
       "value": 63359
      }
     },
     "d10ae929de12493abe1630400ff29405": {
      "model_module": "@jupyter-widgets/base",
      "model_module_version": "2.0.0",
      "model_name": "LayoutModel",
      "state": {}
     },
     "d113c64f3d904f03934f0e53e9cde042": {
      "model_module": "@jupyter-widgets/controls",
      "model_module_version": "2.0.0",
      "model_name": "ProgressStyleModel",
      "state": {
       "description_width": ""
      }
     },
     "d144b9ee0a0443608423e6cf9dc690a1": {
      "model_module": "@jupyter-widgets/controls",
      "model_module_version": "2.0.0",
      "model_name": "ProgressStyleModel",
      "state": {
       "description_width": ""
      }
     },
     "d17ee433e4c1406f9bd089c25cc349e2": {
      "model_module": "@jupyter-widgets/controls",
      "model_module_version": "2.0.0",
      "model_name": "HTMLModel",
      "state": {
       "layout": "IPY_MODEL_41bb6323c42d4bf6b7f8a1da00e42a94",
       "style": "IPY_MODEL_c158cf715f84483b8dbdd087b3f786b1",
       "value": " 63351/63359 [06:01&lt;00:00, 175.04it/s]"
      }
     },
     "d1a29f10017943caa2047eb97729b032": {
      "model_module": "@jupyter-widgets/controls",
      "model_module_version": "2.0.0",
      "model_name": "HTMLModel",
      "state": {
       "layout": "IPY_MODEL_3a3b01f480814a69b22fb576b9629069",
       "style": "IPY_MODEL_d6d01baf0c12484199e268d9f555b608",
       "value": " 63354/63359 [06:10&lt;00:00, 175.57it/s]"
      }
     },
     "d1cbc32feffc4556825b07340ed520b7": {
      "model_module": "@jupyter-widgets/base",
      "model_module_version": "2.0.0",
      "model_name": "LayoutModel",
      "state": {}
     },
     "d200159d865444b68334bf28eef59014": {
      "model_module": "@jupyter-widgets/controls",
      "model_module_version": "2.0.0",
      "model_name": "HTMLModel",
      "state": {
       "layout": "IPY_MODEL_9fb7422dc65f4572bac2db4094c0c1ec",
       "style": "IPY_MODEL_64c2598165d74042a8d6ff1c35db5ba3",
       "value": " 63345/63359 [06:10&lt;00:00, 167.62it/s]"
      }
     },
     "d23666b48b2e4db58242344651384880": {
      "model_module": "@jupyter-widgets/controls",
      "model_module_version": "2.0.0",
      "model_name": "HTMLStyleModel",
      "state": {
       "description_width": "",
       "font_size": null,
       "text_color": null
      }
     },
     "d25474db99464f7c9efa774413901fae": {
      "model_module": "@jupyter-widgets/controls",
      "model_module_version": "2.0.0",
      "model_name": "HTMLStyleModel",
      "state": {
       "description_width": "",
       "font_size": null,
       "text_color": null
      }
     },
     "d25c45aa3f4e4b2ea690dd825c9b9df0": {
      "model_module": "@jupyter-widgets/controls",
      "model_module_version": "2.0.0",
      "model_name": "FloatProgressModel",
      "state": {
       "layout": "IPY_MODEL_b08e3aff529f4f689089e67e1e1f716d",
       "max": 63359,
       "style": "IPY_MODEL_f72d9328a7bd4ec78d1e78954154042d",
       "value": 63359
      }
     },
     "d26393318ba641869bff406b05d936b1": {
      "model_module": "@jupyter-widgets/controls",
      "model_module_version": "2.0.0",
      "model_name": "HTMLStyleModel",
      "state": {
       "description_width": "",
       "font_size": null,
       "text_color": null
      }
     },
     "d2648d36a4404c1c99e0fe2bab562ec9": {
      "model_module": "@jupyter-widgets/controls",
      "model_module_version": "2.0.0",
      "model_name": "HTMLModel",
      "state": {
       "layout": "IPY_MODEL_ef087815a19e4d39bf4be63b71e7f45e",
       "style": "IPY_MODEL_f39621c6bcb14d2b9c5cc22bfbc6d9e3",
       "value": "100%"
      }
     },
     "d2865516b2cb4b46bde57289be047206": {
      "model_module": "@jupyter-widgets/controls",
      "model_module_version": "2.0.0",
      "model_name": "HTMLStyleModel",
      "state": {
       "description_width": "",
       "font_size": null,
       "text_color": null
      }
     },
     "d29f8821c11743708a90b4a5e91c7871": {
      "model_module": "@jupyter-widgets/controls",
      "model_module_version": "2.0.0",
      "model_name": "HTMLStyleModel",
      "state": {
       "description_width": "",
       "font_size": null,
       "text_color": null
      }
     },
     "d2b32ec2667240b98b5d299ce281b8ac": {
      "model_module": "@jupyter-widgets/controls",
      "model_module_version": "2.0.0",
      "model_name": "HTMLStyleModel",
      "state": {
       "description_width": "",
       "font_size": null,
       "text_color": null
      }
     },
     "d2bf78a256744b3e866269c6c1bc1329": {
      "model_module": "@jupyter-widgets/base",
      "model_module_version": "2.0.0",
      "model_name": "LayoutModel",
      "state": {}
     },
     "d2c40b4e73824ca488eeb2fa0e8872e3": {
      "model_module": "@jupyter-widgets/controls",
      "model_module_version": "2.0.0",
      "model_name": "ProgressStyleModel",
      "state": {
       "description_width": ""
      }
     },
     "d2cc642c9c3d4ddcaf75276020366429": {
      "model_module": "@jupyter-widgets/base",
      "model_module_version": "2.0.0",
      "model_name": "LayoutModel",
      "state": {}
     },
     "d2d09e3058a54fa58d284365f83d2cee": {
      "model_module": "@jupyter-widgets/base",
      "model_module_version": "2.0.0",
      "model_name": "LayoutModel",
      "state": {}
     },
     "d2e82d90fba74273987d0fe2ea786458": {
      "model_module": "@jupyter-widgets/base",
      "model_module_version": "2.0.0",
      "model_name": "LayoutModel",
      "state": {}
     },
     "d2f62fff8150450b8e56206441c7da06": {
      "model_module": "@jupyter-widgets/controls",
      "model_module_version": "2.0.0",
      "model_name": "ProgressStyleModel",
      "state": {
       "description_width": ""
      }
     },
     "d31e3b35d8b54c209861a4491d3b6515": {
      "model_module": "@jupyter-widgets/controls",
      "model_module_version": "2.0.0",
      "model_name": "ProgressStyleModel",
      "state": {
       "description_width": ""
      }
     },
     "d320fedc13394a86a86693422d9e83f5": {
      "model_module": "@jupyter-widgets/controls",
      "model_module_version": "2.0.0",
      "model_name": "HTMLModel",
      "state": {
       "layout": "IPY_MODEL_db20547a93524296b2a4582387fd66ac",
       "style": "IPY_MODEL_8d33ecf9e804451e9ae1f9945f6aeb78",
       "value": " 63348/63359 [06:03&lt;00:00, 175.28it/s]"
      }
     },
     "d34a8f207cb4423eb8fc30a490dc7fd0": {
      "model_module": "@jupyter-widgets/controls",
      "model_module_version": "2.0.0",
      "model_name": "HTMLModel",
      "state": {
       "layout": "IPY_MODEL_b4df5bd5ef1140c1b5585430544cee2d",
       "style": "IPY_MODEL_c353a66ae74a40188a5482951971b78f",
       "value": "100%"
      }
     },
     "d34d72e2c880449dac8f1caf52efd136": {
      "model_module": "@jupyter-widgets/controls",
      "model_module_version": "2.0.0",
      "model_name": "ProgressStyleModel",
      "state": {
       "description_width": ""
      }
     },
     "d35d65a575d8423bb6781b4187c02b2a": {
      "model_module": "@jupyter-widgets/controls",
      "model_module_version": "2.0.0",
      "model_name": "HTMLStyleModel",
      "state": {
       "description_width": "",
       "font_size": null,
       "text_color": null
      }
     },
     "d3c9b44e95654f5f91b7b851e7c3384d": {
      "model_module": "@jupyter-widgets/base",
      "model_module_version": "2.0.0",
      "model_name": "LayoutModel",
      "state": {}
     },
     "d418cedc518f4f7d9e55ee0479396eaa": {
      "model_module": "@jupyter-widgets/controls",
      "model_module_version": "2.0.0",
      "model_name": "ProgressStyleModel",
      "state": {
       "description_width": ""
      }
     },
     "d41ce31b277d4fefaeeb4ea6bae36a5e": {
      "model_module": "@jupyter-widgets/controls",
      "model_module_version": "2.0.0",
      "model_name": "HTMLModel",
      "state": {
       "layout": "IPY_MODEL_f039760f7beb46e6858a8c3ce99f76fa",
       "style": "IPY_MODEL_02119699213948a9a22a8b0eec0aae42",
       "value": " 63347/63359 [06:52&lt;00:00, 153.04it/s]"
      }
     },
     "d42d23a1fccb430c8c6effbd54e9743c": {
      "model_module": "@jupyter-widgets/controls",
      "model_module_version": "2.0.0",
      "model_name": "HTMLStyleModel",
      "state": {
       "description_width": "",
       "font_size": null,
       "text_color": null
      }
     },
     "d43a104fe9294782824c3f8c477fe500": {
      "model_module": "@jupyter-widgets/controls",
      "model_module_version": "2.0.0",
      "model_name": "HTMLModel",
      "state": {
       "layout": "IPY_MODEL_5a17878631c448e4b4c0752e2550a2e6",
       "style": "IPY_MODEL_9b7282ab4a1646478259de9eddd7cd9a",
       "value": " 63359/63359 [06:13&lt;00:00, 171.79it/s]"
      }
     },
     "d44ac61d49d14bfd960a2296bd467882": {
      "model_module": "@jupyter-widgets/controls",
      "model_module_version": "2.0.0",
      "model_name": "ProgressStyleModel",
      "state": {
       "description_width": ""
      }
     },
     "d496cc6b4b74493e953d8b05a958e802": {
      "model_module": "@jupyter-widgets/controls",
      "model_module_version": "2.0.0",
      "model_name": "HTMLModel",
      "state": {
       "layout": "IPY_MODEL_cb879a1093fc496286dd5793c15f2eef",
       "style": "IPY_MODEL_abb3399768d049dd9cfd82fb88dec9e8",
       "value": "100%"
      }
     },
     "d49be27c03eb435c9d8e7ec2eb98778d": {
      "model_module": "@jupyter-widgets/base",
      "model_module_version": "2.0.0",
      "model_name": "LayoutModel",
      "state": {
       "visibility": "hidden"
      }
     },
     "d4c459ff649642e68dce4317b3f309a0": {
      "model_module": "@jupyter-widgets/base",
      "model_module_version": "2.0.0",
      "model_name": "LayoutModel",
      "state": {}
     },
     "d4ff10f2868147ddb84bb69a6bcd0c21": {
      "model_module": "@jupyter-widgets/base",
      "model_module_version": "2.0.0",
      "model_name": "LayoutModel",
      "state": {}
     },
     "d50c2d4fe2ff4e88bef766eda78a5da9": {
      "model_module": "@jupyter-widgets/base",
      "model_module_version": "2.0.0",
      "model_name": "LayoutModel",
      "state": {}
     },
     "d50f65a4314e426ba74cf69f361e9482": {
      "model_module": "@jupyter-widgets/controls",
      "model_module_version": "2.0.0",
      "model_name": "HTMLModel",
      "state": {
       "layout": "IPY_MODEL_b6cdc609a3994a6c807b5b4fe82c0f99",
       "style": "IPY_MODEL_8614baec81034642a747fdac8a574515",
       "value": "100%"
      }
     },
     "d552620d25454b57bfd6cc4a62f01a1e": {
      "model_module": "@jupyter-widgets/controls",
      "model_module_version": "2.0.0",
      "model_name": "HTMLModel",
      "state": {
       "layout": "IPY_MODEL_f27f15d4543f4672b0467b7422f7d69a",
       "style": "IPY_MODEL_8d5ae6c0a8444bb6ad6e40bb0c554bd6",
       "value": " 63357/63359 [06:03&lt;00:00, 171.91it/s]"
      }
     },
     "d57103a7f461463d85e284ff1e16190c": {
      "model_module": "@jupyter-widgets/controls",
      "model_module_version": "2.0.0",
      "model_name": "HTMLModel",
      "state": {
       "layout": "IPY_MODEL_30b256c142fa446f99476d28e9880621",
       "style": "IPY_MODEL_857d5b28731f4ebf82161c591e606a09",
       "value": "100%"
      }
     },
     "d57111a11cd84d1588e8688725177824": {
      "model_module": "@jupyter-widgets/base",
      "model_module_version": "2.0.0",
      "model_name": "LayoutModel",
      "state": {}
     },
     "d5868bc5e9394e5d9278e4a251aba9ed": {
      "model_module": "@jupyter-widgets/base",
      "model_module_version": "2.0.0",
      "model_name": "LayoutModel",
      "state": {
       "visibility": "hidden"
      }
     },
     "d5ad10495e694196ba009582205c82fc": {
      "model_module": "@jupyter-widgets/controls",
      "model_module_version": "2.0.0",
      "model_name": "HTMLModel",
      "state": {
       "layout": "IPY_MODEL_f1904e68bd5a46edb85df5cb4b6c805c",
       "style": "IPY_MODEL_74178075871e49b4a643b582820f3d23",
       "value": "100%"
      }
     },
     "d5b1e2b4f6444e97b6048857dda36118": {
      "model_module": "@jupyter-widgets/base",
      "model_module_version": "2.0.0",
      "model_name": "LayoutModel",
      "state": {}
     },
     "d5c6bc02c6aa41dabd9049f6c1f2fb8c": {
      "model_module": "@jupyter-widgets/base",
      "model_module_version": "2.0.0",
      "model_name": "LayoutModel",
      "state": {
       "visibility": "hidden"
      }
     },
     "d5e1a7ff8524484da05d93dcf9c995b2": {
      "model_module": "@jupyter-widgets/controls",
      "model_module_version": "2.0.0",
      "model_name": "HTMLStyleModel",
      "state": {
       "description_width": "",
       "font_size": null,
       "text_color": null
      }
     },
     "d61c528ce4744b37b4ce9733d69d622c": {
      "model_module": "@jupyter-widgets/controls",
      "model_module_version": "2.0.0",
      "model_name": "ProgressStyleModel",
      "state": {
       "description_width": ""
      }
     },
     "d646cc36cea94708b338405bde5354cc": {
      "model_module": "@jupyter-widgets/base",
      "model_module_version": "2.0.0",
      "model_name": "LayoutModel",
      "state": {}
     },
     "d64e44065523452da07271fb6364ca7c": {
      "model_module": "@jupyter-widgets/base",
      "model_module_version": "2.0.0",
      "model_name": "LayoutModel",
      "state": {
       "visibility": "hidden"
      }
     },
     "d65b045762bb47dcab6ede3ad13fbce7": {
      "model_module": "@jupyter-widgets/base",
      "model_module_version": "2.0.0",
      "model_name": "LayoutModel",
      "state": {}
     },
     "d65cbe7d6837418ba9097a1a05ae8eb6": {
      "model_module": "@jupyter-widgets/controls",
      "model_module_version": "2.0.0",
      "model_name": "FloatProgressModel",
      "state": {
       "layout": "IPY_MODEL_efdb1d7853524afbb182436235b2ad7d",
       "max": 63359,
       "style": "IPY_MODEL_d31e3b35d8b54c209861a4491d3b6515",
       "value": 63359
      }
     },
     "d66676473393438fb9755ef5030eae83": {
      "model_module": "@jupyter-widgets/controls",
      "model_module_version": "2.0.0",
      "model_name": "HTMLStyleModel",
      "state": {
       "description_width": "",
       "font_size": null,
       "text_color": null
      }
     },
     "d66c97ce5f764e02ac29a15f7f0d513b": {
      "model_module": "@jupyter-widgets/controls",
      "model_module_version": "2.0.0",
      "model_name": "HTMLModel",
      "state": {
       "layout": "IPY_MODEL_b69bd20648fd4dcba398c5fed40724e4",
       "style": "IPY_MODEL_4f2f70fcbf4d480da0aa5e1466a3b7a2",
       "value": " 63348/63359 [05:51&lt;00:00, 180.77it/s]"
      }
     },
     "d679536177284399bc73666adefe831c": {
      "model_module": "@jupyter-widgets/base",
      "model_module_version": "2.0.0",
      "model_name": "LayoutModel",
      "state": {}
     },
     "d6d01baf0c12484199e268d9f555b608": {
      "model_module": "@jupyter-widgets/controls",
      "model_module_version": "2.0.0",
      "model_name": "HTMLStyleModel",
      "state": {
       "description_width": "",
       "font_size": null,
       "text_color": null
      }
     },
     "d6eabf977c74453eaf99d9fe5f81fe18": {
      "model_module": "@jupyter-widgets/base",
      "model_module_version": "2.0.0",
      "model_name": "LayoutModel",
      "state": {
       "visibility": "hidden"
      }
     },
     "d7a297020c6c451a870f9f44882e3aba": {
      "model_module": "@jupyter-widgets/controls",
      "model_module_version": "2.0.0",
      "model_name": "HTMLStyleModel",
      "state": {
       "description_width": "",
       "font_size": null,
       "text_color": null
      }
     },
     "d7a5458f86594b4797a3cbbf38ce8fb8": {
      "model_module": "@jupyter-widgets/base",
      "model_module_version": "2.0.0",
      "model_name": "LayoutModel",
      "state": {}
     },
     "d813db1597194f0baa5ab8578d2a814c": {
      "model_module": "@jupyter-widgets/controls",
      "model_module_version": "2.0.0",
      "model_name": "HTMLModel",
      "state": {
       "layout": "IPY_MODEL_01a907d9153747849483cc6e1a53ab77",
       "style": "IPY_MODEL_aa9fa56212fa4001bc45cc44acb30048",
       "value": "100%"
      }
     },
     "d86cf244ad93499b9d1753ed5377a185": {
      "model_module": "@jupyter-widgets/base",
      "model_module_version": "2.0.0",
      "model_name": "LayoutModel",
      "state": {}
     },
     "d86f172b2e054e34b1d7f9374e57bb3b": {
      "model_module": "@jupyter-widgets/controls",
      "model_module_version": "2.0.0",
      "model_name": "ProgressStyleModel",
      "state": {
       "description_width": ""
      }
     },
     "d8756089c9064fe590425a87a215baee": {
      "model_module": "@jupyter-widgets/controls",
      "model_module_version": "2.0.0",
      "model_name": "HTMLModel",
      "state": {
       "layout": "IPY_MODEL_c9a8ac3fb07843b0a8394df42dd10e2c",
       "style": "IPY_MODEL_0e5cd6be1d59441dbf44e95749615de3",
       "value": "100%"
      }
     },
     "d880578e342940c982a6f9d1caaeaa91": {
      "model_module": "@jupyter-widgets/base",
      "model_module_version": "2.0.0",
      "model_name": "LayoutModel",
      "state": {}
     },
     "d8a1463377694d7f8b47be79ed96de21": {
      "model_module": "@jupyter-widgets/controls",
      "model_module_version": "2.0.0",
      "model_name": "ProgressStyleModel",
      "state": {
       "description_width": ""
      }
     },
     "d8b5abb6b32345fcb69766557108086a": {
      "model_module": "@jupyter-widgets/controls",
      "model_module_version": "2.0.0",
      "model_name": "ProgressStyleModel",
      "state": {
       "description_width": ""
      }
     },
     "d8ca6e0591ce47f48d7d65f5003266bb": {
      "model_module": "@jupyter-widgets/controls",
      "model_module_version": "2.0.0",
      "model_name": "ProgressStyleModel",
      "state": {
       "description_width": ""
      }
     },
     "d8f851882e99405ca9c2c0b918639e04": {
      "model_module": "@jupyter-widgets/controls",
      "model_module_version": "2.0.0",
      "model_name": "HTMLModel",
      "state": {
       "layout": "IPY_MODEL_0e97b5a40a694ab0aee477af07f104b0",
       "style": "IPY_MODEL_12d6607ac7fa48d1af3d4103f80f8fc2",
       "value": " 63356/63359 [06:04&lt;00:00, 172.21it/s]"
      }
     },
     "d92799be074147dfa0c02c40fd2f3277": {
      "model_module": "@jupyter-widgets/controls",
      "model_module_version": "2.0.0",
      "model_name": "ProgressStyleModel",
      "state": {
       "description_width": ""
      }
     },
     "d92d251441c14c33b06c8f1e6db97236": {
      "model_module": "@jupyter-widgets/controls",
      "model_module_version": "2.0.0",
      "model_name": "HTMLStyleModel",
      "state": {
       "description_width": "",
       "font_size": null,
       "text_color": null
      }
     },
     "d94b197f7add4d8ba61bba1ecc5de28d": {
      "model_module": "@jupyter-widgets/base",
      "model_module_version": "2.0.0",
      "model_name": "LayoutModel",
      "state": {
       "visibility": "hidden"
      }
     },
     "d98889baf6ce421499d3413f39e1c276": {
      "model_module": "@jupyter-widgets/controls",
      "model_module_version": "2.0.0",
      "model_name": "HTMLStyleModel",
      "state": {
       "description_width": "",
       "font_size": null,
       "text_color": null
      }
     },
     "d9a29eea15a24021b9e47ce589c99718": {
      "model_module": "@jupyter-widgets/controls",
      "model_module_version": "2.0.0",
      "model_name": "HTMLModel",
      "state": {
       "layout": "IPY_MODEL_7884cf79c7424b6e8a3146832b56d412",
       "style": "IPY_MODEL_16c7e7183e4344148f74758850501b29",
       "value": " 63349/63359 [06:14&lt;00:00, 169.94it/s]"
      }
     },
     "d9a5cc886d8743c4b9ee8453d263f820": {
      "model_module": "@jupyter-widgets/base",
      "model_module_version": "2.0.0",
      "model_name": "LayoutModel",
      "state": {}
     },
     "d9c16297afd54ee68d1fbd72207aff9c": {
      "model_module": "@jupyter-widgets/base",
      "model_module_version": "2.0.0",
      "model_name": "LayoutModel",
      "state": {}
     },
     "da394aa8ffd747dca4a260b200f6d603": {
      "model_module": "@jupyter-widgets/controls",
      "model_module_version": "2.0.0",
      "model_name": "FloatProgressModel",
      "state": {
       "layout": "IPY_MODEL_3e9161afb69240ccbbcdf415be472151",
       "max": 63359,
       "style": "IPY_MODEL_389ed885efb644beb977d990888575e3",
       "value": 63359
      }
     },
     "da8f5849bb784e1daf2c253f6de6c96a": {
      "model_module": "@jupyter-widgets/controls",
      "model_module_version": "2.0.0",
      "model_name": "HTMLStyleModel",
      "state": {
       "description_width": "",
       "font_size": null,
       "text_color": null
      }
     },
     "dae4bc3b8de84ef9aac818626814049a": {
      "model_module": "@jupyter-widgets/controls",
      "model_module_version": "2.0.0",
      "model_name": "FloatProgressModel",
      "state": {
       "layout": "IPY_MODEL_4a65bc4353e54fadbeb015f59490a0f8",
       "max": 63359,
       "style": "IPY_MODEL_bd8d469b7afd414587ac6d12a164f3c8",
       "value": 63359
      }
     },
     "db20547a93524296b2a4582387fd66ac": {
      "model_module": "@jupyter-widgets/base",
      "model_module_version": "2.0.0",
      "model_name": "LayoutModel",
      "state": {}
     },
     "db23a35d978a442a9d1dd23d2915ea09": {
      "model_module": "@jupyter-widgets/controls",
      "model_module_version": "2.0.0",
      "model_name": "HTMLStyleModel",
      "state": {
       "description_width": "",
       "font_size": null,
       "text_color": null
      }
     },
     "db338bcb7fcf4e6b8ac6ebf7baf2d381": {
      "model_module": "@jupyter-widgets/controls",
      "model_module_version": "2.0.0",
      "model_name": "FloatProgressModel",
      "state": {
       "layout": "IPY_MODEL_f7834dd2ee7c4f1ead82fc4cbb12b3f6",
       "max": 63359,
       "style": "IPY_MODEL_671596c8efb94bbdbfd1f375f7c1e6f4",
       "value": 63359
      }
     },
     "db8cb06c973b4b2182091f561f699a91": {
      "model_module": "@jupyter-widgets/controls",
      "model_module_version": "2.0.0",
      "model_name": "FloatProgressModel",
      "state": {
       "layout": "IPY_MODEL_bf4f2054d0024bee80b23deb3b692c87",
       "max": 63359,
       "style": "IPY_MODEL_c0ed07d1707a42dab41be9a5e1d2c445",
       "value": 63359
      }
     },
     "db932dbdb9064d9f901edc5985f02d19": {
      "model_module": "@jupyter-widgets/controls",
      "model_module_version": "2.0.0",
      "model_name": "FloatProgressModel",
      "state": {
       "layout": "IPY_MODEL_31e8fd384d4344a981f74f8d553a8dd6",
       "max": 63359,
       "style": "IPY_MODEL_1fac1717409641d99c82b1b0f221bd35",
       "value": 63359
      }
     },
     "dc311e2ea9e2462d9354d350ed1819bf": {
      "model_module": "@jupyter-widgets/controls",
      "model_module_version": "2.0.0",
      "model_name": "HTMLModel",
      "state": {
       "layout": "IPY_MODEL_891d40aaf9f648baaa75b8e3157053bb",
       "style": "IPY_MODEL_415baea08c3f499fbdc460bb00f8a84e",
       "value": " 63347/63359 [05:50&lt;00:00, 183.31it/s]"
      }
     },
     "dc35b675f63b41eb925fe603a113a530": {
      "model_module": "@jupyter-widgets/controls",
      "model_module_version": "2.0.0",
      "model_name": "HTMLStyleModel",
      "state": {
       "description_width": "",
       "font_size": null,
       "text_color": null
      }
     },
     "dc496cb759934f50bedfe050e6f4106e": {
      "model_module": "@jupyter-widgets/base",
      "model_module_version": "2.0.0",
      "model_name": "LayoutModel",
      "state": {
       "visibility": "hidden"
      }
     },
     "dcb06e567da74c719482550eb2c28d41": {
      "model_module": "@jupyter-widgets/base",
      "model_module_version": "2.0.0",
      "model_name": "LayoutModel",
      "state": {}
     },
     "dcc41020eb8a4963809c418e07dbac07": {
      "model_module": "@jupyter-widgets/controls",
      "model_module_version": "2.0.0",
      "model_name": "HTMLModel",
      "state": {
       "layout": "IPY_MODEL_4e4aafb250534eee93716487bf38c13c",
       "style": "IPY_MODEL_5e6fe1e60b3f4918a246fe751fb87eb9",
       "value": "100%"
      }
     },
     "dce59f52ae3d4729ac759106a4910baf": {
      "model_module": "@jupyter-widgets/controls",
      "model_module_version": "2.0.0",
      "model_name": "ProgressStyleModel",
      "state": {
       "description_width": ""
      }
     },
     "dd2b3b641ed84b7fa43eacff16fd44c9": {
      "model_module": "@jupyter-widgets/base",
      "model_module_version": "2.0.0",
      "model_name": "LayoutModel",
      "state": {}
     },
     "dd37c53c4dd0457aa5fcf070341344b1": {
      "model_module": "@jupyter-widgets/controls",
      "model_module_version": "2.0.0",
      "model_name": "FloatProgressModel",
      "state": {
       "layout": "IPY_MODEL_148e9b0630024640964f524f22cca24b",
       "max": 63359,
       "style": "IPY_MODEL_c999e023ba9740feb504910838274917",
       "value": 63359
      }
     },
     "dd610cd7f8c5409b8244f81d25e5e2df": {
      "model_module": "@jupyter-widgets/base",
      "model_module_version": "2.0.0",
      "model_name": "LayoutModel",
      "state": {}
     },
     "dd701706fe694b0ca835aeb03a100355": {
      "model_module": "@jupyter-widgets/base",
      "model_module_version": "2.0.0",
      "model_name": "LayoutModel",
      "state": {}
     },
     "dd846cb73a4e40a79b198f8c47a48bf6": {
      "model_module": "@jupyter-widgets/base",
      "model_module_version": "2.0.0",
      "model_name": "LayoutModel",
      "state": {}
     },
     "ddb6f082b37f4e24a9e86eaa3771bdee": {
      "model_module": "@jupyter-widgets/controls",
      "model_module_version": "2.0.0",
      "model_name": "HTMLModel",
      "state": {
       "layout": "IPY_MODEL_772ee51081e34754a966e201c24cd900",
       "style": "IPY_MODEL_f299f80d36ec4c13a04c714a4aafebb4",
       "value": " 63348/63359 [06:04&lt;00:00, 173.01it/s]"
      }
     },
     "ddc8685cd33d4fb78bf6720e32b40518": {
      "model_module": "@jupyter-widgets/controls",
      "model_module_version": "2.0.0",
      "model_name": "HTMLModel",
      "state": {
       "layout": "IPY_MODEL_b6b6731ba1274e4c85a8ccf3874195c7",
       "style": "IPY_MODEL_d42d23a1fccb430c8c6effbd54e9743c",
       "value": "100%"
      }
     },
     "ddcb6bb3bac84d8ea7902a9e5d101ac8": {
      "model_module": "@jupyter-widgets/controls",
      "model_module_version": "2.0.0",
      "model_name": "HTMLStyleModel",
      "state": {
       "description_width": "",
       "font_size": null,
       "text_color": null
      }
     },
     "ddf693b7171c4bffafef720ba263be35": {
      "model_module": "@jupyter-widgets/base",
      "model_module_version": "2.0.0",
      "model_name": "LayoutModel",
      "state": {
       "visibility": "hidden"
      }
     },
     "ddf985d998694740a9532411c4238d9a": {
      "model_module": "@jupyter-widgets/base",
      "model_module_version": "2.0.0",
      "model_name": "LayoutModel",
      "state": {}
     },
     "de0d1ad2a607436a8ed6985ba5f6ef45": {
      "model_module": "@jupyter-widgets/base",
      "model_module_version": "2.0.0",
      "model_name": "LayoutModel",
      "state": {
       "visibility": "hidden"
      }
     },
     "de200a2f866e47fcb1e37e06a8505348": {
      "model_module": "@jupyter-widgets/controls",
      "model_module_version": "2.0.0",
      "model_name": "HTMLModel",
      "state": {
       "layout": "IPY_MODEL_f8ea4316e97e40fe9c3d1551f749af15",
       "style": "IPY_MODEL_cc1378664e524571a2d1a247594bd684",
       "value": " 63350/63359 [06:03&lt;00:00, 173.00it/s]"
      }
     },
     "de4cea7a7f4044569bee6ce1c14d2e8f": {
      "model_module": "@jupyter-widgets/controls",
      "model_module_version": "2.0.0",
      "model_name": "ProgressStyleModel",
      "state": {
       "description_width": ""
      }
     },
     "de51db91dc3b4a6a8a2e7f3fa4370e28": {
      "model_module": "@jupyter-widgets/controls",
      "model_module_version": "2.0.0",
      "model_name": "HTMLStyleModel",
      "state": {
       "description_width": "",
       "font_size": null,
       "text_color": null
      }
     },
     "de619ba1e14f4b39a6229c6431a9b517": {
      "model_module": "@jupyter-widgets/controls",
      "model_module_version": "2.0.0",
      "model_name": "HTMLStyleModel",
      "state": {
       "description_width": "",
       "font_size": null,
       "text_color": null
      }
     },
     "deb98300d74747efad9abd16c6c9a7af": {
      "model_module": "@jupyter-widgets/controls",
      "model_module_version": "2.0.0",
      "model_name": "FloatProgressModel",
      "state": {
       "layout": "IPY_MODEL_c2fe4347f35a4348aab8b0d2dd314735",
       "max": 63359,
       "style": "IPY_MODEL_110a4137eb864cd09ae81e40181b9263",
       "value": 63359
      }
     },
     "dee388396a97401885c07f82a7f38332": {
      "model_module": "@jupyter-widgets/controls",
      "model_module_version": "2.0.0",
      "model_name": "HTMLModel",
      "state": {
       "layout": "IPY_MODEL_f054e456c7fb4dd397936fbc1ce38173",
       "style": "IPY_MODEL_ba4af27d9ee24124a4e2bb55042342c1",
       "value": "100%"
      }
     },
     "deeae21124304243bc4458a57c087f35": {
      "model_module": "@jupyter-widgets/controls",
      "model_module_version": "2.0.0",
      "model_name": "HTMLModel",
      "state": {
       "layout": "IPY_MODEL_abca91ed6a1b436d98004084c313e710",
       "style": "IPY_MODEL_2a87db9c0cea49fa9c9cdc0a4a58920a",
       "value": "100%"
      }
     },
     "df1a906f3a154ece8d2af8faf1ed3d59": {
      "model_module": "@jupyter-widgets/controls",
      "model_module_version": "2.0.0",
      "model_name": "ProgressStyleModel",
      "state": {
       "description_width": ""
      }
     },
     "df30a5fcc1d247c9864234f450431a50": {
      "model_module": "@jupyter-widgets/controls",
      "model_module_version": "2.0.0",
      "model_name": "HTMLModel",
      "state": {
       "layout": "IPY_MODEL_d03a4f53b4d94e7f8d929322dff85101",
       "style": "IPY_MODEL_46f62fa305d0472891a0569c15c1be78",
       "value": " 63350/63359 [06:01&lt;00:00, 175.35it/s]"
      }
     },
     "df6c6e6d6495468aa60867852cb9923a": {
      "model_module": "@jupyter-widgets/base",
      "model_module_version": "2.0.0",
      "model_name": "LayoutModel",
      "state": {}
     },
     "df7b34b5d1a34e7bb8dc72c07ca55875": {
      "model_module": "@jupyter-widgets/base",
      "model_module_version": "2.0.0",
      "model_name": "LayoutModel",
      "state": {}
     },
     "e06e1dd1cc814ec094c043e39e21aeaf": {
      "model_module": "@jupyter-widgets/base",
      "model_module_version": "2.0.0",
      "model_name": "LayoutModel",
      "state": {}
     },
     "e07c1e2510c843cc81dacd786f37d4f7": {
      "model_module": "@jupyter-widgets/controls",
      "model_module_version": "2.0.0",
      "model_name": "HTMLModel",
      "state": {
       "layout": "IPY_MODEL_ef091b05c3064597a44a9c2e045397e5",
       "style": "IPY_MODEL_13adf3f363fe49fbbccbbc6f9edc58c3",
       "value": "100%"
      }
     },
     "e09cb5ced2354951aaf1f206c90dc0cd": {
      "model_module": "@jupyter-widgets/base",
      "model_module_version": "2.0.0",
      "model_name": "LayoutModel",
      "state": {}
     },
     "e0b11c614fc84ce7920a5a49096c3aef": {
      "model_module": "@jupyter-widgets/controls",
      "model_module_version": "2.0.0",
      "model_name": "FloatProgressModel",
      "state": {
       "layout": "IPY_MODEL_776958453e6c42deab7a09af7865f8e9",
       "max": 63359,
       "style": "IPY_MODEL_57031edeb1a04448abff6d7ce750abd7",
       "value": 63359
      }
     },
     "e0bdbaadf11d4530801a08aa3f70a9d6": {
      "model_module": "@jupyter-widgets/base",
      "model_module_version": "2.0.0",
      "model_name": "LayoutModel",
      "state": {}
     },
     "e0f2e4b084e34898b0b436be8945b8c2": {
      "model_module": "@jupyter-widgets/controls",
      "model_module_version": "2.0.0",
      "model_name": "HTMLModel",
      "state": {
       "layout": "IPY_MODEL_0d71ee19e94d45fc977e4f3a1cab93a5",
       "style": "IPY_MODEL_9cb3e248f52e446a950047081f1b8089",
       "value": " 63355/63359 [05:53&lt;00:00, 178.36it/s]"
      }
     },
     "e10885feaa504298a5f20af786f3dff7": {
      "model_module": "@jupyter-widgets/controls",
      "model_module_version": "2.0.0",
      "model_name": "HTMLModel",
      "state": {
       "layout": "IPY_MODEL_10b80626331a4526a7580cdfc80eccf4",
       "style": "IPY_MODEL_c9dddef10fc34e05a61fcf4f560ce477",
       "value": "100%"
      }
     },
     "e11fbd79b3dc4fc3acbc0846ea7341ab": {
      "model_module": "@jupyter-widgets/controls",
      "model_module_version": "2.0.0",
      "model_name": "HTMLStyleModel",
      "state": {
       "description_width": "",
       "font_size": null,
       "text_color": null
      }
     },
     "e1558c73a8554da986daa22bea3a23d8": {
      "model_module": "@jupyter-widgets/controls",
      "model_module_version": "2.0.0",
      "model_name": "FloatProgressModel",
      "state": {
       "layout": "IPY_MODEL_50f268c743c643c19cd3ec7b50bcae56",
       "max": 63359,
       "style": "IPY_MODEL_08ed18f40dce4d98bca496a9afe6884e",
       "value": 63359
      }
     },
     "e1773040dbfa45a497fd6ab5dee9a004": {
      "model_module": "@jupyter-widgets/controls",
      "model_module_version": "2.0.0",
      "model_name": "HTMLModel",
      "state": {
       "layout": "IPY_MODEL_9cf69e77c2004037b25591b924cd7deb",
       "style": "IPY_MODEL_123b6c61c5d6498bbca5cc8c0e25fa63",
       "value": " 63349/63359 [06:02&lt;00:00, 174.91it/s]"
      }
     },
     "e22a7368af524f378239faf1a369b685": {
      "model_module": "@jupyter-widgets/controls",
      "model_module_version": "2.0.0",
      "model_name": "HTMLStyleModel",
      "state": {
       "description_width": "",
       "font_size": null,
       "text_color": null
      }
     },
     "e244657f30714746ac7974d45d17b10d": {
      "model_module": "@jupyter-widgets/controls",
      "model_module_version": "2.0.0",
      "model_name": "HTMLStyleModel",
      "state": {
       "description_width": "",
       "font_size": null,
       "text_color": null
      }
     },
     "e2aef045fc20446a846d6b1defb0b6de": {
      "model_module": "@jupyter-widgets/base",
      "model_module_version": "2.0.0",
      "model_name": "LayoutModel",
      "state": {}
     },
     "e3395818881b4440b3f5f86be6c2e49f": {
      "model_module": "@jupyter-widgets/controls",
      "model_module_version": "2.0.0",
      "model_name": "FloatProgressModel",
      "state": {
       "layout": "IPY_MODEL_8075461e8ab74f1481e89c5b4305f845",
       "max": 63359,
       "style": "IPY_MODEL_7059308b3a9844ec99c5612470d23b4c",
       "value": 63359
      }
     },
     "e35e140451ee41819d327c8a06e24229": {
      "model_module": "@jupyter-widgets/base",
      "model_module_version": "2.0.0",
      "model_name": "LayoutModel",
      "state": {}
     },
     "e3af7bd535084223ae3602d974bd5db6": {
      "model_module": "@jupyter-widgets/controls",
      "model_module_version": "2.0.0",
      "model_name": "HTMLModel",
      "state": {
       "layout": "IPY_MODEL_5f5c374f546d4d11b0ec01ac0772c0da",
       "style": "IPY_MODEL_5031dd1daf884723b7cdbd2ae6a371cc",
       "value": " 63346/63359 [06:17&lt;00:00, 172.54it/s]"
      }
     },
     "e3b9d611423a4730b111f904d39de76c": {
      "model_module": "@jupyter-widgets/base",
      "model_module_version": "2.0.0",
      "model_name": "LayoutModel",
      "state": {
       "visibility": "hidden"
      }
     },
     "e3e4cf63666e4170be0a021a1b996ca8": {
      "model_module": "@jupyter-widgets/controls",
      "model_module_version": "2.0.0",
      "model_name": "HTMLModel",
      "state": {
       "layout": "IPY_MODEL_c5bd033e904a490485820a5b8d173bab",
       "style": "IPY_MODEL_2f04e28e56ed4e2e83ed4c5ce395ab4d",
       "value": "100%"
      }
     },
     "e3e5637c9b1847a282600b67acfc9015": {
      "model_module": "@jupyter-widgets/controls",
      "model_module_version": "2.0.0",
      "model_name": "FloatProgressModel",
      "state": {
       "layout": "IPY_MODEL_ff67dae1039a43af8070de15aeff3fd8",
       "max": 63359,
       "style": "IPY_MODEL_a3d5b71bb9c44cd0971a22c8a30c0a52",
       "value": 63359
      }
     },
     "e3ee4e8210524b3cb18110ebb0cec631": {
      "model_module": "@jupyter-widgets/controls",
      "model_module_version": "2.0.0",
      "model_name": "ProgressStyleModel",
      "state": {
       "description_width": ""
      }
     },
     "e400a9f7a67c4754bc711b6d042b9f30": {
      "model_module": "@jupyter-widgets/base",
      "model_module_version": "2.0.0",
      "model_name": "LayoutModel",
      "state": {
       "visibility": "hidden"
      }
     },
     "e40509568c31496c8e3bcaa4e5523b8a": {
      "model_module": "@jupyter-widgets/controls",
      "model_module_version": "2.0.0",
      "model_name": "HTMLStyleModel",
      "state": {
       "description_width": "",
       "font_size": null,
       "text_color": null
      }
     },
     "e40aec14db884fb0a70cb5366ce09a72": {
      "model_module": "@jupyter-widgets/controls",
      "model_module_version": "2.0.0",
      "model_name": "HTMLModel",
      "state": {
       "layout": "IPY_MODEL_6da3da372d634cc8b701aa6fed0d7768",
       "style": "IPY_MODEL_74cb703286704178bc91a569af8318b6",
       "value": "100%"
      }
     },
     "e42f3394f1d2438b9268ab7c5ec821f3": {
      "model_module": "@jupyter-widgets/base",
      "model_module_version": "2.0.0",
      "model_name": "LayoutModel",
      "state": {}
     },
     "e43c6c0e1e6148fbb9d85be8fdb638ed": {
      "model_module": "@jupyter-widgets/controls",
      "model_module_version": "2.0.0",
      "model_name": "FloatProgressModel",
      "state": {
       "layout": "IPY_MODEL_83f5b3353dbf46f69c9d8391db2be052",
       "max": 63359,
       "style": "IPY_MODEL_d8a1463377694d7f8b47be79ed96de21",
       "value": 63359
      }
     },
     "e444eae6723f4060aa835cead4d21ba8": {
      "model_module": "@jupyter-widgets/base",
      "model_module_version": "2.0.0",
      "model_name": "LayoutModel",
      "state": {}
     },
     "e44de72ec1944bf8bbfc829373cef5f5": {
      "model_module": "@jupyter-widgets/controls",
      "model_module_version": "2.0.0",
      "model_name": "HTMLModel",
      "state": {
       "layout": "IPY_MODEL_fcb74791d82243969e1b3294258d63f7",
       "style": "IPY_MODEL_22497268d09d4dd9950ba76c941f971f",
       "value": "100%"
      }
     },
     "e459243a553b44129050116c9f80f18f": {
      "model_module": "@jupyter-widgets/base",
      "model_module_version": "2.0.0",
      "model_name": "LayoutModel",
      "state": {}
     },
     "e4df8b1acabb4aed86ff5acf40afd2d7": {
      "model_module": "@jupyter-widgets/controls",
      "model_module_version": "2.0.0",
      "model_name": "HTMLModel",
      "state": {
       "layout": "IPY_MODEL_6ffd598a67d8438a827305833233dff8",
       "style": "IPY_MODEL_0b83a19d124d4d8c936aa51fb10f7326",
       "value": "100%"
      }
     },
     "e4fb64b769f64294b80083764a1e0fd7": {
      "model_module": "@jupyter-widgets/controls",
      "model_module_version": "2.0.0",
      "model_name": "ProgressStyleModel",
      "state": {
       "description_width": ""
      }
     },
     "e52c575cf72446ac90fb9f577b10e316": {
      "model_module": "@jupyter-widgets/controls",
      "model_module_version": "2.0.0",
      "model_name": "HTMLStyleModel",
      "state": {
       "description_width": "",
       "font_size": null,
       "text_color": null
      }
     },
     "e546be1120e44a258e32361423b06652": {
      "model_module": "@jupyter-widgets/controls",
      "model_module_version": "2.0.0",
      "model_name": "HTMLModel",
      "state": {
       "layout": "IPY_MODEL_c46e0acc42a34ae48b9c5607f1889be8",
       "style": "IPY_MODEL_cb2637129fc946aeab934df1f3fa31e9",
       "value": " 63354/63359 [06:12&lt;00:00, 173.09it/s]"
      }
     },
     "e56319c27110441e91bf55758dd8a7ec": {
      "model_module": "@jupyter-widgets/controls",
      "model_module_version": "2.0.0",
      "model_name": "ProgressStyleModel",
      "state": {
       "description_width": ""
      }
     },
     "e563f8faaeeb48d88abb9412625b8299": {
      "model_module": "@jupyter-widgets/controls",
      "model_module_version": "2.0.0",
      "model_name": "HTMLModel",
      "state": {
       "layout": "IPY_MODEL_a2f0de7c9c2648f0911d4424877a2e46",
       "style": "IPY_MODEL_6bc0573c1e364ebfa1bf74eab8e715c5",
       "value": " 63353/63359 [06:07&lt;00:00, 171.83it/s]"
      }
     },
     "e566473938fa4d9b8ec14e5d45eccece": {
      "model_module": "@jupyter-widgets/controls",
      "model_module_version": "2.0.0",
      "model_name": "HTMLStyleModel",
      "state": {
       "description_width": "",
       "font_size": null,
       "text_color": null
      }
     },
     "e587029769f8462cb170afc18bf7f03b": {
      "model_module": "@jupyter-widgets/controls",
      "model_module_version": "2.0.0",
      "model_name": "HTMLStyleModel",
      "state": {
       "description_width": "",
       "font_size": null,
       "text_color": null
      }
     },
     "e5a29bbfb873474aaf54a56aa9ead28b": {
      "model_module": "@jupyter-widgets/base",
      "model_module_version": "2.0.0",
      "model_name": "LayoutModel",
      "state": {}
     },
     "e5ba8fcd67a44835931135416bc8fdfc": {
      "model_module": "@jupyter-widgets/base",
      "model_module_version": "2.0.0",
      "model_name": "LayoutModel",
      "state": {}
     },
     "e5c0f045759544c0bdc2423cf564491b": {
      "model_module": "@jupyter-widgets/base",
      "model_module_version": "2.0.0",
      "model_name": "LayoutModel",
      "state": {}
     },
     "e5c6747d2278479cb0efaa546bcc4b8f": {
      "model_module": "@jupyter-widgets/controls",
      "model_module_version": "2.0.0",
      "model_name": "ProgressStyleModel",
      "state": {
       "description_width": ""
      }
     },
     "e5d15eea0ff94d78a12fab911971ef4c": {
      "model_module": "@jupyter-widgets/controls",
      "model_module_version": "2.0.0",
      "model_name": "HTMLStyleModel",
      "state": {
       "description_width": "",
       "font_size": null,
       "text_color": null
      }
     },
     "e5deda19e82e43e59bbde3a6910093f0": {
      "model_module": "@jupyter-widgets/base",
      "model_module_version": "2.0.0",
      "model_name": "LayoutModel",
      "state": {
       "visibility": "hidden"
      }
     },
     "e61c0401fa074e558c9dbae5ea12322a": {
      "model_module": "@jupyter-widgets/base",
      "model_module_version": "2.0.0",
      "model_name": "LayoutModel",
      "state": {}
     },
     "e62020762fe74e2b8e43e7b90c32ba66": {
      "model_module": "@jupyter-widgets/controls",
      "model_module_version": "2.0.0",
      "model_name": "FloatProgressModel",
      "state": {
       "layout": "IPY_MODEL_52e95ab1561e4b9e80156ba12b144e85",
       "max": 63359,
       "style": "IPY_MODEL_752f3719fe854243971625a31fc0a3c4",
       "value": 63359
      }
     },
     "e681b70dc4d4463da0d7c8ca82b6cca6": {
      "model_module": "@jupyter-widgets/controls",
      "model_module_version": "2.0.0",
      "model_name": "ProgressStyleModel",
      "state": {
       "description_width": ""
      }
     },
     "e6b799c176694a3f93f714506c46d5df": {
      "model_module": "@jupyter-widgets/base",
      "model_module_version": "2.0.0",
      "model_name": "LayoutModel",
      "state": {
       "visibility": "hidden"
      }
     },
     "e6dd1306292349b491d0795dcb7ad47c": {
      "model_module": "@jupyter-widgets/controls",
      "model_module_version": "2.0.0",
      "model_name": "HTMLModel",
      "state": {
       "layout": "IPY_MODEL_dd610cd7f8c5409b8244f81d25e5e2df",
       "style": "IPY_MODEL_a57177aacb034b32b948d6bd2ba6cb89",
       "value": " 63353/63359 [06:15&lt;00:00, 160.55it/s]"
      }
     },
     "e7046a49063341eb81eff36ac22084e9": {
      "model_module": "@jupyter-widgets/base",
      "model_module_version": "2.0.0",
      "model_name": "LayoutModel",
      "state": {
       "visibility": "hidden"
      }
     },
     "e716516ea7854abbb970fdf704fbc722": {
      "model_module": "@jupyter-widgets/controls",
      "model_module_version": "2.0.0",
      "model_name": "HTMLModel",
      "state": {
       "layout": "IPY_MODEL_3327badd93884953a58bfe4b7956f76f",
       "style": "IPY_MODEL_5e5cd7ab9cd54c7ca68e847ab17f260a",
       "value": "100%"
      }
     },
     "e7634560296e40ff96c6646746547d6c": {
      "model_module": "@jupyter-widgets/controls",
      "model_module_version": "2.0.0",
      "model_name": "HTMLModel",
      "state": {
       "layout": "IPY_MODEL_df6c6e6d6495468aa60867852cb9923a",
       "style": "IPY_MODEL_705826a33bef4391998bb9816f7f9ee0",
       "value": "100%"
      }
     },
     "e784f5d7b6944749a70c33308f5492c2": {
      "model_module": "@jupyter-widgets/base",
      "model_module_version": "2.0.0",
      "model_name": "LayoutModel",
      "state": {}
     },
     "e79132ca4b0d4921823314baa072f6a8": {
      "model_module": "@jupyter-widgets/controls",
      "model_module_version": "2.0.0",
      "model_name": "FloatProgressModel",
      "state": {
       "layout": "IPY_MODEL_ab643a0f61e8450f80d393b0eb202b9e",
       "max": 63359,
       "style": "IPY_MODEL_365a9810283447f582622b14d9b167bc",
       "value": 63359
      }
     },
     "e79df51b1f7e414590de4801fbfdccb4": {
      "model_module": "@jupyter-widgets/base",
      "model_module_version": "2.0.0",
      "model_name": "LayoutModel",
      "state": {
       "visibility": "hidden"
      }
     },
     "e7f96464c1c2474686327204370666ec": {
      "model_module": "@jupyter-widgets/base",
      "model_module_version": "2.0.0",
      "model_name": "LayoutModel",
      "state": {
       "visibility": "hidden"
      }
     },
     "e833c0bd9e7d4f929b3a00bf101c7c00": {
      "model_module": "@jupyter-widgets/controls",
      "model_module_version": "2.0.0",
      "model_name": "ProgressStyleModel",
      "state": {
       "description_width": ""
      }
     },
     "e8720f550b9c4fa2a72defa258fb0f6a": {
      "model_module": "@jupyter-widgets/base",
      "model_module_version": "2.0.0",
      "model_name": "LayoutModel",
      "state": {}
     },
     "e89412916a0441b9abec2c440d49bc5a": {
      "model_module": "@jupyter-widgets/base",
      "model_module_version": "2.0.0",
      "model_name": "LayoutModel",
      "state": {}
     },
     "e8e08167b8484917a633af58af265b05": {
      "model_module": "@jupyter-widgets/base",
      "model_module_version": "2.0.0",
      "model_name": "LayoutModel",
      "state": {}
     },
     "e8e1f227d21b4b739087be15fbeb60bb": {
      "model_module": "@jupyter-widgets/base",
      "model_module_version": "2.0.0",
      "model_name": "LayoutModel",
      "state": {}
     },
     "e91063b5a8444c90b301e9727a5adfa8": {
      "model_module": "@jupyter-widgets/base",
      "model_module_version": "2.0.0",
      "model_name": "LayoutModel",
      "state": {
       "visibility": "hidden"
      }
     },
     "e93256f61e064e3d890c7589768221be": {
      "model_module": "@jupyter-widgets/controls",
      "model_module_version": "2.0.0",
      "model_name": "HTMLStyleModel",
      "state": {
       "description_width": "",
       "font_size": null,
       "text_color": null
      }
     },
     "e9387e84b423424088673f0357d3dbd1": {
      "model_module": "@jupyter-widgets/controls",
      "model_module_version": "2.0.0",
      "model_name": "ProgressStyleModel",
      "state": {
       "description_width": ""
      }
     },
     "e980b6f8d00f4da39161bdd389b35936": {
      "model_module": "@jupyter-widgets/controls",
      "model_module_version": "2.0.0",
      "model_name": "HTMLStyleModel",
      "state": {
       "description_width": "",
       "font_size": null,
       "text_color": null
      }
     },
     "e9baa3901f9c42d78dc70b443b403854": {
      "model_module": "@jupyter-widgets/controls",
      "model_module_version": "2.0.0",
      "model_name": "HTMLModel",
      "state": {
       "layout": "IPY_MODEL_26259127e57241a692c25207cae38eed",
       "style": "IPY_MODEL_d2865516b2cb4b46bde57289be047206",
       "value": "100%"
      }
     },
     "e9bb73eca40741c5960636efdba4d3f9": {
      "model_module": "@jupyter-widgets/base",
      "model_module_version": "2.0.0",
      "model_name": "LayoutModel",
      "state": {}
     },
     "e9e12c6379b84ef596a282ae9e185f40": {
      "model_module": "@jupyter-widgets/base",
      "model_module_version": "2.0.0",
      "model_name": "LayoutModel",
      "state": {}
     },
     "ea037802dc234917ab57775c5aa78e26": {
      "model_module": "@jupyter-widgets/controls",
      "model_module_version": "2.0.0",
      "model_name": "HTMLModel",
      "state": {
       "layout": "IPY_MODEL_d10ae929de12493abe1630400ff29405",
       "style": "IPY_MODEL_18a9443a9848427e9cb2f7e5915a7704",
       "value": "100%"
      }
     },
     "ea0876670ef24a48a8d979ac9edc2f9c": {
      "model_module": "@jupyter-widgets/controls",
      "model_module_version": "2.0.0",
      "model_name": "HTMLModel",
      "state": {
       "layout": "IPY_MODEL_08b3098e48da48a5b4aef648a7300609",
       "style": "IPY_MODEL_cb23d8624a7446b09d2c250d688dc57f",
       "value": " 63354/63359 [06:16&lt;00:00, 172.13it/s]"
      }
     },
     "ea42c35542af4d33970c959e97b91502": {
      "model_module": "@jupyter-widgets/base",
      "model_module_version": "2.0.0",
      "model_name": "LayoutModel",
      "state": {}
     },
     "ea65f77910014ba2bda33c45417de226": {
      "model_module": "@jupyter-widgets/controls",
      "model_module_version": "2.0.0",
      "model_name": "HTMLStyleModel",
      "state": {
       "description_width": "",
       "font_size": null,
       "text_color": null
      }
     },
     "ea70aa89a035403ba11785cd7df6759a": {
      "model_module": "@jupyter-widgets/controls",
      "model_module_version": "2.0.0",
      "model_name": "HTMLModel",
      "state": {
       "layout": "IPY_MODEL_2ae67458ac044430b3dd593af146ee6a",
       "style": "IPY_MODEL_54d66d4c4b874a2e9a565bc7bce36692",
       "value": "100%"
      }
     },
     "eabd7b6098c04bc78c06b9a6318b8a67": {
      "model_module": "@jupyter-widgets/base",
      "model_module_version": "2.0.0",
      "model_name": "LayoutModel",
      "state": {
       "visibility": "hidden"
      }
     },
     "eade61aa6c504c7ca173d8b59bf30ac4": {
      "model_module": "@jupyter-widgets/base",
      "model_module_version": "2.0.0",
      "model_name": "LayoutModel",
      "state": {}
     },
     "eaf6b78a557a48259d11128464c1d9dc": {
      "model_module": "@jupyter-widgets/controls",
      "model_module_version": "2.0.0",
      "model_name": "ProgressStyleModel",
      "state": {
       "description_width": ""
      }
     },
     "eb13d4d6d97b4188a6be859cc5811e07": {
      "model_module": "@jupyter-widgets/base",
      "model_module_version": "2.0.0",
      "model_name": "LayoutModel",
      "state": {
       "visibility": "hidden"
      }
     },
     "eb1fe7b8c7564367a69af3a4c4dbd694": {
      "model_module": "@jupyter-widgets/controls",
      "model_module_version": "2.0.0",
      "model_name": "HTMLModel",
      "state": {
       "layout": "IPY_MODEL_1d3f2960e4fb4bd8a7904fd21d415fe6",
       "style": "IPY_MODEL_f77e9788bd36439cba21982084aaea77",
       "value": " 63350/63359 [05:59&lt;00:00, 181.39it/s]"
      }
     },
     "eb27afa8908b4d8b813f9766308f4208": {
      "model_module": "@jupyter-widgets/controls",
      "model_module_version": "2.0.0",
      "model_name": "FloatProgressModel",
      "state": {
       "layout": "IPY_MODEL_498da75afdca4afa926bd548360416eb",
       "max": 63359,
       "style": "IPY_MODEL_65b34a06abdd44b48c19c41077af9a2a",
       "value": 63359
      }
     },
     "eb33bdc71280499e8620888bc5b22c10": {
      "model_module": "@jupyter-widgets/controls",
      "model_module_version": "2.0.0",
      "model_name": "HTMLModel",
      "state": {
       "layout": "IPY_MODEL_07c0c968a25d4cc2b0b31f2630e75fa4",
       "style": "IPY_MODEL_532217da57a84b268cc0b682520bfab6",
       "value": "100%"
      }
     },
     "eb4c76b6ca684a5cbc0a9b6301c57c18": {
      "model_module": "@jupyter-widgets/base",
      "model_module_version": "2.0.0",
      "model_name": "LayoutModel",
      "state": {}
     },
     "eb51baa5d4c14b5782aca928267605fe": {
      "model_module": "@jupyter-widgets/base",
      "model_module_version": "2.0.0",
      "model_name": "LayoutModel",
      "state": {}
     },
     "eb59cffdbc3f4b169020f1c5336e170b": {
      "model_module": "@jupyter-widgets/base",
      "model_module_version": "2.0.0",
      "model_name": "LayoutModel",
      "state": {}
     },
     "eb79fabc7c964cd193413dc374f8d091": {
      "model_module": "@jupyter-widgets/base",
      "model_module_version": "2.0.0",
      "model_name": "LayoutModel",
      "state": {}
     },
     "eb8622a6d16e47259a809d7b5dace7e3": {
      "model_module": "@jupyter-widgets/base",
      "model_module_version": "2.0.0",
      "model_name": "LayoutModel",
      "state": {}
     },
     "eb9a7a58f5e449588362833e8cdf2da3": {
      "model_module": "@jupyter-widgets/controls",
      "model_module_version": "2.0.0",
      "model_name": "HTMLModel",
      "state": {
       "layout": "IPY_MODEL_94062f828df74f6190f7ce849ccc5cc0",
       "style": "IPY_MODEL_c01e7604ef504b8586dad3318adf48ae",
       "value": " 63350/63359 [06:03&lt;00:00, 174.70it/s]"
      }
     },
     "ebc5c78818174891808a0087d4ff4c61": {
      "model_module": "@jupyter-widgets/controls",
      "model_module_version": "2.0.0",
      "model_name": "HTMLStyleModel",
      "state": {
       "description_width": "",
       "font_size": null,
       "text_color": null
      }
     },
     "ebce7429e47b48668d871bb05505891d": {
      "model_module": "@jupyter-widgets/base",
      "model_module_version": "2.0.0",
      "model_name": "LayoutModel",
      "state": {
       "visibility": "hidden"
      }
     },
     "ebf0b658b1dc44c5a5de4fc8cc3f5398": {
      "model_module": "@jupyter-widgets/controls",
      "model_module_version": "2.0.0",
      "model_name": "HTMLModel",
      "state": {
       "layout": "IPY_MODEL_252994e092fa486b8680a87c601aea39",
       "style": "IPY_MODEL_1debbfd0d9bc4b84a296cb5e186f0c89",
       "value": "100%"
      }
     },
     "ebfc684bcd574336be26e0856b2cb5ab": {
      "model_module": "@jupyter-widgets/base",
      "model_module_version": "2.0.0",
      "model_name": "LayoutModel",
      "state": {}
     },
     "ec1b9e0edfdc44cfbb713a7da1d5613a": {
      "model_module": "@jupyter-widgets/base",
      "model_module_version": "2.0.0",
      "model_name": "LayoutModel",
      "state": {}
     },
     "ec1fac750d9e4b838774ddb837aaaf4c": {
      "model_module": "@jupyter-widgets/base",
      "model_module_version": "2.0.0",
      "model_name": "LayoutModel",
      "state": {
       "visibility": "hidden"
      }
     },
     "ec51a80bc18b4e57a113fc026a02609b": {
      "model_module": "@jupyter-widgets/controls",
      "model_module_version": "2.0.0",
      "model_name": "FloatProgressModel",
      "state": {
       "layout": "IPY_MODEL_5a58c1e199dc419a94ba1db9bcccdc58",
       "max": 63359,
       "style": "IPY_MODEL_5dfd104a4fc541e7895d9411b3ed543e",
       "value": 63359
      }
     },
     "ec60e8cea57a46669e1967bd31e06808": {
      "model_module": "@jupyter-widgets/controls",
      "model_module_version": "2.0.0",
      "model_name": "HTMLStyleModel",
      "state": {
       "description_width": "",
       "font_size": null,
       "text_color": null
      }
     },
     "ec74b7c06178441bbb342d1c8ddafdfe": {
      "model_module": "@jupyter-widgets/controls",
      "model_module_version": "2.0.0",
      "model_name": "FloatProgressModel",
      "state": {
       "layout": "IPY_MODEL_e8e08167b8484917a633af58af265b05",
       "max": 63359,
       "style": "IPY_MODEL_d86f172b2e054e34b1d7f9374e57bb3b",
       "value": 63359
      }
     },
     "ec86f82bd221426884a94b85aa4aabfd": {
      "model_module": "@jupyter-widgets/controls",
      "model_module_version": "2.0.0",
      "model_name": "ProgressStyleModel",
      "state": {
       "description_width": ""
      }
     },
     "ecade958809546ff8a1c90ebef74939c": {
      "model_module": "@jupyter-widgets/controls",
      "model_module_version": "2.0.0",
      "model_name": "HTMLStyleModel",
      "state": {
       "description_width": "",
       "font_size": null,
       "text_color": null
      }
     },
     "ecb2611b6c114d2980139c57b816c894": {
      "model_module": "@jupyter-widgets/controls",
      "model_module_version": "2.0.0",
      "model_name": "FloatProgressModel",
      "state": {
       "layout": "IPY_MODEL_c8a8d359e80342b19dc31a4edf359be3",
       "max": 63359,
       "style": "IPY_MODEL_c8c8d002db274cd0b05064744ccf1a7c",
       "value": 63359
      }
     },
     "ecde7271633d4ab899beb9db36793c45": {
      "model_module": "@jupyter-widgets/base",
      "model_module_version": "2.0.0",
      "model_name": "LayoutModel",
      "state": {}
     },
     "ece0ad510578432a83756719d2aa7afb": {
      "model_module": "@jupyter-widgets/base",
      "model_module_version": "2.0.0",
      "model_name": "LayoutModel",
      "state": {
       "visibility": "hidden"
      }
     },
     "ed10a7989a9544dc9ad692081c7e615a": {
      "model_module": "@jupyter-widgets/base",
      "model_module_version": "2.0.0",
      "model_name": "LayoutModel",
      "state": {
       "visibility": "hidden"
      }
     },
     "ed64a565edec4c98b8399436c57b7886": {
      "model_module": "@jupyter-widgets/controls",
      "model_module_version": "2.0.0",
      "model_name": "FloatProgressModel",
      "state": {
       "layout": "IPY_MODEL_048fc2ec8f3540f9aa201fe6bc9f80db",
       "max": 63359,
       "style": "IPY_MODEL_5a3fe8466a77459cb8472d969f3c855f",
       "value": 63359
      }
     },
     "ed9383ec7f0042828c4cdaebb98ca7c6": {
      "model_module": "@jupyter-widgets/controls",
      "model_module_version": "2.0.0",
      "model_name": "HTMLModel",
      "state": {
       "layout": "IPY_MODEL_34f2db66dc004971ae324e8f77ed5091",
       "style": "IPY_MODEL_49c26add1b5a4b2d81bb74894f689b23",
       "value": "100%"
      }
     },
     "edccfc4dde874e2dbace597c053914bc": {
      "model_module": "@jupyter-widgets/base",
      "model_module_version": "2.0.0",
      "model_name": "LayoutModel",
      "state": {
       "visibility": "hidden"
      }
     },
     "edd2937a8c1047c0b2dda59e4790e830": {
      "model_module": "@jupyter-widgets/base",
      "model_module_version": "2.0.0",
      "model_name": "LayoutModel",
      "state": {
       "visibility": "hidden"
      }
     },
     "edde853694f44a86b9ac3b44dd8ac52d": {
      "model_module": "@jupyter-widgets/controls",
      "model_module_version": "2.0.0",
      "model_name": "HTMLStyleModel",
      "state": {
       "description_width": "",
       "font_size": null,
       "text_color": null
      }
     },
     "ee2b93c2fb0c410098ab31d83c0082af": {
      "model_module": "@jupyter-widgets/base",
      "model_module_version": "2.0.0",
      "model_name": "LayoutModel",
      "state": {}
     },
     "ee2bf75b035448de81e9cf29dc488b9b": {
      "model_module": "@jupyter-widgets/controls",
      "model_module_version": "2.0.0",
      "model_name": "HTMLModel",
      "state": {
       "layout": "IPY_MODEL_b2dab1a569e94d60ba28be7dc4f38e8b",
       "style": "IPY_MODEL_64bf688790434ffdae443e504838a272",
       "value": " 63355/63359 [06:22&lt;00:00, 171.82it/s]"
      }
     },
     "ee2c12a4106e4f0fa5ffedaf1c96396e": {
      "model_module": "@jupyter-widgets/controls",
      "model_module_version": "2.0.0",
      "model_name": "HTMLStyleModel",
      "state": {
       "description_width": "",
       "font_size": null,
       "text_color": null
      }
     },
     "ee52ee5ce87b45dfa5c62dfb4098134d": {
      "model_module": "@jupyter-widgets/controls",
      "model_module_version": "2.0.0",
      "model_name": "HTMLModel",
      "state": {
       "layout": "IPY_MODEL_f0e938331afe42e7b1ba2fb23ab88233",
       "style": "IPY_MODEL_c12eeddc6f6e40988a13a83b58e01225",
       "value": " 63349/63359 [06:02&lt;00:00, 175.40it/s]"
      }
     },
     "ee653485534d4ee89ec9fdfa5da5fec5": {
      "model_module": "@jupyter-widgets/controls",
      "model_module_version": "2.0.0",
      "model_name": "FloatProgressModel",
      "state": {
       "layout": "IPY_MODEL_d646cc36cea94708b338405bde5354cc",
       "max": 63359,
       "style": "IPY_MODEL_657f832fd7cd423b9501111150b50708",
       "value": 63359
      }
     },
     "ee9cfffd565e4b37984c4d03e8898ba6": {
      "model_module": "@jupyter-widgets/controls",
      "model_module_version": "2.0.0",
      "model_name": "HTMLModel",
      "state": {
       "layout": "IPY_MODEL_abcad6c9904d466e966669665a82b5d8",
       "style": "IPY_MODEL_a7223342cb6b44b1889375125e458858",
       "value": " 63359/63359 [06:09&lt;00:00, 175.05it/s]"
      }
     },
     "eea0f65799d84bbcb5e28c16883736c5": {
      "model_module": "@jupyter-widgets/controls",
      "model_module_version": "2.0.0",
      "model_name": "HTMLModel",
      "state": {
       "layout": "IPY_MODEL_31887bb072234c2bbbf4a78a835eac7d",
       "style": "IPY_MODEL_9399f8193741441d88e1c6581c2421f7",
       "value": " 63350/63359 [06:02&lt;00:00, 174.91it/s]"
      }
     },
     "eea92dbaec894d52934db52987f6d358": {
      "model_module": "@jupyter-widgets/base",
      "model_module_version": "2.0.0",
      "model_name": "LayoutModel",
      "state": {
       "visibility": "hidden"
      }
     },
     "eebf7e99db144a258f3cab69b9b68455": {
      "model_module": "@jupyter-widgets/base",
      "model_module_version": "2.0.0",
      "model_name": "LayoutModel",
      "state": {}
     },
     "eee15d62fd5d43c7aecb4a822eefba12": {
      "model_module": "@jupyter-widgets/base",
      "model_module_version": "2.0.0",
      "model_name": "LayoutModel",
      "state": {}
     },
     "ef087815a19e4d39bf4be63b71e7f45e": {
      "model_module": "@jupyter-widgets/base",
      "model_module_version": "2.0.0",
      "model_name": "LayoutModel",
      "state": {}
     },
     "ef091b05c3064597a44a9c2e045397e5": {
      "model_module": "@jupyter-widgets/base",
      "model_module_version": "2.0.0",
      "model_name": "LayoutModel",
      "state": {}
     },
     "ef0fed1fb4b04ed886770b8806c3e1e8": {
      "model_module": "@jupyter-widgets/controls",
      "model_module_version": "2.0.0",
      "model_name": "HTMLModel",
      "state": {
       "layout": "IPY_MODEL_3cce218f192746d498a19b86ca94bd44",
       "style": "IPY_MODEL_d023ae1ff83e4347ae64e2a50b3ecf4c",
       "value": " 63348/63359 [05:52&lt;00:00, 179.75it/s]"
      }
     },
     "ef176b3bc446406d9fdb7de1aa97d146": {
      "model_module": "@jupyter-widgets/controls",
      "model_module_version": "2.0.0",
      "model_name": "HTMLStyleModel",
      "state": {
       "description_width": "",
       "font_size": null,
       "text_color": null
      }
     },
     "ef329246fdc546fab643a8c13aa71056": {
      "model_module": "@jupyter-widgets/controls",
      "model_module_version": "2.0.0",
      "model_name": "HTMLStyleModel",
      "state": {
       "description_width": "",
       "font_size": null,
       "text_color": null
      }
     },
     "ef6e001c5e9a498bb7d7e21f2a483dda": {
      "model_module": "@jupyter-widgets/controls",
      "model_module_version": "2.0.0",
      "model_name": "ProgressStyleModel",
      "state": {
       "description_width": ""
      }
     },
     "efa2ffbeda44454795f4100a3d5f38ca": {
      "model_module": "@jupyter-widgets/controls",
      "model_module_version": "2.0.0",
      "model_name": "ProgressStyleModel",
      "state": {
       "description_width": ""
      }
     },
     "efd4d01b1e1342719db20f3be22f85dc": {
      "model_module": "@jupyter-widgets/controls",
      "model_module_version": "2.0.0",
      "model_name": "HTMLModel",
      "state": {
       "layout": "IPY_MODEL_449cb4db66b345adbe1d886ffea97dd7",
       "style": "IPY_MODEL_87c638fd7a00491a801730191fc853e8",
       "value": "100%"
      }
     },
     "efdb1d7853524afbb182436235b2ad7d": {
      "model_module": "@jupyter-widgets/base",
      "model_module_version": "2.0.0",
      "model_name": "LayoutModel",
      "state": {}
     },
     "effb9c765d584105b4db538138692594": {
      "model_module": "@jupyter-widgets/controls",
      "model_module_version": "2.0.0",
      "model_name": "HTMLModel",
      "state": {
       "layout": "IPY_MODEL_2e2ed746181449d5ac3804e3def34bfb",
       "style": "IPY_MODEL_d2b32ec2667240b98b5d299ce281b8ac",
       "value": " 63354/63359 [06:03&lt;00:00, 178.92it/s]"
      }
     },
     "f01da715718b45c28964e9d2fe860891": {
      "model_module": "@jupyter-widgets/controls",
      "model_module_version": "2.0.0",
      "model_name": "HTMLModel",
      "state": {
       "layout": "IPY_MODEL_f4512576570445cbb7b90199cffe73d9",
       "style": "IPY_MODEL_3cf78a1316504bff885f6d8480a39c34",
       "value": "100%"
      }
     },
     "f026c88a6f884830a975d6f24fb49b7e": {
      "model_module": "@jupyter-widgets/controls",
      "model_module_version": "2.0.0",
      "model_name": "FloatProgressModel",
      "state": {
       "layout": "IPY_MODEL_24663a3ff79048268ebad57af8ee45bc",
       "max": 63359,
       "style": "IPY_MODEL_72b87e88ed2d417888a9832890bc762d",
       "value": 63359
      }
     },
     "f039760f7beb46e6858a8c3ce99f76fa": {
      "model_module": "@jupyter-widgets/base",
      "model_module_version": "2.0.0",
      "model_name": "LayoutModel",
      "state": {}
     },
     "f04098b516754e4cb196c6d3888e218f": {
      "model_module": "@jupyter-widgets/base",
      "model_module_version": "2.0.0",
      "model_name": "LayoutModel",
      "state": {}
     },
     "f054e456c7fb4dd397936fbc1ce38173": {
      "model_module": "@jupyter-widgets/base",
      "model_module_version": "2.0.0",
      "model_name": "LayoutModel",
      "state": {}
     },
     "f078aa58022947b095cd1cd03d51f2e3": {
      "model_module": "@jupyter-widgets/base",
      "model_module_version": "2.0.0",
      "model_name": "LayoutModel",
      "state": {}
     },
     "f07b8a0fdac24618b5a6f6efef4f29af": {
      "model_module": "@jupyter-widgets/controls",
      "model_module_version": "2.0.0",
      "model_name": "HTMLStyleModel",
      "state": {
       "description_width": "",
       "font_size": null,
       "text_color": null
      }
     },
     "f088e5cc72fe44c3a04aa0a4a6cf4f1b": {
      "model_module": "@jupyter-widgets/controls",
      "model_module_version": "2.0.0",
      "model_name": "HTMLStyleModel",
      "state": {
       "description_width": "",
       "font_size": null,
       "text_color": null
      }
     },
     "f0a6931dddec4849b320781f29bd54cc": {
      "model_module": "@jupyter-widgets/base",
      "model_module_version": "2.0.0",
      "model_name": "LayoutModel",
      "state": {}
     },
     "f0bdd796092c4cb98273a401fc6e4629": {
      "model_module": "@jupyter-widgets/base",
      "model_module_version": "2.0.0",
      "model_name": "LayoutModel",
      "state": {}
     },
     "f0e8fd42ca4f4116866474b10d432c45": {
      "model_module": "@jupyter-widgets/base",
      "model_module_version": "2.0.0",
      "model_name": "LayoutModel",
      "state": {}
     },
     "f0e938331afe42e7b1ba2fb23ab88233": {
      "model_module": "@jupyter-widgets/base",
      "model_module_version": "2.0.0",
      "model_name": "LayoutModel",
      "state": {}
     },
     "f0eb1366474940dcbef5529009ddc24f": {
      "model_module": "@jupyter-widgets/controls",
      "model_module_version": "2.0.0",
      "model_name": "HTMLStyleModel",
      "state": {
       "description_width": "",
       "font_size": null,
       "text_color": null
      }
     },
     "f124d2fd3d734792ace27d878f117ebe": {
      "model_module": "@jupyter-widgets/controls",
      "model_module_version": "2.0.0",
      "model_name": "FloatProgressModel",
      "state": {
       "layout": "IPY_MODEL_20cf3fa0241a48fc9410ca40db62c36a",
       "max": 63359,
       "style": "IPY_MODEL_b677b3c2f060434aa599f43e8e0121e3",
       "value": 63359
      }
     },
     "f134621070ab495f9365178c968edddc": {
      "model_module": "@jupyter-widgets/base",
      "model_module_version": "2.0.0",
      "model_name": "LayoutModel",
      "state": {
       "visibility": "hidden"
      }
     },
     "f145d0773ffb413ba9458c860ec57542": {
      "model_module": "@jupyter-widgets/base",
      "model_module_version": "2.0.0",
      "model_name": "LayoutModel",
      "state": {}
     },
     "f17a5099dbe742698acc0be9a6f20f95": {
      "model_module": "@jupyter-widgets/controls",
      "model_module_version": "2.0.0",
      "model_name": "ProgressStyleModel",
      "state": {
       "description_width": ""
      }
     },
     "f17e46281535416a96488e53b690b4f8": {
      "model_module": "@jupyter-widgets/controls",
      "model_module_version": "2.0.0",
      "model_name": "HTMLModel",
      "state": {
       "layout": "IPY_MODEL_9bfa3d00d0ac449191be584918de2b74",
       "style": "IPY_MODEL_26d3e845aa0e4c4f8047109e5a04c9fa",
       "value": " 63357/63359 [06:03&lt;00:00, 175.63it/s]"
      }
     },
     "f18ac7e1cc96454ba8b1eec8258dc9c8": {
      "model_module": "@jupyter-widgets/controls",
      "model_module_version": "2.0.0",
      "model_name": "HTMLStyleModel",
      "state": {
       "description_width": "",
       "font_size": null,
       "text_color": null
      }
     },
     "f1904e68bd5a46edb85df5cb4b6c805c": {
      "model_module": "@jupyter-widgets/base",
      "model_module_version": "2.0.0",
      "model_name": "LayoutModel",
      "state": {}
     },
     "f1a1b1720414450db156fdb3b10d9b08": {
      "model_module": "@jupyter-widgets/controls",
      "model_module_version": "2.0.0",
      "model_name": "HTMLStyleModel",
      "state": {
       "description_width": "",
       "font_size": null,
       "text_color": null
      }
     },
     "f1c6e15fd8144de8a35a37dd08834ad0": {
      "model_module": "@jupyter-widgets/controls",
      "model_module_version": "2.0.0",
      "model_name": "FloatProgressModel",
      "state": {
       "layout": "IPY_MODEL_58fd5a1dc0484d6f87cf8c35c760a571",
       "max": 63359,
       "style": "IPY_MODEL_0c46efd4b37f42f68f2f89c105981700",
       "value": 63359
      }
     },
     "f1d94aad63e0432eb48fbff44d45ad2e": {
      "model_module": "@jupyter-widgets/controls",
      "model_module_version": "2.0.0",
      "model_name": "ProgressStyleModel",
      "state": {
       "description_width": ""
      }
     },
     "f201bc877dc14c1cb2b34cc34565bc45": {
      "model_module": "@jupyter-widgets/base",
      "model_module_version": "2.0.0",
      "model_name": "LayoutModel",
      "state": {}
     },
     "f21addcd5c764590a2b729b904304adb": {
      "model_module": "@jupyter-widgets/controls",
      "model_module_version": "2.0.0",
      "model_name": "HTMLModel",
      "state": {
       "layout": "IPY_MODEL_3a1b4ef3010a4163b229d64d36f19cfd",
       "style": "IPY_MODEL_36fdb353b6834cf6ae5710ca66dbd920",
       "value": " 63352/63359 [05:58&lt;00:00, 179.19it/s]"
      }
     },
     "f22fb51ee9734c87a8d87a8d194162ad": {
      "model_module": "@jupyter-widgets/controls",
      "model_module_version": "2.0.0",
      "model_name": "FloatProgressModel",
      "state": {
       "layout": "IPY_MODEL_c04e96d5429148328135c85a196845ed",
       "max": 63359,
       "style": "IPY_MODEL_ec86f82bd221426884a94b85aa4aabfd",
       "value": 63359
      }
     },
     "f2498aeb1b6245d38f79f90edc4d88e1": {
      "model_module": "@jupyter-widgets/controls",
      "model_module_version": "2.0.0",
      "model_name": "HTMLStyleModel",
      "state": {
       "description_width": "",
       "font_size": null,
       "text_color": null
      }
     },
     "f252c3898ba0450294ab5e262939ead3": {
      "model_module": "@jupyter-widgets/base",
      "model_module_version": "2.0.0",
      "model_name": "LayoutModel",
      "state": {}
     },
     "f27f15d4543f4672b0467b7422f7d69a": {
      "model_module": "@jupyter-widgets/base",
      "model_module_version": "2.0.0",
      "model_name": "LayoutModel",
      "state": {}
     },
     "f299f80d36ec4c13a04c714a4aafebb4": {
      "model_module": "@jupyter-widgets/controls",
      "model_module_version": "2.0.0",
      "model_name": "HTMLStyleModel",
      "state": {
       "description_width": "",
       "font_size": null,
       "text_color": null
      }
     },
     "f2dc2d66a6b04eeea7864a8469181de0": {
      "model_module": "@jupyter-widgets/controls",
      "model_module_version": "2.0.0",
      "model_name": "ProgressStyleModel",
      "state": {
       "description_width": ""
      }
     },
     "f2dd3c178b7e4d639d798365c5af9366": {
      "model_module": "@jupyter-widgets/controls",
      "model_module_version": "2.0.0",
      "model_name": "HTMLModel",
      "state": {
       "layout": "IPY_MODEL_354690c9394c4c87b426a3b83fdecf60",
       "style": "IPY_MODEL_d0adef5b6c52480492fac12530919574",
       "value": " 63349/63359 [06:05&lt;00:00, 174.71it/s]"
      }
     },
     "f2ede69dab7449e99cf27bf18ded3484": {
      "model_module": "@jupyter-widgets/controls",
      "model_module_version": "2.0.0",
      "model_name": "ProgressStyleModel",
      "state": {
       "description_width": ""
      }
     },
     "f30fba3e35f84fa186c936d68364110e": {
      "model_module": "@jupyter-widgets/controls",
      "model_module_version": "2.0.0",
      "model_name": "HTMLModel",
      "state": {
       "layout": "IPY_MODEL_41cb055438964a7487f7a3a94db03bbc",
       "style": "IPY_MODEL_a0699edec9694cd88bf8ecb51dcf832b",
       "value": " 63356/63359 [06:15&lt;00:00, 167.59it/s]"
      }
     },
     "f311f7bf9c7041b88345f5c4b6d116e9": {
      "model_module": "@jupyter-widgets/controls",
      "model_module_version": "2.0.0",
      "model_name": "FloatProgressModel",
      "state": {
       "layout": "IPY_MODEL_fdbae894fb0645b7a79b134477baa064",
       "max": 63359,
       "style": "IPY_MODEL_f462a82f7213430e9a710d53e39d5d11",
       "value": 63359
      }
     },
     "f324d450a0024aaca297961be5dbecad": {
      "model_module": "@jupyter-widgets/controls",
      "model_module_version": "2.0.0",
      "model_name": "HTMLStyleModel",
      "state": {
       "description_width": "",
       "font_size": null,
       "text_color": null
      }
     },
     "f383b1a18d534e4f9861aa2d3d86d2fb": {
      "model_module": "@jupyter-widgets/controls",
      "model_module_version": "2.0.0",
      "model_name": "HTMLStyleModel",
      "state": {
       "description_width": "",
       "font_size": null,
       "text_color": null
      }
     },
     "f39621c6bcb14d2b9c5cc22bfbc6d9e3": {
      "model_module": "@jupyter-widgets/controls",
      "model_module_version": "2.0.0",
      "model_name": "HTMLStyleModel",
      "state": {
       "description_width": "",
       "font_size": null,
       "text_color": null
      }
     },
     "f3a30231cc1d4a15ac31563ec4aadc7c": {
      "model_module": "@jupyter-widgets/controls",
      "model_module_version": "2.0.0",
      "model_name": "FloatProgressModel",
      "state": {
       "layout": "IPY_MODEL_e5c0f045759544c0bdc2423cf564491b",
       "max": 63359,
       "style": "IPY_MODEL_de4cea7a7f4044569bee6ce1c14d2e8f",
       "value": 63359
      }
     },
     "f3c6d0c578a74f54aa7b589ff7a704bc": {
      "model_module": "@jupyter-widgets/base",
      "model_module_version": "2.0.0",
      "model_name": "LayoutModel",
      "state": {}
     },
     "f3e25d1f7acf4ae2965304db2b35ce4d": {
      "model_module": "@jupyter-widgets/base",
      "model_module_version": "2.0.0",
      "model_name": "LayoutModel",
      "state": {
       "visibility": "hidden"
      }
     },
     "f40c18fc166c4387ad05c31a249d7681": {
      "model_module": "@jupyter-widgets/controls",
      "model_module_version": "2.0.0",
      "model_name": "ProgressStyleModel",
      "state": {
       "description_width": ""
      }
     },
     "f40c8d7f602149fc9f9ab8a8e47b20a1": {
      "model_module": "@jupyter-widgets/controls",
      "model_module_version": "2.0.0",
      "model_name": "HTMLModel",
      "state": {
       "layout": "IPY_MODEL_bde9dccec87a4b5eafcbd893658d6f08",
       "style": "IPY_MODEL_1d28d11d814f4538a73aca3e5380d44f",
       "value": "100%"
      }
     },
     "f4512576570445cbb7b90199cffe73d9": {
      "model_module": "@jupyter-widgets/base",
      "model_module_version": "2.0.0",
      "model_name": "LayoutModel",
      "state": {}
     },
     "f462a82f7213430e9a710d53e39d5d11": {
      "model_module": "@jupyter-widgets/controls",
      "model_module_version": "2.0.0",
      "model_name": "ProgressStyleModel",
      "state": {
       "description_width": ""
      }
     },
     "f4a40857192c40929eb1c31909f6f8e3": {
      "model_module": "@jupyter-widgets/controls",
      "model_module_version": "2.0.0",
      "model_name": "HTMLModel",
      "state": {
       "layout": "IPY_MODEL_89a9ad13b8d8472d91957c1548dd7e9b",
       "style": "IPY_MODEL_ffa91a62c253438eafa0eec6a464fbfc",
       "value": "100%"
      }
     },
     "f4b2809b1b654ed490a860448b966876": {
      "model_module": "@jupyter-widgets/controls",
      "model_module_version": "2.0.0",
      "model_name": "FloatProgressModel",
      "state": {
       "layout": "IPY_MODEL_b78a1f6930514a6b8aeea546c3278d8b",
       "max": 63359,
       "style": "IPY_MODEL_16501f9eef714293abb261adbfea0497",
       "value": 63359
      }
     },
     "f4b31c2b82f540a0988a5bcc7b6e50a5": {
      "model_module": "@jupyter-widgets/base",
      "model_module_version": "2.0.0",
      "model_name": "LayoutModel",
      "state": {
       "visibility": "hidden"
      }
     },
     "f4d4dad3645c41929a19cd8389e2abe5": {
      "model_module": "@jupyter-widgets/controls",
      "model_module_version": "2.0.0",
      "model_name": "HTMLModel",
      "state": {
       "layout": "IPY_MODEL_796da0fd29e8481a909390855f9dd477",
       "style": "IPY_MODEL_8a69768cd78146dba79d1e19df8c56fa",
       "value": " 63344/63359 [06:01&lt;00:00, 176.62it/s]"
      }
     },
     "f54fcaa4833c4bedb0a4a2a39a3022e3": {
      "model_module": "@jupyter-widgets/controls",
      "model_module_version": "2.0.0",
      "model_name": "HTMLModel",
      "state": {
       "layout": "IPY_MODEL_24a02b34619940bba9312058ce7eb3d3",
       "style": "IPY_MODEL_8de3c5be791f44b99c731a6e23db1c53",
       "value": "100%"
      }
     },
     "f57718a1007b49e484e4d6110e77d1eb": {
      "model_module": "@jupyter-widgets/controls",
      "model_module_version": "2.0.0",
      "model_name": "FloatProgressModel",
      "state": {
       "layout": "IPY_MODEL_d3c9b44e95654f5f91b7b851e7c3384d",
       "max": 63359,
       "style": "IPY_MODEL_6dc4851fe6a54a38907f942c39dbb0d2",
       "value": 63359
      }
     },
     "f58926cd56644624bc4f9f5b7ce0f6be": {
      "model_module": "@jupyter-widgets/controls",
      "model_module_version": "2.0.0",
      "model_name": "FloatProgressModel",
      "state": {
       "layout": "IPY_MODEL_1796326d1c4c422abc7bff066b31478c",
       "max": 63359,
       "style": "IPY_MODEL_1f200346f6424a8f8f7020a40d961dfb",
       "value": 63359
      }
     },
     "f5a24e95e2bb4889a32d85e45564e088": {
      "model_module": "@jupyter-widgets/base",
      "model_module_version": "2.0.0",
      "model_name": "LayoutModel",
      "state": {}
     },
     "f5ce0c645e824bc584c4a7cbfc37c32f": {
      "model_module": "@jupyter-widgets/base",
      "model_module_version": "2.0.0",
      "model_name": "LayoutModel",
      "state": {
       "visibility": "hidden"
      }
     },
     "f60163dc3f794dd4b0c6cd3d8261e0db": {
      "model_module": "@jupyter-widgets/base",
      "model_module_version": "2.0.0",
      "model_name": "LayoutModel",
      "state": {
       "visibility": "hidden"
      }
     },
     "f6742944cc8347f2b9ece5ca39782a79": {
      "model_module": "@jupyter-widgets/controls",
      "model_module_version": "2.0.0",
      "model_name": "HTMLStyleModel",
      "state": {
       "description_width": "",
       "font_size": null,
       "text_color": null
      }
     },
     "f684c2b8780d47eca25d0c645c0ca5de": {
      "model_module": "@jupyter-widgets/base",
      "model_module_version": "2.0.0",
      "model_name": "LayoutModel",
      "state": {}
     },
     "f6be6fcf5d5d4c0bace068113fb4f3fb": {
      "model_module": "@jupyter-widgets/controls",
      "model_module_version": "2.0.0",
      "model_name": "ProgressStyleModel",
      "state": {
       "description_width": ""
      }
     },
     "f72d3d9cb78b4485b530d48a28b30017": {
      "model_module": "@jupyter-widgets/controls",
      "model_module_version": "2.0.0",
      "model_name": "FloatProgressModel",
      "state": {
       "layout": "IPY_MODEL_89abb1a889164123ba55e9501d897d84",
       "max": 63359,
       "style": "IPY_MODEL_9a281ad234ff4ddd9c4d13957b550e4a",
       "value": 63359
      }
     },
     "f72d9328a7bd4ec78d1e78954154042d": {
      "model_module": "@jupyter-widgets/controls",
      "model_module_version": "2.0.0",
      "model_name": "ProgressStyleModel",
      "state": {
       "description_width": ""
      }
     },
     "f7530558266c4561854ada703f965181": {
      "model_module": "@jupyter-widgets/controls",
      "model_module_version": "2.0.0",
      "model_name": "HTMLModel",
      "state": {
       "layout": "IPY_MODEL_f0a6931dddec4849b320781f29bd54cc",
       "style": "IPY_MODEL_ba0008841dc64f798d6f3a4e8a1804c3",
       "value": " 63345/63359 [06:02&lt;00:00, 176.53it/s]"
      }
     },
     "f77e9788bd36439cba21982084aaea77": {
      "model_module": "@jupyter-widgets/controls",
      "model_module_version": "2.0.0",
      "model_name": "HTMLStyleModel",
      "state": {
       "description_width": "",
       "font_size": null,
       "text_color": null
      }
     },
     "f77edb9b1b434eddbdb8ae552835af7c": {
      "model_module": "@jupyter-widgets/base",
      "model_module_version": "2.0.0",
      "model_name": "LayoutModel",
      "state": {
       "visibility": "hidden"
      }
     },
     "f7834dd2ee7c4f1ead82fc4cbb12b3f6": {
      "model_module": "@jupyter-widgets/base",
      "model_module_version": "2.0.0",
      "model_name": "LayoutModel",
      "state": {}
     },
     "f7c5933bd6544538bf7334634518a01c": {
      "model_module": "@jupyter-widgets/base",
      "model_module_version": "2.0.0",
      "model_name": "LayoutModel",
      "state": {}
     },
     "f81388a51cd74be382a3258c8b21c6f2": {
      "model_module": "@jupyter-widgets/controls",
      "model_module_version": "2.0.0",
      "model_name": "HTMLModel",
      "state": {
       "layout": "IPY_MODEL_eb79fabc7c964cd193413dc374f8d091",
       "style": "IPY_MODEL_b04bcd7ac749421a9e5fa119b45c11a3",
       "value": " 63359/63359 [06:02&lt;00:00, 175.49it/s]"
      }
     },
     "f8c40b189c2242acbf6fa76b44dd0ce8": {
      "model_module": "@jupyter-widgets/controls",
      "model_module_version": "2.0.0",
      "model_name": "HTMLModel",
      "state": {
       "layout": "IPY_MODEL_08361c6d2c554905924080f8cd1d2dad",
       "style": "IPY_MODEL_6e98c35319724c5eaee2e89582ce4f9d",
       "value": " 63344/63359 [06:37&lt;00:00, 174.65it/s]"
      }
     },
     "f8ea4316e97e40fe9c3d1551f749af15": {
      "model_module": "@jupyter-widgets/base",
      "model_module_version": "2.0.0",
      "model_name": "LayoutModel",
      "state": {}
     },
     "f91f0e7fcb2d4161a48418cd12966b7e": {
      "model_module": "@jupyter-widgets/controls",
      "model_module_version": "2.0.0",
      "model_name": "HTMLStyleModel",
      "state": {
       "description_width": "",
       "font_size": null,
       "text_color": null
      }
     },
     "f92cf190b031447296522d568ff00614": {
      "model_module": "@jupyter-widgets/controls",
      "model_module_version": "2.0.0",
      "model_name": "FloatProgressModel",
      "state": {
       "layout": "IPY_MODEL_633ab33c0ee64e16843dceca86a5b96d",
       "max": 63359,
       "style": "IPY_MODEL_cf14c9f798ca44dcbb2ffa711c5a4511",
       "value": 63359
      }
     },
     "f9358df843764a10997ee39952d486fe": {
      "model_module": "@jupyter-widgets/controls",
      "model_module_version": "2.0.0",
      "model_name": "FloatProgressModel",
      "state": {
       "layout": "IPY_MODEL_921319eda72f429fa9dd2cf54b4a72ec",
       "max": 63359,
       "style": "IPY_MODEL_74e2b119b41d4f4d81ee5a7a4f012430",
       "value": 63359
      }
     },
     "f94074d10b934fbd84be62b63fb8ddad": {
      "model_module": "@jupyter-widgets/controls",
      "model_module_version": "2.0.0",
      "model_name": "ProgressStyleModel",
      "state": {
       "description_width": ""
      }
     },
     "f9408b219c474a93a1f6e7f593d314f6": {
      "model_module": "@jupyter-widgets/base",
      "model_module_version": "2.0.0",
      "model_name": "LayoutModel",
      "state": {}
     },
     "f96809b4fb174cf2b7f9adacfa0557b0": {
      "model_module": "@jupyter-widgets/controls",
      "model_module_version": "2.0.0",
      "model_name": "FloatProgressModel",
      "state": {
       "layout": "IPY_MODEL_20bee4c890194c1686ff3936b71c27ac",
       "max": 63359,
       "style": "IPY_MODEL_586ea2e4e37a4714a480609554487e71",
       "value": 63359
      }
     },
     "f981a39483dd4b829f9a3ea9cbc597b1": {
      "model_module": "@jupyter-widgets/controls",
      "model_module_version": "2.0.0",
      "model_name": "HTMLStyleModel",
      "state": {
       "description_width": "",
       "font_size": null,
       "text_color": null
      }
     },
     "f9c4fe5b0cd041f385dcc79a321684df": {
      "model_module": "@jupyter-widgets/controls",
      "model_module_version": "2.0.0",
      "model_name": "HTMLStyleModel",
      "state": {
       "description_width": "",
       "font_size": null,
       "text_color": null
      }
     },
     "f9d22f96411d4a8a9cc7672ad15f6c95": {
      "model_module": "@jupyter-widgets/base",
      "model_module_version": "2.0.0",
      "model_name": "LayoutModel",
      "state": {
       "visibility": "hidden"
      }
     },
     "f9d315f8d3c346979d1f8aecf69f1496": {
      "model_module": "@jupyter-widgets/controls",
      "model_module_version": "2.0.0",
      "model_name": "ProgressStyleModel",
      "state": {
       "description_width": ""
      }
     },
     "f9d425ee9dd545fb8160a69e2be0990b": {
      "model_module": "@jupyter-widgets/controls",
      "model_module_version": "2.0.0",
      "model_name": "HTMLStyleModel",
      "state": {
       "description_width": "",
       "font_size": null,
       "text_color": null
      }
     },
     "f9d6af78a6874c8f9e3b376e89523f79": {
      "model_module": "@jupyter-widgets/controls",
      "model_module_version": "2.0.0",
      "model_name": "ProgressStyleModel",
      "state": {
       "description_width": ""
      }
     },
     "f9ea09f8b1ad41559241c2d43e512a1c": {
      "model_module": "@jupyter-widgets/base",
      "model_module_version": "2.0.0",
      "model_name": "LayoutModel",
      "state": {
       "visibility": "hidden"
      }
     },
     "fa05e252a6b04d17b1baadc8d24e6b2a": {
      "model_module": "@jupyter-widgets/base",
      "model_module_version": "2.0.0",
      "model_name": "LayoutModel",
      "state": {}
     },
     "fa257f5ca06d4938bb37e87d40367524": {
      "model_module": "@jupyter-widgets/controls",
      "model_module_version": "2.0.0",
      "model_name": "HTMLModel",
      "state": {
       "layout": "IPY_MODEL_73150cecf80f48ce867cde88a355aad4",
       "style": "IPY_MODEL_3239206f47b4451fa2e1ac06729d68b1",
       "value": " 63350/63359 [06:02&lt;00:00, 174.88it/s]"
      }
     },
     "facdca5bbb804a93b221da78e58dd133": {
      "model_module": "@jupyter-widgets/controls",
      "model_module_version": "2.0.0",
      "model_name": "HTMLModel",
      "state": {
       "layout": "IPY_MODEL_11540591e0c24688b0e0bccdbdd9ccae",
       "style": "IPY_MODEL_0d722e28d305464db4f8746c80e29c18",
       "value": " 63357/63359 [05:59&lt;00:00, 176.72it/s]"
      }
     },
     "fadd162448b74b8db6194fe1bff25b9b": {
      "model_module": "@jupyter-widgets/base",
      "model_module_version": "2.0.0",
      "model_name": "LayoutModel",
      "state": {}
     },
     "fb01cb5a459c4aa680e335535d8b3839": {
      "model_module": "@jupyter-widgets/controls",
      "model_module_version": "2.0.0",
      "model_name": "HTMLStyleModel",
      "state": {
       "description_width": "",
       "font_size": null,
       "text_color": null
      }
     },
     "fb70674932194df2834b3cc98692e44b": {
      "model_module": "@jupyter-widgets/controls",
      "model_module_version": "2.0.0",
      "model_name": "ProgressStyleModel",
      "state": {
       "description_width": ""
      }
     },
     "fb86e00f440c4260b9e504c7579b223f": {
      "model_module": "@jupyter-widgets/controls",
      "model_module_version": "2.0.0",
      "model_name": "HTMLModel",
      "state": {
       "layout": "IPY_MODEL_330b4af588a8403ea5ac291f6584b7d4",
       "style": "IPY_MODEL_af3fe5f267b34b40b598d41024b74f0d",
       "value": " 63347/63359 [06:53&lt;00:00, 166.26it/s]"
      }
     },
     "fb902895f0634f2d82b80fa47e9bc868": {
      "model_module": "@jupyter-widgets/controls",
      "model_module_version": "2.0.0",
      "model_name": "HTMLModel",
      "state": {
       "layout": "IPY_MODEL_56b2e0286cbe467d8b8905e24dfc8673",
       "style": "IPY_MODEL_518548a722ed48ebbf2c79c68e5b47ff",
       "value": "100%"
      }
     },
     "fb921bf7dfb34f708f3b14d8f947ed35": {
      "model_module": "@jupyter-widgets/controls",
      "model_module_version": "2.0.0",
      "model_name": "HTMLStyleModel",
      "state": {
       "description_width": "",
       "font_size": null,
       "text_color": null
      }
     },
     "fba5ca13eacd4e398bc7af171612d7d2": {
      "model_module": "@jupyter-widgets/controls",
      "model_module_version": "2.0.0",
      "model_name": "HTMLModel",
      "state": {
       "layout": "IPY_MODEL_8454337543d04d3488c0476c8bd57ccf",
       "style": "IPY_MODEL_77507b806c234fa283df492705496926",
       "value": " 63350/63359 [06:08&lt;00:00, 171.73it/s]"
      }
     },
     "fbe0ed25a1c3453f8a8fd9d0e7349eaf": {
      "model_module": "@jupyter-widgets/controls",
      "model_module_version": "2.0.0",
      "model_name": "HTMLStyleModel",
      "state": {
       "description_width": "",
       "font_size": null,
       "text_color": null
      }
     },
     "fbef8c02f7d043989c000f902d271f76": {
      "model_module": "@jupyter-widgets/base",
      "model_module_version": "2.0.0",
      "model_name": "LayoutModel",
      "state": {
       "visibility": "hidden"
      }
     },
     "fbf19162972c4887abda678856396675": {
      "model_module": "@jupyter-widgets/base",
      "model_module_version": "2.0.0",
      "model_name": "LayoutModel",
      "state": {}
     },
     "fc067b7e187740529bb537b44f107a9b": {
      "model_module": "@jupyter-widgets/controls",
      "model_module_version": "2.0.0",
      "model_name": "HTMLStyleModel",
      "state": {
       "description_width": "",
       "font_size": null,
       "text_color": null
      }
     },
     "fc22b342a0524d8087946e4844ecebf1": {
      "model_module": "@jupyter-widgets/controls",
      "model_module_version": "2.0.0",
      "model_name": "HTMLModel",
      "state": {
       "layout": "IPY_MODEL_82243094243e489fb189c0ee0a7cf061",
       "style": "IPY_MODEL_ea65f77910014ba2bda33c45417de226",
       "value": " 63345/63359 [05:50&lt;00:00, 179.92it/s]"
      }
     },
     "fc3cea3bf68e4e91838a0cb75a1de46b": {
      "model_module": "@jupyter-widgets/controls",
      "model_module_version": "2.0.0",
      "model_name": "HTMLModel",
      "state": {
       "layout": "IPY_MODEL_35940470565c4493af301a42dcd02fe1",
       "style": "IPY_MODEL_d7a297020c6c451a870f9f44882e3aba",
       "value": "100%"
      }
     },
     "fc7289fd8cc0476cb200e6d53ae8a3fe": {
      "model_module": "@jupyter-widgets/controls",
      "model_module_version": "2.0.0",
      "model_name": "FloatProgressModel",
      "state": {
       "layout": "IPY_MODEL_768d029e516b4140b04d52a16326bff1",
       "max": 63359,
       "style": "IPY_MODEL_5d38053a5f5f485c98583d79aea21369",
       "value": 63359
      }
     },
     "fc8be0d9f80b48d4a492075fd560cbd0": {
      "model_module": "@jupyter-widgets/base",
      "model_module_version": "2.0.0",
      "model_name": "LayoutModel",
      "state": {}
     },
     "fc999187bbc04bb9968dde418bf366db": {
      "model_module": "@jupyter-widgets/base",
      "model_module_version": "2.0.0",
      "model_name": "LayoutModel",
      "state": {}
     },
     "fcb74791d82243969e1b3294258d63f7": {
      "model_module": "@jupyter-widgets/base",
      "model_module_version": "2.0.0",
      "model_name": "LayoutModel",
      "state": {}
     },
     "fcc2cdfb7a7846949f85673acdd9c6e1": {
      "model_module": "@jupyter-widgets/controls",
      "model_module_version": "2.0.0",
      "model_name": "HTMLModel",
      "state": {
       "layout": "IPY_MODEL_65fbbcab8775475aa3d321222e37ddc0",
       "style": "IPY_MODEL_2a321296cef546a0aefebab0f9aad76c",
       "value": "100%"
      }
     },
     "fcc33a39cf5747978e6c2ee8d6dd0e4b": {
      "model_module": "@jupyter-widgets/controls",
      "model_module_version": "2.0.0",
      "model_name": "HTMLStyleModel",
      "state": {
       "description_width": "",
       "font_size": null,
       "text_color": null
      }
     },
     "fcf3ba7612bc493cb2e2d6027677c2b2": {
      "model_module": "@jupyter-widgets/base",
      "model_module_version": "2.0.0",
      "model_name": "LayoutModel",
      "state": {}
     },
     "fd19723b12a64e748ee04250483141c6": {
      "model_module": "@jupyter-widgets/controls",
      "model_module_version": "2.0.0",
      "model_name": "HTMLModel",
      "state": {
       "layout": "IPY_MODEL_b16937dd798443b9a41bbdc45cec31d2",
       "style": "IPY_MODEL_0f9ad6eb482c402f9d683a9617d92f9a",
       "value": "100%"
      }
     },
     "fd3a0fb668894898b3acae8911dce4da": {
      "model_module": "@jupyter-widgets/controls",
      "model_module_version": "2.0.0",
      "model_name": "FloatProgressModel",
      "state": {
       "layout": "IPY_MODEL_7121607d0dd847d2adf29ebdd71b47cd",
       "max": 63359,
       "style": "IPY_MODEL_0cdb473c135446dd98c89a82fa0ce462",
       "value": 63359
      }
     },
     "fd3c5a0c91d7425f863ae0f5ee7f6575": {
      "model_module": "@jupyter-widgets/controls",
      "model_module_version": "2.0.0",
      "model_name": "HTMLStyleModel",
      "state": {
       "description_width": "",
       "font_size": null,
       "text_color": null
      }
     },
     "fd3e76b606584ea4beab0fa2a3cc1108": {
      "model_module": "@jupyter-widgets/base",
      "model_module_version": "2.0.0",
      "model_name": "LayoutModel",
      "state": {}
     },
     "fd4f11c480e8497c9f765523935e73dc": {
      "model_module": "@jupyter-widgets/controls",
      "model_module_version": "2.0.0",
      "model_name": "ProgressStyleModel",
      "state": {
       "description_width": ""
      }
     },
     "fd99ea0d4d3347548341053c07a2acf0": {
      "model_module": "@jupyter-widgets/controls",
      "model_module_version": "2.0.0",
      "model_name": "HTMLStyleModel",
      "state": {
       "description_width": "",
       "font_size": null,
       "text_color": null
      }
     },
     "fdbae894fb0645b7a79b134477baa064": {
      "model_module": "@jupyter-widgets/base",
      "model_module_version": "2.0.0",
      "model_name": "LayoutModel",
      "state": {}
     },
     "fdbd12ecc3f44298b683a0e53b624744": {
      "model_module": "@jupyter-widgets/base",
      "model_module_version": "2.0.0",
      "model_name": "LayoutModel",
      "state": {}
     },
     "fdc7787a6cfa4276bc8b98e8d6d68616": {
      "model_module": "@jupyter-widgets/controls",
      "model_module_version": "2.0.0",
      "model_name": "HTMLModel",
      "state": {
       "layout": "IPY_MODEL_e784f5d7b6944749a70c33308f5492c2",
       "style": "IPY_MODEL_a5162b58a572422baf7acb0c43da67de",
       "value": "100%"
      }
     },
     "fdea497cc8ea45e49a36a9a2e4983ee3": {
      "model_module": "@jupyter-widgets/base",
      "model_module_version": "2.0.0",
      "model_name": "LayoutModel",
      "state": {}
     },
     "fdeb0a3665b044bfb6f729d2d6d12d2c": {
      "model_module": "@jupyter-widgets/controls",
      "model_module_version": "2.0.0",
      "model_name": "ProgressStyleModel",
      "state": {
       "description_width": ""
      }
     },
     "fe18c5644faf45e4a4b0d33e9cc17068": {
      "model_module": "@jupyter-widgets/controls",
      "model_module_version": "2.0.0",
      "model_name": "FloatProgressModel",
      "state": {
       "layout": "IPY_MODEL_8dd14eff65974016bf24c7ab3b740694",
       "max": 63359,
       "style": "IPY_MODEL_0512820667ae49dcac88468c1e507ef6",
       "value": 63359
      }
     },
     "fe36170a4b78433bb20b3de035ca0a99": {
      "model_module": "@jupyter-widgets/controls",
      "model_module_version": "2.0.0",
      "model_name": "ProgressStyleModel",
      "state": {
       "description_width": ""
      }
     },
     "fe5d239159c041888d9414df9e269b50": {
      "model_module": "@jupyter-widgets/base",
      "model_module_version": "2.0.0",
      "model_name": "LayoutModel",
      "state": {}
     },
     "fe5fa18868ff439687ecd6a70ffc613c": {
      "model_module": "@jupyter-widgets/controls",
      "model_module_version": "2.0.0",
      "model_name": "HTMLStyleModel",
      "state": {
       "description_width": "",
       "font_size": null,
       "text_color": null
      }
     },
     "fe6ecac82cda46a7b3cbde13d181149e": {
      "model_module": "@jupyter-widgets/base",
      "model_module_version": "2.0.0",
      "model_name": "LayoutModel",
      "state": {}
     },
     "ff0b57f7025f458fa0050dc526d66e40": {
      "model_module": "@jupyter-widgets/base",
      "model_module_version": "2.0.0",
      "model_name": "LayoutModel",
      "state": {}
     },
     "ff2d34f7b7174b32b3e2524f1de55eb4": {
      "model_module": "@jupyter-widgets/base",
      "model_module_version": "2.0.0",
      "model_name": "LayoutModel",
      "state": {}
     },
     "ff330c484de94b61824438dc6ef60eed": {
      "model_module": "@jupyter-widgets/base",
      "model_module_version": "2.0.0",
      "model_name": "LayoutModel",
      "state": {}
     },
     "ff37c4da64e14e43aafbeee3faadd5a3": {
      "model_module": "@jupyter-widgets/base",
      "model_module_version": "2.0.0",
      "model_name": "LayoutModel",
      "state": {}
     },
     "ff52669cf9b545beb417d30de8836aa3": {
      "model_module": "@jupyter-widgets/controls",
      "model_module_version": "2.0.0",
      "model_name": "FloatProgressModel",
      "state": {
       "layout": "IPY_MODEL_f0bdd796092c4cb98273a401fc6e4629",
       "max": 63359,
       "style": "IPY_MODEL_6ee022605fd5401e8a1d568bd47d66bd",
       "value": 63359
      }
     },
     "ff67dae1039a43af8070de15aeff3fd8": {
      "model_module": "@jupyter-widgets/base",
      "model_module_version": "2.0.0",
      "model_name": "LayoutModel",
      "state": {}
     },
     "ff7c34e8fc6a4ea69f17c32e3198a53b": {
      "model_module": "@jupyter-widgets/base",
      "model_module_version": "2.0.0",
      "model_name": "LayoutModel",
      "state": {}
     },
     "ff98da288ceb480fa78f6ec0904d604b": {
      "model_module": "@jupyter-widgets/base",
      "model_module_version": "2.0.0",
      "model_name": "LayoutModel",
      "state": {
       "visibility": "hidden"
      }
     },
     "ffa91a62c253438eafa0eec6a464fbfc": {
      "model_module": "@jupyter-widgets/controls",
      "model_module_version": "2.0.0",
      "model_name": "HTMLStyleModel",
      "state": {
       "description_width": "",
       "font_size": null,
       "text_color": null
      }
     },
     "ffb5791f39db42cba08a5c05a53598ea": {
      "model_module": "@jupyter-widgets/base",
      "model_module_version": "2.0.0",
      "model_name": "LayoutModel",
      "state": {
       "visibility": "hidden"
      }
     },
     "ffca4d0bc4b740d3b24893063be9dbb0": {
      "model_module": "@jupyter-widgets/controls",
      "model_module_version": "2.0.0",
      "model_name": "HTMLModel",
      "state": {
       "layout": "IPY_MODEL_228c825ee1aa48a8895c02e1a6bc3eb4",
       "style": "IPY_MODEL_c046ca0ad7244abd80c6c18283af6388",
       "value": "100%"
      }
     },
     "ffd18806134c459a9c1b97e0ccfe357c": {
      "model_module": "@jupyter-widgets/base",
      "model_module_version": "2.0.0",
      "model_name": "LayoutModel",
      "state": {}
     },
     "fffa8724a3be4fecb57dd37940e38ffa": {
      "model_module": "@jupyter-widgets/base",
      "model_module_version": "2.0.0",
      "model_name": "LayoutModel",
      "state": {}
     }
    },
    "version_major": 2,
    "version_minor": 0
   }
  }
 },
 "nbformat": 4,
 "nbformat_minor": 5
}
