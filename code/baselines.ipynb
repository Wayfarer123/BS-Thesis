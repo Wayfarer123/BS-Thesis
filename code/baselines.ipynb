{
 "cells": [
  {
   "cell_type": "markdown",
   "id": "a9624149-ff15-47b6-b4fc-e2ac54815186",
   "metadata": {},
   "source": [
    "## Здесь попробуем некоторые претренированные модели"
   ]
  },
  {
   "cell_type": "markdown",
   "id": "3ae94fbc-78e7-4b1a-8d88-be405a805b6b",
   "metadata": {},
   "source": [
    "### FashionCLIP\n",
    "Модель основанная на CLIP от OpenAI, генерирующая общее векторное представление в латентном пространстве для текстового и графического описания каждого объекта"
   ]
  },
  {
   "cell_type": "code",
   "execution_count": 65,
   "id": "60c9933a-8abd-486a-8c2b-587f5ee75fc8",
   "metadata": {},
   "outputs": [],
   "source": [
    "import matplotlib.pyplot as plt\n",
    "import seaborn as sns\n",
    "sns.set_style(\"darkgrid\")\n",
    "from tqdm import tqdm\n",
    "import torch\n",
    "import torch.nn.functional as F\n",
    "import pandas as pd\n",
    "from collections import Counter\n",
    "import numpy as np\n",
    "from PIL import Image\n",
    "from sklearn.metrics import classification_report"
   ]
  },
  {
   "cell_type": "markdown",
   "id": "061af93c-d6d9-40d3-a482-a7739dd98c31",
   "metadata": {},
   "source": [
    "скачаем датасет c kaggle [соревнования](https://www.kaggle.com/competitions/h-and-m-personalized-fashion-recommendations)"
   ]
  },
  {
   "cell_type": "code",
   "execution_count": 66,
   "id": "e3c1ccae-73c5-4919-b339-62f41d865559",
   "metadata": {},
   "outputs": [],
   "source": [
    "# !gdown \"1igAuIEW_4h_51BG1o05WS0Q0-Cp17_-t&confirm=t\""
   ]
  },
  {
   "cell_type": "code",
   "execution_count": 67,
   "id": "ec59978d-e325-4080-ae63-176ca9c0fc72",
   "metadata": {},
   "outputs": [],
   "source": [
    "# !pip install -U fashion-clip"
   ]
  },
  {
   "cell_type": "code",
   "execution_count": 72,
   "id": "8dcd52c8-fe63-47d0-a20e-4386d2d920e0",
   "metadata": {
    "scrolled": true
   },
   "outputs": [
    {
     "name": "stderr",
     "output_type": "stream",
     "text": [
      "loading configuration file config.json from cache at C:\\Users\\Nikita\\.cache\\huggingface\\hub\\models--patrickjohncyh--fashion-clip\\snapshots\\ead6cba5fe7ab8c333b5a3ae4d420f253deab0f9\\config.json\n",
      "`text_config` is `None`. Initializing the `CLIPTextConfig` with default values.\n",
      "`vision_config` is `None`. initializing the `CLIPVisionConfig` with default values.\n",
      "Model config CLIPConfig {\n",
      "  \"architectures\": [\n",
      "    \"CLIPModel\"\n",
      "  ],\n",
      "  \"initializer_factor\": 1.0,\n",
      "  \"logit_scale_init_value\": 2.6592,\n",
      "  \"model_type\": \"clip\",\n",
      "  \"projection_dim\": 512,\n",
      "  \"text_config\": {\n",
      "    \"bos_token_id\": 0,\n",
      "    \"dropout\": 0.0,\n",
      "    \"eos_token_id\": 2,\n",
      "    \"model_type\": \"clip_text_model\"\n",
      "  },\n",
      "  \"torch_dtype\": \"float32\",\n",
      "  \"transformers_version\": \"4.36.2\",\n",
      "  \"vision_config\": {\n",
      "    \"dropout\": 0.0,\n",
      "    \"model_type\": \"clip_vision_model\"\n",
      "  }\n",
      "}\n",
      "\n",
      "loading weights file model.safetensors from cache at C:\\Users\\Nikita\\.cache\\huggingface\\hub\\models--patrickjohncyh--fashion-clip\\snapshots\\ead6cba5fe7ab8c333b5a3ae4d420f253deab0f9\\model.safetensors\n",
      "All model checkpoint weights were used when initializing CLIPModel.\n",
      "\n",
      "All the weights of CLIPModel were initialized from the model checkpoint at patrickjohncyh/fashion-clip.\n",
      "If your task is similar to the task the model of the checkpoint was trained on, you can already use CLIPModel for predictions without further training.\n",
      "loading configuration file preprocessor_config.json from cache at C:\\Users\\Nikita\\.cache\\huggingface\\hub\\models--patrickjohncyh--fashion-clip\\snapshots\\ead6cba5fe7ab8c333b5a3ae4d420f253deab0f9\\preprocessor_config.json\n",
      "size should be a dictionary on of the following set of keys: ({'width', 'height'}, {'shortest_edge'}, {'shortest_edge', 'longest_edge'}, {'longest_edge'}), got 224. Converted to {'shortest_edge': 224}.\n",
      "crop_size should be a dictionary on of the following set of keys: ({'width', 'height'}, {'shortest_edge'}, {'shortest_edge', 'longest_edge'}, {'longest_edge'}), got 224. Converted to {'height': 224, 'width': 224}.\n",
      "Image processor CLIPImageProcessor {\n",
      "  \"crop_size\": {\n",
      "    \"height\": 224,\n",
      "    \"width\": 224\n",
      "  },\n",
      "  \"do_center_crop\": true,\n",
      "  \"do_convert_rgb\": true,\n",
      "  \"do_normalize\": true,\n",
      "  \"do_rescale\": true,\n",
      "  \"do_resize\": true,\n",
      "  \"feature_extractor_type\": \"CLIPFeatureExtractor\",\n",
      "  \"image_mean\": [\n",
      "    0.48145466,\n",
      "    0.4578275,\n",
      "    0.40821073\n",
      "  ],\n",
      "  \"image_processor_type\": \"CLIPImageProcessor\",\n",
      "  \"image_std\": [\n",
      "    0.26862954,\n",
      "    0.26130258,\n",
      "    0.27577711\n",
      "  ],\n",
      "  \"resample\": 3,\n",
      "  \"rescale_factor\": 0.00392156862745098,\n",
      "  \"size\": {\n",
      "    \"shortest_edge\": 224\n",
      "  }\n",
      "}\n",
      "\n",
      "loading file vocab.json from cache at C:\\Users\\Nikita\\.cache\\huggingface\\hub\\models--patrickjohncyh--fashion-clip\\snapshots\\ead6cba5fe7ab8c333b5a3ae4d420f253deab0f9\\vocab.json\n",
      "loading file merges.txt from cache at C:\\Users\\Nikita\\.cache\\huggingface\\hub\\models--patrickjohncyh--fashion-clip\\snapshots\\ead6cba5fe7ab8c333b5a3ae4d420f253deab0f9\\merges.txt\n",
      "loading file tokenizer.json from cache at C:\\Users\\Nikita\\.cache\\huggingface\\hub\\models--patrickjohncyh--fashion-clip\\snapshots\\ead6cba5fe7ab8c333b5a3ae4d420f253deab0f9\\tokenizer.json\n",
      "loading file added_tokens.json from cache at None\n",
      "loading file special_tokens_map.json from cache at C:\\Users\\Nikita\\.cache\\huggingface\\hub\\models--patrickjohncyh--fashion-clip\\snapshots\\ead6cba5fe7ab8c333b5a3ae4d420f253deab0f9\\special_tokens_map.json\n",
      "loading file tokenizer_config.json from cache at C:\\Users\\Nikita\\.cache\\huggingface\\hub\\models--patrickjohncyh--fashion-clip\\snapshots\\ead6cba5fe7ab8c333b5a3ae4d420f253deab0f9\\tokenizer_config.json\n",
      "loading configuration file config.json from cache at C:\\Users\\Nikita\\.cache\\huggingface\\hub\\models--patrickjohncyh--fashion-clip\\snapshots\\ead6cba5fe7ab8c333b5a3ae4d420f253deab0f9\\config.json\n",
      "`text_config` is `None`. Initializing the `CLIPTextConfig` with default values.\n",
      "`vision_config` is `None`. initializing the `CLIPVisionConfig` with default values.\n",
      "Model config CLIPConfig {\n",
      "  \"_name_or_path\": \"patrickjohncyh/fashion-clip\",\n",
      "  \"architectures\": [\n",
      "    \"CLIPModel\"\n",
      "  ],\n",
      "  \"initializer_factor\": 1.0,\n",
      "  \"logit_scale_init_value\": 2.6592,\n",
      "  \"model_type\": \"clip\",\n",
      "  \"projection_dim\": 512,\n",
      "  \"text_config\": {\n",
      "    \"bos_token_id\": 0,\n",
      "    \"dropout\": 0.0,\n",
      "    \"eos_token_id\": 2,\n",
      "    \"model_type\": \"clip_text_model\"\n",
      "  },\n",
      "  \"torch_dtype\": \"float32\",\n",
      "  \"transformers_version\": \"4.36.2\",\n",
      "  \"vision_config\": {\n",
      "    \"dropout\": 0.0,\n",
      "    \"model_type\": \"clip_vision_model\"\n",
      "  }\n",
      "}\n",
      "\n"
     ]
    }
   ],
   "source": [
    "from fashion_clip.fashion_clip import FashionCLIP\n",
    "\n",
    "model = FashionCLIP('fashion-clip')"
   ]
  },
  {
   "cell_type": "code",
   "execution_count": 16,
   "id": "dc9e83d6-cae7-4481-9429-fe534a2a9a59",
   "metadata": {},
   "outputs": [
    {
     "data": {
      "text/html": [
       "<div>\n",
       "<style scoped>\n",
       "    .dataframe tbody tr th:only-of-type {\n",
       "        vertical-align: middle;\n",
       "    }\n",
       "\n",
       "    .dataframe tbody tr th {\n",
       "        vertical-align: top;\n",
       "    }\n",
       "\n",
       "    .dataframe thead th {\n",
       "        text-align: right;\n",
       "    }\n",
       "</style>\n",
       "<table border=\"1\" class=\"dataframe\">\n",
       "  <thead>\n",
       "    <tr style=\"text-align: right;\">\n",
       "      <th></th>\n",
       "      <th>article_id</th>\n",
       "      <th>product_code</th>\n",
       "      <th>prod_name</th>\n",
       "      <th>product_type_no</th>\n",
       "      <th>product_type_name</th>\n",
       "      <th>product_group_name</th>\n",
       "      <th>graphical_appearance_no</th>\n",
       "      <th>graphical_appearance_name</th>\n",
       "      <th>colour_group_code</th>\n",
       "      <th>colour_group_name</th>\n",
       "      <th>...</th>\n",
       "      <th>department_name</th>\n",
       "      <th>index_code</th>\n",
       "      <th>index_name</th>\n",
       "      <th>index_group_no</th>\n",
       "      <th>index_group_name</th>\n",
       "      <th>section_no</th>\n",
       "      <th>section_name</th>\n",
       "      <th>garment_group_no</th>\n",
       "      <th>garment_group_name</th>\n",
       "      <th>detail_desc</th>\n",
       "    </tr>\n",
       "  </thead>\n",
       "  <tbody>\n",
       "    <tr>\n",
       "      <th>0</th>\n",
       "      <td>108775044</td>\n",
       "      <td>108775</td>\n",
       "      <td>Strap top</td>\n",
       "      <td>253</td>\n",
       "      <td>Vest top</td>\n",
       "      <td>Garment Upper body</td>\n",
       "      <td>1010016</td>\n",
       "      <td>Solid</td>\n",
       "      <td>10</td>\n",
       "      <td>White</td>\n",
       "      <td>...</td>\n",
       "      <td>Jersey Basic</td>\n",
       "      <td>A</td>\n",
       "      <td>Ladieswear</td>\n",
       "      <td>1</td>\n",
       "      <td>Ladieswear</td>\n",
       "      <td>16</td>\n",
       "      <td>Womens Everyday Basics</td>\n",
       "      <td>1002</td>\n",
       "      <td>Jersey Basic</td>\n",
       "      <td>Jersey top with narrow shoulder straps.</td>\n",
       "    </tr>\n",
       "    <tr>\n",
       "      <th>1</th>\n",
       "      <td>176754003</td>\n",
       "      <td>176754</td>\n",
       "      <td>2 Row Braided Headband (1)</td>\n",
       "      <td>74</td>\n",
       "      <td>Hair/alice band</td>\n",
       "      <td>Accessories</td>\n",
       "      <td>1010016</td>\n",
       "      <td>Solid</td>\n",
       "      <td>17</td>\n",
       "      <td>Yellowish Brown</td>\n",
       "      <td>...</td>\n",
       "      <td>Hair Accessories</td>\n",
       "      <td>C</td>\n",
       "      <td>Ladies Accessories</td>\n",
       "      <td>1</td>\n",
       "      <td>Ladieswear</td>\n",
       "      <td>66</td>\n",
       "      <td>Womens Small accessories</td>\n",
       "      <td>1019</td>\n",
       "      <td>Accessories</td>\n",
       "      <td>Two-strand hairband with braids in imitation s...</td>\n",
       "    </tr>\n",
       "    <tr>\n",
       "      <th>3</th>\n",
       "      <td>189634031</td>\n",
       "      <td>189634</td>\n",
       "      <td>Long Leg Leggings</td>\n",
       "      <td>273</td>\n",
       "      <td>Leggings/Tights</td>\n",
       "      <td>Garment Lower body</td>\n",
       "      <td>1010016</td>\n",
       "      <td>Solid</td>\n",
       "      <td>93</td>\n",
       "      <td>Dark Green</td>\n",
       "      <td>...</td>\n",
       "      <td>Basic 1</td>\n",
       "      <td>D</td>\n",
       "      <td>Divided</td>\n",
       "      <td>2</td>\n",
       "      <td>Divided</td>\n",
       "      <td>51</td>\n",
       "      <td>Divided Basics</td>\n",
       "      <td>1002</td>\n",
       "      <td>Jersey Basic</td>\n",
       "      <td>Leggings in stretch jersey with an elasticated...</td>\n",
       "    </tr>\n",
       "    <tr>\n",
       "      <th>4</th>\n",
       "      <td>194270044</td>\n",
       "      <td>194270</td>\n",
       "      <td>HELENA 2-pack tanktop</td>\n",
       "      <td>253</td>\n",
       "      <td>Vest top</td>\n",
       "      <td>Garment Upper body</td>\n",
       "      <td>1010016</td>\n",
       "      <td>Solid</td>\n",
       "      <td>51</td>\n",
       "      <td>Light Pink</td>\n",
       "      <td>...</td>\n",
       "      <td>Young Girl Jersey Basic</td>\n",
       "      <td>I</td>\n",
       "      <td>Children Sizes 134-170</td>\n",
       "      <td>4</td>\n",
       "      <td>Baby/Children</td>\n",
       "      <td>79</td>\n",
       "      <td>Girls Underwear &amp; Basics</td>\n",
       "      <td>1002</td>\n",
       "      <td>Jersey Basic</td>\n",
       "      <td>Tops in soft organic cotton jersey.</td>\n",
       "    </tr>\n",
       "    <tr>\n",
       "      <th>5</th>\n",
       "      <td>203027047</td>\n",
       "      <td>203027</td>\n",
       "      <td>Linni tee (1)</td>\n",
       "      <td>255</td>\n",
       "      <td>T-shirt</td>\n",
       "      <td>Garment Upper body</td>\n",
       "      <td>1010017</td>\n",
       "      <td>Stripe</td>\n",
       "      <td>10</td>\n",
       "      <td>White</td>\n",
       "      <td>...</td>\n",
       "      <td>Basic 1</td>\n",
       "      <td>D</td>\n",
       "      <td>Divided</td>\n",
       "      <td>2</td>\n",
       "      <td>Divided</td>\n",
       "      <td>51</td>\n",
       "      <td>Divided Basics</td>\n",
       "      <td>1002</td>\n",
       "      <td>Jersey Basic</td>\n",
       "      <td>Short-sleeved top in jersey with sewn-in turn-...</td>\n",
       "    </tr>\n",
       "  </tbody>\n",
       "</table>\n",
       "<p>5 rows × 25 columns</p>\n",
       "</div>"
      ],
      "text/plain": [
       "   article_id  product_code                   prod_name  product_type_no  \\\n",
       "0   108775044        108775                   Strap top              253   \n",
       "1   176754003        176754  2 Row Braided Headband (1)               74   \n",
       "3   189634031        189634           Long Leg Leggings              273   \n",
       "4   194270044        194270       HELENA 2-pack tanktop              253   \n",
       "5   203027047        203027               Linni tee (1)              255   \n",
       "\n",
       "  product_type_name  product_group_name  graphical_appearance_no  \\\n",
       "0          Vest top  Garment Upper body                  1010016   \n",
       "1   Hair/alice band         Accessories                  1010016   \n",
       "3   Leggings/Tights  Garment Lower body                  1010016   \n",
       "4          Vest top  Garment Upper body                  1010016   \n",
       "5           T-shirt  Garment Upper body                  1010017   \n",
       "\n",
       "  graphical_appearance_name  colour_group_code colour_group_name  ...  \\\n",
       "0                     Solid                 10             White  ...   \n",
       "1                     Solid                 17   Yellowish Brown  ...   \n",
       "3                     Solid                 93        Dark Green  ...   \n",
       "4                     Solid                 51        Light Pink  ...   \n",
       "5                    Stripe                 10             White  ...   \n",
       "\n",
       "           department_name index_code              index_name index_group_no  \\\n",
       "0             Jersey Basic          A              Ladieswear              1   \n",
       "1         Hair Accessories          C      Ladies Accessories              1   \n",
       "3                  Basic 1          D                 Divided              2   \n",
       "4  Young Girl Jersey Basic          I  Children Sizes 134-170              4   \n",
       "5                  Basic 1          D                 Divided              2   \n",
       "\n",
       "   index_group_name section_no              section_name garment_group_no  \\\n",
       "0        Ladieswear         16    Womens Everyday Basics             1002   \n",
       "1        Ladieswear         66  Womens Small accessories             1019   \n",
       "3           Divided         51            Divided Basics             1002   \n",
       "4     Baby/Children         79  Girls Underwear & Basics             1002   \n",
       "5           Divided         51            Divided Basics             1002   \n",
       "\n",
       "   garment_group_name                                        detail_desc  \n",
       "0        Jersey Basic            Jersey top with narrow shoulder straps.  \n",
       "1         Accessories  Two-strand hairband with braids in imitation s...  \n",
       "3        Jersey Basic  Leggings in stretch jersey with an elasticated...  \n",
       "4        Jersey Basic                Tops in soft organic cotton jersey.  \n",
       "5        Jersey Basic  Short-sleeved top in jersey with sewn-in turn-...  \n",
       "\n",
       "[5 rows x 25 columns]"
      ]
     },
     "execution_count": 16,
     "metadata": {},
     "output_type": "execute_result"
    }
   ],
   "source": [
    "articles = pd.read_csv(\"data/data_for_fashion_clip/articles.csv\")\n",
    "\n",
    "# удаляем дубликаты\n",
    "subset = articles.drop_duplicates(\"detail_desc\").copy()\n",
    "\n",
    "# удаляем объекты с неизвестной категорией\n",
    "subset = subset[~subset[\"product_group_name\"].isin([\"Unknown\"])]\n",
    "\n",
    "# модель имеет ограничением в 77 токенов, с запасом ограничим все описания на 50\n",
    "subset = subset[subset[\"detail_desc\"].apply(lambda x : 4 < len(str(x).split()) < 50)]\n",
    "\n",
    "# удалим объекты с редкими категориями \n",
    "most_frequent_product_types = [k for k, v in dict(Counter(subset[\"product_type_name\"].tolist())).items() if v > 10]\n",
    "subset = subset[subset[\"product_type_name\"].isin(most_frequent_product_types)]\n",
    "\n",
    "subset.head(5)"
   ]
  },
  {
   "cell_type": "code",
   "execution_count": 18,
   "id": "b74843a0-7cdc-4353-8833-1261b39baf04",
   "metadata": {},
   "outputs": [
    {
     "data": {
      "text/plain": [
       "'Получили подмножество из датасета размером 3335 элементов'"
      ]
     },
     "execution_count": 18,
     "metadata": {},
     "output_type": "execute_result"
    }
   ],
   "source": [
    "subset.to_csv(\"data/data_for_fashion_clip/subset_data.csv\", index=False)\n",
    "f\"Получили подмножество из датасета размером {len(subset)} элементов\""
   ]
  },
  {
   "cell_type": "markdown",
   "id": "ff4fe61a-8677-4daa-b83d-e471eca920a7",
   "metadata": {},
   "source": [
    "#### Рекомендация по тексту\n",
    "Для начала рассмотрим задачу являющуюся простым частным случаем описанной в тексте работы задачи восстановления образа -- рекомендация единственного объекта по его описанию -- т.е. по сути восстановления образа размера 1 по его текстовому описанию."
   ]
  },
  {
   "cell_type": "code",
   "execution_count": 22,
   "id": "98bce0f8-56fd-4910-b0a7-46b5e2974b2f",
   "metadata": {},
   "outputs": [
    {
     "name": "stderr",
     "output_type": "stream",
     "text": [
      "105it [02:28,  1.41s/it]                                                                                                                \n",
      "  0%|                                                                                                           | 0/104 [23:09<?, ?it/s]\n"
     ]
    },
    {
     "data": {
      "application/vnd.jupyter.widget-view+json": {
       "model_id": "c29d87616e3f4536824f787d1c7efc15",
       "version_major": 2,
       "version_minor": 0
      },
      "text/plain": [
       "Map:   0%|          | 0/3335 [00:00<?, ? examples/s]"
      ]
     },
     "metadata": {},
     "output_type": "display_data"
    },
    {
     "name": "stderr",
     "output_type": "stream",
     "text": [
      "105it [00:09, 10.86it/s]                                                                                                                \n"
     ]
    }
   ],
   "source": [
    "images = [\"data/data_for_fashion_clip/\" + str(k) + \".jpg\" for k in subset[\"article_id\"].tolist()]\n",
    "texts = subset[\"detail_desc\"].tolist()\n",
    "\n",
    "# Получаем эмбединнги изображений и описаний\n",
    "image_embeddings = model.encode_images(images, batch_size=32)\n",
    "text_embeddings = model.encode_text(texts, batch_size=32)\n",
    "\n",
    "# нормализуем полученные эмбединнги, чтобы использщовать скалярное произведение вместо косинусной близости\n",
    "image_embeddings = image_embeddings/np.linalg.norm(image_embeddings, ord=2, axis=-1, keepdims=True)\n",
    "text_embeddings = text_embeddings/np.linalg.norm(text_embeddings, ord=2, axis=-1, keepdims=True)"
   ]
  },
  {
   "cell_type": "markdown",
   "id": "387faffd-0575-4b81-b876-2cb853a728ad",
   "metadata": {},
   "source": [
    "Посчитаем top10-precision "
   ]
  },
  {
   "cell_type": "code",
   "execution_count": 24,
   "id": "edfedb43-bcb8-4fa9-a3e5-c7c64800c61c",
   "metadata": {},
   "outputs": [
    {
     "data": {
      "text/plain": [
       "0.65"
      ]
     },
     "execution_count": 24,
     "metadata": {},
     "output_type": "execute_result"
    }
   ],
   "source": [
    "precision = 0\n",
    "\n",
    "for index, t in enumerate(text_embeddings):\n",
    "    arr = t.dot(image_embeddings.T)\n",
    "\n",
    "    best = arr.argsort()[-10:][::-1]   \n",
    "\n",
    "    if index in best:\n",
    "        precision +=1\n",
    "\n",
    "round(precision/len(text_embeddings), 2)"
   ]
  },
  {
   "cell_type": "code",
   "execution_count": 29,
   "id": "007d2aa0-32ea-43a3-9efb-6fd6591f0aab",
   "metadata": {},
   "outputs": [
    {
     "data": {
      "application/vnd.jupyter.widget-view+json": {
       "model_id": "f440c946c9aa4b3796aaaa03106feddc",
       "version_major": 2,
       "version_minor": 0
      },
      "text/plain": [
       "Map:   0%|          | 0/1 [00:00<?, ? examples/s]"
      ]
     },
     "metadata": {},
     "output_type": "display_data"
    },
    {
     "name": "stderr",
     "output_type": "stream",
     "text": [
      "1it [00:00, 83.31it/s]\n"
     ]
    },
    {
     "data": {
      "image/jpeg": "[encoded data removed]",
      "image/png": "[encoded data removed]",
      "text/plain": [
       "<PIL.Image.Image image mode=RGB size=149x224>"
      ]
     },
     "execution_count": 29,
     "metadata": {},
     "output_type": "execute_result"
    }
   ],
   "source": [
    "text_embedding = model.encode_text([\"a red dress\"], 32)[0]\n",
    "\n",
    "id_of_matched_object = np.argmax(text_embedding.dot(image_embeddings.T))\n",
    "found_object = subset[\"article_id\"].iloc[id_of_matched_object].tolist()\n",
    "\n",
    "fixed_height = 224\n",
    "\n",
    "image = Image.open(f\"data/data_for_fashion_clip/{found_object}.jpg\")\n",
    "height_percent = (fixed_height / float(image.size[1]))\n",
    "width_size = int((float(image.size[0]) * float(height_percent)))\n",
    "image = image.resize((width_size, fixed_height), Image.NEAREST)\n",
    "\n",
    "image"
   ]
  },
  {
   "cell_type": "markdown",
   "id": "1057ccf6-bb11-45aa-8595-b84e71b53442",
   "metadata": {},
   "source": [
    "#### Классификация элементов по категориям\n",
    "Небольшая подзадача задачи описания образа и/или элемента -- выбор наиболее подходящей к изображению категории из предложенных."
   ]
  },
  {
   "cell_type": "code",
   "execution_count": 32,
   "id": "4c7d7f9b-99e0-4c4b-88dc-9b40a169c002",
   "metadata": {},
   "outputs": [
    {
     "name": "stdout",
     "output_type": "stream",
     "text": [
      "Категории:\n",
      " ['Vest top' 'Hair/alice band' 'Leggings/Tights' 'T-shirt' 'Sneakers'\n",
      " 'Sunglasses' 'Cardigan' 'Gloves' 'Underwear Tights' 'Hoodie' 'Other shoe'\n",
      " 'Shorts' 'Jumpsuit/Playsuit' 'Dress' 'Trousers' 'Belt' 'Socks'\n",
      " 'Underwear bottom' 'Bodysuit' 'Hat/beanie' 'Scarf' 'Jacket'\n",
      " 'Other accessories' 'Bra' 'Swimwear bottom' 'Blazer' 'Top' 'Polo shirt'\n",
      " 'Sweater' 'Necklace' 'Pyjama set' 'Blouse' 'Bag' 'Shirt' 'Coat' 'Boots'\n",
      " 'Skirt' 'Garment Set' 'Bikini top' 'Sandals' 'Dungarees' 'Earring'\n",
      " 'Cap/peaked' 'Ballerinas' 'Swimsuit' 'Hat/brim']\n"
     ]
    }
   ],
   "source": [
    "labels = subset[\"product_type_name\"].unique()\n",
    "print(f\"Категории:\\n {labels}\")"
   ]
  },
  {
   "cell_type": "code",
   "execution_count": 33,
   "id": "597fd682-641f-48b5-be86-2015b4e76f52",
   "metadata": {},
   "outputs": [
    {
     "data": {
      "application/vnd.jupyter.widget-view+json": {
       "model_id": "0b1e9f65d6d04dbdb0c0bf04972695e1",
       "version_major": 2,
       "version_minor": 0
      },
      "text/plain": [
       "Map:   0%|          | 0/46 [00:00<?, ? examples/s]"
      ]
     },
     "metadata": {},
     "output_type": "display_data"
    },
    {
     "name": "stderr",
     "output_type": "stream",
     "text": [
      "2it [00:00, 11.09it/s]                                                                                                                  \n"
     ]
    }
   ],
   "source": [
    "labels_prompt = [f\"a photo of a {k}\" for k in labels]\n",
    "\n",
    "label_embeddings = model.encode_text(labels_prompt, batch_size=32)\n",
    "label_embeddings = label_embeddings/np.linalg.norm(label_embeddings, ord=2, axis=-1, keepdims=True)"
   ]
  },
  {
   "cell_type": "code",
   "execution_count": 35,
   "id": "b479fdfd-5a5c-4555-bf4c-9b9372a773df",
   "metadata": {},
   "outputs": [
    {
     "name": "stdout",
     "output_type": "stream",
     "text": [
      "                   precision    recall  f1-score   support\n",
      "\n",
      "              Bag       0.97      0.84      0.90        45\n",
      "       Ballerinas       0.67      0.15      0.25        13\n",
      "             Belt       0.76      0.93      0.84        14\n",
      "       Bikini top       0.62      0.74      0.67        38\n",
      "           Blazer       0.94      0.85      0.89        40\n",
      "           Blouse       0.48      0.80      0.60       151\n",
      "         Bodysuit       0.53      0.65      0.59        26\n",
      "            Boots       0.91      0.65      0.75        31\n",
      "              Bra       0.92      0.74      0.82        76\n",
      "       Cap/peaked       0.95      0.86      0.90        21\n",
      "         Cardigan       0.57      0.86      0.68        50\n",
      "             Coat       0.14      0.92      0.24        12\n",
      "            Dress       0.92      0.76      0.83       344\n",
      "        Dungarees       0.36      0.71      0.48        14\n",
      "          Earring       0.98      0.84      0.90        55\n",
      "      Garment Set       0.80      0.19      0.30        43\n",
      "           Gloves       1.00      0.93      0.97        15\n",
      "  Hair/alice band       0.83      0.79      0.81        24\n",
      "       Hat/beanie       0.94      0.81      0.87        42\n",
      "         Hat/brim       0.76      0.87      0.81        15\n",
      "           Hoodie       0.68      0.91      0.77        74\n",
      "           Jacket       0.93      0.57      0.71       135\n",
      "Jumpsuit/Playsuit       0.34      0.33      0.33        40\n",
      "  Leggings/Tights       0.70      0.52      0.60        63\n",
      "         Necklace       0.79      0.90      0.84        21\n",
      "Other accessories       0.43      0.36      0.39        36\n",
      "       Other shoe       0.31      0.81      0.45        16\n",
      "       Polo shirt       0.63      0.86      0.73        14\n",
      "       Pyjama set       0.36      0.95      0.52        37\n",
      "          Sandals       0.86      1.00      0.93        25\n",
      "            Scarf       0.67      0.91      0.77        33\n",
      "            Shirt       0.44      0.75      0.56        93\n",
      "           Shorts       0.75      0.87      0.80       139\n",
      "            Skirt       0.90      0.89      0.90       113\n",
      "         Sneakers       0.95      0.80      0.87        70\n",
      "            Socks       0.89      0.98      0.93        41\n",
      "       Sunglasses       0.92      1.00      0.96        11\n",
      "          Sweater       0.83      0.81      0.82       320\n",
      "         Swimsuit       0.47      0.80      0.59        20\n",
      "  Swimwear bottom       0.51      0.63      0.56        38\n",
      "          T-shirt       0.84      0.60      0.70       227\n",
      "              Top       0.00      0.00      0.00       148\n",
      "         Trousers       0.91      0.85      0.88       364\n",
      " Underwear Tights       0.43      0.55      0.48        11\n",
      " Underwear bottom       0.95      0.67      0.78        81\n",
      "         Vest top       0.68      0.78      0.73        96\n",
      "\n",
      "         accuracy                           0.73      3335\n",
      "        macro avg       0.70      0.74      0.69      3335\n",
      "     weighted avg       0.75      0.73      0.72      3335\n",
      "\n"
     ]
    }
   ],
   "source": [
    "predicted_classes_distribution = label_embeddings.dot(image_embeddings.T)\n",
    "predicted = [labels[k] for k in np.argmax(predicted_classes_distribution, axis=0)]\n",
    "print(classification_report(subset[\"product_type_name\"], predicted))"
   ]
  },
  {
   "cell_type": "markdown",
   "id": "21bd88cf-90a0-4dc2-82fa-c3752f30afd4",
   "metadata": {},
   "source": [
    "#### Визуализация полученных эмбеддингов"
   ]
  },
  {
   "cell_type": "code",
   "execution_count": 38,
   "id": "9bf60d78-94ca-4a0e-a5e6-75a387ef637e",
   "metadata": {},
   "outputs": [],
   "source": [
    "import umap\n",
    "\n",
    "reducer = umap.UMAP()\n",
    "umap_embeddings = reducer.fit_transform(image_embeddings)"
   ]
  },
  {
   "cell_type": "code",
   "execution_count": 45,
   "id": "4737e275-8034-4c1b-8f34-d7273c29e847",
   "metadata": {},
   "outputs": [],
   "source": [
    "classes = subset[\"product_group_name\"].tolist()"
   ]
  },
  {
   "cell_type": "code",
   "execution_count": 51,
   "id": "617ac4fe-dc0d-4aa3-b9d1-51105ec4f53b",
   "metadata": {},
   "outputs": [
    {
     "data": {
      "image/png": "[encoded data removed]",
      "text/plain": [
       "<Figure size 640x480 with 1 Axes>"
      ]
     },
     "metadata": {},
     "output_type": "display_data"
    }
   ],
   "source": [
    "sns.scatterplot(x=umap_embeddings[:,0], y=umap_embeddings[:,1], hue=classes)\n",
    "plt.show()"
   ]
  }
 ],
 "metadata": {
  "kernelspec": {
   "display_name": "Python 3 (ipykernel)",
   "language": "python",
   "name": "python3"
  },
  "language_info": {
   "codemirror_mode": {
    "name": "ipython",
    "version": 3
   },
   "file_extension": ".py",
   "mimetype": "text/x-python",
   "name": "python",
   "nbconvert_exporter": "python",
   "pygments_lexer": "ipython3",
   "version": "3.10.13"
  },
  "widgets": {
   "application/vnd.jupyter.widget-state+json": {
    "state": {
     "010dc1f84c904485816ad98be26891b5": {
      "model_module": "@jupyter-widgets/controls",
      "model_module_version": "2.0.0",
      "model_name": "HTMLStyleModel",
      "state": {
       "description_width": "",
       "font_size": null,
       "text_color": null
      }
     },
     "017b1b6b6b6947778e5aec9d2bcbe339": {
      "model_module": "@jupyter-widgets/base",
      "model_module_version": "2.0.0",
      "model_name": "LayoutModel",
      "state": {}
     },
     "057636b579f64ceea501c568fb348a51": {
      "model_module": "@jupyter-widgets/base",
      "model_module_version": "2.0.0",
      "model_name": "LayoutModel",
      "state": {}
     },
     "072440f22cc14365945401f0bad56711": {
      "model_module": "@jupyter-widgets/base",
      "model_module_version": "2.0.0",
      "model_name": "LayoutModel",
      "state": {}
     },
     "0861c13a18d8400884d46dbf07fe43af": {
      "model_module": "@jupyter-widgets/base",
      "model_module_version": "2.0.0",
      "model_name": "LayoutModel",
      "state": {}
     },
     "0b1e9f65d6d04dbdb0c0bf04972695e1": {
      "model_module": "@jupyter-widgets/controls",
      "model_module_version": "2.0.0",
      "model_name": "HBoxModel",
      "state": {
       "children": [
        "IPY_MODEL_1258fcd2a61046fd874567e251545d50",
        "IPY_MODEL_d7e74626485745b28b84a19da603ea33",
        "IPY_MODEL_639356c8b6764c58a731af7ecf8ea629"
       ],
       "layout": "IPY_MODEL_057636b579f64ceea501c568fb348a51"
      }
     },
     "0e03210bd7b14b4fa76bb06a9f83b635": {
      "model_module": "@jupyter-widgets/controls",
      "model_module_version": "2.0.0",
      "model_name": "HBoxModel",
      "state": {
       "children": [
        "IPY_MODEL_8c5ae42614384d5e8f6eac77f28290dd",
        "IPY_MODEL_44bd74dca8494be091ac84764084b12c",
        "IPY_MODEL_66a08e9d60774f6eaa1747e7600e8333"
       ],
       "layout": "IPY_MODEL_ab1be55a55fc44eb87e93d64a7d7d750"
      }
     },
     "10c88740ae344618868450293ebbf650": {
      "model_module": "@jupyter-widgets/base",
      "model_module_version": "2.0.0",
      "model_name": "LayoutModel",
      "state": {}
     },
     "1258fcd2a61046fd874567e251545d50": {
      "model_module": "@jupyter-widgets/controls",
      "model_module_version": "2.0.0",
      "model_name": "HTMLModel",
      "state": {
       "layout": "IPY_MODEL_ff0570a3620b4b12b8d575a2db0dd193",
       "style": "IPY_MODEL_7060373528ec4465ad57ac4b4cd80974",
       "value": "Map: 100%"
      }
     },
     "12675ba4535a46538b95f542ec6f338c": {
      "model_module": "@jupyter-widgets/base",
      "model_module_version": "2.0.0",
      "model_name": "LayoutModel",
      "state": {}
     },
     "162796c425d34a48aed2e9d071cb55cd": {
      "model_module": "@jupyter-widgets/controls",
      "model_module_version": "2.0.0",
      "model_name": "HTMLStyleModel",
      "state": {
       "description_width": "",
       "font_size": null,
       "text_color": null
      }
     },
     "178293cb9d2e4bfa9351982f86ae1227": {
      "model_module": "@jupyter-widgets/base",
      "model_module_version": "2.0.0",
      "model_name": "LayoutModel",
      "state": {}
     },
     "17ee054f33084dc09cf9a40d5e9277d8": {
      "model_module": "@jupyter-widgets/controls",
      "model_module_version": "2.0.0",
      "model_name": "HTMLStyleModel",
      "state": {
       "description_width": "",
       "font_size": null,
       "text_color": null
      }
     },
     "1818afd7ef934536ad96cb8baf2afaba": {
      "model_module": "@jupyter-widgets/controls",
      "model_module_version": "2.0.0",
      "model_name": "HBoxModel",
      "state": {
       "children": [
        "IPY_MODEL_87b2ab202ee241f1a1443efd7e9e303a",
        "IPY_MODEL_71dd78922fda4c6595487748e58db39c",
        "IPY_MODEL_d0d86a0a35f54955b5d3ceb44db1042b"
       ],
       "layout": "IPY_MODEL_41ec668428b34cfb9eefa3ce92835c81"
      }
     },
     "1a7a0c07bf7b472da172e9304fd800b2": {
      "model_module": "@jupyter-widgets/base",
      "model_module_version": "2.0.0",
      "model_name": "LayoutModel",
      "state": {}
     },
     "1dbe1af660bb438f86c5d930709e5338": {
      "model_module": "@jupyter-widgets/controls",
      "model_module_version": "2.0.0",
      "model_name": "HTMLModel",
      "state": {
       "layout": "IPY_MODEL_205d8f3c812a49659a6e97aa15a01c14",
       "style": "IPY_MODEL_010dc1f84c904485816ad98be26891b5",
       "value": "config.json: 100%"
      }
     },
     "205d8f3c812a49659a6e97aa15a01c14": {
      "model_module": "@jupyter-widgets/base",
      "model_module_version": "2.0.0",
      "model_name": "LayoutModel",
      "state": {}
     },
     "209f3d1aa3ff4e51baa491dfbcc4086a": {
      "model_module": "@jupyter-widgets/controls",
      "model_module_version": "2.0.0",
      "model_name": "ProgressStyleModel",
      "state": {
       "description_width": ""
      }
     },
     "225ab3f3a78a4b94802c668dfbbf85cc": {
      "model_module": "@jupyter-widgets/controls",
      "model_module_version": "2.0.0",
      "model_name": "HTMLStyleModel",
      "state": {
       "description_width": "",
       "font_size": null,
       "text_color": null
      }
     },
     "24d1e2c2428d4b71996b528b23243fdf": {
      "model_module": "@jupyter-widgets/base",
      "model_module_version": "2.0.0",
      "model_name": "LayoutModel",
      "state": {}
     },
     "2625598a4a394f1c8dad5639ec199984": {
      "model_module": "@jupyter-widgets/controls",
      "model_module_version": "2.0.0",
      "model_name": "HBoxModel",
      "state": {
       "children": [
        "IPY_MODEL_954259e725f14261b1d5c7d8074fb932",
        "IPY_MODEL_fd2c14594c13480b8d4416b2180021d8",
        "IPY_MODEL_ae569e159488436d80275329d5fd09df"
       ],
       "layout": "IPY_MODEL_4c8b1c9689b84ee7bc04826e2cc0f17e"
      }
     },
     "2714ba374c7343169c91646b49eb2814": {
      "model_module": "@jupyter-widgets/controls",
      "model_module_version": "2.0.0",
      "model_name": "HTMLStyleModel",
      "state": {
       "description_width": "",
       "font_size": null,
       "text_color": null
      }
     },
     "27202b6bf66940568d3161c9062ba055": {
      "model_module": "@jupyter-widgets/controls",
      "model_module_version": "2.0.0",
      "model_name": "HBoxModel",
      "state": {
       "children": [
        "IPY_MODEL_4ecdbf78effa46d18189a2a1f4071404",
        "IPY_MODEL_4f49063204fe4cb1a9b0e61f67ec3c26",
        "IPY_MODEL_db18fd6ad53a4b85bcf6bd666687e170"
       ],
       "layout": "IPY_MODEL_10c88740ae344618868450293ebbf650"
      }
     },
     "28018f0b84484dbd8b4e3cd4cffa2924": {
      "model_module": "@jupyter-widgets/base",
      "model_module_version": "2.0.0",
      "model_name": "LayoutModel",
      "state": {}
     },
     "289ac60eb4f94424a31ec8025f88c0c8": {
      "model_module": "@jupyter-widgets/controls",
      "model_module_version": "2.0.0",
      "model_name": "HBoxModel",
      "state": {
       "children": [
        "IPY_MODEL_a5b9ff50b2934014971ddd320ae7eb06",
        "IPY_MODEL_9085b96f53a44b3abb5705354564c77a",
        "IPY_MODEL_c07c90eda2654bd983cea09729d8e744"
       ],
       "layout": "IPY_MODEL_859890878d3a47748b1fe19625d73097"
      }
     },
     "28f2657319054042884847f8d05a2f90": {
      "model_module": "@jupyter-widgets/controls",
      "model_module_version": "2.0.0",
      "model_name": "HTMLStyleModel",
      "state": {
       "description_width": "",
       "font_size": null,
       "text_color": null
      }
     },
     "29131cfe87ad488a988f31bf9da4da3f": {
      "model_module": "@jupyter-widgets/base",
      "model_module_version": "2.0.0",
      "model_name": "LayoutModel",
      "state": {}
     },
     "2a1c2c067e3946e997aaa93d04200f23": {
      "model_module": "@jupyter-widgets/base",
      "model_module_version": "2.0.0",
      "model_name": "LayoutModel",
      "state": {}
     },
     "2b50374699c641c7bc3cced43e3901aa": {
      "model_module": "@jupyter-widgets/controls",
      "model_module_version": "2.0.0",
      "model_name": "HTMLModel",
      "state": {
       "layout": "IPY_MODEL_903ae681fcee41f6852cbdcc753ba352",
       "style": "IPY_MODEL_28f2657319054042884847f8d05a2f90",
       "value": " 3335/3335 [00:00&lt;00:00, 13419.82 examples/s]"
      }
     },
     "2bfd01d64f274f9186fabbba13083d66": {
      "model_module": "@jupyter-widgets/controls",
      "model_module_version": "2.0.0",
      "model_name": "HTMLStyleModel",
      "state": {
       "description_width": "",
       "font_size": null,
       "text_color": null
      }
     },
     "2d83c555ed494cd192e8332a598cb29e": {
      "model_module": "@jupyter-widgets/base",
      "model_module_version": "2.0.0",
      "model_name": "LayoutModel",
      "state": {}
     },
     "2de72b8d9ad14d95a293b3df5ba3bb95": {
      "model_module": "@jupyter-widgets/controls",
      "model_module_version": "2.0.0",
      "model_name": "HTMLStyleModel",
      "state": {
       "description_width": "",
       "font_size": null,
       "text_color": null
      }
     },
     "3243f5b1a8a547c1921ffc677dc8768c": {
      "model_module": "@jupyter-widgets/controls",
      "model_module_version": "2.0.0",
      "model_name": "HTMLStyleModel",
      "state": {
       "description_width": "",
       "font_size": null,
       "text_color": null
      }
     },
     "33ec9612342e40339af713e14d491e43": {
      "model_module": "@jupyter-widgets/base",
      "model_module_version": "2.0.0",
      "model_name": "LayoutModel",
      "state": {}
     },
     "353c50b50d5f4f5798cfdc2cb6f28dbc": {
      "model_module": "@jupyter-widgets/controls",
      "model_module_version": "2.0.0",
      "model_name": "FloatProgressModel",
      "state": {
       "bar_style": "success",
       "layout": "IPY_MODEL_92f6ed97a25241159136235b428529d5",
       "max": 1,
       "style": "IPY_MODEL_e7d1f024db2c42faaffc4eecbcc98f60",
       "value": 1
      }
     },
     "367fcc83a9c847b8828afa8cae589e58": {
      "model_module": "@jupyter-widgets/controls",
      "model_module_version": "2.0.0",
      "model_name": "HTMLStyleModel",
      "state": {
       "description_width": "",
       "font_size": null,
       "text_color": null
      }
     },
     "36f18bf4a0ca4112b03458f8a772b5ed": {
      "model_module": "@jupyter-widgets/controls",
      "model_module_version": "2.0.0",
      "model_name": "HTMLStyleModel",
      "state": {
       "description_width": "",
       "font_size": null,
       "text_color": null
      }
     },
     "37371a6de7d14dbe8ebd9ba1b9df302c": {
      "model_module": "@jupyter-widgets/controls",
      "model_module_version": "2.0.0",
      "model_name": "HTMLStyleModel",
      "state": {
       "description_width": "",
       "font_size": null,
       "text_color": null
      }
     },
     "3993d6cfa3a4450fba9ead6511891fb5": {
      "model_module": "@jupyter-widgets/controls",
      "model_module_version": "2.0.0",
      "model_name": "HTMLModel",
      "state": {
       "layout": "IPY_MODEL_0861c13a18d8400884d46dbf07fe43af",
       "style": "IPY_MODEL_9bbb25bb018a4729afbf2e83ef83b4a9",
       "value": "tokenizer_config.json: 100%"
      }
     },
     "3b7b60cf304449acac5804e449fb5837": {
      "model_module": "@jupyter-widgets/base",
      "model_module_version": "2.0.0",
      "model_name": "LayoutModel",
      "state": {}
     },
     "3ffa582ebacd47abba77e2e04cae4f5b": {
      "model_module": "@jupyter-widgets/base",
      "model_module_version": "2.0.0",
      "model_name": "LayoutModel",
      "state": {}
     },
     "41a02e4a91aa41fb9ca0b4da291a6e6c": {
      "model_module": "@jupyter-widgets/base",
      "model_module_version": "2.0.0",
      "model_name": "LayoutModel",
      "state": {}
     },
     "41ec668428b34cfb9eefa3ce92835c81": {
      "model_module": "@jupyter-widgets/base",
      "model_module_version": "2.0.0",
      "model_name": "LayoutModel",
      "state": {}
     },
     "44bd74dca8494be091ac84764084b12c": {
      "model_module": "@jupyter-widgets/controls",
      "model_module_version": "2.0.0",
      "model_name": "FloatProgressModel",
      "state": {
       "bar_style": "success",
       "layout": "IPY_MODEL_8f84a723bbb443d6a3516edd3713390f",
       "max": 316,
       "style": "IPY_MODEL_dc49218c930b4aabb6da86010097ccf3",
       "value": 316
      }
     },
     "4576ad2d40fa4090ad0ff48ea9432442": {
      "model_module": "@jupyter-widgets/controls",
      "model_module_version": "2.0.0",
      "model_name": "HBoxModel",
      "state": {
       "children": [
        "IPY_MODEL_3993d6cfa3a4450fba9ead6511891fb5",
        "IPY_MODEL_8b0f032f97964208a08a7e7dd091a07a",
        "IPY_MODEL_b0a55ad2b9af4790b7ad6af581fcb9c1"
       ],
       "layout": "IPY_MODEL_29131cfe87ad488a988f31bf9da4da3f"
      }
     },
     "4a324b2136a64282aab0175ad42eb04d": {
      "model_module": "@jupyter-widgets/controls",
      "model_module_version": "2.0.0",
      "model_name": "FloatProgressModel",
      "state": {
       "bar_style": "success",
       "layout": "IPY_MODEL_1a7a0c07bf7b472da172e9304fd800b2",
       "max": 2224041,
       "style": "IPY_MODEL_209f3d1aa3ff4e51baa491dfbcc4086a",
       "value": 2224041
      }
     },
     "4c8b1c9689b84ee7bc04826e2cc0f17e": {
      "model_module": "@jupyter-widgets/base",
      "model_module_version": "2.0.0",
      "model_name": "LayoutModel",
      "state": {}
     },
     "4c9a617723de4e65b531f10876caf1c1": {
      "model_module": "@jupyter-widgets/controls",
      "model_module_version": "2.0.0",
      "model_name": "HTMLStyleModel",
      "state": {
       "description_width": "",
       "font_size": null,
       "text_color": null
      }
     },
     "4e0946d8ea824e8cacda40f91317767a": {
      "model_module": "@jupyter-widgets/controls",
      "model_module_version": "2.0.0",
      "model_name": "HTMLStyleModel",
      "state": {
       "description_width": "",
       "font_size": null,
       "text_color": null
      }
     },
     "4ecdbf78effa46d18189a2a1f4071404": {
      "model_module": "@jupyter-widgets/controls",
      "model_module_version": "2.0.0",
      "model_name": "HTMLModel",
      "state": {
       "layout": "IPY_MODEL_57b5349aa2b34e5ba3b2af9eeddcf969",
       "style": "IPY_MODEL_e21af128c87f4bbbb10cfce33aaae52f",
       "value": "vocab.json: 100%"
      }
     },
     "4ee8becc96754f498e494f08d4730283": {
      "model_module": "@jupyter-widgets/controls",
      "model_module_version": "2.0.0",
      "model_name": "HTMLModel",
      "state": {
       "layout": "IPY_MODEL_58922674d0a649f7b17f58d1cd6ee3bd",
       "style": "IPY_MODEL_4c9a617723de4e65b531f10876caf1c1",
       "value": "merges.txt: 100%"
      }
     },
     "4f49063204fe4cb1a9b0e61f67ec3c26": {
      "model_module": "@jupyter-widgets/controls",
      "model_module_version": "2.0.0",
      "model_name": "FloatProgressModel",
      "state": {
       "bar_style": "success",
       "layout": "IPY_MODEL_fc07a5fbb5c044afb4d268a14c7a2de9",
       "max": 862328,
       "style": "IPY_MODEL_8f54e47da3de412b94fc247fc4b6e3ff",
       "value": 862328
      }
     },
     "5484914e5ab9481f9eb881e2935586a3": {
      "model_module": "@jupyter-widgets/base",
      "model_module_version": "2.0.0",
      "model_name": "LayoutModel",
      "state": {}
     },
     "5752aa9717ff4839b16da3c2ee72f210": {
      "model_module": "@jupyter-widgets/controls",
      "model_module_version": "2.0.0",
      "model_name": "HTMLModel",
      "state": {
       "layout": "IPY_MODEL_12675ba4535a46538b95f542ec6f338c",
       "style": "IPY_MODEL_ebe04852c5ec407f8ff31cdb1a15668d",
       "value": " 4.46k/4.46k [00:00&lt;00:00, 471kB/s]"
      }
     },
     "57b5349aa2b34e5ba3b2af9eeddcf969": {
      "model_module": "@jupyter-widgets/base",
      "model_module_version": "2.0.0",
      "model_name": "LayoutModel",
      "state": {}
     },
     "58922674d0a649f7b17f58d1cd6ee3bd": {
      "model_module": "@jupyter-widgets/base",
      "model_module_version": "2.0.0",
      "model_name": "LayoutModel",
      "state": {}
     },
     "595d54d342b9423baba19ba2e99e6b2a": {
      "model_module": "@jupyter-widgets/controls",
      "model_module_version": "2.0.0",
      "model_name": "HTMLModel",
      "state": {
       "layout": "IPY_MODEL_8efff17f19e0461892d77eae1183c6b5",
       "style": "IPY_MODEL_37371a6de7d14dbe8ebd9ba1b9df302c",
       "value": "special_tokens_map.json: 100%"
      }
     },
     "5e23c456e75846b29f4b3242d11a2b51": {
      "model_module": "@jupyter-widgets/controls",
      "model_module_version": "2.0.0",
      "model_name": "HTMLStyleModel",
      "state": {
       "description_width": "",
       "font_size": null,
       "text_color": null
      }
     },
     "5f476bf28cdc46bd9842dc6b813504ef": {
      "model_module": "@jupyter-widgets/controls",
      "model_module_version": "2.0.0",
      "model_name": "HTMLStyleModel",
      "state": {
       "description_width": "",
       "font_size": null,
       "text_color": null
      }
     },
     "62a540e639e842099928a29cbb87dc55": {
      "model_module": "@jupyter-widgets/controls",
      "model_module_version": "2.0.0",
      "model_name": "HTMLStyleModel",
      "state": {
       "description_width": "",
       "font_size": null,
       "text_color": null
      }
     },
     "639356c8b6764c58a731af7ecf8ea629": {
      "model_module": "@jupyter-widgets/controls",
      "model_module_version": "2.0.0",
      "model_name": "HTMLModel",
      "state": {
       "layout": "IPY_MODEL_e60e9c8b99034659b58792de5c72463d",
       "style": "IPY_MODEL_5f476bf28cdc46bd9842dc6b813504ef",
       "value": " 46/46 [00:00&lt;00:00, 3064.02 examples/s]"
      }
     },
     "66a08e9d60774f6eaa1747e7600e8333": {
      "model_module": "@jupyter-widgets/controls",
      "model_module_version": "2.0.0",
      "model_name": "HTMLModel",
      "state": {
       "layout": "IPY_MODEL_a43f759e383a4b118847a77578d73040",
       "style": "IPY_MODEL_dce75c06160148e8939d7fb8573d2b1f",
       "value": " 316/316 [00:00&lt;00:00, 52.6kB/s]"
      }
     },
     "67d3b5810a204f66bd0a7f1b42175549": {
      "model_module": "@jupyter-widgets/controls",
      "model_module_version": "2.0.0",
      "model_name": "ProgressStyleModel",
      "state": {
       "description_width": ""
      }
     },
     "7060373528ec4465ad57ac4b4cd80974": {
      "model_module": "@jupyter-widgets/controls",
      "model_module_version": "2.0.0",
      "model_name": "HTMLStyleModel",
      "state": {
       "description_width": "",
       "font_size": null,
       "text_color": null
      }
     },
     "706e681012924ee89344815610be0d80": {
      "model_module": "@jupyter-widgets/base",
      "model_module_version": "2.0.0",
      "model_name": "LayoutModel",
      "state": {}
     },
     "71dd78922fda4c6595487748e58db39c": {
      "model_module": "@jupyter-widgets/controls",
      "model_module_version": "2.0.0",
      "model_name": "FloatProgressModel",
      "state": {
       "bar_style": "success",
       "layout": "IPY_MODEL_9af79aa73bb04c1d86610aaf1213d6e7",
       "max": 3335,
       "style": "IPY_MODEL_cee1fe8844e349858a9d63a2f93fbe97",
       "value": 3335
      }
     },
     "735b8b3aad9c4eab903bdb1a716e8188": {
      "model_module": "@jupyter-widgets/controls",
      "model_module_version": "2.0.0",
      "model_name": "HTMLModel",
      "state": {
       "layout": "IPY_MODEL_7aff3612d236450baeb402ad87d3d5bc",
       "style": "IPY_MODEL_2de72b8d9ad14d95a293b3df5ba3bb95",
       "value": " 1/1 [00:00&lt;00:00, 76.89 examples/s]"
      }
     },
     "76364ecbb26c4b1d8e3a1e7c75fdf54a": {
      "model_module": "@jupyter-widgets/controls",
      "model_module_version": "2.0.0",
      "model_name": "ProgressStyleModel",
      "state": {
       "description_width": ""
      }
     },
     "7710eeaf77404bc296eb000661efe04b": {
      "model_module": "@jupyter-widgets/base",
      "model_module_version": "2.0.0",
      "model_name": "LayoutModel",
      "state": {}
     },
     "7733428ce07c4c139169674306113ab4": {
      "model_module": "@jupyter-widgets/controls",
      "model_module_version": "2.0.0",
      "model_name": "FloatProgressModel",
      "state": {
       "bar_style": "success",
       "layout": "IPY_MODEL_3b7b60cf304449acac5804e449fb5837",
       "max": 3335,
       "style": "IPY_MODEL_76364ecbb26c4b1d8e3a1e7c75fdf54a",
       "value": 3335
      }
     },
     "78b0c187525645a68a6fff47cef82f47": {
      "model_module": "@jupyter-widgets/controls",
      "model_module_version": "2.0.0",
      "model_name": "HTMLModel",
      "state": {
       "layout": "IPY_MODEL_c8df9b7a02f747ce99a69a2a6fa8a594",
       "style": "IPY_MODEL_367fcc83a9c847b8828afa8cae589e58",
       "value": " 1/1 [00:00&lt;00:00, 83.34 examples/s]"
      }
     },
     "793ceeef0da149c297c58c987149cafd": {
      "model_module": "@jupyter-widgets/controls",
      "model_module_version": "2.0.0",
      "model_name": "ProgressStyleModel",
      "state": {
       "description_width": ""
      }
     },
     "7aff3612d236450baeb402ad87d3d5bc": {
      "model_module": "@jupyter-widgets/base",
      "model_module_version": "2.0.0",
      "model_name": "LayoutModel",
      "state": {}
     },
     "7c5bd2f64f4b4e24bad926beb84f4d21": {
      "model_module": "@jupyter-widgets/base",
      "model_module_version": "2.0.0",
      "model_name": "LayoutModel",
      "state": {}
     },
     "802efd8a93914374b033c718219806bd": {
      "model_module": "@jupyter-widgets/controls",
      "model_module_version": "2.0.0",
      "model_name": "HTMLModel",
      "state": {
       "layout": "IPY_MODEL_28018f0b84484dbd8b4e3cd4cffa2924",
       "style": "IPY_MODEL_9879f9935ec84c3082c9ea88588752a5",
       "value": "tokenizer.json: 100%"
      }
     },
     "8248543ee2224ade8155fd7cd81b7932": {
      "model_module": "@jupyter-widgets/base",
      "model_module_version": "2.0.0",
      "model_name": "LayoutModel",
      "state": {}
     },
     "829b7a725eee4ce3ba155fde685a962a": {
      "model_module": "@jupyter-widgets/controls",
      "model_module_version": "2.0.0",
      "model_name": "FloatProgressModel",
      "state": {
       "bar_style": "success",
       "layout": "IPY_MODEL_072440f22cc14365945401f0bad56711",
       "max": 389,
       "style": "IPY_MODEL_f3da06518548446db4772035a6d8acf0",
       "value": 389
      }
     },
     "83478c53e4ba4d3fb152b730a7d94f97": {
      "model_module": "@jupyter-widgets/controls",
      "model_module_version": "2.0.0",
      "model_name": "HTMLStyleModel",
      "state": {
       "description_width": "",
       "font_size": null,
       "text_color": null
      }
     },
     "84175a7128b0493bb8df73b0770cc4ed": {
      "model_module": "@jupyter-widgets/base",
      "model_module_version": "2.0.0",
      "model_name": "LayoutModel",
      "state": {}
     },
     "844f854b12564ad8ae32d839a653982f": {
      "model_module": "@jupyter-widgets/controls",
      "model_module_version": "2.0.0",
      "model_name": "HTMLModel",
      "state": {
       "layout": "IPY_MODEL_c69d84b1e2a64b15b51dbf01fa5354eb",
       "style": "IPY_MODEL_83478c53e4ba4d3fb152b730a7d94f97",
       "value": "Map: 100%"
      }
     },
     "859890878d3a47748b1fe19625d73097": {
      "model_module": "@jupyter-widgets/base",
      "model_module_version": "2.0.0",
      "model_name": "LayoutModel",
      "state": {}
     },
     "86a9f326a9b94661aa68a5b06ec672c6": {
      "model_module": "@jupyter-widgets/controls",
      "model_module_version": "2.0.0",
      "model_name": "HTMLModel",
      "state": {
       "layout": "IPY_MODEL_90ace7303adb46e5a322103c8aac6b80",
       "style": "IPY_MODEL_d5fe4cb9f29f4821b646078164ce7787",
       "value": "Map: 100%"
      }
     },
     "87b2ab202ee241f1a1443efd7e9e303a": {
      "model_module": "@jupyter-widgets/controls",
      "model_module_version": "2.0.0",
      "model_name": "HTMLModel",
      "state": {
       "layout": "IPY_MODEL_706e681012924ee89344815610be0d80",
       "style": "IPY_MODEL_17ee054f33084dc09cf9a40d5e9277d8",
       "value": "Map: 100%"
      }
     },
     "89763d6fbbe54e0db269b3fc838ae2f8": {
      "model_module": "@jupyter-widgets/controls",
      "model_module_version": "2.0.0",
      "model_name": "FloatProgressModel",
      "state": {
       "bar_style": "success",
       "layout": "IPY_MODEL_b1481964971b4c519c8cd1a49ca253bc",
       "max": 4463,
       "style": "IPY_MODEL_ce41d3b442b74963af75a37bc449b36d",
       "value": 4463
      }
     },
     "89b715cf66ee41739415d481661eb864": {
      "model_module": "@jupyter-widgets/base",
      "model_module_version": "2.0.0",
      "model_name": "LayoutModel",
      "state": {}
     },
     "8b0f032f97964208a08a7e7dd091a07a": {
      "model_module": "@jupyter-widgets/controls",
      "model_module_version": "2.0.0",
      "model_name": "FloatProgressModel",
      "state": {
       "bar_style": "success",
       "layout": "IPY_MODEL_33ec9612342e40339af713e14d491e43",
       "max": 568,
       "style": "IPY_MODEL_793ceeef0da149c297c58c987149cafd",
       "value": 568
      }
     },
     "8b963ebf26f347a99065fdf0e8381a81": {
      "model_module": "@jupyter-widgets/base",
      "model_module_version": "2.0.0",
      "model_name": "LayoutModel",
      "state": {}
     },
     "8c392b9f3a0f4f35b54f56c202b4c3f7": {
      "model_module": "@jupyter-widgets/controls",
      "model_module_version": "2.0.0",
      "model_name": "HTMLModel",
      "state": {
       "layout": "IPY_MODEL_f584d89e4cf24af884c73a58000760d2",
       "style": "IPY_MODEL_62a540e639e842099928a29cbb87dc55",
       "value": "Map: 100%"
      }
     },
     "8c5ae42614384d5e8f6eac77f28290dd": {
      "model_module": "@jupyter-widgets/controls",
      "model_module_version": "2.0.0",
      "model_name": "HTMLModel",
      "state": {
       "layout": "IPY_MODEL_fc3135216f5944188b278110ccf28b27",
       "style": "IPY_MODEL_b9f6d2ee45f44360ac0df51b7a149c7c",
       "value": "preprocessor_config.json: 100%"
      }
     },
     "8def2a170dc1403c8991099b61345909": {
      "model_module": "@jupyter-widgets/controls",
      "model_module_version": "2.0.0",
      "model_name": "HTMLStyleModel",
      "state": {
       "description_width": "",
       "font_size": null,
       "text_color": null
      }
     },
     "8efff17f19e0461892d77eae1183c6b5": {
      "model_module": "@jupyter-widgets/base",
      "model_module_version": "2.0.0",
      "model_name": "LayoutModel",
      "state": {}
     },
     "8f54e47da3de412b94fc247fc4b6e3ff": {
      "model_module": "@jupyter-widgets/controls",
      "model_module_version": "2.0.0",
      "model_name": "ProgressStyleModel",
      "state": {
       "description_width": ""
      }
     },
     "8f84a723bbb443d6a3516edd3713390f": {
      "model_module": "@jupyter-widgets/base",
      "model_module_version": "2.0.0",
      "model_name": "LayoutModel",
      "state": {}
     },
     "903ae681fcee41f6852cbdcc753ba352": {
      "model_module": "@jupyter-widgets/base",
      "model_module_version": "2.0.0",
      "model_name": "LayoutModel",
      "state": {}
     },
     "9085b96f53a44b3abb5705354564c77a": {
      "model_module": "@jupyter-widgets/controls",
      "model_module_version": "2.0.0",
      "model_name": "FloatProgressModel",
      "state": {
       "bar_style": "success",
       "layout": "IPY_MODEL_b26b617e5395413abded9287be83b099",
       "max": 605157890,
       "style": "IPY_MODEL_e7fd07a228274069a6942b5fbd21fb72",
       "value": 605157890
      }
     },
     "90ace7303adb46e5a322103c8aac6b80": {
      "model_module": "@jupyter-widgets/base",
      "model_module_version": "2.0.0",
      "model_name": "LayoutModel",
      "state": {}
     },
     "92f6ed97a25241159136235b428529d5": {
      "model_module": "@jupyter-widgets/base",
      "model_module_version": "2.0.0",
      "model_name": "LayoutModel",
      "state": {}
     },
     "9350b1430f454bfeaee20f309c686143": {
      "model_module": "@jupyter-widgets/base",
      "model_module_version": "2.0.0",
      "model_name": "LayoutModel",
      "state": {}
     },
     "954259e725f14261b1d5c7d8074fb932": {
      "model_module": "@jupyter-widgets/controls",
      "model_module_version": "2.0.0",
      "model_name": "HTMLModel",
      "state": {
       "layout": "IPY_MODEL_84175a7128b0493bb8df73b0770cc4ed",
       "style": "IPY_MODEL_e25b565ba5b84f70b14a5a82bcfa1f74",
       "value": "Map: 100%"
      }
     },
     "9748c5379ac6440b8d1ebdbf4f8b5c2d": {
      "model_module": "@jupyter-widgets/base",
      "model_module_version": "2.0.0",
      "model_name": "LayoutModel",
      "state": {}
     },
     "9879f9935ec84c3082c9ea88588752a5": {
      "model_module": "@jupyter-widgets/controls",
      "model_module_version": "2.0.0",
      "model_name": "HTMLStyleModel",
      "state": {
       "description_width": "",
       "font_size": null,
       "text_color": null
      }
     },
     "9af79aa73bb04c1d86610aaf1213d6e7": {
      "model_module": "@jupyter-widgets/base",
      "model_module_version": "2.0.0",
      "model_name": "LayoutModel",
      "state": {}
     },
     "9bbb25bb018a4729afbf2e83ef83b4a9": {
      "model_module": "@jupyter-widgets/controls",
      "model_module_version": "2.0.0",
      "model_name": "HTMLStyleModel",
      "state": {
       "description_width": "",
       "font_size": null,
       "text_color": null
      }
     },
     "9cacb94c008e40a5b54c17b1f2ab7bff": {
      "model_module": "@jupyter-widgets/base",
      "model_module_version": "2.0.0",
      "model_name": "LayoutModel",
      "state": {}
     },
     "9d80cc8df72b437f948129fa3190827b": {
      "model_module": "@jupyter-widgets/controls",
      "model_module_version": "2.0.0",
      "model_name": "HTMLModel",
      "state": {
       "layout": "IPY_MODEL_cd3263cce7e14b4994fee73abd24ee74",
       "style": "IPY_MODEL_162796c425d34a48aed2e9d071cb55cd",
       "value": " 525k/525k [00:00&lt;00:00, 6.70MB/s]"
      }
     },
     "9fa0e1a1d72a4595a0db1b3cd35992e8": {
      "model_module": "@jupyter-widgets/controls",
      "model_module_version": "2.0.0",
      "model_name": "HBoxModel",
      "state": {
       "children": [
        "IPY_MODEL_4ee8becc96754f498e494f08d4730283",
        "IPY_MODEL_d136ea5926414bb5bd26812b76a1afa8",
        "IPY_MODEL_9d80cc8df72b437f948129fa3190827b"
       ],
       "layout": "IPY_MODEL_7c5bd2f64f4b4e24bad926beb84f4d21"
      }
     },
     "a1ebc11ecef847b69b251d50a244a5cb": {
      "model_module": "@jupyter-widgets/controls",
      "model_module_version": "2.0.0",
      "model_name": "HTMLStyleModel",
      "state": {
       "description_width": "",
       "font_size": null,
       "text_color": null
      }
     },
     "a43f759e383a4b118847a77578d73040": {
      "model_module": "@jupyter-widgets/base",
      "model_module_version": "2.0.0",
      "model_name": "LayoutModel",
      "state": {}
     },
     "a5b9ff50b2934014971ddd320ae7eb06": {
      "model_module": "@jupyter-widgets/controls",
      "model_module_version": "2.0.0",
      "model_name": "HTMLModel",
      "state": {
       "layout": "IPY_MODEL_2a1c2c067e3946e997aaa93d04200f23",
       "style": "IPY_MODEL_3243f5b1a8a547c1921ffc677dc8768c",
       "value": "model.safetensors: 100%"
      }
     },
     "ab1be55a55fc44eb87e93d64a7d7d750": {
      "model_module": "@jupyter-widgets/base",
      "model_module_version": "2.0.0",
      "model_name": "LayoutModel",
      "state": {}
     },
     "ad5764a2ba32411cb7cea6174acc3403": {
      "model_module": "@jupyter-widgets/controls",
      "model_module_version": "2.0.0",
      "model_name": "ProgressStyleModel",
      "state": {
       "description_width": ""
      }
     },
     "ae569e159488436d80275329d5fd09df": {
      "model_module": "@jupyter-widgets/controls",
      "model_module_version": "2.0.0",
      "model_name": "HTMLModel",
      "state": {
       "layout": "IPY_MODEL_8248543ee2224ade8155fd7cd81b7932",
       "style": "IPY_MODEL_8def2a170dc1403c8991099b61345909",
       "value": " 1/1 [00:00&lt;00:00, 90.89 examples/s]"
      }
     },
     "afa707b2f28e46eb8dee199f9ad0ee69": {
      "model_module": "@jupyter-widgets/controls",
      "model_module_version": "2.0.0",
      "model_name": "HBoxModel",
      "state": {
       "children": [
        "IPY_MODEL_86a9f326a9b94661aa68a5b06ec672c6",
        "IPY_MODEL_c02ad73f5d0645b2bbdfe367caaf8583",
        "IPY_MODEL_e95f1c1e5a094447846bea43b83b7ceb"
       ],
       "layout": "IPY_MODEL_5484914e5ab9481f9eb881e2935586a3"
      }
     },
     "b0a55ad2b9af4790b7ad6af581fcb9c1": {
      "model_module": "@jupyter-widgets/controls",
      "model_module_version": "2.0.0",
      "model_name": "HTMLModel",
      "state": {
       "layout": "IPY_MODEL_89b715cf66ee41739415d481661eb864",
       "style": "IPY_MODEL_5e23c456e75846b29f4b3242d11a2b51",
       "value": " 568/568 [00:00&lt;00:00, 69.0kB/s]"
      }
     },
     "b1481964971b4c519c8cd1a49ca253bc": {
      "model_module": "@jupyter-widgets/base",
      "model_module_version": "2.0.0",
      "model_name": "LayoutModel",
      "state": {}
     },
     "b20579a8c34d4dfa8fc65a7af8b2314f": {
      "model_module": "@jupyter-widgets/controls",
      "model_module_version": "2.0.0",
      "model_name": "FloatProgressModel",
      "state": {
       "bar_style": "success",
       "layout": "IPY_MODEL_24d1e2c2428d4b71996b528b23243fdf",
       "max": 1,
       "style": "IPY_MODEL_67d3b5810a204f66bd0a7f1b42175549",
       "value": 1
      }
     },
     "b26b617e5395413abded9287be83b099": {
      "model_module": "@jupyter-widgets/base",
      "model_module_version": "2.0.0",
      "model_name": "LayoutModel",
      "state": {}
     },
     "b7371b865f09440d8076aa2f0165742b": {
      "model_module": "@jupyter-widgets/base",
      "model_module_version": "2.0.0",
      "model_name": "LayoutModel",
      "state": {}
     },
     "b756df80868c42af8e83cdc2bd19ccac": {
      "model_module": "@jupyter-widgets/controls",
      "model_module_version": "2.0.0",
      "model_name": "HTMLModel",
      "state": {
       "layout": "IPY_MODEL_41a02e4a91aa41fb9ca0b4da291a6e6c",
       "style": "IPY_MODEL_c26626c66ac146a2a3151c0c54559742",
       "value": " 2.22M/2.22M [00:00&lt;00:00, 7.88MB/s]"
      }
     },
     "b7c370eb9f9e487caf66733ab6dc8475": {
      "model_module": "@jupyter-widgets/controls",
      "model_module_version": "2.0.0",
      "model_name": "HBoxModel",
      "state": {
       "children": [
        "IPY_MODEL_802efd8a93914374b033c718219806bd",
        "IPY_MODEL_4a324b2136a64282aab0175ad42eb04d",
        "IPY_MODEL_b756df80868c42af8e83cdc2bd19ccac"
       ],
       "layout": "IPY_MODEL_9cacb94c008e40a5b54c17b1f2ab7bff"
      }
     },
     "b8dfd5839d984e1fbb98fe379d89d22c": {
      "model_module": "@jupyter-widgets/base",
      "model_module_version": "2.0.0",
      "model_name": "LayoutModel",
      "state": {}
     },
     "b9f6d2ee45f44360ac0df51b7a149c7c": {
      "model_module": "@jupyter-widgets/controls",
      "model_module_version": "2.0.0",
      "model_name": "HTMLStyleModel",
      "state": {
       "description_width": "",
       "font_size": null,
       "text_color": null
      }
     },
     "c02ad73f5d0645b2bbdfe367caaf8583": {
      "model_module": "@jupyter-widgets/controls",
      "model_module_version": "2.0.0",
      "model_name": "FloatProgressModel",
      "state": {
       "bar_style": "success",
       "layout": "IPY_MODEL_ef49c87a768c4e2fb8833b3b38896421",
       "max": 1,
       "style": "IPY_MODEL_ad5764a2ba32411cb7cea6174acc3403",
       "value": 1
      }
     },
     "c07c90eda2654bd983cea09729d8e744": {
      "model_module": "@jupyter-widgets/controls",
      "model_module_version": "2.0.0",
      "model_name": "HTMLModel",
      "state": {
       "layout": "IPY_MODEL_f336967170bb4c07bd6eb92f3ffd8628",
       "style": "IPY_MODEL_2bfd01d64f274f9186fabbba13083d66",
       "value": " 605M/605M [01:03&lt;00:00, 9.61MB/s]"
      }
     },
     "c26626c66ac146a2a3151c0c54559742": {
      "model_module": "@jupyter-widgets/controls",
      "model_module_version": "2.0.0",
      "model_name": "HTMLStyleModel",
      "state": {
       "description_width": "",
       "font_size": null,
       "text_color": null
      }
     },
     "c29d87616e3f4536824f787d1c7efc15": {
      "model_module": "@jupyter-widgets/controls",
      "model_module_version": "2.0.0",
      "model_name": "HBoxModel",
      "state": {
       "children": [
        "IPY_MODEL_844f854b12564ad8ae32d839a653982f",
        "IPY_MODEL_7733428ce07c4c139169674306113ab4",
        "IPY_MODEL_2b50374699c641c7bc3cced43e3901aa"
       ],
       "layout": "IPY_MODEL_e1d4d691f2904933a94a2062c0038945"
      }
     },
     "c69d84b1e2a64b15b51dbf01fa5354eb": {
      "model_module": "@jupyter-widgets/base",
      "model_module_version": "2.0.0",
      "model_name": "LayoutModel",
      "state": {}
     },
     "c8df9b7a02f747ce99a69a2a6fa8a594": {
      "model_module": "@jupyter-widgets/base",
      "model_module_version": "2.0.0",
      "model_name": "LayoutModel",
      "state": {}
     },
     "cc77c7a53a78481aa83c182a7081d995": {
      "model_module": "@jupyter-widgets/controls",
      "model_module_version": "2.0.0",
      "model_name": "ProgressStyleModel",
      "state": {
       "description_width": ""
      }
     },
     "ccea2808cada4e98904a81e293c417de": {
      "model_module": "@jupyter-widgets/base",
      "model_module_version": "2.0.0",
      "model_name": "LayoutModel",
      "state": {}
     },
     "cd3263cce7e14b4994fee73abd24ee74": {
      "model_module": "@jupyter-widgets/base",
      "model_module_version": "2.0.0",
      "model_name": "LayoutModel",
      "state": {}
     },
     "ce41d3b442b74963af75a37bc449b36d": {
      "model_module": "@jupyter-widgets/controls",
      "model_module_version": "2.0.0",
      "model_name": "ProgressStyleModel",
      "state": {
       "description_width": ""
      }
     },
     "cee1fe8844e349858a9d63a2f93fbe97": {
      "model_module": "@jupyter-widgets/controls",
      "model_module_version": "2.0.0",
      "model_name": "ProgressStyleModel",
      "state": {
       "description_width": ""
      }
     },
     "d0d86a0a35f54955b5d3ceb44db1042b": {
      "model_module": "@jupyter-widgets/controls",
      "model_module_version": "2.0.0",
      "model_name": "HTMLModel",
      "state": {
       "layout": "IPY_MODEL_7710eeaf77404bc296eb000661efe04b",
       "style": "IPY_MODEL_225ab3f3a78a4b94802c668dfbbf85cc",
       "value": " 3335/3335 [00:00&lt;00:00, 12612.96 examples/s]"
      }
     },
     "d136ea5926414bb5bd26812b76a1afa8": {
      "model_module": "@jupyter-widgets/controls",
      "model_module_version": "2.0.0",
      "model_name": "FloatProgressModel",
      "state": {
       "bar_style": "success",
       "layout": "IPY_MODEL_178293cb9d2e4bfa9351982f86ae1227",
       "max": 524657,
       "style": "IPY_MODEL_e83791f6fa1547f29621c8fab2cae530",
       "value": 524657
      }
     },
     "d37ec2eec7484328b7b7ee6fae69c851": {
      "model_module": "@jupyter-widgets/controls",
      "model_module_version": "2.0.0",
      "model_name": "HTMLModel",
      "state": {
       "layout": "IPY_MODEL_2d83c555ed494cd192e8332a598cb29e",
       "style": "IPY_MODEL_36f18bf4a0ca4112b03458f8a772b5ed",
       "value": " 389/389 [00:00&lt;00:00, 55.5kB/s]"
      }
     },
     "d5fe4cb9f29f4821b646078164ce7787": {
      "model_module": "@jupyter-widgets/controls",
      "model_module_version": "2.0.0",
      "model_name": "HTMLStyleModel",
      "state": {
       "description_width": "",
       "font_size": null,
       "text_color": null
      }
     },
     "d7e74626485745b28b84a19da603ea33": {
      "model_module": "@jupyter-widgets/controls",
      "model_module_version": "2.0.0",
      "model_name": "FloatProgressModel",
      "state": {
       "bar_style": "success",
       "layout": "IPY_MODEL_017b1b6b6b6947778e5aec9d2bcbe339",
       "max": 46,
       "style": "IPY_MODEL_e2f4f2f1db7f4b5b92abb8038c7aa1d8",
       "value": 46
      }
     },
     "d9f8d86831d64f2ca58b703bbb4476cb": {
      "model_module": "@jupyter-widgets/base",
      "model_module_version": "2.0.0",
      "model_name": "LayoutModel",
      "state": {}
     },
     "db18fd6ad53a4b85bcf6bd666687e170": {
      "model_module": "@jupyter-widgets/controls",
      "model_module_version": "2.0.0",
      "model_name": "HTMLModel",
      "state": {
       "layout": "IPY_MODEL_9350b1430f454bfeaee20f309c686143",
       "style": "IPY_MODEL_2714ba374c7343169c91646b49eb2814",
       "value": " 862k/862k [00:00&lt;00:00, 4.19MB/s]"
      }
     },
     "dc49218c930b4aabb6da86010097ccf3": {
      "model_module": "@jupyter-widgets/controls",
      "model_module_version": "2.0.0",
      "model_name": "ProgressStyleModel",
      "state": {
       "description_width": ""
      }
     },
     "dce75c06160148e8939d7fb8573d2b1f": {
      "model_module": "@jupyter-widgets/controls",
      "model_module_version": "2.0.0",
      "model_name": "HTMLStyleModel",
      "state": {
       "description_width": "",
       "font_size": null,
       "text_color": null
      }
     },
     "dd657e7dea88482399d968c8175e0f30": {
      "model_module": "@jupyter-widgets/controls",
      "model_module_version": "2.0.0",
      "model_name": "HBoxModel",
      "state": {
       "children": [
        "IPY_MODEL_595d54d342b9423baba19ba2e99e6b2a",
        "IPY_MODEL_829b7a725eee4ce3ba155fde685a962a",
        "IPY_MODEL_d37ec2eec7484328b7b7ee6fae69c851"
       ],
       "layout": "IPY_MODEL_8b963ebf26f347a99065fdf0e8381a81"
      }
     },
     "e1d4d691f2904933a94a2062c0038945": {
      "model_module": "@jupyter-widgets/base",
      "model_module_version": "2.0.0",
      "model_name": "LayoutModel",
      "state": {}
     },
     "e21af128c87f4bbbb10cfce33aaae52f": {
      "model_module": "@jupyter-widgets/controls",
      "model_module_version": "2.0.0",
      "model_name": "HTMLStyleModel",
      "state": {
       "description_width": "",
       "font_size": null,
       "text_color": null
      }
     },
     "e25b565ba5b84f70b14a5a82bcfa1f74": {
      "model_module": "@jupyter-widgets/controls",
      "model_module_version": "2.0.0",
      "model_name": "HTMLStyleModel",
      "state": {
       "description_width": "",
       "font_size": null,
       "text_color": null
      }
     },
     "e2f4f2f1db7f4b5b92abb8038c7aa1d8": {
      "model_module": "@jupyter-widgets/controls",
      "model_module_version": "2.0.0",
      "model_name": "ProgressStyleModel",
      "state": {
       "description_width": ""
      }
     },
     "e60e9c8b99034659b58792de5c72463d": {
      "model_module": "@jupyter-widgets/base",
      "model_module_version": "2.0.0",
      "model_name": "LayoutModel",
      "state": {}
     },
     "e7d1f024db2c42faaffc4eecbcc98f60": {
      "model_module": "@jupyter-widgets/controls",
      "model_module_version": "2.0.0",
      "model_name": "ProgressStyleModel",
      "state": {
       "description_width": ""
      }
     },
     "e7fd07a228274069a6942b5fbd21fb72": {
      "model_module": "@jupyter-widgets/controls",
      "model_module_version": "2.0.0",
      "model_name": "ProgressStyleModel",
      "state": {
       "description_width": ""
      }
     },
     "e81d0a58810e4eee8a18781decbfff07": {
      "model_module": "@jupyter-widgets/controls",
      "model_module_version": "2.0.0",
      "model_name": "HBoxModel",
      "state": {
       "children": [
        "IPY_MODEL_8c392b9f3a0f4f35b54f56c202b4c3f7",
        "IPY_MODEL_b20579a8c34d4dfa8fc65a7af8b2314f",
        "IPY_MODEL_735b8b3aad9c4eab903bdb1a716e8188"
       ],
       "layout": "IPY_MODEL_b8dfd5839d984e1fbb98fe379d89d22c"
      }
     },
     "e83791f6fa1547f29621c8fab2cae530": {
      "model_module": "@jupyter-widgets/controls",
      "model_module_version": "2.0.0",
      "model_name": "ProgressStyleModel",
      "state": {
       "description_width": ""
      }
     },
     "e95f1c1e5a094447846bea43b83b7ceb": {
      "model_module": "@jupyter-widgets/controls",
      "model_module_version": "2.0.0",
      "model_name": "HTMLModel",
      "state": {
       "layout": "IPY_MODEL_d9f8d86831d64f2ca58b703bbb4476cb",
       "style": "IPY_MODEL_a1ebc11ecef847b69b251d50a244a5cb",
       "value": " 1/1 [00:00&lt;00:00, 56.04 examples/s]"
      }
     },
     "eae485ae85ed49a8b82e789e2955e63e": {
      "model_module": "@jupyter-widgets/controls",
      "model_module_version": "2.0.0",
      "model_name": "HBoxModel",
      "state": {
       "children": [
        "IPY_MODEL_1dbe1af660bb438f86c5d930709e5338",
        "IPY_MODEL_89763d6fbbe54e0db269b3fc838ae2f8",
        "IPY_MODEL_5752aa9717ff4839b16da3c2ee72f210"
       ],
       "layout": "IPY_MODEL_9748c5379ac6440b8d1ebdbf4f8b5c2d"
      }
     },
     "ebe04852c5ec407f8ff31cdb1a15668d": {
      "model_module": "@jupyter-widgets/controls",
      "model_module_version": "2.0.0",
      "model_name": "HTMLStyleModel",
      "state": {
       "description_width": "",
       "font_size": null,
       "text_color": null
      }
     },
     "ec21af6754f641b0be8b31ea5978cb60": {
      "model_module": "@jupyter-widgets/controls",
      "model_module_version": "2.0.0",
      "model_name": "HTMLModel",
      "state": {
       "layout": "IPY_MODEL_3ffa582ebacd47abba77e2e04cae4f5b",
       "style": "IPY_MODEL_4e0946d8ea824e8cacda40f91317767a",
       "value": "Map: 100%"
      }
     },
     "ef49c87a768c4e2fb8833b3b38896421": {
      "model_module": "@jupyter-widgets/base",
      "model_module_version": "2.0.0",
      "model_name": "LayoutModel",
      "state": {}
     },
     "f336967170bb4c07bd6eb92f3ffd8628": {
      "model_module": "@jupyter-widgets/base",
      "model_module_version": "2.0.0",
      "model_name": "LayoutModel",
      "state": {}
     },
     "f3da06518548446db4772035a6d8acf0": {
      "model_module": "@jupyter-widgets/controls",
      "model_module_version": "2.0.0",
      "model_name": "ProgressStyleModel",
      "state": {
       "description_width": ""
      }
     },
     "f440c946c9aa4b3796aaaa03106feddc": {
      "model_module": "@jupyter-widgets/controls",
      "model_module_version": "2.0.0",
      "model_name": "HBoxModel",
      "state": {
       "children": [
        "IPY_MODEL_ec21af6754f641b0be8b31ea5978cb60",
        "IPY_MODEL_353c50b50d5f4f5798cfdc2cb6f28dbc",
        "IPY_MODEL_78b0c187525645a68a6fff47cef82f47"
       ],
       "layout": "IPY_MODEL_ccea2808cada4e98904a81e293c417de"
      }
     },
     "f584d89e4cf24af884c73a58000760d2": {
      "model_module": "@jupyter-widgets/base",
      "model_module_version": "2.0.0",
      "model_name": "LayoutModel",
      "state": {}
     },
     "fc07a5fbb5c044afb4d268a14c7a2de9": {
      "model_module": "@jupyter-widgets/base",
      "model_module_version": "2.0.0",
      "model_name": "LayoutModel",
      "state": {}
     },
     "fc3135216f5944188b278110ccf28b27": {
      "model_module": "@jupyter-widgets/base",
      "model_module_version": "2.0.0",
      "model_name": "LayoutModel",
      "state": {}
     },
     "fd2c14594c13480b8d4416b2180021d8": {
      "model_module": "@jupyter-widgets/controls",
      "model_module_version": "2.0.0",
      "model_name": "FloatProgressModel",
      "state": {
       "bar_style": "success",
       "layout": "IPY_MODEL_b7371b865f09440d8076aa2f0165742b",
       "max": 1,
       "style": "IPY_MODEL_cc77c7a53a78481aa83c182a7081d995",
       "value": 1
      }
     },
     "ff0570a3620b4b12b8d575a2db0dd193": {
      "model_module": "@jupyter-widgets/base",
      "model_module_version": "2.0.0",
      "model_name": "LayoutModel",
      "state": {}
     }
    },
    "version_major": 2,
    "version_minor": 0
   }
  }
 },
 "nbformat": 4,
 "nbformat_minor": 5
}
