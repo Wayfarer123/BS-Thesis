{
 "cells": [
  {
   "cell_type": "code",
   "execution_count": 1,
   "id": "67512907-9ab2-418a-9cb8-09b297c10dc1",
   "metadata": {},
   "outputs": [],
   "source": [
    "import torch\n",
    "from PIL import Image\n",
    "from tqdm.auto import tqdm\n",
    "import numpy as np\n",
    "from matplotlib import pyplot as plt\n",
    "import seaborn as sns\n",
    "sns.set_style(\"darkgrid\")\n",
    "device = \"cuda\" if torch.cuda.is_available() else \"cpu\""
   ]
  },
  {
   "cell_type": "code",
   "execution_count": 2,
   "id": "578aa95b-7247-424b-ad57-ecbbecaa1fbd",
   "metadata": {},
   "outputs": [],
   "source": [
    "import json\n",
    "\n",
    "data_dir = \"data/polyvore/\"\n",
    "with open(f\"{data_dir}train_no_dup.json\", \"r\", encoding=\"utf-8\") as f:\n",
    "    outfits = json.load(f)"
   ]
  },
  {
   "cell_type": "code",
   "execution_count": 3,
   "id": "dba1233b-4544-4aae-8bb8-9bd7c1a0739e",
   "metadata": {
    "scrolled": true
   },
   "outputs": [
    {
     "data": {
      "text/plain": [
       "{'name': 'Casual',\n",
       " 'views': 8743,\n",
       " 'items': [{'index': 1,\n",
       "   'name': 'mock neck embroidery suede sweatshirt',\n",
       "   'price': 24.0,\n",
       "   'likes': 10,\n",
       "   'image': 'http://img2.polyvoreimg.com/cgi/img-thing?.out=jpg&size=m&tid=194508109',\n",
       "   'categoryid': 4495},\n",
       "  {'index': 2,\n",
       "   'name': 'luxe double zip hooded jacket',\n",
       "   'price': 150.0,\n",
       "   'likes': 2250,\n",
       "   'image': 'http://img2.polyvoreimg.com/cgi/img-thing?.out=jpg&size=m&tid=188778349',\n",
       "   'categoryid': 25},\n",
       "  {'index': 3,\n",
       "   'name': 'citizens humanity high rise rocket hem jean',\n",
       "   'price': 248.0,\n",
       "   'likes': 2437,\n",
       "   'image': 'http://img1.polyvoreimg.com/cgi/img-thing?.out=jpg&size=m&tid=188977857',\n",
       "   'categoryid': 27},\n",
       "  {'index': 4,\n",
       "   'name': 'suede tie short boots',\n",
       "   'price': 37.0,\n",
       "   'likes': 2,\n",
       "   'image': 'http://img1.polyvoreimg.com/cgi/img-thing?.out=jpg&size=m&tid=194942557',\n",
       "   'categoryid': 261},\n",
       "  {'index': 5,\n",
       "   'name': 'cloth travel school backpack',\n",
       "   'price': 22.0,\n",
       "   'likes': 2,\n",
       "   'image': 'http://img2.polyvoreimg.com/cgi/img-thing?.out=jpg&size=m&tid=194941874',\n",
       "   'categoryid': 259},\n",
       "  {'index': 6,\n",
       "   'name': '',\n",
       "   'price': 160.0,\n",
       "   'likes': 3,\n",
       "   'image': 'http://img1.polyvoreimg.com/cgi/img-thing?.out=jpg&size=m&tid=194578327',\n",
       "   'categoryid': 1967},\n",
       "  {'index': 7,\n",
       "   'name': 'polyvore',\n",
       "   'price': -1,\n",
       "   'likes': 51,\n",
       "   'image': 'http://img2.polyvoreimg.com/cgi/img-thing?.out=jpg&size=m&tid=190204630',\n",
       "   'categoryid': 2}],\n",
       " 'image': 'http://ak1.polyvoreimg.com/cgi/img-set/cid/214181831/id/El8a99fQ5hG4HrPFO4xqOQ/size/y.jpg',\n",
       " 'likes': 394,\n",
       " 'date': 'One month',\n",
       " 'set_url': 'http://www.polyvore.com/casual/set?id=214181831',\n",
       " 'set_id': '214181831',\n",
       " 'desc': 'A fashion look from January 2017 by beebeely-look featuring Fuji, Citizens of Humanity, casual, casualoutfit, Packandgo, winterjacket and gearbest'}"
      ]
     },
     "execution_count": 3,
     "metadata": {},
     "output_type": "execute_result"
    }
   ],
   "source": [
    "outfits[0]"
   ]
  },
  {
   "cell_type": "code",
   "execution_count": 4,
   "id": "182b2a75-f4bc-49e1-a303-7d11fde7d524",
   "metadata": {
    "scrolled": true
   },
   "outputs": [],
   "source": [
    "import os\n",
    "out_dir = \"data/Re-PolyVore/all_together/\"\n",
    "# in_dirs = os.listdir(\"data/Re-PolyVore\")\n",
    "\n",
    "# for dir in tqdm(in_dirs):\n",
    "#     if dir != \"all_together\":\n",
    "#         files = os.listdir(f\"data/Re-PolyVore/{dir}\")\n",
    "#         for file in tqdm(files, leave=False):\n",
    "#             if \".jpg\" in file:\n",
    "#                 img = Image.open(f\"data/Re-PolyVore/{dir}/{file}\")\n",
    "#                 img.save(f\"{out_dir}{file}\")"
   ]
  },
  {
   "cell_type": "code",
   "execution_count": 5,
   "id": "806d4dcd-42f3-42bf-911a-2667fd53c9b8",
   "metadata": {},
   "outputs": [
    {
     "data": {
      "application/vnd.jupyter.widget-view+json": {
       "model_id": "6b34d537d2c54a7295f58bad14c979a8",
       "version_major": 2,
       "version_minor": 0
      },
      "text/plain": [
       "  0%|          | 0/126928 [00:00<?, ?it/s]"
      ]
     },
     "metadata": {},
     "output_type": "display_data"
    }
   ],
   "source": [
    "outfits_dict = {}\n",
    "for i in range(len(outfits)):\n",
    "    outfits_dict.update({outfits[i][\"set_id\"]: {\"ind\": i}})\n",
    "\n",
    "\n",
    "for item in tqdm(os.listdir(out_dir)):\n",
    "    try:\n",
    "        outfit, suff = item.split(\"_\", 1)\n",
    "        num = int(suff.split(\".\")[0])\n",
    "        if outfits_dict.get(outfit) is not None:\n",
    "            item_dict = outfits[outfits_dict[outfit][\"ind\"]][\"items\"][num-1]\n",
    "            if outfits_dict[outfit].get(\"items\") is None:\n",
    "                outfits_dict[outfit].update({\"items\": [item_dict | {\"path\": out_dir+item}]})\n",
    "            else:\n",
    "                outfits_dict[outfit][\"items\"].append(item_dict | {\"path\": out_dir+item})\n",
    "    except: continue"
   ]
  },
  {
   "cell_type": "code",
   "execution_count": 6,
   "id": "b72619a4-6b8b-46d5-9f4a-4f2fc8f31b80",
   "metadata": {},
   "outputs": [
    {
     "data": {
      "image/png": "[encoded data removed]",
      "text/plain": [
       "<Figure size 640x480 with 1 Axes>"
      ]
     },
     "metadata": {},
     "output_type": "display_data"
    }
   ],
   "source": [
    "o_len = []\n",
    "for _, O in outfits_dict.items():\n",
    "    if O.get(\"items\") is not None:\n",
    "        o_len.append(len(O[\"items\"]))\n",
    "    else:\n",
    "        o_len.append(0)\n",
    "\n",
    "plt.hist(o_len)\n",
    "plt.show()"
   ]
  },
  {
   "cell_type": "code",
   "execution_count": 7,
   "id": "13f33f2d-4da6-4403-822b-d9afe6fcd17b",
   "metadata": {},
   "outputs": [],
   "source": [
    "# image = Image.open(\"data/Re-PolyVore/all_together/100167523_10.jpg\")\n",
    "# image.show()"
   ]
  },
  {
   "cell_type": "code",
   "execution_count": 8,
   "id": "9148985e-7593-4a4f-8cb4-756486f913e5",
   "metadata": {},
   "outputs": [],
   "source": [
    "# with open(\"data/Re-PolyVore_encoded_with_FashionClip.json\", \"w\", encoding=\"utf-8\") as f:\n",
    "#     json.dump(outfits_dict, f, indent=4)"
   ]
  },
  {
   "cell_type": "code",
   "execution_count": 9,
   "id": "2102a7ce-8100-4c19-a45f-bc24f1c01ce6",
   "metadata": {},
   "outputs": [],
   "source": [
    "# import yaml \n",
    "# with open(\"data/Re-PolyVore_encoded_with_FashionClip.json\", \"r\", encoding=\"utf-8\") as f:\n",
    "#     test_dict = yaml.safe_load(f)"
   ]
  },
  {
   "cell_type": "code",
   "execution_count": 10,
   "id": "51328571-b8ad-46ee-b3ad-b4b556270358",
   "metadata": {},
   "outputs": [],
   "source": [
    "from fashion_clip.fashion_clip import FashionCLIP\n",
    "model = FashionCLIP('fashion-clip')"
   ]
  },
  {
   "cell_type": "code",
   "execution_count": 11,
   "id": "92907c6a-51ee-498f-9458-e0adb5e2ce4e",
   "metadata": {},
   "outputs": [],
   "source": [
    "with open(\"data/Re-PolyVore_encoded_with_FashionClip.json\", \"r\", encoding=\"utf-8\") as f:\n",
    "    outfits_dict = json.load(f)"
   ]
  },
  {
   "cell_type": "code",
   "execution_count": null,
   "id": "a2042f9e-4b37-4462-9f5a-58db0c79076c",
   "metadata": {
    "scrolled": true
   },
   "outputs": [
    {
     "data": {
      "application/vnd.jupyter.widget-view+json": {
       "model_id": "702d4499db884903bde5d0838c24b194",
       "version_major": 2,
       "version_minor": 0
      },
      "text/plain": [
       "  0%|          | 0/17316 [00:00<?, ?it/s]"
      ]
     },
     "metadata": {},
     "output_type": "display_data"
    }
   ],
   "source": [
    "with torch.no_grad(): \n",
    "    \n",
    "    # with open(\"data/Re-PolyVore_encoded_with_FashionClip.json\", \"r\", encoding=\"utf-8\") as f:\n",
    "    #     outfits_dict = json.load(f)\n",
    "        \n",
    "    for ind, (id, outfit) in enumerate(tqdm(outfits_dict.items())):\n",
    "        if outfit.get(\"processed\") is None:\n",
    "            if outfit.get(\"items\") is not None:\n",
    "                img_paths = [item[\"path\"] for item in outfit[\"items\"]]\n",
    "                texts = [item['name'] for item in outfit[\"items\"]]\n",
    "                batch_size = len(outfit[\"items\"])\n",
    "                img_features = [i.tolist() for i in model.encode_images(img_paths, batch_size=batch_size)]\n",
    "                text_features = [t.tolist() for t in model.encode_text(texts, batch_size=batch_size)]\n",
    "                for item, i, t in zip(outfit[\"items\"], img_features, text_features):\n",
    "                    # item[\"image_features\"] = model.encode_images([item[\"path\"]], batch_size=1)[0]\n",
    "                    # item[\"text_features\"] = model.encode_text([item[\"image\"]], batch_size=1)[0]\n",
    "                    item[\"image_features\"] = i\n",
    "                    item[\"text_features\"] = t\n",
    "                outfit[\"processed\"] = \"True\"\n",
    "        if (ind + 1) % 300 == 0:  \n",
    "            with open(\"data/Re-PolyVore_encoded_with_FashionClip.json\", \"w\", encoding=\"utf-8\") as f:\n",
    "                json.dump(outfits_dict, f, indent=4)\n",
    "                \n",
    "    json.dump(outfits_dict, f, indent=4)"
   ]
  },
  {
   "cell_type": "code",
   "execution_count": null,
   "id": "4295ebe6-8f15-4635-b0c8-79c607c0c6be",
   "metadata": {},
   "outputs": [],
   "source": []
  }
 ],
 "metadata": {
  "kernelspec": {
   "display_name": "Python 3 (ipykernel)",
   "language": "python",
   "name": "python3"
  },
  "language_info": {
   "codemirror_mode": {
    "name": "ipython",
    "version": 3
   },
   "file_extension": ".py",
   "mimetype": "text/x-python",
   "name": "python",
   "nbconvert_exporter": "python",
   "pygments_lexer": "ipython3",
   "version": "3.10.13"
  },
  "widgets": {
   "application/vnd.jupyter.widget-state+json": {
    "state": {
     "0167da6c0fbb4664aa5d1149d0192f93": {
      "model_module": "@jupyter-widgets/controls",
      "model_module_version": "2.0.0",
      "model_name": "HTMLModel",
      "state": {
       "layout": "IPY_MODEL_bfe60efd8bbc4140ac354bbe70a98c56",
       "style": "IPY_MODEL_70c472926d68466a95d1beb4c7c9bafb",
       "value": "  2%"
      }
     },
     "19bd2ddfe1764a40a437f93547fb3594": {
      "model_module": "@jupyter-widgets/controls",
      "model_module_version": "2.0.0",
      "model_name": "ProgressStyleModel",
      "state": {
       "description_width": ""
      }
     },
     "2681534649bf42c09d00a1360e993822": {
      "model_module": "@jupyter-widgets/base",
      "model_module_version": "2.0.0",
      "model_name": "LayoutModel",
      "state": {}
     },
     "2b57aec0fdf74edfae338b702c96016f": {
      "model_module": "@jupyter-widgets/base",
      "model_module_version": "2.0.0",
      "model_name": "LayoutModel",
      "state": {}
     },
     "42587e786a914dd78fef0c495d96890d": {
      "model_module": "@jupyter-widgets/controls",
      "model_module_version": "2.0.0",
      "model_name": "HTMLModel",
      "state": {
       "layout": "IPY_MODEL_2b57aec0fdf74edfae338b702c96016f",
       "style": "IPY_MODEL_f3682fa613e9424e88558db04c4b4e06",
       "value": "100%"
      }
     },
     "566101170a5b4a80af312a2273261596": {
      "model_module": "@jupyter-widgets/controls",
      "model_module_version": "2.0.0",
      "model_name": "HTMLModel",
      "state": {
       "layout": "IPY_MODEL_2681534649bf42c09d00a1360e993822",
       "style": "IPY_MODEL_cccb9171caef4806aaee4ba89dbeab48",
       "value": " 300/17316 [00:56&lt;53:45,  5.28it/s]"
      }
     },
     "6589b5b35a384e9c84845438d50c5316": {
      "model_module": "@jupyter-widgets/base",
      "model_module_version": "2.0.0",
      "model_name": "LayoutModel",
      "state": {}
     },
     "6b34d537d2c54a7295f58bad14c979a8": {
      "model_module": "@jupyter-widgets/controls",
      "model_module_version": "2.0.0",
      "model_name": "HBoxModel",
      "state": {
       "children": [
        "IPY_MODEL_42587e786a914dd78fef0c495d96890d",
        "IPY_MODEL_aa52f67cd44841e6870073709cc075a6",
        "IPY_MODEL_ce7d596698ff4da6a4604e8080cf2b95"
       ],
       "layout": "IPY_MODEL_eaf465b3c04241caa93c54e86db0057b"
      }
     },
     "702d4499db884903bde5d0838c24b194": {
      "model_module": "@jupyter-widgets/controls",
      "model_module_version": "2.0.0",
      "model_name": "HBoxModel",
      "state": {
       "children": [
        "IPY_MODEL_0167da6c0fbb4664aa5d1149d0192f93",
        "IPY_MODEL_777aeba955944df5951187cd39cd610f",
        "IPY_MODEL_566101170a5b4a80af312a2273261596"
       ],
       "layout": "IPY_MODEL_ea92a0fbe9b34ef08d9c4bedb0d2e403"
      }
     },
     "70c472926d68466a95d1beb4c7c9bafb": {
      "model_module": "@jupyter-widgets/controls",
      "model_module_version": "2.0.0",
      "model_name": "HTMLStyleModel",
      "state": {
       "description_width": "",
       "font_size": null,
       "text_color": null
      }
     },
     "777aeba955944df5951187cd39cd610f": {
      "model_module": "@jupyter-widgets/controls",
      "model_module_version": "2.0.0",
      "model_name": "FloatProgressModel",
      "state": {
       "layout": "IPY_MODEL_d5a4a503722f4a54a934cc4cc1150948",
       "max": 17316,
       "style": "IPY_MODEL_ca45fa9bc3dc48d9860eb449060986a6",
       "value": 300
      }
     },
     "aa52f67cd44841e6870073709cc075a6": {
      "model_module": "@jupyter-widgets/controls",
      "model_module_version": "2.0.0",
      "model_name": "FloatProgressModel",
      "state": {
       "bar_style": "success",
       "layout": "IPY_MODEL_c48f1ca73f6d452191bad2fc11c7ad7b",
       "max": 126928,
       "style": "IPY_MODEL_19bd2ddfe1764a40a437f93547fb3594",
       "value": 126928
      }
     },
     "b7e2acce35cc44d194a235c2f1cd3919": {
      "model_module": "@jupyter-widgets/controls",
      "model_module_version": "2.0.0",
      "model_name": "HTMLStyleModel",
      "state": {
       "description_width": "",
       "font_size": null,
       "text_color": null
      }
     },
     "bfe60efd8bbc4140ac354bbe70a98c56": {
      "model_module": "@jupyter-widgets/base",
      "model_module_version": "2.0.0",
      "model_name": "LayoutModel",
      "state": {}
     },
     "c48f1ca73f6d452191bad2fc11c7ad7b": {
      "model_module": "@jupyter-widgets/base",
      "model_module_version": "2.0.0",
      "model_name": "LayoutModel",
      "state": {}
     },
     "ca45fa9bc3dc48d9860eb449060986a6": {
      "model_module": "@jupyter-widgets/controls",
      "model_module_version": "2.0.0",
      "model_name": "ProgressStyleModel",
      "state": {
       "description_width": ""
      }
     },
     "cccb9171caef4806aaee4ba89dbeab48": {
      "model_module": "@jupyter-widgets/controls",
      "model_module_version": "2.0.0",
      "model_name": "HTMLStyleModel",
      "state": {
       "description_width": "",
       "font_size": null,
       "text_color": null
      }
     },
     "ce7d596698ff4da6a4604e8080cf2b95": {
      "model_module": "@jupyter-widgets/controls",
      "model_module_version": "2.0.0",
      "model_name": "HTMLModel",
      "state": {
       "layout": "IPY_MODEL_6589b5b35a384e9c84845438d50c5316",
       "style": "IPY_MODEL_b7e2acce35cc44d194a235c2f1cd3919",
       "value": " 126928/126928 [00:00&lt;00:00, 415125.60it/s]"
      }
     },
     "d5a4a503722f4a54a934cc4cc1150948": {
      "model_module": "@jupyter-widgets/base",
      "model_module_version": "2.0.0",
      "model_name": "LayoutModel",
      "state": {}
     },
     "ea92a0fbe9b34ef08d9c4bedb0d2e403": {
      "model_module": "@jupyter-widgets/base",
      "model_module_version": "2.0.0",
      "model_name": "LayoutModel",
      "state": {}
     },
     "eaf465b3c04241caa93c54e86db0057b": {
      "model_module": "@jupyter-widgets/base",
      "model_module_version": "2.0.0",
      "model_name": "LayoutModel",
      "state": {}
     },
     "f3682fa613e9424e88558db04c4b4e06": {
      "model_module": "@jupyter-widgets/controls",
      "model_module_version": "2.0.0",
      "model_name": "HTMLStyleModel",
      "state": {
       "description_width": "",
       "font_size": null,
       "text_color": null
      }
     }
    },
    "version_major": 2,
    "version_minor": 0
   }
  }
 },
 "nbformat": 4,
 "nbformat_minor": 5
}
